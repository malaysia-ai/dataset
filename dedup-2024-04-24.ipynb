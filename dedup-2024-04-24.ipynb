{
 "cells": [
  {
   "cell_type": "code",
   "execution_count": 1,
   "id": "464e9b20",
   "metadata": {},
   "outputs": [],
   "source": [
    "# !wget https://huggingface.co/datasets/radenmuaz/masabih.org/resolve/main/mishkat_al_masabih.jsonl\n",
    "# !wget https://huggingface.co/datasets/hazmannaim/umno-online.my/resolve/main/article_data.json\n",
    "# !wget https://huggingface.co/datasets/rulkimi/tamil-oneindia/resolve/main/tamil-oneindia.json\n",
    "# !wget https://huggingface.co/datasets/izardy/malaysia-elelong/resolve/main/train.csv\n",
    "\n",
    "# !wget https://huggingface.co/datasets/Ammar-Azman/crawl-lirik-lagu-dot-net/resolve/main/lirik_lagu_dotnet_1_1000.jsonl\n",
    "# !wget https://huggingface.co/datasets/Ammar-Azman/crawl-lirik-lagu-dot-net/resolve/main/lirik_lagu_dotnet_1000_end.jsonl\n",
    "# !wget https://huggingface.co/datasets/aazwan/upsi_ejournal_of_music/raw/main/journal_with_full_text.json\n",
    "# !wget https://huggingface.co/datasets/haziqzikry/foodie-my-food/resolve/main/foodie-my-food.json\n",
    "# !wget https://huggingface.co/datasets/aazwan/malaysian_journal_of_analytical_science/raw/main/data.json -O malaysian_journal_of_analytical_science.json\n",
    "# !wget https://huggingface.co/datasets/fattahharith/malaysian-journal-of-computing/raw/main/mjoc_pdf_text_extracted.json\n",
    "# !wget https://huggingface.co/datasets/mesolitica/crawl-my-website/resolve/main/muftiwp.gov.my.jsonl\n",
    "# !wget https://huggingface.co/datasets/mesolitica/crawl-my-website/resolve/main/dermatology.org.my.jsonl\n",
    "# !wget https://huggingface.co/datasets/mesolitica/crawl-my-website/raw/main/e-mjm.org.jsonl\n",
    "    \n",
    "# !wget https://huggingface.co/datasets/mesolitica/crawl-my-website/resolve/main/myjms.mohe.gov.my.jsonl\n",
    "# !wget https://huggingface.co/datasets/mesolitica/crawl-my-website/resolve/main/pgm-my.org.jsonl\n",
    "# !wget https://huggingface.co/datasets/mesolitica/crawl-my-website/resolve/main/newera.edu.my.jsonl\n",
    "# !wget https://huggingface.co/datasets/mesolitica/crawl-my-website/resolve/main/msss.com.my.jsonl\n",
    "# !wget https://huggingface.co/datasets/mesolitica/crawl-my-website/resolve/main/mps.org.my.jsonl\n",
    "# !wget https://huggingface.co/datasets/mesolitica/crawl-my-website/resolve/main/morthoj.org.jsonl\n",
    "# !wget https://huggingface.co/datasets/mesolitica/crawl-my-website/resolve/main/mjpath.org.my.jsonl\n",
    "    \n",
    "# !wget https://huggingface.co/datasets/syafie-nzm/crawl-jurnaldbp/resolve/main/jurnaldbp.jsonl\n",
    "# !wget https://huggingface.co/datasets/mesolitica/crawl-my-website/resolve/main/mjpharm.org.jsonl\n",
    "# !wget https://huggingface.co/datasets/mesolitica/crawl-my-website/resolve/main/myjgeosc.com.jsonl\n",
    "# !wget https://huggingface.co/datasets/mesolitica/crawl-my-website/resolve/main/myjsustainagri.com.jsonl\n",
    "# !wget https://huggingface.co/datasets/mesolitica/crawl-my-website/resolve/main/akademisains.gov.my.jsonl\n",
    "# !wget https://huggingface.co/datasets/mesolitica/crawl-my-website/resolve/main/crossref-pdf.jsonl\n",
    "# !wget https://huggingface.co/datasets/mesolitica/crawl-my-website/resolve/main/Kamus_Dewan_Bahasa_Edisi_Keempat_pdf.pdf\n",
    "# !wget https://huggingface.co/datasets/mesolitica/crawl-my-website/resolve/main/melayu-pdf.jsonl\n",
    "# !wget https://huggingface.co/datasets/mesolitica/crawl-my-website/resolve/main/majcafe.com.jsonl\n",
    "# !wget https://huggingface.co/datasets/mesolitica/crawl-my-website/resolve/main/myjms.mohe.gov.my.jsonl\n",
    "# !wget https://huggingface.co/datasets/mesolitica/crawl-my-website/resolve/main/newera.edu.my.jsonl\n",
    "# !wget https://huggingface.co/datasets/hlmshkr/maljnutr-pdfs/resolve/main/maljnutr-pdf-extracted.json -O maljnutr.json\n",
    "# !wget https://huggingface.co/datasets/mesolitica/crawl-my-website/resolve/main/nutriweb.org.my.jsonl\n",
    "# !wget https://huggingface.co/datasets/fattahharith/sejarah-stpm/raw/main/sejarahstpm-text-extracted.json\n",
    "# !wget https://huggingface.co/datasets/fattahharith/malaysian-journal-of-computing/resolve/main/mjoc_pdf_text_extracted.json"
   ]
  },
  {
   "cell_type": "code",
   "execution_count": 2,
   "id": "70b3eee8",
   "metadata": {},
   "outputs": [],
   "source": [
    "from glob import glob\n",
    "from tqdm import tqdm\n",
    "import json\n",
    "import os\n",
    "import numpy as np\n",
    "from transformers import AutoTokenizer\n",
    "from streaming import MDSWriter\n",
    "from tqdm import tqdm\n",
    "import msgspec\n",
    "import json\n",
    "import re\n",
    "\n",
    "http_errors = [\n",
    "        \"400 Bad Request\", \"401 Unauthorized\", \"402 Payment Required\", \"403 Forbidden\", \"404 Not Found\",\n",
    "        \"405 Method Not Allowed\", \"406 Not Acceptable\", \"407 Proxy Authentication Required\", \"408 Request Timeout\",\n",
    "        \"409 Conflict\", \"410 Gone\", \"411 Length Required\", \"412 Precondition Failed\", \"413 Payload Too Large\",\n",
    "        \"414 URI Too Long\", \"415 Unsupported Media Type\", \"416 Range Not Satisfiable\", \"417 Expectation Failed\",\n",
    "        \"418 I'm a teapot\", \"421 Misdirected Request\", \"422 Unprocessable Entity\", \"423 Locked\", \"424 Failed Dependency\",\n",
    "        \"425 Too Early\", \"426 Upgrade Required\", \"428 Precondition Required\", \"429 Too Many Requests\",\n",
    "        \"431 Request Header Fields Too Large\", \"451 Unavailable For Legal Reasons\", \"500 Internal Server Error\",\n",
    "        \"501 Not Implemented\", \"502 Bad Gateway\", \"503 Service Unavailable\", \"504 Gateway Timeout\",\n",
    "        \"505 HTTP Version Not Supported\", \"506 Variant Also Negotiates\", \"507 Insufficient Storage\",\n",
    "        \"508 Loop Detected\", \"510 Not Extended\", \"511 Network Authentication Required\"\n",
    "    ]\n",
    "\n",
    "rejected = [\n",
    "    'Internal Server Error',\n",
    "    '__NOEDITSECTION__',\n",
    "    'enter your username and password',\n",
    "    'forgotten your password',\n",
    "    'cookies enabled',\n",
    "    'enable JavaScript in your browser.',\n",
    "    'The page cannot be displayed',\n",
    "    'site or edit the error_page',\n",
    "    'Request unsuccessful',\n",
    "]\n",
    "\n",
    "rejected.extend(http_errors)\n",
    "\n",
    "def replace_multiple(input_string, pattern =r\"\\s{6,}\", replace = '   '):\n",
    "    return re.sub(pattern, replace, input_string)\n",
    "\n",
    "def replace(string):\n",
    "    string = replace_multiple(string.replace('…', '.'))\n",
    "    string = replace_multiple(string, pattern = r\"\\.{6,}\", replace = '...')\n",
    "    return string\n",
    "\n",
    "def reject(string):\n",
    "    if any([r in string for r in rejected]):\n",
    "        return True\n",
    "    return False"
   ]
  },
  {
   "cell_type": "code",
   "execution_count": 3,
   "id": "24c5a6bc",
   "metadata": {},
   "outputs": [],
   "source": [
    "files = [\n",
    "    'lirik_lagu_dotnet_1000_end.jsonl',\n",
    "    'lirik_lagu_dotnet_1_1000.jsonl'\n",
    "]\n",
    "\n",
    "with open('lirik_lagu_dotnet.dedup.jsonl', 'w') as fopen_l:\n",
    "    for f in files:\n",
    "        with open(f) as fopen:\n",
    "            for l in fopen:\n",
    "                l = json.loads(l)\n",
    "                t = []\n",
    "                for k, v in l.items():\n",
    "                    if len(v) > 1:\n",
    "                        v = replace(v)\n",
    "                        t.append(f\"{k.replace('_', ' ')}: {v.strip()}\")\n",
    "\n",
    "                t = '\\n'.join(t)\n",
    "                fopen_l.write(f'{json.dumps(t)}\\n')"
   ]
  },
  {
   "cell_type": "code",
   "execution_count": 4,
   "id": "90c9e070",
   "metadata": {},
   "outputs": [],
   "source": [
    "with open('upsi_ejournal_of_music.dedup.jsonl', 'w') as fopen_l:\n",
    "    with open('journal_with_full_text.json') as fopen:\n",
    "        d = json.load(fopen)\n",
    "        \n",
    "    for l in d:\n",
    "        t = []\n",
    "        for k, v in l.items():\n",
    "            if isinstance(v, list):\n",
    "                v = '\\n'.join(v)\n",
    "            if isinstance(v, str):\n",
    "                v = replace(v)\n",
    "            t.append(f\"{k.replace('_', ' ')}: {v}\".strip())\n",
    "\n",
    "        t = '\\n'.join(t)\n",
    "        fopen_l.write(f'{json.dumps(t)}\\n')"
   ]
  },
  {
   "cell_type": "code",
   "execution_count": 5,
   "id": "90fae232",
   "metadata": {},
   "outputs": [],
   "source": [
    "with open('foodie-my-food.dedup.jsonl', 'w') as fopen_l:\n",
    "    with open('foodie-my-food.json') as fopen:\n",
    "        d = json.load(fopen)\n",
    "        \n",
    "    for l in d:\n",
    "        t = []\n",
    "        for k, v in l.items():\n",
    "            if isinstance(v, list):\n",
    "                v = '\\n'.join(v)\n",
    "            if isinstance(v, str):\n",
    "                v = replace(v)\n",
    "            t.append(f\"{k.replace('_', ' ')}: {v}\".strip())\n",
    "\n",
    "        t = '\\n'.join(t)\n",
    "        fopen_l.write(f'{json.dumps(t)}\\n')"
   ]
  },
  {
   "cell_type": "code",
   "execution_count": 6,
   "id": "e5c3725d",
   "metadata": {},
   "outputs": [],
   "source": [
    "with open('malaysian_journal_of_analytical_science.dedup.jsonl', 'w') as fopen_l:\n",
    "    with open('malaysian_journal_of_analytical_science.json') as fopen:\n",
    "        d = json.load(fopen)\n",
    "        \n",
    "    for l in d:\n",
    "        l = json.loads(l)\n",
    "        t = []\n",
    "        for k, v in l.items():\n",
    "            if isinstance(v, list):\n",
    "                v = '\\n'.join(v)\n",
    "            if isinstance(v, str):\n",
    "                v = replace(v)\n",
    "            t.append(f\"{k.replace('_', ' ')}: {v}\".strip())\n",
    "\n",
    "        t = '\\n'.join(t)\n",
    "        fopen_l.write(f'{json.dumps(t)}\\n')"
   ]
  },
  {
   "cell_type": "code",
   "execution_count": 7,
   "id": "0fe3238c",
   "metadata": {},
   "outputs": [],
   "source": [
    "with open('malaysian-journal-of-computing.dedup.jsonl', 'w') as fopen_l:\n",
    "    with open('mjoc_pdf_text_extracted.json') as fopen:\n",
    "        for l in fopen:\n",
    "            l = json.loads(l)\n",
    "            t = []\n",
    "            for k, v in l.items():\n",
    "                if isinstance(v, list):\n",
    "                    v = '\\n'.join(v)\n",
    "                if isinstance(v, str):\n",
    "                    v = replace(v)\n",
    "                    if len(v) < 3:\n",
    "                        continue\n",
    "                t.append(f\"{k.replace('_', ' ')}: {v}\".strip())\n",
    "\n",
    "            t = '\\n'.join(t)\n",
    "            fopen_l.write(f'{json.dumps(t)}\\n')"
   ]
  },
  {
   "cell_type": "code",
   "execution_count": 8,
   "id": "7a60f4d3",
   "metadata": {},
   "outputs": [],
   "source": [
    "with open('mishkat_al_masabih.dedup.jsonl', 'w') as fopen_l:\n",
    "    with open('mishkat_al_masabih.jsonl') as fopen:\n",
    "        for l in fopen:\n",
    "            l = json.loads(l)\n",
    "            t = []\n",
    "            for k, v in l.items():\n",
    "                if len(v) > 1:\n",
    "                    v = replace(v)\n",
    "                    t.append(f\"{k.replace('_', ' ')}: {v.strip()}\")\n",
    "            \n",
    "            t = '\\n'.join(t)\n",
    "            fopen_l.write(f'{json.dumps(t)}\\n')"
   ]
  },
  {
   "cell_type": "code",
   "execution_count": 9,
   "id": "3485fbb0",
   "metadata": {},
   "outputs": [],
   "source": [
    "with open('umno-online.my.dedup.jsonl', 'w') as fopen_l:\n",
    "    with open('article_data.json') as fopen:\n",
    "        d = json.load(fopen)\n",
    "    for d_ in d:\n",
    "        t = []\n",
    "        for k, v in d_.items():\n",
    "            if isinstance(v, list):\n",
    "                v = '\\n'.join(v)\n",
    "            v = replace(v)\n",
    "            t.append(f\"{k.replace('_', ' ')}: {v.strip()}\")\n",
    "        t = '\\n'.join(t)\n",
    "        fopen_l.write(f'{json.dumps(t)}\\n')"
   ]
  },
  {
   "cell_type": "code",
   "execution_count": 10,
   "id": "4e6e21c0",
   "metadata": {},
   "outputs": [],
   "source": [
    "with open('tamil-oneindia.dedup.jsonl', 'w') as fopen_l:\n",
    "    with open('tamil-oneindia.json') as fopen:\n",
    "        d = json.load(fopen)\n",
    "    for d_ in d:\n",
    "        t = []\n",
    "        for k, v in d_.items():\n",
    "            if isinstance(v, list):\n",
    "                v = '\\n'.join(v)\n",
    "            v = replace(v)\n",
    "            t.append(f\"{k.replace('_', ' ')}: {v.strip()}\")\n",
    "        t = '\\n'.join(t)\n",
    "        fopen_l.write(f'{json.dumps(t)}\\n')"
   ]
  },
  {
   "cell_type": "code",
   "execution_count": 11,
   "id": "4ba2d179",
   "metadata": {},
   "outputs": [],
   "source": [
    "import pandas as pd\n",
    "\n",
    "df = pd.read_csv('train.csv').iloc[:,:-2]\n",
    "df = df.to_dict('records')\n",
    "\n",
    "with open('malaysia-elelong.dedup.jsonl', 'w') as fopen_l:\n",
    "    for d_ in df:\n",
    "        t = []\n",
    "        for k, v in d_.items():\n",
    "            if isinstance(v, list):\n",
    "                v = '\\n'.join(v)\n",
    "            if isinstance(v, str):\n",
    "                v = replace(v)\n",
    "            t.append(f\"{k.replace('_', ' ')}: {v}\".strip())\n",
    "        t = '\\n'.join(t)\n",
    "        fopen_l.write(f'{json.dumps(t)}\\n')"
   ]
  },
  {
   "cell_type": "code",
   "execution_count": 12,
   "id": "c3268d2a",
   "metadata": {},
   "outputs": [],
   "source": [
    "with open('sejarahstpm.dedup.jsonl', 'w') as fopen_l:\n",
    "    with open('sejarahstpm-text-extracted.json') as fopen:\n",
    "        for l in fopen:\n",
    "            l = json.loads(l)\n",
    "            t = []\n",
    "            for k, v in l.items():\n",
    "                if isinstance(v, list):\n",
    "                    v = '\\n'.join(v)\n",
    "                if isinstance(v, str):\n",
    "                    v = replace(v)\n",
    "                    if len(v) < 3:\n",
    "                        continue\n",
    "                t.append(f\"{k.replace('_', ' ')}: {v}\".strip())\n",
    "\n",
    "            t = '\\n'.join(t)\n",
    "            fopen_l.write(f'{json.dumps(t)}\\n')"
   ]
  },
  {
   "cell_type": "code",
   "execution_count": 13,
   "id": "d1e4287e",
   "metadata": {},
   "outputs": [],
   "source": [
    "with open('maljnutr.dedup.jsonl', 'w') as fopen_l:\n",
    "    with open('maljnutr.json') as fopen:\n",
    "        d = json.load(fopen)\n",
    "        for l in d:\n",
    "            t = []\n",
    "            for k, v in l.items():\n",
    "                if isinstance(v, list):\n",
    "                    v = '\\n'.join(v)\n",
    "                if isinstance(v, str):\n",
    "                    v = replace(v)\n",
    "                    if len(v) < 3:\n",
    "                        continue\n",
    "                t.append(f\"{k.replace('_', ' ')}: {v}\".strip())\n",
    "\n",
    "            t = '\\n'.join(t)\n",
    "            fopen_l.write(f'{json.dumps(t)}\\n')"
   ]
  },
  {
   "cell_type": "code",
   "execution_count": 14,
   "id": "f79dc592",
   "metadata": {},
   "outputs": [],
   "source": [
    "with open('muftiwp.gov.my.dedup.jsonl', 'w') as fopen_l:\n",
    "    with open('muftiwp.gov.my.jsonl') as fopen:\n",
    "        for l in fopen:\n",
    "            l = json.loads(l)\n",
    "            t = []\n",
    "            for k, v in l.items():\n",
    "                if isinstance(v, list):\n",
    "                    v = '\\n'.join(v)\n",
    "                if isinstance(v, str):\n",
    "                    v = replace(v)\n",
    "                    if len(v) < 3:\n",
    "                        continue\n",
    "                t.append(f\"{k.replace('_', ' ')}: {v}\".strip())\n",
    "\n",
    "            t = '\\n'.join(t)\n",
    "            fopen_l.write(f'{json.dumps(t)}\\n')"
   ]
  },
  {
   "cell_type": "code",
   "execution_count": 15,
   "id": "c1c52c08",
   "metadata": {
    "scrolled": true
   },
   "outputs": [
    {
     "name": "stdout",
     "output_type": "stream",
     "text": [
      "mjpath.org.my.dedup.jsonl mjpath.org.my.jsonl\n",
      "morthoj.org.dedup.jsonl morthoj.org.jsonl\n",
      "mps.org.my.dedup.jsonl mps.org.my.jsonl\n",
      "msss.com.my.dedup.jsonl msss.com.my.jsonl\n",
      "pgm-my.org.dedup.jsonl pgm-my.org.jsonl\n",
      "e-mjm.org.dedup.jsonl e-mjm.org.jsonl\n",
      "dermatology.org.my.dedup.jsonl dermatology.org.my.jsonl\n",
      "nutriweb.org.my.dedup.jsonl nutriweb.org.my.jsonl\n",
      "newera.edu.my.dedup.jsonl newera.edu.my.jsonl\n",
      "myjms.mohe.gov.my.dedup.jsonl myjms.mohe.gov.my.jsonl\n",
      "majcafe.com.dedup.jsonl majcafe.com.jsonl\n",
      "melayu-pdf.dedup.jsonl melayu-pdf.jsonl\n",
      "crossref-pdf.dedup.jsonl crossref-pdf.jsonl\n",
      "akademisains.gov.my.dedup.jsonl akademisains.gov.my.jsonl\n",
      "myjsustainagri.com.dedup.jsonl myjsustainagri.com.jsonl\n",
      "myjgeosc.com.dedup.jsonl myjgeosc.com.jsonl\n",
      "mjpharm.org.dedup.jsonl mjpharm.org.jsonl\n",
      "jurnaldbp.dedup.jsonl jurnaldbp.jsonl\n"
     ]
    }
   ],
   "source": [
    "files = [\n",
    "    'jurnaldbp.jsonl',\n",
    "    'mjpharm.org.jsonl',\n",
    "    'myjgeosc.com.jsonl',\n",
    "    'myjsustainagri.com.jsonl',\n",
    "    'akademisains.gov.my.jsonl',\n",
    "    'crossref-pdf.jsonl',\n",
    "    'melayu-pdf.jsonl',\n",
    "    'majcafe.com.jsonl',\n",
    "    'myjms.mohe.gov.my.jsonl',\n",
    "    'newera.edu.my.jsonl',\n",
    "    'nutriweb.org.my.jsonl',\n",
    "    'dermatology.org.my.jsonl',\n",
    "    'e-mjm.org.jsonl',\n",
    "    'pgm-my.org.jsonl',\n",
    "    'msss.com.my.jsonl',\n",
    "    'mps.org.my.jsonl',\n",
    "    'morthoj.org.jsonl',\n",
    "    'mjpath.org.my.jsonl',\n",
    "]\n",
    "\n",
    "for f in files[::-1]:\n",
    "    \n",
    "    new_f = f.replace('.jsonl', '.dedup.jsonl')\n",
    "    with open(new_f, 'w') as fopen_l:\n",
    "        with open(f) as fopen:\n",
    "            for l in fopen:\n",
    "                l = json.loads(l)\n",
    "                if reject(l):\n",
    "                    continue\n",
    "\n",
    "                l = replace(l.strip())\n",
    "                if len(l) < 3:\n",
    "                    continue\n",
    "\n",
    "                t = l\n",
    "                fopen_l.write(f'{json.dumps(t)}\\n')\n",
    "    print(new_f, f)"
   ]
  },
  {
   "cell_type": "code",
   "execution_count": 16,
   "id": "596df886",
   "metadata": {},
   "outputs": [],
   "source": [
    "from huggingface_hub import HfApi\n",
    "api = HfApi()"
   ]
  },
  {
   "cell_type": "code",
   "execution_count": 18,
   "id": "7c13f68f",
   "metadata": {},
   "outputs": [
    {
     "name": "stdout",
     "output_type": "stream",
     "text": [
      "majcafe.com.dedup.jsonl\n"
     ]
    },
    {
     "data": {
      "application/vnd.jupyter.widget-view+json": {
       "model_id": "26c1d52c9ac94560a7aef9c64ec95529",
       "version_major": 2,
       "version_minor": 0
      },
      "text/plain": [
       "majcafe.com.dedup.jsonl:   0%|          | 0.00/16.8M [00:00<?, ?B/s]"
      ]
     },
     "metadata": {},
     "output_type": "display_data"
    },
    {
     "name": "stdout",
     "output_type": "stream",
     "text": [
      "morthoj.org.dedup.jsonl\n"
     ]
    },
    {
     "data": {
      "application/vnd.jupyter.widget-view+json": {
       "model_id": "f44cb3caaedf4b438a1412134749d118",
       "version_major": 2,
       "version_minor": 0
      },
      "text/plain": [
       "morthoj.org.dedup.jsonl:   0%|          | 0.00/25.6M [00:00<?, ?B/s]"
      ]
     },
     "metadata": {},
     "output_type": "display_data"
    },
    {
     "name": "stdout",
     "output_type": "stream",
     "text": [
      "e-mjm.org.dedup.jsonl\n"
     ]
    },
    {
     "data": {
      "application/vnd.jupyter.widget-view+json": {
       "model_id": "28ecab7d654049d381260575cafb8803",
       "version_major": 2,
       "version_minor": 0
      },
      "text/plain": [
       "e-mjm.org.dedup.jsonl:   0%|          | 0.00/1.41M [00:00<?, ?B/s]"
      ]
     },
     "metadata": {},
     "output_type": "display_data"
    },
    {
     "name": "stdout",
     "output_type": "stream",
     "text": [
      "upsi_ejournal_of_music.dedup.jsonl\n"
     ]
    },
    {
     "data": {
      "application/vnd.jupyter.widget-view+json": {
       "model_id": "35bf86b37e114c1cbe58d6ceb813c77b",
       "version_major": 2,
       "version_minor": 0
      },
      "text/plain": [
       "upsi_ejournal_of_music.dedup.jsonl:   0%|          | 0.00/7.78M [00:00<?, ?B/s]"
      ]
     },
     "metadata": {},
     "output_type": "display_data"
    },
    {
     "name": "stdout",
     "output_type": "stream",
     "text": [
      "nutriweb.org.my.dedup.jsonl\n"
     ]
    },
    {
     "data": {
      "application/vnd.jupyter.widget-view+json": {
       "model_id": "bbd89fe27693486e81baffc84223e086",
       "version_major": 2,
       "version_minor": 0
      },
      "text/plain": [
       "nutriweb.org.my.dedup.jsonl:   0%|          | 0.00/40.0M [00:00<?, ?B/s]"
      ]
     },
     "metadata": {},
     "output_type": "display_data"
    },
    {
     "name": "stdout",
     "output_type": "stream",
     "text": [
      "sejarahstpm.dedup.jsonl\n"
     ]
    },
    {
     "data": {
      "application/vnd.jupyter.widget-view+json": {
       "model_id": "c33e6891769b4b44999ef588c951f4fc",
       "version_major": 2,
       "version_minor": 0
      },
      "text/plain": [
       "sejarahstpm.dedup.jsonl:   0%|          | 0.00/619k [00:00<?, ?B/s]"
      ]
     },
     "metadata": {},
     "output_type": "display_data"
    },
    {
     "name": "stdout",
     "output_type": "stream",
     "text": [
      "lirik_lagu_dotnet.dedup.jsonl\n"
     ]
    },
    {
     "data": {
      "application/vnd.jupyter.widget-view+json": {
       "model_id": "789d955e36e84267bf925855e6a44db8",
       "version_major": 2,
       "version_minor": 0
      },
      "text/plain": [
       "lirik_lagu_dotnet.dedup.jsonl:   0%|          | 0.00/1.85M [00:00<?, ?B/s]"
      ]
     },
     "metadata": {},
     "output_type": "display_data"
    },
    {
     "name": "stdout",
     "output_type": "stream",
     "text": [
      "muftiwp.gov.my.dedup.jsonl\n"
     ]
    },
    {
     "data": {
      "application/vnd.jupyter.widget-view+json": {
       "model_id": "94fecc933f8c467985f103df4f7ab108",
       "version_major": 2,
       "version_minor": 0
      },
      "text/plain": [
       "muftiwp.gov.my.dedup.jsonl:   0%|          | 0.00/37.2M [00:00<?, ?B/s]"
      ]
     },
     "metadata": {},
     "output_type": "display_data"
    },
    {
     "name": "stdout",
     "output_type": "stream",
     "text": [
      "msss.com.my.dedup.jsonl\n"
     ]
    },
    {
     "data": {
      "application/vnd.jupyter.widget-view+json": {
       "model_id": "8fc24e6022d9448ab10444b43f4f8b3f",
       "version_major": 2,
       "version_minor": 0
      },
      "text/plain": [
       "msss.com.my.dedup.jsonl:   0%|          | 0.00/7.12M [00:00<?, ?B/s]"
      ]
     },
     "metadata": {},
     "output_type": "display_data"
    },
    {
     "name": "stdout",
     "output_type": "stream",
     "text": [
      "mps.org.my.dedup.jsonl\n"
     ]
    },
    {
     "data": {
      "application/vnd.jupyter.widget-view+json": {
       "model_id": "59050a690aa34163bc41a8021ff17b6c",
       "version_major": 2,
       "version_minor": 0
      },
      "text/plain": [
       "mps.org.my.dedup.jsonl:   0%|          | 0.00/3.99M [00:00<?, ?B/s]"
      ]
     },
     "metadata": {},
     "output_type": "display_data"
    },
    {
     "name": "stdout",
     "output_type": "stream",
     "text": [
      "maljnutr.dedup.jsonl\n"
     ]
    },
    {
     "data": {
      "application/vnd.jupyter.widget-view+json": {
       "model_id": "323bd664d41d4c75be50d95ecfa924a6",
       "version_major": 2,
       "version_minor": 0
      },
      "text/plain": [
       "maljnutr.dedup.jsonl:   0%|          | 0.00/28.9M [00:00<?, ?B/s]"
      ]
     },
     "metadata": {},
     "output_type": "display_data"
    },
    {
     "name": "stdout",
     "output_type": "stream",
     "text": [
      "umno-online.my.dedup.jsonl\n"
     ]
    },
    {
     "data": {
      "application/vnd.jupyter.widget-view+json": {
       "model_id": "ee94909455a249f58efa6260f866c81a",
       "version_major": 2,
       "version_minor": 0
      },
      "text/plain": [
       "umno-online.my.dedup.jsonl:   0%|          | 0.00/3.23M [00:00<?, ?B/s]"
      ]
     },
     "metadata": {},
     "output_type": "display_data"
    },
    {
     "name": "stdout",
     "output_type": "stream",
     "text": [
      "newera.edu.my.dedup.jsonl\n"
     ]
    },
    {
     "data": {
      "application/vnd.jupyter.widget-view+json": {
       "model_id": "fe85f5d9edf64a5db225c5bb07b2a17e",
       "version_major": 2,
       "version_minor": 0
      },
      "text/plain": [
       "newera.edu.my.dedup.jsonl:   0%|          | 0.00/1.87M [00:00<?, ?B/s]"
      ]
     },
     "metadata": {},
     "output_type": "display_data"
    },
    {
     "name": "stdout",
     "output_type": "stream",
     "text": [
      "tamil-oneindia.dedup.jsonl\n",
      "mishkat_al_masabih.dedup.jsonl\n"
     ]
    },
    {
     "data": {
      "application/vnd.jupyter.widget-view+json": {
       "model_id": "97c6e881800548028d03a28a1735e6ce",
       "version_major": 2,
       "version_minor": 0
      },
      "text/plain": [
       "mishkat_al_masabih.dedup.jsonl:   0%|          | 0.00/8.90M [00:00<?, ?B/s]"
      ]
     },
     "metadata": {},
     "output_type": "display_data"
    },
    {
     "name": "stdout",
     "output_type": "stream",
     "text": [
      "pgm-my.org.dedup.jsonl\n"
     ]
    },
    {
     "data": {
      "application/vnd.jupyter.widget-view+json": {
       "model_id": "bcd7a05339504b07a7512aa05a4f7fbb",
       "version_major": 2,
       "version_minor": 0
      },
      "text/plain": [
       "pgm-my.org.dedup.jsonl:   0%|          | 0.00/556k [00:00<?, ?B/s]"
      ]
     },
     "metadata": {},
     "output_type": "display_data"
    },
    {
     "name": "stdout",
     "output_type": "stream",
     "text": [
      "mjpharm.org.dedup.jsonl\n"
     ]
    },
    {
     "data": {
      "application/vnd.jupyter.widget-view+json": {
       "model_id": "5af3a83fc7484540ae0db665a84a6256",
       "version_major": 2,
       "version_minor": 0
      },
      "text/plain": [
       "mjpharm.org.dedup.jsonl:   0%|          | 0.00/8.27M [00:00<?, ?B/s]"
      ]
     },
     "metadata": {},
     "output_type": "display_data"
    },
    {
     "name": "stdout",
     "output_type": "stream",
     "text": [
      "malaysia-elelong.dedup.jsonl\n"
     ]
    },
    {
     "data": {
      "application/vnd.jupyter.widget-view+json": {
       "model_id": "d2dc71ac27d94352b6112a158f0c7de0",
       "version_major": 2,
       "version_minor": 0
      },
      "text/plain": [
       "malaysia-elelong.dedup.jsonl:   0%|          | 0.00/119M [00:00<?, ?B/s]"
      ]
     },
     "metadata": {},
     "output_type": "display_data"
    },
    {
     "name": "stdout",
     "output_type": "stream",
     "text": [
      "dermatology.org.my.dedup.jsonl\n"
     ]
    },
    {
     "data": {
      "application/vnd.jupyter.widget-view+json": {
       "model_id": "08b23b7491a747779649652f47c46943",
       "version_major": 2,
       "version_minor": 0
      },
      "text/plain": [
       "dermatology.org.my.dedup.jsonl:   0%|          | 0.00/7.15M [00:00<?, ?B/s]"
      ]
     },
     "metadata": {},
     "output_type": "display_data"
    },
    {
     "name": "stdout",
     "output_type": "stream",
     "text": [
      "myjgeosc.com.dedup.jsonl\n"
     ]
    },
    {
     "data": {
      "application/vnd.jupyter.widget-view+json": {
       "model_id": "fd12a80c6aff4db69fb5f25b5edd8b48",
       "version_major": 2,
       "version_minor": 0
      },
      "text/plain": [
       "myjgeosc.com.dedup.jsonl:   0%|          | 0.00/3.73M [00:00<?, ?B/s]"
      ]
     },
     "metadata": {},
     "output_type": "display_data"
    },
    {
     "name": "stdout",
     "output_type": "stream",
     "text": [
      "crossref-pdf.dedup.jsonl\n"
     ]
    },
    {
     "data": {
      "application/vnd.jupyter.widget-view+json": {
       "model_id": "9831e497363f456a9651e187ceeebd06",
       "version_major": 2,
       "version_minor": 0
      },
      "text/plain": [
       "crossref-pdf.dedup.jsonl:   0%|          | 0.00/4.00G [00:00<?, ?B/s]"
      ]
     },
     "metadata": {},
     "output_type": "display_data"
    },
    {
     "name": "stdout",
     "output_type": "stream",
     "text": [
      "myjsustainagri.com.dedup.jsonl\n"
     ]
    },
    {
     "data": {
      "application/vnd.jupyter.widget-view+json": {
       "model_id": "419f22c9c8f0407099083c135847feef",
       "version_major": 2,
       "version_minor": 0
      },
      "text/plain": [
       "myjsustainagri.com.dedup.jsonl:   0%|          | 0.00/4.30M [00:00<?, ?B/s]"
      ]
     },
     "metadata": {},
     "output_type": "display_data"
    },
    {
     "name": "stdout",
     "output_type": "stream",
     "text": [
      "mjpath.org.my.dedup.jsonl\n"
     ]
    },
    {
     "data": {
      "application/vnd.jupyter.widget-view+json": {
       "model_id": "942103ddfb674542be217ab6eeb2adf4",
       "version_major": 2,
       "version_minor": 0
      },
      "text/plain": [
       "mjpath.org.my.dedup.jsonl:   0%|          | 0.00/30.6M [00:00<?, ?B/s]"
      ]
     },
     "metadata": {},
     "output_type": "display_data"
    },
    {
     "name": "stdout",
     "output_type": "stream",
     "text": [
      "jurnaldbp.dedup.jsonl\n"
     ]
    },
    {
     "data": {
      "application/vnd.jupyter.widget-view+json": {
       "model_id": "62595746d7134e7a90d01039200b9315",
       "version_major": 2,
       "version_minor": 0
      },
      "text/plain": [
       "jurnaldbp.dedup.jsonl:   0%|          | 0.00/40.9M [00:00<?, ?B/s]"
      ]
     },
     "metadata": {},
     "output_type": "display_data"
    },
    {
     "name": "stdout",
     "output_type": "stream",
     "text": [
      "malaysian_journal_of_analytical_science.dedup.jsonl\n"
     ]
    },
    {
     "data": {
      "application/vnd.jupyter.widget-view+json": {
       "model_id": "b36dc52d405640cdbb69ca9942c8ce4f",
       "version_major": 2,
       "version_minor": 0
      },
      "text/plain": [
       "malaysian_journal_of_analytical_science.dedup.jsonl:   0%|          | 0.00/8.37M [00:00<?, ?B/s]"
      ]
     },
     "metadata": {},
     "output_type": "display_data"
    },
    {
     "name": "stdout",
     "output_type": "stream",
     "text": [
      "malaysian-journal-of-computing.dedup.jsonl\n"
     ]
    },
    {
     "data": {
      "application/vnd.jupyter.widget-view+json": {
       "model_id": "43f09ef4f56645f58f41cb2a2ed74f78",
       "version_major": 2,
       "version_minor": 0
      },
      "text/plain": [
       "malaysian-journal-of-computing.dedup.jsonl:   0%|          | 0.00/4.69M [00:00<?, ?B/s]"
      ]
     },
     "metadata": {},
     "output_type": "display_data"
    },
    {
     "name": "stdout",
     "output_type": "stream",
     "text": [
      "melayu-pdf.dedup.jsonl\n"
     ]
    },
    {
     "data": {
      "application/vnd.jupyter.widget-view+json": {
       "model_id": "c62e05884f16484b8c61181cdc4cfc08",
       "version_major": 2,
       "version_minor": 0
      },
      "text/plain": [
       "melayu-pdf.dedup.jsonl:   0%|          | 0.00/75.9M [00:00<?, ?B/s]"
      ]
     },
     "metadata": {},
     "output_type": "display_data"
    },
    {
     "name": "stdout",
     "output_type": "stream",
     "text": [
      "akademisains.gov.my.dedup.jsonl\n"
     ]
    },
    {
     "data": {
      "application/vnd.jupyter.widget-view+json": {
       "model_id": "4ade817b0bef482080e518aa3fa65cf2",
       "version_major": 2,
       "version_minor": 0
      },
      "text/plain": [
       "akademisains.gov.my.dedup.jsonl:   0%|          | 0.00/33.1M [00:00<?, ?B/s]"
      ]
     },
     "metadata": {},
     "output_type": "display_data"
    },
    {
     "name": "stdout",
     "output_type": "stream",
     "text": [
      "myjms.mohe.gov.my.dedup.jsonl\n"
     ]
    },
    {
     "data": {
      "application/vnd.jupyter.widget-view+json": {
       "model_id": "12b69fd2c2bb4f88a205723fbae010e1",
       "version_major": 2,
       "version_minor": 0
      },
      "text/plain": [
       "myjms.mohe.gov.my.dedup.jsonl:   0%|          | 0.00/451M [00:00<?, ?B/s]"
      ]
     },
     "metadata": {},
     "output_type": "display_data"
    },
    {
     "name": "stdout",
     "output_type": "stream",
     "text": [
      "foodie-my-food.dedup.jsonl\n"
     ]
    },
    {
     "data": {
      "application/vnd.jupyter.widget-view+json": {
       "model_id": "d424c8da5748484aaa60109a425243c3",
       "version_major": 2,
       "version_minor": 0
      },
      "text/plain": [
       "foodie-my-food.dedup.jsonl:   0%|          | 0.00/128k [00:00<?, ?B/s]"
      ]
     },
     "metadata": {},
     "output_type": "display_data"
    }
   ],
   "source": [
    "from glob import glob\n",
    "\n",
    "files = glob('*.dedup.jsonl')\n",
    "for f in files:\n",
    "    print(f)\n",
    "    api.upload_file(\n",
    "        path_or_fileobj=f,\n",
    "        path_in_repo=f,\n",
    "        repo_id='malaysia-ai/dedup-text-dataset',\n",
    "        repo_type='dataset',\n",
    "    )"
   ]
  },
  {
   "cell_type": "code",
   "execution_count": null,
   "id": "1a437655",
   "metadata": {},
   "outputs": [],
   "source": []
  }
 ],
 "metadata": {
  "kernelspec": {
   "display_name": "Python 3 (ipykernel)",
   "language": "python",
   "name": "python3"
  },
  "language_info": {
   "codemirror_mode": {
    "name": "ipython",
    "version": 3
   },
   "file_extension": ".py",
   "mimetype": "text/x-python",
   "name": "python",
   "nbconvert_exporter": "python",
   "pygments_lexer": "ipython3",
   "version": "3.10.12"
  }
 },
 "nbformat": 4,
 "nbformat_minor": 5
}
