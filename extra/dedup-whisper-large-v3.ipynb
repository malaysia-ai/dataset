{
 "cells": [
  {
   "cell_type": "code",
   "execution_count": 11,
   "id": "c4231957-d259-40b5-ad37-f28be5d79ee9",
   "metadata": {
    "scrolled": true
   },
   "outputs": [],
   "source": [
    "# !wget --no-check-certificate https://huggingface.co/datasets/mesolitica/pseudolabel-malaysian-youtube-whisper-large-v3/resolve/main/pseudolabel.jsonl"
   ]
  },
  {
   "cell_type": "code",
   "execution_count": 22,
   "id": "2fc0b690-9d43-47ed-8e09-70df9dd0bbc6",
   "metadata": {},
   "outputs": [],
   "source": [
    "import string\n",
    "\n",
    "punct = set(string.punctuation)\n",
    "\n",
    "def remove_punct(s):\n",
    "    return ''.join([c for c in s if c not in punct])\n",
    "    \n",
    "selected = [\n",
    "    'terima kasih kerana menonton',\n",
    "    'terima kasih',\n",
    "]"
   ]
  },
  {
   "cell_type": "code",
   "execution_count": 30,
   "id": "20296f93-a6d9-4631-8607-d87743808118",
   "metadata": {
    "editable": true,
    "scrolled": true,
    "slideshow": {
     "slide_type": ""
    },
    "tags": []
   },
   "outputs": [
    {
     "name": "stderr",
     "output_type": "stream",
     "text": [
      "2221856it [01:46, 20927.98it/s]\n"
     ]
    }
   ],
   "source": [
    "import json\n",
    "from tqdm import tqdm\n",
    "from sklearn.feature_extraction.text import CountVectorizer\n",
    "\n",
    "with open('semisupervised-whisper-large-v3.jsonl', 'w') as fopen_l:\n",
    "    with open('pseudolabel.jsonl') as fopen:\n",
    "        for l in tqdm(fopen):\n",
    "            l = json.loads(l)\n",
    "            ms = l['predict_ms'].split('<|transcribe|>')[1].strip()[:-13]\n",
    "            en = l['predict_en'].split('<|transcribe|>')[1].strip()[:-13]\n",
    "\n",
    "            ms_lower = ms.lower()\n",
    "\n",
    "            if any([s in ms_lower for s in selected]):\n",
    "                continue\n",
    "\n",
    "            if len(ms) < 10 or len(en) < 10:\n",
    "                continue\n",
    "\n",
    "            splitted = ms.split()\n",
    "            ratio = (len(set(splitted)) / len(splitted))\n",
    "            if ratio < 0.5:\n",
    "                continue\n",
    "\n",
    "            splitted = en.split()\n",
    "            ratio = (len(set(splitted)) / len(splitted))\n",
    "            if ratio < 0.5:\n",
    "                continue\n",
    "    \n",
    "            text = f'below is the text from pseudolabel youtube videos in Malay and English,\\n\\nMalay:\\n{ms}\\n\\nEnglish:\\n{en}'\n",
    "            fopen_l.write(f'{json.dumps(text)}\\n')\n",
    "            fopen_l.flush()"
   ]
  },
  {
   "cell_type": "code",
   "execution_count": 31,
   "id": "816095f1-982a-47ee-9513-9bd596b1e681",
   "metadata": {},
   "outputs": [
    {
     "name": "stdout",
     "output_type": "stream",
     "text": [
      "\"below is the text from pseudolabel youtube videos in Malay and English,\\n\\nMalay:\\nanda tahu keuntungan boleh lebih tinggi daripada keuntungan kewangan rumah maka saya tidak akan mencari dalam akaun saya akan mencari ke dalam ethereum atau beberapa crypto punks bergantung pada faktor risiko anda kerana rumah kajang dihantar tidak mengganggu dsr saya sejauh ini jadi sekarang apa posisi saya untuk mendapatkan kewangan ketiga jadi mungkin setelah melihat sekeliling saya menemui seorang penjual yang dapat menutupi perhubungan tetapi bank hanya menerima 70% dari itu saya boleh membayar perbezaan dengan menggunakan wang ini kerana sekali lagi ia menyusahkan saya dan aset tetapi jika anda tidak selesa dengan mencari\\n\\nEnglish:\\nyou know the returns can be higher than the savings of the housing loan interest then i will not put in the account i'll put into ethereum or some crypto punks depending on your risk factor then because of the kajang house being let out it does not affect my dsr as much so now what's my position on getting the third loan so maybe after looking around i found one where the renter can somewhat cover the installment but the bank only approved 70 percent of it i'm okay to pay the difference using this cash because again it somewhat secures me an asset but if you are not\"\n",
      "\"below is the text from pseudolabel youtube videos in Malay and English,\\n\\nMalay:\\nanda boleh pergi untuk kawasan baru di mana kewangan kapital anda datang sedikit kemudian mempunyai jumlah wang ini sebenarnya juga sukar seperti jika saya ingin memberitahu anda untuk meletakkan semua dalam satu jenis aset, ia akan sangat menakutkan sebenarnya, jadi anda sendiri juga menjelaskan kebiasaan risikonya sekarang, bagaimana ambisnya anda mahu menjadi dan gaya hidup yang anda mahu mempunyai dengan isteri anda, tentu saja ini juga boleh menjadi mode dalam hybrid kerana 500,000, katakanlah kawasan memerlukan sekitar 200,000 untuk penerbangan, okey, ambil, kemudian 300,000 di situ hanya untuk menjaga\\n\\nEnglish:\\nyou can go for new properties instead where the billings of your capital comes a little bit later then having this amount of money actually is also a big headache like if i were to tell you to put all in one type of asset it would be very very scary actually so you yourself again clarify on your risk appetite now on how ambitious you want to be and the lifestyle that you want to have with your wife of course this can be also a mode in hybrid because 500 000 let's say the property needs around 200 000 for down payment okay take out then the 300 put there just to save the money\"\n",
      "\"below is the text from pseudolabel youtube videos in Malay and English,\\n\\nMalay:\\ndan itu boleh menjadi sangat langsung. Tetapi yang paling menakutkan adalah apabila banyak orang menghadap jumlah wang yang besar ini untuk kali pertama yang sangat-sangat, ini adalah ketika literasi kewangan datang kerana jumlah wang itu, tiba-tiba semuanya menjadi jip kerana anda melihat semuanya betul, ketika anda tahu bahawa anda mempunyai sejuta dalam bank, ya, tidak mengapa, ya, tidak mengapa, tidak mengapa, tidak mengapa, dan secara langsung anda memperbaiki gaya hidup anda tanpa\\n\\nEnglish:\\nDone it can be that direct but what I'm most fearful is when a lot of people Approach this huge amount of money for a very very first time This is when financial literacy comes to play because of the amount of money right suddenly Everything becomes cheap because you look at everything right knowing that you have half a million in the bank. I yeah, it's okay la Sup sup soy la. I yeah, it's okay la sup sup soy la and indirectly\"\n",
      "\"below is the text from pseudolabel youtube videos in Malay and English,\\n\\nMalay:\\nthat i can do that for my jujur as well and for those who still have any questions regarding real estate do just email me at t-a-n-i-h-e-r-n-g t-a-n-i-h-e-r-n-g at gmail.com or you can just dm me on instagram i-h-e-r-n-g or you can also drop your question in ask guru segment of the property guru website hashtag ask guru sean so it will be directed directly to me of course if you're interested in going for a property review with me or you want to secure an appointment or personal consultation\\n\\nEnglish:\\nthat i can do that for my juju chichi as well and for those who still have any questions regarding real estate do just email me at t-a-n-i-h-e-r-n-g t-a-n-i-h-e-r-n-g gmail.com or you can just dm me on instagram i h e r g or you can also drop your question in ask guru segment of the property guru website hashtag ask guru sean so it will be directed directly to me of course if you're interested in going for a property review with me or you want to secure an appointment or personal\"\n",
      "\"below is the text from pseudolabel youtube videos in Malay and English,\\n\\nMalay:\\nSaya rasa Toki ok. Tapi di sebaliknya, biar saya seorang. Di sebaliknya, Abang Man dan Toki saja yang terutama. Nanti kalau nak tahu pasal apa, panggil Toki pula. Biar Toki berbual. Berbual dulu, baru kamu. Bermacam-macam kumpulan kita tengok Abang Man. Betul. Dari awal sekali Abang Man sampai ke hari ini. Samurai. Samurai Arin dan Acong.\\n\\nEnglish:\\nI think Tokay is okay. But on the other hand, let me be alone. On the other hand, Abang Man and Tokay are the only ones. If you want to know why, call Tokay instead. Let Tokay talk. Talk first, then you. We've seen Abang Man in various groups. Right. From the beginning, Abang Man, until today.\"\n",
      "\"below is the text from pseudolabel youtube videos in Malay and English,\\n\\nMalay:\\ntu gagal daripada minggu ke-3 dah gagal lah Taman dengan Taukeh Oh Taukeh dengan Taukeh dulu Taman menjadi sampai final top 5 dengan Putih pun projek khas maknanya lepas habis dengan Putih tu kalau Ali dengan Mamak nak dengan orang lain pun saya tak kisah dan ternyata dia orang tak pilih saya lepas tu pun dengan Jenggo, Jebon, dengan Kik Rahman, dengan Joey pun sama juga benda ni tak boleh gel dia orang terlalu deep sangat ke apa kan tak sama jadi tak boleh masuk R&R dengan Rahim\\n\\nEnglish:\\nThat failed from the third week. Taman and Taukeh. Taukeh was the first one. Taman was the last one. Top five. Putih was a special project. After Putih, if Ali and Mamak want to do it with someone else, I don't care. And it turns out they didn't choose me after that. With Jenggo, J-Bone, Kik Rahman and Joey, it's the same. This thing can't be gelled. They went too deep. It's not the same, so it can't be included. R&R with Rahim.\"\n",
      "\"below is the text from pseudolabel youtube videos in Malay and English,\\n\\nMalay:\\nItu yang paling menjadi kan? Ya paling menjadi lah Maknanya menjadilah untuk keluar awal Kita punya planning macam tu So minggu ketiga dah keluar Oh dekat rahim tu otai lah Oat ni muka baru Zahid pun saya baru kenal Si Wan tu saya dah lama kenal Tapi baru pertama kali nak join daripada Pak Dan saya rasa lah saya doa-doakan ini adalah tim saya yang terbaik lah Raja Lawak Kenapa masuk sorang? Kenapa tak masuk berkumpulan? Ha tu lah, masuk sorang tu rasanya macam dah teror sangat lah rasa Oh oyo\\n\\nEnglish:\\nThat's the most important thing, right? Yes, that's the most important thing. It means that it's important to be out early. That's our planning. So, I was out on the third week. I was so nervous. Right? Ong Ong is a new face. I know Zahid too. I've known Chiwan for a long time. But, it's my first time joining the team. And I think, I'm praying that this is my best team. King of Lawak. Why did you join alone? Why didn't you join in a group? That's it. When I was alone, I felt like I was a terrorist. Oh, really?\"\n",
      "\"below is the text from pseudolabel youtube videos in Malay and English,\\n\\nMalay:\\nSaya ajak masuk Semua malu Oh memang ajak lah Masa Raja Lawak tu ajak Kita tak ada nama Masa tu Bila tak ada nama Kita cerita dengan kawan Kawan Alah kau macam kau bagus Oh Cara penyampaian Dia macam ni Kalau kau bagi macam ni Tak sampai Alah okey lah Aku buat ni Alah kau macam bagus Kau macam tu Kau masuk sorang lah Itu yang pergi Kau tak kurang hajar Betul dia orang ni Oh nak suruh aku Masuk sorang Okey pergi Pergi buat sorang-sorang Lala dah champion Menyesal Dia orang menyesal Oh kalau aku tahu Aku pergi dengan kau\\n\\nEnglish:\\nI was embarrassed when I was invited. Oh, you were invited to the Rajilawak? We didn't have a name. We told our friends, you look good. The way they delivered it was like this. If you give it like this, they won't get it. Okay, I'll do this. You look good. Then you go in alone. That's what you did? You said you were really polite. You want me to go in alone? Okay, go. Go. When you're a champion, they'll regret it.\"\n",
      "\"below is the text from pseudolabel youtube videos in Malay and English,\\n\\nMalay:\\nBila orang cakap familiar dengan kata-kata Mutiara ni kan Adakah itu berdasarkan pengalaman hidup Ataupun dia sabar main create satu ayat dan sampaikan kepada orang Ramai pula Wak yang dah ada dia punya trademark dah Kalau kita nak buat lawak-lawak saya okey je buat lawak okey Tapi kadang-kadang saya rasa ramai penonton ataupun netizen kat luar Dia suka benda-benda yang deep lah Kalau ada kata-kata yang lagi kena dengan dia orang lagi dia orang sharing benda tu kan Ada yang jadi pada diri saya\\n\\nEnglish:\\nI'm familiar with the term Mutiara. Is it based on your life experience or did you create a verse and convey it to people? There are many who have their own trademarks. If we want to make fun of it, I'm okay with it. But I think many viewers or netizens out there like deep things. If there are words that are more in line with them, they will share it.\"\n",
      "\"below is the text from pseudolabel youtube videos in Malay and English,\\n\\nMalay:\\nNak tahu macam mana? Saya research semua tu. Oh research. Nampak macam bang-bangang, nampak macam pengemis kan? Buka macam tak boleh belak. Habis bijak. Kalau duduk kosong tu kau tak akan tahan. Biar ada isi. Ada kena ada isi, kau ada kena ada trademark. Sebut pasal berisi ni kan? Haa tu lah. Haa. Dah tahu dah mana kau nak tanya ni. Haa. Lepas tu kecut sikit. Haa betul betul. Berisi balik kecut sikit. Kau percaya tak aku dulu pernah kurus macam kau? Oh yo? Haa. Macam ini? Haa macam ni. Yang ini tak percaya? Eh kau ni. Masa PKP tu tau.\\n\\nEnglish:\\nI don't know how. I researched it. It looks like a rose, like a flower. The face is like it can't be removed. But it's smart. If it's sitting empty, you won't be able to hold it. So that there's content. There has to be content, there has to be a trademark. Talk about this content. I know where you're going to ask this. Then, it's a little small. It's a little small. Do you believe that I used to be as skinny as you? Like this? Like this. This one, I don't believe.\"\n"
     ]
    }
   ],
   "source": [
    "!head -n 10 semisupervised-whisper-large-v3.jsonl"
   ]
  },
  {
   "cell_type": "code",
   "execution_count": 32,
   "id": "45d111fe-5c82-43d6-ad0f-419fe711b3c1",
   "metadata": {},
   "outputs": [
    {
     "data": {
      "application/vnd.jupyter.widget-view+json": {
       "model_id": "44d549395e7c4349874c5db3374427a9",
       "version_major": 2,
       "version_minor": 0
      },
      "text/plain": [
       "semisupervised-whisper-large-v3.jsonl:   0%|          | 0.00/1.43G [00:00<?, ?B/s]"
      ]
     },
     "metadata": {},
     "output_type": "display_data"
    },
    {
     "data": {
      "text/plain": [
       "CommitInfo(commit_url='https://huggingface.co/datasets/malaysia-ai/dedup-text-dataset/commit/2a267ce703170cfce670231b11b9f187530f8bd2', commit_message='Upload semisupervised-whisper-large-v3.jsonl with huggingface_hub', commit_description='', oid='2a267ce703170cfce670231b11b9f187530f8bd2', pr_url=None, pr_revision=None, pr_num=None)"
      ]
     },
     "execution_count": 32,
     "metadata": {},
     "output_type": "execute_result"
    }
   ],
   "source": [
    "from huggingface_hub import HfApi\n",
    "api = HfApi()\n",
    "api.upload_file(\n",
    "    path_or_fileobj=\"semisupervised-whisper-large-v3.jsonl\",\n",
    "    path_in_repo=\"semisupervised-whisper-large-v3.jsonl\",\n",
    "    repo_id=\"malaysia-ai/dedup-text-dataset\",\n",
    "    repo_type=\"dataset\",\n",
    ")\n"
   ]
  },
  {
   "cell_type": "code",
   "execution_count": null,
   "id": "89017c1f-5757-4f34-a3d5-634b8d640144",
   "metadata": {},
   "outputs": [],
   "source": []
  }
 ],
 "metadata": {
  "kernelspec": {
   "display_name": "Python 3 (ipykernel)",
   "language": "python",
   "name": "python3"
  },
  "language_info": {
   "codemirror_mode": {
    "name": "ipython",
    "version": 3
   },
   "file_extension": ".py",
   "mimetype": "text/x-python",
   "name": "python",
   "nbconvert_exporter": "python",
   "pygments_lexer": "ipython3",
   "version": "3.10.14"
  }
 },
 "nbformat": 4,
 "nbformat_minor": 5
}
