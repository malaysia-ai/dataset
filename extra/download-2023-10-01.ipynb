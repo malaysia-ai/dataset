{
 "cells": [
  {
   "cell_type": "code",
   "execution_count": 2,
   "id": "1118c797",
   "metadata": {},
   "outputs": [],
   "source": [
    "# !wget https://huggingface.co/datasets/mesolitica/crawl-my-website/resolve/main/gov.my.jsonl\n",
    "# !wget https://huggingface.co/datasets/mesolitica/crawl-my-website/resolve/main/edu.my.jsonl\n",
    "# !wget https://huggingface.co/datasets/mesolitica/crawl-my-website/resolve/main/akuislam.com.jsonl\n",
    "# !wget https://huggingface.co/datasets/mesolitica/crawl-my-website/resolve/main/kamusbm.jsonl\n",
    "# !wget https://huggingface.co/datasets/mesolitica/crawl-my-website/resolve/main/maktabahalbakri.com.jsonl\n",
    "# !wget https://huggingface.co/datasets/mesolitica/crawl-my-website/resolve/main/suamisihat.jsonl\n",
    "# !wget https://huggingface.co/datasets/mesolitica/crawl-my-website/resolve/main/story.motherhood.com.my"
   ]
  },
  {
   "cell_type": "code",
   "execution_count": 6,
   "id": "0a4cf6a6",
   "metadata": {},
   "outputs": [],
   "source": [
    "import json\n",
    "import re\n",
    "from tqdm import tqdm\n",
    "\n",
    "http_errors = [\n",
    "        \"400 Bad Request\", \"401 Unauthorized\", \"402 Payment Required\", \"403 Forbidden\", \"404 Not Found\",\n",
    "        \"405 Method Not Allowed\", \"406 Not Acceptable\", \"407 Proxy Authentication Required\", \"408 Request Timeout\",\n",
    "        \"409 Conflict\", \"410 Gone\", \"411 Length Required\", \"412 Precondition Failed\", \"413 Payload Too Large\",\n",
    "        \"414 URI Too Long\", \"415 Unsupported Media Type\", \"416 Range Not Satisfiable\", \"417 Expectation Failed\",\n",
    "        \"418 I'm a teapot\", \"421 Misdirected Request\", \"422 Unprocessable Entity\", \"423 Locked\", \"424 Failed Dependency\",\n",
    "        \"425 Too Early\", \"426 Upgrade Required\", \"428 Precondition Required\", \"429 Too Many Requests\",\n",
    "        \"431 Request Header Fields Too Large\", \"451 Unavailable For Legal Reasons\", \"500 Internal Server Error\",\n",
    "        \"501 Not Implemented\", \"502 Bad Gateway\", \"503 Service Unavailable\", \"504 Gateway Timeout\",\n",
    "        \"505 HTTP Version Not Supported\", \"506 Variant Also Negotiates\", \"507 Insufficient Storage\",\n",
    "        \"508 Loop Detected\", \"510 Not Extended\", \"511 Network Authentication Required\"\n",
    "    ]\n",
    "\n",
    "rejected = [\n",
    "    'Internal Server Error',\n",
    "    '__NOEDITSECTION__',\n",
    "    'enter your username and password',\n",
    "    'forgotten your password',\n",
    "    'cookies enabled',\n",
    "    'enable JavaScript in your browser.',\n",
    "    'The page cannot be displayed',\n",
    "    'site or edit the error_page',\n",
    "]\n",
    "\n",
    "rejected.extend(http_errors)\n",
    "\n",
    "def replace_multiple(input_string, pattern =r\"\\s{6,}\", replace = '   '):\n",
    "    return re.sub(pattern, replace, input_string)\n",
    "\n",
    "def replace(string):\n",
    "    string = replace_multiple(string.replace('…', '.'))\n",
    "    string = replace_multiple(string, pattern = r\"\\.{6,}\", replace = '...')\n",
    "    return string\n",
    "\n",
    "def reject(string):\n",
    "    if any([r in string for r in rejected]):\n",
    "        return True\n",
    "    return False"
   ]
  },
  {
   "cell_type": "code",
   "execution_count": 12,
   "id": "981e5f93",
   "metadata": {},
   "outputs": [
    {
     "name": "stderr",
     "output_type": "stream",
     "text": [
      "31031it [00:35, 874.17it/s] \n"
     ]
    }
   ],
   "source": [
    "with open('/home/ubuntu/dedup-text-dataset/gov.my.jsonl', 'w') as fopen_l:\n",
    "    with open('gov.my.jsonl') as fopen:\n",
    "        for l in tqdm(fopen):\n",
    "            l = json.loads(l)\n",
    "            \n",
    "            if reject(l['text']):\n",
    "                continue\n",
    "\n",
    "            data = replace(l['text'].strip())\n",
    "            fopen_l.write(f'{json.dumps(data)}\\n')"
   ]
  },
  {
   "cell_type": "code",
   "execution_count": 13,
   "id": "cd72cb62",
   "metadata": {},
   "outputs": [
    {
     "name": "stderr",
     "output_type": "stream",
     "text": [
      "25764it [00:26, 960.19it/s] \n"
     ]
    }
   ],
   "source": [
    "with open('/home/ubuntu/dedup-text-dataset/edu.my.jsonl', 'w') as fopen_l:\n",
    "    with open('edu.my.jsonl') as fopen:\n",
    "        for l in tqdm(fopen):\n",
    "            l = json.loads(l)\n",
    "            \n",
    "            if reject(l['text']):\n",
    "                continue\n",
    "\n",
    "            data = replace(l['text'].strip())\n",
    "            fopen_l.write(f'{json.dumps(data)}\\n')"
   ]
  },
  {
   "cell_type": "code",
   "execution_count": 16,
   "id": "a1c10aa7",
   "metadata": {},
   "outputs": [
    {
     "name": "stdout",
     "output_type": "stream",
     "text": [
      "\"# Cara Guna\\n1.\\n Sila mencari satu perkataan sahaja pada setiap carian umum.\\n2.\\n Elak menggunakan imbuhan (seperti \\nmen-\\n, \\nber-\\n, \\ndi-\\n, \\n-i\\n, \\n-kan\\n dan lain-lain).\\n3.\\n Pastikan perkataan Bahasa Melayu itu sah dan diterbitkan oleh DBP, iaitu Kamus Dewan Pusaka dan Bahasa.\\n4. \\nSumber utama kamus dewan online ini merujuk kepada kamus dewan edisi keempat daripada Pusat Rujukan Persuratan Melayu (PRPM), hak cipta DBP Malaysia.\"\r\n"
     ]
    }
   ],
   "source": [
    "!head -n 1 kamusbm.jsonl"
   ]
  },
  {
   "cell_type": "code",
   "execution_count": 15,
   "id": "2790fc44",
   "metadata": {},
   "outputs": [
    {
     "name": "stderr",
     "output_type": "stream",
     "text": [
      "74it [00:00, 946.76it/s]\n"
     ]
    }
   ],
   "source": [
    "with open('/home/ubuntu/dedup-text-dataset/akuislam.com.jsonl', 'w') as fopen_l:\n",
    "    with open('akuislam.com.jsonl') as fopen:\n",
    "        for l in tqdm(fopen):\n",
    "            l = json.loads(l)\n",
    "            \n",
    "            if reject(l['body']):\n",
    "                continue\n",
    "\n",
    "            data = replace(l['body'].strip())\n",
    "            fopen_l.write(f'{json.dumps(data)}\\n')"
   ]
  },
  {
   "cell_type": "code",
   "execution_count": 17,
   "id": "48e1e31f",
   "metadata": {},
   "outputs": [
    {
     "name": "stderr",
     "output_type": "stream",
     "text": [
      "34192it [00:01, 19550.77it/s]\n"
     ]
    }
   ],
   "source": [
    "with open('/home/ubuntu/dedup-text-dataset/kamusbm.jsonl', 'w') as fopen_l:\n",
    "    with open('kamusbm.jsonl') as fopen:\n",
    "        for l in tqdm(fopen):\n",
    "            l = json.loads(l)\n",
    "            \n",
    "            if reject(l):\n",
    "                continue\n",
    "\n",
    "            data = replace(l.strip())\n",
    "            fopen_l.write(f'{json.dumps(data)}\\n')"
   ]
  },
  {
   "cell_type": "code",
   "execution_count": 20,
   "id": "179373d7",
   "metadata": {},
   "outputs": [
    {
     "name": "stderr",
     "output_type": "stream",
     "text": [
      "3365it [00:02, 1564.39it/s]\n"
     ]
    }
   ],
   "source": [
    "with open('/home/ubuntu/dedup-text-dataset/maktabahalbakri.com.jsonl', 'w') as fopen_l:\n",
    "    with open('maktabahalbakri.com.jsonl') as fopen:\n",
    "        for l in tqdm(fopen):\n",
    "            l = json.loads(l)\n",
    "            \n",
    "            if reject(l['body']):\n",
    "                continue\n",
    "\n",
    "            data = replace(l['body'].strip())\n",
    "            fopen_l.write(f'{json.dumps(data)}\\n')"
   ]
  },
  {
   "cell_type": "code",
   "execution_count": 22,
   "id": "461344e7",
   "metadata": {},
   "outputs": [
    {
     "name": "stderr",
     "output_type": "stream",
     "text": [
      "101it [00:00, 701.50it/s]\n"
     ]
    }
   ],
   "source": [
    "with open('/home/ubuntu/dedup-text-dataset/suamisihat.jsonl', 'w') as fopen_l:\n",
    "    with open('suamisihat.jsonl') as fopen:\n",
    "        for l in tqdm(fopen):\n",
    "            l = json.loads(l)\n",
    "            \n",
    "            if reject(l['body']):\n",
    "                continue\n",
    "\n",
    "            data = replace(l['body'].strip())\n",
    "            fopen_l.write(f'{json.dumps(data)}\\n')"
   ]
  },
  {
   "cell_type": "code",
   "execution_count": 25,
   "id": "05a1d6cc",
   "metadata": {},
   "outputs": [
    {
     "name": "stderr",
     "output_type": "stream",
     "text": [
      "1580it [00:00, 11099.96it/s]\n"
     ]
    }
   ],
   "source": [
    "with open('/home/ubuntu/dedup-text-dataset/story.motherhood.com.my.jsonl', 'w') as fopen_l:\n",
    "    with open('story.motherhood.com.my') as fopen:\n",
    "        for l in tqdm(fopen):\n",
    "            try:\n",
    "                l = json.loads(l)\n",
    "\n",
    "                if reject(l['description']):\n",
    "                    continue\n",
    "\n",
    "                data = replace(l['description'].strip())\n",
    "                fopen_l.write(f'{json.dumps(data)}\\n')\n",
    "            except:\n",
    "                pass"
   ]
  }
 ],
 "metadata": {
  "kernelspec": {
   "display_name": "Python 3 (ipykernel)",
   "language": "python",
   "name": "python3"
  },
  "language_info": {
   "codemirror_mode": {
    "name": "ipython",
    "version": 3
   },
   "file_extension": ".py",
   "mimetype": "text/x-python",
   "name": "python",
   "nbconvert_exporter": "python",
   "pygments_lexer": "ipython3",
   "version": "3.10.12"
  }
 },
 "nbformat": 4,
 "nbformat_minor": 5
}
