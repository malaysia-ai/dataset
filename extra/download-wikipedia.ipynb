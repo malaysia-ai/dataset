{
 "cells": [
  {
   "cell_type": "code",
   "execution_count": 7,
   "id": "97870db7",
   "metadata": {},
   "outputs": [],
   "source": [
    "# !wget https://huggingface.co/datasets/mesolitica/wikipedia/resolve/main/wikipedia-2023-10-01.jsonl"
   ]
  },
  {
   "cell_type": "code",
   "execution_count": 8,
   "id": "a36f92ac",
   "metadata": {
    "scrolled": true
   },
   "outputs": [
    {
     "data": {
      "text/plain": [
       "174"
      ]
     },
     "execution_count": 8,
     "metadata": {},
     "output_type": "execute_result"
    }
   ],
   "source": [
    "from glob import glob\n",
    "import json\n",
    "\n",
    "files = glob('/home/ubuntu/dedup-text-dataset/*.jsonl')\n",
    "len(files)"
   ]
  },
  {
   "cell_type": "code",
   "execution_count": 9,
   "id": "4abdc61c",
   "metadata": {},
   "outputs": [],
   "source": [
    "with open('/home/ubuntu/dedup-text-dataset/wikipedia-2023-10-01.jsonl', 'w') as fopen_l:\n",
    "    with open('wikipedia-2023-10-01.jsonl') as fopen:\n",
    "        for l in fopen:\n",
    "            l = json.loads(l)\n",
    "            if '__NOEDITSECTION__' in l['text']:\n",
    "                continue\n",
    "            fopen_l.write(f'{json.dumps(l)}\\n')"
   ]
  },
  {
   "cell_type": "code",
   "execution_count": 2,
   "id": "13007a1f",
   "metadata": {},
   "outputs": [
    {
     "name": "stdout",
     "output_type": "stream",
     "text": [
      "\"KISAH SERAM JALAN SANDAKAN-KOTA KINABALU\\n\\nKisah ini bermula ketika saya berumur 23 tahun. Dalam umur yang masih muda saya sudah bekerja d sebuah agensi pekerjaan di sandakan. Jiwa remaja sememangnya banyak perkara yang ingin dilakukan. Saya, nana dan wan merancang untuk ke kota kinabalu awal bulan april. Seperti yang sudah di rancang. Tepat jm6 petang kami bertolak dari sandakan. Disebabkan saya masih kerja pada hari itu, kami terpaksa bertolak sebelah petang. Perjalanan dari sandakan ke kota kinabalu memakan masa 7-8jam terpulang dari kelajuan masing2. Okey pada jam7 malam kami singgah mengisi minyak di check point dan membeli makanan ringan utk mengisi perut dalam perjalanan.\\nSemasa kami melalui jalan telupid ranau hati saya merasa tidak sedap. Tapi sebagai pemandu saya kuatkan radio sekali sekala ikut menyanyi. Dalam hati syukur ada bas di belakang. Semasa melalui jlan yang agak gelap (jalan telupid ranau ni memang hutan tiada lampu jalan) bas tersebut sekali sekala memberi isyarat menggunakan high light dalam hati saya bas ni mahu memotong ke apa. Tiba2 wan yang duduk belakang bersuara \\u201d tutup cermin wei\\u201d aku menurut saja. Budak nana ni siap tanya ,kenapa?. \\u201cOrang suruh tutup, tutup je lah, bodoh\\u201d marah wan. Dalam masa yang sama kereta yang sy pandu agak berat. Bas di belakang juga masih memberi isyarat. Dalam hati sy, tolonglah jangan ada benda yang tak diingin berlaku, perjalanan masih jauh ni. Aku pusingkan lagu rohani, syukur kereta yang saya pandu kembali ringan.\\nKami bercadang untuk rehat sebentar di ranau untuk mengisi perut setelah 4jam perjalanan. Sebelum sampai di pekan ranau, roadblok lah pula, polis itu myoal saya dalam bahasa ibunda (dusun) saya pun menjawab dalam bahasa ibunda biarpun sebenarnya sy tidak tahu bercakap dalam bahasa ibunda ??. \\u201csy sarankan baik kamu stay disini saja. Banyak kes sekarang jlan ranau tamparuli.\\u201d Kata polis itu. Disebabkan jam sudah hampir jam 10 kami sepakat mencari hotel. Malam itu kami berehat dengan aman.\\nKeesokan harinya kami menyambung perjalanan kami ke kota kinabalu. Kami mengambil masa 1jam 45 untuk smpai ke tamparuli. Ini semua salah nana yang banyak perangai nak singgah banyak tempat. Tepat jm2 kami smpai dihotel yang telah kami tempah di kota kinabalu. Bermulalah kisah seram kami.\\nMalam itu saya berjumpa dengan mr tunang. Nana dan wan kata nak join sekali. Kami mkan di sebuah restoran di likas. Cerita punya cerita jam sudah menunjakkan pukul 11 malam. Ok kami pulang ke hotel. Disebabkan nak privasi masing2, kmi tinggal berasingan.\\nTidur sy terganggu apabila telepon di bilik sy berbunyi. \\u201d dah kenapa kau ni wan?\\u201d Ada benda kacau aku lah. Dah tu meyerupai si nana pulak. Kata wan. Saya sememangnya tahu hotel yang kmi tinggal tu agak keras sedikit tapi sy tidak menyangka kami akan diganggu.\\nTepat jm3 subuh, perut pula buat hal. Dalam keadaan mata yang sangat megantuk. Saya terlihat kelibat seorang perempuan tidur disebelah saya. \\u201d ohh nana rupanya\\u201d saya terus ke toilet untk melepaskan hajat. Tengah syok2 melepaskan hajat tiba2, sel-sel otak sy bhubung. Bagaimana si nana tu boleh masuk dalam balik saya? Takkan dia minta kunci pendua kat kuanter. Dah aku jadi seram. Cuci apa yang patut. Aku kluar perlahanan-lahan. Kelibat yang meyerupai si nana tu dah hilang. Ketakutan menguasai diri aku saat itu.\\nAku menyambung balik tidur yang terganggu. Tiba2 saya dapat rasakan tilam saya seperti ada benda yang duduk. Dia datang lagi. Saya dapat merasakan dia berbaring bersama aku. Dalam hati, aku memaki tak habis2. Aku nekad untuk bangun. Bila aku berpusing melihat ke arah benda tu.. Alamak,! muka lain dah. Aku dengan perasan yang marah. Terus cakap dengan benda tu. \\u201cKau balik ke alam kau. Aku datang sni utk berehat\\u201d. Sempat pula dia senyum dengan aku. Aku apa lagi sedia nak cabut dari bilik tu. Bila aku capai je tombol pintu telepon bilik bebunyi. Tiba2 Keadaan jadi reda . Ntah dari mana keberanian yang aku dapat aku jawab tlpn tersebut. Rupa nya nana. \\u201cKemana kau dengan wan pergi tadi?\\u201d Tak ajak orang. Sekali lagi jantung aku bagai nak tecabut. \\u201cEsok je cerita , megantuk ni.\\u201d Aku mematikan telepon dan terus tidur.\\nAku terbangun disebabkan ketukan pintu bilik aku. Wan dan nana dah tecegat depan pintu. Mereka masuk dengan muka pucat bgaikan tiada d***h. Kali ni aku tak mau terkena lagi aku cubit lengan mereka serentak. Mereka mengadu kesakitan. Okey ini benaran mereka.\\n\\u201cCepatlah mel, bersiap.\\u201d Mereka berdua masuk bilik dan terus duduk dekat saya. Tengah syok2 sembang tiba2 pintu toilet macam dibuka. Dia dah mula dah. Dalam hati aku. \\u201cWan, engko duduk diam2 kat sini. Nana engkau temankan aku mndi\\u201d. Aku capai tuala dan tarik nana mandi bersama aku. Siap berkemas. Kami terus blah.\\nSambil menikmati mkanan yang dipesan kami, tiba2 nana membuka cerita pasal semalam. \\u201d kamu berdua pergi mana tadi subuh?. Datang bilik aku, ketuk pintu kuat2. Dah dibukakan pintu bukan masuk malah meninggalkan diri aku macam tu je\\u201d. Rajuk nana. Aku dengan wan memandang sesama sendri. \\u201cJam berapa?\\u201d Tanya ku. Dalam jm3 lebih mcm tu. Kata nana. Wan mula membuka cerita.\\n1. Dalam perjalanan kita malam tu, sebenarnya ada benda ikut kita. Saya terperasaan apabila ada rambut berjuntai dekat cermin sebelah kau nana. Kata wan.\\n2.Semalam, tengah syok2 tidur diulit mimpi, \\u201cdia\\u201d datang siap meyerupai muka kau nana. \\u201cWan minta air ehh\\u201d. Siap cakap dengan aku. Aku baca apa yang patut terus rasa ada benda jatuh dekat pintu then hilang. Tu sebab aku call tu mel. Sambung wan.\\nAku dan nana terasa seram sejuk mendengar penjelasan wan. \\u201cAku nak cerita ni, kamu dua mau dengar ka? Soal ku. Wan dan nana hanya mengangguk.\\nAku perasn juga ada bnda ikut kita mlam tu. Sebab bas belakang kita asyik high light kita jak. \\u201cYala aku perasn juga\\u201d sampuk nana. Diam la, biar aku hbs cerita dulu. Marah ku. Kereta pun berat semacam je. Tu lah pasal aku pasang lagu rohani malam tu. Sambung ku. Semalam, bnda tu pn ada kacau aku. Benda tu pun menyerupai kau na. Bayangkan, benda tu siap boleh tidur sekatil dan senyum2 manja dengan ku. Ahahhaahahah. Sengaja aku ketawa hilangkan keresahan dimuka dua orang sahabat aku ni.\\nJam menunjuk jam11.30 pagi. Kami kembali ke hotel untuk checkout. Setelah siap mengambil barang masing2, kami turun ke lobi. Amoi dikuanter pun tegur kami. \\u201cSeorang lagi mana?. Kami bertiga berpandang sesama sendiri. Seorang?, dalam hati aku. \\u201cSemalam u orang naik hotel ada 4 orang mah\\u201d sambung amoi tersebut dalam loghat cina. Nana dengan spontan menjawab, \\u201ckami bertiga sajalah moi\\u201d. \\u201cManada oohh 4orang mah. Itu perempuan sebaya serupa mcam kau oohh.\\u201d Sambung amoii itu. \\u201d tak apalah kami gerak dulu\\u201d kata ku untuk mengelakkan si nana takut.\\nSebulan selepas kejadian itu. Saya mendapat panggilan telepon yang membawa khabar buruk. Nana telah meninggal dunia ketika bersendirian dirumah. Sampai sekarang kami semua tidak dapat mengenalpasti apa punca kematian nana. Adakah ini semua ada kaitan dengan apa yang berlaku di hotel tempoh hari? Saya sendiri tidak dapat menjawabnya.\"\r\n"
     ]
    }
   ],
   "source": [
    "!head -n 1 {files[0]}"
   ]
  },
  {
   "cell_type": "code",
   "execution_count": null,
   "id": "0183b65a",
   "metadata": {},
   "outputs": [],
   "source": []
  }
 ],
 "metadata": {
  "kernelspec": {
   "display_name": "Python 3 (ipykernel)",
   "language": "python",
   "name": "python3"
  },
  "language_info": {
   "codemirror_mode": {
    "name": "ipython",
    "version": 3
   },
   "file_extension": ".py",
   "mimetype": "text/x-python",
   "name": "python",
   "nbconvert_exporter": "python",
   "pygments_lexer": "ipython3",
   "version": "3.10.12"
  }
 },
 "nbformat": 4,
 "nbformat_minor": 5
}
