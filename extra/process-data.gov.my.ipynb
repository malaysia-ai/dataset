{
 "cells": [
  {
   "cell_type": "code",
   "execution_count": 11,
   "id": "fba0fccf",
   "metadata": {},
   "outputs": [],
   "source": [
    "# !wget https://huggingface.co/datasets/mesolitica/crawl-gov.my/resolve/main/data.gov.my -O data/data.gov.my"
   ]
  },
  {
   "cell_type": "code",
   "execution_count": 2,
   "id": "af0da1cc",
   "metadata": {},
   "outputs": [
    {
     "name": "stderr",
     "output_type": "stream",
     "text": [
      "12127it [00:33, 361.39it/s]\n"
     ]
    }
   ],
   "source": [
    "import json\n",
    "from tqdm import tqdm\n",
    "\n",
    "with open('hf-datasets/raw-datasets/data.gov.my.jsonl', 'w') as fopen_l:\n",
    "    with open('data/data.gov.my') as fopen:\n",
    "        for l in tqdm(fopen):\n",
    "            d = json.loads(l)\n",
    "            p = '\\n'.join(d['p'])\n",
    "            keys = d['file_urls'].keys()\n",
    "            keys = [k for k in keys if k.endswith('csv') or k.endswith('xlsx')]\n",
    "            if not len(keys):\n",
    "                continue\n",
    "            csv = d['file_urls'][keys[0]]\n",
    "            t = f'{p}\\n{csv}'\n",
    "            data = {\n",
    "                'text': t\n",
    "            }\n",
    "            fopen_l.write(f'{json.dumps(data)}\\n')"
   ]
  },
  {
   "cell_type": "code",
   "execution_count": null,
   "id": "1a415949",
   "metadata": {},
   "outputs": [],
   "source": []
  }
 ],
 "metadata": {
  "kernelspec": {
   "display_name": "Python 3 (ipykernel)",
   "language": "python",
   "name": "python3"
  },
  "language_info": {
   "codemirror_mode": {
    "name": "ipython",
    "version": 3
   },
   "file_extension": ".py",
   "mimetype": "text/x-python",
   "name": "python",
   "nbconvert_exporter": "python",
   "pygments_lexer": "ipython3",
   "version": "3.10.12"
  }
 },
 "nbformat": 4,
 "nbformat_minor": 5
}
