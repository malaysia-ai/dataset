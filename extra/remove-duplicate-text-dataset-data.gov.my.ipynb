{
 "cells": [
  {
   "cell_type": "code",
   "execution_count": 1,
   "id": "182bbc0c",
   "metadata": {},
   "outputs": [],
   "source": [
    "import json\n",
    "import pandas as pd\n",
    "from datasets import Dataset\n",
    "from bs4 import BeautifulSoup\n",
    "from tqdm import tqdm"
   ]
  },
  {
   "cell_type": "code",
   "execution_count": 8,
   "id": "aef4b4d5",
   "metadata": {},
   "outputs": [
    {
     "name": "stderr",
     "output_type": "stream",
     "text": [
      "10955it [00:02, 4482.57it/s]\n"
     ]
    }
   ],
   "source": [
    "data = []\n",
    "with open('hf-datasets/raw-datasets/data.gov.my.jsonl') as fopen:\n",
    "    for l in tqdm(fopen):\n",
    "        data.append(json.loads(l)['text'])"
   ]
  },
  {
   "cell_type": "code",
   "execution_count": 9,
   "id": "00207406",
   "metadata": {},
   "outputs": [
    {
     "data": {
      "text/plain": [
       "'Data ini menerangkan tentang PERUNTUKAN DAN BELANJA JALAN LUAR BANDAR (JALB) sehingga 30 Jun 2018.\\nJumlah Dilihat : 37\\nData ini menerangkan tentang PERUNTUKAN DAN BELANJA JALAN LUAR BANDAR (JALB)...\\nDownloads : 8\\n,JALAN LUAR BANDAR (JALB),Unnamed: 1,Unnamed: 2,Unnamed: 3,Unnamed: 4\\n0,,,,,\\n1,Negeri,2018,,,\\n2,,Peruntukan (RM),Belanja (RM),Panjang Jalan (km),Penerima Faedah\\n3,Johor,48800000,10711169.91,3.3,2000\\n4,Kedah,22700000,3774400,0,0\\n5,Kelantan,88991683.13,22771127.009999998,0,0\\n6,Melaka,14500000,494593.94,0,0\\n7,N. Sembilan,18000000,661570.54,0,0\\n8,P. Pinang,5000100,14373.6,0,0\\n9,Pahang,112658316.87,10272525.4,0,0\\n10,Perak,34600000,6403.65,0,0\\n11,Perlis,5200000,0,0,0\\n12,Selangor,100000,42983.85,0,0\\n13,Terengganu,47800000,3976352.53,0,0\\n14,Sabah,253500000,135292129.03,9,3000\\n15,Sarawak,129900000,27907837.62,9.6,4500\\n16,Jumlah,781750100,215925467.08,21.9,9500\\n17,,,,,\\n18,Nota : Data sehingga 30 Jun 2018,,,,\\n19,\"Sumber : Bahagian Prasarana, KPLB\",,,,\\n'"
      ]
     },
     "execution_count": 9,
     "metadata": {},
     "output_type": "execute_result"
    }
   ],
   "source": [
    "data[0]"
   ]
  },
  {
   "cell_type": "code",
   "execution_count": 10,
   "id": "0c4390a8",
   "metadata": {},
   "outputs": [
    {
     "data": {
      "text/plain": [
       "10955"
      ]
     },
     "execution_count": 10,
     "metadata": {},
     "output_type": "execute_result"
    }
   ],
   "source": [
    "len(data)"
   ]
  },
  {
   "cell_type": "code",
   "execution_count": 11,
   "id": "e66483cc",
   "metadata": {},
   "outputs": [],
   "source": [
    "data_dict = {\n",
    "    'text': data\n",
    "}"
   ]
  },
  {
   "cell_type": "code",
   "execution_count": 12,
   "id": "215e38b3",
   "metadata": {
    "scrolled": true
   },
   "outputs": [],
   "source": [
    "dataset = Dataset.from_dict(data_dict)"
   ]
  },
  {
   "cell_type": "code",
   "execution_count": 13,
   "id": "98957fc5",
   "metadata": {},
   "outputs": [
    {
     "data": {
      "text/plain": [
       "Dataset({\n",
       "    features: ['text'],\n",
       "    num_rows: 10955\n",
       "})"
      ]
     },
     "execution_count": 13,
     "metadata": {},
     "output_type": "execute_result"
    }
   ],
   "source": [
    "dataset"
   ]
  },
  {
   "cell_type": "code",
   "execution_count": 14,
   "id": "a6b6ff2e",
   "metadata": {
    "scrolled": false
   },
   "outputs": [
    {
     "data": {
      "application/vnd.jupyter.widget-view+json": {
       "model_id": "",
       "version_major": 2,
       "version_minor": 0
      },
      "text/plain": [
       "Saving the dataset (0/3 shards):   0%|          | 0/10955 [00:00<?, ? examples/s]"
      ]
     },
     "metadata": {},
     "output_type": "display_data"
    }
   ],
   "source": [
    "dataset.save_to_disk(\"hf-datasets/raw-datasets/data.gov.my\")"
   ]
  },
  {
   "cell_type": "code",
   "execution_count": 15,
   "id": "2267edb9",
   "metadata": {},
   "outputs": [
    {
     "name": "stdout",
     "output_type": "stream",
     "text": [
      "980M\thf-datasets/raw-datasets/data.gov.my\r\n"
     ]
    }
   ],
   "source": [
    "!du -hs hf-datasets/raw-datasets/data.gov.my"
   ]
  },
  {
   "cell_type": "markdown",
   "id": "42a65198",
   "metadata": {},
   "source": [
    "### 2. Run below command\n",
    "\n",
    "make sure directory for the script is correct before running the command\n",
    "\n",
    "- path -  your dataset to dedupe path\n",
    "- name - relevant only when u use dataset directly from huggingface\n",
    "- output - output directory of the dedupe dataset\n",
    "- column - column of the text we are going to remove duplicate\n",
    "- threshold - jaccard similarity threshold\n",
    "- local - (local dataset or directly from huggingface) remove if dataset is not local"
   ]
  },
  {
   "cell_type": "code",
   "execution_count": 16,
   "id": "90f88780",
   "metadata": {
    "scrolled": true
   },
   "outputs": [
    {
     "data": {
      "text/plain": [
       "'python3 -m text_dedup.minhash   --path hf-datasets/raw-datasets/data.gov.my   --split train   --cache_dir ./cache   --output hf-datasets/dedupe-datasets/data.gov.my   --column text   --batch_size 10000   --threshold 0.95   --min_length 1   --local'"
      ]
     },
     "execution_count": 16,
     "metadata": {},
     "output_type": "execute_result"
    }
   ],
   "source": [
    "command = f\"python3 -m text_dedup.minhash \\\n",
    "  --path hf-datasets/raw-datasets/data.gov.my \\\n",
    "  --split train \\\n",
    "  --cache_dir ./cache \\\n",
    "  --output hf-datasets/dedupe-datasets/data.gov.my \\\n",
    "  --column text \\\n",
    "  --batch_size 10000 \\\n",
    "  --threshold 0.95 \\\n",
    "  --min_length 1 \\\n",
    "  --local\"\n",
    "\n",
    "command"
   ]
  },
  {
   "cell_type": "code",
   "execution_count": 18,
   "id": "7533c3b2",
   "metadata": {},
   "outputs": [],
   "source": [
    "# import subprocess\n",
    "# subprocess.run(command, shell=True)"
   ]
  },
  {
   "cell_type": "markdown",
   "id": "c78e95bc",
   "metadata": {},
   "source": [
    "The script produced the following\n",
    "\n",
    "- duplicates.csv : containing duplicate pairs indices (document index)\n",
    "- duplicate_cluster.csv: the text of duplicate pairs for view\n",
    "- the deduped dataset in huggingface dataset type (from output argument)\n",
    "- dedup dataset in jsonl format"
   ]
  },
  {
   "cell_type": "code",
   "execution_count": 19,
   "id": "3745011d",
   "metadata": {},
   "outputs": [
    {
     "name": "stdout",
     "output_type": "stream",
     "text": [
      "10897 hf-datasets/dedupe-datasets/data.gov.my.jsonl\r\n"
     ]
    }
   ],
   "source": [
    "!wc -l hf-datasets/dedupe-datasets/data.gov.my.jsonl"
   ]
  },
  {
   "cell_type": "code",
   "execution_count": 20,
   "id": "d56c91e8",
   "metadata": {
    "scrolled": true
   },
   "outputs": [
    {
     "name": "stdout",
     "output_type": "stream",
     "text": [
      "-rw-r--r-- 1 ubuntu ubuntu 994M Aug 18 03:06 hf-datasets/dedupe-datasets/data.gov.my.jsonl\r\n"
     ]
    }
   ],
   "source": [
    "!ls -lh hf-datasets/dedupe-datasets/data.gov.my.jsonl"
   ]
  },
  {
   "cell_type": "code",
   "execution_count": 21,
   "id": "f32a5e6e",
   "metadata": {},
   "outputs": [],
   "source": [
    "!rm -rf hf-datasets/dedupe-datasets/data.gov.my hf-datasets/raw-datasets/data.gov.my"
   ]
  }
 ],
 "metadata": {
  "kernelspec": {
   "display_name": "Python 3 (ipykernel)",
   "language": "python",
   "name": "python3"
  },
  "language_info": {
   "codemirror_mode": {
    "name": "ipython",
    "version": 3
   },
   "file_extension": ".py",
   "mimetype": "text/x-python",
   "name": "python",
   "nbconvert_exporter": "python",
   "pygments_lexer": "ipython3",
   "version": "3.10.12"
  }
 },
 "nbformat": 4,
 "nbformat_minor": 5
}
