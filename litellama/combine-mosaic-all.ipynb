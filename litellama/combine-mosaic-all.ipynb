{
 "cells": [
  {
   "cell_type": "code",
   "execution_count": 1,
   "id": "e7d31a75",
   "metadata": {},
   "outputs": [],
   "source": [
    "from glob import glob\n",
    "from streaming import MDSWriter\n",
    "from streaming import LocalDataset, StreamingDataset\n",
    "from transformers import default_data_collator, DataCollatorForLanguageModeling\n",
    "from tqdm import tqdm\n",
    "import numpy as np"
   ]
  },
  {
   "cell_type": "code",
   "execution_count": 2,
   "id": "1aefad1a",
   "metadata": {},
   "outputs": [],
   "source": [
    "folders = sorted(glob('tokenized_indexes/tokenized-*'), key = lambda x: int(x.split('-')[-1]))"
   ]
  },
  {
   "cell_type": "code",
   "execution_count": 3,
   "id": "d3faf83f",
   "metadata": {},
   "outputs": [],
   "source": [
    "folders.extend(sorted(glob('tokenized_extra/tokenized-*'), key = lambda x: int(x.split('-')[-1])))"
   ]
  },
  {
   "cell_type": "code",
   "execution_count": 4,
   "id": "1045f25d",
   "metadata": {},
   "outputs": [],
   "source": [
    "from streaming.base.format.mds.encodings import Encoding, _encodings\n",
    "\n",
    "class UInt16(Encoding):\n",
    "    def encode(self, obj) -> bytes:\n",
    "        return obj.tobytes()\n",
    "\n",
    "    def decode(self, data: bytes):\n",
    "        return np.frombuffer(data, np.uint16)\n",
    "\n",
    "_encodings['uint16'] = UInt16"
   ]
  },
  {
   "cell_type": "code",
   "execution_count": 5,
   "id": "c446bcaa",
   "metadata": {},
   "outputs": [],
   "source": [
    "columns = {\n",
    "    'input_ids': 'uint16',\n",
    "}\n",
    "\n",
    "compression = 'zstd'\n",
    "hashes = 'sha1', 'xxh64'"
   ]
  },
  {
   "cell_type": "code",
   "execution_count": 6,
   "id": "df19e976",
   "metadata": {},
   "outputs": [],
   "source": [
    "!rm -rf combine-all"
   ]
  },
  {
   "cell_type": "code",
   "execution_count": 7,
   "id": "74c5524e",
   "metadata": {},
   "outputs": [
    {
     "name": "stderr",
     "output_type": "stream",
     "text": [
      "/home/ubuntu/.local/lib/python3.10/site-packages/streaming/base/dataset.py:397: UserWarning: Because `predownload` was not specified, it will default to 8*batch_size if batch_size is not None, otherwise 64. Prior to Streaming v0.7.0, `predownload` defaulted to max(batch_size, 256 * batch_size // num_canonical_nodes).\n",
      "  warnings.warn(f'Because `predownload` was not specified, it will default to ' +\n",
      "100%|██████████| 796855/796855 [00:37<00:00, 21315.92it/s]\n",
      "100%|██████████| 198350/198350 [00:09<00:00, 21047.43it/s]\n",
      "100%|██████████| 97906/97906 [00:04<00:00, 21635.00it/s]\n",
      "100%|██████████| 113487/113487 [00:05<00:00, 20761.16it/s]\n",
      "100%|██████████| 111516/111516 [00:06<00:00, 18543.29it/s]\n",
      "100%|██████████| 61967/61967 [00:02<00:00, 21664.59it/s]\n",
      "100%|██████████| 45167/45167 [00:03<00:00, 13430.82it/s]\n",
      "100%|██████████| 129551/129551 [00:06<00:00, 21531.84it/s]\n",
      "100%|██████████| 238372/238372 [00:12<00:00, 18961.75it/s]\n",
      "100%|██████████| 238387/238387 [00:12<00:00, 19721.06it/s]\n",
      "100%|██████████| 577225/577225 [00:29<00:00, 19245.44it/s]\n",
      "100%|██████████| 111841/111841 [00:05<00:00, 21265.39it/s]\n",
      "100%|██████████| 110952/110952 [00:07<00:00, 14979.07it/s]\n",
      "100%|██████████| 339991/339991 [00:18<00:00, 18262.81it/s]\n",
      "100%|██████████| 344519/344519 [00:18<00:00, 18347.32it/s]\n",
      "100%|██████████| 163652/163652 [00:08<00:00, 20416.54it/s]\n",
      "100%|██████████| 500663/500663 [00:25<00:00, 19590.86it/s]\n",
      "100%|██████████| 315211/315211 [00:16<00:00, 18596.42it/s]\n",
      "100%|██████████| 21222/21222 [00:01<00:00, 18785.85it/s]\n",
      "100%|██████████| 20029/20029 [00:01<00:00, 14570.60it/s]\n",
      "100%|██████████| 20072/20072 [00:01<00:00, 15985.97it/s]\n",
      "100%|██████████| 20114/20114 [00:02<00:00, 9097.38it/s] \n",
      "100%|██████████| 19945/19945 [00:03<00:00, 5805.27it/s] \n",
      "100%|██████████| 20004/20004 [00:01<00:00, 14133.71it/s]\n",
      "100%|██████████| 20021/20021 [00:01<00:00, 16135.24it/s]\n",
      "100%|██████████| 20299/20299 [00:01<00:00, 14861.91it/s]\n",
      "100%|██████████| 20139/20139 [00:01<00:00, 15427.38it/s]\n",
      "100%|██████████| 20019/20019 [00:04<00:00, 4764.18it/s] \n",
      "100%|██████████| 20087/20087 [00:01<00:00, 14798.51it/s]\n",
      "100%|██████████| 24242/24242 [00:02<00:00, 11457.45it/s]\n",
      "100%|██████████| 18096/18096 [00:02<00:00, 7874.32it/s] \n"
     ]
    }
   ],
   "source": [
    "with MDSWriter(out='combine-all', columns=columns, compression=None, hashes=hashes) as out:\n",
    "    for f in folders:\n",
    "        try:\n",
    "            dataset = StreamingDataset(local=f)\n",
    "            for i in tqdm(range(len(dataset))):\n",
    "                out.write(dataset[i])\n",
    "        except Exception as e:\n",
    "            print(e)\n",
    "            pass"
   ]
  },
  {
   "cell_type": "code",
   "execution_count": 8,
   "id": "4a992c8a",
   "metadata": {},
   "outputs": [],
   "source": [
    "dataset = LocalDataset('combine-all')"
   ]
  },
  {
   "cell_type": "code",
   "execution_count": 9,
   "id": "c6466439",
   "metadata": {},
   "outputs": [
    {
     "data": {
      "text/plain": [
       "4759901"
      ]
     },
     "execution_count": 9,
     "metadata": {},
     "output_type": "execute_result"
    }
   ],
   "source": [
    "len(dataset)"
   ]
  },
  {
   "cell_type": "code",
   "execution_count": 11,
   "id": "904f7527",
   "metadata": {},
   "outputs": [],
   "source": [
    "from transformers import AutoTokenizer\n",
    "\n",
    "tokenizer = AutoTokenizer.from_pretrained(\n",
    "'ahxt/LiteLlama-460M-1T',\n",
    ")\n",
    "tokenizer.add_bos_token = False\n",
    "tokenizer.add_eos_token = False\n",
    "tokenizer.model_max_length = 32768\n",
    "special_tokens_dict = {\"eos_token\": \"</s>\", \"bos_token\": '<s>'}\n",
    "num_added_toks = tokenizer.add_special_tokens(special_tokens_dict)"
   ]
  },
  {
   "cell_type": "code",
   "execution_count": 12,
   "id": "36f1eca5",
   "metadata": {
    "scrolled": true
   },
   "outputs": [
    {
     "data": {
      "text/plain": [
       "'<s>Bahasa Melayu (Tulisan Jawi: بهاس ملايو; Rejang: ꤷꥁꤼ ꤸꥍꤾꤿꥈ) ialah salah satu daripada bahasa-bahasa Melayu-Polinesia di bawah keluarga bahasa Austronesia, yang merupakan bahasa rasmi di Brunei, Indonesia, Malaysia dan Singapura, serta dituturkan di Timor Leste dan sebahagian wilayah di Kemboja, Filipina dan Thailand. Jumlah penutur bahasa Melayu mencakupi lebih daripada 290 juta penutur (seramai 260 juta orang bertutur bahasa Indonesia) merentasi kawasan maritim Asia Tenggara. Sebagai salah satu daripada bahasa-bahasa yang paling luas digunakan di Asia Tenggara, bahasa Melayu mempunyai istilah perundangan yang berbeza di negara-negara terlibat bergantung pada sejarah dan budaya penggunaan bahasa Melayu di negara-negara tersebut. Di Malaysia, istilah \"bahasa Melayu\" ialah istilah \"de jure\" untuk pentakrifan rasmi bahasa kebangsaan negara Malaysia, manakala istilah \"bahasa Malaysia\" atau \"bahasa Melayu Malaysia\" seringkali digunakan mewakili perkara yang sama secara tidak formal di kalangan rakyat Malaysia. Di Singapura, Bahasa Melayu mempunyai status bahasa kebangsaan pada waktu yang sama merupakan salah satu daripada empat bahasa rasmi (tiga lagi bahasa rasmi lain ialah bahasa Inggeris, bahasa Cina, dan bahasa Tamil). Di Brunei, \"bahasa Melayu\" juga ditakrifkan sebagai bahasa rasmi negara dan bahasa Melayu diutamakan apabila berlakunya percanggahan dengan versi bahasa Inggeris teks undang-udang. Di Indonesia, bentuk piawai bahasa Melayu dikenali sebagai bahasa Indonesia yang berperanan sebagai bahasa pemersatu di negara Indonesia. Penggunaan istilah \"bahasa Melayu\" di Indonesia pula hanya terhad kepada bentuk-bentuk vernakular bahasa Melayu (yakni bahasa Melayu tempatan) yang dituturkan di kawasan asli Melayu terletak di zon tengah Sumatra (seperti Riau, Kepulauan Riau, Jambi dan lain-lain), Sumatra Selatan dan Kalimantan Barat Indonesia. Di Timor Leste, Bahasa Indonesia masih tetap dikekalkan sebagai bahasa rasmi utamanya sebagai \"bahasa bekerja\" walaupun telah merdeka daripada negara Indonesia. Di selatan Thailand, bahasa Melayu digunakan oleh orang-orang dari Kesultanan Melayu Patani (orang Melayu Pattani), tetapi tidak memperolehi sebarang pengiktirafan daripada kerajaan. Bahasa Melayu Klasik, secara spesifiknya \"bahasa istana\" (atau dikenali sebagai \"Court Malay\" dalam bahasa Inggeris), ialah bahasa piawai sastera bersusurgalur daripada kesultanan Melaka dan kesultanan Johor, disebabkan itulah bahasa ini juga dikenali sebagai bahasa Melayu Melaka, Johor atau Riau (atau pelbagai jenis gabungan nama yang berasaskan mana-mana dari tiga nama tempat ini) untuk membezakannya daripada bahasa-bahasa Melayik yang lain. Menurut \"Ethnologue\" 26, beberapa kelainan bahasa-bahasa Melayik disenaraikan sebagai bahasa-bahasa yang terpisah, termasuklah kelainan bahasa-bahasa Melayu Semenanjung yang dituturkan oleh Orang Asli, yang sangat rapat hubungannya dengan bahasa Melayu Baku yang boleh dianggap sebagai dialek-dialeknya. Terdapat beberapa bahasa dagang atau bahasa kreol Melayu yang berdasarkan satu bentuk \"lingua franca\" yang disusurgalurkan ke bahasa Melayu Klasik. Asal usul bahasa Melayu اصل اصول بهاس ملايو. Ahli-ahli linguistik bahasa Melayu bersetuju dengan kemungkinan bahawa asal usul bahasa Melayu terletak di barat pulau Borneo. Satu bentuk bahasa yang kini dikenali sebagai bahasa Melayu Purba (dari segi linguistik dikenali sebagai bahasa Melayik Purba) dituturkan di pulau Borneo sekurang-kurangnya pada 1000 tahun sebelum Masihi dan dianggap sebagai leluhur kepada kesemua bahasa di bawah kumpulan Melayik. Leluhur bahasa purba ini ialah bahasa Melayu-Polinesia Purba, yang merupakan turunan dari bahasa Austronesia Purba, mula bercambah sekurang-kurangnya pada 2000 tahun sebelum Masihi, yang mungkin hasil daripada penerokaanorang Austronesia dari pulau Taiwan ke arah kawasan yang terletak lebih selatan yakni kawasan maritim Asia Tenggara Sejarah Bahasa Melayu سجاره بهاس ملايو. Secara umumnya, garis perkembangan bahasa Melayu terbahagi kepada tiga fasa utama iaitu bahasa Melayu Kuno, bahasa Melayu Klasik dan bahasa Melayu Moden, dan terdapat fasa peralihan di antara fasa-fasa utama tersebut. Sesetengah pakar bahasa menganggap bahasa Melayu Kuno ialah bahasa leluhur bahasa Melayu Klasik, tetapi sesetengah ahli linguistik yang lain pula berpendapat bahawa hubungan leluhur antara dua fasa bahasa ini susah untuk ditentusahkan berikutan keganjilan dari segi morfologi dan sintaksis antara dua fasa ini, serta keserentakan penggunaan kedua-dua fasa bahasa ini pada abad ke-14. Bahasa Melayu Kuno dipengaruhi oleh bahasa Sanskrit yang merupakan bahasa klasik di India. Peminjaman kata-kata Sanskrit boleh didapati dalam perbendaharaan bahasa Melayu Kuno. Batu bersurat terawal dalam bahasa Melayu Kuno dijumpai di Sumatra, Indonesia, dan ditulis dalam huruf-huruf Grantha bervariasi Pallava dan tarikhnya ditentukan pada 1 Mei 683. Batu bersurat ini dikenali sebagai batu bersurat Kedukan Bukit yang dijumpai oleh orang Belanda yang bernama M. Batenburg pada 29 November 1920 di Sungai Musi, Kedukan Bukit, Sumatra Selatan. Ia merupakan batu kecil berukuran. Bukti lain ialah naskhah Undang-undang Tanjung Tanah dalam huruf-huruf pasca-Pallava. Teks perundangan pra-Islam pada abad ke-14 ini dihasilkan pada zaman pemerintahan Adityawarman (1345–1377) di kerajaan Dharmasraya, yang merupakan kerajaan Hindu-Buddha yang membangun setelah tamatnya kekuasaan Srivijaya di Sumatra. Undang-undang ini ditulis untuk orang Minangkabau yang masih tinggal di tanah tinggi di barat Sumatra, Indonesia. Batu bersurat Terengganu (Jawi: باتو برسورت ترڠݢانو) ialah pacakan batu granit dengan inskripsi tulisan Jawi dan dijumpai di Terengganu, Malaysia. Ia adalah bukti terawal kewujudan batu-batu bersurat bahasa Melayu Klasik. Batu bersurat yang bertarikh tahun 702 hijrah (bersamaan tahun 1303 masihi) merupakan bukti terawal tulisan Jawi di alam Melayu Asia Tenggara, dan juga merupakan salah satu daripada bukti terawal kepada kewujudan Islam sebagai agama negeri di rantau ini. Kandungan batu bersurat ini ialah pengisytiharan pemerintah di Terengganu yang dikenali sebagai Seri Padukan Tuan, yang menyuruh pengikutnya untuk mendukung agama Islam, serta memberikan 10 fasal asas undang-undang syariah bagi membimbing pengikutnya. Bahasa Melayu mendapat penggunaan yang semakin meluas dan kukuh sebagai bahasa perantaraan kawasan maritim Asia Tenggara sewaktu zaman Kesultanan Melayu Melaka (1402–1511). Zaman ini menyaksikan perkembangan bahasa Melayu yang pantas di bawah pengaruh kesusasteraan Islam. Perkembangan bahasa ini mengubah sifat bahasa ini melalui kemasukan perbendaharaan kata secara mendadak dari bahasa Arab, bahasa Tamil dan bahasa Sanskrit, sehingga membentuk kesusasteraan Melayu Klasik yang matang. Bahasa Melayu pada zaman Kesultanan Melayu Melaka ini berevolusi menjadi bentuk yang boleh dikenalpasti oleh penutur bahasa Melayu pada zaman moden. Apabila kerajaan ini berpindah dan mendirikan Kesultanan Johor Lama, ia terus digunapakai sebagai bahasa klasik serantau; sehingga ia amat berhubungkait dengan kerajaan Riau di bawah pengaruh Belanda dan kerajaan Johor di bawah pengaruh British sehingga bahasa Melayu Riau dianggap dekat dengan bahasa klasik itu. Namun, tiada hubungkait antara bahasa Melayu Melaka yang digunakan di istana Riau dan bahasa Riau vernakular yang digunapakai oleh penduduk tempatan Riau. Surat-surat dari Sultan Abu Hayat yangmemerintah Ternate dan Kepulauan Maluku (yang kini di dalam Indonesia) pada tahun 1521-1522 merupakan antara surat-surat tertua yang ditulis dalam bahasa Melayu. Teks surat ini ditulis kepada raja Portugal, selepas berhubung dengan peneroka Portugis bernama Francisco Serrão. Surat-surat ini menunjukkan tanda penggunaan bahasa yang bukan asli; kerana orang Ternate menggunapakai (dari dahulukala sehingga ke hari ini) bahasa Ternate sebagai bahasa ibunda mereka (yakni salah satu daripada bahasa-bahasa di Papua Barat). Bahasa Melayu adalah satu-satunya bahasa yang digunakan sebagai bahasa perantara (atau \"lingua franca\") untuk perhubungan antara pelbagai kaum. Pengelasan bahasa ڤڠلسن بهاس. Bahasa Melayu ialah salah satu ahli keluarga bahasa Austronesia yang meliputi bahasa-bahasa di kawasan Asia Tenggara dan Lautan Teduh, serta sebilangan kecil di benua Asia. Bahasa Malagasi, yakni bahasa tersisih dari segi geografi, yang dituturkan di Madagaskar terletak di barat Lautan India, juga merupakan ahli keluarga bahasa-bahasa Austronesia. Walaupun bahasa-bahasa ini tidak semestinya mempunyai kesalingfahaman yang jelas, persamaan yang terdapat pada bahasa-bahasa ini sebenarnya agak jelas. Dalam bahasa-bahasa yang lebih konservatif seperti bahasa Melayu, terdapat banyak kata-kata akar yang mengalami perubahan yang agak kecil dari bahasa leluhur mereka yakni bahasa Austronesia Purba. Terdapat banyak kata-kata kognat dalam perbendaharaan bahasa-bahasa ini dari segi hubungan pertalian, kesihatan, bahagian tubuh badan, dan nama-nama haiwan am. Persamaan dijumpai lebih ketara pada nombor-nombor yang ada pada keluarga bahasa ini. Di bawah keluarga bahasa Austronesia, bahasa Melayu terdiri daripada sekelompok gaya-gaya pertuturan yang rapat hubungkaitnya yang dikenali sebagai bahasa-bahasa Melayik yang tersebar merentasi Semenanjung Tanah Melayu dan kepulauan Indonesia oleh pedagang-pedagang Melayu dari Sumatra. Terdapat perbezaan pendapat mengenai kelainan-kelainan pertuturan yang manakah sepatutnya dikempok sebagai dialek-dialek bahasa Melayu, dan kelainan-kelainan yang manakah sepatutnya dianggap sebagai bahasa-bahasa Melayu yang terpisah. Bahasa vernakular di Brunei yakni bahasa Melayu Brunei misalnya tidak boleh disalingfaham dengan bahasa piawai, dan hal ini turut berlaku pada kelainan bahasa yang terdapat di Semenanjung Tanah Melayu seperti bahasa Melayu Kedah. Tetapi, bahasa Melayu Brunei dan bahasa Melayu Kedah pula mempunyai hubungan yang agak dekat. Sistem tulisan سيستم توليسن. Bahasa Melayu kini ditulis dalam tulisan Rumi di Brunei, Malaysia dan Singapura atau \"tulisan Latin\" di Indonesia, walaupun tulisan Arab yang dikenali sebagai \"tulisan Arab Melayu\" atau tulisan Jawi juga wujud. Tulisan Rumi merupakan tulisan rasmi di negara Malaysia, Singapura, dan Indonesia. Bahasa Melayu menggunakan sistem angka Arab. Kedua-dua tulisan Rumi dan tulisan Jawi adalah tulisan-tulisan rasmi hanya di Brunei. Nama-nama di institusi atau organisasi di Brune'"
      ]
     },
     "execution_count": 12,
     "metadata": {},
     "output_type": "execute_result"
    }
   ],
   "source": [
    "tokenizer.decode(dataset[0]['input_ids'])"
   ]
  },
  {
   "cell_type": "code",
   "execution_count": null,
   "id": "23e0a4e8",
   "metadata": {},
   "outputs": [],
   "source": []
  }
 ],
 "metadata": {
  "kernelspec": {
   "display_name": "Python 3 (ipykernel)",
   "language": "python",
   "name": "python3"
  },
  "language_info": {
   "codemirror_mode": {
    "name": "ipython",
    "version": 3
   },
   "file_extension": ".py",
   "mimetype": "text/x-python",
   "name": "python",
   "nbconvert_exporter": "python",
   "pygments_lexer": "ipython3",
   "version": "3.10.12"
  }
 },
 "nbformat": 4,
 "nbformat_minor": 5
}
