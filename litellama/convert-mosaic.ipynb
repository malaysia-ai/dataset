{
 "cells": [
  {
   "cell_type": "code",
   "execution_count": 1,
   "id": "bd2dd899",
   "metadata": {},
   "outputs": [],
   "source": [
    "# !wget https://gist.githubusercontent.com/huseinzol05/98974ae8c6c7a65d4bc0af9f5003786a/raw/5aa5257608b61e8fcc828e99fbd070d5ca7358e3/mp.py\n",
    "\n",
    "from glob import glob\n",
    "from tqdm import tqdm\n",
    "import msgspec\n",
    "import mp\n",
    "import os\n",
    "import numpy as np\n",
    "from streaming import MDSWriter\n",
    "from transformers import AutoTokenizer"
   ]
  },
  {
   "cell_type": "code",
   "execution_count": 2,
   "id": "784a0e34",
   "metadata": {},
   "outputs": [],
   "source": [
    "train_file = 'combine-lm.jsonl'"
   ]
  },
  {
   "cell_type": "code",
   "execution_count": 3,
   "id": "033967d5",
   "metadata": {},
   "outputs": [],
   "source": [
    "split_by = 5000000"
   ]
  },
  {
   "cell_type": "code",
   "execution_count": 4,
   "id": "38dc27e8",
   "metadata": {},
   "outputs": [],
   "source": [
    "!rm -rf partitions\n",
    "!mkdir partitions"
   ]
  },
  {
   "cell_type": "code",
   "execution_count": 5,
   "id": "415c87ba",
   "metadata": {},
   "outputs": [
    {
     "name": "stderr",
     "output_type": "stream",
     "text": [
      "87807238it [04:56, 296256.87it/s]\n"
     ]
    }
   ],
   "source": [
    "index = 0\n",
    "count = 0\n",
    "a = open(f'partitions/combined-lm-{index}.jsonl', 'w')\n",
    "\n",
    "with open('combine-lm.jsonl') as fopen:\n",
    "    for l in tqdm(fopen):\n",
    "        a.write(l)\n",
    "        a.flush()\n",
    "        count += 1\n",
    "        if count >= split_by:\n",
    "            a.close()\n",
    "            index += 1\n",
    "            count = 0\n",
    "            a = open(f'partitions/combined-lm-{index}.jsonl', 'w')\n",
    "            \n",
    "a.close()"
   ]
  },
  {
   "cell_type": "code",
   "execution_count": 6,
   "id": "52bbe383",
   "metadata": {},
   "outputs": [],
   "source": [
    "block_size = 4096\n",
    "\n",
    "def read_dataset(train_file, block_size = block_size):\n",
    "    \n",
    "    tokenizer = AutoTokenizer.from_pretrained(\n",
    "    'ahxt/LiteLlama-460M-1T',\n",
    "    )\n",
    "    tokenizer.add_bos_token = False\n",
    "    tokenizer.add_eos_token = False\n",
    "    tokenizer.model_max_length = 32768\n",
    "    special_tokens_dict = {\"eos_token\": \"</s>\", \"bos_token\": '<s>'}\n",
    "    num_added_toks = tokenizer.add_special_tokens(special_tokens_dict)\n",
    "    text_column_name = 'text'\n",
    "    temp = []\n",
    "    with open(train_file) as fopen:\n",
    "        for l in fopen:\n",
    "            l = msgspec.json.decode(l)\n",
    "            tokenized = tokenizer(l['text'])['input_ids']\n",
    "            temp.extend(tokenized)\n",
    "            while len(temp) >= block_size:\n",
    "                block = temp[:block_size]\n",
    "                temp = temp[block_size:]\n",
    "                if len(block) == block_size:\n",
    "                    yield np.array(block).astype(np.uint16)"
   ]
  },
  {
   "cell_type": "code",
   "execution_count": 7,
   "id": "cf86d558",
   "metadata": {},
   "outputs": [
    {
     "data": {
      "text/plain": [
       "['partitions/combined-lm-0.jsonl',\n",
       " 'partitions/combined-lm-1.jsonl',\n",
       " 'partitions/combined-lm-2.jsonl',\n",
       " 'partitions/combined-lm-3.jsonl',\n",
       " 'partitions/combined-lm-4.jsonl',\n",
       " 'partitions/combined-lm-5.jsonl',\n",
       " 'partitions/combined-lm-6.jsonl',\n",
       " 'partitions/combined-lm-7.jsonl',\n",
       " 'partitions/combined-lm-8.jsonl',\n",
       " 'partitions/combined-lm-9.jsonl',\n",
       " 'partitions/combined-lm-10.jsonl',\n",
       " 'partitions/combined-lm-11.jsonl',\n",
       " 'partitions/combined-lm-12.jsonl',\n",
       " 'partitions/combined-lm-13.jsonl',\n",
       " 'partitions/combined-lm-14.jsonl',\n",
       " 'partitions/combined-lm-15.jsonl',\n",
       " 'partitions/combined-lm-16.jsonl',\n",
       " 'partitions/combined-lm-17.jsonl']"
      ]
     },
     "execution_count": 7,
     "metadata": {},
     "output_type": "execute_result"
    }
   ],
   "source": [
    "files = sorted(glob('partitions/combined-lm-*.jsonl'), key = lambda x: int(x.split('-')[-1].replace('.jsonl', '')))\n",
    "files"
   ]
  },
  {
   "cell_type": "code",
   "execution_count": 8,
   "id": "0021329a",
   "metadata": {},
   "outputs": [
    {
     "data": {
      "text/plain": [
       "array([50258, 47514, 15462, ..., 17053,  2566, 46070], dtype=uint16)"
      ]
     },
     "execution_count": 8,
     "metadata": {},
     "output_type": "execute_result"
    }
   ],
   "source": [
    "next(read_dataset(files[0]))"
   ]
  },
  {
   "cell_type": "code",
   "execution_count": 9,
   "id": "c04e92d7",
   "metadata": {},
   "outputs": [],
   "source": [
    "from streaming.base.format.mds.encodings import Encoding, _encodings\n",
    "\n",
    "class UInt16(Encoding):\n",
    "    def encode(self, obj) -> bytes:\n",
    "        return obj.tobytes()\n",
    "\n",
    "    def decode(self, data: bytes):\n",
    "        return np.frombuffer(data, np.uint16)\n",
    "\n",
    "_encodings['uint16'] = UInt16"
   ]
  },
  {
   "cell_type": "code",
   "execution_count": 10,
   "id": "3aebad7f",
   "metadata": {},
   "outputs": [],
   "source": [
    "columns = {\n",
    "    'input_ids': 'uint16',\n",
    "}\n",
    "compression = 'zstd'\n",
    "hashes = 'sha1', 'xxh64'"
   ]
  },
  {
   "cell_type": "code",
   "execution_count": 11,
   "id": "650e2a0a",
   "metadata": {},
   "outputs": [
    {
     "name": "stderr",
     "output_type": "stream",
     "text": [
      "huggingface/tokenizers: The current process just got forked, after parallelism has already been used. Disabling parallelism to avoid deadlocks...\n",
      "To disable this warning, you can either:\n",
      "\t- Avoid using `tokenizers` before the fork if possible\n",
      "\t- Explicitly set the environment variable TOKENIZERS_PARALLELISM=(true | false)\n",
      "huggingface/tokenizers: The current process just got forked, after parallelism has already been used. Disabling parallelism to avoid deadlocks...\n",
      "To disable this warning, you can either:\n",
      "\t- Avoid using `tokenizers` before the fork if possible\n",
      "\t- Explicitly set the environment variable TOKENIZERS_PARALLELISM=(true | false)\n"
     ]
    }
   ],
   "source": [
    "!rm -rf tokenized_indexes\n",
    "!mkdir tokenized_indexes"
   ]
  },
  {
   "cell_type": "code",
   "execution_count": 12,
   "id": "5b372ab6",
   "metadata": {},
   "outputs": [],
   "source": [
    "def loop(files):\n",
    "    files, index = files\n",
    "    out_root = f'tokenized_indexes/tokenized-{index}'\n",
    "    os.system(f'rm -rf {out_root}')\n",
    "    with MDSWriter(out=out_root, columns=columns, compression=None, hashes=hashes) as out:\n",
    "        for f in files:\n",
    "            for block in tqdm(read_dataset(train_file = f)):\n",
    "                sample = {\n",
    "                    'input_ids': block\n",
    "                }\n",
    "                out.write(sample)"
   ]
  },
  {
   "cell_type": "code",
   "execution_count": 13,
   "id": "61f97a50",
   "metadata": {},
   "outputs": [
    {
     "name": "stderr",
     "output_type": "stream",
     "text": [
      "huggingface/tokenizers: The current process just got forked, after parallelism has already been used. Disabling parallelism to avoid deadlocks...\n",
      "To disable this warning, you can either:\n",
      "\t- Avoid using `tokenizers` before the fork if possible\n",
      "\t- Explicitly set the environment variable TOKENIZERS_PARALLELISM=(true | false)\n",
      "huggingface/tokenizers: The current process just got forked, after parallelism has already been used. Disabling parallelism to avoid deadlocks...\n",
      "To disable this warning, you can either:\n",
      "\t- Avoid using `tokenizers` before the fork if possible\n",
      "\t- Explicitly set the environment variable TOKENIZERS_PARALLELISM=(true | false)\n",
      "huggingface/tokenizers: The current process just got forked, after parallelism has already been used. Disabling parallelism to avoid deadlocks...\n",
      "To disable this warning, you can either:\n",
      "\t- Avoid using `tokenizers` before the fork if possible\n",
      "\t- Explicitly set the environment variable TOKENIZERS_PARALLELISM=(true | false)\n",
      "huggingface/tokenizers: The current process just got forked, after parallelism has already been used. Disabling parallelism to avoid deadlocks...\n",
      "To disable this warning, you can either:\n",
      "\t- Avoid using `tokenizers` before the fork if possible\n",
      "\t- Explicitly set the environment variable TOKENIZERS_PARALLELISM=(true | false)\n",
      "huggingface/tokenizers: The current process just got forked, after parallelism has already been used. Disabling parallelism to avoid deadlocks...\n",
      "To disable this warning, you can either:\n",
      "\t- Avoid using `tokenizers` before the fork if possible\n",
      "\t- Explicitly set the environment variable TOKENIZERS_PARALLELISM=(true | false)\n",
      "huggingface/tokenizers: The current process just got forked, after parallelism has already been used. Disabling parallelism to avoid deadlocks...\n",
      "To disable this warning, you can either:\n",
      "\t- Avoid using `tokenizers` before the fork if possible\n",
      "\t- Explicitly set the environment variable TOKENIZERS_PARALLELISM=(true | false)\n",
      "huggingface/tokenizers: The current process just got forked, after parallelism has already been used. Disabling parallelism to avoid deadlocks...\n",
      "To disable this warning, you can either:\n",
      "\t- Avoid using `tokenizers` before the fork if possible\n",
      "\t- Explicitly set the environment variable TOKENIZERS_PARALLELISM=(true | false)\n",
      "huggingface/tokenizers: The current process just got forked, after parallelism has already been used. Disabling parallelism to avoid deadlocks...\n",
      "To disable this warning, you can either:\n",
      "\t- Avoid using `tokenizers` before the fork if possible\n",
      "\t- Explicitly set the environment variable TOKENIZERS_PARALLELISM=(true | false)\n",
      "huggingface/tokenizers: The current process just got forked, after parallelism has already been used. Disabling parallelism to avoid deadlocks...\n",
      "To disable this warning, you can either:\n",
      "\t- Avoid using `tokenizers` before the fork if possible\n",
      "\t- Explicitly set the environment variable TOKENIZERS_PARALLELISM=(true | false)\n",
      "huggingface/tokenizers: The current process just got forked, after parallelism has already been used. Disabling parallelism to avoid deadlocks...\n",
      "To disable this warning, you can either:\n",
      "\t- Avoid using `tokenizers` before the fork if possible\n",
      "\t- Explicitly set the environment variable TOKENIZERS_PARALLELISM=(true | false)\n",
      "huggingface/tokenizers: The current process just got forked, after parallelism has already been used. Disabling parallelism to avoid deadlocks...\n",
      "To disable this warning, you can either:\n",
      "\t- Avoid using `tokenizers` before the fork if possible\n",
      "\t- Explicitly set the environment variable TOKENIZERS_PARALLELISM=(true | false)\n",
      "huggingface/tokenizers: The current process just got forked, after parallelism has already been used. Disabling parallelism to avoid deadlocks...\n",
      "To disable this warning, you can either:\n",
      "\t- Avoid using `tokenizers` before the fork if possible\n",
      "\t- Explicitly set the environment variable TOKENIZERS_PARALLELISM=(true | false)\n",
      "huggingface/tokenizers: The current process just got forked, after parallelism has already been used. Disabling parallelism to avoid deadlocks...\n",
      "To disable this warning, you can either:\n",
      "\t- Avoid using `tokenizers` before the fork if possible\n",
      "\t- Explicitly set the environment variable TOKENIZERS_PARALLELISM=(true | false)\n",
      "huggingface/tokenizers: The current process just got forked, after parallelism has already been used. Disabling parallelism to avoid deadlocks...\n",
      "To disable this warning, you can either:\n",
      "\t- Avoid using `tokenizers` before the fork if possible\n",
      "\t- Explicitly set the environment variable TOKENIZERS_PARALLELISM=(true | false)\n",
      "huggingface/tokenizers: The current process just got forked, after parallelism has already been used. Disabling parallelism to avoid deadlocks...\n",
      "To disable this warning, you can either:\n",
      "\t- Avoid using `tokenizers` before the fork if possible\n",
      "\t- Explicitly set the environment variable TOKENIZERS_PARALLELISM=(true | false)\n",
      "huggingface/tokenizers: The current process just got forked, after parallelism has already been used. Disabling parallelism to avoid deadlocks...\n",
      "To disable this warning, you can either:\n",
      "\t- Avoid using `tokenizers` before the fork if possible\n",
      "\t- Explicitly set the environment variable TOKENIZERS_PARALLELISM=(true | false)\n",
      "huggingface/tokenizers: The current process just got forked, after parallelism has already been used. Disabling parallelism to avoid deadlocks...\n",
      "To disable this warning, you can either:\n",
      "\t- Avoid using `tokenizers` before the fork if possible\n",
      "\t- Explicitly set the environment variable TOKENIZERS_PARALLELISM=(true | false)\n",
      "0it [00:00, ?it/s]huggingface/tokenizers: The current process just got forked, after parallelism has already been used. Disabling parallelism to avoid deadlocks...\n",
      "To disable this warning, you can either:\n",
      "\t- Avoid using `tokenizers` before the fork if possible\n",
      "\t- Explicitly set the environment variable TOKENIZERS_PARALLELISM=(true | false)\n",
      "1817it [00:11, 161.25it/s]Token indices sequence length is longer than the specified maximum sequence length for this model (71664 > 32768). Running this sequence through the model will result in indexing errors\n",
      "5629it [00:36, 153.24it/s]Token indices sequence length is longer than the specified maximum sequence length for this model (37154 > 32768). Running this sequence through the model will result in indexing errors\n",
      "7696it [00:37, 204.92it/s]Token indices sequence length is longer than the specified maximum sequence length for this model (37272 > 32768). Running this sequence through the model will result in indexing errors\n",
      "5740it [00:41, 128.55it/s]Token indices sequence length is longer than the specified maximum sequence length for this model (289514 > 32768). Running this sequence through the model will result in indexing errors\n",
      "6161it [01:07, 103.17it/s]]Token indices sequence length is longer than the specified maximum sequence length for this model (44249 > 32768). Running this sequence through the model will result in indexing errors\n",
      "16155it [02:37, 102.37it/s]IOPub message rate exceeded.\n",
      "The notebook server will temporarily stop sending output\n",
      "to the client in order to avoid crashing it.\n",
      "To change this limit, set the config variable\n",
      "`--NotebookApp.iopub_msg_rate_limit`.\n",
      "\n",
      "Current values:\n",
      "NotebookApp.iopub_msg_rate_limit=1000.0 (msgs/sec)\n",
      "NotebookApp.rate_limit_window=3.0 (secs)\n",
      "\n",
      "67107it [10:03, 105.31it/s]]Token indices sequence length is longer than the specified maximum sequence length for this model (53696 > 32768). Running this sequence through the model will result in indexing errors\n",
      "61967it [10:05, 102.32it/s]]\n",
      "129551it [12:30, 172.57it/s]\n",
      "110952it [14:41, 125.81it/s]\n",
      "111841it [14:54, 124.96it/s]\n",
      "97906it [15:28, 105.41it/s]]\n",
      "113487it [17:16, 109.48it/s]\n",
      "111516it [17:43, 104.89it/s]\n",
      "238372it [18:12, 218.12it/s]\n",
      "238387it [18:51, 210.74it/s]\n",
      "163652it [22:34, 120.81it/s]\n",
      "198350it [24:37, 134.26it/s]\n",
      "339991it [35:11, 161.04it/s]\n",
      "577225it [39:53, 241.13it/s]\n",
      "344519it [40:30, 141.74it/s]\n",
      "315211it [42:29, 123.63it/s]\n",
      "500663it [1:00:37, 137.64it/s]\n",
      "796855it [1:29:23, 148.56it/s]\n"
     ]
    }
   ],
   "source": [
    "import mp\n",
    "mp.multiprocessing(files, loop, cores = min(len(files), 30), returned = False)"
   ]
  },
  {
   "cell_type": "code",
   "execution_count": 14,
   "id": "00146584",
   "metadata": {},
   "outputs": [
    {
     "name": "stdout",
     "output_type": "stream",
     "text": [
      "35G\ttokenized_indexes\r\n"
     ]
    },
    {
     "name": "stderr",
     "output_type": "stream",
     "text": [
      "huggingface/tokenizers: The current process just got forked, after parallelism has already been used. Disabling parallelism to avoid deadlocks...\n",
      "To disable this warning, you can either:\n",
      "\t- Avoid using `tokenizers` before the fork if possible\n",
      "\t- Explicitly set the environment variable TOKENIZERS_PARALLELISM=(true | false)\n"
     ]
    }
   ],
   "source": [
    "!du -hs tokenized_indexes"
   ]
  },
  {
   "cell_type": "code",
   "execution_count": null,
   "id": "427e2a26",
   "metadata": {},
   "outputs": [],
   "source": []
  }
 ],
 "metadata": {
  "kernelspec": {
   "display_name": "Python 3 (ipykernel)",
   "language": "python",
   "name": "python3"
  },
  "language_info": {
   "codemirror_mode": {
    "name": "ipython",
    "version": 3
   },
   "file_extension": ".py",
   "mimetype": "text/x-python",
   "name": "python",
   "nbconvert_exporter": "python",
   "pygments_lexer": "ipython3",
   "version": "3.10.12"
  }
 },
 "nbformat": 4,
 "nbformat_minor": 5
}
