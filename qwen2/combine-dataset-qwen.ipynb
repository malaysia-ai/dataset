{
 "cells": [
  {
   "cell_type": "code",
   "execution_count": 1,
   "id": "2ede1eea",
   "metadata": {},
   "outputs": [],
   "source": [
    "# !pip3 install hf-transfer -U"
   ]
  },
  {
   "cell_type": "code",
   "execution_count": 2,
   "id": "6d3070b4",
   "metadata": {},
   "outputs": [],
   "source": [
    "import os\n",
    "\n",
    "os.environ[\"HF_HUB_ENABLE_HF_TRANSFER\"] = \"1\""
   ]
  },
  {
   "cell_type": "code",
   "execution_count": 3,
   "id": "b255370c",
   "metadata": {},
   "outputs": [],
   "source": [
    "import huggingface_hub\n",
    "import json\n",
    "import os\n",
    "from glob import glob\n",
    "from tqdm import tqdm"
   ]
  },
  {
   "cell_type": "code",
   "execution_count": 4,
   "id": "e50004f2",
   "metadata": {},
   "outputs": [],
   "source": [
    "from huggingface_hub import snapshot_download\n",
    "\n",
    "folder = snapshot_download(repo_id=\"malaysia-ai/pretrain-text-dataset\", repo_type = 'dataset')"
   ]
  },
  {
   "cell_type": "code",
   "execution_count": 5,
   "id": "b94096ef",
   "metadata": {},
   "outputs": [
    {
     "data": {
      "text/plain": [
       "313"
      ]
     },
     "execution_count": 5,
     "metadata": {},
     "output_type": "execute_result"
    }
   ],
   "source": [
    "files = glob(os.path.join(folder, '*'))\n",
    "len(files)"
   ]
  },
  {
   "cell_type": "code",
   "execution_count": 6,
   "id": "05f4e29d",
   "metadata": {},
   "outputs": [],
   "source": [
    "from huggingface_hub import hf_hub_download\n",
    "\n",
    "fineweb = hf_hub_download(\n",
    "    repo_id=\"mesolitica/smollm-corpus-filter-malaysian-context\", \n",
    "    filename=\"fineweb-edu-dedup.jsonl\",\n",
    "    repo_type = 'dataset'\n",
    ")"
   ]
  },
  {
   "cell_type": "code",
   "execution_count": 7,
   "id": "b26f0249",
   "metadata": {},
   "outputs": [],
   "source": [
    "social_media = [\n",
    "    'iium-confession.jsonl',\n",
    "    'b.cari.com.my.jsonl',\n",
    "    'semisupervised-whisper-large-v2.jsonl',\n",
    "    'lowyat.jsonl',\n",
    "    'malay-tweets.jsonl',\n",
    "    'c.cari.com.my.jsonl',\n",
    "    'cn.cari.com.my.jsonl',\n",
    "    'carigold.jsonl'\n",
    "]\n",
    "common_crawl = [\n",
    "    'common-crawl.jsonl',\n",
    "    'NLLB.jsonl',\n",
    "]\n",
    "\n",
    "rejected = social_media + common_crawl + [\n",
    "    'pdfdrive.jsonl',\n",
    "    'seehua.jsonl',\n",
    "    'hardwarezone-sg.jsonl',\n",
    "    'sinchew.com.my.jsonl',\n",
    "    'orientaldaily.com.my.jsonl',\n",
    "    'wikipedia-20230901.en.filtered.jsonl',\n",
    "    'cc-100',\n",
    "    'semisupervised-whisper-large-v2.jsonl',\n",
    "    'c4-filtered',\n",
    "    'the-pile',\n",
    "    'c.cari.com.my',\n",
    "    'sft-translation.jsonl',\n",
    "    'README.md',\n",
    "    'fineweb-edu-dedup-sample-5M.jsonl',\n",
    "]\n",
    "\n",
    "online_articles = [x for x in files if all([r not in x for r in rejected])]"
   ]
  },
  {
   "cell_type": "code",
   "execution_count": 8,
   "id": "f9927f6e",
   "metadata": {},
   "outputs": [],
   "source": [
    "selected = online_articles + [fineweb]"
   ]
  },
  {
   "cell_type": "code",
   "execution_count": 9,
   "id": "8c40d597",
   "metadata": {},
   "outputs": [],
   "source": [
    "sizes = [(os.path.split(s)[1], os.path.getsize(s) / 1e6) for s in selected]"
   ]
  },
  {
   "cell_type": "code",
   "execution_count": 10,
   "id": "76a33237",
   "metadata": {},
   "outputs": [],
   "source": [
    "# !pip3 install transformers -U"
   ]
  },
  {
   "cell_type": "code",
   "execution_count": 11,
   "id": "7b6b638a",
   "metadata": {},
   "outputs": [],
   "source": [
    "from transformers import AutoTokenizer\n",
    "\n",
    "tokenizer = AutoTokenizer.from_pretrained('Qwen/Qwen2-0.5B')"
   ]
  },
  {
   "cell_type": "code",
   "execution_count": 12,
   "id": "e4c92c89",
   "metadata": {},
   "outputs": [],
   "source": [
    "def partition(text, size = 500):\n",
    "    splitted = text.split()\n",
    "    return [' '.join(splitted[i: i + size]) for i in range(0, len(splitted), size)]\n",
    "\n",
    "rejected = [\n",
    "    'markah untuk setiap satu',\n",
    "    'soalan mesti dijawab dalam',\n",
    "    '25 markah',\n",
    "    '50 markah'\n",
    "]"
   ]
  },
  {
   "cell_type": "code",
   "execution_count": 13,
   "id": "49e60c30",
   "metadata": {},
   "outputs": [],
   "source": [
    "# !wget https://gist.githubusercontent.com/huseinzol05/98974ae8c6c7a65d4bc0af9f5003786a/raw/2e06e71ef7349a57bc58cc9913ae6bae1f9f8447/mp.py"
   ]
  },
  {
   "cell_type": "code",
   "execution_count": 27,
   "id": "58188b14",
   "metadata": {},
   "outputs": [],
   "source": [
    "from streaming import MDSWriter, LocalDataset\n",
    "import numpy as np\n",
    "from streaming.base.format.mds.encodings import Encoding, _encodings\n",
    "\n",
    "class UInt32(Encoding):\n",
    "    def encode(self, obj) -> bytes:\n",
    "        return obj.tobytes()\n",
    "\n",
    "    def decode(self, data: bytes):\n",
    "        return np.frombuffer(data, np.uint32)\n",
    "\n",
    "_encodings['uint32'] = UInt32\n",
    "\n",
    "columns = {\n",
    "    'input_ids': 'uint32',\n",
    "}\n",
    "compression = 'zstd'\n",
    "hashes = 'sha1', 'xxh64'"
   ]
  },
  {
   "cell_type": "code",
   "execution_count": 15,
   "id": "6cdb9fc7",
   "metadata": {},
   "outputs": [],
   "source": [
    "tokenizer = AutoTokenizer.from_pretrained('Qwen/Qwen2-0.5B')\n",
    "tokenizer.add_bos_token = False\n",
    "tokenizer.add_eos_token = False"
   ]
  },
  {
   "cell_type": "code",
   "execution_count": 16,
   "id": "2226d4c9",
   "metadata": {},
   "outputs": [],
   "source": [
    "block_size = 4096\n",
    "\n",
    "def read_dataset(f, block_size = block_size):\n",
    "    temp = []\n",
    "    with open(f) as fopen:\n",
    "        for l in tqdm(fopen):\n",
    "            try:\n",
    "                l = json.loads(l)\n",
    "            except:\n",
    "                pass\n",
    "            try:\n",
    "                data = '<|endoftext|>' + l + '<|endoftext|>'\n",
    "\n",
    "                data_lower = data.lower()\n",
    "                if any([r in data_lower for r in rejected]):\n",
    "                    continue\n",
    "\n",
    "                partitioned = partition(data)\n",
    "                for p in partitioned:\n",
    "                    tokenized = tokenizer(p)['input_ids']\n",
    "                    temp.extend(tokenized)\n",
    "                    while len(temp) >= block_size:\n",
    "                        block = temp[:block_size]\n",
    "                        temp = temp[block_size:]\n",
    "                        if len(block) == block_size:\n",
    "                            yield np.array(block).astype(np.uint32)\n",
    "\n",
    "\n",
    "            except Exception as e:\n",
    "                pass"
   ]
  },
  {
   "cell_type": "code",
   "execution_count": 17,
   "id": "04e48a77",
   "metadata": {},
   "outputs": [
    {
     "name": "stdout",
     "output_type": "stream",
     "text": [
      "mkdir: cannot create directory ‘qwen’: File exists\r\n"
     ]
    }
   ],
   "source": [
    "!mkdir qwen"
   ]
  },
  {
   "cell_type": "code",
   "execution_count": 18,
   "id": "75d55f82",
   "metadata": {},
   "outputs": [],
   "source": [
    "def loop(files):\n",
    "    files, index = files\n",
    "    out_root = f'qwen/tokenized-{index}'\n",
    "    os.system(f'rm -rf {out_root}')\n",
    "    with MDSWriter(out=out_root, columns=columns, compression=None, hashes=hashes) as out:\n",
    "        for f in files:\n",
    "            for block in read_dataset(f = f):\n",
    "                sample = {\n",
    "                    'input_ids': block\n",
    "                }\n",
    "                out.write(sample)"
   ]
  },
  {
   "cell_type": "code",
   "execution_count": 19,
   "id": "aa47a377",
   "metadata": {
    "scrolled": false
   },
   "outputs": [],
   "source": [
    "# loop((files[:1], 0))"
   ]
  },
  {
   "cell_type": "code",
   "execution_count": 20,
   "id": "b1bf9c80",
   "metadata": {},
   "outputs": [
    {
     "name": "stderr",
     "output_type": "stream",
     "text": [
      "2877it [00:06, 431.78it/s]s]\n",
      "947it [00:03, 298.76it/s]]s]\n",
      "391it [00:01, 373.97it/s]/s]\n",
      "23972it [00:37, 667.83it/s]s]\n",
      "24411it [00:37, 643.76it/s]s]\n",
      "3626it [00:04, 861.12it/s]/s]\n",
      "46it [00:00, 653.32it/s]] /s]\n",
      "11076it [00:11, 955.67it/s]s]\n",
      "4577it [00:08, 509.38it/s]/s]\n",
      "1160it [00:02, 576.20it/s]/s]\n",
      "1359it [00:11, 113.34it/s]s]]\n",
      "16443it [00:19, 837.02it/s]s]\n",
      "51691it [00:47, 1098.92it/s]]\n",
      "281536it [01:43, 2709.08it/s]\n",
      "65it [00:00, 179.09it/s]/s]s]\n",
      "16120it [02:31, 106.52it/s]s]\n",
      "28it [00:00, 12000.87it/s]\n",
      "11314it [00:03, 3335.75it/s]]\n",
      "7363it [00:08, 819.66it/s]s]s]\n",
      "33730it [00:24, 1402.89it/s]s]\n",
      "24482it [00:26, 938.82it/s]/s]\n",
      "13145it [00:15, 823.77it/s]/s]\n",
      "3578it [00:03, 1068.23it/s]/s]\n",
      "5747it [00:05, 1101.26it/s]/s]\n",
      "523it [00:00, 757.36it/s]it/s]\n",
      "644it [00:01, 611.61it/s]]t/s]\n",
      "3002884it [04:26, 12008.84it/s]\n",
      "3019527it [04:28, 11709.76it/s]\n",
      "233it [00:00, 588.77it/s]it/s]]\n",
      "3072159it [04:32, 11470.13it/s]Token indices sequence length is longer than the specified maximum sequence length for this model (33870 > 32768). Running this sequence through the model will result in indexing errors\n",
      "76290it [08:07, 156.47it/s]t/s]\n",
      "9221it [00:14, 622.89it/s]it/s]\n",
      "11678it [00:20, 578.49it/s]t/s]\n",
      "3915240it [10:58, 6019.20it/s]]\n",
      "13321it [00:18, 735.66it/s]/s]]\n",
      "4244963it [11:53, 5966.00it/s]]\n",
      "2140it [00:47, 45.12it/s]4it/s]\n",
      "5798716it [16:19, 5923.01it/s]s]\n",
      "10889it [09:10, 19.78it/s]2it/s]\n",
      "1138it [00:03, 315.53it/s]8it/s]\n",
      "942it [00:01, 882.56it/s]]6it/s]\n",
      "70it [00:00, 643.54it/s].50it/s]\n",
      "13035887it [15:48, 16539.54it/s]Token indices sequence length is longer than the specified maximum sequence length for this model (36630 > 32768). Running this sequence through the model will result in indexing errors\n",
      "21590it [03:53, 92.62it/s] it/s]\n",
      "14670506it [17:28, 15396.71it/s]\n",
      "24188it [09:24, 52.82it/s]5it/s]IOPub message rate exceeded.\n",
      "The notebook server will temporarily stop sending output\n",
      "to the client in order to avoid crashing it.\n",
      "To change this limit, set the config variable\n",
      "`--NotebookApp.iopub_msg_rate_limit`.\n",
      "\n",
      "Current values:\n",
      "NotebookApp.iopub_msg_rate_limit=1000.0 (msgs/sec)\n",
      "NotebookApp.rate_limit_window=3.0 (secs)\n",
      "\n",
      "5714it [17:56,  5.31it/s]57it/s]\n",
      "1216it [00:03, 361.80it/s]t/s]s]\n",
      "1006it [00:02, 396.46it/s]6it/s]\n",
      "31505765it [34:33, 15197.54it/s]\n",
      "1687it [03:47,  7.42it/s]s]/s] \n",
      "9672it [00:10, 909.98it/s]t/s] \n",
      "1143it [00:03, 307.70it/s]t/s]\n",
      "34192it [00:05, 6732.04it/s]s]\n",
      "6751it [00:16, 412.42it/s]t/s]\n",
      "4702it [00:05, 823.87it/s]]/s]\n",
      "752it [00:02, 326.09it/s]it/s]\n",
      "28201it [01:46, 266.04it/s]/s]\n",
      "839it [00:02, 349.14it/s]]t/s]\n",
      "37it [00:00, 429.33it/s]5it/s]\n",
      "42143it [00:35, 1190.77it/s]s] \n",
      "5407it [00:07, 699.54it/s]t/s]\n",
      "6812703it [12:17, 9388.54it/s]\n",
      "23826it [00:41, 575.20it/s]/s] \n",
      "4591it [00:09, 500.76it/s]t/s]\n",
      "348it [00:00, 444.60it/s]it/s]\n",
      "140932it [04:28, 524.68it/s]s] \n",
      "183it [00:16, 11.00it/s]3it/s] \n",
      "11236it [00:11, 947.67it/s] s]\n",
      "1427it [00:04, 323.75it/s]it/s]\n",
      "22491it [00:22, 985.35it/s]t/s]\n",
      "240it [00:01, 200.51it/s]9it/s]\n",
      "134106it [55:59, 48.06it/s]t/s] \n",
      "100it [00:00, 363.85it/s]2it/s]\n",
      "1140it [00:04, 282.61it/s]it/s]\n",
      "22427398it [40:56, 8921.68it/s]\n",
      "269it [00:00, 407.96it/s]it/s]]\n",
      "33366284it [1:01:01, 9271.12it/s] IOPub message rate exceeded.\n",
      "The notebook server will temporarily stop sending output\n",
      "to the client in order to avoid crashing it.\n",
      "To change this limit, set the config variable\n",
      "`--NotebookApp.iopub_msg_rate_limit`.\n",
      "\n",
      "Current values:\n",
      "NotebookApp.iopub_msg_rate_limit=1000.0 (msgs/sec)\n",
      "NotebookApp.rate_limit_window=3.0 (secs)\n",
      "\n"
     ]
    }
   ],
   "source": [
    "import mp\n",
    "\n",
    "mp.multiprocessing(files, loop, cores = min(len(selected), 4), returned = False)"
   ]
  },
  {
   "cell_type": "code",
   "execution_count": 22,
   "id": "496c5f62",
   "metadata": {},
   "outputs": [
    {
     "name": "stdout",
     "output_type": "stream",
     "text": [
      "158G\tqwen\r\n"
     ]
    }
   ],
   "source": [
    "!du -hs qwen"
   ]
  },
  {
   "cell_type": "code",
   "execution_count": 37,
   "id": "4a25837c",
   "metadata": {},
   "outputs": [
    {
     "data": {
      "text/plain": [
       "1906747"
      ]
     },
     "execution_count": 37,
     "metadata": {},
     "output_type": "execute_result"
    }
   ],
   "source": [
    "dataset = LocalDataset('qwen/tokenized-0')\n",
    "len(dataset)"
   ]
  },
  {
   "cell_type": "code",
   "execution_count": 39,
   "id": "c52abb78",
   "metadata": {},
   "outputs": [
    {
     "data": {
      "text/plain": [
       "['qwen/tokenized-2',\n",
       " 'qwen/tokenized-0',\n",
       " 'qwen/tokenized-1',\n",
       " 'qwen/tokenized-3',\n",
       " 'qwen/tokenized-4']"
      ]
     },
     "execution_count": 39,
     "metadata": {},
     "output_type": "execute_result"
    }
   ],
   "source": [
    "folders = glob('qwen/*')"
   ]
  },
  {
   "cell_type": "code",
   "execution_count": 40,
   "id": "b52d5b36",
   "metadata": {},
   "outputs": [
    {
     "name": "stderr",
     "output_type": "stream",
     "text": [
      "100%|██████████| 3287073/3287073 [14:48<00:00, 3700.47it/s]\n",
      "100%|██████████| 1906747/1906747 [08:39<00:00, 3670.58it/s]\n",
      "100%|██████████| 1524703/1524703 [06:52<00:00, 3695.14it/s]\n",
      "100%|██████████| 3618487/3618487 [17:31<00:00, 3440.80it/s]\n",
      "100%|██████████| 13/13 [00:00<00:00, 2515.03it/s]\n"
     ]
    }
   ],
   "source": [
    "folders = glob('qwen/*')\n",
    "\n",
    "with MDSWriter(out='combine-all', columns=columns, compression=None, hashes=hashes) as out:\n",
    "    for f in folders:\n",
    "        try:\n",
    "            dataset = LocalDataset(local=f)\n",
    "            for i in tqdm(range(len(dataset))):\n",
    "                out.write(dataset[i])\n",
    "        except Exception as e:\n",
    "            print(e)\n",
    "            pass"
   ]
  },
  {
   "cell_type": "code",
   "execution_count": 41,
   "id": "20ba3da4",
   "metadata": {},
   "outputs": [
    {
     "name": "stdout",
     "output_type": "stream",
     "text": [
      "158G\tcombine-all\r\n"
     ]
    }
   ],
   "source": [
    "!du -hs combine-all"
   ]
  },
  {
   "cell_type": "code",
   "execution_count": 48,
   "id": "4eb43fad",
   "metadata": {},
   "outputs": [],
   "source": [
    "from huggingface_hub import HfApi\n",
    "api = HfApi()\n",
    "\n",
    "api.upload_folder(\n",
    "    folder_path=\"combine-all\",\n",
    "    repo_id=\"huseinzol05/qwen2-4096-2024-08-31\",\n",
    "    repo_type=\"dataset\",\n",
    ")"
   ]
  },
  {
   "cell_type": "code",
   "execution_count": null,
   "id": "3a8c87e4",
   "metadata": {},
   "outputs": [],
   "source": []
  }
 ],
 "metadata": {
  "kernelspec": {
   "display_name": "Python 3 (ipykernel)",
   "language": "python",
   "name": "python3"
  },
  "language_info": {
   "codemirror_mode": {
    "name": "ipython",
    "version": 3
   },
   "file_extension": ".py",
   "mimetype": "text/x-python",
   "name": "python",
   "nbconvert_exporter": "python",
   "pygments_lexer": "ipython3",
   "version": "3.10.12"
  }
 },
 "nbformat": 4,
 "nbformat_minor": 5
}
