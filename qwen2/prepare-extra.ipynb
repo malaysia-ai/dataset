{
 "cells": [
  {
   "cell_type": "code",
   "execution_count": 1,
   "id": "cfc24e8f",
   "metadata": {},
   "outputs": [],
   "source": [
    "# !wget https://huggingface.co/datasets/syafie-nzm/crawl-jurnaldbp/resolve/main/jurnaldbp.jsonl\n",
    "# !wget https://huggingface.co/datasets/mesolitica/crawl-my-website/resolve/main/mjpharm.org.jsonl\n",
    "# !wget https://huggingface.co/datasets/mesolitica/crawl-my-website/resolve/main/myjgeosc.com.jsonl\n",
    "# !wget https://huggingface.co/datasets/mesolitica/crawl-my-website/resolve/main/myjsustainagri.com.jsonl\n",
    "# !wget https://huggingface.co/datasets/mesolitica/crawl-my-website/resolve/main/akademisains.gov.my.jsonl\n",
    "# !wget https://huggingface.co/datasets/mesolitica/crawl-my-website/resolve/main/crossref-pdf.jsonl\n",
    "# !wget https://huggingface.co/datasets/mesolitica/crawl-my-website/resolve/main/Kamus_Dewan_Bahasa_Edisi_Keempat_pdf.pdf\n",
    "# !wget https://huggingface.co/datasets/mesolitica/crawl-my-website/resolve/main/melayu-pdf.jsonl\n",
    "# !wget https://huggingface.co/datasets/mesolitica/crawl-my-website/resolve/main/majcafe.com.jsonl\n",
    "# !wget https://huggingface.co/datasets/mesolitica/crawl-my-website/resolve/main/myjms.mohe.gov.my.jsonl\n",
    "# !wget https://huggingface.co/datasets/mesolitica/crawl-my-website/resolve/main/newera.edu.my.jsonl"
   ]
  },
  {
   "cell_type": "code",
   "execution_count": 2,
   "id": "88c99b94",
   "metadata": {},
   "outputs": [],
   "source": [
    "from glob import glob\n",
    "from tqdm import tqdm\n",
    "import json\n",
    "import os\n",
    "import numpy as np\n",
    "from transformers import AutoTokenizer\n",
    "from streaming import MDSWriter\n",
    "from tqdm import tqdm\n",
    "import msgspec\n",
    "import json\n",
    "import re\n",
    "\n",
    "http_errors = [\n",
    "        \"400 Bad Request\", \"401 Unauthorized\", \"402 Payment Required\", \"403 Forbidden\", \"404 Not Found\",\n",
    "        \"405 Method Not Allowed\", \"406 Not Acceptable\", \"407 Proxy Authentication Required\", \"408 Request Timeout\",\n",
    "        \"409 Conflict\", \"410 Gone\", \"411 Length Required\", \"412 Precondition Failed\", \"413 Payload Too Large\",\n",
    "        \"414 URI Too Long\", \"415 Unsupported Media Type\", \"416 Range Not Satisfiable\", \"417 Expectation Failed\",\n",
    "        \"418 I'm a teapot\", \"421 Misdirected Request\", \"422 Unprocessable Entity\", \"423 Locked\", \"424 Failed Dependency\",\n",
    "        \"425 Too Early\", \"426 Upgrade Required\", \"428 Precondition Required\", \"429 Too Many Requests\",\n",
    "        \"431 Request Header Fields Too Large\", \"451 Unavailable For Legal Reasons\", \"500 Internal Server Error\",\n",
    "        \"501 Not Implemented\", \"502 Bad Gateway\", \"503 Service Unavailable\", \"504 Gateway Timeout\",\n",
    "        \"505 HTTP Version Not Supported\", \"506 Variant Also Negotiates\", \"507 Insufficient Storage\",\n",
    "        \"508 Loop Detected\", \"510 Not Extended\", \"511 Network Authentication Required\"\n",
    "    ]\n",
    "\n",
    "rejected = [\n",
    "    'Internal Server Error',\n",
    "    '__NOEDITSECTION__',\n",
    "    'enter your username and password',\n",
    "    'forgotten your password',\n",
    "    'cookies enabled',\n",
    "    'enable JavaScript in your browser.',\n",
    "    'The page cannot be displayed',\n",
    "    'site or edit the error_page',\n",
    "    'Request unsuccessful',\n",
    "]\n",
    "\n",
    "rejected.extend(http_errors)\n",
    "\n",
    "def replace_multiple(input_string, pattern =r\"\\s{6,}\", replace = '   '):\n",
    "    return re.sub(pattern, replace, input_string)\n",
    "\n",
    "def replace(string):\n",
    "    string = replace_multiple(string.replace('…', '.'))\n",
    "    string = replace_multiple(string, pattern = r\"\\.{6,}\", replace = '...')\n",
    "    return string\n",
    "\n",
    "def reject(string):\n",
    "    if any([r in string for r in rejected]):\n",
    "        return True\n",
    "    return False"
   ]
  },
  {
   "cell_type": "code",
   "execution_count": 3,
   "id": "5c2023b9",
   "metadata": {},
   "outputs": [],
   "source": [
    "from streaming.base.format.mds.encodings import Encoding, _encodings\n",
    "\n",
    "class UInt32(Encoding):\n",
    "    def encode(self, obj) -> bytes:\n",
    "        return obj.tobytes()\n",
    "\n",
    "    def decode(self, data: bytes):\n",
    "        return np.frombuffer(data, np.uint32)\n",
    "\n",
    "_encodings['uint32'] = UInt32"
   ]
  },
  {
   "cell_type": "code",
   "execution_count": 4,
   "id": "2f868397",
   "metadata": {},
   "outputs": [],
   "source": [
    "files = [\n",
    "    'jurnaldbp.jsonl',\n",
    "    'mjpharm.org.jsonl',\n",
    "    'myjgeosc.com.jsonl',\n",
    "    'myjsustainagri.com.jsonl',\n",
    "    'akademisains.gov.my.jsonl',\n",
    "    'crossref-pdf.jsonl',\n",
    "    'Kamus_Dewan_Bahasa_Edisi_Keempat_pdf.pdf',\n",
    "    'melayu-pdf.jsonl',\n",
    "    'majcafe.com.jsonl',\n",
    "    'myjms.mohe.gov.my.jsonl',\n",
    "    'newera.edu.my.jsonl'\n",
    "]"
   ]
  },
  {
   "cell_type": "code",
   "execution_count": 5,
   "id": "86e7a7bc",
   "metadata": {},
   "outputs": [],
   "source": [
    "columns = {\n",
    "    'input_ids': 'uint32',\n",
    "}\n",
    "compression = 'zstd'\n",
    "hashes = 'sha1', 'xxh64'"
   ]
  },
  {
   "cell_type": "code",
   "execution_count": 6,
   "id": "f2bd52af",
   "metadata": {},
   "outputs": [],
   "source": [
    "def partition(text, size = 500):\n",
    "    splitted = text.split()\n",
    "    return [' '.join(splitted[i: i + size]) for i in range(0, len(splitted), size)]"
   ]
  },
  {
   "cell_type": "code",
   "execution_count": 7,
   "id": "5b94bbb0",
   "metadata": {},
   "outputs": [
    {
     "name": "stderr",
     "output_type": "stream",
     "text": [
      "Special tokens have been added in the vocabulary, make sure the associated word embeddings are fine-tuned or trained.\n"
     ]
    }
   ],
   "source": [
    "from transformers import AutoTokenizer\n",
    "\n",
    "tokenizer = AutoTokenizer.from_pretrained('Qwen/Qwen1.5-0.5B')"
   ]
  },
  {
   "cell_type": "code",
   "execution_count": 9,
   "id": "3f4cf6cf",
   "metadata": {},
   "outputs": [],
   "source": [
    "# with open('extra.jsonl', 'w') as fopen_l:\n",
    "#     for f in files:\n",
    "#         with open(f, encoding = \"ISO-8859-1\") as fopen:\n",
    "#             for l in tqdm(fopen):\n",
    "#                 try:\n",
    "#                     l = msgspec.json.decode(l)\n",
    "#                     if reject(l):\n",
    "#                         continue\n",
    "\n",
    "#                     l = replace(l.strip())\n",
    "#                     if len(l) < 3:\n",
    "#                         continue\n",
    "                        \n",
    "#                     data = '<|endoftext|>' + l + '<|endoftext|>'\n",
    "#                     partitioned = partition(data)\n",
    "#                     for p in partitioned:\n",
    "#                         data = {\n",
    "#                             'text': p,\n",
    "#                         }\n",
    "#                         fopen_l.write(f'{json.dumps(data)}\\n')\n",
    "#                         fopen_l.flush()\n",
    "#                 except Exception as e:\n",
    "#                     print(e)\n",
    "#                     pass"
   ]
  },
  {
   "cell_type": "code",
   "execution_count": null,
   "id": "5ba46e30",
   "metadata": {},
   "outputs": [],
   "source": [
    "split_by = 100000"
   ]
  },
  {
   "cell_type": "code",
   "execution_count": null,
   "id": "eaf91a4b",
   "metadata": {},
   "outputs": [],
   "source": [
    "!rm -rf partitions-extra\n",
    "!mkdir partitions-extra"
   ]
  },
  {
   "cell_type": "code",
   "execution_count": null,
   "id": "516d9cc2",
   "metadata": {},
   "outputs": [],
   "source": [
    "index = 0\n",
    "count = 0\n",
    "a = open(f'partitions-extra/combined-lm-{index}.jsonl', 'w')\n",
    "\n",
    "with open('extra.jsonl') as fopen:\n",
    "    for l in tqdm(fopen):\n",
    "        a.write(l)\n",
    "        a.flush()\n",
    "        count += 1\n",
    "        if count >= split_by:\n",
    "            a.close()\n",
    "            index += 1\n",
    "            count = 0\n",
    "            a = open(f'partitions-extra/combined-lm-{index}.jsonl', 'w')\n",
    "            \n",
    "a.close()"
   ]
  },
  {
   "cell_type": "code",
   "execution_count": 14,
   "id": "d2c5a9bb",
   "metadata": {},
   "outputs": [],
   "source": [
    "block_size = 16384\n",
    "\n",
    "def read_dataset(train_file, block_size = block_size):\n",
    "    \n",
    "    tokenizer = AutoTokenizer.from_pretrained(\n",
    "        'Qwen/Qwen1.5-0.5B',\n",
    "    )\n",
    "    tokenizer.add_bos_token = False\n",
    "    tokenizer.add_eos_token = False\n",
    "    text_column_name = 'text'\n",
    "    temp = []\n",
    "    with open(train_file) as fopen:\n",
    "        for l in fopen:\n",
    "            l = msgspec.json.decode(l)\n",
    "            tokenized = tokenizer(l['text'])['input_ids']\n",
    "            temp.extend(tokenized)\n",
    "            while len(temp) >= block_size:\n",
    "                block = temp[:block_size]\n",
    "                temp = temp[block_size:]\n",
    "                if len(block) == block_size:\n",
    "                    yield np.array(block).astype(np.uint32)"
   ]
  },
  {
   "cell_type": "code",
   "execution_count": 15,
   "id": "37217f12",
   "metadata": {
    "scrolled": true
   },
   "outputs": [
    {
     "data": {
      "text/plain": [
       "['partitions-extra/combined-lm-0.jsonl',\n",
       " 'partitions-extra/combined-lm-1.jsonl',\n",
       " 'partitions-extra/combined-lm-2.jsonl',\n",
       " 'partitions-extra/combined-lm-3.jsonl',\n",
       " 'partitions-extra/combined-lm-4.jsonl',\n",
       " 'partitions-extra/combined-lm-5.jsonl',\n",
       " 'partitions-extra/combined-lm-6.jsonl',\n",
       " 'partitions-extra/combined-lm-7.jsonl',\n",
       " 'partitions-extra/combined-lm-8.jsonl',\n",
       " 'partitions-extra/combined-lm-9.jsonl',\n",
       " 'partitions-extra/combined-lm-10.jsonl',\n",
       " 'partitions-extra/combined-lm-11.jsonl',\n",
       " 'partitions-extra/combined-lm-12.jsonl']"
      ]
     },
     "execution_count": 15,
     "metadata": {},
     "output_type": "execute_result"
    }
   ],
   "source": [
    "files = sorted(glob('partitions-extra/combined-lm-*.jsonl'), key = lambda x: int(x.split('-')[-1].replace('.jsonl', '')))\n",
    "files"
   ]
  },
  {
   "cell_type": "code",
   "execution_count": 16,
   "id": "dd49a09e",
   "metadata": {
    "scrolled": true
   },
   "outputs": [
    {
     "name": "stderr",
     "output_type": "stream",
     "text": [
      "Special tokens have been added in the vocabulary, make sure the associated word embeddings are fine-tuned or trained.\n"
     ]
    }
   ],
   "source": [
    "r = next(read_dataset(files[0]))"
   ]
  },
  {
   "cell_type": "code",
   "execution_count": 17,
   "id": "43e30c95",
   "metadata": {},
   "outputs": [
    {
     "data": {
      "text/plain": [
       "'<|endoftext|>288 KANUN [DISEMBER 2014][ULASAN BUKU]ULASAN BUKU Mohd Bakri IshakUndang-undang dan Pengurusan Sisa Industri di Malaysia dan Eropah, 2013.180 halaman, ISBN9789834610135Pengulas: Shamsuddin Suhor sudin@ukm.edu.myFakulti Undang-undang,Universiti Kebangsaan Malaysia,43650 Bangi, Selangor Darul Ehsan, MALAYSIA.Buku ini mengandungi 12 bab yang memperkatakan pelbagai perkara berkaitan dengan sisa industri. Setiap bab dilihat mampu berdiri dengan sendiri bagi menceritakan sesuatu yang berkaitan dengan sisa, sama ada sisa dari sudut falsafah seperti yang dijelaskan dalam Bab 2, atau sisa industri dari sudut perundangan yang melibatkan Bab 3, 4, 5 dan 6, atau pengurusan sisa industri melalui pendekatan bukan perundangan seperti dalam Bab 9, 10, dan 11. Seterusnya buku ini membincangkan kes yang menyentuh isu pencemaran alam sekitar secara umum dan/atau yang khusus mengenai sisa industri yang telah diputuskan oleh mahkamah di negara ini seperti yang dibincangkan dalam Bab 7 dan 8 buku ini. Penulis dalam Bab 12, membuat sedikit ulasan ringkas dan padat tentang peruntukan Dasar Alam Sekitar Negara yang telah diluluskan oleh kerajaan bagi menyokong keperluan dan kepentingan kewujudan perundangan alam sekitar di negara ini.Terdapat tiga perkara utama yang dibincangkan oleh penulis dalam buku ini, iaitu pertama, memahami falsafah alam sekitar secara umum; kedua, peruntukan undang-undang alam sekitar; dan ketiga, pengurusan persekitaran dan alam sekeliling. Ketiga-tiga perkara ini kemudiannya diarahkan kepada satu isu sahaja, iaitu sisa. Dalam pelbagai maksud sisa yang terdapat dalam peristilahan alam sekitar ini, sisa yang dimaksudkan dalam perbincangan buku ini ialah sisa industri. Penulis kemudiannya membawa pembaca untuk melihat perkembangan yang berlaku di luar negara dengan membuat perbandingan antara Malaysia dengan Eropah, iaitu cara atau kaedah sisa ini diuruskan dari sudut perundangan dan bukan perundangan. Tajuk buku ini Undang-undang dan Pengurusan Sisa Industri di Malaysia dan Eropah membawa maklumat yang berkisar tentang pengurusan sisa industri di Malaysia dan Eropah yang menyentuh dari sudut perundangan semata-mata.25 KANUN (2) 289Undang-undang dan Pengurusan Sisa Industri di Malaysia dan EropahShamsuddin SuhorBuku ini menyentuh erti alam sekitar dan falsafah di sebalik pentingnya perlindungan terhadap alam sekitar. Penerangan tentang aspek ini dibuat secara ringkas dengan membawa masuk soal nilai (instrumental, inheren dan intrinsik) dan soal etika (etika alam sekitar, antroposentrik, biosentrik dan ekosentrik). Cara ini memudahkan pembaca mendapat sedikit gambaran tentang falsafah alam sekitar tanpa merujuk tulisan asal bidang berkenaan oleh penulis seperti Edwin W.Tucker (1992), James Connelly dan Graham Smith (1995), Passmore (1974), Hargrove (1989) atau Van Dee Veer (1979). Semua pandangan penulis tersebut dimuatkan dalam Bab 2. Turut dimasukkan secara ringkas tiga tradisi moral alam sekitar, iaitu pengawasan (stewardship), utilitarianisme dan pemaknaan kehidupan atau penghormatan kepada kehidupan. Penerangan dalam bahagian ini terlalu ringkas dan ada kemungkinan menimbulkan tanda tanya kepada pembaca maksud yang cuba hendak disampaikan oleh penulis. Walau bagaimanapun Bab 2 bahagian falsafah alam sekitar ini membawa pembaca memahami kepentingan alam sekitar dari sudut falsafahnya secara umum.Topik tentang sisa, sisa buangan dan atau sisa industri terdapat dalam Bab 3. Penulis memberikan takrif umum dan spesifik kepada ungkapan tersebut berdasarkan peruntukan undang-undang bertulis yang terpakai di negara ini dan juga perundangan di luar negara di samping penjelasan yang dibuat oleh penulis buku bidang berkenaan seperti Neil Hawke(1995), Stuart Bell dan McGillivary (2001), dan John Garbut (1995). Penjelasan yang dibuat secara terperinci oleh penulis dengan merujuk buku-buku dan himpunan penulis luar yang ramai membolehkan pembaca memahami dan membezakan setiap satu ungkapan berkenaan. Hal ini sangat membantu pembaca untuk memahami erti sisa dalam erti kata yang luas.Sisa dan bukan sisa dikenal pasti melalui penjenisan atau pengkategorian yang dibuat melalui tafsiran undang-undang. Sisa atau buangan yang terhasil atau yang dijana oleh industri perlu diuruskan sebaik mungkin sama ada mengikut amalan biasa yang terbaik atau peruntukan undang-undang yang dibuat mengenai pengurusannya. Buku ini melalui Bab 3 menceritakan pengurusan sisa industri dilakukan berdasarkan lima garis panduan, iaitu pengelakan (prevention), kitar semula dan guna semula, pengoptimum dan pelupusan akhir, pengangkutan dan tindakan pemulihan. Salah satu sisa industri yang turut dibincangkan agak panjang lebar dalam buku ini adalah yang berkaitan dengan sisa peralatan elektrik dan elektronik. Perkara ini telah diketengahkan oleh penulis kerana sisa peralatan elektrik dan elektronik tidak disebut dalam perundangan di Malaysia secara khusus. Bab 10 buku ini telah memberikan suatu gambaran umum pengurusan sisa berkenaan apabila penulis menyentuh perbincangannya mengenai dasar Kesatuan Eropah (EC) berkaitan sisa berkenaan dalam Directive 2002/96 EC of the European Parliament and of the Council on Waste Electrical and 290 KANUN [DISEMBER 2014]Electronic Equipment (WEEE)(Brussels, 27 January 2003) sebagai suatu makluman penting kepada pembaca.Semua urusan pengendalian sisa sama ada sisa buangan atau sisa industri kini dibuat berdasarkan undang-undang sedia ada dan hal ini dijelaskan oleh penulis dengan melihat amalan di Malaysia yang dibincangkan dalam Bab 4 dan 5. Perundangan berkaitan dengan alam sekitar dan kawalan pencemaran disenaraikan oleh penulis dan dibuat ulasan mengenainya dengan jelas seperti Akta Kualiti Alam Sekeliling 1975, Akta Kerajaan Tempatan 1979 serta undang-undang kecil atau peraturan-peraturan yang dibuat di bawah Akta berkenaan. Beberapa buah industri turut dikenal pasti seperti kilang kelapa sawit dan kilang getah yang terlibat dalam pelepasan buangan mempunyai peruntukan undang-undangnya tersendiri yang terikat di bawah Akta Kualiti Alam Sekeliling 1975 yang mengawal setiap aktivitinya. Memandangkan buku ini bersifat perbandingan, penulis membawa masuk amalan pengurusan sisa industri di Eropah seperti United Kingdom dan Sepanyol, dan turut serta dimasukkan ialah Amerika Syarikat. Penulis juga merujuk undang-undang bertulis yang terdapat di negara berkenaan seperti Control of Pollution Act 1974 dan Environmental Protection Act 1990 (United Kingdom), The Comprehensive Environmental Response, Compensation and Liability Act 1980 (Amerika Syarikat) serta piawaian dan peraturan berkaitan pengurusan sisa industri dan persekitaran perindustrian di Eropah.Buku ini secara umumnya berupaya memberikan maklumat umum kepada pembaca mengenai cara bagaimana Malaysia menguruskan sisa industri negara dan dalam masa yang sama membuat kajian perbandingan dengan beberapa negara luar, seperti United Kingdom, Sepanyol dan Amerika Syarikat khususnya dari sudut perundangan dan pengurusan. Walau bagaimanapun, pembaca tidak boleh mengharapkan buku ini sebagai satu dokumen yang menggambarkan tentang pengurusan sisa yang lengkap dan terkini kerana pengurusan sisa merupakan satu bidang yang sangat rumit. Pengurusan sisa melibatkan banyak perkara. Dari sudut perundangan sahaja antaranya termasuklah masalah memberikan takrif kepada sisa itu sendiri, jenis sisa dan pengkelasan yang berbeza-beza, penjanaan, pengumpulan, penstoran, rawatan, pengangkutan, pelupusan, peruntukanperundangan, amalan terbaik menguruskan sisa dan sebagainya. Hal ini tidak termasuk sisa yang dapat dijadikan sebagai sumber ekonomi atau perkhidmatan yang mendatangkan keuntungan. Sisa sebagai satu tajuk penulisan adalah sangat luas dan buku ini hanya mengkhususkan kepada sisa industri sahaja. Selain itu, pembaca harus faham bahawa undang-undang merupakan sesuatu yang dinamik, sentiasa berubah-ubah mengikut perkembangan dan keperluan semasa. Apabila tiga isu, iaitu undang-undang, pengurusan dan teknologi digabungkan dalam satu buku, pembaca perlu peka terhadap perkembangan 25 KANUN (2) 291Undang-undang dan Pengurusan Sisa Industri di Malaysia dan EropahShamsuddin Suhorterkini sama ada dalam undang-undang itu sendiri atau cara pengurusan yang terbaik yang telah ditemui atau kemunculan ciptaan baharu atau teknologi terkini dalam menangani isu sisa ini. Sebagai contoh, Peraturan-Peraturan Kualiti Alam Sekeliling (Kumbahan dan Effluen Industri) 1979 telah disebut dan dibincangkan dalam buku ini, yang menyatakan tentang pengurusan kumbahan dan efluen industri. Peraturan 1979 ini sebetulnya telahpun dimansuhkan dan digantikan dengan Peraturan-Peraturan Kualiti Alam Sekeliling (Kumbahan) 2009 dan Peraturan-Peraturan Kualiti Alam Sekeliling (Efluen Perindustrian) 2009 yang telah diluluskan melalui Akta Pindaan A1441 pada 12 Januari 2013 (PU(B)429/2012). Sungguhpun demikian, tidaklah bermakna buku ini sudah terkebelakang atau sedikit ketinggalan sebaliknya apa-apa perubahan dalam perundangan adalah untuk tujuan penambahbaikan dan peningkatan perlindungan keselamatan persekitaran. Kesimpulan umum mengenai buku ini ialah maklumatnya tetap penting kerana sifatnya yang santai memulakan cerita tentang sejarah ringkas kemunculan sisa industri di negara ini dan penjanaan sisa berkenaan. Sisa berkenaan kemudiannya telah diperundangkan dan perundangan yang berkaitan telah disenaraikan dan dijelaskan oleh penulis bertujuan untuk memberikan tatacara terbaik bagaimana semua sisa berkenaan diuruskan. Pelanggaran terhadap perundangan sedia ada akan mengundang pendakwaan di mahkamah dan kes yang berkaitan dengan pencemaran dan pelanggaran statut juga telah dibincangkan dalam buku ini. Seterusnya buku ini membuat perbandingan dengan beberapa negara luar dari segi pengurusan sisa dan kemudiannya disesuaikan pula dengan beberapa konvensyen dan protokol yang berkaitan pengurusan sisa. Sebagai kesimpulannya penulis meletakkan pandangannya dalam bentuk cadangan dalam Bab 1 tentang pengurusan sisa industri di Malaysia dan bukannya pada bahagian akhir atau penutup buku ini. Cara penulis mengemukakan cadangan dalam Bab 1 merupakan suatu kelainan, yang jarang dilakukan yang mengundang pembaca untuk mengetahui sejauh manakah cadangannya itu dapat diterima pakai ketika membaca bab-bab seterusnya dalam buku ini. Satu perkara yang ketara ialah pertambahan buku dalam bahasa Melayu khususnya buku ini membolehkan masyarakat umum atau pihak tertentu yang terlibat dalam industri kecil dan sederhana atau berskala besar memahami ilmu perundangan berkenaan dalam bahasa Melayu.<|endoftext|><|endoftext|>24 KANUN (2) 275Penyakit Berjangkit: Isu Kesihatan Awam dalam Aspek SekuritiNor Anita Abdullah dan Rohani Abdul Rahim[MAKALAH] PENYAKIT BERJANGKIT: ISU KESIHATAN AWAM DALAM ASPEK SEKURITINor Anita Abdullahnoranita_abdullah@yahoo.comKolej Undang-undang, Kerajaan dan Pengajian AntarabangsaUniversiti Utara MalaysiaRohani Abdul Rahimrar@ukm.myFakulti Undang-undangUniversiti Kebangsaan MalaysiaAbstrakUmum menganggap bahawa isu penyakit berjangkit hanya satu isu sosial yang melibatkan sebilangan kecil populasi manusia atau segelintir individu yang dijangkiti sahaja. Walau bagaimanapun, isu penyakit berjangkit yang dianggap remeh ini berkeupayaan menggugat tahap kesihatan sekali gus menjejaskan sekuriti negara. Dalam aspek ini, kemunculan penyakit berjangkit tidak mengenal batas sempadan dan geografi. Isu kesihatan menjadi satu isu global dan pada masa yang sama melibatkan isu sekuriti negara. Pelbagai konflik akan tercetus akibatnya masyarakat akan menyalahkan pihak yang bertanggungjawab dalam pengawalan dan pencegahan penyakit berjangkit. Persoalan yang akan dikupas ialah penyakit berjangkit yang melanda adakah boleh mengancam sekuriti negara, atau hanya dianggap sebagai isu sosial semata-mata. Adakah undang-undang dapat berperanan dalam melaksanakan perlindungan dan pengawalan terhadap penyakit berjangkit sekali gus menjaga sekuriti negara daripada ancaman penyakit berjangkit. Kata kunci: Penyakit berjangkit, kesihatan awam, sekuriti, bencana, undang-undang.AbstractPeoples always assumed that the issue of infectious disease was only a social issue which inflicted to a small number of people in the society or to those who were specially infected. Peoples will never deem to expect that the unimportant issue of infectious disease will able to disrupt the 7 Penyakit berjangkit 9 nov 2012 cs5.indd 275 11/27/12 4:30 PM276 KANUN [DISEMBER 2012]human health as well as affecting the national security. In this aspect, the emergence of infectious disease ignores geographical boundaries where most of the countries in the world will suffer the threats of infectious disease as a disaster. Health issue becomes a global issue and at the same time it involves the issue of national security. All sorts of conflicts will arise when people in the society will blame the responsible authority for the failure of controlling and preventing the infectious diseases. The questions to be analyzed: whether the recent existence of infectious disease could threaten the national security or just a social issue per se? If it is a need to protect the people, whether the law is responsible in performing the protection and control of infectious diseases and at the same time able to protect the national security from the threat of infectious diseases?Keywords: Infectious diseases, public health, security, disaster, lawsPENGENALANPelbagai bentuk ancaman sama ada yang berbentuk fizikal mahupun psikologi yang berlaku di dunia kini yang mencetuskan kebimbangan dalam masyarakat. Jika dahulu keganasan dianggap sebagai ancaman keselamatan, kini, masalah kesihatan juga memberikan ancaman yang sama. Penyakit berjangkit merupakan satu fenomena biososial.1 Kewujudannya tidak mengenal batas negara dan tempat. Penyakit berjangkit boleh merebak daripada manusia kepada manusia atau daripada haiwan kepada manusia. Adakalanya penyakit ini wujud dalam dua keadaan yang berbeza, iaitu yang bersifat epidemik dan endemik yang bukan hanya menjadi isu negara malahan turut menjadi isu global.2 Epidemik3 penyakit berjangkit tidak mempunyai sempadan sama ada pada peringkat kebangsaan atau antarabangsa. Malahan penyakit yang wujud tidak mengenal batas negara dan tempat. Kesemua negara didunia boleh mengalami masalah ini. Oleh itu, terdapat beberapa faktor utama yang perlu diberikan perhatian dalam konteks perlindungan kesihatan awam dalam aspek ancaman penyakit berjangkit. Kemunculan pelbagai jenis penyakit berjangkit yang serius dan berbahaya seperti Sindrom Pernafasan Akut yang Teruk (Severe Acute Respiratory System) atau SARS, virus Nipah, selesema burung, Japanese Enchephalitis 1 Fatin Hamamah, 2005, Kemunculan Penyakit Berjangkit dan Kesannya Terhadap Manusia di Malaysia, Laporan Penyelidikan, SARI 153-168, hlm 1.2 Muchtar Abdullah Baraniah, 2009, Mewaspadai Penyakit Berbahaya pada Hewan dan Ternak, Jakarta: Penebar Swadaya, hlm 13.3 “Epidemik” bermaksud wabak penyakit yang tercetus di satu tempat pada satu-satu masa. “Endemik” bermaksud penyakit yang wujud di daerah atau tempat tertentu. “Pandemik” bermaksud wabak penyakit yang telah merebak keseluruh dunia.7 Penyakit berjangkit 9 nov 2012 cs5.indd 276 11/27/12 4:30 PM24 KANUN (2) 277Penyakit Berjangkit: Isu Kesihatan Awam dalam Aspek SekuritiNor Anita Abdullah dan Rohani Abdul Rahim(JE) dan sebagainya menyebabkan kesihatan awam berada pada tahap yang membimbangkan. Ancaman penyakit berjangkit digeruni sebagaimana ancaman keganasan berbentuk fizikal seperti peperangan. Situasi ini memberi petanda bahawa manusia perlu sentiasa berada dalam keadaan bersiap sedia dalam menghadapi sebarang kemungkinan serangan penyakit berjangkit pada masa akan datang. Pertubuhan Kesihatan Sedunia menyatakan bahawa kebarangkalian penyakit baharu akan wujud hampir setiap tahun di seluruh dunia, dan Malaysia4 tidak terkecuali daripada masalah ini.PENGENALAN UNDANG-UNDANG KESIHATAN AWAM Pertubuhan Kesihatan Sedunia mendefinisikan kesihatan awam sebagai “keadaan fizikal, mental dan sosial yang sempurna, iaitu bukan sekadar ketiadaan penyakit dan ketidakupayaan semata-mata”.5 Dasar kesihatan awam ini diperkenalkan pada peringkat negara dan juga antarabangsa bagi menandakan bahawa tanggungjawab menjaga kesihatan awam merupakan tanggungjawab bersama, sama ada pada peringkat negara mahupun antarabangsa. Dalam hal ini, Artikel 25 Deklarasi Hak Kemanusiaan Sejagat menyatakan hak perlindungan kesihatan terhadap seseorang manusia, ialah: ...semua orang mempunyai hak mendapatkan taraf kehidupan yang cukup untuk mendapatkan kesihatan dan kesejahteraan diri dan keluarganya, termasuk penjagaan makanan, pakaian, perumahan dan perubatan dan perkhidmatan sosial, dan berhak kepada keselamatan dalam sekiranya tidak mempunyai pekerjaan, kesakitan, ketidakupayaan, wanita yang ditinggalkan, orang tua atau lain-lain kekurangan dalam kehidupan yang berada di luar kawalan....6Hak terhadap kesihatan ialah hak seorang manusia. Maka, setiap manusia berhak mendapat perlindungan kesihatan. Pada tahun 1978, Pertubuhan Kesihatan Sedunia turut menambah elemen hak kemanusiaan dan cara untuk mendapatkan keadilan sosial dalam aspek kesihatan awam.7 Walaupun fokus utama kesihatan awam ialah populasi masyarakat awam, tetapi pada masa yang sama setiap manusia mempunyai hak yang sama dalam mendapatkan perkhidmatan kesihatan dan diberikan perlindungan kesihatan yang sempurna demi mencapai kehidupan yang sihat dan sempurna dalam masyarakat itu sendiri. 4 Abdullah Fahim, 2009. Ancaman Penyakit Berbahaya. Selangor: Kota Ilmiah, hlm 32.5 Laman Sesawang World Health Organization http://who.int/about/definition/en/print 6 Laman Sesawang Universal Declaration of Human Rights htp://un.org/en/documents/udhr 7 Anthony R. Kovner dan James R. Knickman, 2008. Health Delivery in the United States. New York: Springer Publishing Company, hlm 92.7 Penyakit berjangkit 9 nov 2012 cs5.indd 277 11/27/12 4:30 PM278 KANUN [DISEMBER 2012]Dari perspektif undang-undang pula, Institut Perubatan United Kingdom mendefinisikan undang-undang kesihatan awam sebagai: ...menjadi tanggungjawab undang-undang kerajaan untuk memastikan keadaan kesihatan rakyat (contohnya; untuk mengenal pasti, mencegah, dan memperbaiksebarang risiko kesihatan terhadap penduduk) dan had kuasa kerajaan untuk menghalang kuasa autonomi, privasi, kebebasan atau apa-apa kepentingan individu yang dilindungi secara sah terhadap perlindungan atau promosi kesihatan dalam masyarakat... .8 Penekanan diberikan terhadap aspek undang-undang dan tanggungjawab kerajaan yang memainkan peranan utama bagi memastikan agar kesihatan yang ideal diberikan kepada rakyatnya. Bagi perspektif Amerika Syarikat pula, undang-undang kesihatan awam menerangkan bahawa tanggungjawab mana-mana individu serta tugas pihak kerajaan untuk bertindak memastikan kesihatan terjamin dalam masyarakat sebagaimana pandangan Lawrence O. Gostin yang menyatakan bahawa: ...undang-undang kesihatan awam tidak harus dilihat sebagai satu rahsia, peraturan yang tidak sistematik dan tidak teratur sebagaimana yang terkandung dalam undang-undang kesihatan negeri. Sebaliknya, undang-undang kesihatan awam harus dilihat secara meluas sebagai satu kuasa dan tanggungjawab kerajaan dalam memastikan keadaan kesihatan penduduk terjamin... .9 Dalam aspek ini, undang-undang kesihatan meliputi konteks keseluruhan yang melibatkan pihak berkuasa yang mempunyai peranan dan bertanggungjawab untuk melaksanakan sebarang perancangan dan pelaksanaan kesihatan terhadap masyarakat.Jika dikaji kewujudan undang-undang dari perspektif kesihatan awam, sejarah membuktikan bahawa undang-undang antarabangsa berperanan dalam proses pengawalan dan pengawasan secara menyeluruh terhadap isu penyakit berjangkit. Penyatuan undang-undang pada peringkat global telah menyatukan beberapa kaedah tertentu dalam aspek kesihatan dalam menangani, mengawal dan mencegah penyakit berjangkit, seperti proses kuarantin dan pengawasan. Sebelum abad ke-19, isu penyakit berjangkit tidak melibatkan campur tangan pada peringkat antarabangsa apatah lagi kewujudan undang-undang antarabangsa dalam menangani masalah 8 Lawrence O. Gostin dan James G. Hodge, 2002, Turning Point: Colloborating For A New Century in Public Health: State Public Health Assessment Law Report, Washington: Public Health Statute Modernization National Excellent Colloborative, hlm 10. 9 David P. Fidler, “Gostin on Public Health Law” dlm. Yale Journal of Health Policy, Law and Ethics, 1, (303-318), hlm 306, 2001.7 Penyakit berjangkit 9 nov 2012 cs5.indd 278 11/27/12 4:30 PM24 KANUN (2) 279Penyakit Berjangkit: Isu Kesihatan Awam dalam Aspek SekuritiNor Anita Abdullah dan Rohani Abdul Rahimtersebut. Ketika itu pentadbiran pada peringkat negeri mempunyai polisi menguruskan ancaman penyakit berjangkit tanpa campur tangan atau kerjasama antarabangsa.10 Namun begitu, melalui peralihan dan perubahan zaman, kemunculan penyakit berjangkit berada pada tahap yang membimbangkan terutamanya kepantasan merebaknya penyakit berjangkit semakin tidak terkawal. Perhubungan antara negara melalui sistem pengangkutan turut menjadi punca utama merebaknya penyakit di dunia. Pada tahun 1851, undang-undang antarabangsa telah diperkenalkan sebagai penghubung antara peruntukan undang-undang dengan pengawalan dan pencegahan penyakit berjangkit dalam aspek kesihatan awam secara global. Persidangan pertama pengenalan undang-undang Antarabangsa diadakan di Perancis, iaitu Persidangan Kebersihan Antarabangsa yang dihadiri oleh 11 negara Eropah. Bermula dari tahun 1851 sehingga berakhir abad ke-19, sepuluh persidangan11 telah diadakan dan lapan daripadanya telah melalui proses rundingan yang melibatkan isu penyakit berjangkit yang merebak tanpa mengenal batas sempadan, seperti kolera (cholera), sampar (plague) dan demam kuning (yellow fever).12 Namun begitu, Konvensyen Kebersihan Antarabangsa yang diadakan pada tahun 1903 merupakan perintis kepada pertubuhan undang-undang antarabangsa yang pertama dalam aspek pengawalan penyakit berjangkit, menggantikan triti terdahulu yang dicapai pada abad ke-19. Terdapat tiga asas utama dalam undang-undang antarabangsa ini yang iaitu:1. tanggungjawab memaklumkan kepada negara lain akan kemunculan penyakit berjangkit tertentu;2. mengehadkan sistem perhubungan antaranegara luar dengan mana-mana negara yang berdepan dengan ancaman penyakit berjangkit; dan3. pelibatan organisasi antarabangsa berkaitan aspek kesihatan.1310 David P. Fidler, “Emerging Trends in International Law Concerning Global Infectious Disease Control” dlm. Emerging Infectious Disease 9:3, hlm 285, 2003.11 Persidangan tersebut di adakan pada tahun 1851, 1859, 1866, 1874, 1881, 1885, 1892, 1893, 1894 dan 1897 diadakan dan empat daripada kesepuluh triti tersebut (tahun 1892, 1893, 1894 dan 1897) berkenaan pengawalan penyakit berjangkit telah berjaya dicapai sebelum berakhirnya abad ke-19.12 Obijor Aginam, “International Law and Communicable Diseases” dlm. Bulletin of World Health Organization, 80:12), hlm 946, 2002. http://www.who.int/bulletin/archieve/80(12)946.pdf (28 April 2010).13 David P. Fidler, “The Role of International Law in the Control of Emerging Infectious Diseases” dlm. Bulletin of Institute Pastuer, 95 (57-72), hlm 59, (1997).7 Penyakit berjangkit 9 nov 2012 cs5.indd 279 11/27/12 4:30 PM280 KANUN [DISEMBER 2012]MEKANISME UNDANG-UNDANG ANTARABANGSA TERHADAP KESIHATAN AWAM DALAM KONTEKS PENYAKIT BERJANGKITMelalui pengenalan undang-undang antarabangsa, beberapa mekanisme perundangan berkenaan isu penyakit berjangkit diperuntukkan memandangkan isu ini merupakan isu global yang tidak mengenal batas sempadan. Jika dahulu, isu kesihatan awam hanya melibatkan pihak doktor dan para epidemiologi,14 namun pada abad ke-19 bermula peralihan apabila isu kesihatan awam menjadi isu antarabangsa. Oleh itu, undang-undang antarabangsa diperlukan bagi memastikan pelaksanaan setiap tindakan untuk melindungi kesihatan awam pada peringkat global dapat dilaksanakan. Penubuhan dan pengenalan Pertubuhan Kesihatan Sedunia dan Peraturan Kesihatan Antarabangsa dibuat bertujuan memastikan hal tersebut. Pertubuhan ini menjadi penyumbang utama dari sudut perundangan dan menjadi badan yang mengenal pasti risiko penyebaran jangkitan penyakit pada peringkat antarabangsa dan menjalinkan kerjasama secara global dan sistematik dengan negara luar.Pertubuhan Kesihatan Sedunia memainkan peranan penting dalam perancangan serta pelan tindakan terhadap pengawasan penyakit berjangkit pada peringkat global. Pengesahan letusan (outbreak verification)15 diperkenalkan oleh Pertubuhan Kesihatan Sedunia bertujuan untuk “bertindak”, “mengenal pasti” dan “memberikan respons” sebagai langkah persediaan sekiranya berlaku atau akan berlaku sebarang situasi kemunculan penyakit berjangkit dengan secepat mungkin ke peringkat global selaras dengan objektif dan matlamat Pertubuhan Kesihatan Sedunia, iaitu “kesihatan untuk semua”. Pelbagai organisasi di serata dunia telah ditubuhkan sebagai rangkaian global dan wakil beberapa negara turut dilantik bagi memastikan segala tindakan yang dijalankan oleh Pertubuhan Kesihatan Sedunia dapat dilaksanakan di seluruh dunia.16 Peraturan Kesihatan Antarabangsa pula merupakan mekanisme perundangan dalam menangani dan menghadapi masalah penularan penyakit berjangkit dan memastikan keselamatan masyarakat awam berada pada tahap yang paling selamat. Sekiranya berlaku atau tercetus apa-apa tanda epidemik penyakit berjangkit yang melibatkan tiga jenis17 jangkitan utama di negara anggota kepada Pertubuhan Kesihatan Sedunia (secara automatiknya wajib mematuhi peraturan dalam Peraturan Kesihatan Antarabangsa) dan perlu 14 Pakar kesihatan yang membuat kajian mengenai penyakit epidemik.15 Artikel 10, International Health Regulation (2005), WHO, Geneva, 2006.16 Jess T. Ford, “Global Health: Framework for Infectious Diseases Surveillance” dlm. G.A.O, National Security and International Affairs Division, United States General Accounting Office Washington, 2000, hlm 11.17 Pada awal penubuhannya, IHR hanya membatasi kepada enam jenis penyakit berjangkit sahaja iaitu Cholera, plague dan yellow fever, smallpox, relapsing fever dan typhus, tetapi selepas tahun 1969, dikurangkan kepada tiga jenis penyakit berjangkit sahaja, iaitu Cholera, plague dan yellow fever.7Penyakit berjangkit 9 nov 2012 cs5.indd 280 11/27/12 4:30 PM24 KANUN (2) 281Penyakit Berjangkit: Isu Kesihatan Awam dalam Aspek SekuritiNor Anita Abdullah dan Rohani Abdul Rahimmemaklumkan Pertubuhan Kesihatan Antarabangsa dengan kadar segera. Tindakan akan diambil berdasarkan maklumat tersebut dengan pemberitahuan kepada negara anggota yang lain sebagai langkah persediaan awal terhadap sebarang kebarangkalian penularan penyakit berjangkit tersebut.18 Pendekatan Peraturan Kesihatan Antarabangsa bagi menangani dan menghadapi situasi ini adalah dengan membuat semakan semula terhadap senarai penyakit berjangkit. Pada peringkat awal penubuhannya, hanya terdapat enam jenis penyakit berjangkit sahaja yang disenaraikan, iaitu kolera, sampar, demam kuning, cacar, demam berulang, dan tifus. Selepas tahun 1969, senarai ini dikurangkan kepada tiga jenis penyakit sahaja, iaitu kolera, sampar dan demam kuning. Oleh itu, negara yang mengalami penyakit berjangkit yang tidak tersenarai seperti influenza (SARS, H1N1 dan H5N1) tidak wajib melaporkannya kepada Pertubuhan Kesihatan Sedunia. Namun, semakan semula telah dibuat dan hasilnya dikenali sebagai Peraturan Kesihatan Antarabangsa 2005 dengan skop yang lebih luas dan responsif. Senarai penyakit tidak lagi menjadi rujukan utama asalkan terbukti bahawa kemunculan penyakit berjangkit tersebut dikenal pasti menggugat tahap kesihatan dan keselamatan masyarakat terutamanya pada peringkat global.ASPEK SEKURITI DALAM KONTEKS ANCAMAN PENYAKIT BERJANGKIT TERHADAP KESIHATAN AWAMDi Amerika Syarikat, sebelum pentadbiran Clinton lagi, pihak kerajaan mula menyedari bahawa isu kesihatan merupakan isu global dan pada masa yang sama menjadi isu sekuriti negara. Terdahulu, isu kesihatan bukan agenda penting kepada Amerika Syarikat. Walau bagaimanapun, selepas insiden 11 September 2001, segala-galanya berubah.19 Kuasa mengenai isu kesihatan tidak dinyatakan dalam perlembagaan Amerika Syarikat. Kuasa utama dinyatakan dengan jelas dan diberikan kepada pihak pada peringkat negeri untuk sebarang bentuk pelaksanaan perlindungan.20 Fokus yang lebih jelas dan fleksibel diberikan oleh pihak kerajaan negeri dalam merangka dan menggubal undang-undang yang berkaitan dengan perlindungan kesihatan awam terhadap isu kesihatan awam yang menimbulkan ancaman terhadap 18 Laman sesawang World Health Organization http://www.who.int/ihr/about/FAQ2009.pdf (9 Mac 2010).19 David L. Heyman, “The Evolving Infectious Disease Threat: Implications for National and Global Security” dlm. Journal of Human Development 4:2, hlm 191 2002. http://igcc.ucsd.edu/research/globalhealth/presentations/HeymannEvolvingIDThreat_2003.pdf (Capaian 25 Disember 2010).20 Bud Nicola, “Transformations in Public Health: the Mode State Emergency Health Powers Act” dlm. A Publication of Turning Point: Collaborating for a New Century Public Health, 4:1, hlm. 1 Spring 2002.7 Penyakit berjangkit 9 nov 2012 cs5.indd 281 11/27/12 4:30 PM282 KANUN [DISEMBER 2012]sekuriti manusia. Melihat dari aspek ancaman sekuriti, manusia perlu diberikan perlindungan daripada apa-apa keadaan ancaman sekalipun. Berdasarkan Jadual 1, didapati bahawa setiap bentuk atau jenis ancaman memerlukan situasi atau keadaan yang berbeza. Walau bagaimanapun, setiap bentuk atau jenis ancaman tersebut melibatkan sekuriti kehidupan manusia terjejas dan perlu dilindungi. Menurut Laporan Program Pembangunan Pertubuhan Bangsa-Bangsa Bersatu (PBB) dalam Program Pembangunan Kemanusiaan 1994, penerangan diberikan tentang konsep sekuriti manusia yang dibahagikan kepada dua komponen asas, iaitu “bebas kemahuan” dan “bebas daripada ketakutan”.21 Kedua-dua komponen berkait rapat antara satu sama lain. Penjelasan menyeluruh boleh didapati melalui kedua-dua komponen tersebut. Selain itu, satu laporan yang disediakan oleh Setiausaha PBB-General’s High-level Panel on Threats, Challenges and Changes menjelaskan bahawa isu kesihatan dan sekuriti saling berkaitan. Dalam pembentangan laporan tersebut, ahli panelyang terlibat juga mengatakan bahawa “mana-mana peristiwa atau proses yang membawa kematian secara besar-besaran atau mengurangkan peluang untuk hidup dan menjejaskan pentadbiran sesebuah negeri sebagai satu unit asas dalam sistem antarabangsa”.22 Keadaan ini menjurus ke arah ancaman sekuriti antarabangsa. 21 Ya-Wen Chiu, Yi-Hao Weng, Yi-Yuan Su, Ching-Yi Huan, Ya-Chen Chung & Ken N Kuo, 2009. The Nature of International Health Security, hlm 680. 22 Gerald Rockenschaub, Jukka Pukkila & Maria Christina Profili (ed.), 2007. “Towards Health Security, A Discussion Paper on Recent Health Crises in the WHO European Region”, WHO, hlm 12.Jadual 1 Jenis ancaman kepada sekuriti manusia.Jenis Sekuriti Jenis Ancaman1. Sekuriti ekonomi Kemiskinan, pengangguran2. Sekuriti makanan Kelaparan, kemarau3. Sekuriti kesihatan Penyakit berjangkit yang kronik, makanan yang tidak selamat, kekurangan nutrisi, kekurangan penjagaan kesihatan4.Sekuriti peribadi Keganasan fizikal, jenayah, terorisme, keganasan rumah tangga, buruh kanak-kanak5. Sekuriti komuniti Kepelbagaian etnik, kaum, agama6. Sekuriti politik Masalah / penindasan politik, perlanggaran hak asasi manusia7. Sekuriti alam sekitar alam, pencemaranKemusnahan alam sekitar, pengurangan sumber alam, bencanaSumber: Human Security in Theory and Practice, Application of the Human Security Concept and the United Nations Trust Fund for Human Security, Human Security Unit, Office for the Coordination and Humanitarian Affairs United Nations, hlm 6 http://www.hdr.undp.org/en/media/HS_Handbook_2009.pdf. 7 Penyakit berjangkit 9 nov 2012 cs5.indd 282 11/27/12 4:30 PM24 KANUN (2) 283Penyakit Berjangkit: Isu Kesihatan Awam dalam Aspek SekuritiNor Anita Abdullah dan Rohani Abdul RahimSejarah merakamkan penekanan terhadap isu kesihatan dan sekuriti antarabangsa. Selepas berakhirnya Perang Dunia Kedua, tumpuan utama ketika itu pada aspek sekuriti yang lebih berbentuk fizikal, seperti isu nuklear yang berlaku antara Amerika Syarikat dengan Soviet Union. Semasa Perang Dingin, sekali lagi isu sekuriti ditumpukan pada aspek peperangan yang lebih bercirikan fizikal melibatkan penggunaan senjata perang.23 Pendekatan sekuriti pada ketika itu hanya menitikberatkan soal integriti, institusi politik dan perlembagaan negara sahaja. Walau bagaimanapun, selepas perang tersebut, konsep sekuriti telah diperluas. Beberapa aspek lain yang penting dan berkait rapat dengan soal sekuriti, seperti ekonomi, sosial dan sekuriti kesihatan turut dimasukkan dalam sekuriti sebagaimana yang diberikan dalam Jadual 1. Penyakit berjangkit menjadi salah satu isu utama dalam hal kesihatan awam dan sekuriti. Dalam konteks ancaman penyakit berjangkit, AIDS juga dianggap sebagai satu ancaman bukan sahaja terhadap kesihatan awam malah menjadi ancaman yang serius kepada keselamatan negara terutamanya di Amerika Syarikat, iaitu semasa zaman pemerintahan Bill Clinton lagi. Selain AIDS, kewujudan penyakit berjangkit lain, seperti selesema burung, SARS dan JE juga mampu memberikan ancaman yang serius kepada tahap keselamatan negara. Kenyataan ini disokong oleh para saintis Amerika Syarikat mengenai bahaya serangan penyakit berjangkit.24 Hal ini mencetuskan kebimbangan dalam sistem pemerintahan Amerika Syarikat ketika itu. Isu tersebut buat pertama kalinya dalam sejarah Amerika Syarikat Jabatan Kesihatan dan Perkhidmatan Sumber Manusia yang bertanggungjawab dalam hal kesihatan awam telah dimasukkan menjadi sebahagian besar sistem pentadbiran dalam sistem sekuriti negara.25 Pakar kesihatan awam dan sekuriti negara Amerika Syarikat berpendapat bahawa rebakan penyakit berjangkit mampu mencetuskan ancaman sama ada secara langsung atau tidak langsung.26 Terdapat peningkatan kadar kematian dunia disebabkan oleh penularan penyakit berjangkit.27 23 Christopher Albon, 2009. Infectious Disease: Foreign Military and National Security, dlmMicheal Tanji (ed.), Threats in the Age of Obama. USA: Nimble Books LLC, hlm 47.24 Nicholas B. King, Security, Disease, Commerce: Ideologies & Postcolonial Global Health, Oct – Dec, Social Studies of Science 32:5/6, hlm 764, 2002. http://www.jstor.org/stable/3183054 25 Richard A. Clarke, “Finding the Right Balances Against Bioterrorism in Emerging Infectious Disease” dlm. National Symposium on Medical and Public Health Response 5:4, hlm 497, 1999.26 Jess T. Ford, 2000. “A Report on Global Health: Framework for Infectious Disease Surveillance, G.A.O” dlm. National Security and International Affairs Division, United States General Accounting Office Washington, hlm 2.27 Lawrence O. Gostin, Jason W. Sapsin & Stephen P. Teret et al., “The Model State Emergency Health Power Act: Planning for and Response to Bioterrorism and Naturally Occurring Infectious Diseases” dlm. JAMA 288:5 (622-628), hlm 623, 2002. http://jama.ama-assn.org/cgi/content/full/288/5/6227 Penyakit berjangkit 9 nov 2012 cs5.indd 283 11/27/12 4:30 PM284 KANUN [DISEMBER 2012]Pengisytiharan oleh Majlis Keselamatan Bangsa-bangsa Bersatu pada tahun 2000 menegaskan bahawa AIDS merupakan ancaman antarabangsa. AIDS yang merupakan isu dan masalah kesihatan pertama yang telah mendapat perhatian meluas masyarakat dunia.28 Serangan penyakit SARS pula tercetus pada November 2002 yang juga mencetuskan fenomena ancaman penyakit berjangkit yang dikategorikan berbahaya. Pertubuhan Kesihatan Sedunia telah mengisytiharkan amaran kesihatan global. Sebelum amaran dikeluarkan, SARS telah pun merebak ke beberapa negara, seperti China, Hong Kong, Singapura, Taiwan dan Vietnam.29 Situasi ini menyebabkan panik dan ketakutan dalam kalangan masyarakat dunia. Senario Ancaman dan Bencana Penyakit Berjangkit di MalaysiaMalaysia tidak pernah berada dalam situasi bencana alam yang dahsyat sebagaimana yang pernah di alami oleh kebanyakan negara lain di dunia. Walau bagaimanapun, Malaysia tidak terkecuali daripada mengalami krisis dan bencana yang mengancam kesihatan dan sekuriti penduduknya seperti yang ditunjukkan dalam Jadual 2. Bencana tercetus dalam pelbagai bentuk, antaranya termasuklah faktor semula jadi sama ada yang menyebabkan kemunculan penyakit berjangkit, sektor perindustrian dan bahaya alam sekitar. Setiap jenis bencana yang tercetus mempunyai implikasi tersendiri kepada masyarakat. Jika dilihat dari perspektif bencana, penyakit berjangkit turut menjadi pencetus situasi bencana yang pernah berlaku di Malaysia. Menurut definisi bencana yang ditakrifkan oleh Majlis Keselamatan Negara (MKN) iaitu: ...sesuatu kejadian yang berlaku secara mengejut, bersifat kompleks dan mengakibatkan kehilangan nyawa, kemusnahan harta benda atau alam sekitar serta menjejaskan aktiviti masyarakat setempat ... melibatkan sumber, peralatan, kekerapan dan tenaga manusia yang ekstensif daripada banyak agensi serta penyelarasan yang berkesan...30. Jika dilihat dalam konteks gambaran definisi yang diberikan oleh MKN, penyakit berjangkit juga wujud dalam keadaan mengejut dan bersifat kompleks. Kemunculannya tidak dapat dikenal pasti secara biasa dan mengambil masa yang agak lama untuk dikenal pasti. Apabila penyakit 28 Jeremy Youde, 2004. Health Security and International Relations Theory, A paper prepared for the 44th Annual International Studies Association Convention on 17 – 20 March 2004, Montreal, Quebec, hlm 2 http://www.law.harvard.edu/blogs/gems/politicsshiv/youde2.pdf. 29 Mely Caballero-Anthony, “SARS in Asia: Crisis, Vulnerability & Regional Responses” dlm. Asian Survey XLV:3. hlm 483, May/June 2005. http://www.jstor.org/stable/4497110. 30 Laman Web Rasmi Parlimen Malaysia http://www.parlimen.gov.my/pengenalan-lbelakang.htm.7 Penyakit berjangkit 9 nov 2012 cs5.indd 284 11/27/12 4:30 PM24 KANUN (2) 285Penyakit Berjangkit: Isu Kesihatan Awam dalam Aspek SekuritiNor Anita Abdullah danRohani Abdul Rahimberjangkit mula merebak, kesannya bukan sahaja menjejaskan tahap kesihatan awam, malah turut melibatkan kematian dalam kalangan masyarakat. Jika penyakit ini tidak dapat dikawal, maka akan tercetuslah situasi bencana, iaitu wabak. Sekiranya penyakit berjangkit yang berlaku menjadi penyebab kepada ancaman sekuriti, (atau bencana lain seperti banjir, tanah runtuh dan sebagainya), Kementerian Kesihatan Manusia (KKM) akan bekerjasama dengan MKN. MKN ditubuhkan pada 7 Julai 1971 bertanggungjawab terhadap sekuriti negara. Dari aspek kesihatan awam, KKM perlu memastikan pelaksanaan pencegahan dan pengawalan mengikut prosedur memandangkan isu penyakit berjangkit berada di bawah tanggungjawab KKM. Sekiranya penularan penyakit berjangkit bertambah serius sehingga menimbulkan ancaman kepada sekuriti negara, MKN akan dirujuk. Dalam hal ini, Arahan No. 20 MKN diguna pakai atas perakuan serta kelulusan daripada (NIIPC) kepada Kabinet terlebih dahulu sebelum sebarang tindakan diambil dalam Jadual 2 Insiden yang melibatkan bencana dan ancaman terhadap kesihatan awam di Malaysia.Tahun Insiden/bencana Statistik1991 Letupan kilang mercun di Sungai Buloh 22 kematian ; 1647 kecederaan1992 Letupan dan kebakaran kapal di Pelabuhan Klang10 kematian1993 Runtuhan kondominium Highland Towers 48 kematian1995 Kejadian tanah runtuh di laluan jalan raya Genting Highlands20 kematian ; 22 kecederaan1996 Banjir lumpur di penempatan orang asli di PerakKejadian rebut tropikal ‘Greg’ di perairan pantai SabahLetusan ‘Cholera’ di Pulai Pinang44 kematian ; 30 rumah musnah230 kematian ; 4925 rumah musnah1,182 kes dilaporkan1997 Letusan ‘Enterovirus’ di SarawakJerebu asap42 kematianKerugian Ekonomi1998/99 Virus Nipah 283 kes ; 109 kematian2001 Ancaman antraks 103 kes yang dilaporkan2003 SARS 5 kes2004 Avian InfluenzaTsunamiTidak melibatkan manusia68 kematian ; 767 kecederaanSumber: Devan Kurup, Bahagian Pengawalan Penyakit, Kementerian Kesihatan Malaysia dlm pembentangan yang bertajuk ‘Public Health Crisis Management: The Malaysian Scenarion’ pada 17 Jun 2010 www.unog.ch/.../Devan+Kurup.+Public+Health+Crisis+Management-Malaysian+Scenario.pdf7 Penyakit berjangkit 9 nov 2012 cs5.indd 285 11/27/12 4:30 PM286 KANUN [DISEMBER 2012]menghadapi keadaan yang berlaku sebagai ancaman sekuriti negara.31 Arahan ini menggariskan Dasar dan Mekanisme Pengurusan dan Bantuan Bencana Negara. Tujuan utama MKN ialah menetapkan Dasar Pengurusan dan Bantuan Bencana di Darat dikawal berdasarkan beberapa tahap seperti yang berikut:Tahap I : Bencana yang berlaku di kawasan yang terhad dan tidak berpotensi untuk merebak. Keadaan tidak rumit dan kemungkinan kehilangan nyawa dan harta benda adalah minimum. Bencana ini juga tidak menjejaskan aktiviti harian penduduk setempat. Dalam kejadian ini pihak berkuasa daerah mempunyai keupayaan untuk mengawal dan mengatasi bencana dengan bantuan agensi pada peringkat daerah. Tahap II : Bencana yang berlaku di kawasan yang mempunyai potensi untuk merebak dan boleh menyebabkan kehilangan nyawa dan harta benda yang besar. Bencana tahap II di luar kemampuan pihak berkuasa daerah. Tahap III : Bencana yang serius dan lebih kompleks daripada bencana tahap II dan memerlukan bantuan dan sumber daripada semua agensi yang berkaitan.Sebarang bentuk tindakan dan pelaksanaannya akan dijalankan mengikut tahap-tahap yang telah ditetapkan. Penetapan tahap ini juga menunjukkan sama ada bencana yang tercetus terkawal atau tidak terkawal serta pihak yang bertanggungjawab untuk menghadapinya. Dalam menangani dan menghadapi kemunculan penyakit berjangkit tersebut, seperti yang termaktub dalam definisi MKN, sumber, peralatan, kekerapan dan tenaga manusia yang ekstensif diperlukan. Oleh itu, penglibatan dan kerjasama pelbagai pihak amat diperlukan bukan hanya daripada pihak kerajaan tetapi juga agensi lainserta pihak swasta. Antara agensi yang terlibat termasuklah (Markas Pasukan Mencari dan Menyelamat Khas Malaysia (SMART)-MKN, Polis Di Raja Malaysia, Bomba, Tentera Di Raja Malaysia, Jabatan Perkhidmatan Awam, Jabatan Kebajikan Sosial, RELA, Jabatan Kebajikan Awam, Tenaga Nasional Berhad, Telekom Malaysia, Persatuan Bulan Sabit Merah, dan lain-lain badan sukarelawan).32 Agensi ini bertanggungjawab dan memainkan peranan dalam membantu dan bertindak menangani sesuatu bencana yang berlaku. Walaupun dalam menghadapi bencana ancaman penyakit berjangkit lebih melibatkan KKM, namun MKN dengan bantuan agensi yang terlibat merupakan badan bertindak yang menghulurkan bantuan sekiranya tercetus sebarang bencana.31 National Influenza Preparedness Pandemic Plan, 2006.Kementerian Kesihatan Malaysia, hlm 30.32 Ibrahim Mohd. Shaluf dan Fakhru’l-Razi Ahamadun, 2006. Technological Disaster Prevention- The Case of Malaysia, Disaster Prevention and Management 15:5 hlm 785 (783-92).7 Penyakit berjangkit 9 nov 2012 cs5.indd 286 11/27/12 4:30 PM24 KANUN (2) 287Penyakit Berjangkit: Isu Kesihatan Awam dalam Aspek SekuritiNor Anita Abdullah dan Rohani Abdul RahimPENGAWALAN DAN PENCEGAHAN PENYAKIT BERJANGKIT DI MALAYSIADalam konteks perundangan di Malaysia, Akta Pencegahan dan Pengawalan Penyakit Berjangkit 1988 (Akta 3422) (APPPB) merupakan akta yang diwujudkan bagi meminda dan menyatukan undang-undang yang berkaitan dengan pencegahan dan pengawalan penyakit berjangkit, dan mengadakan peruntukan tentang perkara lain yang sehubungan dengannya. Jadual pertama dalam APPPB mendefinisikan “penyakit berjangkit” sebagai batuk kokol, campak, kankroid (chancroid), demam denggi dan demam denggi berdarah, demam kuning, difteria, disenteri (semua jenis), ebola, jangkitan gonococcal (semua jenis), keracunan makanan, kolera, kusta, malaria, penyakit tangan, kaki dan mulut, plag (plague), poliomielitis (akut), penyakit anjing gila (rabies), demam berulang (relapsing fever), sifilis (semua jenis), tetanus (semua jenis), tifoid dan salmonoloses lain, tifus dan ricketsioses lain, tuberkulosis (semua jenis), virus ensefalitis, virus hepatitis, apa-apa jangkitan mikrobial lain dan mengancam nyawa dan jangkitan HIV (semua jenis).33 Terdahulu, Akta Hospital Persendirian 1971 (AHP) turut memberikan definisi penyakit berjangkit dan menyenaraikan penyakit berjangkit.34 Walau bagaimanapun, AHP telah dimansuhkan oleh Akta 586, iaitu Akta Kemudahan dan Perkhidmatan Jagaan Kesihatan Swasta 1998 yang dikuatkuasakan pada 2006. Namun begitu, Akta 586 ini tidak memberikan peruntukan tentang penyakit berjangkit dan juga senarainya. Akta ini berfungsi dalam pengawalseliaan dan pengawalan kemudahan dalam aspek perkhidmatan jagaan kesihatan terutamanya melibatkan klinik dan hospital swasta yang menawarkan kemudahan dan perkhidmatan kesihatan. Menurut definisi tersebut, penyenaraian penyakit berjangkit APPPB dan AHP (yang telah dimansuhkan) adalah tidak sama antara satu sama lain. Menurut senarai yang didapati dalam APPPB juga, penyakit berjangkit tersebut tidak dibezakan antara penyakit berjangkit yang serius dan berisiko, seperti Ebola, “penyakit mikrob” dan HIV yang mampu mengancam kesihatan dan sekuriti manusia berbanding dengan penyakit berjangkit yang lain, seperti keracunan makanan dan demam yang masih boleh dikawal, dicegah dan diubati.33 Seskyen 2, Akta Pencegahan dan Pengawalan Penyakit Berjangkit 1988 (Akta 342).34 Penyakit berjangkit tersebut ialah anthrax, batuk kokol, cacar air (varisela), cacar nanah, demam andulan, demam bentan, demam campak, (termasuk campak rubela), demam denggi, demam kuning, demam merah, demam nifas, difteria, disenteri (ameba dan basilus), erisipelas, infeksi hepatitis, infeksi leptospiren, infeksi salmonela, keguguran septik, keracunan makanan, kusta, malaria, mata bayi bernanah, peleg (mangga atau paru-paru), penyakit kulit bayi, penyakit poliomilitis (penyakit polio), penyakit tetanus bayi, penyakit untut,puru, rabies (penyakit anjing gila), radang otak, radang selaput saraf, taifas (belukar dan bandar), tifoid, taun, tibi dan trakoma. 7 Penyakit berjangkit 9 nov 2012 cs5.indd 287 11/27/12 4:30 PM288 KANUN [DISEMBER 2012] Bahagian III APPPB pula memperuntukkan pencegahan penularan penyakit berjangkit. Seksyen 6 memperuntukkan pemberitahuan tempat-tempat yang dijangkiti di luar Malaysia. Seksyen ini juga meliputi perlindungan terhadap sebarang penyakit berjangkit yang baharu mula merebak di Malaysia. Bahagian IV pula memperuntukkan pengawalan terhadap jangkitan penyakit berjangkit sekiranya wujud di Malaysia. Masyarakat dikehendaki dengan segera memberitahu35 pihak yang terlibat, seperti klinik dan jabatan kesihatan sekiranya mengetahui wujud sebarang jangkitan penyakit berjangkit. Sekiranya penyakit berjangkit itu telah dikenal pasti wujud di mana-mana sahaja,36 mereka yang terlibat wajib membuat laporan mengenai kemunculan penyakit berjangkit tersebut.37 Sebagai contoh, pengamal perubatan terutamanya doktor yang lebih dekat dengan pesakit, perlu melaporkan dengan kadar segera kepada Pegawai Kesihatan38 tentang kewujudan penyakit berjangkit yang disyaki dan dikhuatiri mampu mendatangkan mudarat kepada orang awam agar tindakan sewajarnya dapat diambil. Terdapat 26 senarai penyakit berjangkit yang disenaraikan dalam APPPB yang berada di bawah sistem pengawasan dan pemantauan KKM. Setiap kemunculan penyakit tersebut wajib dimaklumkan kepada pihak berkuasa kesihatan dengan kadar segera, iaitu dalam tempoh 24 jam kemunculannya. Arahan pemberitahuan ini juga selari dengan peruntukan yang dikeluarkan oleh Peraturan Kesihatan Antarabangsa yang mengarahkan agar mana-mana negara yang mengalami sebarang jenis kemunculan penyakit berjangkit yang disyaki berbahaya dan mengancam kesihatan awam supaya memaklumkan kemunculannya agar tindakan segera dapat diambil. Pemberitahuan ini amat penting bagi menghalang sebarang jangkitan daripada berlaku, dapat dikenal pasti penyebabnya agar dapat dikawal dalam kadar segera. Melalui penerimaan maklumat mengenai kewujudan penyakit berjangkit ini juga, pihak berkuasa kesihatan perlu melaporkan dengan segera kepada Peraturan Kesihatan Antarabangsa dan Pertubuhan Kesihatan Sedunia. Dalam hal ini, pemantauan dan pengawasan pada peringkat kebangsaan, serantau dan antarabangsa akan dilakukan. Setiap maklumat atau pemberitahuan mengenai setiap jenis agen virus atau penyakit berjangkit akan diselidiki dan dikaji secara terperinci untuk memastikan kesahihannya dan diambil tindakan sewajarnya oleh Pertubuhan Kesihatan Sedunia dan Peraturan Kesihatan Antarabangsa dengan kerjasama negara yang terlibat. Menurut APPPB juga, jika seseorang itu disyaki telah dijangkiti oleh penyakit berjangkit, maka dia seharusnya dijauhkan daripada orang awam 35 Seksyen 10(1) Akta Pencegahan dan Pengawalan Penyakit Berjangkit 1988 (Akta 342)36 Seksyen 10(3) Akta Pencegahan dan Pengawalan Penyakit Berjangkit 1988 (Akta 342)37 Seksyen 10(4) Akta Pencegahan dan Pengawalan Penyakit Berjangkit 1988 (Akta 342)38 Seksyen 10(2) Akta Pencegahan dan Pengawalan Penyakit Berjangkit 1988 (Akta 342)7 Penyakit berjangkit 9 nov 2012 cs5.indd 288 11/27/12 4:30 PM24 KANUN (2) 289Penyakit Berjangkit: Isu Kesihatan Awam dalam Aspek SekuritiNor Anita Abdullah dan Rohani Abdul Rahimdan perlu diasingkan.39 Proses pengasingan40 dilakukan dengan memisahkan individu yang dijangkiti untuk tujuan rawatan dan mencegah sebarang penularan. Sekiranya pesakit belum menunjukkan tanda bebas daripada virus, maka dia perlu dikuarantin. Perkara yang sama perlu dilakukan terhadap sesiapa yang berasa atau percaya bahawa diri mereka dijangkiti penyakit berjangkit. Mereka tidak boleh mendedahkan diri kepada khalayak ramai, dan jika dilakukan perlakuan ini merupakan suatu kesalahan.41 Kekerasan boleh digunakan oleh pegawai yang diberi kuasa, jika pesakit mengingkari arahan, bagi memastikan pesakitpatuh kepada arahan pengasingan tersebut selagi pesakit tidak diisytiharkan bebas daripada penyakit berjangkit ini.42 Penekanan diberikan dalam pemerhatian dan pengawasan kontak atau sentuhan bagi mengelakkan pesakit menjangkiti orang lain. Apabila melibatkan jangkitan penyakit, bukan sahaja kepada manusia, malah meliputi mayat,43 tempat,44 kenderaan45 dan benda46 turut berada dalam kategori pencegahan dan pengawalan yang perlu diambil tindakan dan pemantauan yang sama. Aktiviti pengawasan dan pemantauan dilaksanakan pada setiap peringkat sebagai rutin pengawasan dan pemantauan dengan penyeliaan KKM. Sejauh mana tahap pengawasan yang dilakukan terhadap kemunculan penyakit berjangkit bergantung pada jenis penyakit berjangkit. Sebagaimana yang telah dikenal pasti terlebih dahulu, setiap kemunculan penyakit berjangkit yang telah dikenal pasti akan diletakkan dalam pengawasan pihak berkuasa kesihatan yang terlibat di bawah KKM. Bagi memastikan pengawasan yang berkesan dan selamat terhadap kemunculan virus penyebab penyakit berjangkit, sistem pengawasan makmal diwujudkan untuk memantau penularan agen penyakit berjangkit dan mengenal pasti tahap keaktifannya pada peringkat awal kemunculannya. Sistem pengawasan makmal diperkenalkan pada Ogos, 2002 sebagai pelengkap kepada sistem pengawasan penyakit berjangkit yang tersenarai di bawah APPPB. Terdapat enam jenis bakteria yang diberikan keutamaan dalam sistem pemantauan pengawasan makmal di Malaysia di bawah pengurusan makmal KKM, iaitu V.cholerae, H. influenzae B, Salmonella spp, S typhi /parathypi dan N. meningitides. Bakteria ini merupakan antara 39 Seksyen 14 Akta Pencegahan dan Pengawalan Penyakit Berjangkit 1988 (Akta 342)40 “Pengasingan” apabila dipakai oleh seseorang atau sekumpulan orang ertinya memisahkan orang itu atau kumpulan itu daripada orang-orang lain kecuali kakitangan yang bertanggungjawab atas penjagaan atau pengasingan orang-orang tersebut, mengkikut apa-'"
      ]
     },
     "execution_count": 17,
     "metadata": {},
     "output_type": "execute_result"
    }
   ],
   "source": [
    "tokenizer.decode(r)"
   ]
  },
  {
   "cell_type": "code",
   "execution_count": 18,
   "id": "dd93d7c6",
   "metadata": {},
   "outputs": [
    {
     "data": {
      "text/plain": [
       "array([151643,     17,     23, ...,  88994,  60593,     12], dtype=uint32)"
      ]
     },
     "execution_count": 18,
     "metadata": {},
     "output_type": "execute_result"
    }
   ],
   "source": [
    "r"
   ]
  },
  {
   "cell_type": "code",
   "execution_count": 19,
   "id": "2a0205ab",
   "metadata": {},
   "outputs": [
    {
     "name": "stderr",
     "output_type": "stream",
     "text": [
      "huggingface/tokenizers: The current process just got forked, after parallelism has already been used. Disabling parallelism to avoid deadlocks...\n",
      "To disable this warning, you can either:\n",
      "\t- Avoid using `tokenizers` before the fork if possible\n",
      "\t- Explicitly set the environment variable TOKENIZERS_PARALLELISM=(true | false)\n",
      "huggingface/tokenizers: The current process just got forked, after parallelism has already been used. Disabling parallelism to avoid deadlocks...\n",
      "To disable this warning, you can either:\n",
      "\t- Avoid using `tokenizers` before the fork if possible\n",
      "\t- Explicitly set the environment variable TOKENIZERS_PARALLELISM=(true | false)\n"
     ]
    }
   ],
   "source": [
    "!rm -rf tokenized_extra\n",
    "!mkdir tokenized_extra"
   ]
  },
  {
   "cell_type": "code",
   "execution_count": 20,
   "id": "64d7e662",
   "metadata": {},
   "outputs": [],
   "source": [
    "def loop(files):\n",
    "    files, index = files\n",
    "    out_root = f'tokenized_extra/tokenized-{index}'\n",
    "    os.system(f'rm -rf {out_root}')\n",
    "    with MDSWriter(out=out_root, columns=columns, compression=compression, hashes=hashes) as out:\n",
    "        for f in files:\n",
    "            for block in tqdm(read_dataset(train_file = f)):\n",
    "                sample = {\n",
    "                    'input_ids': block\n",
    "                }\n",
    "                out.write(sample)"
   ]
  },
  {
   "cell_type": "code",
   "execution_count": 21,
   "id": "5f4d6b59",
   "metadata": {},
   "outputs": [],
   "source": [
    "# !wget https://gist.githubusercontent.com/huseinzol05/98974ae8c6c7a65d4bc0af9f5003786a/raw/5aa5257608b61e8fcc828e99fbd070d5ca7358e3/mp.py"
   ]
  },
  {
   "cell_type": "code",
   "execution_count": 22,
   "id": "e24711db",
   "metadata": {},
   "outputs": [
    {
     "name": "stderr",
     "output_type": "stream",
     "text": [
      "huggingface/tokenizers: The current process just got forked, after parallelism has already been used. Disabling parallelism to avoid deadlocks...\n",
      "To disable this warning, you can either:\n",
      "\t- Avoid using `tokenizers` before the fork if possible\n",
      "\t- Explicitly set the environment variable TOKENIZERS_PARALLELISM=(true | false)\n",
      "huggingface/tokenizers: The current process just got forked, after parallelism has already been used. Disabling parallelism to avoid deadlocks...\n",
      "To disable this warning, you can either:\n",
      "\t- Avoid using `tokenizers` before the fork if possible\n",
      "\t- Explicitly set the environment variable TOKENIZERS_PARALLELISM=(true | false)\n",
      "huggingface/tokenizers: The current process just got forked, after parallelism has already been used. Disabling parallelism to avoid deadlocks...\n",
      "To disable this warning, you can either:\n",
      "\t- Avoid using `tokenizers` before the fork if possible\n",
      "\t- Explicitly set the environment variable TOKENIZERS_PARALLELISM=(true | false)\n",
      "huggingface/tokenizers: The current process just got forked, after parallelism has already been used. Disabling parallelism to avoid deadlocks...\n",
      "To disable this warning, you can either:\n",
      "\t- Avoid using `tokenizers` before the fork if possible\n",
      "\t- Explicitly set the environment variable TOKENIZERS_PARALLELISM=(true | false)\n",
      "huggingface/tokenizers: The current process just got forked, after parallelism has already been used. Disabling parallelism to avoid deadlocks...\n",
      "To disable this warning, you can either:\n",
      "\t- Avoid using `tokenizers` before the fork if possible\n",
      "\t- Explicitly set the environment variable TOKENIZERS_PARALLELISM=(true | false)\n",
      "huggingface/tokenizers: The current process just got forked, after parallelism has already been used. Disabling parallelism to avoid deadlocks...\n",
      "To disable this warning, you can either:\n",
      "\t- Avoid using `tokenizers` before the fork if possible\n",
      "\t- Explicitly set the environment variable TOKENIZERS_PARALLELISM=(true | false)\n",
      "huggingface/tokenizers: The current process just got forked, after parallelism has already been used. Disabling parallelism to avoid deadlocks...\n",
      "To disable this warning, you can either:\n",
      "\t- Avoid using `tokenizers` before the fork if possible\n",
      "\t- Explicitly set the environment variable TOKENIZERS_PARALLELISM=(true | false)\n",
      "huggingface/tokenizers: The current process just got forked, after parallelism has already been used. Disabling parallelism to avoid deadlocks...\n",
      "To disable this warning, you can either:\n",
      "\t- Avoid using `tokenizers` before the fork if possible\n",
      "\t- Explicitly set the environment variable TOKENIZERS_PARALLELISM=(true | false)\n",
      "huggingface/tokenizers: The current process just got forked, after parallelism has already been used. Disabling parallelism to avoid deadlocks...\n",
      "To disable this warning, you can either:\n",
      "\t- Avoid using `tokenizers` before the fork if possible\n",
      "\t- Explicitly set the environment variable TOKENIZERS_PARALLELISM=(true | false)\n",
      "huggingface/tokenizers: The current process just got forked, after parallelism has already been used. Disabling parallelism to avoid deadlocks...\n",
      "To disable this warning, you can either:\n",
      "\t- Avoid using `tokenizers` before the fork if possible\n",
      "\t- Explicitly set the environment variable TOKENIZERS_PARALLELISM=(true | false)\n",
      "huggingface/tokenizers: The current process just got forked, after parallelism has already been used. Disabling parallelism to avoid deadlocks...\n",
      "To disable this warning, you can either:\n",
      "\t- Avoid using `tokenizers` before the fork if possible\n",
      "\t- Explicitly set the environment variable TOKENIZERS_PARALLELISM=(true | false)\n",
      "0it [00:00, ?it/s]huggingface/tokenizers: The current process just got forked, after parallelism has already been used. Disabling parallelism to avoid deadlocks...\n",
      "To disable this warning, you can either:\n",
      "\t- Avoid using `tokenizers` before the fork if possible\n",
      "\t- Explicitly set the environment variable TOKENIZERS_PARALLELISM=(true | false)\n",
      "0it [00:00, ?it/s]huggingface/tokenizers: The current process just got forked, after parallelism has already been used. Disabling parallelism to avoid deadlocks...\n",
      "To disable this warning, you can either:\n",
      "\t- Avoid using `tokenizers` before the fork if possible\n",
      "\t- Explicitly set the environment variable TOKENIZERS_PARALLELISM=(true | false)\n",
      "huggingface/tokenizers: The current process just got forked, after parallelism has already been used. Disabling parallelism to avoid deadlocks...\n",
      "To disable this warning, you can either:\n",
      "\t- Avoid using `tokenizers` before the fork if possible\n",
      "\t- Explicitly set the environment variable TOKENIZERS_PARALLELISM=(true | false)\n",
      "0it [00:00, ?it/s]Special tokens have been added in the vocabulary, make sure the associated word embeddings are fine-tuned or trained.\n",
      "Special tokens have been added in the vocabulary, make sure the associated word embeddings are fine-tuned or trained.\n",
      "Special tokens have been added in the vocabulary, make sure the associated word embeddings are fine-tuned or trained.\n",
      "Special tokens have been added in the vocabulary, make sure the associated word embeddings are fine-tuned or trained.\n",
      "Special tokens have been added in the vocabulary, make sure the associated word embeddings are fine-tuned or trained.\n",
      "Special tokens have been added in the vocabulary, make sure the associated word embeddings are fine-tuned or trained.\n",
      "Special tokens have been added in the vocabulary, make sure the associated word embeddings are fine-tuned or trained.\n",
      "1it [00:00,  2.82it/s]Special tokens have been added in the vocabulary, make sure the associated word embeddings are fine-tuned or trained.\n",
      "Special tokens have been added in the vocabulary, make sure the associated word embeddings are fine-tuned or trained.\n",
      "Special tokens have been added in the vocabulary, make sure the associated word embeddings are fine-tuned or trained.\n",
      "Special tokens have been added in the vocabulary, make sure the associated word embeddings are fine-tuned or trained.\n",
      "Special tokens have been added in the vocabulary, make sure the associated word embeddings are fine-tuned or trained.\n",
      "Special tokens have been added in the vocabulary, make sure the associated word embeddings are fine-tuned or trained.\n",
      "4620it [11:06,  6.93it/s]\n",
      "5384it [12:50,  6.98it/s]\n",
      "5392it [12:56,  6.94it/s]\n",
      "5383it [12:57,  6.92it/s]\n",
      "5373it [12:57,  6.91it/s]\n",
      "5398it [13:01,  6.91it/s]\n",
      "5365it [13:01,  6.86it/s]\n",
      "5376it [13:02,  6.87it/s]\n",
      "5467it [13:04,  6.97it/s]\n",
      "5429it [13:07,  6.90it/s]\n",
      "5405it [13:08,  6.86it/s]\n",
      "5823it [13:11,  7.35it/s]\n",
      "5579it [13:21,  6.96it/s]\n"
     ]
    }
   ],
   "source": [
    "import mp\n",
    "mp.multiprocessing(files, loop, cores = min(len(files), 20), returned = False)"
   ]
  },
  {
   "cell_type": "code",
   "execution_count": 23,
   "id": "97a3e824",
   "metadata": {},
   "outputs": [
    {
     "name": "stderr",
     "output_type": "stream",
     "text": [
      "/home/ubuntu/.local/lib/python3.10/site-packages/streaming/base/dataset.py:397: UserWarning: Because `predownload` was not specified, it will default to 8*batch_size if batch_size is not None, otherwise 64. Prior to Streaming v0.7.0, `predownload` defaulted to max(batch_size, 256 * batch_size // num_canonical_nodes).\n",
      "  warnings.warn(f'Because `predownload` was not specified, it will default to ' +\n"
     ]
    }
   ],
   "source": [
    "from streaming import StreamingDataset\n",
    "\n",
    "dataset = StreamingDataset(local = 'tokenized_extra/tokenized-0')"
   ]
  },
  {
   "cell_type": "code",
   "execution_count": 24,
   "id": "7551c675",
   "metadata": {},
   "outputs": [
    {
     "data": {
      "text/plain": [
       "{'input_ids': array([151643,     17,     23, ...,  88994,  60593,     12], dtype=uint32)}"
      ]
     },
     "execution_count": 24,
     "metadata": {},
     "output_type": "execute_result"
    }
   ],
   "source": [
    "dataset[0]"
   ]
  },
  {
   "cell_type": "code",
   "execution_count": null,
   "id": "8242ccaa",
   "metadata": {},
   "outputs": [],
   "source": []
  }
 ],
 "metadata": {
  "kernelspec": {
   "display_name": "Python 3 (ipykernel)",
   "language": "python",
   "name": "python3"
  },
  "language_info": {
   "codemirror_mode": {
    "name": "ipython",
    "version": 3
   },
   "file_extension": ".py",
   "mimetype": "text/x-python",
   "name": "python",
   "nbconvert_exporter": "python",
   "pygments_lexer": "ipython3",
   "version": "3.10.12"
  }
 },
 "nbformat": 4,
 "nbformat_minor": 5
}
