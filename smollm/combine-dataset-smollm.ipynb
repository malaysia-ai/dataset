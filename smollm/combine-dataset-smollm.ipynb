{
 "cells": [
  {
   "cell_type": "code",
   "execution_count": 1,
   "id": "2ede1eea",
   "metadata": {},
   "outputs": [],
   "source": [
    "# !pip3 install hf-transfer -U"
   ]
  },
  {
   "cell_type": "code",
   "execution_count": 2,
   "id": "6d3070b4",
   "metadata": {},
   "outputs": [],
   "source": [
    "import os\n",
    "\n",
    "os.environ[\"HF_HUB_ENABLE_HF_TRANSFER\"] = \"1\""
   ]
  },
  {
   "cell_type": "code",
   "execution_count": 3,
   "id": "b255370c",
   "metadata": {},
   "outputs": [],
   "source": [
    "import huggingface_hub\n",
    "import json\n",
    "import os\n",
    "from glob import glob\n",
    "from tqdm import tqdm"
   ]
  },
  {
   "cell_type": "code",
   "execution_count": 4,
   "id": "e50004f2",
   "metadata": {},
   "outputs": [],
   "source": [
    "from huggingface_hub import snapshot_download\n",
    "\n",
    "folder = snapshot_download(repo_id=\"malaysia-ai/pretrain-text-dataset\", repo_type = 'dataset')"
   ]
  },
  {
   "cell_type": "code",
   "execution_count": 5,
   "id": "b94096ef",
   "metadata": {},
   "outputs": [
    {
     "data": {
      "text/plain": [
       "313"
      ]
     },
     "execution_count": 5,
     "metadata": {},
     "output_type": "execute_result"
    }
   ],
   "source": [
    "files = glob(os.path.join(folder, '*'))\n",
    "len(files)"
   ]
  },
  {
   "cell_type": "code",
   "execution_count": 6,
   "id": "05f4e29d",
   "metadata": {},
   "outputs": [],
   "source": [
    "from huggingface_hub import hf_hub_download\n",
    "\n",
    "fineweb = hf_hub_download(\n",
    "    repo_id=\"mesolitica/smollm-corpus-filter-malaysian-context\", \n",
    "    filename=\"fineweb-edu-dedup.jsonl\",\n",
    "    repo_type = 'dataset'\n",
    ")"
   ]
  },
  {
   "cell_type": "code",
   "execution_count": 7,
   "id": "b26f0249",
   "metadata": {},
   "outputs": [],
   "source": [
    "social_media = [\n",
    "    'iium-confession.jsonl',\n",
    "    'b.cari.com.my.jsonl',\n",
    "    'semisupervised-whisper-large-v2.jsonl',\n",
    "    'lowyat.jsonl',\n",
    "    'malay-tweets.jsonl',\n",
    "    'c.cari.com.my.jsonl',\n",
    "    'cn.cari.com.my.jsonl',\n",
    "    'carigold.jsonl'\n",
    "]\n",
    "common_crawl = [\n",
    "    'common-crawl.jsonl',\n",
    "    'NLLB.jsonl',\n",
    "]\n",
    "\n",
    "rejected = social_media + common_crawl + [\n",
    "    'pdfdrive.jsonl',\n",
    "    'seehua.jsonl',\n",
    "    'hardwarezone-sg.jsonl',\n",
    "    'sinchew.com.my.jsonl',\n",
    "    'orientaldaily.com.my.jsonl',\n",
    "    'wikipedia-20230901.en.filtered.jsonl',\n",
    "    'cc-100',\n",
    "    'semisupervised-whisper-large-v2.jsonl',\n",
    "    'c4-filtered',\n",
    "    'the-pile',\n",
    "    'c.cari.com.my',\n",
    "    'sft-translation.jsonl',\n",
    "    'README.md',\n",
    "    'fineweb-edu-dedup-sample-5M.jsonl',\n",
    "]\n",
    "\n",
    "online_articles = [x for x in files if all([r not in x for r in rejected])]"
   ]
  },
  {
   "cell_type": "code",
   "execution_count": 8,
   "id": "f9927f6e",
   "metadata": {},
   "outputs": [],
   "source": [
    "selected = online_articles + [fineweb]"
   ]
  },
  {
   "cell_type": "code",
   "execution_count": 9,
   "id": "8c40d597",
   "metadata": {},
   "outputs": [],
   "source": [
    "sizes = [(os.path.split(s)[1], os.path.getsize(s) / 1e6) for s in selected]"
   ]
  },
  {
   "cell_type": "code",
   "execution_count": 10,
   "id": "76a33237",
   "metadata": {},
   "outputs": [],
   "source": [
    "# !pip3 install transformers -U"
   ]
  },
  {
   "cell_type": "code",
   "execution_count": 15,
   "id": "7b6b638a",
   "metadata": {},
   "outputs": [],
   "source": [
    "from transformers import AutoTokenizer\n",
    "\n",
    "tokenizer = AutoTokenizer.from_pretrained('HuggingFaceTB/SmolLM-360M')"
   ]
  },
  {
   "cell_type": "code",
   "execution_count": 12,
   "id": "e4c92c89",
   "metadata": {},
   "outputs": [],
   "source": [
    "def partition(text, size = 500):\n",
    "    splitted = text.split()\n",
    "    return [' '.join(splitted[i: i + size]) for i in range(0, len(splitted), size)]\n",
    "\n",
    "rejected = [\n",
    "    'markah untuk setiap satu',\n",
    "    'soalan mesti dijawab dalam',\n",
    "    '25 markah',\n",
    "    '50 markah'\n",
    "]"
   ]
  },
  {
   "cell_type": "code",
   "execution_count": 13,
   "id": "49e60c30",
   "metadata": {},
   "outputs": [],
   "source": [
    "# !wget https://gist.githubusercontent.com/huseinzol05/98974ae8c6c7a65d4bc0af9f5003786a/raw/2e06e71ef7349a57bc58cc9913ae6bae1f9f8447/mp.py"
   ]
  },
  {
   "cell_type": "code",
   "execution_count": 14,
   "id": "58188b14",
   "metadata": {},
   "outputs": [],
   "source": [
    "from streaming import MDSWriter, LocalDataset\n",
    "import numpy as np\n",
    "from streaming.base.format.mds.encodings import Encoding, _encodings\n",
    "\n",
    "class UInt32(Encoding):\n",
    "    def encode(self, obj) -> bytes:\n",
    "        return obj.tobytes()\n",
    "\n",
    "    def decode(self, data: bytes):\n",
    "        return np.frombuffer(data, np.uint32)\n",
    "\n",
    "_encodings['uint32'] = UInt32\n",
    "\n",
    "columns = {\n",
    "    'input_ids': 'uint32',\n",
    "}\n",
    "compression = 'zstd'\n",
    "hashes = 'sha1', 'xxh64'"
   ]
  },
  {
   "cell_type": "code",
   "execution_count": 16,
   "id": "6cdb9fc7",
   "metadata": {},
   "outputs": [],
   "source": [
    "tokenizer = AutoTokenizer.from_pretrained('HuggingFaceTB/SmolLM-360M')\n",
    "tokenizer.add_bos_token = False\n",
    "tokenizer.add_eos_token = False"
   ]
  },
  {
   "cell_type": "code",
   "execution_count": 19,
   "id": "2226d4c9",
   "metadata": {},
   "outputs": [],
   "source": [
    "block_size = 4096\n",
    "\n",
    "def read_dataset(f, block_size = block_size):\n",
    "    temp = []\n",
    "    with open(f) as fopen:\n",
    "        for l in tqdm(fopen):\n",
    "            try:\n",
    "                l = json.loads(l)\n",
    "            except:\n",
    "                pass\n",
    "            try:\n",
    "                data = '<|endoftext|>' + l + '<|endoftext|>'\n",
    "\n",
    "                data_lower = data.lower()\n",
    "                if any([r in data_lower for r in rejected]):\n",
    "                    continue\n",
    "\n",
    "                partitioned = partition(data)\n",
    "                for p in partitioned:\n",
    "                    tokenized = tokenizer(p)['input_ids']\n",
    "                    temp.extend(tokenized)\n",
    "                    while len(temp) >= block_size:\n",
    "                        block = temp[:block_size]\n",
    "                        temp = temp[block_size:]\n",
    "                        if len(block) == block_size:\n",
    "                            yield np.array(block).astype(np.uint32)\n",
    "\n",
    "\n",
    "            except Exception as e:\n",
    "                pass"
   ]
  },
  {
   "cell_type": "code",
   "execution_count": 20,
   "id": "04e48a77",
   "metadata": {},
   "outputs": [
    {
     "name": "stderr",
     "output_type": "stream",
     "text": [
      "huggingface/tokenizers: The current process just got forked, after parallelism has already been used. Disabling parallelism to avoid deadlocks...\n",
      "To disable this warning, you can either:\n",
      "\t- Avoid using `tokenizers` before the fork if possible\n",
      "\t- Explicitly set the environment variable TOKENIZERS_PARALLELISM=(true | false)\n"
     ]
    }
   ],
   "source": [
    "!mkdir smollm"
   ]
  },
  {
   "cell_type": "code",
   "execution_count": 21,
   "id": "75d55f82",
   "metadata": {},
   "outputs": [],
   "source": [
    "def loop(files):\n",
    "    files, index = files\n",
    "    out_root = f'smollm/tokenized-{index}'\n",
    "    os.system(f'rm -rf {out_root}')\n",
    "    with MDSWriter(out=out_root, columns=columns, compression=None, hashes=hashes) as out:\n",
    "        for f in files:\n",
    "            for block in read_dataset(f = f):\n",
    "                sample = {\n",
    "                    'input_ids': block\n",
    "                }\n",
    "                out.write(sample)"
   ]
  },
  {
   "cell_type": "code",
   "execution_count": 22,
   "id": "aa47a377",
   "metadata": {
    "scrolled": false
   },
   "outputs": [],
   "source": [
    "# loop((files[:1], 0))"
   ]
  },
  {
   "cell_type": "code",
   "execution_count": 23,
   "id": "b1bf9c80",
   "metadata": {},
   "outputs": [
    {
     "name": "stderr",
     "output_type": "stream",
     "text": [
      "huggingface/tokenizers: The current process just got forked, after parallelism has already been used. Disabling parallelism to avoid deadlocks...\n",
      "To disable this warning, you can either:\n",
      "\t- Avoid using `tokenizers` before the fork if possible\n",
      "\t- Explicitly set the environment variable TOKENIZERS_PARALLELISM=(true | false)\n",
      "huggingface/tokenizers: The current process just got forked, after parallelism has already been used. Disabling parallelism to avoid deadlocks...\n",
      "To disable this warning, you can either:\n",
      "\t- Avoid using `tokenizers` before the fork if possible\n",
      "\t- Explicitly set the environment variable TOKENIZERS_PARALLELISM=(true | false)\n",
      "huggingface/tokenizers: The current process just got forked, after parallelism has already been used. Disabling parallelism to avoid deadlocks...\n",
      "To disable this warning, you can either:\n",
      "\t- Avoid using `tokenizers` before the fork if possible\n",
      "\t- Explicitly set the environment variable TOKENIZERS_PARALLELISM=(true | false)\n",
      "69it [00:00, 667.63it/s]s]huggingface/tokenizers: The current process just got forked, after parallelism has already been used. Disabling parallelism to avoid deadlocks...\n",
      "To disable this warning, you can either:\n",
      "\t- Avoid using `tokenizers` before the fork if possible\n",
      "\t- Explicitly set the environment variable TOKENIZERS_PARALLELISM=(true | false)\n",
      "2877it [00:06, 446.19it/s]s]\n",
      "947it [00:02, 319.88it/s]]s]\n",
      "391it [00:00, 415.10it/s]/s]\n",
      "24411it [00:38, 641.34it/s]s]\n",
      "27178it [00:38, 713.60it/s]\n",
      "3626it [00:03, 918.99it/s]]s]\n",
      "46it [00:00, 692.35it/s]/s]s]\n",
      "11076it [00:10, 1031.02it/s]]\n",
      "4577it [00:08, 533.55it/s]/s]\n",
      "1160it [00:01, 600.66it/s]/s]\n",
      "1359it [00:12, 111.37it/s]/s]\n",
      "16443it [00:18, 866.33it/s]]]\n",
      "51691it [00:43, 1189.21it/s]]\n",
      "281536it [01:38, 2845.20it/s]\n",
      "65it [00:00, 192.08it/s]s]/s]\n",
      "16120it [02:27, 109.14it/s]s]\n",
      "28it [00:00, 4216.14it/s]\n",
      "11314it [00:03, 3223.80it/s]]\n",
      "7363it [00:10, 706.89it/s]]/s]\n",
      "33730it [00:23, 1434.47it/s]s]\n",
      "24482it [00:24, 981.46it/s]/s]\n",
      "13145it [00:15, 850.07it/s]/s]\n",
      "3578it [00:03, 1129.77it/s]/s]\n",
      "5747it [00:04, 1187.58it/s]/s]\n",
      "523it [00:00, 697.44it/s]it/s]\n",
      "644it [00:00, 650.43it/s]it/s]\n",
      "722837it [03:33, 3387.22it/s]]]\n",
      "298it [00:01, 222.50it/s]s]/s]]\n",
      "233it [00:00, 532.31it/s]0it/s]\n",
      "76290it [07:37, 166.92it/s]/s]]\n",
      "9221it [00:13, 678.09it/s]it/s]\n",
      "11678it [00:19, 597.89it/s]t/s]\n",
      "5103it [00:07, 711.97it/s]t/s]]\n",
      "13321it [00:16, 803.40it/s]/s]]\n",
      "22542it [00:35, 641.78it/s]t/s]\n",
      "2140it [00:47, 44.67it/s]9it/s]\n",
      "5798716it [15:56, 6059.52it/s]s]\n",
      "10889it [10:07, 17.94it/s]7it/s]\n",
      "1138it [00:03, 349.21it/s]9it/s]\n",
      "942it [00:01, 940.87it/s]61it/s]\n",
      "70it [00:00, 706.17it/s].15it/s]\n",
      "21590it [03:52, 92.81it/s] it/s]\n",
      "838it [02:31,  5.30it/s].57it/s]IOPub message rate exceeded.\n",
      "The notebook server will temporarily stop sending output\n",
      "to the client in order to avoid crashing it.\n",
      "To change this limit, set the config variable\n",
      "`--NotebookApp.iopub_msg_rate_limit`.\n",
      "\n",
      "Current values:\n",
      "NotebookApp.iopub_msg_rate_limit=1000.0 (msgs/sec)\n",
      "NotebookApp.rate_limit_window=3.0 (secs)\n",
      "\n",
      "1473823it [17:01, 1443.07it/s]\n",
      "158it [00:08, 17.90it/s]4it/s]\n",
      "871it [00:08, 102.54it/s]it/s]\n",
      "48it [00:00, 640.30it/s]2it/s]\n",
      "10229it [00:07, 1306.46it/s]s]\n",
      "12326it [00:14, 868.31it/s]/s]\n",
      "547it [00:01, 334.59it/s]it/s]\n",
      "4307116it [13:22, 5368.80it/s]\n",
      "485089it [07:58, 879.36it/s]s]IOPub message rate exceeded.\n",
      "The notebook server will temporarily stop sending output\n",
      "to the client in order to avoid crashing it.\n",
      "To change this limit, set the config variable\n",
      "`--NotebookApp.iopub_msg_rate_limit`.\n",
      "\n",
      "Current values:\n",
      "NotebookApp.iopub_msg_rate_limit=1000.0 (msgs/sec)\n",
      "NotebookApp.rate_limit_window=3.0 (secs)\n",
      "\n",
      "14354834it [37:53, 6314.55it/s]\n",
      "373694it [06:32, 951.15it/s]s]\n",
      "1589it [00:03, 503.72it/s]t/s]\n",
      "2839348it [44:51, 1054.83it/s]\n",
      "327it [00:00, 572.13it/s]t/s]\n",
      "12it [00:00, 49.67it/s]8it/s]\n",
      "19992it [00:21, 947.42it/s]s]\n",
      "1975it [00:01, 1864.88it/s]s]\n",
      "1932it [00:03, 486.61it/s]/s]\n",
      "82470it [01:11, 1145.72it/s]]\n",
      "13202it [00:11, 1154.00it/s]]\n",
      "15257673it [38:49, 6549.80it/s]\n",
      "114it [00:00, 131.28it/s]\n",
      "12it [00:00, 121.22it/s]\n",
      "2it [00:00, 82.35it/s]\n",
      "937it [00:01, 509.58it/s]\n",
      "787it [01:34,  8.30it/s]\n",
      "3819it [00:06, 603.28it/s]\n",
      "4425it [00:03, 1378.06it/s]\n",
      "36449it [00:32, 1123.81it/s]\n",
      "300it [00:00, 722.98it/s]\n",
      "17004it [00:36, 462.48it/s]\n",
      "6204it [00:08, 715.30it/s]\n",
      "51302it [00:49, 1035.95it/s]\n",
      "8593it [00:00, 17612.83it/s]\n",
      "2240it [00:02, 807.18it/s] \n",
      "359it [00:00, 492.48it/s]\n",
      "140it [00:00, 1019.02it/s]\n",
      "68it [00:00, 1981.55it/s]\n",
      "45577it [01:56, 391.83it/s]\n"
     ]
    }
   ],
   "source": [
    "import mp\n",
    "\n",
    "mp.multiprocessing(files, loop, cores = min(len(selected), 4), returned = False)"
   ]
  },
  {
   "cell_type": "code",
   "execution_count": 24,
   "id": "8e4ade09",
   "metadata": {
    "scrolled": true
   },
   "outputs": [
    {
     "name": "stdout",
     "output_type": "stream",
     "text": [
      "188G\tsmollm\r\n"
     ]
    },
    {
     "name": "stderr",
     "output_type": "stream",
     "text": [
      "huggingface/tokenizers: The current process just got forked, after parallelism has already been used. Disabling parallelism to avoid deadlocks...\n",
      "To disable this warning, you can either:\n",
      "\t- Avoid using `tokenizers` before the fork if possible\n",
      "\t- Explicitly set the environment variable TOKENIZERS_PARALLELISM=(true | false)\n"
     ]
    }
   ],
   "source": [
    "!du -hs smollm"
   ]
  },
  {
   "cell_type": "code",
   "execution_count": 31,
   "id": "088cf03b",
   "metadata": {},
   "outputs": [
    {
     "data": {
      "text/plain": [
       "['smollm/tokenized-2',\n",
       " 'smollm/tokenized-0',\n",
       " 'smollm/tokenized-1',\n",
       " 'smollm/tokenized-3',\n",
       " 'smollm/tokenized-4']"
      ]
     },
     "execution_count": 31,
     "metadata": {},
     "output_type": "execute_result"
    }
   ],
   "source": [
    "folders = glob('smollm/*')\n",
    "folders"
   ]
  },
  {
   "cell_type": "code",
   "execution_count": 32,
   "id": "04b3f78a",
   "metadata": {},
   "outputs": [
    {
     "name": "stderr",
     "output_type": "stream",
     "text": [
      "100%|██████████| 3675929/3675929 [15:25<00:00, 3973.04it/s]\n",
      "100%|██████████| 2125123/2125123 [08:51<00:00, 3999.32it/s]\n",
      "100%|██████████| 1915066/1915066 [08:02<00:00, 3972.20it/s]\n",
      "100%|██████████| 4535496/4535496 [19:01<00:00, 3971.74it/s] \n",
      "100%|██████████| 16/16 [00:00<00:00, 4428.17it/s]\n"
     ]
    }
   ],
   "source": [
    "folders = glob('smollm/*')\n",
    "\n",
    "with MDSWriter(out='combine-smollm', columns=columns, compression=None, hashes=hashes) as out:\n",
    "    for f in folders:\n",
    "        try:\n",
    "            dataset = LocalDataset(local=f)\n",
    "            for i in tqdm(range(len(dataset))):\n",
    "                out.write(dataset[i])\n",
    "        except Exception as e:\n",
    "            print(e)\n",
    "            pass"
   ]
  },
  {
   "cell_type": "code",
   "execution_count": 34,
   "id": "71154e47",
   "metadata": {},
   "outputs": [
    {
     "name": "stdout",
     "output_type": "stream",
     "text": [
      "188G\tcombine-smollm\r\n"
     ]
    },
    {
     "name": "stderr",
     "output_type": "stream",
     "text": [
      "huggingface/tokenizers: The current process just got forked, after parallelism has already been used. Disabling parallelism to avoid deadlocks...\n",
      "To disable this warning, you can either:\n",
      "\t- Avoid using `tokenizers` before the fork if possible\n",
      "\t- Explicitly set the environment variable TOKENIZERS_PARALLELISM=(true | false)\n"
     ]
    }
   ],
   "source": [
    "!du -hs combine-smollm"
   ]
  },
  {
   "cell_type": "code",
   "execution_count": 35,
   "id": "8bf725b6",
   "metadata": {},
   "outputs": [
    {
     "name": "stderr",
     "output_type": "stream",
     "text": [
      "huggingface/tokenizers: The current process just got forked, after parallelism has already been used. Disabling parallelism to avoid deadlocks...\n",
      "To disable this warning, you can either:\n",
      "\t- Avoid using `tokenizers` before the fork if possible\n",
      "\t- Explicitly set the environment variable TOKENIZERS_PARALLELISM=(true | false)\n"
     ]
    }
   ],
   "source": [
    "!rm -rf smollm"
   ]
  },
  {
   "cell_type": "code",
   "execution_count": 36,
   "id": "5c68062c",
   "metadata": {},
   "outputs": [
    {
     "name": "stdout",
     "output_type": "stream",
     "text": [
      "Filesystem      Size  Used Avail Use% Mounted on\r\n",
      "overlay         100G   21G   80G  21% /\r\n",
      "tmpfs            64M     0   64M   0% /dev\r\n",
      "tmpfs           7.7G     0  7.7G   0% /sys/fs/cgroup\r\n",
      "/dev/nvme1n1    688G  345G  343G  51% /home/ubuntu\r\n",
      "/dev/nvme0n1p1  100G   21G   80G  21% /etc/hosts\r\n",
      "shm              64M  4.0K   64M   1% /dev/shm\r\n",
      "tmpfs            15G   12K   15G   1% /run/secrets/kubernetes.io/serviceaccount\r\n",
      "tmpfs           7.7G     0  7.7G   0% /proc/acpi\r\n",
      "tmpfs           7.7G     0  7.7G   0% /sys/firmware\r\n"
     ]
    },
    {
     "name": "stderr",
     "output_type": "stream",
     "text": [
      "huggingface/tokenizers: The current process just got forked, after parallelism has already been used. Disabling parallelism to avoid deadlocks...\n",
      "To disable this warning, you can either:\n",
      "\t- Avoid using `tokenizers` before the fork if possible\n",
      "\t- Explicitly set the environment variable TOKENIZERS_PARALLELISM=(true | false)\n"
     ]
    }
   ],
   "source": [
    "!df -h"
   ]
  },
  {
   "cell_type": "code",
   "execution_count": 43,
   "id": "544f904b",
   "metadata": {},
   "outputs": [],
   "source": [
    "from huggingface_hub import HfApi\n",
    "api = HfApi()\n",
    "\n",
    "api.upload_folder(\n",
    "    folder_path=\"combine-smollm\",\n",
    "    repo_id=\"huseinzol05/smollm-4096-2024-08-31\",\n",
    "    repo_type=\"dataset\",\n",
    ")"
   ]
  },
  {
   "cell_type": "code",
   "execution_count": null,
   "id": "144ad8c2",
   "metadata": {},
   "outputs": [],
   "source": []
  }
 ],
 "metadata": {
  "kernelspec": {
   "display_name": "Python 3 (ipykernel)",
   "language": "python",
   "name": "python3"
  },
  "language_info": {
   "codemirror_mode": {
    "name": "ipython",
    "version": 3
   },
   "file_extension": ".py",
   "mimetype": "text/x-python",
   "name": "python",
   "nbconvert_exporter": "python",
   "pygments_lexer": "ipython3",
   "version": "3.10.12"
  }
 },
 "nbformat": 4,
 "nbformat_minor": 5
}
