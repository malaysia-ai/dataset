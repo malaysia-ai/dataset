{
 "cells": [
  {
   "cell_type": "code",
   "execution_count": 1,
   "id": "7b279d0b",
   "metadata": {},
   "outputs": [],
   "source": [
    "# !wget https://huggingface.co/datasets/syafie-nzm/crawl-jurnaldbp/resolve/main/jurnaldbp.jsonl\n",
    "# !wget https://huggingface.co/datasets/mesolitica/crawl-my-website/resolve/main/melayu-pdf.jsonl\n",
    "# !wget https://huggingface.co/datasets/mesolitica/crawl-my-website/resolve/main/crossref-pdf.jsonl"
   ]
  },
  {
   "cell_type": "code",
   "execution_count": 2,
   "id": "413bca43",
   "metadata": {},
   "outputs": [],
   "source": [
    "from glob import glob\n",
    "from tqdm import tqdm\n",
    "import json\n",
    "import os\n",
    "import numpy as np\n",
    "from transformers import AutoTokenizer\n",
    "from streaming import MDSWriter\n",
    "from tqdm import tqdm\n",
    "import msgspec\n",
    "import json\n",
    "import re\n",
    "\n",
    "http_errors = [\n",
    "        \"400 Bad Request\", \"401 Unauthorized\", \"402 Payment Required\", \"403 Forbidden\", \"404 Not Found\",\n",
    "        \"405 Method Not Allowed\", \"406 Not Acceptable\", \"407 Proxy Authentication Required\", \"408 Request Timeout\",\n",
    "        \"409 Conflict\", \"410 Gone\", \"411 Length Required\", \"412 Precondition Failed\", \"413 Payload Too Large\",\n",
    "        \"414 URI Too Long\", \"415 Unsupported Media Type\", \"416 Range Not Satisfiable\", \"417 Expectation Failed\",\n",
    "        \"418 I'm a teapot\", \"421 Misdirected Request\", \"422 Unprocessable Entity\", \"423 Locked\", \"424 Failed Dependency\",\n",
    "        \"425 Too Early\", \"426 Upgrade Required\", \"428 Precondition Required\", \"429 Too Many Requests\",\n",
    "        \"431 Request Header Fields Too Large\", \"451 Unavailable For Legal Reasons\", \"500 Internal Server Error\",\n",
    "        \"501 Not Implemented\", \"502 Bad Gateway\", \"503 Service Unavailable\", \"504 Gateway Timeout\",\n",
    "        \"505 HTTP Version Not Supported\", \"506 Variant Also Negotiates\", \"507 Insufficient Storage\",\n",
    "        \"508 Loop Detected\", \"510 Not Extended\", \"511 Network Authentication Required\"\n",
    "    ]\n",
    "\n",
    "rejected = [\n",
    "    'Internal Server Error',\n",
    "    '__NOEDITSECTION__',\n",
    "    'enter your username and password',\n",
    "    'forgotten your password',\n",
    "    'cookies enabled',\n",
    "    'enable JavaScript in your browser.',\n",
    "    'The page cannot be displayed',\n",
    "    'site or edit the error_page',\n",
    "    'Request unsuccessful',\n",
    "]\n",
    "\n",
    "rejected.extend(http_errors)\n",
    "\n",
    "def replace_multiple(input_string, pattern =r\"\\s{6,}\", replace = '   '):\n",
    "    return re.sub(pattern, replace, input_string)\n",
    "\n",
    "def replace(string):\n",
    "    string = replace_multiple(string.replace('…', '.'))\n",
    "    string = replace_multiple(string, pattern = r\"\\.{6,}\", replace = '...')\n",
    "    return string\n",
    "\n",
    "def reject(string):\n",
    "    if any([r in string for r in rejected]):\n",
    "        return True\n",
    "    return False"
   ]
  },
  {
   "cell_type": "code",
   "execution_count": 3,
   "id": "d2435276",
   "metadata": {},
   "outputs": [],
   "source": [
    "files = [\n",
    "    'jurnaldbp.jsonl',\n",
    "    'melayu-pdf.jsonl',\n",
    "]"
   ]
  },
  {
   "cell_type": "code",
   "execution_count": 4,
   "id": "b23f74eb",
   "metadata": {},
   "outputs": [],
   "source": [
    "def partition(text, size = 500):\n",
    "    splitted = text.split()\n",
    "    return [' '.join(splitted[i: i + size]) for i in range(0, len(splitted), size)]"
   ]
  },
  {
   "cell_type": "code",
   "execution_count": 5,
   "id": "2667ab7f",
   "metadata": {},
   "outputs": [],
   "source": [
    "tokenizer = AutoTokenizer.from_pretrained('upstage/SOLAR-10.7B-v1.0')"
   ]
  },
  {
   "cell_type": "code",
   "execution_count": 7,
   "id": "2058c40d",
   "metadata": {},
   "outputs": [],
   "source": [
    "a = open('combine-lm.jsonl', 'w')"
   ]
  },
  {
   "cell_type": "code",
   "execution_count": 8,
   "id": "c0b18e77",
   "metadata": {},
   "outputs": [
    {
     "name": "stderr",
     "output_type": "stream",
     "text": [
      "930it [00:02, 317.00it/s]\n",
      "1506it [00:10, 140.25it/s]\n"
     ]
    }
   ],
   "source": [
    "for f in files:\n",
    "    with open(f, encoding = \"ISO-8859-1\") as fopen:\n",
    "        for l in tqdm(fopen):\n",
    "            try:\n",
    "                l = msgspec.json.decode(l)\n",
    "                if reject(l):\n",
    "                    continue\n",
    "\n",
    "                l = replace(l.strip())\n",
    "                if len(l) < 3:\n",
    "                    continue\n",
    "\n",
    "                data = '<s>' + l + '</s>'\n",
    "                partitioned = partition(data)\n",
    "                for p in partitioned:\n",
    "                    data = {\n",
    "                        'text': p,\n",
    "                    }\n",
    "                    a.write(f'{json.dumps(data)}\\n')\n",
    "                    a.flush()\n",
    "            except Exception as e:\n",
    "                print(e)\n",
    "                pass"
   ]
  },
  {
   "cell_type": "code",
   "execution_count": 9,
   "id": "3d994804",
   "metadata": {},
   "outputs": [
    {
     "data": {
      "text/plain": [
       "274"
      ]
     },
     "execution_count": 9,
     "metadata": {},
     "output_type": "execute_result"
    }
   ],
   "source": [
    "files = glob('/home/ubuntu/dedup-text-dataset/*.jsonl')\n",
    "len(files)"
   ]
  },
  {
   "cell_type": "code",
   "execution_count": 11,
   "id": "e0d69fa0",
   "metadata": {},
   "outputs": [],
   "source": [
    "wiki = [\n",
    "    'wikipedia-2023-10-01.jsonl',\n",
    "    'wikipedia-jawi.jsonl',\n",
    "]\n",
    "language_related = [\n",
    "    'dictionary.jsonl',\n",
    "    'dewanbahasa-jdbp.jsonl',\n",
    "    'dialect.jsonl',\n",
    "    'kamusbm.jsonl',\n",
    "]\n",
    "gov_related = [\n",
    "    'hansard.jsonl',\n",
    "    'lom.agc.gov.my.jsonl',\n",
    "    'parlimen-gov.jsonl',\n",
    "    'data.gov.my.jsonl',\n",
    "    'mufti_wilayah_articles.jsonl',\n",
    "    'e-khutbah.jsonl',\n",
    "    'mufti_negeri_sem_artikel.jsonl',\n",
    "    'mufti_perlis_artikel.jsonl',\n",
    "    'mufti_negeri_sem_artikel.jsonl',\n",
    "    'gov.my.jsonl',\n",
    "    'edu.my.jsonl',\n",
    "]\n",
    "research_papers = [\n",
    "    'academia-edu.jsonl',\n",
    "    'eprints.jsonl',\n",
    "]\n",
    "social_media = [\n",
    "    'iium-confession.jsonl',\n",
    "    'b.cari.com.my.jsonl',\n",
    "    'semisupervised-whisper-large-v2.jsonl',\n",
    "    'lowyat.jsonl',\n",
    "    'malay-tweets.jsonl',\n",
    "    'c.cari.com.my.jsonl',\n",
    "    'cn.cari.com.my.jsonl',\n",
    "    'carigold.jsonl'\n",
    "]\n",
    "common_crawl = [\n",
    "    'common-crawl.jsonl',\n",
    "    'NLLB.jsonl',\n",
    "]\n",
    "buku_teks = [\n",
    "    'buku-teks.jsonl',\n",
    "    'bumigemilang.com.jsonl',\n",
    "    'tcer.my.jsonl',\n",
    "    'mysoalan.com.jsonl'\n",
    "]"
   ]
  },
  {
   "cell_type": "code",
   "execution_count": 12,
   "id": "e44fe3ce",
   "metadata": {},
   "outputs": [],
   "source": [
    "combine = set(wiki) | set(language_related) | set(gov_related) | set(research_papers) | set(common_crawl) | set(buku_teks)"
   ]
  },
  {
   "cell_type": "code",
   "execution_count": 13,
   "id": "4b118669",
   "metadata": {},
   "outputs": [],
   "source": [
    "combine = {os.path.join('/home/ubuntu/dedup-text-dataset', f) for f in combine}"
   ]
  },
  {
   "cell_type": "code",
   "execution_count": 14,
   "id": "2467abed",
   "metadata": {},
   "outputs": [
    {
     "data": {
      "text/plain": [
       "250"
      ]
     },
     "execution_count": 14,
     "metadata": {},
     "output_type": "execute_result"
    }
   ],
   "source": [
    "online_articles = sorted(list(set(files) - combine))\n",
    "len(online_articles)"
   ]
  },
  {
   "cell_type": "code",
   "execution_count": 15,
   "id": "f1c555e3",
   "metadata": {},
   "outputs": [],
   "source": [
    "rejected = social_media + common_crawl + [\n",
    "    'pdfdrive.jsonl',\n",
    "    'seehua.jsonl',\n",
    "    'hardwarezone-sg.jsonl',\n",
    "    'sinchew.com.my.jsonl',\n",
    "    'orientaldaily.com.my.jsonl'\n",
    "]"
   ]
  },
  {
   "cell_type": "code",
   "execution_count": 16,
   "id": "b741ba25",
   "metadata": {},
   "outputs": [],
   "source": [
    "online_articles = [x for x in online_articles if 'c4-filtered' not in x and 'the-pile' not in x and 'c.cari.com.my' not in x]"
   ]
  },
  {
   "cell_type": "code",
   "execution_count": 17,
   "id": "01870474",
   "metadata": {},
   "outputs": [
    {
     "data": {
      "text/plain": [
       "235"
      ]
     },
     "execution_count": 17,
     "metadata": {},
     "output_type": "execute_result"
    }
   ],
   "source": [
    "online_articles = [x for x in online_articles if all([r not in x for r in rejected])]\n",
    "len(online_articles)"
   ]
  },
  {
   "cell_type": "code",
   "execution_count": 18,
   "id": "9bc16fba",
   "metadata": {},
   "outputs": [
    {
     "name": "stderr",
     "output_type": "stream",
     "text": [
      "438316it [00:12, 35416.45it/s]\n",
      "722837it [00:18, 39232.31it/s]\n"
     ]
    }
   ],
   "source": [
    "for f in wiki:\n",
    "    f = os.path.join('/home/ubuntu/dedup-text-dataset', f)\n",
    "    with open(f) as fopen:\n",
    "        for l in tqdm(fopen):\n",
    "            try:\n",
    "                \n",
    "                data = '<s>' + json.loads(l) + '</s>'\n",
    "                partitioned = partition(data)\n",
    "                for p in partitioned:\n",
    "                    data = {\n",
    "                        'text': p,\n",
    "                    }\n",
    "                    a.write(f'{json.dumps(data)}\\n')\n",
    "                    a.flush()\n",
    "            except:\n",
    "                pass"
   ]
  },
  {
   "cell_type": "code",
   "execution_count": 19,
   "id": "25f71974",
   "metadata": {},
   "outputs": [
    {
     "name": "stderr",
     "output_type": "stream",
     "text": [
      "54712it [00:05, 10045.04it/s]\n",
      "4577it [00:00, 12655.12it/s]\n",
      "66it [00:00, 52112.96it/s]\n",
      "34192it [00:01, 29373.62it/s]\n"
     ]
    }
   ],
   "source": [
    "for f in language_related:\n",
    "    f = os.path.join('/home/ubuntu/dedup-text-dataset', f)\n",
    "    with open(f) as fopen:\n",
    "        for l in tqdm(fopen):\n",
    "            try:\n",
    "                data = '<s>' + json.loads(l) + '</s>'\n",
    "                partitioned = partition(data)\n",
    "                for p in partitioned:\n",
    "                    data = {\n",
    "                        'text': p,\n",
    "                    }\n",
    "                    a.write(f'{json.dumps(data)}\\n')\n",
    "                    a.flush()\n",
    "            except:\n",
    "                pass"
   ]
  },
  {
   "cell_type": "code",
   "execution_count": 20,
   "id": "27d25c4d",
   "metadata": {},
   "outputs": [
    {
     "name": "stderr",
     "output_type": "stream",
     "text": [
      "183it [00:00, 277.55it/s]\n",
      "16120it [00:09, 1652.72it/s]\n",
      "3625it [00:00, 5755.95it/s]\n",
      "900it [00:00, 4812.70it/s]\n"
     ]
    }
   ],
   "source": [
    "for f in buku_teks:\n",
    "    f = os.path.join('/home/ubuntu/dedup-text-dataset', f)\n",
    "    with open(f) as fopen:\n",
    "        for l in tqdm(fopen):\n",
    "            try:\n",
    "                data = '<s>' + json.loads(l) + '</s>'\n",
    "                partitioned = partition(data)\n",
    "                for p in partitioned:\n",
    "                    data = {\n",
    "                        'text': p,\n",
    "                    }\n",
    "                    a.write(f'{json.dumps(data)}\\n')\n",
    "                    a.flush()\n",
    "            except:\n",
    "                pass\n"
   ]
  },
  {
   "cell_type": "code",
   "execution_count": 21,
   "id": "0dae9952",
   "metadata": {},
   "outputs": [
    {
     "name": "stderr",
     "output_type": "stream",
     "text": [
      "140932it [00:15, 9290.93it/s] \n",
      "1359it [00:02, 538.86it/s]\n",
      "1687it [00:07, 238.33it/s]\n",
      "10889it [00:18, 586.85it/s]\n",
      "1712it [00:00, 5882.96it/s]\n",
      "809it [00:00, 3069.10it/s]\n",
      "112it [00:00, 22988.11it/s]\n",
      "144it [00:00, 19651.84it/s]\n",
      "112it [00:00, 22658.79it/s]\n",
      "30055it [00:33, 891.29it/s] \n",
      "21590it [00:21, 1000.28it/s]\n"
     ]
    }
   ],
   "source": [
    "for f in gov_related:\n",
    "    f = os.path.join('/home/ubuntu/dedup-text-dataset', f)\n",
    "    with open(f) as fopen:\n",
    "        for l in tqdm(fopen):\n",
    "            try:\n",
    "                data = '<s>' + json.loads(l) + '</s>'\n",
    "                partitioned = partition(data)\n",
    "                for p in partitioned:\n",
    "                    data = {\n",
    "                        'text': p,\n",
    "                    }\n",
    "                    a.write(f'{json.dumps(data)}\\n')\n",
    "                    a.flush()\n",
    "            except:\n",
    "                pass"
   ]
  },
  {
   "cell_type": "code",
   "execution_count": 22,
   "id": "3b1ce693",
   "metadata": {},
   "outputs": [],
   "source": [
    "rejected = [\n",
    "    'markah untuk setiap satu',\n",
    "    'soalan mesti dijawab dalam',\n",
    "    '25 markah',\n",
    "    '50 markah'\n",
    "]"
   ]
  },
  {
   "cell_type": "code",
   "execution_count": 23,
   "id": "d8907784",
   "metadata": {},
   "outputs": [
    {
     "name": "stderr",
     "output_type": "stream",
     "text": [
      "787it [00:06, 115.49it/s]\n",
      "189419it [03:07, 1008.36it/s]\n"
     ]
    }
   ],
   "source": [
    "for f in research_papers:\n",
    "    f = os.path.join('/home/ubuntu/dedup-text-dataset', f)\n",
    "    with open(f) as fopen:\n",
    "        for l in tqdm(fopen):\n",
    "            try:\n",
    "                data = '<s>' + json.loads(l) + '</s>'\n",
    "                    \n",
    "                data_lower = data.lower()\n",
    "                if any([r in data_lower for r in rejected]):\n",
    "                    continue\n",
    "                    \n",
    "                partitioned = partition(data)\n",
    "                for p in partitioned:\n",
    "                    data = {\n",
    "                        'text': p,\n",
    "                    }\n",
    "                    a.write(f'{json.dumps(data)}\\n')\n",
    "                    a.flush()\n",
    "            except:\n",
    "                pass"
   ]
  },
  {
   "cell_type": "code",
   "execution_count": 24,
   "id": "94c59038",
   "metadata": {},
   "outputs": [
    {
     "name": "stderr",
     "output_type": "stream",
     "text": [
      "14954it [00:00, 29172.37it/s]\n",
      "752it [00:00, 5758.37it/s]\n",
      "172it [00:00, 24873.13it/s]\n",
      "20763it [00:01, 17446.08it/s]\n",
      "640it [00:00, 10970.79it/s]\n",
      "74it [00:00, 3850.75it/s]\n",
      "10604it [00:00, 21896.72it/s]\n",
      "1733it [00:00, 14037.69it/s]\n",
      "33730it [00:01, 31879.12it/s]\n",
      "144it [00:00, 9951.06it/s]\n",
      "359it [00:00, 9476.42it/s]\n",
      "87it [00:00, 13378.71it/s]\n",
      "47it [00:00, 9812.95it/s]\n",
      "1263it [00:00, 6970.54it/s]\n",
      "9672it [00:00, 13420.11it/s]\n",
      "5400it [00:00, 17883.55it/s]\n",
      "4425it [00:00, 23536.55it/s]\n",
      "269it [00:00, 424.90it/s]\n",
      "3645it [00:01, 3426.56it/s]\n",
      "1589it [00:00, 9482.07it/s]\n",
      "385it [00:00, 10950.29it/s]\n",
      "17004it [00:08, 2123.16it/s]\n",
      "176it [00:00, 6920.26it/s]\n",
      "233it [00:00, 10569.23it/s]\n",
      "48it [00:00, 9486.25it/s]\n",
      "1427it [00:00, 8055.66it/s]\n",
      "341it [00:00, 4279.33it/s]\n",
      "1546it [00:01, 1528.89it/s]\n",
      "46it [00:00, 13109.87it/s]\n",
      "140it [00:00, 15868.20it/s]\n",
      "11678it [00:01, 10213.22it/s]\n",
      "12326it [00:01, 6540.96it/s] \n",
      "24482it [00:02, 8486.05it/s] \n",
      "947it [00:00, 6098.52it/s]\n",
      "39678991it [07:37, 86708.19it/s] \n",
      "512it [00:00, 12086.99it/s]\n",
      "800it [00:00, 32345.05it/s]\n",
      "3506it [00:00, 9465.26it/s]\n",
      "1459it [00:00, 11288.99it/s]\n",
      "6285it [00:00, 17561.06it/s]\n",
      "53158it [00:01, 28255.65it/s]\n",
      "95it [00:00, 2913.41it/s]\n",
      "788it [00:00, 12575.52it/s]\n",
      "24411it [00:02, 10534.96it/s]\n",
      "158it [00:00, 455.99it/s]\n",
      "1932it [00:00, 11114.98it/s]\n",
      "151it [00:00, 8132.04it/s]\n",
      "12000it [00:00, 64054.82it/s]\n",
      "37it [00:00, 9858.29it/s]\n",
      "10229it [00:00, 25244.07it/s]\n",
      "191248it [00:01, 114172.99it/s]\n",
      "6976it [00:01, 4456.13it/s]\n",
      "1160it [00:00, 12459.20it/s]\n",
      "1132it [00:00, 1203.29it/s]\n",
      "937it [00:00, 11964.10it/s]\n",
      "8457it [00:00, 19780.85it/s]\n",
      "16169it [00:01, 14297.14it/s]\n",
      "12914it [00:00, 12980.02it/s]\n",
      "1647it [00:00, 30089.68it/s]\n",
      "12it [00:00, 2796.82it/s]\n",
      "19992it [00:01, 15841.20it/s]\n",
      "56661it [00:03, 18477.43it/s]\n",
      "5747it [00:00, 19799.01it/s]\n",
      "7072it [00:07, 986.72it/s] \n",
      "1252it [00:05, 236.31it/s]\n",
      "45326it [00:02, 17050.43it/s]\n",
      "3888it [00:00, 50101.86it/s]\n",
      "223it [00:00, 9886.16it/s]\n",
      "36468it [00:05, 6722.37it/s]\n",
      "6848it [00:00, 14562.12it/s]\n",
      "139it [00:00, 16189.73it/s]\n",
      "13145it [00:00, 14038.61it/s]\n",
      "13it [00:00, 5741.99it/s]\n",
      "42it [00:00, 18430.71it/s]\n",
      "3370it [00:00, 10642.22it/s]\n",
      "27178it [00:01, 17130.42it/s]\n",
      "8447it [00:00, 10392.31it/s]\n",
      "473it [00:00, 18261.79it/s]\n",
      "3502it [00:00, 6629.45it/s]\n",
      "70it [00:00, 18063.32it/s]\n",
      "1216it [00:00, 6899.00it/s]\n",
      "11076it [00:00, 22617.65it/s]\n",
      "391it [00:00, 10273.65it/s]\n",
      "22581it [00:01, 20334.74it/s]\n",
      "65it [00:00, 4290.68it/s]\n",
      "791574it [00:12, 65947.98it/s]\n",
      "8200it [00:00, 21468.49it/s]\n",
      "1938it [00:00, 22834.06it/s]\n",
      "8732it [00:00, 16190.57it/s]\n",
      "16443it [00:01, 14833.90it/s]\n",
      "58it [00:00, 9742.87it/s]\n",
      "100it [00:00, 8941.93it/s]\n",
      "2530it [00:00, 9304.45it/s]\n",
      "13105it [00:00, 16387.71it/s]\n",
      "7226it [00:00, 21582.54it/s]\n",
      "18860it [00:01, 16494.44it/s]\n",
      "11236it [00:00, 19360.96it/s]\n",
      "5103it [00:00, 11737.52it/s]\n",
      "51691it [00:05, 9733.57it/s] \n",
      "532it [00:04, 131.49it/s]\n",
      "4921it [00:00, 15448.54it/s]\n",
      "3948it [00:00, 10389.50it/s]\n",
      "28986it [00:05, 5175.13it/s] \n",
      "1627it [00:00, 39494.02it/s]\n",
      "6751it [00:00, 11668.04it/s]\n",
      "638it [00:00, 11692.64it/s]\n",
      "1884790it [00:24, 78195.98it/s]\n",
      "17918it [00:00, 26472.34it/s]\n",
      "1523it [00:00, 5715.23it/s]\n",
      "3442it [00:00, 22922.82it/s]\n",
      "23826it [00:05, 4366.19it/s]\n",
      "8593it [00:00, 114788.55it/s]\n",
      "3365it [00:00, 5415.98it/s]\n",
      "10565it [00:01, 9987.68it/s]\n",
      "130494it [00:07, 17672.23it/s]\n",
      "45577it [00:04, 10753.99it/s]\n",
      "1473823it [01:03, 23209.78it/s]\n",
      "43it [00:00, 11109.71it/s]\n",
      "7106it [00:00, 17386.35it/s]\n",
      "49it [00:00, 60376.29it/s]\n",
      "40it [00:00, 15195.38it/s]\n",
      "871it [00:00, 2844.42it/s]\n",
      "16144it [00:00, 17048.14it/s]\n",
      "28201it [00:13, 2025.27it/s]\n",
      "13202it [00:00, 21914.32it/s]\n",
      "9221it [00:00, 14596.19it/s]\n",
      "572it [00:00, 19321.12it/s]\n",
      "68it [00:00, 34375.40it/s]\n",
      "13529it [00:00, 20479.37it/s]\n",
      "1006it [00:00, 7176.41it/s]\n",
      "22491it [00:00, 26031.91it/s]\n",
      "5798716it [01:34, 61661.44it/s]\n",
      "6418it [00:00, 23262.44it/s]\n",
      "523it [00:00, 15777.81it/s]\n",
      "66212it [00:04, 13393.88it/s]\n",
      "2368it [00:00, 20282.41it/s]\n",
      "17893it [00:01, 14795.23it/s]\n",
      "5561it [00:00, 13062.42it/s]\n",
      "4702it [00:00, 13577.08it/s]\n",
      "2839348it [03:15, 14507.21it/s]\n",
      "3664it [00:00, 16330.85it/s]\n",
      "9359it [00:00, 15430.15it/s]\n",
      "1143it [00:00, 8337.50it/s]\n",
      "32085it [00:01, 16316.79it/s]\n",
      "9865it [00:00, 23168.29it/s]\n",
      "70it [00:00, 11033.08it/s]\n",
      "3819it [00:00, 10445.68it/s]\n",
      "6641it [00:04, 1601.64it/s]\n",
      "2132it [00:00, 33152.50it/s]\n",
      "89it [00:00, 54431.77it/s]\n",
      "10483it [00:01, 7930.34it/s]\n",
      "20320it [00:01, 16303.52it/s]\n",
      "367it [00:00, 889.75it/s]\n",
      "6204it [00:00, 11159.73it/s]\n",
      "14158it [00:02, 6096.53it/s]\n",
      "1619it [00:00, 113161.21it/s]\n",
      "2877it [00:00, 7831.07it/s]\n",
      "298it [00:00, 4406.17it/s]\n",
      "240it [00:00, 5337.45it/s]\n",
      "276it [00:00, 12578.81it/s]\n",
      "153it [00:00, 8789.96it/s]\n",
      "1092497it [00:15, 69186.34it/s]\n",
      "1245it [00:00, 15201.71it/s]\n",
      "348it [00:00, 10785.70it/s]\n",
      "547it [00:00, 5673.30it/s]\n",
      "726it [00:00, 11226.42it/s]\n",
      "36449it [00:01, 21587.00it/s]\n",
      "1140it [00:00, 8633.59it/s]\n",
      "22818it [00:00, 27614.30it/s]\n",
      "42143it [00:01, 29981.72it/s]\n",
      "1138it [00:00, 8752.59it/s]\n",
      "12172it [00:00, 22059.38it/s]\n",
      "1045it [00:00, 13933.46it/s]\n",
      "230208it [00:04, 57457.45it/s]\n",
      "22542it [00:01, 12693.00it/s]\n",
      "48401it [00:01, 26443.59it/s]\n",
      "31050it [00:01, 17578.11it/s]\n",
      "2it [00:00, 1469.62it/s]\n",
      "6400it [00:00, 13451.12it/s]\n",
      "297it [00:00, 14701.75it/s]\n",
      "51302it [00:02, 19658.35it/s]\n",
      "286it [00:00, 11890.24it/s]\n",
      "3071it [00:00, 32690.66it/s]\n",
      "13101it [00:00, 22164.07it/s]\n",
      "8504it [00:00, 12869.92it/s]\n",
      "629779it [00:19, 33004.77it/s]\n",
      "209173it [00:24, 8588.50it/s] \n",
      "216it [00:00, 13838.99it/s]\n",
      "1074it [00:00, 18838.98it/s]\n",
      "1578it [00:00, 98791.15it/s]\n",
      "984it [00:00, 16261.48it/s]\n",
      "753it [00:00, 15325.51it/s]\n",
      "101it [00:00, 4878.00it/s]\n",
      "91it [00:00, 17538.10it/s]\n",
      "3578it [00:00, 22232.46it/s]\n",
      "4122it [00:00, 21091.46it/s]\n",
      "114it [00:00, 4242.08it/s]\n",
      "24it [00:00, 8770.87it/s]\n",
      "1333it [00:00, 14946.06it/s]\n",
      "64241it [00:03, 19079.65it/s]\n",
      "416it [00:00, 5034.22it/s]\n",
      "4591it [00:00, 11770.42it/s]\n",
      "300it [00:00, 11951.40it/s]\n",
      "48it [00:00, 11034.01it/s]\n",
      "25040it [00:08, 3111.44it/s] \n",
      "220it [00:00, 4161.60it/s]\n",
      "644it [00:00, 10985.21it/s]\n",
      "371844it [00:28, 13031.42it/s]\n",
      "404it [00:00, 4510.72it/s]\n",
      "373694it [00:32, 11570.75it/s]\n",
      "597it [00:00, 9416.29it/s]\n",
      "281536it [00:05, 48395.67it/s]\n",
      "11439it [00:00, 13187.70it/s]\n",
      "168it [00:00, 9266.01it/s]\n",
      "839it [00:00, 7127.28it/s]\n",
      "5550it [00:00, 47948.82it/s]\n",
      "3626it [00:00, 19191.47it/s]\n",
      "772it [00:00, 7439.58it/s]\n",
      "711it [00:00, 14919.63it/s]\n",
      "5407it [00:00, 16351.62it/s]\n",
      "82470it [00:03, 21529.74it/s]\n",
      "13321it [00:00, 16983.51it/s]\n",
      "7363it [00:00, 17590.08it/s]\n",
      "3834it [00:00, 14522.93it/s]\n",
      "65it [00:00, 6983.52it/s]\n",
      "25073it [00:01, 17367.08it/s]\n",
      "290it [00:00, 9357.46it/s]\n",
      "11314it [00:00, 45320.88it/s]\n",
      "942it [00:00, 19359.37it/s]\n",
      "56459it [00:12, 4598.41it/s]\n",
      "24096it [00:00, 306315.22it/s]\n",
      "15277it [00:00, 17707.98it/s]\n",
      "84it [00:00, 9965.82it/s]\n",
      "327it [00:00, 9179.51it/s]\n",
      "402it [00:00, 970.97it/s] \n"
     ]
    }
   ],
   "source": [
    "for f in online_articles:\n",
    "    with open(f) as fopen:\n",
    "        for l in tqdm(fopen):\n",
    "            try:\n",
    "                data = '<s>' + json.loads(l) + '</s>'\n",
    "                partitioned = partition(data)\n",
    "                for p in partitioned:\n",
    "                    data = {\n",
    "                        'text': p,\n",
    "                    }\n",
    "                    a.write(f'{json.dumps(data)}\\n')\n",
    "                    a.flush()\n",
    "            except:\n",
    "                pass"
   ]
  },
  {
   "cell_type": "code",
   "execution_count": 26,
   "id": "a77ff244",
   "metadata": {},
   "outputs": [
    {
     "name": "stdout",
     "output_type": "stream",
     "text": [
      "-rw-r--r-- 1 ubuntu ubuntu 38G Dec 28 08:43 combine-lm.jsonl\r\n"
     ]
    }
   ],
   "source": [
    "!ls -lh combine-lm.jsonl"
   ]
  },
  {
   "cell_type": "code",
   "execution_count": null,
   "id": "236c6d6f",
   "metadata": {},
   "outputs": [],
   "source": []
  }
 ],
 "metadata": {
  "kernelspec": {
   "display_name": "Python 3 (ipykernel)",
   "language": "python",
   "name": "python3"
  },
  "language_info": {
   "codemirror_mode": {
    "name": "ipython",
    "version": 3
   },
   "file_extension": ".py",
   "mimetype": "text/x-python",
   "name": "python",
   "nbconvert_exporter": "python",
   "pygments_lexer": "ipython3",
   "version": "3.10.12"
  }
 },
 "nbformat": 4,
 "nbformat_minor": 5
}
