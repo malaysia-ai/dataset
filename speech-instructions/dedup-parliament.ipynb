{
 "cells": [
  {
   "cell_type": "code",
   "execution_count": 1,
   "id": "dbd81da8",
   "metadata": {},
   "outputs": [],
   "source": [
    "# !wget https://gist.githubusercontent.com/huseinzol05/98974ae8c6c7a65d4bc0af9f5003786a/raw/2e06e71ef7349a57bc58cc9913ae6bae1f9f8447/mp.py"
   ]
  },
  {
   "cell_type": "code",
   "execution_count": 18,
   "id": "8887bd2a",
   "metadata": {},
   "outputs": [],
   "source": [
    "from scipy.spatial import KDTree\n",
    "from datasketch import MinHash, MinHashLSH\n",
    "from glob import glob\n",
    "from tqdm import tqdm\n",
    "import numpy as np\n",
    "import mp\n",
    "import pandas as pd\n",
    "import os"
   ]
  },
  {
   "cell_type": "code",
   "execution_count": 3,
   "id": "03dc5983",
   "metadata": {
    "scrolled": false
   },
   "outputs": [
    {
     "data": {
      "text/plain": [
       "636921"
      ]
     },
     "execution_count": 3,
     "metadata": {},
     "output_type": "execute_result"
    }
   ],
   "source": [
    "files = glob('embedding/*.npy')\n",
    "len(files)"
   ]
  },
  {
   "cell_type": "code",
   "execution_count": 6,
   "id": "bb360168",
   "metadata": {},
   "outputs": [
    {
     "name": "stderr",
     "output_type": "stream",
     "text": [
      "100%|██████████████████████████████████████████████████████████████████████████████| 636921/636921 [00:56<00:00, 11205.05it/s]\n"
     ]
    }
   ],
   "source": [
    "embeddings = []\n",
    "for f in tqdm(files):\n",
    "    embeddings.append(np.load(f))\n",
    "embeddings = np.array(embeddings)"
   ]
  },
  {
   "cell_type": "code",
   "execution_count": 7,
   "id": "edf99658",
   "metadata": {},
   "outputs": [],
   "source": [
    "from sklearn.preprocessing import normalize\n",
    "\n",
    "def deduplicate_embeddings(embeddings, similarity_threshold=0.9):\n",
    "    \"\"\"\n",
    "    Deduplicate embeddings based on cosine similarity threshold.\n",
    "    \n",
    "    Args:\n",
    "        embeddings: numpy array of shape [N, dim] where N is number of embeddings\n",
    "        similarity_threshold: float between 0 and 1, threshold for considering embeddings as duplicates\n",
    "    \n",
    "    Returns:\n",
    "        unique_indices: indices of unique embeddings\n",
    "        duplicate_groups: list of lists containing indices of similar embeddings\n",
    "    \"\"\"\n",
    "    # Normalize embeddings for cosine similarity\n",
    "    embeddings = normalize(embeddings)\n",
    "    N = embeddings.shape[0]\n",
    "    \n",
    "    # Track which embeddings have been marked as duplicates\n",
    "    is_duplicate = np.zeros(N, dtype=bool)\n",
    "    duplicate_groups = []\n",
    "    unique_indices = []\n",
    "    \n",
    "    # Process embeddings in batches for memory efficiency\n",
    "    batch_size = 300000\n",
    "    \n",
    "    for i in tqdm(range(N)):\n",
    "        if is_duplicate[i]:\n",
    "            continue\n",
    "            \n",
    "        # Calculate similarities for current embedding with remaining embeddings\n",
    "        start_idx = i + 1\n",
    "        similar_indices = [i]\n",
    "        \n",
    "        while start_idx < N:\n",
    "            end_idx = min(start_idx + batch_size, N)\n",
    "            batch_similarities = embeddings[i:i+1] @ embeddings[start_idx:end_idx].T\n",
    "            \n",
    "            # Find similar embeddings in batch\n",
    "            batch_similar = np.where(batch_similarities[0] >= similarity_threshold)[0]\n",
    "            batch_similar_global_idx = batch_similar + start_idx\n",
    "            \n",
    "            # Filter out already marked duplicates\n",
    "            batch_similar_global_idx = batch_similar_global_idx[~is_duplicate[batch_similar_global_idx]]\n",
    "            \n",
    "            if len(batch_similar_global_idx) > 0:\n",
    "                similar_indices.extend(batch_similar_global_idx.tolist())\n",
    "                is_duplicate[batch_similar_global_idx] = True\n",
    "                \n",
    "            start_idx = end_idx\n",
    "            \n",
    "        if len(similar_indices) > 1:\n",
    "            duplicate_groups.append(similar_indices)\n",
    "        else:\n",
    "            unique_indices.append(i)\n",
    "            \n",
    "    return np.array(unique_indices), duplicate_groups"
   ]
  },
  {
   "cell_type": "code",
   "execution_count": 8,
   "id": "040e8a0c",
   "metadata": {
    "scrolled": true
   },
   "outputs": [
    {
     "name": "stderr",
     "output_type": "stream",
     "text": [
      "100%|██████████████████████████████████████████████████████████████████████████████| 636921/636921 [1:35:20<00:00, 111.33it/s]\n"
     ]
    }
   ],
   "source": [
    "unique_indices, duplicate_groups = deduplicate_embeddings(embeddings, similarity_threshold=0.95)"
   ]
  },
  {
   "cell_type": "code",
   "execution_count": 10,
   "id": "9931fc7f",
   "metadata": {},
   "outputs": [
    {
     "data": {
      "text/plain": [
       "(636921, 2)"
      ]
     },
     "execution_count": 10,
     "metadata": {},
     "output_type": "execute_result"
    }
   ],
   "source": [
    "df = pd.read_parquet('filtered-politicians.parquet')\n",
    "df.shape"
   ]
  },
  {
   "cell_type": "code",
   "execution_count": 11,
   "id": "31da02cd",
   "metadata": {},
   "outputs": [
    {
     "data": {
      "text/plain": [
       "610804"
      ]
     },
     "execution_count": 11,
     "metadata": {},
     "output_type": "execute_result"
    }
   ],
   "source": [
    "len(unique_indices)"
   ]
  },
  {
   "cell_type": "code",
   "execution_count": 12,
   "id": "7665c300",
   "metadata": {},
   "outputs": [],
   "source": [
    "import json\n",
    "\n",
    "with open('deduped-parliament-95p.json', 'w') as fopen:\n",
    "    json.dump({\n",
    "        'unique_indices': unique_indices.tolist(),\n",
    "        'duplicate_groups': duplicate_groups,\n",
    "    }, fopen)"
   ]
  },
  {
   "cell_type": "code",
   "execution_count": 13,
   "id": "8bc16c26",
   "metadata": {},
   "outputs": [
    {
     "data": {
      "application/vnd.jupyter.widget-view+json": {
       "model_id": "3fc4fbbd0a474a618bbf591adbf78dab",
       "version_major": 2,
       "version_minor": 0
      },
      "text/plain": [
       "filtered-politicians.parquet:   0%|          | 0.00/57.3M [00:00<?, ?B/s]"
      ]
     },
     "metadata": {},
     "output_type": "display_data"
    },
    {
     "data": {
      "text/plain": [
       "CommitInfo(commit_url='https://huggingface.co/datasets/malaysia-ai/dedup-malaysian-speakers/commit/d74818bd5ecf8e244bc5a3bb0d67beb47dc6c0c8', commit_message='Upload malaysia-parliament/filtered-parliament.parquet with huggingface_hub', commit_description='', oid='d74818bd5ecf8e244bc5a3bb0d67beb47dc6c0c8', pr_url=None, repo_url=RepoUrl('https://huggingface.co/datasets/malaysia-ai/dedup-malaysian-speakers', endpoint='https://huggingface.co', repo_type='dataset', repo_id='malaysia-ai/dedup-malaysian-speakers'), pr_revision=None, pr_num=None)"
      ]
     },
     "execution_count": 13,
     "metadata": {},
     "output_type": "execute_result"
    }
   ],
   "source": [
    "from huggingface_hub import HfApi\n",
    "api = HfApi()\n",
    "api.upload_file(\n",
    "    path_or_fileobj=\"filtered-politicians.parquet\",\n",
    "    path_in_repo=\"malaysia-parliament/filtered-parliament.parquet\",\n",
    "    repo_id=\"malaysia-ai/dedup-malaysian-speakers\",\n",
    "    repo_type=\"dataset\",\n",
    ")"
   ]
  },
  {
   "cell_type": "code",
   "execution_count": 14,
   "id": "0b177909",
   "metadata": {},
   "outputs": [
    {
     "data": {
      "text/plain": [
       "CommitInfo(commit_url='https://huggingface.co/datasets/malaysia-ai/dedup-malaysian-speakers/commit/17933af81fd89781b730aa377ae7058473cc6073', commit_message='Upload malaysia-parliament/deduped-95p.json with huggingface_hub', commit_description='', oid='17933af81fd89781b730aa377ae7058473cc6073', pr_url=None, repo_url=RepoUrl('https://huggingface.co/datasets/malaysia-ai/dedup-malaysian-speakers', endpoint='https://huggingface.co', repo_type='dataset', repo_id='malaysia-ai/dedup-malaysian-speakers'), pr_revision=None, pr_num=None)"
      ]
     },
     "execution_count": 14,
     "metadata": {},
     "output_type": "execute_result"
    }
   ],
   "source": [
    "from huggingface_hub import HfApi\n",
    "api = HfApi()\n",
    "api.upload_file(\n",
    "    path_or_fileobj=\"deduped-parliament-95p.json\",\n",
    "    path_in_repo=\"malaysia-parliament/deduped-95p.json\",\n",
    "    repo_id=\"malaysia-ai/dedup-malaysian-speakers\",\n",
    "    repo_type=\"dataset\",\n",
    ")"
   ]
  },
  {
   "cell_type": "code",
   "execution_count": 15,
   "id": "931da9db",
   "metadata": {},
   "outputs": [
    {
     "name": "stderr",
     "output_type": "stream",
     "text": [
      "100%|██████████████████████████████████████████████████████████████████████████████| 610804/610804 [00:07<00:00, 85772.46it/s]\n"
     ]
    },
    {
     "data": {
      "text/plain": [
       "610804"
      ]
     },
     "execution_count": 15,
     "metadata": {},
     "output_type": "execute_result"
    }
   ],
   "source": [
    "selected = []\n",
    "for i in tqdm(unique_indices):\n",
    "    selected.append(df.iloc[i].to_dict())\n",
    "    \n",
    "len(selected)"
   ]
  },
  {
   "cell_type": "code",
   "execution_count": 16,
   "id": "72fef922",
   "metadata": {},
   "outputs": [
    {
     "data": {
      "text/plain": [
       "{'audio': '/home/husein/ssd4/parlimen-24k-chunk_processed/parlimen-24k-LANGSUNG ： PERSIDANGAN DEWAN RAKYAT 18 NOV 2021 ｜ SESI KAMAR KHAS [cLmht_XCrOM]_000/parlimen-24k-LANGSUNG ： PERSIDANGAN DEWAN RAKYAT 18 NOV 2021 ｜ SESI KAMAR KHAS [cLmht_XCrOM]_000_2.mp3',\n",
       " 'transcription': 'Ya Allah, kami sekalian hamba-Mu yang diperkenan menjadi ahli dewan rakyat, menyempurnakan kewajipan yang diamanahkan,'}"
      ]
     },
     "execution_count": 16,
     "metadata": {},
     "output_type": "execute_result"
    }
   ],
   "source": [
    "selected[0]"
   ]
  },
  {
   "cell_type": "code",
   "execution_count": 19,
   "id": "15c6da7b",
   "metadata": {},
   "outputs": [
    {
     "data": {
      "text/plain": [
       "(610804, 610804)"
      ]
     },
     "execution_count": 19,
     "metadata": {},
     "output_type": "execute_result"
    }
   ],
   "source": [
    "len(set([os.path.split(s['audio'])[1] for s in selected])), len(selected)"
   ]
  },
  {
   "cell_type": "code",
   "execution_count": 20,
   "id": "f7b06c23",
   "metadata": {},
   "outputs": [],
   "source": [
    "!mkdir dedup-parliament"
   ]
  },
  {
   "cell_type": "code",
   "execution_count": 21,
   "id": "17c56f91",
   "metadata": {},
   "outputs": [],
   "source": [
    "import shutil\n",
    "import os\n",
    "# shutil.copyfile(src, dst)\n",
    "\n",
    "def loop(rows):\n",
    "    rows, _ = rows\n",
    "    for r in tqdm(rows):\n",
    "        f = os.path.split(r['audio'])[1]\n",
    "        new_f = os.path.join('dedup-parliament', f)\n",
    "        shutil.copyfile(r['audio'], new_f)"
   ]
  },
  {
   "cell_type": "code",
   "execution_count": 22,
   "id": "1c54a043",
   "metadata": {},
   "outputs": [
    {
     "name": "stderr",
     "output_type": "stream",
     "text": [
      "100%|████████████████████████████████████████████████████████████████████████████████| 61080/61080 [00:06<00:00, 10063.19it/s]\n",
      "100%|████████████████████████████████████████████████████████████████████████████████████████| 4/4 [00:00<00:00, 14027.77it/s]\n",
      "100%|█████████████████████████████████████████████████████████████████████████████████| 61080/61080 [00:07<00:00, 7956.74it/s]\n",
      "100%|█████████████████████████████████████████████████████████████████████████████████| 61080/61080 [00:13<00:00, 4492.33it/s]\n",
      "100%|█████████████████████████████████████████████████████████████████████████████████| 61080/61080 [00:16<00:00, 3667.48it/s]\n",
      "100%|█████████████████████████████████████████████████████████████████████████████████| 61080/61080 [00:22<00:00, 2728.36it/s]\n",
      "100%|█████████████████████████████████████████████████████████████████████████████████| 61080/61080 [00:22<00:00, 2739.24it/s]\n",
      "100%|█████████████████████████████████████████████████████████████████████████████████| 61080/61080 [00:23<00:00, 2605.95it/s]\n",
      "100%|█████████████████████████████████████████████████████████████████████████████████| 61080/61080 [00:24<00:00, 2544.94it/s]\n",
      "100%|█████████████████████████████████████████████████████████████████████████████████| 61080/61080 [00:50<00:00, 1218.37it/s]\n",
      "100%|█████████████████████████████████████████████████████████████████████████████████| 61080/61080 [00:52<00:00, 1170.64it/s]\n"
     ]
    }
   ],
   "source": [
    "mp.multiprocessing(selected, loop, cores = 10, returned = False)"
   ]
  },
  {
   "cell_type": "code",
   "execution_count": 23,
   "id": "3e96746b",
   "metadata": {},
   "outputs": [
    {
     "name": "stdout",
     "output_type": "stream",
     "text": [
      "25G\tdedup-parliament\r\n"
     ]
    }
   ],
   "source": [
    "!du -hs dedup-parliament"
   ]
  },
  {
   "cell_type": "code",
   "execution_count": 25,
   "id": "6468bd76",
   "metadata": {},
   "outputs": [],
   "source": [
    "for i in range(len(selected)):\n",
    "    f = os.path.split(selected[i]['audio'])[1]\n",
    "    new_f = os.path.join('dedup-parliament', f)\n",
    "    selected[i]['audio'] = new_f"
   ]
  },
  {
   "cell_type": "code",
   "execution_count": 26,
   "id": "c3625c14",
   "metadata": {},
   "outputs": [
    {
     "data": {
      "text/plain": [
       "{'audio': 'dedup-parliament/parlimen-24k-LANGSUNG ： PERSIDANGAN DEWAN RAKYAT 18 NOV 2021 ｜ SESI KAMAR KHAS [cLmht_XCrOM]_000_3.mp3',\n",
       " 'transcription': 'yang terutama bagi negara Malaysia, bagi rakyatnya sekalian.'}"
      ]
     },
     "execution_count": 26,
     "metadata": {},
     "output_type": "execute_result"
    }
   ],
   "source": [
    "selected[1]"
   ]
  },
  {
   "cell_type": "code",
   "execution_count": 27,
   "id": "42a5fae9",
   "metadata": {},
   "outputs": [
    {
     "data": {
      "text/html": [
       "\n",
       "                <audio  controls=\"controls\" >\n",
       "                    <source src=\"data:audio/mpeg;base64,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\" type=\"audio/mpeg\" />\n",
       "                    Your browser does not support the audio element.\n",
       "                </audio>\n",
       "              "
      ],
      "text/plain": [
       "<IPython.lib.display.Audio object>"
      ]
     },
     "execution_count": 27,
     "metadata": {},
     "output_type": "execute_result"
    }
   ],
   "source": [
    "import IPython.display as ipd\n",
    "ipd.Audio(selected[1]['audio'])"
   ]
  },
  {
   "cell_type": "code",
   "execution_count": 28,
   "id": "d4aea6cb",
   "metadata": {},
   "outputs": [],
   "source": [
    "pd.DataFrame(selected).to_parquet('dedup-malaysia-parliament.parquet')"
   ]
  },
  {
   "cell_type": "code",
   "execution_count": 29,
   "id": "96b5188a",
   "metadata": {},
   "outputs": [
    {
     "data": {
      "application/vnd.jupyter.widget-view+json": {
       "model_id": "ec1aa439c6bd4478a137626c9b50285f",
       "version_major": 2,
       "version_minor": 0
      },
      "text/plain": [
       "dedup-malaysia-parliament.parquet:   0%|          | 0.00/51.5M [00:00<?, ?B/s]"
      ]
     },
     "metadata": {},
     "output_type": "display_data"
    },
    {
     "data": {
      "text/plain": [
       "CommitInfo(commit_url='https://huggingface.co/datasets/malaysia-ai/dedup-malaysian-speakers/commit/b8e40ddcc852bf97222500e5baf5bd0e9c19575c', commit_message='Upload data/dedup_malaysia_parliament-00000-of-00001.parquet with huggingface_hub', commit_description='', oid='b8e40ddcc852bf97222500e5baf5bd0e9c19575c', pr_url=None, repo_url=RepoUrl('https://huggingface.co/datasets/malaysia-ai/dedup-malaysian-speakers', endpoint='https://huggingface.co', repo_type='dataset', repo_id='malaysia-ai/dedup-malaysian-speakers'), pr_revision=None, pr_num=None)"
      ]
     },
     "execution_count": 29,
     "metadata": {},
     "output_type": "execute_result"
    }
   ],
   "source": [
    "api.upload_file(\n",
    "    path_or_fileobj=\"dedup-malaysia-parliament.parquet\",\n",
    "    path_in_repo=\"data/dedup_malaysia_parliament-00000-of-00001.parquet\",\n",
    "    repo_id=\"malaysia-ai/dedup-malaysian-speakers\",\n",
    "    repo_type=\"dataset\",\n",
    ")"
   ]
  },
  {
   "cell_type": "code",
   "execution_count": 30,
   "id": "5aa1e48f",
   "metadata": {},
   "outputs": [],
   "source": [
    "!zip -q -r -s 10000m dedup-parliament.zip dedup-parliament"
   ]
  },
  {
   "cell_type": "code",
   "execution_count": 5,
   "id": "db8edf9e",
   "metadata": {},
   "outputs": [
    {
     "data": {
      "text/plain": [
       "['dedup-parliament.z02', 'dedup-parliament.zip', 'dedup-parliament.z01']"
      ]
     },
     "execution_count": 5,
     "metadata": {},
     "output_type": "execute_result"
    }
   ],
   "source": [
    "from glob import glob\n",
    "\n",
    "files = glob('dedup-parliament.z*')\n",
    "files"
   ]
  },
  {
   "cell_type": "code",
   "execution_count": 6,
   "id": "8e337929",
   "metadata": {},
   "outputs": [
    {
     "name": "stdout",
     "output_type": "stream",
     "text": [
      "dedup-parliament.z02\n"
     ]
    },
    {
     "name": "stderr",
     "output_type": "stream",
     "text": [
      "No files have been modified since last commit. Skipping to prevent empty commit.\n"
     ]
    },
    {
     "name": "stdout",
     "output_type": "stream",
     "text": [
      "dedup-parliament.zip\n"
     ]
    },
    {
     "name": "stderr",
     "output_type": "stream",
     "text": [
      "No files have been modified since last commit. Skipping to prevent empty commit.\n"
     ]
    },
    {
     "name": "stdout",
     "output_type": "stream",
     "text": [
      "dedup-parliament.z01\n"
     ]
    },
    {
     "name": "stderr",
     "output_type": "stream",
     "text": [
      "No files have been modified since last commit. Skipping to prevent empty commit.\n"
     ]
    }
   ],
   "source": [
    "from huggingface_hub import HfApi\n",
    "api = HfApi()\n",
    "\n",
    "for f in files:\n",
    "    print(f)\n",
    "    api.upload_file(\n",
    "        path_or_fileobj=f,\n",
    "        path_in_repo=f,\n",
    "        repo_id=\"malaysia-ai/dedup-malaysian-speakers\",\n",
    "        repo_type=\"dataset\",\n",
    "    )"
   ]
  }
 ],
 "metadata": {
  "kernelspec": {
   "display_name": "python3.10",
   "language": "python",
   "name": "python3.10"
  },
  "language_info": {
   "codemirror_mode": {
    "name": "ipython",
    "version": 3
   },
   "file_extension": ".py",
   "mimetype": "text/x-python",
   "name": "python",
   "nbconvert_exporter": "python",
   "pygments_lexer": "ipython3",
   "version": "3.10.15"
  }
 },
 "nbformat": 4,
 "nbformat_minor": 5
}
