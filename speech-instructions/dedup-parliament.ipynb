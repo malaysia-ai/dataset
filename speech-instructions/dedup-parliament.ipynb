{
 "cells": [
  {
   "cell_type": "code",
   "execution_count": 1,
   "id": "dbd81da8",
   "metadata": {},
   "outputs": [],
   "source": [
    "# !wget https://gist.githubusercontent.com/huseinzol05/98974ae8c6c7a65d4bc0af9f5003786a/raw/2e06e71ef7349a57bc58cc9913ae6bae1f9f8447/mp.py"
   ]
  },
  {
   "cell_type": "code",
   "execution_count": 2,
   "id": "8887bd2a",
   "metadata": {},
   "outputs": [],
   "source": [
    "from scipy.spatial import KDTree\n",
    "from datasketch import MinHash, MinHashLSH\n",
    "from glob import glob\n",
    "from tqdm import tqdm\n",
    "import numpy as np\n",
    "import mp\n",
    "import pandas as pd"
   ]
  },
  {
   "cell_type": "code",
   "execution_count": 3,
   "id": "03dc5983",
   "metadata": {
    "scrolled": false
   },
   "outputs": [
    {
     "data": {
      "text/plain": [
       "636921"
      ]
     },
     "execution_count": 3,
     "metadata": {},
     "output_type": "execute_result"
    }
   ],
   "source": [
    "files = glob('embedding/*.npy')\n",
    "len(files)"
   ]
  },
  {
   "cell_type": "code",
   "execution_count": 6,
   "id": "33029463",
   "metadata": {},
   "outputs": [
    {
     "name": "stderr",
     "output_type": "stream",
     "text": [
      "100%|██████████████████████████████████████████████████████████████████████████████| 636921/636921 [00:56<00:00, 11205.05it/s]\n"
     ]
    }
   ],
   "source": [
    "embeddings = []\n",
    "for f in tqdm(files):\n",
    "    embeddings.append(np.load(f))\n",
    "embeddings = np.array(embeddings)"
   ]
  },
  {
   "cell_type": "code",
   "execution_count": 7,
   "id": "edf99658",
   "metadata": {},
   "outputs": [],
   "source": [
    "from sklearn.preprocessing import normalize\n",
    "\n",
    "def deduplicate_embeddings(embeddings, similarity_threshold=0.9):\n",
    "    \"\"\"\n",
    "    Deduplicate embeddings based on cosine similarity threshold.\n",
    "    \n",
    "    Args:\n",
    "        embeddings: numpy array of shape [N, dim] where N is number of embeddings\n",
    "        similarity_threshold: float between 0 and 1, threshold for considering embeddings as duplicates\n",
    "    \n",
    "    Returns:\n",
    "        unique_indices: indices of unique embeddings\n",
    "        duplicate_groups: list of lists containing indices of similar embeddings\n",
    "    \"\"\"\n",
    "    # Normalize embeddings for cosine similarity\n",
    "    embeddings = normalize(embeddings)\n",
    "    N = embeddings.shape[0]\n",
    "    \n",
    "    # Track which embeddings have been marked as duplicates\n",
    "    is_duplicate = np.zeros(N, dtype=bool)\n",
    "    duplicate_groups = []\n",
    "    unique_indices = []\n",
    "    \n",
    "    # Process embeddings in batches for memory efficiency\n",
    "    batch_size = 300000\n",
    "    \n",
    "    for i in tqdm(range(N)):\n",
    "        if is_duplicate[i]:\n",
    "            continue\n",
    "            \n",
    "        # Calculate similarities for current embedding with remaining embeddings\n",
    "        start_idx = i + 1\n",
    "        similar_indices = [i]\n",
    "        \n",
    "        while start_idx < N:\n",
    "            end_idx = min(start_idx + batch_size, N)\n",
    "            batch_similarities = embeddings[i:i+1] @ embeddings[start_idx:end_idx].T\n",
    "            \n",
    "            # Find similar embeddings in batch\n",
    "            batch_similar = np.where(batch_similarities[0] >= similarity_threshold)[0]\n",
    "            batch_similar_global_idx = batch_similar + start_idx\n",
    "            \n",
    "            # Filter out already marked duplicates\n",
    "            batch_similar_global_idx = batch_similar_global_idx[~is_duplicate[batch_similar_global_idx]]\n",
    "            \n",
    "            if len(batch_similar_global_idx) > 0:\n",
    "                similar_indices.extend(batch_similar_global_idx.tolist())\n",
    "                is_duplicate[batch_similar_global_idx] = True\n",
    "                \n",
    "            start_idx = end_idx\n",
    "            \n",
    "        if len(similar_indices) > 1:\n",
    "            duplicate_groups.append(similar_indices)\n",
    "        else:\n",
    "            unique_indices.append(i)\n",
    "            \n",
    "    return np.array(unique_indices), duplicate_groups"
   ]
  },
  {
   "cell_type": "code",
   "execution_count": null,
   "id": "040e8a0c",
   "metadata": {
    "scrolled": true
   },
   "outputs": [
    {
     "name": "stderr",
     "output_type": "stream",
     "text": [
      "  8%|██████▏                                                                         | 49567/636921 [15:09<4:39:53, 34.97it/s]"
     ]
    }
   ],
   "source": [
    "unique_indices, duplicate_groups = deduplicate_embeddings(embeddings, similarity_threshold=0.95)"
   ]
  },
  {
   "cell_type": "code",
   "execution_count": null,
   "id": "9931fc7f",
   "metadata": {},
   "outputs": [],
   "source": []
  }
 ],
 "metadata": {
  "kernelspec": {
   "display_name": "python3.10",
   "language": "python",
   "name": "python3.10"
  },
  "language_info": {
   "codemirror_mode": {
    "name": "ipython",
    "version": 3
   },
   "file_extension": ".py",
   "mimetype": "text/x-python",
   "name": "python",
   "nbconvert_exporter": "python",
   "pygments_lexer": "ipython3",
   "version": "3.10.15"
  }
 },
 "nbformat": 4,
 "nbformat_minor": 5
}
