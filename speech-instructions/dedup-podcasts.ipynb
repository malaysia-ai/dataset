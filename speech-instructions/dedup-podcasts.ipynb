{
 "cells": [
  {
   "cell_type": "code",
   "execution_count": 1,
   "id": "dbd81da8",
   "metadata": {},
   "outputs": [],
   "source": [
    "# !wget https://gist.githubusercontent.com/huseinzol05/98974ae8c6c7a65d4bc0af9f5003786a/raw/2e06e71ef7349a57bc58cc9913ae6bae1f9f8447/mp.py"
   ]
  },
  {
   "cell_type": "code",
   "execution_count": 2,
   "id": "8887bd2a",
   "metadata": {},
   "outputs": [],
   "source": [
    "from scipy.spatial import KDTree\n",
    "from datasketch import MinHash, MinHashLSH\n",
    "from glob import glob\n",
    "from tqdm import tqdm\n",
    "import numpy as np\n",
    "import mp\n",
    "import pandas as pd"
   ]
  },
  {
   "cell_type": "code",
   "execution_count": 3,
   "id": "03dc5983",
   "metadata": {
    "scrolled": true
   },
   "outputs": [
    {
     "data": {
      "text/plain": [
       "75965"
      ]
     },
     "execution_count": 3,
     "metadata": {},
     "output_type": "execute_result"
    }
   ],
   "source": [
    "files = glob('embedding-podcast/*.npy')\n",
    "len(files)"
   ]
  },
  {
   "cell_type": "code",
   "execution_count": 4,
   "id": "4b65d6c5",
   "metadata": {},
   "outputs": [
    {
     "name": "stderr",
     "output_type": "stream",
     "text": [
      "100%|████████████████████████████████████████████████████████████████████████████████| 75965/75965 [00:01<00:00, 45752.78it/s]\n"
     ]
    }
   ],
   "source": [
    "embeddings = []\n",
    "for f in tqdm(files):\n",
    "    embeddings.append(np.load(f))\n",
    "embeddings = np.array(embeddings)"
   ]
  },
  {
   "cell_type": "code",
   "execution_count": 5,
   "id": "13a616a6",
   "metadata": {},
   "outputs": [
    {
     "data": {
      "text/plain": [
       "(75965, 192)"
      ]
     },
     "execution_count": 5,
     "metadata": {},
     "output_type": "execute_result"
    }
   ],
   "source": [
    "embeddings.shape"
   ]
  },
  {
   "cell_type": "code",
   "execution_count": 6,
   "id": "edf99658",
   "metadata": {},
   "outputs": [],
   "source": [
    "from sklearn.preprocessing import normalize\n",
    "\n",
    "def deduplicate_embeddings(embeddings, similarity_threshold=0.9):\n",
    "    \"\"\"\n",
    "    Deduplicate embeddings based on cosine similarity threshold.\n",
    "    \n",
    "    Args:\n",
    "        embeddings: numpy array of shape [N, dim] where N is number of embeddings\n",
    "        similarity_threshold: float between 0 and 1, threshold for considering embeddings as duplicates\n",
    "    \n",
    "    Returns:\n",
    "        unique_indices: indices of unique embeddings\n",
    "        duplicate_groups: list of lists containing indices of similar embeddings\n",
    "    \"\"\"\n",
    "    # Normalize embeddings for cosine similarity\n",
    "    embeddings = normalize(embeddings)\n",
    "    N = embeddings.shape[0]\n",
    "    \n",
    "    # Track which embeddings have been marked as duplicates\n",
    "    is_duplicate = np.zeros(N, dtype=bool)\n",
    "    duplicate_groups = []\n",
    "    unique_indices = []\n",
    "    \n",
    "    # Process embeddings in batches for memory efficiency\n",
    "    batch_size = 300000\n",
    "    \n",
    "    for i in tqdm(range(N)):\n",
    "        if is_duplicate[i]:\n",
    "            continue\n",
    "            \n",
    "        # Calculate similarities for current embedding with remaining embeddings\n",
    "        start_idx = i + 1\n",
    "        similar_indices = [i]\n",
    "        \n",
    "        while start_idx < N:\n",
    "            end_idx = min(start_idx + batch_size, N)\n",
    "            batch_similarities = embeddings[i:i+1] @ embeddings[start_idx:end_idx].T\n",
    "            \n",
    "            # Find similar embeddings in batch\n",
    "            batch_similar = np.where(batch_similarities[0] >= similarity_threshold)[0]\n",
    "            batch_similar_global_idx = batch_similar + start_idx\n",
    "            \n",
    "            # Filter out already marked duplicates\n",
    "            batch_similar_global_idx = batch_similar_global_idx[~is_duplicate[batch_similar_global_idx]]\n",
    "            \n",
    "            if len(batch_similar_global_idx) > 0:\n",
    "                similar_indices.extend(batch_similar_global_idx.tolist())\n",
    "                is_duplicate[batch_similar_global_idx] = True\n",
    "                \n",
    "            start_idx = end_idx\n",
    "            \n",
    "        if len(similar_indices) > 1:\n",
    "            duplicate_groups.append(similar_indices)\n",
    "        else:\n",
    "            unique_indices.append(i)\n",
    "            \n",
    "    return np.array(unique_indices), duplicate_groups"
   ]
  },
  {
   "cell_type": "code",
   "execution_count": 7,
   "id": "cb5d3675",
   "metadata": {
    "scrolled": true
   },
   "outputs": [
    {
     "name": "stderr",
     "output_type": "stream",
     "text": [
      "100%|█████████████████████████████████████████████████████████████████████████████████| 75965/75965 [00:36<00:00, 2056.87it/s]\n"
     ]
    }
   ],
   "source": [
    "unique_indices, duplicate_groups = deduplicate_embeddings(embeddings, similarity_threshold=0.95)"
   ]
  },
  {
   "cell_type": "code",
   "execution_count": 13,
   "id": "fd246bb5",
   "metadata": {},
   "outputs": [],
   "source": [
    "import json\n",
    "\n",
    "with open('deduped-podcasts-95p.json', 'w') as fopen:\n",
    "    json.dump({\n",
    "        'unique_indices': unique_indices.tolist(),\n",
    "        'duplicate_groups': duplicate_groups,\n",
    "    }, fopen)"
   ]
  },
  {
   "cell_type": "code",
   "execution_count": 16,
   "id": "7ef6be73",
   "metadata": {},
   "outputs": [
    {
     "data": {
      "application/vnd.jupyter.widget-view+json": {
       "model_id": "60188cac06a54e6b89ab98203ab857d9",
       "version_major": 2,
       "version_minor": 0
      },
      "text/plain": [
       "filtered-podcast.parquet:   0%|          | 0.00/7.70M [00:00<?, ?B/s]"
      ]
     },
     "metadata": {},
     "output_type": "display_data"
    },
    {
     "data": {
      "text/plain": [
       "CommitInfo(commit_url='https://huggingface.co/datasets/malaysia-ai/dedup-malaysian-speakers/commit/d2f9918445abf9d42a6277b1a593a41b9bffd467', commit_message='Upload malaysian-podcasts/filtered-podcast.parquet with huggingface_hub', commit_description='', oid='d2f9918445abf9d42a6277b1a593a41b9bffd467', pr_url=None, repo_url=RepoUrl('https://huggingface.co/datasets/malaysia-ai/dedup-malaysian-speakers', endpoint='https://huggingface.co', repo_type='dataset', repo_id='malaysia-ai/dedup-malaysian-speakers'), pr_revision=None, pr_num=None)"
      ]
     },
     "execution_count": 16,
     "metadata": {},
     "output_type": "execute_result"
    }
   ],
   "source": [
    "from huggingface_hub import HfApi\n",
    "api = HfApi()\n",
    "api.upload_file(\n",
    "    path_or_fileobj=\"filtered-podcast.parquet\",\n",
    "    path_in_repo=\"malaysian-podcasts/filtered-podcast.parquet\",\n",
    "    repo_id=\"malaysia-ai/dedup-malaysian-speakers\",\n",
    "    repo_type=\"dataset\",\n",
    ")"
   ]
  },
  {
   "cell_type": "code",
   "execution_count": 18,
   "id": "d1300e0f",
   "metadata": {},
   "outputs": [
    {
     "data": {
      "text/plain": [
       "(75965, 2)"
      ]
     },
     "execution_count": 18,
     "metadata": {},
     "output_type": "execute_result"
    }
   ],
   "source": [
    "df = pd.read_parquet('filtered-podcast.parquet')\n",
    "df.shape"
   ]
  },
  {
   "cell_type": "code",
   "execution_count": 21,
   "id": "33f08e80",
   "metadata": {},
   "outputs": [
    {
     "name": "stderr",
     "output_type": "stream",
     "text": [
      "100%|████████████████████████████████████████████████████████████████████████████████| 73384/73384 [00:02<00:00, 26655.61it/s]\n"
     ]
    },
    {
     "data": {
      "text/plain": [
       "73384"
      ]
     },
     "execution_count": 21,
     "metadata": {},
     "output_type": "execute_result"
    }
   ],
   "source": [
    "selected = []\n",
    "for i in tqdm(unique_indices):\n",
    "    selected.append(df.iloc[i].to_dict())\n",
    "    \n",
    "len(selected)"
   ]
  },
  {
   "cell_type": "code",
   "execution_count": 22,
   "id": "a4dfce1b",
   "metadata": {},
   "outputs": [
    {
     "data": {
      "text/plain": [
       "{'audio': '/home/husein/ssd4/malaysian-podcast_processed/Super. Sunday： Brand Jahat Local [hQkCidjHoVM]/Super. Sunday： Brand Jahat Local [hQkCidjHoVM]_1.mp3',\n",
       " 'transcription': 'Ah, benda tu kalau jadi, memang, satu eksperimen yang besar, melibatkan kos yang besar, tapi, impact kita tak tahu, kita just nak buat satu benda gila lah, Voltron dengan Super Sunday. Insya Allah, tahun ni kalau sempat lah.'}"
      ]
     },
     "execution_count": 22,
     "metadata": {},
     "output_type": "execute_result"
    }
   ],
   "source": [
    "selected[0]"
   ]
  },
  {
   "cell_type": "code",
   "execution_count": 33,
   "id": "57b66404",
   "metadata": {},
   "outputs": [
    {
     "data": {
      "text/plain": [
       "(73384, 73384)"
      ]
     },
     "execution_count": 33,
     "metadata": {},
     "output_type": "execute_result"
    }
   ],
   "source": [
    "len(set([os.path.split(s['audio'])[1] for s in selected])), len(selected)"
   ]
  },
  {
   "cell_type": "code",
   "execution_count": 24,
   "id": "6ad061e8",
   "metadata": {},
   "outputs": [
    {
     "name": "stdout",
     "output_type": "stream",
     "text": [
      "mkdir: cannot create directory ‘dedup-podcasts’: File exists\r\n"
     ]
    }
   ],
   "source": [
    "!mkdir dedup-podcasts"
   ]
  },
  {
   "cell_type": "code",
   "execution_count": 34,
   "id": "18c05105",
   "metadata": {},
   "outputs": [],
   "source": [
    "import shutil\n",
    "import os\n",
    "# shutil.copyfile(src, dst)\n",
    "\n",
    "def loop(rows):\n",
    "    rows, _ = rows\n",
    "    for r in tqdm(rows):\n",
    "        f = os.path.split(r['audio'])[1]\n",
    "        new_f = os.path.join('dedup-podcasts', f)\n",
    "        shutil.copyfile(r['audio'], new_f)"
   ]
  },
  {
   "cell_type": "code",
   "execution_count": 36,
   "id": "62dd7f9d",
   "metadata": {},
   "outputs": [
    {
     "name": "stderr",
     "output_type": "stream",
     "text": [
      "100%|███████████████████████████████████████████████████████████████████████████████████| 7338/7338 [00:02<00:00, 2568.78it/s]\n",
      "100%|█████████████████████████████████████████████████████████████████████████████████████████| 4/4 [00:00<00:00, 2799.47it/s]\n",
      "100%|███████████████████████████████████████████████████████████████████████████████████| 7338/7338 [00:04<00:00, 1801.94it/s]\n",
      "100%|███████████████████████████████████████████████████████████████████████████████████| 7338/7338 [00:04<00:00, 1636.16it/s]\n",
      "100%|███████████████████████████████████████████████████████████████████████████████████| 7338/7338 [00:05<00:00, 1390.30it/s]\n",
      "100%|███████████████████████████████████████████████████████████████████████████████████| 7338/7338 [00:05<00:00, 1467.54it/s]\n",
      "100%|███████████████████████████████████████████████████████████████████████████████████| 7338/7338 [00:05<00:00, 1433.32it/s]\n",
      "100%|███████████████████████████████████████████████████████████████████████████████████| 7338/7338 [00:04<00:00, 1475.78it/s]\n",
      "100%|███████████████████████████████████████████████████████████████████████████████████| 7338/7338 [00:05<00:00, 1338.79it/s]\n",
      "100%|███████████████████████████████████████████████████████████████████████████████████| 7338/7338 [00:04<00:00, 1515.61it/s]\n",
      "100%|███████████████████████████████████████████████████████████████████████████████████| 7338/7338 [00:04<00:00, 1631.28it/s]\n"
     ]
    }
   ],
   "source": [
    "mp.multiprocessing(selected, loop, cores = 10, returned = False)"
   ]
  },
  {
   "cell_type": "code",
   "execution_count": 37,
   "id": "bcefcaa4",
   "metadata": {},
   "outputs": [
    {
     "name": "stdout",
     "output_type": "stream",
     "text": [
      "2.5G\tdedup-podcasts\r\n"
     ]
    }
   ],
   "source": [
    "!du -hs dedup-podcasts"
   ]
  },
  {
   "cell_type": "code",
   "execution_count": 38,
   "id": "f49e4fe8",
   "metadata": {},
   "outputs": [],
   "source": [
    "for i in range(len(selected)):\n",
    "    f = os.path.split(selected[i]['audio'])[1]\n",
    "    new_f = os.path.join('dedup-podcasts', f)\n",
    "    selected[i]['audio'] = new_f"
   ]
  },
  {
   "cell_type": "code",
   "execution_count": 40,
   "id": "e0d08f1f",
   "metadata": {},
   "outputs": [
    {
     "data": {
      "text/plain": [
       "{'audio': 'dedup-podcasts/Macamana Pramugari Handle Penumpang Gatal -  Sabreena Ibrahim  (Bhg 1) [bCjrGP8tYOc]_6.mp3',\n",
       " 'transcription': 'Okay, I sebenarnya macam ni. Masa I lapan belas tahun, I pergi interview, masa tu dekat Melaka. My mum hantarlah ni. My mum dengan my dad kita pergi Melaka.'}"
      ]
     },
     "execution_count": 40,
     "metadata": {},
     "output_type": "execute_result"
    }
   ],
   "source": [
    "selected[1]"
   ]
  },
  {
   "cell_type": "code",
   "execution_count": 41,
   "id": "c58eaa69",
   "metadata": {},
   "outputs": [
    {
     "data": {
      "text/html": [
       "\n",
       "                <audio  controls=\"controls\" >\n",
       "                    <source src=\"data:audio/mpeg;base64,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\" type=\"audio/mpeg\" />\n",
       "                    Your browser does not support the audio element.\n",
       "                </audio>\n",
       "              "
      ],
      "text/plain": [
       "<IPython.lib.display.Audio object>"
      ]
     },
     "execution_count": 41,
     "metadata": {},
     "output_type": "execute_result"
    }
   ],
   "source": [
    "import IPython.display as ipd\n",
    "ipd.Audio(selected[1]['audio'])"
   ]
  },
  {
   "cell_type": "code",
   "execution_count": 43,
   "id": "8bb9d6ac",
   "metadata": {},
   "outputs": [],
   "source": [
    "pd.DataFrame(selected).to_parquet('dedup-malaysian-podcasts.parquet')"
   ]
  },
  {
   "cell_type": "code",
   "execution_count": 44,
   "id": "919ceb5a",
   "metadata": {
    "scrolled": true
   },
   "outputs": [
    {
     "data": {
      "application/vnd.jupyter.widget-view+json": {
       "model_id": "a8d4133fb9c843c7b6c664740d5a1d48",
       "version_major": 2,
       "version_minor": 0
      },
      "text/plain": [
       "dedup-malaysian-podcasts.parquet:   0%|          | 0.00/7.01M [00:00<?, ?B/s]"
      ]
     },
     "metadata": {},
     "output_type": "display_data"
    },
    {
     "data": {
      "text/plain": [
       "CommitInfo(commit_url='https://huggingface.co/datasets/malaysia-ai/dedup-malaysian-speakers/commit/2201c2377f499aa02e245db52849843fd157c1fc', commit_message='Upload data/dedup_malaysian_podcasts-00000-of-00001.parquet with huggingface_hub', commit_description='', oid='2201c2377f499aa02e245db52849843fd157c1fc', pr_url=None, repo_url=RepoUrl('https://huggingface.co/datasets/malaysia-ai/dedup-malaysian-speakers', endpoint='https://huggingface.co', repo_type='dataset', repo_id='malaysia-ai/dedup-malaysian-speakers'), pr_revision=None, pr_num=None)"
      ]
     },
     "execution_count": 44,
     "metadata": {},
     "output_type": "execute_result"
    }
   ],
   "source": [
    "api.upload_file(\n",
    "    path_or_fileobj=\"dedup-malaysian-podcasts.parquet\",\n",
    "    path_in_repo=\"data/dedup_malaysian_podcasts-00000-of-00001.parquet\",\n",
    "    repo_id=\"malaysia-ai/dedup-malaysian-speakers\",\n",
    "    repo_type=\"dataset\",\n",
    ")"
   ]
  },
  {
   "cell_type": "code",
   "execution_count": 45,
   "id": "44f55609",
   "metadata": {},
   "outputs": [],
   "source": [
    "!zip -rq dedup-podcasts.zip dedup-podcasts"
   ]
  },
  {
   "cell_type": "code",
   "execution_count": 46,
   "id": "fd7cd556",
   "metadata": {},
   "outputs": [
    {
     "data": {
      "application/vnd.jupyter.widget-view+json": {
       "model_id": "420dfdf5311247958598b89ed30ee2f3",
       "version_major": 2,
       "version_minor": 0
      },
      "text/plain": [
       "dedup-podcasts.zip:   0%|          | 0.00/2.46G [00:00<?, ?B/s]"
      ]
     },
     "metadata": {},
     "output_type": "display_data"
    },
    {
     "data": {
      "text/plain": [
       "CommitInfo(commit_url='https://huggingface.co/datasets/malaysia-ai/dedup-malaysian-speakers/commit/ed4fa7fdd4c43de2a01b5cfa321f492821246e82', commit_message='Upload dedup-podcasts.zip with huggingface_hub', commit_description='', oid='ed4fa7fdd4c43de2a01b5cfa321f492821246e82', pr_url=None, repo_url=RepoUrl('https://huggingface.co/datasets/malaysia-ai/dedup-malaysian-speakers', endpoint='https://huggingface.co', repo_type='dataset', repo_id='malaysia-ai/dedup-malaysian-speakers'), pr_revision=None, pr_num=None)"
      ]
     },
     "execution_count": 46,
     "metadata": {},
     "output_type": "execute_result"
    }
   ],
   "source": [
    "api.upload_file(\n",
    "    path_or_fileobj=\"dedup-podcasts.zip\",\n",
    "    path_in_repo=\"dedup-podcasts.zip\",\n",
    "    repo_id=\"malaysia-ai/dedup-malaysian-speakers\",\n",
    "    repo_type=\"dataset\",\n",
    ")"
   ]
  }
 ],
 "metadata": {
  "kernelspec": {
   "display_name": "python3.10",
   "language": "python",
   "name": "python3.10"
  },
  "language_info": {
   "codemirror_mode": {
    "name": "ipython",
    "version": 3
   },
   "file_extension": ".py",
   "mimetype": "text/x-python",
   "name": "python",
   "nbconvert_exporter": "python",
   "pygments_lexer": "ipython3",
   "version": "3.10.15"
  }
 },
 "nbformat": 4,
 "nbformat_minor": 5
}
