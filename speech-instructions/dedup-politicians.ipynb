{
 "cells": [
  {
   "cell_type": "code",
   "execution_count": 1,
   "id": "0c89c181",
   "metadata": {},
   "outputs": [],
   "source": [
    "# !wget https://gist.githubusercontent.com/huseinzol05/98974ae8c6c7a65d4bc0af9f5003786a/raw/2e06e71ef7349a57bc58cc9913ae6bae1f9f8447/mp.py"
   ]
  },
  {
   "cell_type": "code",
   "execution_count": 2,
   "id": "df06c7ed",
   "metadata": {},
   "outputs": [],
   "source": [
    "import os\n",
    "\n",
    "os.environ['CUDA_VISIBLE_DEVICES'] = '1'"
   ]
  },
  {
   "cell_type": "code",
   "execution_count": 3,
   "id": "4c043b2a",
   "metadata": {},
   "outputs": [],
   "source": [
    "from scipy.spatial import KDTree\n",
    "from datasketch import MinHash, MinHashLSH\n",
    "from glob import glob\n",
    "from tqdm import tqdm\n",
    "import numpy as np\n",
    "import mp\n",
    "import pandas as pd"
   ]
  },
  {
   "cell_type": "code",
   "execution_count": 4,
   "id": "048e59f1",
   "metadata": {},
   "outputs": [],
   "source": [
    "# num_perm = 256\n",
    "# threshold = 0.5\n",
    "\n",
    "# def loop(files):\n",
    "#     files, _ = files\n",
    "#     lsh = MinHashLSH(threshold=threshold, num_perm=num_perm)\n",
    "\n",
    "#     unique_embeddings = []\n",
    "\n",
    "#     for f in tqdm(files):\n",
    "#         emb = np.load(f)\n",
    "#         m = MinHash(num_perm=num_perm)\n",
    "#         for val in emb:\n",
    "#             m.update(str(val).encode(\"utf8\"))\n",
    "#         if not lsh.query(m):\n",
    "#             lsh.insert(str(len(unique_embeddings)), m)\n",
    "#             unique_embeddings.append(f)\n",
    "    \n",
    "#     return unique_embeddings\n",
    "\n",
    "# unique_files = mp.multiprocessing(files[:10000], loop, cores = 10)"
   ]
  },
  {
   "cell_type": "code",
   "execution_count": 5,
   "id": "9cced56e",
   "metadata": {
    "scrolled": true
   },
   "outputs": [
    {
     "data": {
      "text/plain": [
       "9675"
      ]
     },
     "execution_count": 5,
     "metadata": {},
     "output_type": "execute_result"
    }
   ],
   "source": [
    "files = glob('embedding/*.npy')\n",
    "len(files)"
   ]
  },
  {
   "cell_type": "code",
   "execution_count": 6,
   "id": "ea53ec19",
   "metadata": {},
   "outputs": [
    {
     "name": "stderr",
     "output_type": "stream",
     "text": [
      "100%|██████████████████████████████████████████████████████████████████████████████████| 9675/9675 [00:00<00:00, 22531.40it/s]\n"
     ]
    }
   ],
   "source": [
    "arrays = []\n",
    "for f in tqdm(files):\n",
    "    arrays.append(np.load(f))"
   ]
  },
  {
   "cell_type": "code",
   "execution_count": 7,
   "id": "fb124559",
   "metadata": {},
   "outputs": [],
   "source": [
    "embeddings = np.array(arrays)\n",
    "norms = np.linalg.norm(embeddings, axis=1, keepdims=True)\n",
    "normalized_embeddings = embeddings / norms"
   ]
  },
  {
   "cell_type": "code",
   "execution_count": 8,
   "id": "6f32820d",
   "metadata": {},
   "outputs": [
    {
     "name": "stdout",
     "output_type": "stream",
     "text": [
      "CPU times: user 31.2 ms, sys: 6.26 ms, total: 37.5 ms\n",
      "Wall time: 36.4 ms\n"
     ]
    }
   ],
   "source": [
    "%%time\n",
    "\n",
    "kd_tree = KDTree(normalized_embeddings, leafsize = 40)"
   ]
  },
  {
   "cell_type": "code",
   "execution_count": 9,
   "id": "f000e68f",
   "metadata": {},
   "outputs": [],
   "source": [
    "dist, ind = kd_tree.query(arrays[0][None], k=len(arrays))"
   ]
  },
  {
   "cell_type": "code",
   "execution_count": 10,
   "id": "19ecd133",
   "metadata": {},
   "outputs": [
    {
     "data": {
      "text/plain": [
       "(1, 9675)"
      ]
     },
     "execution_count": 10,
     "metadata": {},
     "output_type": "execute_result"
    }
   ],
   "source": [
    "dist.shape"
   ]
  },
  {
   "cell_type": "code",
   "execution_count": 11,
   "id": "ca908766",
   "metadata": {},
   "outputs": [],
   "source": [
    "threshold = 0.2"
   ]
  },
  {
   "cell_type": "code",
   "execution_count": 12,
   "id": "1dcfa749",
   "metadata": {},
   "outputs": [
    {
     "name": "stderr",
     "output_type": "stream",
     "text": [
      "100%|████████████████████████████████████████████████████████████████████████████████████| 9675/9675 [00:44<00:00, 215.92it/s]\n"
     ]
    }
   ],
   "source": [
    "visited = set()\n",
    "unique_indices = []\n",
    "\n",
    "for i in tqdm(range(len(arrays))):\n",
    "    if i in visited:\n",
    "        continue\n",
    "    neighbors = kd_tree.query_ball_point(normalized_embeddings[i], threshold)\n",
    "    if len(neighbors) > 1:\n",
    "        print(i, neighbors)\n",
    "    visited.update(neighbors)\n",
    "    \n",
    "    unique_indices.append(i)"
   ]
  },
  {
   "cell_type": "code",
   "execution_count": 13,
   "id": "d15d431a",
   "metadata": {},
   "outputs": [],
   "source": [
    "df = pd.read_parquet('filtered-politicians.parquet')"
   ]
  },
  {
   "cell_type": "code",
   "execution_count": 21,
   "id": "46fd8f70",
   "metadata": {},
   "outputs": [
    {
     "name": "stderr",
     "output_type": "stream",
     "text": [
      "`openai-whisper` is not available, native whisper processor is not available, will use huggingface processor instead.\n"
     ]
    }
   ],
   "source": [
    "import malaya_speech"
   ]
  },
  {
   "cell_type": "code",
   "execution_count": 22,
   "id": "c02ef56a",
   "metadata": {},
   "outputs": [],
   "source": [
    "model = malaya_speech.speaker_vector.nemo('huseinzol05/nemo-titanet_large').cuda()\n",
    "_ = model.eval()"
   ]
  },
  {
   "cell_type": "code",
   "execution_count": null,
   "id": "21e0bc26",
   "metadata": {},
   "outputs": [],
   "source": []
  }
 ],
 "metadata": {
  "kernelspec": {
   "display_name": "python3.10",
   "language": "python",
   "name": "python3.10"
  },
  "language_info": {
   "codemirror_mode": {
    "name": "ipython",
    "version": 3
   },
   "file_extension": ".py",
   "mimetype": "text/x-python",
   "name": "python",
   "nbconvert_exporter": "python",
   "pygments_lexer": "ipython3",
   "version": "3.10.15"
  }
 },
 "nbformat": 4,
 "nbformat_minor": 5
}
