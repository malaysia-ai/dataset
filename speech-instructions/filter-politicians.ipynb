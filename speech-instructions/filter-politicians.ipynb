{
 "cells": [
  {
   "cell_type": "code",
   "execution_count": 1,
   "id": "3c883f91",
   "metadata": {},
   "outputs": [],
   "source": [
    "# !wget https://huggingface.co/Zyphra/Zonos-v0.1-speaker-embedding/resolve/main/ResNet293_SimAM_ASP_base.pt"
   ]
  },
  {
   "cell_type": "code",
   "execution_count": 1,
   "id": "bf4cd179",
   "metadata": {},
   "outputs": [],
   "source": [
    "import os\n",
    "\n",
    "os.environ['CUDA_VISIBLE_DEVICES'] = '1'\n",
    "os.environ['TF_FORCE_GPU_ALLOW_GROWTH'] = 'true'"
   ]
  },
  {
   "cell_type": "code",
   "execution_count": 10,
   "id": "1a51f3c2",
   "metadata": {},
   "outputs": [
    {
     "data": {
      "text/plain": [
       "{'idx': 0, 'prev_idx': -1}"
      ]
     },
     "execution_count": 10,
     "metadata": {},
     "output_type": "execute_result"
    }
   ],
   "source": [
    "import torch\n",
    "\n",
    "available_gpus = [torch.cuda.device(i) for i in range(torch.cuda.device_count())]\n",
    "available_gpus[0].__dict__"
   ]
  },
  {
   "cell_type": "code",
   "execution_count": 50,
   "id": "1ac7cbf3",
   "metadata": {},
   "outputs": [],
   "source": [
    "import pandas as pd\n",
    "import numpy as np\n",
    "from tqdm import tqdm\n",
    "import torchaudio\n",
    "from speaker_cloning import SpeakerEmbedding"
   ]
  },
  {
   "cell_type": "code",
   "execution_count": 42,
   "id": "56d3111e",
   "metadata": {
    "scrolled": true
   },
   "outputs": [
    {
     "name": "stderr",
     "output_type": "stream",
     "text": [
      "100%|███████████████████████████████████████████████████████████████████████████| 2033890/2033890 [00:13<00:00, 146206.60it/s]\n",
      "100%|██████████████████████████████████████████████████████████████████████████████| 191545/191545 [00:02<00:00, 76849.55it/s]\n"
     ]
    },
    {
     "data": {
      "text/plain": [
       "636921"
      ]
     },
     "execution_count": 42,
     "metadata": {},
     "output_type": "execute_result"
    }
   ],
   "source": [
    "df = pd.read_parquet('/home/husein/ssd4/verify-text.parquet')\n",
    "filtered = []\n",
    "for i in tqdm(range(len(df))):\n",
    "    if 'parlimen-24k' in df['audio'].iloc[i]:\n",
    "        row = df.iloc[i].to_dict()\n",
    "        f = os.path.join('/home/husein/ssd4/', row['audio'])\n",
    "        row['audio'] = f\n",
    "        filtered.append(row)\n",
    "        \n",
    "df = pd.read_parquet('/home/husein/ssd4/verify-text-chunk-parliament.parquet')\n",
    "for i in tqdm(range(len(df))):\n",
    "    row = df.iloc[i].to_dict()\n",
    "    f = os.path.join('/home/husein/ssd4/', row['audio'])\n",
    "    row['audio'] = f\n",
    "    filtered.append(row)\n",
    "    \n",
    "len(filtered)"
   ]
  }
 ],
 "metadata": {
  "kernelspec": {
   "display_name": "python3.10",
   "language": "python",
   "name": "python3.10"
  },
  "language_info": {
   "codemirror_mode": {
    "name": "ipython",
    "version": 3
   },
   "file_extension": ".py",
   "mimetype": "text/x-python",
   "name": "python",
   "nbconvert_exporter": "python",
   "pygments_lexer": "ipython3",
   "version": "3.10.15"
  }
 },
 "nbformat": 4,
 "nbformat_minor": 5
}
