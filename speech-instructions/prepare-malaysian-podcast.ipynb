{
 "cells": [
  {
   "cell_type": "code",
   "execution_count": 5,
   "id": "1ac7cbf3",
   "metadata": {},
   "outputs": [],
   "source": [
    "import pandas as pd\n",
    "import numpy as np\n",
    "from tqdm import tqdm\n",
    "import torchaudio\n",
    "import os"
   ]
  },
  {
   "cell_type": "code",
   "execution_count": 6,
   "id": "64cd5042",
   "metadata": {
    "scrolled": true
   },
   "outputs": [
    {
     "name": "stderr",
     "output_type": "stream",
     "text": [
      "100%|███████████████████████████████████████████████████████████████████████████| 2033890/2033890 [00:08<00:00, 244819.71it/s]\n"
     ]
    }
   ],
   "source": [
    "df = pd.read_parquet('/home/husein/ssd4/verify-text.parquet')\n",
    "filtered = []\n",
    "for i in tqdm(range(len(df))):\n",
    "    if 'podcast_processed' in df['audio'].iloc[i]:\n",
    "        row = df.iloc[i].to_dict()\n",
    "        f = os.path.join('/home/husein/ssd4/', row['audio'])\n",
    "        row['audio'] = f\n",
    "        filtered.append(row)"
   ]
  },
  {
   "cell_type": "code",
   "execution_count": 7,
   "id": "438c8a4e",
   "metadata": {},
   "outputs": [
    {
     "data": {
      "text/plain": [
       "75965"
      ]
     },
     "execution_count": 7,
     "metadata": {},
     "output_type": "execute_result"
    }
   ],
   "source": [
    "len(filtered)"
   ]
  },
  {
   "cell_type": "code",
   "execution_count": 8,
   "id": "f625ca99",
   "metadata": {},
   "outputs": [],
   "source": [
    "pd.DataFrame(filtered).to_parquet('filtered-podcast.parquet')"
   ]
  }
 ],
 "metadata": {
  "kernelspec": {
   "display_name": "python3.10",
   "language": "python",
   "name": "python3.10"
  },
  "language_info": {
   "codemirror_mode": {
    "name": "ipython",
    "version": 3
   },
   "file_extension": ".py",
   "mimetype": "text/x-python",
   "name": "python",
   "nbconvert_exporter": "python",
   "pygments_lexer": "ipython3",
   "version": "3.10.15"
  }
 },
 "nbformat": 4,
 "nbformat_minor": 5
}
