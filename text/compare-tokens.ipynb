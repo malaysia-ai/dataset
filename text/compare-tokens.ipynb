{
 "cells": [
  {
   "cell_type": "code",
   "execution_count": 2,
   "id": "f4d6d81b",
   "metadata": {},
   "outputs": [],
   "source": [
    "# !wget https://huggingface.co/datasets/mesolitica/malaysian-ultrachat/resolve/main/ultrachat-astroawani-malay.jsonl"
   ]
  },
  {
   "cell_type": "code",
   "execution_count": 12,
   "id": "e7743bc8",
   "metadata": {},
   "outputs": [],
   "source": [
    "import json\n",
    "from tqdm import tqdm\n",
    "from transformers import AutoTokenizer"
   ]
  },
  {
   "cell_type": "code",
   "execution_count": 15,
   "id": "1709e65a",
   "metadata": {},
   "outputs": [],
   "source": [
    "tokenizer_mallam = AutoTokenizer.from_pretrained('malaysia-ai/sentencepiece-tokenizer')\n",
    "tokenizer_llama2 = AutoTokenizer.from_pretrained('mesolitica/llama-7b-hf-2048-fpf')\n",
    "tokenizer_mistral = AutoTokenizer.from_pretrained('mesolitica/mistral-7b-4096-fpf')"
   ]
  },
  {
   "cell_type": "code",
   "execution_count": 18,
   "id": "9655d899",
   "metadata": {},
   "outputs": [
    {
     "name": "stderr",
     "output_type": "stream",
     "text": [
      "60198it [04:20, 230.88it/s]\n"
     ]
    }
   ],
   "source": [
    "mallam, llama2, mistral = 0, 0, 0\n",
    "with open('ultrachat-astroawani-malay.jsonl') as fopen:\n",
    "    for l in tqdm(fopen):\n",
    "        l = json.loads(l)\n",
    "        for r in l[1:]:\n",
    "            if r['content_ms']:\n",
    "                mallam += len(tokenizer_mallam(r['content_ms'])['input_ids'])\n",
    "                llama2 += len(tokenizer_llama2(r['content_ms'])['input_ids'])\n",
    "                mistral += len(tokenizer_mistral(r['content_ms'])['input_ids'])"
   ]
  },
  {
   "cell_type": "code",
   "execution_count": 19,
   "id": "7b5901bd",
   "metadata": {},
   "outputs": [
    {
     "data": {
      "text/plain": [
       "(26157664, 60391551, 60823929)"
      ]
     },
     "execution_count": 19,
     "metadata": {},
     "output_type": "execute_result"
    }
   ],
   "source": [
    "mallam, llama2, mistral"
   ]
  },
  {
   "cell_type": "code",
   "execution_count": 22,
   "id": "3e01dec0",
   "metadata": {},
   "outputs": [
    {
     "data": {
      "text/plain": [
       "0.4300554803028262"
      ]
     },
     "execution_count": 22,
     "metadata": {},
     "output_type": "execute_result"
    }
   ],
   "source": [
    "(mallam / 60823929)"
   ]
  },
  {
   "cell_type": "code",
   "execution_count": null,
   "id": "1a1c8e06",
   "metadata": {},
   "outputs": [],
   "source": []
  }
 ],
 "metadata": {
  "kernelspec": {
   "display_name": "Python 3 (ipykernel)",
   "language": "python",
   "name": "python3"
  },
  "language_info": {
   "codemirror_mode": {
    "name": "ipython",
    "version": 3
   },
   "file_extension": ".py",
   "mimetype": "text/x-python",
   "name": "python",
   "nbconvert_exporter": "python",
   "pygments_lexer": "ipython3",
   "version": "3.10.12"
  }
 },
 "nbformat": 4,
 "nbformat_minor": 5
}
