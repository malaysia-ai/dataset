{
 "cells": [
  {
   "cell_type": "code",
   "execution_count": 75,
   "id": "05913d38",
   "metadata": {},
   "outputs": [],
   "source": [
    "import json\n",
    "from glob import glob\n",
    "from tqdm import tqdm"
   ]
  },
  {
   "cell_type": "code",
   "execution_count": 89,
   "id": "55c6365c",
   "metadata": {},
   "outputs": [],
   "source": [
    "http_errors = [\n",
    "        \"400 Bad Request\", \"401 Unauthorized\", \"402 Payment Required\", \"403 Forbidden\", \"404 Not Found\",\n",
    "        \"405 Method Not Allowed\", \"406 Not Acceptable\", \"407 Proxy Authentication Required\", \"408 Request Timeout\",\n",
    "        \"409 Conflict\", \"410 Gone\", \"411 Length Required\", \"412 Precondition Failed\", \"413 Payload Too Large\",\n",
    "        \"414 URI Too Long\", \"415 Unsupported Media Type\", \"416 Range Not Satisfiable\", \"417 Expectation Failed\",\n",
    "        \"418 I'm a teapot\", \"421 Misdirected Request\", \"422 Unprocessable Entity\", \"423 Locked\", \"424 Failed Dependency\",\n",
    "        \"425 Too Early\", \"426 Upgrade Required\", \"428 Precondition Required\", \"429 Too Many Requests\",\n",
    "        \"431 Request Header Fields Too Large\", \"451 Unavailable For Legal Reasons\", \"500 Internal Server Error\",\n",
    "        \"501 Not Implemented\", \"502 Bad Gateway\", \"503 Service Unavailable\", \"504 Gateway Timeout\",\n",
    "        \"505 HTTP Version Not Supported\", \"506 Variant Also Negotiates\", \"507 Insufficient Storage\",\n",
    "        \"508 Loop Detected\", \"510 Not Extended\", \"511 Network Authentication Required\"\n",
    "    ]\n",
    "\n",
    "rejected = [\n",
    "    'Internal Server Error',\n",
    "    '404',\n",
    "    '__NOEDITSECTION__',\n",
    "    'enter your username and password',\n",
    "    'Login',\n",
    "    'forgotten your password',\n",
    "    'cookies enabled',\n",
    "    'sign in',\n",
    "    'tentang kami',\n",
    "    'skip to content',\n",
    "    'hubungi kami',\n",
    "    'laman utama',\n",
    "    'enable JavaScript in your browser.',\n",
    "    'The page cannot be displayed',\n",
    "    'site or edit the error_page',\n",
    "    'Hakcipta terpelihara',\n",
    "    'Copyright ©'\n",
    "]\n",
    "\n",
    "rejected.extend(http_errors)"
   ]
  },
  {
   "cell_type": "code",
   "execution_count": 80,
   "id": "54284aa7",
   "metadata": {},
   "outputs": [],
   "source": [
    "files = sorted(glob('crawl-my-website/snapshot/*.json'))"
   ]
  },
  {
   "cell_type": "code",
   "execution_count": 114,
   "id": "85361659",
   "metadata": {},
   "outputs": [],
   "source": [
    "!rm hf-datasets/dedupe-datasets/snapshot.jsonl"
   ]
  },
  {
   "cell_type": "code",
   "execution_count": 115,
   "id": "ae3d0a6d",
   "metadata": {},
   "outputs": [
    {
     "name": "stderr",
     "output_type": "stream",
     "text": [
      "100%|██████████| 348/348 [03:33<00:00,  1.63it/s]\n"
     ]
    }
   ],
   "source": [
    "processed = set()\n",
    "with open('hf-datasets/raw-datasets/snapshot.jsonl', 'w') as fopen_l:\n",
    "    for f in tqdm(files):\n",
    "        with open(f) as fopen:\n",
    "            for l in fopen:\n",
    "                l = json.loads(l)\n",
    "                if l['url'] in processed:\n",
    "                    continue\n",
    "\n",
    "                splitted = l['data'].split('\\n')\n",
    "                splitted = [s for s in splitted if len(s) > 50]\n",
    "                splitted = [s.strip() for s in splitted if all([r not in s for r in rejected])]\n",
    "                if len(splitted):\n",
    "                    data = {\n",
    "                        'url': l['url'],\n",
    "                        'text': splitted\n",
    "                    }\n",
    "                    fopen_l.write(f'{json.dumps(data)}\\n')\n",
    "                    fopen_l.flush()\n",
    "                    \n",
    "                processed.add(l['url'])"
   ]
  },
  {
   "cell_type": "code",
   "execution_count": 116,
   "id": "8aad7de6",
   "metadata": {},
   "outputs": [
    {
     "data": {
      "text/plain": [
       "428982"
      ]
     },
     "execution_count": 116,
     "metadata": {},
     "output_type": "execute_result"
    }
   ],
   "source": [
    "len(processed)"
   ]
  },
  {
   "cell_type": "code",
   "execution_count": null,
   "id": "2059852b",
   "metadata": {},
   "outputs": [],
   "source": []
  }
 ],
 "metadata": {
  "kernelspec": {
   "display_name": "Python 3 (ipykernel)",
   "language": "python",
   "name": "python3"
  },
  "language_info": {
   "codemirror_mode": {
    "name": "ipython",
    "version": 3
   },
   "file_extension": ".py",
   "mimetype": "text/x-python",
   "name": "python",
   "nbconvert_exporter": "python",
   "pygments_lexer": "ipython3",
   "version": "3.10.12"
  }
 },
 "nbformat": 4,
 "nbformat_minor": 5
}
