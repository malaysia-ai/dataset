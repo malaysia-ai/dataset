{
 "cells": [
  {
   "cell_type": "code",
   "execution_count": 2,
   "id": "182bbc0c",
   "metadata": {},
   "outputs": [],
   "source": [
    "import json\n",
    "import pandas as pd\n",
    "from datasets import Dataset\n",
    "from bs4 import BeautifulSoup\n",
    "from tqdm import tqdm"
   ]
  },
  {
   "cell_type": "code",
   "execution_count": 16,
   "id": "aef4b4d5",
   "metadata": {},
   "outputs": [
    {
     "name": "stderr",
     "output_type": "stream",
     "text": [
      "373188it [00:07, 49879.22it/s]\n"
     ]
    }
   ],
   "source": [
    "data = []\n",
    "with open('hf-datasets/raw-datasets/snapshot.jsonl') as fopen:\n",
    "    for l in tqdm(fopen):\n",
    "        data.append('\\n'.join(json.loads(l)['text']))"
   ]
  },
  {
   "cell_type": "code",
   "execution_count": 17,
   "id": "0c4390a8",
   "metadata": {},
   "outputs": [
    {
     "data": {
      "text/plain": [
       "373188"
      ]
     },
     "execution_count": 17,
     "metadata": {},
     "output_type": "execute_result"
    }
   ],
   "source": [
    "len(data)"
   ]
  },
  {
   "cell_type": "code",
   "execution_count": 18,
   "id": "e66483cc",
   "metadata": {},
   "outputs": [],
   "source": [
    "data_dict = {\n",
    "    'text': data\n",
    "}"
   ]
  },
  {
   "cell_type": "code",
   "execution_count": 19,
   "id": "215e38b3",
   "metadata": {
    "scrolled": true
   },
   "outputs": [],
   "source": [
    "dataset = Dataset.from_dict(data_dict)"
   ]
  },
  {
   "cell_type": "code",
   "execution_count": 20,
   "id": "98957fc5",
   "metadata": {},
   "outputs": [
    {
     "data": {
      "text/plain": [
       "Dataset({\n",
       "    features: ['text'],\n",
       "    num_rows: 373188\n",
       "})"
      ]
     },
     "execution_count": 20,
     "metadata": {},
     "output_type": "execute_result"
    }
   ],
   "source": [
    "dataset"
   ]
  },
  {
   "cell_type": "code",
   "execution_count": 21,
   "id": "a6b6ff2e",
   "metadata": {
    "scrolled": false
   },
   "outputs": [
    {
     "data": {
      "application/vnd.jupyter.widget-view+json": {
       "model_id": "",
       "version_major": 2,
       "version_minor": 0
      },
      "text/plain": [
       "Saving the dataset (0/5 shards):   0%|          | 0/373188 [00:00<?, ? examples/s]"
      ]
     },
     "metadata": {},
     "output_type": "display_data"
    }
   ],
   "source": [
    "dataset.save_to_disk(\"hf-datasets/raw-datasets/snapshot\")"
   ]
  },
  {
   "cell_type": "code",
   "execution_count": 22,
   "id": "af44319b",
   "metadata": {},
   "outputs": [
    {
     "name": "stdout",
     "output_type": "stream",
     "text": [
      "2.0G\thf-datasets/raw-datasets/snapshot\r\n"
     ]
    }
   ],
   "source": [
    "!du -hs hf-datasets/raw-datasets/snapshot"
   ]
  },
  {
   "cell_type": "markdown",
   "id": "42a65198",
   "metadata": {},
   "source": [
    "### 2. Run below command\n",
    "\n",
    "make sure directory for the script is correct before running the command\n",
    "\n",
    "- path -  your dataset to dedupe path\n",
    "- name - relevant only when u use dataset directly from huggingface\n",
    "- output - output directory of the dedupe dataset\n",
    "- column - column of the text we are going to remove duplicate\n",
    "- threshold - jaccard similarity threshold\n",
    "- local - (local dataset or directly from huggingface) remove if dataset is not local"
   ]
  },
  {
   "cell_type": "code",
   "execution_count": 23,
   "id": "90f88780",
   "metadata": {
    "scrolled": true
   },
   "outputs": [
    {
     "data": {
      "text/plain": [
       "'python3 -m text_dedup.minhash   --path hf-datasets/raw-datasets/snapshot   --split train   --cache_dir ./cache   --output hf-datasets/dedupe-datasets/snapshot   --column text   --batch_size 10000   --threshold 0.95   --min_length 1   --local'"
      ]
     },
     "execution_count": 23,
     "metadata": {},
     "output_type": "execute_result"
    }
   ],
   "source": [
    "command = f\"python3 -m text_dedup.minhash \\\n",
    "  --path hf-datasets/raw-datasets/snapshot \\\n",
    "  --split train \\\n",
    "  --cache_dir ./cache \\\n",
    "  --output hf-datasets/dedupe-datasets/snapshot \\\n",
    "  --column text \\\n",
    "  --batch_size 10000 \\\n",
    "  --threshold 0.95 \\\n",
    "  --min_length 1 \\\n",
    "  --local\"\n",
    "\n",
    "command"
   ]
  },
  {
   "cell_type": "code",
   "execution_count": 25,
   "id": "f5d8c16d",
   "metadata": {},
   "outputs": [],
   "source": [
    "!rm -rf hf-datasets/dedupe-datasets/snapshot"
   ]
  },
  {
   "cell_type": "code",
   "execution_count": 30,
   "id": "7533c3b2",
   "metadata": {},
   "outputs": [],
   "source": [
    "import subprocess\n",
    "subprocess.run(command, shell=True)"
   ]
  },
  {
   "cell_type": "markdown",
   "id": "c78e95bc",
   "metadata": {},
   "source": [
    "The script produced the following\n",
    "\n",
    "- duplicates.csv : containing duplicate pairs indices (document index)\n",
    "- duplicate_cluster.csv: the text of duplicate pairs for view\n",
    "- the deduped dataset in huggingface dataset type (from output argument)\n",
    "- dedup dataset in jsonl format"
   ]
  },
  {
   "cell_type": "code",
   "execution_count": 27,
   "id": "3745011d",
   "metadata": {},
   "outputs": [
    {
     "name": "stdout",
     "output_type": "stream",
     "text": [
      "209177 hf-datasets/dedupe-datasets/snapshot.jsonl\r\n"
     ]
    }
   ],
   "source": [
    "!wc -l hf-datasets/dedupe-datasets/snapshot.jsonl"
   ]
  },
  {
   "cell_type": "code",
   "execution_count": 28,
   "id": "d56c91e8",
   "metadata": {},
   "outputs": [
    {
     "name": "stdout",
     "output_type": "stream",
     "text": [
      "-rw-r--r-- 1 ubuntu ubuntu 1.3G Aug 18 02:43 hf-datasets/dedupe-datasets/snapshot.jsonl\r\n"
     ]
    }
   ],
   "source": [
    "!ls -lh hf-datasets/dedupe-datasets/snapshot.jsonl"
   ]
  },
  {
   "cell_type": "code",
   "execution_count": 29,
   "id": "f32a5e6e",
   "metadata": {},
   "outputs": [],
   "source": [
    "!rm -rf hf-datasets/dedupe-datasets/snapshot hf-datasets/raw-datasets/snapshot"
   ]
  }
 ],
 "metadata": {
  "kernelspec": {
   "display_name": "Python 3 (ipykernel)",
   "language": "python",
   "name": "python3"
  },
  "language_info": {
   "codemirror_mode": {
    "name": "ipython",
    "version": 3
   },
   "file_extension": ".py",
   "mimetype": "text/x-python",
   "name": "python",
   "nbconvert_exporter": "python",
   "pygments_lexer": "ipython3",
   "version": "3.10.12"
  }
 },
 "nbformat": 4,
 "nbformat_minor": 5
}
