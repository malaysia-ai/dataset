{
 "cells": [
  {
   "cell_type": "code",
   "execution_count": 13,
   "id": "e58f50a7-ac12-4bac-ab97-ce10a1de9154",
   "metadata": {},
   "outputs": [],
   "source": [
    "from datasets import load_dataset\n",
    "from tqdm import tqdm\n",
    "import json"
   ]
  },
  {
   "cell_type": "code",
   "execution_count": 5,
   "id": "015519ff-efb4-4d80-adfd-7e826822af76",
   "metadata": {},
   "outputs": [
    {
     "data": {
      "application/vnd.jupyter.widget-view+json": {
       "model_id": "dfc39a6763534034a70ba3a3e960169d",
       "version_major": 2,
       "version_minor": 0
      },
      "text/plain": [
       "Resolving data files:   0%|          | 0/104 [00:00<?, ?it/s]"
      ]
     },
     "metadata": {},
     "output_type": "display_data"
    },
    {
     "data": {
      "application/vnd.jupyter.widget-view+json": {
       "model_id": "0a44faca2a464e1d977bba4a428ae569",
       "version_major": 2,
       "version_minor": 0
      },
      "text/plain": [
       "Resolving data files:   0%|          | 0/234 [00:00<?, ?it/s]"
      ]
     },
     "metadata": {},
     "output_type": "display_data"
    }
   ],
   "source": [
    "ds = load_dataset(\"HuggingFaceTB/smollm-corpus\", \"fineweb-edu-dedup\", streaming = True, split = 'train')"
   ]
  },
  {
   "cell_type": "code",
   "execution_count": 15,
   "id": "2c6d0b3d-37e1-4789-9689-74996c7688be",
   "metadata": {},
   "outputs": [],
   "source": [
    "# index = 0\n",
    "# with open('fineweb-edu-dedup-sample-10M.jsonl', 'w') as fopen_l:\n",
    "#     for row in tqdm(ds):\n",
    "#         t = row['text']\n",
    "#         fopen_l.write(f'{json.dumps(t)}\\n')\n",
    "#         index += 1\n",
    "#         if index > 1e7:\n",
    "#             break"
   ]
  },
  {
   "cell_type": "code",
   "execution_count": 16,
   "id": "89ad1f82-8041-47cf-a640-a20ee50073d9",
   "metadata": {},
   "outputs": [],
   "source": [
    "!mv fineweb-edu-dedup-sample-10M.jsonl fineweb-edu-dedup-sample-5M.jsonl"
   ]
  },
  {
   "cell_type": "code",
   "execution_count": 17,
   "id": "e6a3642b-5a8a-4018-ae8f-be5c9009fdbc",
   "metadata": {},
   "outputs": [
    {
     "name": "stdout",
     "output_type": "stream",
     "text": [
      "-rw-r--r-- 1 sagemaker-user users 22G Aug  5 08:05 fineweb-edu-dedup-sample-5M.jsonl\n"
     ]
    }
   ],
   "source": [
    "!ls -lh fineweb-edu-dedup-sample-5M.jsonl"
   ]
  },
  {
   "cell_type": "code",
   "execution_count": null,
   "id": "c4fe5407-7877-4c10-9084-e62ed97ecc8d",
   "metadata": {},
   "outputs": [
    {
     "data": {
      "application/vnd.jupyter.widget-view+json": {
       "model_id": "4717bd184fde4ed094f07eca7572f2f7",
       "version_major": 2,
       "version_minor": 0
      },
      "text/plain": [
       "fineweb-edu-dedup-sample-5M.jsonl:   0%|          | 0.00/23.5G [00:00<?, ?B/s]"
      ]
     },
     "metadata": {},
     "output_type": "display_data"
    }
   ],
   "source": [
    "from huggingface_hub import HfApi\n",
    "api = HfApi()\n",
    "api.upload_file(\n",
    "    path_or_fileobj=\"fineweb-edu-dedup-sample-5M.jsonl\",\n",
    "    path_in_repo=\"fineweb-edu-dedup-sample-5M.jsonl\",\n",
    "    repo_id=\"malaysia-ai/pretrain-text-dataset\",\n",
    "    repo_type=\"dataset\",\n",
    ")\n"
   ]
  },
  {
   "cell_type": "code",
   "execution_count": null,
   "id": "7c93660f-9e7b-4ce8-9c98-c13899b20c1b",
   "metadata": {},
   "outputs": [],
   "source": []
  }
 ],
 "metadata": {
  "kernelspec": {
   "display_name": "Python 3 (ipykernel)",
   "language": "python",
   "name": "python3"
  },
  "language_info": {
   "codemirror_mode": {
    "name": "ipython",
    "version": 3
   },
   "file_extension": ".py",
   "mimetype": "text/x-python",
   "name": "python",
   "nbconvert_exporter": "python",
   "pygments_lexer": "ipython3",
   "version": "3.10.14"
  }
 },
 "nbformat": 4,
 "nbformat_minor": 5
}
