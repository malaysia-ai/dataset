{
 "cells": [
  {
   "cell_type": "code",
   "execution_count": 1,
   "id": "e7d31a75",
   "metadata": {},
   "outputs": [],
   "source": [
    "from glob import glob\n",
    "from streaming import MDSWriter\n",
    "from streaming import LocalDataset, StreamingDataset\n",
    "from transformers import default_data_collator, DataCollatorForLanguageModeling\n",
    "from tqdm import tqdm\n",
    "import numpy as np"
   ]
  },
  {
   "cell_type": "code",
   "execution_count": 2,
   "id": "1aefad1a",
   "metadata": {},
   "outputs": [],
   "source": [
    "folders = sorted(glob('tokenized_indexes/tokenized-*'), key = lambda x: int(x.split('-')[-1]))"
   ]
  },
  {
   "cell_type": "code",
   "execution_count": 3,
   "id": "d3faf83f",
   "metadata": {},
   "outputs": [],
   "source": [
    "folders.extend(sorted(glob('tokenized_extra/tokenized-*'), key = lambda x: int(x.split('-')[-1])))"
   ]
  },
  {
   "cell_type": "code",
   "execution_count": 4,
   "id": "19d0ba94",
   "metadata": {},
   "outputs": [
    {
     "data": {
      "text/plain": [
       "['tokenized_indexes/tokenized-0',\n",
       " 'tokenized_indexes/tokenized-1',\n",
       " 'tokenized_indexes/tokenized-2',\n",
       " 'tokenized_indexes/tokenized-3',\n",
       " 'tokenized_indexes/tokenized-4',\n",
       " 'tokenized_extra/tokenized-0',\n",
       " 'tokenized_extra/tokenized-1',\n",
       " 'tokenized_extra/tokenized-2',\n",
       " 'tokenized_extra/tokenized-3',\n",
       " 'tokenized_extra/tokenized-4',\n",
       " 'tokenized_extra/tokenized-5',\n",
       " 'tokenized_extra/tokenized-6',\n",
       " 'tokenized_extra/tokenized-7',\n",
       " 'tokenized_extra/tokenized-8',\n",
       " 'tokenized_extra/tokenized-9',\n",
       " 'tokenized_extra/tokenized-10',\n",
       " 'tokenized_extra/tokenized-11',\n",
       " 'tokenized_extra/tokenized-12']"
      ]
     },
     "execution_count": 4,
     "metadata": {},
     "output_type": "execute_result"
    }
   ],
   "source": [
    "folders"
   ]
  },
  {
   "cell_type": "code",
   "execution_count": 5,
   "id": "1045f25d",
   "metadata": {},
   "outputs": [],
   "source": [
    "from streaming.base.format.mds.encodings import Encoding, _encodings\n",
    "\n",
    "class UInt32(Encoding):\n",
    "    def encode(self, obj) -> bytes:\n",
    "        return obj.tobytes()\n",
    "\n",
    "    def decode(self, data: bytes):\n",
    "        return np.frombuffer(data, np.uint32)\n",
    "\n",
    "_encodings['uint32'] = UInt32"
   ]
  },
  {
   "cell_type": "code",
   "execution_count": 6,
   "id": "c446bcaa",
   "metadata": {},
   "outputs": [],
   "source": [
    "columns = {\n",
    "    'input_ids': 'uint32',\n",
    "}\n",
    "\n",
    "compression = 'zstd'\n",
    "hashes = 'sha1', 'xxh64'"
   ]
  },
  {
   "cell_type": "code",
   "execution_count": 7,
   "id": "df19e976",
   "metadata": {},
   "outputs": [],
   "source": [
    "!rm -rf combine-all"
   ]
  },
  {
   "cell_type": "code",
   "execution_count": 8,
   "id": "74c5524e",
   "metadata": {
    "scrolled": true
   },
   "outputs": [
    {
     "name": "stderr",
     "output_type": "stream",
     "text": [
      "Because `predownload` was not specified, it will default to 8*batch_size if batch_size is not None, otherwise 64. Prior to Streaming v0.7.0, `predownload` defaulted to max(batch_size, 256 * batch_size // num_canonical_nodes).\n",
      "100%|██████████| 395538/395538 [00:41<00:00, 9537.06it/s] \n",
      "Because `predownload` was not specified, it will default to 8*batch_size if batch_size is not None, otherwise 64. Prior to Streaming v0.7.0, `predownload` defaulted to max(batch_size, 256 * batch_size // num_canonical_nodes).\n",
      "100%|██████████| 148712/148712 [00:28<00:00, 5188.04it/s]\n",
      "Because `predownload` was not specified, it will default to 8*batch_size if batch_size is not None, otherwise 64. Prior to Streaming v0.7.0, `predownload` defaulted to max(batch_size, 256 * batch_size // num_canonical_nodes).\n",
      "100%|██████████| 48630/48630 [00:05<00:00, 9434.79it/s]\n",
      "Because `predownload` was not specified, it will default to 8*batch_size if batch_size is not None, otherwise 64. Prior to Streaming v0.7.0, `predownload` defaulted to max(batch_size, 256 * batch_size // num_canonical_nodes).\n",
      "100%|██████████| 202719/202719 [00:36<00:00, 5569.80it/s]\n",
      "Because `predownload` was not specified, it will default to 8*batch_size if batch_size is not None, otherwise 64. Prior to Streaming v0.7.0, `predownload` defaulted to max(batch_size, 256 * batch_size // num_canonical_nodes).\n",
      "100%|██████████| 146078/146078 [00:21<00:00, 6735.48it/s]\n",
      "Because `predownload` was not specified, it will default to 8*batch_size if batch_size is not None, otherwise 64. Prior to Streaming v0.7.0, `predownload` defaulted to max(batch_size, 256 * batch_size // num_canonical_nodes).\n",
      "100%|██████████| 10443/10443 [00:07<00:00, 1427.82it/s]\n",
      "Because `predownload` was not specified, it will default to 8*batch_size if batch_size is not None, otherwise 64. Prior to Streaming v0.7.0, `predownload` defaulted to max(batch_size, 256 * batch_size // num_canonical_nodes).\n",
      "100%|██████████| 10341/10341 [00:05<00:00, 1892.72it/s]\n",
      "Because `predownload` was not specified, it will default to 8*batch_size if batch_size is not None, otherwise 64. Prior to Streaming v0.7.0, `predownload` defaulted to max(batch_size, 256 * batch_size // num_canonical_nodes).\n",
      "100%|██████████| 10284/10284 [00:05<00:00, 2011.97it/s]\n",
      "Because `predownload` was not specified, it will default to 8*batch_size if batch_size is not None, otherwise 64. Prior to Streaming v0.7.0, `predownload` defaulted to max(batch_size, 256 * batch_size // num_canonical_nodes).\n",
      "100%|██████████| 10344/10344 [00:05<00:00, 1780.73it/s]\n",
      "Because `predownload` was not specified, it will default to 8*batch_size if batch_size is not None, otherwise 64. Prior to Streaming v0.7.0, `predownload` defaulted to max(batch_size, 256 * batch_size // num_canonical_nodes).\n",
      "100%|██████████| 10280/10280 [00:04<00:00, 2059.08it/s]\n",
      "Because `predownload` was not specified, it will default to 8*batch_size if batch_size is not None, otherwise 64. Prior to Streaming v0.7.0, `predownload` defaulted to max(batch_size, 256 * batch_size // num_canonical_nodes).\n",
      "100%|██████████| 10290/10290 [00:04<00:00, 2078.91it/s]\n",
      "Because `predownload` was not specified, it will default to 8*batch_size if batch_size is not None, otherwise 64. Prior to Streaming v0.7.0, `predownload` defaulted to max(batch_size, 256 * batch_size // num_canonical_nodes).\n",
      "100%|██████████| 10348/10348 [00:05<00:00, 1917.08it/s]\n",
      "Because `predownload` was not specified, it will default to 8*batch_size if batch_size is not None, otherwise 64. Prior to Streaming v0.7.0, `predownload` defaulted to max(batch_size, 256 * batch_size // num_canonical_nodes).\n",
      "100%|██████████| 10464/10464 [00:06<00:00, 1645.71it/s]\n",
      "Because `predownload` was not specified, it will default to 8*batch_size if batch_size is not None, otherwise 64. Prior to Streaming v0.7.0, `predownload` defaulted to max(batch_size, 256 * batch_size // num_canonical_nodes).\n",
      "100%|██████████| 10396/10396 [00:05<00:00, 2018.06it/s]\n",
      "Because `predownload` was not specified, it will default to 8*batch_size if batch_size is not None, otherwise 64. Prior to Streaming v0.7.0, `predownload` defaulted to max(batch_size, 256 * batch_size // num_canonical_nodes).\n",
      "100%|██████████| 10300/10300 [00:04<00:00, 2169.37it/s]\n",
      "Because `predownload` was not specified, it will default to 8*batch_size if batch_size is not None, otherwise 64. Prior to Streaming v0.7.0, `predownload` defaulted to max(batch_size, 256 * batch_size // num_canonical_nodes).\n",
      "100%|██████████| 10331/10331 [00:05<00:00, 1760.34it/s]\n",
      "Because `predownload` was not specified, it will default to 8*batch_size if batch_size is not None, otherwise 64. Prior to Streaming v0.7.0, `predownload` defaulted to max(batch_size, 256 * batch_size // num_canonical_nodes).\n",
      "100%|██████████| 10224/10224 [00:04<00:00, 2218.60it/s]\n",
      "Because `predownload` was not specified, it will default to 8*batch_size if batch_size is not None, otherwise 64. Prior to Streaming v0.7.0, `predownload` defaulted to max(batch_size, 256 * batch_size // num_canonical_nodes).\n",
      "100%|██████████| 9677/9677 [00:02<00:00, 3884.44it/s]\n"
     ]
    }
   ],
   "source": [
    "with MDSWriter(out='combine-all', columns=columns, compression=None, hashes=hashes) as out:\n",
    "    for f in folders:\n",
    "        try:\n",
    "            dataset = StreamingDataset(local=f)\n",
    "            for i in tqdm(range(len(dataset))):\n",
    "                out.write(dataset[i])\n",
    "        except Exception as e:\n",
    "            print(e)\n",
    "            pass"
   ]
  },
  {
   "cell_type": "code",
   "execution_count": 10,
   "id": "4a992c8a",
   "metadata": {
    "scrolled": true
   },
   "outputs": [],
   "source": [
    "dataset = LocalDataset('combine-all')"
   ]
  },
  {
   "cell_type": "code",
   "execution_count": 18,
   "id": "c6466439",
   "metadata": {},
   "outputs": [
    {
     "data": {
      "text/plain": [
       "8.809668608"
      ]
     },
     "execution_count": 18,
     "metadata": {},
     "output_type": "execute_result"
    }
   ],
   "source": [
    "(len(dataset) * 8192) / 1e9"
   ]
  },
  {
   "cell_type": "code",
   "execution_count": 12,
   "id": "904f7527",
   "metadata": {
    "scrolled": true
   },
   "outputs": [],
   "source": [
    "from transformers import AutoTokenizer\n",
    "\n",
    "tokenizer = AutoTokenizer.from_pretrained('google/gemma-2b')"
   ]
  },
  {
   "cell_type": "code",
   "execution_count": 15,
   "id": "9db5219b",
   "metadata": {},
   "outputs": [
    {
     "data": {
      "text/plain": [
       "0.6605224609375"
      ]
     },
     "execution_count": 15,
     "metadata": {},
     "output_type": "execute_result"
    }
   ],
   "source": [
    "len(tokenizer.decode(dataset[-1]['input_ids']).split()) / len(dataset[-1]['input_ids'])"
   ]
  },
  {
   "cell_type": "code",
   "execution_count": 16,
   "id": "f44cf8a0",
   "metadata": {},
   "outputs": [
    {
     "data": {
      "text/plain": [
       "'0.1 cm (height) and the average of two measurements was used in the analyses. The age of the children was calculated in months from their birth dates (from birth certificates or mother’s memory) to the day of data collection. The age, weight and height of the children were then translated into three indices-weight-for-age (HAZ) and weight-for-height (WHZ). The three anthropometric indices were then expressed in terms of Z scores using the ANTHRO programme. The Z scores for all the indices (WAZ, HAZ and WHZ) were also categorized into the following (WHO, 1983): Significant underweight, stunting or wasting: <-2SD of the NCHS median for WAZ, HAZ or WHZ Mildly underweight, stunting or wasting: ≤ -2 SD ≤ x < -1 SD of the NCHS median for WAZ, HAZ or WHZ Zalilah Mohd. Sharif and Ang Merlin Normal: -1 SD ≤ x ≤ 2 SD of the NCHS median for WAZ, HAZ or WHZ High: > 2 SD of the NCHS median for WAZ, HAZ or WHZ Questionnaire A structured questionnaire was used to collect the demographic, socioeconomic and household food security information. Demographic and socioeconomic data collected were on household income, income per capita, income of father and mother, household size and educational evels of mother and father. For household foodsecurity, the Radimer/Cornell hunger and food insecurity instrument was utilized. The instrument was developed by Radimer et al. (1990) from the perspective of women who had experienced hunger through in-depth interviews with these women. Their responses were analyzed and yielded two conceptions of hunger – narrow (individual) and broad (household). The narrow description of hunger includes insufficient food intake, nutritional inadequacy, lack of choice and feelings of deprivations and disrupted eating patterns. The broader concept involves household food depletion, quality of diets, uncertainty on the sufficiency of household food supply (food anxiety) and acquisition in socially acceptable ways. Validity and reliability of the instrument were assessed through face, construct and content validity and item reliability, respectively. There are ten (10) items on the instrument and these items reflect four levels of household food insecurity with increasing severity – household food secure, household food secure, household food insecurity, individual food insecurity and child hunger. Each level of food insecurity (household, individual and child) has both quantitative and qualitative aspects of food intake. According to the Radimer conceptual framework (Radimer et al., 1990; Radimer et al., 1992), food insecurity or hunger is a managed process in that a woman has some control over the sequence in which various components of food insecurity or hunger are experienced, and the level to which one component is compromised before another is affected. Consequently, the managed process will identify households, women and children experiencing different components of hunger at different times and degrees. Household food insecurity, particularly the food anxiety component is experienced first, followed by compromises in quantity and quality of foods available in the household. The individual food insecurity refers to the adult’s (or mother’s) inadequate food intake (quality and quantity) while child hunger (the most severe form of food insecurity in the household) occurs only after the adults in the households and the children’s diet quality have been affected by household food shortages. The instrument rationalizes that in a food insecure household, children will be the last ones to go hungry (Table 1). Data analysis All data were first analyzed using descriptive statistics. For the analysis on socioeconomic risk factors of household food insecurity, odds ratio (OR) for each factor was calculated. An OR is a measure of association and it indicates the probability that a household with a certain socioeconomic characteristic will be food insecure divided by the probability that it will not be food insecure (Kahn Sempos, 1989). One-way analysis of variance (ANOVA) was used to examine the difference in the nutritional status of the children in the four categories of household Assessment of Food Insecurity Among Low Income Households in Kuala Lumpur food security. All of the above analyses were done using SPSS (version 9.05) and STATA programs. Significance level was set at p<0.05. Table 1. Radimer/Cornell hunger and food insecurity items Household Level 1. I worry whether my food will run out before I get money to buy more 2. The food that I bought just didn’t last, andI didn’t have money to get more 3. I ran out of the foods that I needed to put together a meal and I didn’t have money to get more food 4. We eat the same thing for several days in a row because we only have a few different kinds of food on hand and don’t have money to buy more 5. I can’t afford to eat properly 6. I am often hungry but I don’t eat because I cant afford enough food 7. I eat less than I think I should because I don’t have enough money for food Child Level 8. I cannot give my child(ren) a balanced meal because I can’t afford that 9. My child(ren) is/are not eating enough because I just can’t afford enough food 10. I know my child(ren) is/are hungry sometimes but I just can’t afford more food To classify individuals by severity of food insecurity: Food Secure : negative answers o all hunger and food insecurity items Household Insecure : positive answers to one or more items (1-4) but not to adult or child level items Individual Insecure : positive answers to one or more of items (5-8) but not to items (9-10) Child Hunger : positive answer to items (9-10) Response categories for items 1-10: Negative answers : “not true” Positive answers : “sometimes true” or “often true” Table 2. Demographic characteristics of the children and households (N=37) Variable n (%) Mean (SD) Median Gender of children Male 66 (48.2) Female 71 (51.8) Educational level of mothers No schooling 0 (0.0) Primary school 16 (11.7) Lower secondary 38 (27.7) Higher secondary 78 (56.9) Post-secondary 5 (3.6) Educational level of fathers No schooling 2 (1.5) Primary school 19 (13.9) Lower secondary 31 (22.6) Higher secondary 80 (58.4) Post-secondary 5 (3.6) Years of education Mothers 10.07 (2.22) 11.00 Zalilah Mohd. Sharif and Ang Merlin Fathers 9.98 (2.28) 11.0 Household size 6.03 (1.89) 6.00 Table 3. Economic characteristics of the households (N=137) Variable n (%) Mean (SD) Median Total household income (RM)* 137 (100.0) 1269.87 (585.22) 1100.00 RM 0-2162 125 (91.2) > RM 21621 12 (8.8) Income per capita (RM)** 137 100.0 231.43 (135.96) 195.71 RM 0-150 41 (29.9) RM 151-300 64 (46.7) > RM 300 32 (23.4) Father’s income (RM) 137 (100.0) 972.80 (409.96) 900.00 Mother’s income (RM) 92 (100.00) 383.36 (433.37) 150.00 * Average monthly income of urban Malays – RM 2162 ** Poverty level income per capita in Kuala Lumpur – RM 150 RESULTS Table 2 shows the demographic characteristics of the children and households in the study. There were 66 (48.2%) male and 71 (51.8%) female children altogether. The majority of the mothers (88.2%) and fathers (84.6%) had at least lower secondary education with the average years of schooling for mothers (10.07 years) higher than the average years of schooling for fathers (9.98 years). The average household size in this sample was 6.03 which was higher than the average household size of 4.3 reported for households in urban areasof Malaysia (Malaysian Dept. of Statistics, 1995. The data on economic characteristics of the households are presented in Table 3. The mean monthly household income (RM 1269.87) was relatively lower than the average monthly household income for the urban Malays (RM 2162.00) or the urban citizens in general (RM 2593) (Malaysian Dept. of Statistics, 1997). In this study, household income also included earnings from sources other than the main income of fathers and mothers (e.g. money from working children and other family members). The mean income per capita was RM 231.43. Using RM150 as the poverty level income per capita in Kuala Lumpur, approximately 30% of the households can be considered as living in poverty. The average income of fathers (RM972.80) was higher than that of mothers (RM 386.36) due to the former being main income provider for the majority of the households. Among the mothers in the sample, 32.8% (n=45) were housewives who did not contribute any income to the households. The percentages of children who were stunted, underweight and wasted are shown in Table 4. In all of the three nutritional status indicators (height-for-age, weight-for-age and weight-for- height), more than 55% of the children had normal growth status. The prevalence of Assessment of Food Insecurity Among Low Income Households in Kuala Lumpur underweight, stunting and wasting were 44.5%, 36.5% and 30.7% respectively. Mild underweight (29.9%), stunting (30.7%) and wasting (26.3%) were much higher than the prevalence of significant underweight (14.6%), stunting (5.8%) and wasting (4.4%) in these children. The percentages of boys and girls who were overweight were 13.6% and 12.7% with an overall overweight prevalence of 13.1%. The prevalence of food insecurity among the households in this sample is presented in Table 5. Households were assigned to mutually exclusive groups representing increasingly severe problems of food insecurity. A majority of the mothers (65.7%) reported some kind of household food insecurity with 27.7% (n=38) reporting household food insecure, 10.9% (n=15) individual food insecure and 27.0% (n=37) child hunger. Table 6 indicates the relative odds (OR) of household income, income per capita, income of fathers, income of mothers, household size, educational level of mothers and educational level of fathers (independent variables) according to levels of household food insecurity. In the data analysis, OR of 1 indicates that the independent variable does not differ in its risk for food insecurity over the reference group (household food secure). An OR of more than 1 indicates that the independent variable is a risk factor while an OR of less than 1 has a protective measure against food insecurity. During the data analysis, individual food insecure group was combined with household food insecure group due to the small sample size of the former group (n=15). Table 4. Nutritional status distribution among the children (N=137) Variable Level Male Female Total n (%) n (%) n (%) Weight for age Significantlya underweight 11 (14.6) 9 (12.7) 20 (14.6) Mildlyb underweight 21 (31.8) 20 (28.20) 41 (29.9) Normalc 34 (51.5) 42 (59.1) 76 (55.5) Height forage Significantlya stunded 2 (3.0) 6 (8.5) 8 (5.8) Mildlyb stunded 32 (48.5) 10 (14.1) 42 (30.7) Normalc 32 (48.5) 55 (77.4) 87 (63.5) Weight for height Significantlya wasted 1 (1.5) 5 (7.0) 6 (4.4) Mildlyb wasted 18 (27.3) 18 (25.4) 36 (26.3) Normalc 38 (57.6) 39 (54.9) 76 (56.2) Highd 9 (13.6) 9 (12.7) 18 (13.1) a = < -2SD of the NCHS median b = -2SD ≤ x < -1SD of the NCHS median c = -1SD ≤ x 2SD of the NCHS median d = 2sd of the NCHS median Table 5. Prevalence of food security among the households (N=137) Category of Food Security N (%) Food secure 47 (34.3) Household food insecure 38 (27.7) Individual food insecure 15 (10.9) Zalilah Mohd. Sharif and Ang Merlin Child hunger 37 (27.1) The findings indicate that as household size increases, the higher the odds that the households will experience some kind of food insecurity. For education levels of both parents, It was observed that the higher the education level, the less likely that the households will experience food insecurity. However, the OR for these variables was only significant between households with child hunger and households which reported food security (household size – OR - = 1.42, p = 0.01; mother’s education level – OR = 0.75, p = 0.01; father’s education level – OR = 0.80, p = 0.03). Table 7 indicates the mean Z scores of height-for-age, weight-for-age and weight-for-height of the children according to the different levels of household food insecurity. The analysis was intended to show whether children in households with different levels of food insecurity differ in their nutritional status. However, results from one-way ANOVA showed that children from households with some kind of food insecurity did not have poorer nutritional status compared to those from households with food security. In fact, regardless of household food security status, all children had normal mean Z scores for height-for-age, weight-for-age and weight-for-height. DISCUSSION In this sample of preschoolers (n=137) who are attending the Taman Sang Kancil preschools in Kuala Lumpur, the prevalence of underweight, stunting and wasting were 44.5%, 36.5% and 30.7% with the majority of the children experiencing mild undernutrition (Table 4). However, the prevalence of significant underweight, stunting and wasting (< -2 SD of NCHS) in this study was lower compared to the prevalence reported for Malay children (0-9 years old) in an urban settlement in Petaling Jaya (Chee, 1992). In the study carried out in Kampung Baiduri, Petaling Jaya, the prevalence of significant underweight was highest (29.3%), followed by stunting (26.3%) and wasting (16.2%). In comparing the nutritional status of children from the rural areas of Peninsular Malaysia, a report by Zamaliah et al. (1998) found that the prevalence of underweight, stunting, wasting and overweight among 0-5-year-old children was 31.5%, 26.0%, 3.8% and 2.2% respectively. For older children (5-9 years old), malnutrition prevalence was lower for underweight (26.1%), wasting (1.8%) and overweight (0.87%) but higher for stunting (29.2%). Another study by Soon and Khor(1995) reported the prevalence of underweight and stunting for boys and girls (1-6 years old) from a FELDA settlement in Pahang. The percentages of boys and girls who were underweight were 14.5% and 14.0% while the percentages who were stunted are 9.7% (boys) and 11.6% (girls). Studies in the rural areas of Sabah and Sarawak on nutritional status of young children also report higher prevalence of malnutrition. Kiyu et al. (1991) found that the prevalence of underweight, stunting and wasting (< -2SD) for 0-5-year-olds in the rural villages of Sarawak were 45.3%, 41.2% and 10.9%, respectively. Using the percent of NCHS median for weight-for- age, height-for-age and weight-for-height to classify underweight, stunting and wasting among 4-5-year-olds, they reported the prevalence at 89.2%, 85.8% and 35%. However, these percentages include both the mild and significantly malnourished with those experiencing Assessment of Food Insecurity Among Low Income Households in Kuala Lumpur significant malnutrition (2nd and 3rd degree) as 40% (underweight), 44.1% (stunting) and 3.3% (wasting). The percentages of children who were underweight and stunted increased with age but trend was not observed for wasting. In a sample of 896 Kadazan children below 6 years old, the prevalence of underweight, stunting and wasting (defined as < -2SD of NCHS median) for boys and girls are as follows underweight (boys – 55.7% and girls – 49.5%), stunting (boys – 67.6% and girls – 66.8%) and wasting (boys – 12.3% and girls – 8.3%) (Gan et al., 1993). Although our findings indicate lower prevalence of significant underweight stunting and wasting compared to the other studies, the sample in the present study comprised preschoolers (4-6 years old) while in the other studies, the age of the children ranged from 0-9 years old. The difference in the age group of the study samples in the present and previous studies may have contributed to the difference in reported prevalence of underweight, stunting and wasting. For example, in some of the reported studies, the prevalence of undernutrition may increase or decrease with age and thus when all the age groups are combined, the prevalence may be higher. In considering ethnic differences in nutritional status, we found that these Malay preschoolers fared better than their Indian counterparts in the rubber plantation in Hulu Langat district of Selangor (Poh, 1990) but were behind the Chinese preschoolers in Subang Jaya (Norimah and Lau, 2000). However, the differences in nutritional status among these children may be due to the different socioeconomic status of the families – perhaps, the Indian households constituted the poorest among the three samples while the Chinese children came from middle to high income families. For the Indian preschoolers (3-6 years old), approximately 52% of boys and 42% of girls were underweight, while 57% of boys and 33% of girls were stunted. Wasting prevalence was 24% for boys and girls, respectively. Among the urban Chinese preschoolers, the prevalence of underweight, stunting and wasting was 2.2% with none of the girls experiencing any form of undernutrition. Interestingly, the prevalence of overweightin the present study (13.1%) was much higher than that reported for these Chinese preschoolers (3.3%). Perhaps, the high prevalence of overweight among these Malay children is due to a combination of physical inactivity (many of the children were living in flats and squatter areas which have limited areas for the children to play) and dietary intake imbalance e.g. higher consumption of high energy foods for meals and snacks. In addition, the unsatisfactory physical growth attainment (underweight, stunting and wasting) among these preschoolers may be explained by the interaction of several factors such as inadequate food intake, birth weight, recurrent infections and socioeconomic status of the households. For example, low socioeconomic status of the household may contribute to household food insecurity and consequently inadequate food intake (quantity and quality) by the household members, particularly children. Approximately 65.7% of the households in this sample experienced some kind of food insecurity with a majority of the households experiencing household food insecure and child hunger (Table 5). Although 34.3% of the households reported food secure, it is believed that the percentage is actually less because mothers may not report the truth about their household food situation. The prevalence of food insecurity in this present study was 27.7%, 10.9% and 27.0% for household food insecure, individual food insecure and child hunger respectively. The findings of this study show a similar pattern compared to a study carried out on school children from low-income households in an urban area of Kuala Lumpur (Mohd Shariff, 1998). In that study, the prevalence for household food insecure was 30.1%, followed by 8.7% for individual food insecure and Zalilah Mohd. Sharif and Ang Merlin 27.8% for child hunger. However, the distribution of individual food insecurity and child hunger in our study and the study by Mohd Shariff (1988) differs from that of Kendall et al. (1996) in that the prevalence of individual food insecure is lower than the prevalence of child hunger in the Malaysian urban samples while in the US sample, the reverse was reported. Kendall et al. (1996) found the prevalence of household food insecure, individual food insecure and child hunger to be 25%, 17% and 11%. There are two possible explanations as to why the percentage of households with individual food insecure is lower than the percentage of households with child hunger in the Malaysian urban samples. First, the prevalence of individual (mother) food insecure may be under-reported because mothers may not report the truth as they may be embarrassed to answer these questions which are directly related to them. However, being poor and very concerned about their children, the mothers may have the perception that they do not provide enough food for them due to lack of food in their households. Thus, it would be easier for mothers to respond to questions pertinent to household food insecure and child hunger. Table 6. Odds ratio (OR) for risk factors of food insecurity (N=137) Variable level OR p-value Household income Food secure 1.000 Household and individual food insecure0.999 0.103 Child hunger 0.999 Income per capita Food secure 1.000 Household and individual food insecure 0.997 0.115 Child hunger 0.998 0.181 Income of mothers Food secure 1.000 Household and individual food insecure 0.999 0.479 Child huger 0.999 0.198 Income of fathers Food secure 1.000 Household and individual food insecure 0.999 0.117 Child hunger 0.999 0.077 Household size Food secure 1.000 Household and individual food insecure 1.140 0.292 Child hunger 1.418 0.008** Education level of mothers Food secure 1.000 Household and individual food insecure 0.827 0.066 Child hunger 0.749 0.009** Education level of fathers Food secure 1.000 Household and individual food insecure 0.979 0.823 Child hunger 0.802 0.029* * p < 0.05 ** p < 0.01 Table 7. Mean Z-scores of height-for-age, weight-for-age and weight-for-height according to household food security level (N=137) Assessment of Food Insecurity Among Low Income Households in Kuala Lumpur Variable level z-score Mean (SD) F p-value Weight-for-age Food secure -0.216 (1.71) 0.866 0.423 Household and individual -0.627 (1.51) Food insecure Child hunger -0.504 (1.52) Height-for-age Food secure -0.350 (1.19) 1.619 0.202 Household and individual -0.649 (1.14) Food insecure Child hunger -0.745 (0.80) Weight-for-height Food secure 0.005 (1.69) 0.421 0.657 Household and individual -0.273 (1.60) Food insecure Child hunger -0.24 (1.67) Second, in the process of making sure that their children have enough food to eat, the mothers may adopt various coping strategies to household food insecurity. They may not perceive these strategies as sacrifices (that may harm themselves) nor do they complain about these strategies, although the strategies may require them to sacrifice the quality and quantity of their diets in order to preserve the amount and quality of food available to their children. For example, a mother who eats only rice and fried egg may consider these food as a ‘good meal’ while her children will be given a better quality and quantity meal. In other words, she will adapt to the household food shortages (with no complaints) as long as the children have enough food. Risk factors for food insecurity include any factor that affects or limits the household resources or the proportion of those resources available for food acquisition. The potential consequences of food insecurity include hunger, malnutrition and negative effects on health and quality of life (Campbell, 1991). Household income has frequently been found to influence household food security in that households with lower incomes are at risk for food insecurity (Kennedy Peters, 1992; Johnson Rogers, 1993; Kendall et al., 1995; Olson et al., 1997). However, the results of this study showed that household income, income per capita, income of fathers and income of mothers are not risk factors for food insecurity. There are three possible reasons for this finding: First, there may be underreporting of incomes by the households in that the parents may have reported lower incomes so that their children would qualify for the Taman Sang Kancil Program. Thus, the homogeneity of the sample in relation to reported household income would contribute to the present findings. Second, despite adequatehousehold income, the income may not be allocated adequately for food. In an urban area like Kuala Lumpur where the standard of living is relatively high, a big proportion of the income may be allocated for expenses (rent, transportation, medical bills) other than for food. For example, the Household Expenditure Survey 1993/94 showed that the urban households spend on average RM1406.09 for household expenditure (food and other essentials) compared to RM854.31 for the rural households (Malaysian Dept. of Statistics, 1995). The urban households, however, would spend less on food (20% of household expenditure) compared to the rural households (30.5% of household food expenditure). Third, the use of poverty indicators such as household income and income per capita to identify households at risk of food insecurity may be Zalilah Mohd. Sharif and Ang Merlin misleading. According to Rose (1999), income based poverty indicators do not take into account price differences in housing, food, health care or special needs of the households such as female- headed households or households with disabled individuals. Also, poverty level income indicators as indirect measures of household food insecurity may fail to correctly identify households at risk of food insecurity or hunger because these conditions are not static. The indicators are not sensitive to unexpected changes in the economy that may contribute to temporary bouts of household food insecurity. Thus, it has been suggested that more direct measures such as the effects of recent economic changes on household budgets (unexpected expenses, job loss, increase in household size or loss in government aids) in recent months be taken into consideration when looking at the relationship between poverty and household food insecurity. Studies have shown that as household food insecurity worsened, women had lower education and both men and women in the households were likely to be unemployed or not employed full time (Kendall et al., 1995; Lino, 1996; Olson et al., 1997). Our findings indicate that educational levels of both parents do influence household food security (Table 6). Perhaps with a higher educational attainment, parents are able to seek better employment opportunities and thus the incomes would benefit the health and nutritional status of their children through provision of adequate diets (quantity and quality), medical treatment for illness and good sanitation and hygiene practices and facilities. In addition, parents (particularly mothers) with education (despite limited household resources) are more knowledgeable and aware of other available resources which will enable them to make the right choice among alternatives in relation to their children’s well-being (Cochrane et al., 1982). Others have reported that although household income is a major determinant of household food security, it is also true that the level of income controlled by women has a positive impact on household caloric intake which then can be translated into better child dietary intake and nutritional status (Kennedy and Peters, 1992; Johnson and Rogers, 1993). Although our study found that income of mothers is not a risk factor for food insecurity, it is not known whether the working mothers pooltheir incomes with their spouses and have access to or control of their own incomes (or pooled incomes). Similarly, it is not known if non-working mothers do have access and control of their spouses’ incomes. Blumberg (1988) reported that when women have their own independent incomes and have control over their incomes, their self-esteem increases and they are more likely to spend their incomes primarily on items for daily household consumption or children’s needs. In a study of the relationship between women’s autonomy and child health in Yemen (Myntti, 1993), it was found that women with healthy children had the opportunity to control and manage a portion of their husbands’ incomes (they buy foods, supervise their husbands’ spending, buy medicines etc.) compared to mothers with less healthy children. These studies show that women’s access to and control of their own incomes or some of their spouses’ incomes does contribute to better household food security and consequently to their children’s health. The International Food Policy Research Institute (IFPRI) in its food policy statement indicates that women play an essential role in household food security through three possible mechanisms (Quisumbing et al., 1996). First, the recognition that the majority of women in the less developed countries are involved in household food production. Therefore, there is a need to improve their Assessment of Food Insecurity Among Low Income Households in Kuala Lumpur access to resources, technology and information. Second, is the women’s economic access to available food. Poverty is a major threat to household food security and the combination of lack of household income and gender inequality (women access and control of income) may further worsen food security. Finally, ensuring that nutrition security (adequate nutrients) for all household members is in the domain of women. It is also recognized that in order to achieve nutrition security especially for the children, policy makers must protect women’s health and nutrition to allow women to fulfill their productive and reproductive roles. This study did not find any significant difference in the nutritional status of children according to household food security levels (Table 7). This may be due to several reasons. First, the mothers who were the respondents in this study may not have reported the actual situation of their household food security e.g. they may be embarrassed to discuss the matter with an outsider. Second, the assessment of nutritional status of children was done using anthropometric measurements (weight and height). Perhaps, for this study sample, other methods such as dietary intake of individuals in the households, household food inventory, mid-upper arm circumference and biochemical assessments (e.g. hemoglobin and hematocrit) of the young children are more appropriate as outcomes of household food insecurity. Third, the etiology of malnutrition is very complex and thus food insecurity can (but does not necessarily) result in malnutrition. In other words, there may be other variables operating as risk factors for malnutrition among these young children e.g. diet inadequacy (diet quality and quantity), recurrent infections, birth weight and socioeconomic status. CONCLUSION Thisstudy used the Radimer/Cornell hunger and food insecurity instrument to determine the prevalence of food insecurity among low income Malay households in the urban area of Kuala Lumpur and consequently provided some aspects of validation to the instrument for future use in the Malaysian population. However, it is recommended that the statements pertinent to individual (adult) level of food insecurity be modified so that the statements can accurately address qualitative and quantitative aspects of adult’s (mother’s) diet and consequently identify the adult (mother) at risk of food insecure or hunger. In addition, more research on this instrument should be conducted with other ethnic groups in various settings, taking into account the different determinants and outcomes of hunger and food insecurity in these settings. All of the variables that are found to be significantly related to food insecurity (education level of father, education level of mother, household size) in this study, have also been found as significant predictors of food security in other studies in a variety of settings. Although household income, income per capita, income of fathers and income of mothers were found to be risk factors for food insecurity and nutritional status of children to differ significantly according to food security level in other studies, this study did not find similar results. This may be due to factors such as the differences in culture, religion and geographic location of this study compared to the previous studies. Besides, there may also be bias occurring from the self-reported data by mothers e.g. the mothers interviewed may not have reported their current household incomes and household food security accurately. Zalilah Mohd. Sharif and Ang Merlin Although food security is well defined and its measurements are already established, risk actors and potential consequences of food security are still empirical questions that need more research. The risk factors and consequences of household food security may differ from one population to another and consequently specific predictors and outcomes of food security need to be defined. With rapid urbanization and an increase in urban poverty and the number of undernourished individuals living in the urban areas of the less developed nations, food insecurity will no doubt be both a major health and economic issue to be addressed by the governments (Maxwell et al., 1998; Haddad et al., 1999). Inevitably, the indicators of food security should be integral components of the core measures of the health and nutritional status of individuals, communities and nations (Campbell, 1991). ACKNOWLEDGEMENTS We would like to thank the NADI program and the Taman Sang Kancil staff from Dewan Bandaraya Kuala Lumpur for their assistance and support of this research. REFERENCES Baer RD & Madrigal L (1993). Intrahousehold allocation of resources in larger and smaller Mexican households. Social Science and Medicine 36 (3) : 305-310. Blumberg RL (1988). Income under female versus male control: hypotheses from a theory of gender stratifications and data from the Third World. Journal of Family Issues 9 (1) : 51 - 84. Campbell CC (1991). Food insecurity: anutritional outcome or a predictor variable? Journal of Nutrition 121 : 408 - 415. Chee HL (1992). Prevalence of malnutrition among children in an urban squatter settlement in Petaling Jaya. Medical Journal of Malaysia 47 (3): 170 - 181. Chee HL, Khor GL & Tee ES (1997). Nutritional assessment of rural villages and estates in Peninsular Malaysia : I. Socio-economic profile of households. Mal J Nutr 3 (1) : 1 - 19. Cochrane SH, Leslie J & O’Hara DJ (1982). Parental education and child health: intracountry evidence. Health Policy and Education 2 : 213 - 250. Emmons L (1986). Food procurement and the nutritional adequacy of diets in low-income families. Journal of American Dietetic Association 86 (12) : 1684 - 1693. Gan C, Chin B, Teoh S & Chan KCM (1993). Nutritional status of Kadazan children in a rural district in Sabah, Malaysia. Southeast Asean Journal of Tropical Medicine and Public Health 24 (2) : 293 - 301. Gittelson J, Mookherji S & Pelto G (1998). Operationalizing household food security in rural Assessment of Food Insecurity Among Low Income Households in Kuala Lumpur Nepal. Food and Nutrition Bulletin 19 (3) : 210 - 222. Haddad L, Ruel MT & Garrett JI (1999). Are urban poverty and undernutrition growing? Some newly assembled evidence.'"
      ]
     },
     "execution_count": 16,
     "metadata": {},
     "output_type": "execute_result"
    }
   ],
   "source": [
    "tokenizer.decode(dataset[-1]['input_ids'])"
   ]
  },
  {
   "cell_type": "code",
   "execution_count": 17,
   "id": "281a5769",
   "metadata": {},
   "outputs": [
    {
     "data": {
      "text/plain": [
       "8192"
      ]
     },
     "execution_count": 17,
     "metadata": {},
     "output_type": "execute_result"
    }
   ],
   "source": [
    "len(dataset[-1]['input_ids'])"
   ]
  },
  {
   "cell_type": "code",
   "execution_count": null,
   "id": "f3572a54",
   "metadata": {},
   "outputs": [],
   "source": []
  }
 ],
 "metadata": {
  "kernelspec": {
   "display_name": "Python 3 (ipykernel)",
   "language": "python",
   "name": "python3"
  },
  "language_info": {
   "codemirror_mode": {
    "name": "ipython",
    "version": 3
   },
   "file_extension": ".py",
   "mimetype": "text/x-python",
   "name": "python",
   "nbconvert_exporter": "python",
   "pygments_lexer": "ipython3",
   "version": "3.10.12"
  }
 },
 "nbformat": 4,
 "nbformat_minor": 5
}
