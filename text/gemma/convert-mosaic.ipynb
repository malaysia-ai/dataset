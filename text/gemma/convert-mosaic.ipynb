{
 "cells": [
  {
   "cell_type": "code",
   "execution_count": 1,
   "id": "bd2dd899",
   "metadata": {},
   "outputs": [],
   "source": [
    "# !wget https://gist.githubusercontent.com/huseinzol05/98974ae8c6c7a65d4bc0af9f5003786a/raw/5aa5257608b61e8fcc828e99fbd070d5ca7358e3/mp.py\n",
    "\n",
    "from glob import glob\n",
    "from tqdm import tqdm\n",
    "import msgspec\n",
    "import mp\n",
    "import os\n",
    "import numpy as np\n",
    "from streaming import MDSWriter\n",
    "from transformers import AutoTokenizer"
   ]
  },
  {
   "cell_type": "code",
   "execution_count": 2,
   "id": "784a0e34",
   "metadata": {},
   "outputs": [],
   "source": [
    "train_file = 'combine-lm.jsonl'"
   ]
  },
  {
   "cell_type": "code",
   "execution_count": 3,
   "id": "033967d5",
   "metadata": {},
   "outputs": [],
   "source": [
    "split_by = 5000000"
   ]
  },
  {
   "cell_type": "code",
   "execution_count": 4,
   "id": "38dc27e8",
   "metadata": {},
   "outputs": [],
   "source": [
    "!rm -rf partitions\n",
    "!mkdir partitions"
   ]
  },
  {
   "cell_type": "code",
   "execution_count": 5,
   "id": "415c87ba",
   "metadata": {},
   "outputs": [
    {
     "name": "stderr",
     "output_type": "stream",
     "text": [
      "24030806it [02:03, 194486.10it/s]\n"
     ]
    }
   ],
   "source": [
    "index = 0\n",
    "count = 0\n",
    "a = open(f'partitions/combined-lm-{index}.jsonl', 'w')\n",
    "\n",
    "with open('combine-lm.jsonl') as fopen:\n",
    "    for l in tqdm(fopen):\n",
    "        a.write(l)\n",
    "        a.flush()\n",
    "        count += 1\n",
    "        if count >= split_by:\n",
    "            a.close()\n",
    "            index += 1\n",
    "            count = 0\n",
    "            a = open(f'partitions/combined-lm-{index}.jsonl', 'w')\n",
    "            \n",
    "a.close()"
   ]
  },
  {
   "cell_type": "code",
   "execution_count": 6,
   "id": "52bbe383",
   "metadata": {},
   "outputs": [],
   "source": [
    "block_size = 8192\n",
    "def read_dataset(train_file, block_size = block_size):\n",
    "    \n",
    "    tokenizer = AutoTokenizer.from_pretrained(\n",
    "        'google/gemma-2b',\n",
    "    )\n",
    "    tokenizer.add_bos_token = False\n",
    "    tokenizer.add_eos_token = False\n",
    "    text_column_name = 'text'\n",
    "    temp = []\n",
    "    with open(train_file) as fopen:\n",
    "        for l in fopen:\n",
    "            l = msgspec.json.decode(l)\n",
    "            tokenized = tokenizer(l['text'])['input_ids']\n",
    "            temp.extend(tokenized)\n",
    "            while len(temp) >= block_size:\n",
    "                block = temp[:block_size]\n",
    "                temp = temp[block_size:]\n",
    "                if len(block) == block_size:\n",
    "                    yield np.array(block).astype(np.uint32)"
   ]
  },
  {
   "cell_type": "code",
   "execution_count": 7,
   "id": "cf86d558",
   "metadata": {},
   "outputs": [
    {
     "data": {
      "text/plain": [
       "['partitions/combined-lm-0.jsonl',\n",
       " 'partitions/combined-lm-1.jsonl',\n",
       " 'partitions/combined-lm-2.jsonl',\n",
       " 'partitions/combined-lm-3.jsonl',\n",
       " 'partitions/combined-lm-4.jsonl']"
      ]
     },
     "execution_count": 7,
     "metadata": {},
     "output_type": "execute_result"
    }
   ],
   "source": [
    "files = sorted(glob('partitions/combined-lm-*.jsonl'), key = lambda x: int(x.split('-')[-1].replace('.jsonl', '')))\n",
    "files"
   ]
  },
  {
   "cell_type": "code",
   "execution_count": 8,
   "id": "0021329a",
   "metadata": {},
   "outputs": [
    {
     "data": {
      "text/plain": [
       "array([     2, 199181, 129988, ...,  44808,  73897,  17814], dtype=uint32)"
      ]
     },
     "execution_count": 8,
     "metadata": {},
     "output_type": "execute_result"
    }
   ],
   "source": [
    "next(read_dataset(files[0]))"
   ]
  },
  {
   "cell_type": "code",
   "execution_count": 9,
   "id": "c04e92d7",
   "metadata": {},
   "outputs": [],
   "source": [
    "from streaming.base.format.mds.encodings import Encoding, _encodings\n",
    "\n",
    "class UInt32(Encoding):\n",
    "    def encode(self, obj) -> bytes:\n",
    "        return obj.tobytes()\n",
    "\n",
    "    def decode(self, data: bytes):\n",
    "        return np.frombuffer(data, np.uint32)\n",
    "\n",
    "_encodings['uint32'] = UInt32"
   ]
  },
  {
   "cell_type": "code",
   "execution_count": 10,
   "id": "3aebad7f",
   "metadata": {},
   "outputs": [],
   "source": [
    "columns = {\n",
    "    'input_ids': 'uint32',\n",
    "}\n",
    "compression = 'zstd'\n",
    "hashes = 'sha1', 'xxh64'"
   ]
  },
  {
   "cell_type": "code",
   "execution_count": 11,
   "id": "650e2a0a",
   "metadata": {},
   "outputs": [
    {
     "name": "stderr",
     "output_type": "stream",
     "text": [
      "huggingface/tokenizers: The current process just got forked, after parallelism has already been used. Disabling parallelism to avoid deadlocks...\n",
      "To disable this warning, you can either:\n",
      "\t- Avoid using `tokenizers` before the fork if possible\n",
      "\t- Explicitly set the environment variable TOKENIZERS_PARALLELISM=(true | false)\n",
      "huggingface/tokenizers: The current process just got forked, after parallelism has already been used. Disabling parallelism to avoid deadlocks...\n",
      "To disable this warning, you can either:\n",
      "\t- Avoid using `tokenizers` before the fork if possible\n",
      "\t- Explicitly set the environment variable TOKENIZERS_PARALLELISM=(true | false)\n"
     ]
    }
   ],
   "source": [
    "!rm -rf tokenized_indexes\n",
    "!mkdir tokenized_indexes"
   ]
  },
  {
   "cell_type": "code",
   "execution_count": 12,
   "id": "5b372ab6",
   "metadata": {},
   "outputs": [],
   "source": [
    "def loop(files):\n",
    "    files, index = files\n",
    "    out_root = f'tokenized_indexes/tokenized-{index}'\n",
    "    os.system(f'rm -rf {out_root}')\n",
    "    with MDSWriter(out=out_root, columns=columns, compression=None, hashes=hashes) as out:\n",
    "        for f in files:\n",
    "            for block in tqdm(read_dataset(train_file = f)):\n",
    "                sample = {\n",
    "                    'input_ids': block\n",
    "                }\n",
    "                out.write(sample)"
   ]
  },
  {
   "cell_type": "code",
   "execution_count": null,
   "id": "61f97a50",
   "metadata": {},
   "outputs": [
    {
     "name": "stderr",
     "output_type": "stream",
     "text": [
      "huggingface/tokenizers: The current process just got forked, after parallelism has already been used. Disabling parallelism to avoid deadlocks...\n",
      "To disable this warning, you can either:\n",
      "\t- Avoid using `tokenizers` before the fork if possible\n",
      "\t- Explicitly set the environment variable TOKENIZERS_PARALLELISM=(true | false)\n",
      "huggingface/tokenizers: The current process just got forked, after parallelism has already been used. Disabling parallelism to avoid deadlocks...\n",
      "To disable this warning, you can either:\n",
      "\t- Avoid using `tokenizers` before the fork if possible\n",
      "\t- Explicitly set the environment variable TOKENIZERS_PARALLELISM=(true | false)\n",
      "huggingface/tokenizers: The current process just got forked, after parallelism has already been used. Disabling parallelism to avoid deadlocks...\n",
      "To disable this warning, you can either:\n",
      "\t- Avoid using `tokenizers` before the fork if possible\n",
      "\t- Explicitly set the environment variable TOKENIZERS_PARALLELISM=(true | false)\n",
      "huggingface/tokenizers: The current process just got forked, after parallelism has already been used. Disabling parallelism to avoid deadlocks...\n",
      "To disable this warning, you can either:\n",
      "\t- Avoid using `tokenizers` before the fork if possible\n",
      "\t- Explicitly set the environment variable TOKENIZERS_PARALLELISM=(true | false)\n",
      "0it [00:00, ?it/s]huggingface/tokenizers: The current process just got forked, after parallelism has already been used. Disabling parallelism to avoid deadlocks...\n",
      "To disable this warning, you can either:\n",
      "\t- Avoid using `tokenizers` before the fork if possible\n",
      "\t- Explicitly set the environment variable TOKENIZERS_PARALLELISM=(true | false)\n",
      "15312it [05:33, 79.60it/s]IOPub message rate exceeded.\n",
      "The notebook server will temporarily stop sending output\n",
      "to the client in order to avoid crashing it.\n",
      "To change this limit, set the config variable\n",
      "`--NotebookApp.iopub_msg_rate_limit`.\n",
      "\n",
      "Current values:\n",
      "NotebookApp.iopub_msg_rate_limit=1000.0 (msgs/sec)\n",
      "NotebookApp.rate_limit_window=3.0 (secs)\n",
      "\n",
      "48630it [20:22, 39.78it/s] \n",
      "63150it [21:19, 49.12it/s] IOPub message rate exceeded.\n",
      "The notebook server will temporarily stop sending output\n",
      "to the client in order to avoid crashing it.\n",
      "To change this limit, set the config variable\n",
      "`--NotebookApp.iopub_msg_rate_limit`.\n",
      "\n",
      "Current values:\n",
      "NotebookApp.iopub_msg_rate_limit=1000.0 (msgs/sec)\n",
      "NotebookApp.rate_limit_window=3.0 (secs)\n",
      "\n",
      "88737it [29:13, 44.87it/s]] IOPub message rate exceeded.\n",
      "The notebook server will temporarily stop sending output\n",
      "to the client in order to avoid crashing it.\n",
      "To change this limit, set the config variable\n",
      "`--NotebookApp.iopub_msg_rate_limit`.\n",
      "\n",
      "Current values:\n",
      "NotebookApp.iopub_msg_rate_limit=1000.0 (msgs/sec)\n",
      "NotebookApp.rate_limit_window=3.0 (secs)\n",
      "\n",
      "110647it [37:20, 50.54it/s] IOPub message rate exceeded.\n",
      "The notebook server will temporarily stop sending output\n",
      "to the client in order to avoid crashing it.\n",
      "To change this limit, set the config variable\n",
      "`--NotebookApp.iopub_msg_rate_limit`.\n",
      "\n",
      "Current values:\n",
      "NotebookApp.iopub_msg_rate_limit=1000.0 (msgs/sec)\n",
      "NotebookApp.rate_limit_window=3.0 (secs)\n",
      "\n",
      "174722it [45:06, 55.02it/s] IOPub message rate exceeded.\n",
      "The notebook server will temporarily stop sending output\n",
      "to the client in order to avoid crashing it.\n",
      "To change this limit, set the config variable\n",
      "`--NotebookApp.iopub_msg_rate_limit`.\n",
      "\n",
      "Current values:\n",
      "NotebookApp.iopub_msg_rate_limit=1000.0 (msgs/sec)\n",
      "NotebookApp.rate_limit_window=3.0 (secs)\n",
      "\n",
      "157533it [57:22, 62.49it/s]IOPub message rate exceeded.\n",
      "The notebook server will temporarily stop sending output\n",
      "to the client in order to avoid crashing it.\n",
      "To change this limit, set the config variable\n",
      "`--NotebookApp.iopub_msg_rate_limit`.\n",
      "\n",
      "Current values:\n",
      "NotebookApp.iopub_msg_rate_limit=1000.0 (msgs/sec)\n",
      "NotebookApp.rate_limit_window=3.0 (secs)\n",
      "\n",
      "202719it [1:12:22, 46.68it/s] \n",
      "292848it [1:22:17, 52.61it/s]IOPub message rate exceeded.\n",
      "The notebook server will temporarily stop sending output\n",
      "to the client in order to avoid crashing it.\n",
      "To change this limit, set the config variable\n",
      "`--NotebookApp.iopub_msg_rate_limit`.\n",
      "\n",
      "Current values:\n",
      "NotebookApp.iopub_msg_rate_limit=1000.0 (msgs/sec)\n",
      "NotebookApp.rate_limit_window=3.0 (secs)\n",
      "\n",
      "325552it [1:32:19, 52.79it/s]"
     ]
    }
   ],
   "source": [
    "import mp\n",
    "mp.multiprocessing(files, loop, cores = min(len(files), 30), returned = False)"
   ]
  },
  {
   "cell_type": "code",
   "execution_count": 18,
   "id": "00146584",
   "metadata": {},
   "outputs": [
    {
     "name": "stdout",
     "output_type": "stream",
     "text": [
      "29G\ttokenized_indexes\r\n"
     ]
    },
    {
     "name": "stderr",
     "output_type": "stream",
     "text": [
      "huggingface/tokenizers: The current process just got forked, after parallelism has already been used. Disabling parallelism to avoid deadlocks...\n",
      "To disable this warning, you can either:\n",
      "\t- Avoid using `tokenizers` before the fork if possible\n",
      "\t- Explicitly set the environment variable TOKENIZERS_PARALLELISM=(true | false)\n"
     ]
    }
   ],
   "source": [
    "!du -hs tokenized_indexes"
   ]
  },
  {
   "cell_type": "code",
   "execution_count": 19,
   "id": "620796b7",
   "metadata": {},
   "outputs": [
    {
     "name": "stderr",
     "output_type": "stream",
     "text": [
      "Because `predownload` was not specified, it will default to 8*batch_size if batch_size is not None, otherwise 64. Prior to Streaming v0.7.0, `predownload` defaulted to max(batch_size, 256 * batch_size // num_canonical_nodes).\n"
     ]
    }
   ],
   "source": [
    "from streaming import StreamingDataset\n",
    "\n",
    "dataset = StreamingDataset(local = 'tokenized_indexes/tokenized-0')"
   ]
  },
  {
   "cell_type": "code",
   "execution_count": 20,
   "id": "43518c5c",
   "metadata": {},
   "outputs": [
    {
     "data": {
      "text/plain": [
       "395538"
      ]
     },
     "execution_count": 20,
     "metadata": {},
     "output_type": "execute_result"
    }
   ],
   "source": [
    "len(dataset)"
   ]
  },
  {
   "cell_type": "code",
   "execution_count": 21,
   "id": "1e575909",
   "metadata": {
    "scrolled": true
   },
   "outputs": [
    {
     "data": {
      "text/plain": [
       "(8192,)"
      ]
     },
     "execution_count": 21,
     "metadata": {},
     "output_type": "execute_result"
    }
   ],
   "source": [
    "dataset[0]['input_ids'].shape"
   ]
  },
  {
   "cell_type": "code",
   "execution_count": 24,
   "id": "293d8f88",
   "metadata": {},
   "outputs": [
    {
     "data": {
      "application/vnd.jupyter.widget-view+json": {
       "model_id": "d7922c47acaf4778bca073f2b14aab77",
       "version_major": 2,
       "version_minor": 0
      },
      "text/plain": [
       "tokenizer.model:   0%|          | 0.00/4.24M [00:00<?, ?B/s]"
      ]
     },
     "metadata": {},
     "output_type": "display_data"
    }
   ],
   "source": [
    "from transformers import AutoTokenizer\n",
    "\n",
    "tokenizer = AutoTokenizer.from_pretrained('google/gemma-2b')"
   ]
  },
  {
   "cell_type": "code",
   "execution_count": 25,
   "id": "15ec6b4a",
   "metadata": {},
   "outputs": [
    {
     "data": {
      "text/plain": [
       "'<bos>Bahasa Melayu (Tulisan Jawi: بهاس ملايو; Rejang: ꤷꥁꤼ ꤸꥍꤾꤿꥈ) ialah salah satu daripada bahasa-bahasa Melayu-Polinesia di bawah keluarga bahasa Austronesia, yang merupakan bahasa rasmi di Brunei, Indonesia, Malaysia dan Singapura, serta dituturkan di Timor Leste dan sebahagian wilayah di Kemboja , Filipina dan Thailand. Jumlah penutur bahasa Melayu mencakupi lebih daripada 290 juta penutur (seramai 260 juta orang bertutur bahasa Indonesia) merentasi kawasan maritim Asia Tenggara. Sebagai salah satu daripada bahasa-bahasa yang paling luas digunakan di Asia Tenggara, bahasa Melayu mempunyai istilah perundangan yang berbeza di negara-negara terlibat bergantung pada sejarah dan budaya penggunaan bahasa Melayu di negara-negara tersebut. Di Malaysia, istilah \"bahasa Melayu\" ialah istilah \"de jure\" untuk pentakrifan rasmi bahasa kebangsaan negara Malaysia, manakala istilah \"bahasa Malaysia\" atau \"bahasa Melayu Malaysia\" seringkali digunakan mewakili perkara yang sama secara tidak formal di kalangan rakyat Malaysia. Di Singapura, Bahasa Melayu mempunyai status bahasa kebangsaan pada waktu yang sama merupakan salah satu daripada empat bahasa rasmi (tiga lagi bahasa rasmi lain ialah bahasa Inggeris, bahasa Cina, dan bahasa Tamil). Di Brunei, \"bahasa Melayu\" juga ditakrifkan sebagai bahasa rasmi negara dan bahasa Melayu diutamakan apabila berlakunya percanggahan dengan versi bahasa Inggeris teks undang-udang. Di Indonesia, bentuk piawai bahasa Melayu dikenali sebagai bahasa Indonesia yang berperanan sebagai bahasa pemersatu di negara Indonesia. Penggunaan istilah \"bahasa Melayu\" di Indonesia pula hanya terhad kepada bentuk-bentuk vernakular bahasa Melayu (yakni bahasa Melayu tempatan) yang dituturkan di kawasan asli Melayu terletak di zon tengah Sumatra (seperti Riau, Kepulauan Riau, Jambi dan lain-lain), Sumatra Selatan dan Kalimantan Barat Indonesia. Di Timor Leste, Bahasa Indonesia masih tetap dikekalkan sebagai bahasa rasmi utamanya sebagai \"bahasa bekerja\" walaupun telah merdeka daripada negara Indonesia. Di selatan Thailand, bahasa Melayu digunakan oleh orang-orang dari Kesultanan Melayu Patani (orang Melayu Pattani), tetapi tidak memperolehi sebarang pengiktirafan daripada kerajaan. Bahasa Melayu Klasik, secara spesifiknya \"bahasa istana\" (atau dikenali sebagai \"Court Malay\" dalam bahasa Inggeris), ialah bahasa piawai sastera bersusurgalur daripada kesultanan Melaka dan kesultanan Johor, disebabkan itulah bahasa ini juga dikenali sebagai bahasa Melayu Melaka, Johor atau Riau (atau pelbagai jenis gabungan nama yang berasaskan mana-mana dari tiga nama tempat ini) untuk membezakannya daripada bahasa-bahasa Melayik yang lain. Menurut \"Ethnologue\" 26, beberapa kelainan bahasa-bahasa Melayik disenaraikan sebagai bahasa-bahasa yang terpisah, termasuklah kelainan bahasa-bahasa Melayu Semenanjung yang dituturkan oleh Orang Asli, yang sangat rapat hubungannya dengan bahasa Melayu Baku yang boleh dianggap sebagai dialek-dialeknya. Terdapat beberapa bahasa dagang atau bahasa kreol Melayu yang berdasarkan satu bentuk \"lingua franca\" yang disusurgalurkan ke bahasa Melayu Klasik. Asal usul bahasa Melayu اصل اصول بهاس ملايو. Ahli-ahli linguistik bahasa Melayu bersetuju dengan kemungkinan bahawa asal usul bahasa Melayu terletak di barat pulau Borneo. Satu bentuk bahasa yang kini dikenali sebagai bahasa Melayu Purba (dari segi linguistik dikenali sebagai bahasa Melayik Purba) dituturkan di pulau Borneo sekurang-kurangnya pada 1000 tahun sebelum Masihi dan dianggap sebagai leluhur kepada kesemua bahasa di bawah kumpulan Melayik. Leluhur bahasa purba ini ialah bahasa Melayu-Polinesia Purba, yang merupakan turunan dari bahasa Austronesia Purba, mula bercambah sekurang-kurangnya pada 2000 tahun sebelum Masihi, yang mungkin hasil daripada penerokaanorang Austronesia dari pulau Taiwan ke arah kawasan yang terletak lebih selatan yakni kawasan maritim Asia Tenggara Sejarah Bahasa Melayu سجاره بهاس ملايو. Secara umumnya, garis perkembangan bahasa Melayu terbahagi kepada tiga fasa utama iaitu bahasa Melayu Kuno, bahasa Melayu Klasik dan bahasa Melayu Moden, dan terdapat fasa peralihan di antara fasa-fasa utama tersebut. Sesetengah pakar bahasa menganggap bahasa Melayu Kuno ialah bahasa leluhur bahasa Melayu Klasik, tetapi sesetengah ahli linguistik yang lain pula berpendapat bahawa hubungan leluhur antara dua fasa bahasa ini susah untuk ditentusahkan berikutan keganjilan dari segi morfologi dan sintaksis antara dua fasa ini, serta keserentakan penggunaan kedua-dua fasa bahasa ini pada abad ke-14. Bahasa Melayu Kuno dipengaruhi oleh bahasa Sanskrit yang merupakan bahasa klasik di India. Peminjaman kata-kata Sanskrit boleh didapati dalam perbendaharaan bahasa Melayu Kuno. Batu bersurat terawal dalam bahasa Melayu Kuno dijumpai di Sumatra, Indonesia, dan ditulis dalam huruf-huruf Grantha bervariasi Pallava dan tarikhnya ditentukan pada 1 Mei 683. Batu bersurat ini dikenali sebagai batu bersurat Kedukan Bukit yang dijumpai oleh orang Belanda yang bernama M. Batenburg pada 29 November 1920 di Sungai Musi, Kedukan Bukit, Sumatra Selatan. Ia merupakan batu kecil berukuran . Bukti lain ialah naskhah Undang-undang Tanjung Tanah dalam huruf-huruf pasca-Pallava. Teks perundangan pra-Islam pada abad ke-14 ini dihasilkan pada zaman pemerintahan Adityawarman (1345–1377) di kerajaan Dharmasraya, yang merupakan kerajaan Hindu-Buddha yang membangun setelah tamatnya kekuasaan Srivijaya di Sumatra. Undang-undang ini ditulis untuk orang Minangkabau yang masih tinggal di tanah tinggi di barat Sumatra, Indonesia. Batu bersurat Terengganu (Jawi: باتو برسورت ترڠݢانو) ialah pacakan batu granit dengan inskripsi tulisan Jawi dan dijumpai di Terengganu, Malaysia. Ia adalah bukti terawal kewujudan batu-batu bersurat bahasa Melayu Klasik. Batu bersurat yang bertarikh tahun 702 hijrah (bersamaan tahun 1303 masihi) merupakan bukti terawal tulisan Jawi di alam Melayu Asia Tenggara, dan juga merupakan salah satu daripada bukti terawal kepada kewujudan Islam sebagai agama negeri di rantau ini. Kandungan batu bersurat ini ialah pengisytiharan pemerintah di Terengganu yang dikenali sebagai Seri Padukan Tuan, yang menyuruh pengikutnya untuk mendukung agama Islam, serta memberikan 10 fasal asas undang-undang syariah bagi membimbing pengikutnya. Bahasa Melayu mendapat penggunaan yang semakin meluas dan kukuh sebagai bahasa perantaraan kawasan maritim Asia Tenggara sewaktu zaman Kesultanan Melayu Melaka (1402–1511). Zaman ini menyaksikan perkembangan bahasa Melayu yang pantas di bawah pengaruh kesusasteraan Islam. Perkembangan bahasa ini mengubah sifat bahasa ini melalui kemasukan perbendaharaan kata secara mendadak dari bahasa Arab, bahasa Tamil dan bahasa Sanskrit, sehingga membentuk kesusasteraan Melayu Klasik yang matang. Bahasa Melayu pada zaman Kesultanan Melayu Melaka ini berevolusi menjadi bentuk yang boleh dikenalpasti oleh penutur bahasa Melayu pada zaman moden. Apabila kerajaan ini berpindah dan mendirikan Kesultanan Johor Lama, ia terus digunapakai sebagai bahasa klasik serantau; sehingga ia amat berhubungkait dengan kerajaan Riau di bawah pengaruh Belanda dan kerajaan Johor di bawah pengaruh British sehingga bahasa Melayu Riau dianggap dekat dengan bahasa klasik itu. Namun, tiada hubungkait antara bahasa Melayu Melaka yang digunakan di istana Riau dan bahasa Riau vernakular yang digunapakai oleh penduduk tempatan Riau. Surat-surat dari Sultan Abu Hayat yangmemerintah Ternate dan Kepulauan Maluku (yang kini di dalam Indonesia) pada tahun 1521-1522 merupakan antara surat-surat tertua yang ditulis dalam bahasa Melayu. Teks surat ini ditulis kepada raja Portugal, selepas berhubung dengan peneroka Portugis bernama Francisco Serrão. Surat-surat ini menunjukkan tanda penggunaan bahasa yang bukan asli; kerana orang Ternate menggunapakai (dari dahulukala sehingga ke hari ini) bahasa Ternate sebagai bahasa ibunda mereka (yakni salah satu daripada bahasa-bahasa di Papua Barat). Bahasa Melayu adalah satu-satunya bahasa yang digunakan sebagai bahasa perantara (atau \"lingua franca\") untuk perhubungan antara pelbagai kaum. Pengelasan bahasa ڤڠلسن بهاس. Bahasa Melayu ialah salah satu ahli keluarga bahasa Austronesia yang meliputi bahasa-bahasa di kawasan Asia Tenggara dan Lautan Teduh, serta sebilangan kecil di benua Asia. Bahasa Malagasi, yakni bahasa tersisih dari segi geografi, yang dituturkan di Madagaskar terletak di barat Lautan India, juga merupakan ahli keluarga bahasa-bahasa Austronesia. Walaupun bahasa-bahasa ini tidak semestinya mempunyai kesalingfahaman yang jelas, persamaan yang terdapat pada bahasa-bahasa ini sebenarnya agak jelas. Dalam bahasa-bahasa yang lebih konservatif seperti bahasa Melayu, terdapat banyak kata-kata akar yang mengalami perubahan yang agak kecil dari bahasa leluhur mereka yakni bahasa Austronesia Purba. Terdapat banyak kata-kata kognat dalam perbendaharaan bahasa-bahasa ini dari segi hubungan pertalian, kesihatan, bahagian tubuh badan, dan nama-nama haiwan am. Persamaan dijumpai lebih ketara pada nombor-nombor yang ada pada keluarga bahasa ini. Di bawah keluarga bahasa Austronesia, bahasa Melayu terdiri daripada sekelompok gaya-gaya pertuturan yang rapat hubungkaitnya yang dikenali sebagai bahasa-bahasa Melayik yang tersebar merentasi Semenanjung Tanah Melayu dan kepulauan Indonesia oleh pedagang-pedagang Melayu dari Sumatra. Terdapat perbezaan pendapat mengenai kelainan-kelainan pertuturan yang manakah sepatutnya dikempok sebagai dialek-dialek bahasa Melayu, dan kelainan-kelainan yang manakah sepatutnya dianggap sebagai bahasa-bahasa Melayu yang terpisah. Bahasa vernakular di Brunei yakni bahasa Melayu Brunei misalnya tidak boleh disalingfaham dengan bahasa piawai, dan hal ini turut berlaku pada kelainan bahasa yang terdapat di Semenanjung Tanah Melayu seperti bahasa Melayu Kedah. Tetapi, bahasa Melayu Brunei dan bahasa Melayu Kedah pula mempunyai hubungan yang agak dekat. Sistem tulisan سيستم توليسن. Bahasa Melayu kini ditulis dalam tulisan Rumi di Brunei, Malaysia dan Singapura atau \"tulisan Latin\" di Indonesia, walaupun tulisan Arab yang dikenali sebagai \"tulisan Arab Melayu\" atau tulisan Jawi juga wujud. Tulisan Rumi merupakan tulisan rasmi di negara Malaysia, Singapura, dan Indonesia. Bahasa Melayu menggunakan sistem angka Arab. Kedua-dua tulisan Rumi dan tulisan Jawi adalah tulisan-tulisan rasmi hanya di Brunei. Nama-nama di institusi atau organisasi di Brunei perlu menggunakan kedua-dua jenis tulisan. Tulisan Jawi digunakan secara penuh di sekolah-sekolah agama yang pelajar-pelajar Muslim berumur 6-7 sehingga 12-14 tahun perlu hadiri pada waktu tengah hari. Beberapa usaha sedang diambil untuk memelihara tulisan Jawi di Malaysia, dan pelajar-pelajar yang mengambil peperiksaan dalam bahasa Melayu di Malaysia diberi pilihan untuk menjawab soalan-soalan dalam tulisan Jawi. Namun tulisan Rumi ialah tulisan yang paling kerap digunapakai di Brunei dan Malaysia untuk kegunaan rasmi mahupun tidak rasmi. Pada masa lampau, bahasa Melayu ditulis dalam pelbagai jenis tulisan lain. Sebelum pengenalan tulisan Arab di rantau kepulauan Melayu, bahasa Melayu ditulis dalam tulisan Pallava, tulisan Kawi dan tulisan Rencong; tulisan-tulisan tersebut kinisudah tidak digunakan lagi tetapi tulisan yang seakan contohnya seperti tulisan Cam masih digunapakai oleh orang Cam di Vietnam dan Kemboja. Bahasa Melayu Kuno ditulis dalam tulisan Pallava dan Kawi seperti pada bukti batu bersurat di kawasan rantau Melayu. Bermula dengan era Kerajaan Samudera-Pasai sehingga ke zaman kemuncak Kesultanan Melaka, tulisan Jawi sedikit demi sedikit menggantikan penggunaan tulisan-tulisan ini sebagai tulisan yang paling banyak digunapakai di alam Melayu. Bermula dengan abad ke-17, di bawah pengaruh Belanda dan British, Jawi sedikit demi sedikit digantikan dengan tulisan Rumi. Untuk mengetahui kaedah penggunaan abjad, penulisan huruf, penulisan kata, penulisan unsur serapan dan tanda baca umum yang dipraktikkan dalam bahasa Melayu, sila lihat: Laman arkib Pedoman Umum Ejaan Bahasa Melayu Sistem fonologi سيستم فونولوݢي. Salah satu faktor utama yang menjadikan Bahasa Melayu sebagai bahasa yang sangat mudah untuk dipelajari adalah disebabkan oleh sistem fonologi yang amat mudah. Boleh dikatakan hampir setiap huruf Rumi mewakili satu sebutan fonem. Bahasa Melayu, seperti kebanyakan bahasa lain di bawah keluarga Austronesia, bukanlah bahasa bernada. Bunyi-bunyi konsonan. Bunyi-bunyi konsonan bahasa Melayu Malaysia dan juga bahasa Indonesia ditunjukkan seperti berikut. Bunyi-bunyi konsonan yang bukan asli daripada kata-kata pinjaman bahasa Arab dan bahasa Inggeris ditunjukkan dalam tanda kurung. Fonem pinjaman dari bahasa Arab: Bunyi-bunyi vokal. Bahasa Melayu pada asalnya mempunyai 4 bunyi vokal, tetapi kebanyakan dialek-dialek yang wujud pada hari ini termasuk juga bahasa Melayu Baku mempunyai enam bunyi vokal dengan fonem terbelah menjadi dan fonem terbelah menjadi . Banyak perkataan disebut dengan bunyi yang berbeza sama ada berbunyi atau , dan tidak terlalu banyak perkataan asli Melayu yang menggunakan bunyi vokal tengah . Nota ortografi: Kedua-dua fonem dan ditulis dengan huruf . Penggunaan ortografi mewakili fonem agak kurang dalam perkataan jati Melayu, dan huruf biasanya mewakili bunyi . Tetapi terdapat juga pasangan homograf seperti \"perang\" digunakan untuk mewakili dua sebutan iaitu (kata kerja) dan (kata sifat melambang warna). Beberapa kajian menganggap sebagai diftong. Namun, , dan hanya boleh wujud dalam suku kata terbuka, contoh perkataan: \"cukai\", \"kerbau\" dan \"dodoi\". Perkataan yang dua huruf vokalnya disusun dalam suku kata tertutup, seperti \"baik\", \"laut\", \"kuat\", \"biak\", \"buih\" dan \"bius\" adalah terdiri daripada dua suku kata. Satu analisis alternatif menganggap diftong-diftong fonetik , dan sebagai jujukan monoftong dengan tambahan satu bunyi konsonan semi-vokal: , dan . Terdapat satu hukum keselarasan vokal: bunyi-bunyi vokal yang tidak luas seperti di perkataan yang mempunyai dua suku kata perlu ada keselarasan dari segi ketinggian vokalnya, contohnya \"hidung\" /hi.duŋ/ boleh disebut sebagai /hi.doŋ/ tetapi tidak boleh disebut sebagai /he.duŋ/. Satu kajian oleh Uri Tadmor yang diterbit pada tahun 2003 menunjukkan mutasi ⟨a⟩ di suku kata terbuka akhir perkataan ialah ciri-ciri berkawasan, secara spesifik merupakan ciri-ciri di kawasan barat Austronesia. Uri Tadmor mengklasifikasi ciri-ciri tersebut ke dalam empat kumpulan seperti berikut: Perbezaan antara Bahasa Melayu Piawai dan Bahasa Indonesia ڤربيذاءن انتارا بهاس ملايو ڤياواي دان بهاس ايندونيسيا. \"Untuk rencana lanjutan, lihat Perbezaan antara Bahasa Melayu Piawai dan Bahasa Indonesia atau Perbezaan sebutan Bahasa Melayu dan Bahasa Indonesia\" Perbezaan antara bahasa Melayu piawai dan bahasa Indonesia sebenarnya tidak terlalu jauhberbeza. Bahasa Indonesia sendiri pada dasarnya didasarkan kepada bahasa Melayu dialek Riau. Bahasa Melayu Riau yang juga dipakai di Malaysia sebagai bahasa standard atau lazim disebut dengan \"Bahasa Melayu Baku\". Namun, jika dibezakan dari segi sejarah, budaya, perlakuan tatabahasa masing-masing, dan lain-lain, jelas adalah perbezaan yang ketara antara kedua-dua bahasa. Penutur bahasa Melayu kebanyakan boleh memahami bahasa Indonesia, tetapi penutur bahasa Indonesia kebanyakan tidak boleh memahami bahasa Melayu sebab ada banyak perbezaan dari segi ejaan dan kosa kata. Bahasa Indonesia pun dimakna berbeza daripada bahasa Melayu yang lazim dituturkan di Malaysia kerana mempunyai banyak perkataan yang berasal dari bahasa Kawi, Jawa, Sunda, Betawi, Bali, Madura, Minangkabau, Belanda, dan lain-lain, walaupun sebenarnya bahasa Melayu yang dipakai di Malaysia pun banyak mempunyai kata pinjaman dari bahasa-bahasa daerah di Indonesia seperti bahasa Melayu Palembang, Minangkabau, Jawa, Lampung, Banjar, dan lain-lain. Pengaruh daripada bahasa asing ڤڠاروه درڤد بهاس اسيڠ. Bahasa Melayu banyak menyerap bahasa-bahasa asing seperti Sanskrit, Inggeris, Belanda, Jawa, Arab dan sebagainya. Pengaruh Bahasa Sanskrit. Bahasa Sanskrit, bahasa perantara agama Hindu dan Buddha, telah banyak mempengaruhi bahasa Melayu apabila bahasa Melayu berada di peringkat kuno, iaitu pada peringkat sebelum bahasa Melayu mencapai zaman klasik pada zaman Kesultanan Melayu Melaka yang mana bahasa Melayu telah mengalami zaman kuno antara abad ke-7 dan abad ke-13. Bukti pengaruh bahasa Sanskrit dalam bahasa kuno dapat dikesan dalam batu bersurat yang ditinggalkan oleh kerajaan Srivijaya. Mengenai bukti bahasa Melayu kuno, terdapat empat batu bersurat yang penting, iaitu yang dijumpai di: Selain itu sebagai faktor sampingan, faktor kemegahan juga faktor yang mendorong kepada peminjaman bahasa daripada bahasa Sanskrit. Peminjaman ini adalah kerana bahasa Sanskrit merupakan bahasa yang dianggap bahasa yang \"tinggi-tinggi\" pada zaman kuno. Penyerapan bahasa Sanskrit dalam bahasa seharian dijadikan satu cara perolehan kemegahan. Keadaan ini khususnya menyebabkan peminjaman perkataan yang sudah ada dalam bahasa Melayu asli, tetapi digantikan juga dengan bahasa Sanskrit, kerana barangkali dianggap lebih sesuai, lebih sedap bunyinya ataupun semata-mata kerana disangka lebih \"tinggi\" mutunya kerana bahasa Sanskrit merupakan bahasa sarjana. Dalam bahasa Melayu, terdapat 677 perkataan yang berasal daripada bahasa Sanskrit. Berikut disenaraikan beberapa contoh perkataan Sanskrit yang dipinjam ke dalam bahasa Melayu: Pengaruh Bahasa Jawa. Bahasa Jawa dan bahasa Melayu merupakan bahasa serumpun. Kedua-kedua bahasa tergolong kepada keluarga bahasa Indonesia. Terdapat dua faktor utama dalam penyebaran pengaruh bahasa Jawa ke Bahasa Melayu, iaitu: Cerita panji ialah sejenis cerita yang berasal dari Jawa. Isinya mengenai wira dan wirawati. Cerita ini terdapat banyak versi, dan boleh dikesan di seluruh nusantara sehingga di Kemboja. Migrasi orang Jawa ke Tanah Melayu telah berlaku semenjak zaman Kesultanan Melayu Melaka. Pertempatan orang Jawa sudah dapat dikesan di bandar Melaka pada zaman itu, iaitu Kampung Jawa dan Parit Jawa. Walau bagaimanapun, migrasi orang Jawa ke Tanah Melayu yang ketara berlaku bermula pada awal abad ke-19. Tumpuan migrasi Jawa adalah di negeri-negeri Selat dan juga negeri Selangor dan negeri Johor. Pertembungan orang tempatan yang menutur bahasa Melayu dengan pendatang Jawa yang menutur dalam bahasa Jawa telah menyebabkan unsur-unsur bahasa Jawa meresap ke dalam Bahasa Melayu. Walau bagaimanapun, perlu diketahui bahawa kata-katapinjaman Jawa meresap ke dalam Bahasa Melayu secara terpencil dan tidak tersebar luas. Ia dikatakan diserap ke dalam Bahasa Melayu kerana migrasi orang-orang Jawa yang masih mengekalkan bahasa mereka dan tidak menguasai perbendaharaan bahasa Melayu yang sebenar. Berikut disenaraikan beberapa kata-kata pinjaman Jawa dalam bahasa Melayu: Pengaruh Arab-Islam. Bahasa Arab dan agama Islam sangat mempengaruhi perkembangan bahasa Melayu. Status bahasa Melayu yang bertaraf lingua franca dan keunikannya telah menyebabkan agama Islam disebarkan dalam bahasa Melayu dan bukan dengan bahasa Arab. Walau bagaimanapun, bahasa Arab melalui kedatangan agama Islam telah mempengaruhi perkembangan bahasa Melayu dalam beberapa aspek, antaranya: 1- perbendaharaan kata 2- sebutan kata 3- tulisan Perbendaharaan Kata. Hampir sebahagian besar perbendaharaan bahasa Melayu meminjam perkataan bahasa Arab. Berikut disenaraikan beberapa contoh perkataan Arab yang dipinjam ke dalam bahasa Melayu: Sebutan Kata. Pengaruh Arab-Islam memberi kesan yang sangat besar kepada sebutan perkataan dalam bahasa Melayu. Bahasa Melayu mula dituturkan supaya menghampiri sebutan bahasa Arab, kerana masyarakat Melayu terdorong untuk membaca Al-Qur\\'an dengan betul. Sebutan dengan pengaruh Arab-Islam ini turut membezakan antara penutur asal bahasa Melayu (iaitu orang-orang Melayu) dengan penutur bukan asal (seperti kaum Cina, India, atau bangsa Eropah) kerana penutur bukan asal ini tidak dapat menyebut beberapa perkataan yang menerima pengaruh Arab. Contoh-contoh perkataan yang berbeza sebutan antara sebutan penutur Melayu dan penutur bukan Melayu: Tulisan. Kedatangan pengaruh Arab-Islam telah menyumbang kepada penulisan bahasa Melayu dalam tulisan Arab yang akhirnya disebut tulisan Jawi. Tulisan Jawi ini digunakan antara lain bagi memudahkan orang-orang Melayu yang rata-rata beragama Islam membaca Al-Quran. Hal ini dapat dilihat dengan jelas apabila sistem pendidikan Malaysia menukar tulisan Jawi kepada tulisan Rumi, ramai orang-orang Melayu mula tidak mampu membaca Al-Quran dengan baik. Ia dinamakan sindrom Buta Jawi atau Buta Al-Quran. Pengaruh Bahasa Cina. Dalam Kamus Dewan, terdapat kata-kata yang mempunyai etimologi berlabel \"C\". Perkataan ini merupakan kata-kata yang dipinjam daripada bahasa Cina. Tetapi bukan semua kata-kata yang berlabel \"C\" dalam Kamus Dewan Bahasa merupakan kata-kata yang dipinjam daripada bahasa Cina. Dalam kajian Kong 1993, telah disimpulkan bahawa lebih kurang 261 patah perkataan Bahasa Melayu telah dipinjam daripada bahasa Cina. Terdapat 10 pengelasan kata yang telah disimpulkan oleh Kong iaitu: Kajian ini juga dilakukan oleh Mashudi dan Yeong pada tahun 1989. Hasil kajian mereka mendapati terdapat lebih kurang 341 patah perkataan Bahasa Melayu dipinjam daripada bahasa Cina. Kajian melihat pada fonologi perkataan bahasa Melayu tersebut. Sistem fonologi kata asli bahasa Melayu tidak bertepatan dengan sistem fonologi kata bahasa Cina. Antara kata Bahasa Cina yang dipinjam dalam Kamus Dewan Bahasa ialah: Prilaku fonologi pinjaman kata Bahasa Cina adalah bertentangan dengan sistem fonologi bahasa Melayu. Pengaruh Portugis. Terdapat 131 perkataan yang berkemungkinan berasal daripada bahasa Portugis. Beberapa contoh perkataan Portugis yang diserap dalam bahasa Melayu ialah: Pengaruh Inggeris. Pengaruh bahasa Inggeris dalam bahasa Melayu merupakan pengaruh paling ketara dan paling meluas masa kini, dan lazimnya perkataan Inggeris dipinjam ke dalam bahasa Melayu apabila tiada perkataan tempatan untuk menggambarkan situasi baru yang memerlukan satu panggilan khusus untuk merujuk kepadanya. Contoh perkataan sebegini ialah \"konotasi\" (; \"connotation\"), \"kompromi\" (; \"compromise\") dan \"siri\"(; \"series\"). Tetapi kebingungan dan bantahan sering timbul apabila perkataan Inggeris yang diterima masuk ke dalam bahasa Melayu terlalu banyak sehinggakan ada yang bertindak sebagai pengganti perkataan yang telah wujud. Dewan Bahasa dan Pustaka telah terus membenarkan kemasukan perkataan sebegini dalam kosa kata bahasa Melayu dan tidak menghiraukan bantahan yang dikemukakan. Penggunaan perkataan sebegini yang meluas di media percetakan dalam bahasa Melayu di Malaysia seperti pada akhbar Utusan Malaysia telah mengeruhkan lagi permasalahan ini. Satu-satunya kenyataan bernada bimbang terhadap situasi ini pernah dilafazkan bekas perdana menteri Malaysia, Mahathir bin Mohamad meskipun beliau sendiri telah memperkenalkan suatu perkataan baru \"bajet\" () menggantikan perkataan \"belanjawan\" () semasa pembentangan belanjawannya yang terakhir, dengan alasan bahawa istilah belanjawan tidak tepat kerana anggaran kewangan kerajaan turut melibatkan hasil, dan bukan belanja semata-mata. Berikut merupakan beberapa perkataan yang telah diterima dalam bahasa Melayu secara rasmi dan digunakan secara meluas dan dianggap telah diterima. Beberapa tahun kebelakangan ini (sekitar 2003), stesen televisyen milik kerajaan Malaysia RTM 1 (dahulu dikenali sebagai TV 1) telah menukar tema salurannya kepada \"Saluran Infotainmen Anda\" (; daripada bahasa Inggeris \"Your Infotainment Channel\") dan ini menimbulkan kontroversi apabila Dewan Bahasa dan Pustaka (DBP) mendakwa perkataan \"Infortainmen\" merosakkan penggunaan bahasa Melayu. Alasan yang diberikan adalah bahawa \"-tain-\" yang harus disebut seakan perkataan Melayu \"main\", dan ini kedengaran agak janggal. Penukaran ejaan ke \"Infotenmen\" pula tidak diterima sebagai piawai DBP dan kerajaan disaran menggantikannya dengan perkataan lain seperti \"Infohibur\" tetapi Kementerian Penerangan yang mengendalikan stesen televisyen kerajaan Radio Televisyen Malaysia enggan menuruti saranan berkenaan. Pada tahun 2006 tema ini ditukarkan ke \"Saluran Inforia\" (). Definisi bahasa Melayu tinggi dan bahasa Melayu baku ديفينيسي بهاس ملايو تيڠݢي دان بهاس ملايو باکو. Konsep bahasa Melayu tinggi merujuk kepada penggunaan bahasa Melayu dalam konteks wacana ilmiah dan berkaitan dengan ketamadunan. Bahasa Melayu tinggi sering dirujuk sebagai wahana bagi melahirkan idea dan wawasan yang berkaitan dengan kesarjanaan dan kebudayaan. Bahasa Melayu tinggi lazimnya digunakan dalam seminar, persidangan atau kongres yang berkaitan dengan bahasa, budaya ataupun bidang ilmiah yang lain. Bahasa Melayu baku pula ialah bahasa Melayu yang sempurna dari segi penggunaan aspek bahasanya, iaitu ejaan, tatabahasa, istilah, penggunaan kata, laras bahasa dan sebutan. Frasa mudah dalam Bahasa Melayu فراسا موده دالم بهاس ملايو. Di Malaysia, biasanya masyarakat Melayu bertegur sapa sesama sendiri dengan ucapan salam, tetapi ucapan formal seperti \"Selamat pagi\" atau \"Selamat sejahtera\" turut digunakan bagi penutur bukan Islam. Ucapan \"Hai\" juga sering digunakan apabila bertegur sama sesama rakan-rakan, sebagaimana perkataan \"Bye-bye\" semasa meminta diri untuk beredar. Penggunaan tidak formal pada zaman kontemporari. Di keempat-empat negara yang menggunakan bahasa-bahasa Melayik yakni negara Indonesia, Malaysia, Singapura dan Brunei, penggunaan ragam bahasa Melayu yang tidak formal adalah sesuatu yang pasti berlaku dalam kehidupan harian kerana agak mustahil untuk setiap orang bertutur dalam ragam formal sepanjang masa. Penggunaan ragam tidak formal kebiasaannya berlaku melalui pemendekkan kata dari bahasa formal, peminjaman kosa kata dari dialek-dialek/bahasa-bahasa tempatan (seperti dialek Melayu Kelantan, bahasa Minangkabau atau bahasa Jawa) mahupun bahasa-bahasa negara berdekatan (seperti bahasa Thai, bahasa Cina dan bahasa India) serta penyerapan sebutan langsung darikosa kata bahasa asing khususnya bahasa Inggeris ekoran globalisasi. \"Untuk rencana berkaitan penggunaan bahasa Indonesia yang tidak formal, sila lihat Bahasa gaul Indonesia\" \"Untuk rencana berkaitan penggunaan bahasa Melayu Malaysia yang tidak formal, sila lihat Bahasa Melayu yang tidak rasmi di Malaysia\"<eos><bos><eos><bos>Air (, formula kimia: H2O) merupakan bahan kimia yang berada dalam bentuk cecair pada tekanan biasa dan pada suhu bilik. Air yang tulen tiada rasa, warna atau bau. Formula kimianya menunjukkan satu molekul air terbina daripada dua atom hidrogen dan satu atom oksigen. Setiap kehidupan di bumi ini memerlukan air untuk terus hidup. Air wujud dalam 3 bentuk iaitu pepejal, cecair, dan gas. Air dalam bentuk cecair adalah bentuk air yang paling utama ditemui di muka bumi ini. Air dalam bentuk gas adalah kukus atau wap air yang dihasilkan apabila air disejat atau dididihkan. Air dalam bentuk pepejal adalah ais yang dihasilkan apabila air dibekukan. Air meliputi 71% daripada permukaan Bumi, banyaknya di laut dan lautan (kira-kira 96.5%). Perkataan \"air\" diturunkan dari akar Proto-Austronesia *\"wahiR\" yang dahulunya lebih khusus bermaksud \"air tawar\" atau \"sungai\". Ciri-ciri. Formula kimia bagi air adalah H2O, yang membawa maksud setiap molekul air mengandungi dua atom hidrogen dan satu atom oksigen. Hubungan terjadi antara elektron-elektron yang membentuk bahagian luar atom dan merupakan mata rantai kuat yang dinamakan ikatan kovalen. Molekul air boleh diuraikan kepada unsur asas dengan mengalirkan arus elektrik melaluinya. Proses ini yang dikenali sebagai elektrolisis menguraikan dua atom hidrogen menerima elektron dan membentuk gas H2 pada katod sementara empat ion OH- bergabung dan membentuk gas O2 (oksigen) pada anod. Gas-gas ini membentuk buih dan boleh dikumpulkan. Air juga merupakan bahan pelarut semesta. Ini disebabkan molekul air terdiri daripada dua atom hidrogen bergabung dengan satu atom oksigen pada sudut 104.45 darjah antara keduanya. Struktur ini menjadikan molekul air mempunyai caj positif di sebelah atom hidrogen dan negatif di sebelah atom oksigen. Oleh yang demikian, molekul air adalah dwikutub. Ciri suhu. ketumpatan yang unik membenarkan pembentukan persekitaran berstratum yang akhirnya mengawal ciri-ciri kimia dan biologi persekitaran akuatik. Lapisan yang terbentuk hasil daripada tegangan permukaan yang tinggi membolehkan sesetengah organisma menggunakannya sebagai permukaan untuk hidup. Keupayaan air untuk melarut bahan-bahan lain membolehkan tumbuh-tumbuhan akuatik mendapat nutrien yang diperlukan untuk proses fisiologi daripada air di sekelilingnya. Tumbuh-tumbuhan akuatik seperti alga hijau tidak memerlukan struktur khusus untuk menyerap nutrien atau sistem pengangkutan yang kompleks seperti yang ditunjukkan oleh tumbuhan daratan untuk mengangkut bahan-bahan ini ke tisu yang memerlukannya. Air dan mineral boleh memasukinya melalui sebarang bahagian jasad tumbuhan ini dengan cara resapan sahaja. Bahan-bahan ini akan meresap masuk melalui selaput sel yang terdedah kepada persekitaran luar. Bekalan oksigen yang diperlukan oleh haiwan dan organisma lain juga mampu dibekalkan disebabkan oleh keupayaan melarut ini. Di Bumi. Hidrologi ialah kajian tentang pergerakan, pengedaran, dan kualiti air di seluruh Bumi. Kajian mengenai taburan air ialah hidrografi. Kajian penyebaran dan pergerakan air bawah tanah ialah hidrogeologi, kajian glasier ialah glasiologi, perairan pedalaman ialah limnologi dan pengedaran lautan ialah oseanografi. Proses ekologi dengan hidrologi pula menjadi tumpuan ekohidrologi. Jisim keseluruhan air yang terdapat di atas dan di bawah permukaan planet disebut hidrosfera. Isipadu air bumi (jumlah bekalan air dunia) ialah 1.386 × 109 kilometer padu (3.33 × 108 batu padu). Air cecair ditemukan di jasad air, seperti lautan, laut, tasik, sungai, jeram, terusan, kolam,atau lopak air. Sebilangan besar air di Bumi ialah air laut. Air juga terdapat di atmosfera dalam keadaan pepejal, cecair, dan wap. Ia juga wujud sebagai air bawah tanah dalam akuifer. Air penting dalam banyak proses geologi. Air bawah tanah terdapat dalam kebanyakan batu, dan tekanan air bawah tanah ini mempengaruhi corak sesar. Air dalam mantel bertanggungjawab untuk menghasilkan gunung berapi di zon benam. Di permukaan Bumi, air penting dalam proses luluhawa kimia dan fizikal. Air dan ais juga bertanggungjawab untuk sejumlah besar pengangkutan enapan yang terjadi di permukaan bumi. Pemendapan pengangkutan enapan membentuk banyak jenis batuan enapan, yang membentuk catatan geologi sejarah Bumi. Kitaran air. Kitaran air (dikenali secara ilmiah sebagai kitaran hidrologi) merujuk kepada pertukaran air yang berterusan dalam hidrosfera, antara atmosfera, air tanah, air permukaan, air bawah tanah, dan tanaman. Air bergerak terus menerus melalui setiap wilayah ini dalam \"kitaran air\" yang terdiri daripada proses pemindahan berikut: Sebilangan besar wap air di atas lautan kembali ke lautan, tetapi angin membawa wap air ke darat pada kadar yang sama dengan aliran air ke laut, sekitar 47 Tt per tahun. Di atas tanah, penyejatan dan perpeluhan menyumbang tambahan 72 Tt setiap tahun. Kerpasan, pada kadar 119 Tt per tahun di darat, mempunyai beberapa bentuk: paling sering hujan, salji, dan hujan batu, dengan beberapa sumbangan daripada kabus dan embun. Embun ialah titisan kecil air yang termeluwap apabila ketumpatan wap air yang tinggi bertemu dengan permukaan yang sejuk. Embun biasanya terbentuk pada waktu pagi ketika suhu paling rendah, tepat sebelum matahari terbit dan ketika suhu permukaan bumi mulai meningkat. Air termeluwap di udara juga dapat membiaskan sinar matahari untuk menghasilkan pelangi. Larian air atau juga limpasan air sering terkumpul di legeh lalu mengalir ke sungai. Model matematik yang digunakan untuk mensimulasikan aliran sungai dan menghitung parameter kualiti air adalah model pengangkutan hidrologi. Sebilangan air dialihkan ke pengairan untuk pertanian. Sungai dan laut menawarkan peluang untuk perjalanan dan perdagangan. Melalui hakisan, larian air ini membentuk persekitaran mewujudkan lembah sungai dan delta yang menyediakan tanah yang subur dan kaya untuk penubuhan pusat-pusat penduduk. Banjir berlaku apabila kawasan daratan, biasanya dataran rendah, dilitupi dengan air. Ia berlaku ketika sungai melimpah di tebingnya atau banjir datang dari laut. Kemarau pula ialah jangka masa yang panjang dari bulan atau tahun apabila suatu wilayah mencatat kekurangan bekalan airnya. Ini berlaku apabila wilayah menerima air di bawah purata hujan secara konsisten. Penyimpanan air tawar. Air wujud dalam bentuk \"stok\" dan \"aliran.\" Air boleh disimpan sebagai tasik, wap air, air bawah tanah atau \"akuifer,\" dan ais dan salji. Dari jumlah isi padu air tawar global, dianggarkan 69 peratus disimpan dalam glasier dan litupan salji kekal; 30 peratus berada di bawah tanah; dan selebihnya 1 peratus di tasik, sungai, atmosfera, dan biota. Jangka masa penyimpanan air tetap adalah berbeza-beza: sebilangan akuifer terdiri daripada air yang tersimpan selama ribuan tahun tetapi jumlah tasik mungkin turun naik secara bermusim, menurun semasa musim kering dan meningkat semasa hujan. Sebilangan besar bekalan air untuk beberapa kawasan terdiri daripada air yang diekstrak dari yang tersimpandalam stok, dan apabila pengeluaran air melebihi pengisian, stok akan berkurang. Menurut beberapa perkiraan, sebanyak 30 peratus jumlah air yang digunakan untuk pengairan berasal dari penarikan air bawah tanah yang tidak lestari, menyebabkan pengurangan air bawah tanah. Air laut dan pasang surut. Air laut rata-rata mengandungi kira-kira 3,5% natrium klorida, ditambah dengan jumlah zat lain yang lebih kecil. Sifat fizikal air laut berbeza daripada air tawar dalam beberapa aspek penting. Ia membeku pada suhu yang lebih rendah (sekitar ) dan ketumpatannya terus meningkat dengan penurunan suhu walau ke titik beku, berbanding air tawar yang mencapai kepadatan maksimum pada suhu di atas beku. Kemasinan air di laut utama bervariasi dari sekitar 0.7% di Laut Baltik hingga 4.0% di Laut Merah. (Laut Mati, yang terkenal dengan kadar kemasinannya yang sangat tinggi antara 30-40%, benar-benar tasik garam.) Pasang surut adalah kenaikan dan penurunan aras permukaan laut setempat yang disebabkan oleh daya pasang surut Bulan dan Matahari yang bertindak ke atas lautan. Pasang surut menyebabkan perubahan kedalaman jasad air laut dan muara dan menghasilkan arus berayun yang dikenali sebagai arus pasang surut. Perubahan pasang surut yang dihasilkan di lokasi tertentu adalah hasil perubahan kedudukan Bulan dan Matahari secara relatif terhadap Bumi ditambah dengan kesan putaran Bumi dan batimetri tempatan. Jalur pantai yang tenggelam ketika air pasang dan terdedah pada air surut, atau dikenali juga sebagai zon pasang surut, ialah produk ekologi penting kesan pasang surut laut.<eos><bos>Kandungan terbuka, dicipta dengan analogi dari \"sumber terbuka\", memerikan apa-apa kerja kreatif termasuklah rencana, gambar, audio dan video yang diterbitkan dalam format yang dengan jelas menyatakan ia boleh disalin. Dari segi teknik, ia seperti \"share alike\" tapi tanpa apa-apa sekatan. Bahan tersebut boleh berada dalam domain awam atau di bawah lesen seperti Lesen Dokumentasi Bebas GNU. Istilah ini juga digunakan untuk menegaskan bahawa kandungannya boleh diubah suai oleh sesiapa; bukan oleh sesuatu pertubuhan, syarikat atau individu secara eksklusif.<eos><bos><eos><bos>Khalifah Abdul Malik bin Marwan dilahirkan pada tahun 26 Hijrah (646 Masihi). Ibunya bernama Aisyah binti Mu\\'awiyah bin al-Mughirah. Ketika berusia 16 tahun, Abdul Malik b. Marwan pernah mengetuai pasukan tentera Madinah melawan Byzantine ketika pemerintahan Mu\\'awiyah. Abdul Malik b. Marwan adalah khalifah Bani Umayyah yang Kelima yang memerintah dari tahun 65 Hijrah - 86 Hijrah (685 - 705 Masihi). Khalifah Abdul Malik b. Marwan sempat melakukan pembaharuan seperti mengeluarkan matawang mas, mengumpul kembali Mushaf Uthman, dan lain-lain. Diakhir hayatnya Khalifah Abdul Malik b. Marwan berhasrat melantik anaknya Al-Walid bin Abdul Malik bagi menggantikan pencalonan saudaranya Abdul Aziz. Ini menimbulkan ketegangan dengan Abdul Aziz tetapi ketegangan ini tamat apabila Abdul Aziz meninggal lima bulan sebelum kematian Abdul Malik b. Marwan. Selepas kematian Abdul Malik b. Marwan, anaknya Al-Walid bin Abdul Malik dilantik menjadi penggantinya. Pada zaman pemerintahan beliau jugalah Kubah Al-Sakhrah telah dibina di Baitulmuqaddis. beliau seorang cendekiawan dan mempunyai ilmu pengetahuan agama dan bahasa arab yang tinggi.beliau seorang penghafal al-quran. Pada permulaan pemerintahan,beliau berusaha untuk mengekalkan dasar pemerintahan berwaspada bagi mengelakan daripada tindakan keras. Beliau menjalan pemusatan kuasa.Kerajaan pusat di Damsyik diperintah secara mutlak. Penempatan tentera telah diperluaskan di sekitar Mesir dan kawasan Laut Mediterranean. Beliau juga memberikan layanan baik kepada suku kaum Arab dengan memberi elaun dan lain-lain. Tentera luar Syam telah digunakan untuk mengawal wilayah Iraq. Beliau turut mewujudkan sistem birokrasi yang dianggotai oleh keluarga Marwan. Abdul Malik telah'"
      ]
     },
     "execution_count": 25,
     "metadata": {},
     "output_type": "execute_result"
    }
   ],
   "source": [
    "tokenizer.decode(dataset[0]['input_ids'])"
   ]
  },
  {
   "cell_type": "code",
   "execution_count": null,
   "id": "91ae9599",
   "metadata": {},
   "outputs": [],
   "source": []
  }
 ],
 "metadata": {
  "kernelspec": {
   "display_name": "Python 3 (ipykernel)",
   "language": "python",
   "name": "python3"
  },
  "language_info": {
   "codemirror_mode": {
    "name": "ipython",
    "version": 3
   },
   "file_extension": ".py",
   "mimetype": "text/x-python",
   "name": "python",
   "nbconvert_exporter": "python",
   "pygments_lexer": "ipython3",
   "version": "3.10.12"
  }
 },
 "nbformat": 4,
 "nbformat_minor": 5
}
