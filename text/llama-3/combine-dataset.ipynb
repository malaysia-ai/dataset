{
 "cells": [
  {
   "cell_type": "code",
   "execution_count": 1,
   "id": "a58c15f1",
   "metadata": {},
   "outputs": [],
   "source": [
    "import json\n",
    "import os\n",
    "from glob import glob\n",
    "from tqdm import tqdm"
   ]
  },
  {
   "cell_type": "code",
   "execution_count": 6,
   "id": "e0b86756",
   "metadata": {},
   "outputs": [
    {
     "data": {
      "text/plain": [
       "279"
      ]
     },
     "execution_count": 6,
     "metadata": {},
     "output_type": "execute_result"
    }
   ],
   "source": [
    "files = glob('/home/ubuntu/dedup-text-dataset/*.jsonl')\n",
    "len(files)"
   ]
  },
  {
   "cell_type": "code",
   "execution_count": 7,
   "id": "af1a004a",
   "metadata": {},
   "outputs": [],
   "source": [
    "def partition(text, size = 500):\n",
    "    splitted = text.split()\n",
    "    return [' '.join(splitted[i: i + size]) for i in range(0, len(splitted), size)]"
   ]
  },
  {
   "cell_type": "code",
   "execution_count": 8,
   "id": "f6b16a61",
   "metadata": {},
   "outputs": [],
   "source": [
    "wiki = [\n",
    "    'wikipedia-2023-10-01.jsonl',\n",
    "    'wikipedia-jawi.jsonl',\n",
    "]\n",
    "language_related = [\n",
    "    'dictionary.jsonl',\n",
    "    'dewanbahasa-jdbp.jsonl',\n",
    "    'dialect.jsonl',\n",
    "    'kamusbm.jsonl',\n",
    "]\n",
    "gov_related = [\n",
    "    'hansard.jsonl',\n",
    "    'lom.agc.gov.my.jsonl',\n",
    "    'parlimen-gov.jsonl',\n",
    "    'data.gov.my.jsonl',\n",
    "    'mufti_wilayah_articles.jsonl',\n",
    "    'e-khutbah.jsonl',\n",
    "    'mufti_negeri_sem_artikel.jsonl',\n",
    "    'mufti_perlis_artikel.jsonl',\n",
    "    'mufti_negeri_sem_artikel.jsonl',\n",
    "    'gov.my.jsonl',\n",
    "    'edu.my.jsonl',\n",
    "    'malaysia-ejudgement.jsonl'\n",
    "]\n",
    "research_papers = [\n",
    "    'academia-edu.jsonl',\n",
    "    'eprints.jsonl',\n",
    "]\n",
    "social_media = [\n",
    "    'iium-confession.jsonl',\n",
    "    'b.cari.com.my.jsonl',\n",
    "    'semisupervised-whisper-large-v2.jsonl',\n",
    "    'lowyat.jsonl',\n",
    "    'malay-tweets.jsonl',\n",
    "    'c.cari.com.my.jsonl',\n",
    "    'cn.cari.com.my.jsonl',\n",
    "    'carigold.jsonl'\n",
    "]\n",
    "common_crawl = [\n",
    "    'common-crawl.jsonl',\n",
    "    'NLLB.jsonl',\n",
    "]\n",
    "buku_teks = [\n",
    "    'buku-teks.jsonl',\n",
    "    'bumigemilang.com.jsonl',\n",
    "    'tcer.my.jsonl',\n",
    "    'mysoalan.com.jsonl'\n",
    "]"
   ]
  },
  {
   "cell_type": "code",
   "execution_count": 9,
   "id": "1cf5e5a2",
   "metadata": {},
   "outputs": [],
   "source": [
    "combine = set(wiki) | set(language_related) | set(gov_related) | set(research_papers) | set(common_crawl) | set(buku_teks)"
   ]
  },
  {
   "cell_type": "code",
   "execution_count": 10,
   "id": "bc8cac95",
   "metadata": {},
   "outputs": [],
   "source": [
    "combine = {os.path.join('/home/ubuntu/dedup-text-dataset', f) for f in combine}"
   ]
  },
  {
   "cell_type": "code",
   "execution_count": 11,
   "id": "b050e905",
   "metadata": {},
   "outputs": [
    {
     "data": {
      "text/plain": [
       "254"
      ]
     },
     "execution_count": 11,
     "metadata": {},
     "output_type": "execute_result"
    }
   ],
   "source": [
    "online_articles = sorted(list(set(files) - combine))\n",
    "len(online_articles)"
   ]
  },
  {
   "cell_type": "code",
   "execution_count": 12,
   "id": "f02910b3",
   "metadata": {},
   "outputs": [],
   "source": [
    "rejected = social_media + common_crawl + [\n",
    "    'pdfdrive.jsonl',\n",
    "    'seehua.jsonl',\n",
    "    'hardwarezone-sg.jsonl',\n",
    "    'sinchew.com.my.jsonl',\n",
    "    'orientaldaily.com.my.jsonl',\n",
    "    'wikipedia-20230901.en.filtered.jsonl',\n",
    "    'cc-100',\n",
    "]"
   ]
  },
  {
   "cell_type": "code",
   "execution_count": 13,
   "id": "7ca325e0",
   "metadata": {},
   "outputs": [],
   "source": [
    "online_articles = [x for x in online_articles if 'c4-filtered' not in x and 'the-pile' not in x and 'c.cari.com.my' not in x]"
   ]
  },
  {
   "cell_type": "code",
   "execution_count": 14,
   "id": "82d4e45d",
   "metadata": {},
   "outputs": [
    {
     "data": {
      "text/plain": [
       "237"
      ]
     },
     "execution_count": 14,
     "metadata": {},
     "output_type": "execute_result"
    }
   ],
   "source": [
    "online_articles = [x for x in online_articles if all([r not in x for r in rejected])]\n",
    "len(online_articles)"
   ]
  },
  {
   "cell_type": "code",
   "execution_count": 15,
   "id": "955ba196",
   "metadata": {},
   "outputs": [
    {
     "data": {
      "text/plain": [
       "['/home/ubuntu/dedup-text-dataset/9shares.jsonl',\n",
       " '/home/ubuntu/dedup-text-dataset/PG_0.jsonl',\n",
       " '/home/ubuntu/dedup-text-dataset/agbrief-1.jsonl',\n",
       " '/home/ubuntu/dedup-text-dataset/agendadaily.jsonl',\n",
       " '/home/ubuntu/dedup-text-dataset/ajar.jsonl',\n",
       " '/home/ubuntu/dedup-text-dataset/akuislam.com.jsonl',\n",
       " '/home/ubuntu/dedup-text-dataset/alhijrahnews-articles.jsonl',\n",
       " '/home/ubuntu/dedup-text-dataset/aliffchannel.jsonl',\n",
       " '/home/ubuntu/dedup-text-dataset/amanz.jsonl',\n",
       " '/home/ubuntu/dedup-text-dataset/angkasfera_text.jsonl',\n",
       " '/home/ubuntu/dedup-text-dataset/apu.edu.jsonl',\n",
       " '/home/ubuntu/dedup-text-dataset/article.poliklinikazzaara.com.my.jsonl',\n",
       " '/home/ubuntu/dedup-text-dataset/artikel.jsonl',\n",
       " '/home/ubuntu/dedup-text-dataset/asklegal.jsonl',\n",
       " '/home/ubuntu/dedup-text-dataset/autobuzz.jsonl',\n",
       " '/home/ubuntu/dedup-text-dataset/azhafizah.com.jsonl',\n",
       " '/home/ubuntu/dedup-text-dataset/beautifulnara.jsonl',\n",
       " '/home/ubuntu/dedup-text-dataset/bernama.com-tam.jsonl',\n",
       " '/home/ubuntu/dedup-text-dataset/bidadari.jsonl',\n",
       " '/home/ubuntu/dedup-text-dataset/bjak.my.jsonl',\n",
       " '/home/ubuntu/dedup-text-dataset/blog.fincrew.my.jsonl',\n",
       " '/home/ubuntu/dedup-text-dataset/blog.limkitsiang.com.jsonl',\n",
       " '/home/ubuntu/dedup-text-dataset/blog.malaysia-asia.jsonl',\n",
       " '/home/ubuntu/dedup-text-dataset/blog.pandai.com.jsonl',\n",
       " '/home/ubuntu/dedup-text-dataset/blog.yeahhost.com.my.jsonl',\n",
       " '/home/ubuntu/dedup-text-dataset/blogmalaysia-com.jsonl',\n",
       " '/home/ubuntu/dedup-text-dataset/blogtipskerjaya.net.jsonl',\n",
       " '/home/ubuntu/dedup-text-dataset/buletinmutiara.com.jsonl',\n",
       " '/home/ubuntu/dedup-text-dataset/bullishbursa.blogspot.com.jsonl',\n",
       " '/home/ubuntu/dedup-text-dataset/bumiinvest20.home.blog.jsonl',\n",
       " '/home/ubuntu/dedup-text-dataset/buro247.jsonl',\n",
       " '/home/ubuntu/dedup-text-dataset/carlist-my.jsonl',\n",
       " '/home/ubuntu/dedup-text-dataset/carsifu-my.jsonl',\n",
       " '/home/ubuntu/dedup-text-dataset/carsome-my.jsonl',\n",
       " '/home/ubuntu/dedup-text-dataset/columbiaasia.com.jsonl',\n",
       " '/home/ubuntu/dedup-text-dataset/cypherhackz.jsonl',\n",
       " '/home/ubuntu/dedup-text-dataset/denaihati.jsonl',\n",
       " '/home/ubuntu/dedup-text-dataset/discoverkl.jsonl',\n",
       " '/home/ubuntu/dedup-text-dataset/diva-my.jsonl',\n",
       " '/home/ubuntu/dedup-text-dataset/doctoroncall.jsonl',\n",
       " '/home/ubuntu/dedup-text-dataset/doktorbudak.jsonl',\n",
       " '/home/ubuntu/dedup-text-dataset/dotproperty.com.my.jsonl',\n",
       " '/home/ubuntu/dedup-text-dataset/dsf-my.jsonl',\n",
       " '/home/ubuntu/dedup-text-dataset/e-penerbitan.jsonl',\n",
       " '/home/ubuntu/dedup-text-dataset/ecentral.my.jsonl',\n",
       " '/home/ubuntu/dedup-text-dataset/ekonomirakyat.com.jsonl',\n",
       " '/home/ubuntu/dedup-text-dataset/enanyang.my.jsonl',\n",
       " '/home/ubuntu/dedup-text-dataset/eniraimathi.blogspot.com.jsonl',\n",
       " '/home/ubuntu/dedup-text-dataset/ering.jsonl',\n",
       " '/home/ubuntu/dedup-text-dataset/facebook.jsonl',\n",
       " '/home/ubuntu/dedup-text-dataset/fiksyenshasha.jsonl',\n",
       " '/home/ubuntu/dedup-text-dataset/fintechnews.my.jsonl',\n",
       " '/home/ubuntu/dedup-text-dataset/fliphtml-melayu.jsonl',\n",
       " '/home/ubuntu/dedup-text-dataset/fuh.my.jsonl',\n",
       " '/home/ubuntu/dedup-text-dataset/full_articles_motormalaya.jsonl',\n",
       " '/home/ubuntu/dedup-text-dataset/gamerbraves.com.jsonl',\n",
       " '/home/ubuntu/dedup-text-dataset/gamersantai.com.jsonl',\n",
       " '/home/ubuntu/dedup-text-dataset/gamersonduty.com.jsonl',\n",
       " '/home/ubuntu/dedup-text-dataset/garis-panduan.jsonl',\n",
       " '/home/ubuntu/dedup-text-dataset/gempak.com.jsonl',\n",
       " '/home/ubuntu/dedup-text-dataset/goody25.com.jsonl',\n",
       " '/home/ubuntu/dedup-text-dataset/goodymy.com.jsonl',\n",
       " '/home/ubuntu/dedup-text-dataset/google-pdf.jsonl',\n",
       " '/home/ubuntu/dedup-text-dataset/govdocs.jsonl',\n",
       " '/home/ubuntu/dedup-text-dataset/harakahdaily.jsonl',\n",
       " '/home/ubuntu/dedup-text-dataset/hargaemas.my.jsonl',\n",
       " '/home/ubuntu/dedup-text-dataset/hellodoktor.com.jsonl',\n",
       " '/home/ubuntu/dedup-text-dataset/heraldmalaysia-articles.jsonl',\n",
       " '/home/ubuntu/dedup-text-dataset/hijabista.jsonl',\n",
       " '/home/ubuntu/dedup-text-dataset/hostingmalaya.com.jsonl',\n",
       " '/home/ubuntu/dedup-text-dataset/hype.my.jsonl',\n",
       " '/home/ubuntu/dedup-text-dataset/i-fiqh-akta.jsonl',\n",
       " '/home/ubuntu/dedup-text-dataset/ideasaham.my.jsonl',\n",
       " '/home/ubuntu/dedup-text-dataset/ikram.jsonl',\n",
       " '/home/ubuntu/dedup-text-dataset/ilifepost.jsonl',\n",
       " '/home/ubuntu/dedup-text-dataset/iluminasi.jsonl',\n",
       " '/home/ubuntu/dedup-text-dataset/imetech.com.my.jsonl',\n",
       " '/home/ubuntu/dedup-text-dataset/impiana-my.jsonl',\n",
       " '/home/ubuntu/dedup-text-dataset/infopelajar.my.jsonl',\n",
       " '/home/ubuntu/dedup-text-dataset/inreallife.jsonl',\n",
       " '/home/ubuntu/dedup-text-dataset/intraday.my.jsonl',\n",
       " '/home/ubuntu/dedup-text-dataset/isaham.my.jsonl',\n",
       " '/home/ubuntu/dedup-text-dataset/ismaweb.jsonl',\n",
       " '/home/ubuntu/dedup-text-dataset/isterisihat.jsonl',\n",
       " '/home/ubuntu/dedup-text-dataset/jbtalks.jsonl',\n",
       " '/home/ubuntu/dedup-text-dataset/jomgaming.my.jsonl',\n",
       " '/home/ubuntu/dedup-text-dataset/jurnal-malaysia.jsonl',\n",
       " '/home/ubuntu/dedup-text-dataset/kakimuvee.jsonl',\n",
       " '/home/ubuntu/dedup-text-dataset/kakuchopurei.com.jsonl',\n",
       " '/home/ubuntu/dedup-text-dataset/kebuna.com.jsonl',\n",
       " '/home/ubuntu/dedup-text-dataset/kebunbandar.com.jsonl',\n",
       " '/home/ubuntu/dedup-text-dataset/kelabmama.jsonl',\n",
       " '/home/ubuntu/dedup-text-dataset/keluarga.jsonl',\n",
       " '/home/ubuntu/dedup-text-dataset/kimchidaily.my.jsonl',\n",
       " '/home/ubuntu/dedup-text-dataset/kisahdunia.com.jsonl',\n",
       " '/home/ubuntu/dedup-text-dataset/klgadgetguy.com.jsonl',\n",
       " '/home/ubuntu/dedup-text-dataset/kopiandproperty.com.jsonl',\n",
       " '/home/ubuntu/dedup-text-dataset/kosmo.jsonl',\n",
       " '/home/ubuntu/dedup-text-dataset/leaazleeya.jsonl',\n",
       " '/home/ubuntu/dedup-text-dataset/lipstiq.jsonl',\n",
       " '/home/ubuntu/dedup-text-dataset/litefinance.org.jsonl',\n",
       " '/home/ubuntu/dedup-text-dataset/lobakmerah.com.jsonl',\n",
       " '/home/ubuntu/dedup-text-dataset/lyrics.my.jsonl',\n",
       " '/home/ubuntu/dedup-text-dataset/madreshoy.com.jsonl',\n",
       " '/home/ubuntu/dedup-text-dataset/mahersaham.com.jsonl',\n",
       " '/home/ubuntu/dedup-text-dataset/majalah-com.jsonl',\n",
       " '/home/ubuntu/dedup-text-dataset/majalahpama.my.jsonl',\n",
       " '/home/ubuntu/dedup-text-dataset/majalahsains.jsonl',\n",
       " '/home/ubuntu/dedup-text-dataset/makanbola.jsonl',\n",
       " '/home/ubuntu/dedup-text-dataset/makkalosai.com.my.jsonl',\n",
       " '/home/ubuntu/dedup-text-dataset/maksudperibahasa.jsonl',\n",
       " '/home/ubuntu/dedup-text-dataset/maktabahalbakri.com.jsonl',\n",
       " '/home/ubuntu/dedup-text-dataset/malaykord.com.jsonl',\n",
       " '/home/ubuntu/dedup-text-dataset/malaysia-elelong.dedup.jsonl',\n",
       " '/home/ubuntu/dedup-text-dataset/malaysiagazette.jsonl',\n",
       " '/home/ubuntu/dedup-text-dataset/malaysiaindru.my.jsonl',\n",
       " '/home/ubuntu/dedup-text-dataset/malaysiastock.biz.jsonl',\n",
       " '/home/ubuntu/dedup-text-dataset/malaysiatamilkalvi.com.jsonl',\n",
       " '/home/ubuntu/dedup-text-dataset/maskulin.jsonl',\n",
       " '/home/ubuntu/dedup-text-dataset/mat-gaming.jsonl',\n",
       " '/home/ubuntu/dedup-text-dataset/maukerja.my.jsonl',\n",
       " '/home/ubuntu/dedup-text-dataset/mcp.anu.edu.au.jsonl',\n",
       " '/home/ubuntu/dedup-text-dataset/mediahiburan.my.jsonl',\n",
       " '/home/ubuntu/dedup-text-dataset/medmalay.jsonl',\n",
       " '/home/ubuntu/dedup-text-dataset/melakahariini.jsonl',\n",
       " '/home/ubuntu/dedup-text-dataset/mingguanwanita.jsonl',\n",
       " '/home/ubuntu/dedup-text-dataset/mishkat_al_masabih.dedup.jsonl',\n",
       " '/home/ubuntu/dedup-text-dataset/mstar.com.my.jsonl',\n",
       " '/home/ubuntu/dedup-text-dataset/mufti_pahang_artikel.jsonl',\n",
       " '/home/ubuntu/dedup-text-dataset/murai.my.jsonl',\n",
       " '/home/ubuntu/dedup-text-dataset/my.theasianparent.com.jsonl',\n",
       " '/home/ubuntu/dedup-text-dataset/myartis.com.jsonl',\n",
       " '/home/ubuntu/dedup-text-dataset/mycarforum.jsonl',\n",
       " '/home/ubuntu/dedup-text-dataset/mygameon.my.jsonl',\n",
       " '/home/ubuntu/dedup-text-dataset/myhadith.islam.gov.my.jsonl',\n",
       " '/home/ubuntu/dedup-text-dataset/mykmu.net.jsonl',\n",
       " '/home/ubuntu/dedup-text-dataset/myresipi.com.jsonl',\n",
       " '/home/ubuntu/dedup-text-dataset/nambikkai.com.my.jsonl',\n",
       " '/home/ubuntu/dedup-text-dataset/nanban.com.my.jsonl',\n",
       " '/home/ubuntu/dedup-text-dataset/nasilemaktech.com.jsonl',\n",
       " '/home/ubuntu/dedup-text-dataset/news.jsonl',\n",
       " '/home/ubuntu/dedup-text-dataset/nextrift.jsonl',\n",
       " '/home/ubuntu/dedup-text-dataset/nona.jsonl',\n",
       " '/home/ubuntu/dedup-text-dataset/nurulzayani.jsonl',\n",
       " '/home/ubuntu/dedup-text-dataset/ohbulan.com.jsonl',\n",
       " '/home/ubuntu/dedup-text-dataset/ohmedia.jsonl',\n",
       " '/home/ubuntu/dedup-text-dataset/ohmyhome.com.jsonl',\n",
       " '/home/ubuntu/dedup-text-dataset/ohsem.me.jsonl',\n",
       " '/home/ubuntu/dedup-text-dataset/org.my.jsonl',\n",
       " '/home/ubuntu/dedup-text-dataset/pandangan-hukum.jsonl',\n",
       " '/home/ubuntu/dedup-text-dataset/pandangan-pakar.jsonl',\n",
       " '/home/ubuntu/dedup-text-dataset/patriots.jsonl',\n",
       " '/home/ubuntu/dedup-text-dataset/paultan-bm.jsonl',\n",
       " '/home/ubuntu/dedup-text-dataset/penuntutilmu.com.jsonl',\n",
       " '/home/ubuntu/dedup-text-dataset/piston.my.jsonl',\n",
       " '/home/ubuntu/dedup-text-dataset/pokde.net.jsonl',\n",
       " '/home/ubuntu/dedup-text-dataset/politikus.jsonl',\n",
       " '/home/ubuntu/dedup-text-dataset/productnation.co.jsonl',\n",
       " '/home/ubuntu/dedup-text-dataset/propcafe.net.jsonl',\n",
       " '/home/ubuntu/dedup-text-dataset/quola.my.jsonl',\n",
       " '/home/ubuntu/dedup-text-dataset/raiz.com.my.jsonl',\n",
       " '/home/ubuntu/dedup-text-dataset/realestatemy.com.jsonl',\n",
       " '/home/ubuntu/dedup-text-dataset/reddit.jsonl',\n",
       " '/home/ubuntu/dedup-text-dataset/relevan.jsonl',\n",
       " '/home/ubuntu/dedup-text-dataset/ricebowl.my.jsonl',\n",
       " '/home/ubuntu/dedup-text-dataset/ringgitohringgit.com.jsonl',\n",
       " '/home/ubuntu/dedup-text-dataset/ringgitplus.com.jsonl',\n",
       " '/home/ubuntu/dedup-text-dataset/rojaklah.com.jsonl',\n",
       " '/home/ubuntu/dedup-text-dataset/rootofscience.jsonl',\n",
       " '/home/ubuntu/dedup-text-dataset/rotikaya.jsonl',\n",
       " '/home/ubuntu/dedup-text-dataset/rtm.jsonl',\n",
       " '/home/ubuntu/dedup-text-dataset/ruby.my.jsonl',\n",
       " '/home/ubuntu/dedup-text-dataset/sabahpost.jsonl',\n",
       " '/home/ubuntu/dedup-text-dataset/sabrinatajudin.com.jsonl',\n",
       " '/home/ubuntu/dedup-text-dataset/salary-sg.jsonl',\n",
       " '/home/ubuntu/dedup-text-dataset/says.com.jsonl',\n",
       " '/home/ubuntu/dedup-text-dataset/selangorkini.jsonl',\n",
       " '/home/ubuntu/dedup-text-dataset/selangorkini.my-ta.jsonl',\n",
       " '/home/ubuntu/dedup-text-dataset/senaraiperibahasa.com.jsonl',\n",
       " '/home/ubuntu/dedup-text-dataset/shahbudindotcom.net.jsonl',\n",
       " '/home/ubuntu/dedup-text-dataset/shinjiru.jsonl',\n",
       " '/home/ubuntu/dedup-text-dataset/siakapkeli.jsonl',\n",
       " '/home/ubuntu/dedup-text-dataset/simplywall.st.jsonl',\n",
       " '/home/ubuntu/dedup-text-dataset/sinar-syok.jsonl',\n",
       " '/home/ubuntu/dedup-text-dataset/sinarharian.jsonl',\n",
       " '/home/ubuntu/dedup-text-dataset/siraplimau.com.jsonl',\n",
       " '/home/ubuntu/dedup-text-dataset/skyscrapercity.com.jsonl',\n",
       " '/home/ubuntu/dedup-text-dataset/snapshot.jsonl',\n",
       " '/home/ubuntu/dedup-text-dataset/soalan-jawab-hukum.jsonl',\n",
       " '/home/ubuntu/dedup-text-dataset/stories.my.jsonl',\n",
       " '/home/ubuntu/dedup-text-dataset/story.motherhood.com.my.jsonl',\n",
       " '/home/ubuntu/dedup-text-dataset/straitstimes.jsonl',\n",
       " '/home/ubuntu/dedup-text-dataset/studentportal.my.jsonl',\n",
       " '/home/ubuntu/dedup-text-dataset/suamisihat.jsonl',\n",
       " '/home/ubuntu/dedup-text-dataset/suararisda.jsonl',\n",
       " '/home/ubuntu/dedup-text-dataset/sukanz.jsonl',\n",
       " '/home/ubuntu/dedup-text-dataset/sunahsukasakura.com.jsonl',\n",
       " '/home/ubuntu/dedup-text-dataset/surah.my.jsonl',\n",
       " '/home/ubuntu/dedup-text-dataset/tamil-oneindia.dedup.jsonl',\n",
       " '/home/ubuntu/dedup-text-dataset/tamilgoodreturns.jsonl',\n",
       " '/home/ubuntu/dedup-text-dataset/tamilmurasu.com.sg.jsonl',\n",
       " '/home/ubuntu/dedup-text-dataset/tantannews.com.jsonl',\n",
       " '/home/ubuntu/dedup-text-dataset/tapatalk.jsonl',\n",
       " '/home/ubuntu/dedup-text-dataset/tech-critter.com.jsonl',\n",
       " '/home/ubuntu/dedup-text-dataset/techinasia.com.jsonl',\n",
       " '/home/ubuntu/dedup-text-dataset/techlagi.jsonl',\n",
       " '/home/ubuntu/dedup-text-dataset/technave.com.jsonl',\n",
       " '/home/ubuntu/dedup-text-dataset/techrakyat-scraped-data-fixed.jsonl',\n",
       " '/home/ubuntu/dedup-text-dataset/tekkaus.com.jsonl',\n",
       " '/home/ubuntu/dedup-text-dataset/theborneopost.jsonl',\n",
       " '/home/ubuntu/dedup-text-dataset/thediagnosa.jsonl',\n",
       " '/home/ubuntu/dedup-text-dataset/theedgemalaysia.jsonl',\n",
       " '/home/ubuntu/dedup-text-dataset/thekapital.jsonl',\n",
       " '/home/ubuntu/dedup-text-dataset/themalaysianinsights.jsonl',\n",
       " '/home/ubuntu/dedup-text-dataset/therakyatpost.com.jsonl',\n",
       " '/home/ubuntu/dedup-text-dataset/therooftalks.com.jsonl',\n",
       " '/home/ubuntu/dedup-text-dataset/timchew.jsonl',\n",
       " '/home/ubuntu/dedup-text-dataset/tryandreview.com.jsonl',\n",
       " '/home/ubuntu/dedup-text-dataset/tvpertiwi.com.my.jsonl',\n",
       " '/home/ubuntu/dedup-text-dataset/ubat-hellodoktor.com.jsonl',\n",
       " '/home/ubuntu/dedup-text-dataset/umminani.jsonl',\n",
       " '/home/ubuntu/dedup-text-dataset/umno-online.my.dedup.jsonl',\n",
       " '/home/ubuntu/dedup-text-dataset/umpan.jsonl',\n",
       " '/home/ubuntu/dedup-text-dataset/utusan.jsonl',\n",
       " '/home/ubuntu/dedup-text-dataset/utusansarawak.jsonl',\n",
       " '/home/ubuntu/dedup-text-dataset/vanakkammalaysia.com.my.jsonl',\n",
       " '/home/ubuntu/dedup-text-dataset/varnam.my.jsonl',\n",
       " '/home/ubuntu/dedup-text-dataset/vikatan-my-scraped-data.jsonl',\n",
       " '/home/ubuntu/dedup-text-dataset/vocket.jsonl',\n",
       " '/home/ubuntu/dedup-text-dataset/vpsmalaysia.com.my.jsonl',\n",
       " '/home/ubuntu/dedup-text-dataset/wapcar.my.jsonl',\n",
       " '/home/ubuntu/dedup-text-dataset/wartaoriental.jsonl',\n",
       " '/home/ubuntu/dedup-text-dataset/wiktionary-bahasa.jsonl',\n",
       " '/home/ubuntu/dedup-text-dataset/worldofbuzz.jsonl',\n",
       " '/home/ubuntu/dedup-text-dataset/youbaby.my.jsonl',\n",
       " '/home/ubuntu/dedup-text-dataset/zenthegeek.tech.jsonl',\n",
       " '/home/ubuntu/dedup-text-dataset/zulkiflihasan.wordpress.com.jsonl']"
      ]
     },
     "execution_count": 15,
     "metadata": {},
     "output_type": "execute_result"
    }
   ],
   "source": [
    "online_articles"
   ]
  },
  {
   "cell_type": "code",
   "execution_count": 16,
   "id": "bf855bdd",
   "metadata": {},
   "outputs": [],
   "source": [
    "a = open('combine-lm.jsonl', 'w')"
   ]
  },
  {
   "cell_type": "code",
   "execution_count": 17,
   "id": "9ba8be4c",
   "metadata": {},
   "outputs": [
    {
     "data": {
      "application/vnd.jupyter.widget-view+json": {
       "model_id": "db9f2c3981664007867ce58582608099",
       "version_major": 2,
       "version_minor": 0
      },
      "text/plain": [
       "tokenizer_config.json:   0%|          | 0.00/50.9k [00:00<?, ?B/s]"
      ]
     },
     "metadata": {},
     "output_type": "display_data"
    },
    {
     "data": {
      "application/vnd.jupyter.widget-view+json": {
       "model_id": "90c49e355a1543fe8f99ed22815a86b7",
       "version_major": 2,
       "version_minor": 0
      },
      "text/plain": [
       "tokenizer.json:   0%|          | 0.00/9.08M [00:00<?, ?B/s]"
      ]
     },
     "metadata": {},
     "output_type": "display_data"
    },
    {
     "data": {
      "application/vnd.jupyter.widget-view+json": {
       "model_id": "8d145981da2d46a18801e33465d01655",
       "version_major": 2,
       "version_minor": 0
      },
      "text/plain": [
       "special_tokens_map.json:   0%|          | 0.00/73.0 [00:00<?, ?B/s]"
      ]
     },
     "metadata": {},
     "output_type": "display_data"
    },
    {
     "name": "stderr",
     "output_type": "stream",
     "text": [
      "Special tokens have been added in the vocabulary, make sure the associated word embeddings are fine-tuned or trained.\n"
     ]
    }
   ],
   "source": [
    "from transformers import AutoTokenizer\n",
    "\n",
    "tokenizer = AutoTokenizer.from_pretrained('meta-llama/Meta-Llama-3-8B')"
   ]
  },
  {
   "cell_type": "code",
   "execution_count": 19,
   "id": "058fa183",
   "metadata": {},
   "outputs": [
    {
     "data": {
      "text/plain": [
       "('<|begin_of_text|>', '<|end_of_text|>')"
      ]
     },
     "execution_count": 19,
     "metadata": {},
     "output_type": "execute_result"
    }
   ],
   "source": [
    "tokenizer.bos_token, tokenizer.eos_token"
   ]
  },
  {
   "cell_type": "code",
   "execution_count": 20,
   "id": "000f3fbb",
   "metadata": {
    "scrolled": true
   },
   "outputs": [
    {
     "name": "stderr",
     "output_type": "stream",
     "text": [
      "438316it [00:11, 39378.93it/s]\n",
      "722837it [00:23, 30167.58it/s]\n"
     ]
    }
   ],
   "source": [
    "for f in wiki:\n",
    "    f = os.path.join('/home/ubuntu/dedup-text-dataset', f)\n",
    "    with open(f) as fopen:\n",
    "        for l in tqdm(fopen):\n",
    "            try:\n",
    "                data = tokenizer.bos_token + json.loads(l) + tokenizer.eos_token\n",
    "                partitioned = partition(data)\n",
    "                for p in partitioned:\n",
    "                    data = {\n",
    "                        'text': p,\n",
    "                    }\n",
    "                    a.write(f'{json.dumps(data)}\\n')\n",
    "                    a.flush()\n",
    "            except:\n",
    "                pass"
   ]
  },
  {
   "cell_type": "code",
   "execution_count": 22,
   "id": "b935b68b",
   "metadata": {},
   "outputs": [],
   "source": [
    "with open('combine-lm.jsonl') as fopen:\n",
    "    for l in fopen:\n",
    "        l = json.loads(l)\n",
    "        break"
   ]
  },
  {
   "cell_type": "code",
   "execution_count": 27,
   "id": "80e949f1",
   "metadata": {},
   "outputs": [
    {
     "data": {
      "text/plain": [
       "'<|begin_of_text|>Bahasa Melayu (Tulisan Jawi: بهاس ملايو; Rejang: ꤷꥁꤼ ꤸꥍꤾꤿꥈ) ialah salah satu daripada bahasa-bahasa Melayu-Polinesia di bawah keluarga bahasa Austronesia, yang merupakan bahasa rasmi di Brunei, Indonesia, Malaysia dan Singapura, serta dituturkan di Timor Leste dan sebahagian wilayah di Kemboja , Filipina dan Thailand. Jumlah penutur bahasa Melayu mencakupi lebih daripada 290 juta penutur (seramai 260 juta orang bertutur bahasa Indonesia) merentasi kawasan maritim Asia Tenggara. Sebagai salah satu daripada bahasa-bahasa yang paling luas digunakan di Asia Tenggara, bahasa Melayu mempunyai istilah perundangan yang berbeza di negara-negara terlibat bergantung pada sejarah dan budaya penggunaan bahasa Melayu di negara-negara tersebut. Di Malaysia, istilah \"bahasa Melayu\" ialah istilah \"de jure\" untuk pentakrifan rasmi bahasa kebangsaan negara Malaysia, manakala istilah \"bahasa Malaysia\" atau \"bahasa Melayu Malaysia\" seringkali digunakan mewakili perkara yang sama secara tidak formal di kalangan rakyat Malaysia. Di Singapura, Bahasa Melayu mempunyai status bahasa kebangsaan pada waktu yang sama merupakan salah satu daripada empat bahasa rasmi (tiga lagi bahasa rasmi lain ialah bahasa Inggeris, bahasa Cina, dan bahasa Tamil). Di Brunei, \"bahasa Melayu\" juga ditakrifkan sebagai bahasa rasmi negara dan bahasa Melayu diutamakan apabila berlakunya percanggahan dengan versi bahasa Inggeris teks undang-udang. Di Indonesia, bentuk piawai bahasa Melayu dikenali sebagai bahasa Indonesia yang berperanan sebagai bahasa pemersatu di negara Indonesia. Penggunaan istilah \"bahasa Melayu\" di Indonesia pula hanya terhad kepada bentuk-bentuk vernakular bahasa Melayu (yakni bahasa Melayu tempatan) yang dituturkan di kawasan asli Melayu terletak di zon tengah Sumatra (seperti Riau, Kepulauan Riau, Jambi dan lain-lain), Sumatra Selatan dan Kalimantan Barat Indonesia. Di Timor Leste, Bahasa Indonesia masih tetap dikekalkan sebagai bahasa rasmi utamanya sebagai \"bahasa bekerja\" walaupun telah merdeka daripada negara Indonesia. Di selatan Thailand, bahasa Melayu digunakan oleh orang-orang dari Kesultanan Melayu Patani (orang Melayu Pattani), tetapi tidak memperolehi sebarang pengiktirafan daripada kerajaan. Bahasa Melayu Klasik, secara spesifiknya \"bahasa istana\" (atau dikenali sebagai \"Court Malay\" dalam bahasa Inggeris), ialah bahasa piawai sastera bersusurgalur daripada kesultanan Melaka dan kesultanan Johor, disebabkan itulah bahasa ini juga dikenali sebagai bahasa Melayu Melaka, Johor atau Riau (atau pelbagai jenis gabungan nama yang berasaskan mana-mana dari tiga nama tempat ini) untuk membezakannya daripada bahasa-bahasa Melayik yang lain. Menurut \"Ethnologue\" 26, beberapa kelainan bahasa-bahasa Melayik disenaraikan sebagai bahasa-bahasa yang terpisah, termasuklah kelainan bahasa-bahasa Melayu Semenanjung yang dituturkan oleh Orang Asli, yang sangat rapat hubungannya dengan bahasa Melayu Baku yang boleh dianggap sebagai dialek-dialeknya. Terdapat beberapa bahasa dagang atau bahasa kreol Melayu yang berdasarkan satu bentuk \"lingua franca\" yang disusurgalurkan ke bahasa Melayu Klasik. Asal usul bahasa Melayu اصل اصول بهاس ملايو. Ahli-ahli linguistik bahasa Melayu bersetuju dengan kemungkinan bahawa asal usul bahasa Melayu terletak di barat pulau Borneo. Satu bentuk bahasa yang kini dikenali sebagai bahasa Melayu Purba (dari segi linguistik dikenali sebagai bahasa Melayik Purba) dituturkan di pulau Borneo sekurang-kurangnya pada 1000 tahun sebelum Masihi dan dianggap sebagai leluhur kepada kesemua bahasa di bawah kumpulan Melayik. Leluhur bahasa purba ini ialah bahasa Melayu-Polinesia Purba, yang merupakan turunan dari bahasa Austronesia Purba, mula bercambah sekurang-kurangnya pada 2000 tahun sebelum Masihi, yang mungkin hasil daripada penerokaan'"
      ]
     },
     "execution_count": 27,
     "metadata": {},
     "output_type": "execute_result"
    }
   ],
   "source": [
    "l['text']"
   ]
  },
  {
   "cell_type": "code",
   "execution_count": 31,
   "id": "66eb99ab",
   "metadata": {},
   "outputs": [
    {
     "name": "stderr",
     "output_type": "stream",
     "text": [
      "54712it [00:01, 39579.09it/s]\n",
      "4577it [00:00, 11715.20it/s]\n",
      "66it [00:00, 40201.00it/s]\n",
      "34192it [00:00, 56533.01it/s]\n"
     ]
    }
   ],
   "source": [
    "for f in language_related:\n",
    "    f = os.path.join('/home/ubuntu/dedup-text-dataset', f)\n",
    "    with open(f) as fopen:\n",
    "        for l in tqdm(fopen):\n",
    "            try:\n",
    "                data = tokenizer.bos_token + json.loads(l) + tokenizer.eos_token\n",
    "                partitioned = partition(data)\n",
    "                for p in partitioned:\n",
    "                    data = {\n",
    "                        'text': p,\n",
    "                    }\n",
    "                    a.write(f'{json.dumps(data)}\\n')\n",
    "                    a.flush()\n",
    "            except:\n",
    "                pass"
   ]
  },
  {
   "cell_type": "code",
   "execution_count": 32,
   "id": "3310697d",
   "metadata": {},
   "outputs": [
    {
     "name": "stderr",
     "output_type": "stream",
     "text": [
      "183it [00:00, 253.82it/s]\n",
      "16120it [00:06, 2417.10it/s]\n",
      "3625it [00:00, 4672.52it/s]\n",
      "900it [00:00, 2701.28it/s]\n"
     ]
    }
   ],
   "source": [
    "for f in buku_teks:\n",
    "    f = os.path.join('/home/ubuntu/dedup-text-dataset', f)\n",
    "    with open(f) as fopen:\n",
    "        for l in tqdm(fopen):\n",
    "            try:\n",
    "                data = tokenizer.bos_token + json.loads(l) + tokenizer.eos_token\n",
    "                partitioned = partition(data)\n",
    "                for p in partitioned:\n",
    "                    data = {\n",
    "                        'text': p,\n",
    "                    }\n",
    "                    a.write(f'{json.dumps(data)}\\n')\n",
    "                    a.flush()\n",
    "            except:\n",
    "                pass\n"
   ]
  },
  {
   "cell_type": "code",
   "execution_count": 33,
   "id": "34fc50ac",
   "metadata": {},
   "outputs": [
    {
     "name": "stderr",
     "output_type": "stream",
     "text": [
      "140932it [00:10, 13859.33it/s]\n",
      "1359it [00:00, 2705.40it/s]\n",
      "1687it [00:09, 183.79it/s]\n",
      "10889it [00:20, 528.57it/s]\n",
      "1712it [00:00, 4420.77it/s]\n",
      "809it [00:00, 2641.52it/s]\n",
      "112it [00:00, 18961.13it/s]\n",
      "144it [00:00, 16526.11it/s]\n",
      "112it [00:00, 19158.32it/s]\n",
      "30055it [00:14, 2138.67it/s]\n",
      "21590it [00:10, 1984.64it/s]\n",
      "17204it [00:14, 1172.59it/s]\n"
     ]
    }
   ],
   "source": [
    "for f in gov_related:\n",
    "    f = os.path.join('/home/ubuntu/dedup-text-dataset', f)\n",
    "    with open(f) as fopen:\n",
    "        for l in tqdm(fopen):\n",
    "            try:\n",
    "                data = tokenizer.bos_token + json.loads(l) + tokenizer.eos_token\n",
    "                partitioned = partition(data)\n",
    "                for p in partitioned:\n",
    "                    data = {\n",
    "                        'text': p,\n",
    "                    }\n",
    "                    a.write(f'{json.dumps(data)}\\n')\n",
    "                    a.flush()\n",
    "            except:\n",
    "                pass"
   ]
  },
  {
   "cell_type": "code",
   "execution_count": 34,
   "id": "a45b2977",
   "metadata": {},
   "outputs": [],
   "source": [
    "rejected = [\n",
    "    'markah untuk setiap satu',\n",
    "    'soalan mesti dijawab dalam',\n",
    "    '25 markah',\n",
    "    '50 markah'\n",
    "]"
   ]
  },
  {
   "cell_type": "code",
   "execution_count": 35,
   "id": "a1ca149e",
   "metadata": {},
   "outputs": [
    {
     "name": "stderr",
     "output_type": "stream",
     "text": [
      "787it [00:05, 140.40it/s]\n",
      "189419it [02:23, 1316.93it/s]\n"
     ]
    }
   ],
   "source": [
    "for f in research_papers:\n",
    "    f = os.path.join('/home/ubuntu/dedup-text-dataset', f)\n",
    "    with open(f) as fopen:\n",
    "        for l in tqdm(fopen):\n",
    "            try:\n",
    "                data = tokenizer.bos_token + json.loads(l) + tokenizer.eos_token\n",
    "                    \n",
    "                data_lower = data.lower()\n",
    "                if any([r in data_lower for r in rejected]):\n",
    "                    continue\n",
    "                    \n",
    "                partitioned = partition(data)\n",
    "                for p in partitioned:\n",
    "                    data = {\n",
    "                        'text': p,\n",
    "                    }\n",
    "                    a.write(f'{json.dumps(data)}\\n')\n",
    "                    a.flush()\n",
    "            except:\n",
    "                pass"
   ]
  },
  {
   "cell_type": "code",
   "execution_count": 36,
   "id": "edba3b02",
   "metadata": {},
   "outputs": [
    {
     "name": "stderr",
     "output_type": "stream",
     "text": [
      "14954it [00:00, 24184.06it/s]\n",
      "752it [00:00, 5424.61it/s]\n",
      "172it [00:00, 21216.37it/s]\n",
      "20763it [00:01, 15896.08it/s]\n",
      "640it [00:00, 10174.37it/s]\n",
      "74it [00:00, 3662.76it/s]\n",
      "10604it [00:00, 18726.53it/s]\n",
      "1733it [00:00, 11676.86it/s]\n",
      "33730it [00:01, 25129.06it/s]\n",
      "144it [00:00, 9049.88it/s]\n",
      "359it [00:00, 8071.68it/s]\n",
      "87it [00:00, 11978.61it/s]\n",
      "47it [00:00, 8932.54it/s]\n",
      "1263it [00:00, 6188.52it/s]\n",
      "9672it [00:00, 13455.86it/s]\n",
      "5400it [00:00, 15837.35it/s]\n",
      "4425it [00:00, 20006.79it/s]\n",
      "269it [00:00, 9810.09it/s]\n",
      "3645it [00:00, 10754.49it/s]\n",
      "1589it [00:00, 8690.14it/s]\n",
      "385it [00:00, 10204.60it/s]\n",
      "17004it [00:02, 7277.47it/s]\n",
      "176it [00:00, 6547.73it/s]\n",
      "233it [00:00, 9892.93it/s]\n",
      "48it [00:00, 8853.41it/s]\n",
      "1427it [00:00, 7667.90it/s]\n",
      "341it [00:00, 4049.47it/s]\n",
      "1546it [00:00, 8683.10it/s]\n",
      "46it [00:00, 13016.12it/s]\n",
      "140it [00:00, 15926.30it/s]\n",
      "11678it [00:01, 9458.34it/s]\n",
      "12326it [00:01, 12250.20it/s]\n",
      "24482it [00:01, 14345.50it/s]\n",
      "947it [00:00, 5860.88it/s]\n",
      "512it [00:00, 10282.47it/s]\n",
      "800it [00:00, 23658.04it/s]\n",
      "3506it [00:00, 8706.80it/s]\n",
      "1459it [00:00, 9550.27it/s]\n",
      "6285it [00:00, 15137.28it/s]\n",
      "53158it [00:02, 20640.62it/s]\n",
      "95it [00:00, 2724.75it/s]\n",
      "788it [00:00, 11391.16it/s]\n",
      "24411it [00:02, 9313.84it/s]\n",
      "158it [00:00, 398.61it/s]\n",
      "1932it [00:00, 9579.56it/s]\n",
      "151it [00:00, 7791.98it/s]\n",
      "12000it [00:00, 45767.44it/s]\n",
      "37it [00:00, 9248.47it/s]\n",
      "10229it [00:00, 20645.38it/s]\n",
      "191248it [00:02, 74536.71it/s]\n",
      "6976it [00:01, 3873.01it/s]\n",
      "1160it [00:00, 11899.14it/s]\n",
      "1132it [00:01, 1078.24it/s]\n",
      "937it [00:00, 10562.73it/s]\n",
      "8457it [00:00, 17287.64it/s]\n",
      "16169it [00:01, 11709.28it/s]\n",
      "12914it [00:01, 7925.62it/s]\n",
      "1647it [00:00, 24908.39it/s]\n",
      "12it [00:00, 2332.87it/s]\n",
      "19992it [00:01, 13820.08it/s]\n",
      "56661it [00:03, 15990.05it/s]\n",
      "5747it [00:00, 16947.99it/s]\n",
      "7072it [00:04, 1521.75it/s]\n",
      "1252it [00:03, 383.32it/s]\n",
      "45326it [00:03, 14831.66it/s]\n",
      "3888it [00:00, 36184.43it/s]\n",
      "223it [00:00, 8919.20it/s]\n",
      "36468it [00:07, 4765.63it/s]\n",
      "6848it [00:00, 12862.25it/s]\n",
      "139it [00:00, 13523.74it/s]\n",
      "13145it [00:01, 11957.50it/s]\n",
      "13it [00:00, 4433.00it/s]\n",
      "42it [00:00, 13800.30it/s]\n",
      "3370it [00:00, 9614.04it/s]\n",
      "27178it [00:01, 14786.30it/s]\n",
      "8447it [00:00, 9375.35it/s]\n",
      "473it [00:00, 16517.68it/s]\n",
      "3502it [00:00, 5911.18it/s]\n",
      "70it [00:00, 15021.81it/s]\n",
      "1216it [00:00, 5982.19it/s]\n",
      "11076it [00:00, 19231.89it/s]\n",
      "391it [00:00, 9630.36it/s]\n",
      "22581it [00:01, 17285.39it/s]\n",
      "65it [00:00, 4030.66it/s]\n",
      "791574it [00:17, 44805.86it/s]\n",
      "8200it [00:00, 18161.58it/s]\n",
      "1938it [00:00, 18881.89it/s]\n",
      "8732it [00:00, 14425.79it/s]\n",
      "16443it [00:01, 13202.61it/s]\n",
      "58it [00:00, 9224.54it/s]\n",
      "100it [00:00, 8616.43it/s]\n",
      "2530it [00:00, 8639.42it/s]\n",
      "13105it [00:00, 14202.28it/s]\n",
      "7226it [00:00, 18184.53it/s]\n",
      "18860it [00:01, 14453.59it/s]\n",
      "11236it [00:00, 16743.15it/s]\n",
      "5103it [00:02, 2458.54it/s] \n",
      "51691it [00:02, 19382.09it/s]\n",
      "532it [00:00, 10341.38it/s]\n",
      "4921it [00:00, 14262.03it/s]\n",
      "3948it [00:00, 9286.05it/s] \n",
      "28986it [00:01, 15190.43it/s]\n",
      "1627it [00:00, 30760.12it/s]\n",
      "6751it [00:00, 10038.62it/s]\n",
      "638it [00:00, 10337.86it/s]\n",
      "1884790it [00:35, 52811.10it/s]\n",
      "17918it [00:00, 21995.63it/s]\n",
      "1523it [00:00, 6094.25it/s]\n",
      "3442it [00:00, 19497.19it/s]\n",
      "23826it [00:01, 12664.28it/s]\n",
      "8593it [00:00, 75011.30it/s]\n",
      "3365it [00:00, 5501.18it/s]\n",
      "10565it [00:01, 8883.10it/s]\n",
      "5432it [00:02, 2666.61it/s]\n",
      "130494it [00:07, 17542.42it/s]\n",
      "45577it [00:04, 9655.81it/s]\n",
      "1473823it [01:07, 21674.59it/s]\n",
      "43it [00:00, 10054.36it/s]\n",
      "7106it [00:00, 14662.27it/s]\n",
      "49it [00:00, 53051.34it/s]\n",
      "40it [00:00, 13867.76it/s]\n",
      "871it [00:00, 2456.98it/s]\n",
      "16144it [00:01, 14972.43it/s]\n",
      "28201it [00:04, 6783.12it/s]\n",
      "13202it [00:00, 18635.04it/s]\n",
      "9221it [00:00, 12629.93it/s]\n",
      "2240it [00:00, 13906.25it/s]\n",
      "572it [00:00, 16348.16it/s]\n",
      "68it [00:00, 24585.18it/s]\n",
      "13529it [00:00, 17643.54it/s]\n",
      "1006it [00:00, 6446.27it/s]\n",
      "22491it [00:01, 21046.82it/s]\n",
      "5798716it [02:12, 43826.50it/s]\n",
      "6418it [00:00, 19605.03it/s]\n",
      "523it [00:00, 13796.18it/s]\n",
      "66212it [00:05, 12817.62it/s]\n",
      "2368it [00:00, 18074.06it/s]\n",
      "17893it [00:01, 13520.74it/s]\n",
      "5561it [00:00, 11752.70it/s]\n",
      "4702it [00:00, 11810.34it/s]\n",
      "2839348it [03:13, 14686.05it/s]\n",
      "3664it [00:00, 11147.39it/s]\n",
      "9359it [00:00, 12737.12it/s]\n",
      "1143it [00:00, 7640.23it/s]\n",
      "32085it [00:02, 14330.51it/s]\n",
      "9865it [00:00, 19723.36it/s]\n",
      "70it [00:00, 9761.65it/s]\n",
      "3819it [00:00, 9418.08it/s]\n",
      "6641it [00:06, 1082.58it/s]\n",
      "2132it [00:00, 25794.65it/s]\n",
      "89it [00:00, 38087.24it/s]\n",
      "10483it [00:01, 7007.96it/s]\n",
      "20320it [00:01, 15064.48it/s]\n",
      "367it [00:00, 839.41it/s]\n",
      "6204it [00:00, 9991.65it/s] \n",
      "14158it [00:01, 12026.82it/s]\n",
      "1619it [00:00, 70839.97it/s]\n",
      "2877it [00:00, 6831.81it/s]\n",
      "298it [00:00, 3823.16it/s]\n",
      "240it [00:00, 4846.64it/s]\n",
      "276it [00:00, 11380.98it/s]\n",
      "153it [00:00, 5856.90it/s]\n",
      "1092497it [00:17, 63451.76it/s]\n",
      "1245it [00:00, 13144.15it/s]\n",
      "348it [00:00, 9198.09it/s]\n",
      "547it [00:00, 5038.68it/s]\n",
      "726it [00:00, 9771.29it/s]\n",
      "36449it [00:02, 18008.83it/s]\n",
      "1140it [00:00, 7271.77it/s]\n",
      "22818it [00:01, 21880.55it/s]\n",
      "42143it [00:03, 12831.09it/s]\n",
      "1138it [00:00, 7134.67it/s]\n",
      "12172it [00:00, 18151.71it/s]\n",
      "1045it [00:00, 12637.38it/s]\n",
      "230208it [00:05, 40595.69it/s]\n",
      "22542it [00:02, 11104.31it/s]\n",
      "48401it [00:02, 22262.15it/s]\n",
      "31050it [00:02, 15433.65it/s]\n",
      "2it [00:00, 1453.83it/s]\n",
      "6400it [00:00, 11883.82it/s]\n",
      "297it [00:00, 11966.57it/s]\n",
      "51302it [00:03, 16522.50it/s]\n",
      "286it [00:00, 10991.12it/s]\n",
      "3071it [00:00, 25859.84it/s]\n",
      "13101it [00:00, 18691.11it/s]\n",
      "8504it [00:00, 11159.98it/s]\n",
      "629779it [00:16, 37074.34it/s]\n",
      "209173it [00:28, 7273.84it/s] \n",
      "216it [00:00, 12310.04it/s]\n",
      "1074it [00:00, 16166.27it/s]\n",
      "1578it [00:00, 70038.22it/s]\n",
      "984it [00:00, 13972.54it/s]\n",
      "753it [00:00, 13850.54it/s]\n",
      "101it [00:00, 4182.96it/s]\n",
      "91it [00:00, 16458.89it/s]\n",
      "3578it [00:00, 19999.52it/s]\n",
      "4122it [00:00, 17619.16it/s]\n",
      "114it [00:00, 3801.09it/s]\n",
      "100it [00:00, 7166.44it/s]\n",
      "24it [00:00, 8295.29it/s]\n",
      "1333it [00:00, 13173.79it/s]\n",
      "64241it [00:05, 12590.90it/s]\n",
      "416it [00:00, 4736.87it/s]\n",
      "4591it [00:00, 10751.55it/s]\n",
      "300it [00:00, 10240.58it/s]\n",
      "48it [00:00, 10521.38it/s]\n",
      "25040it [00:01, 20511.23it/s]\n",
      "220it [00:00, 2755.22it/s]\n",
      "644it [00:00, 9299.08it/s]\n",
      "371844it [00:26, 14014.95it/s]\n",
      "404it [00:00, 3861.60it/s]\n",
      "373694it [00:28, 13289.30it/s]\n",
      "597it [00:00, 8573.96it/s]\n",
      "281536it [00:08, 35134.37it/s]\n",
      "11439it [00:00, 11738.26it/s]\n",
      "168it [00:00, 4368.58it/s]\n",
      "839it [00:00, 5611.75it/s]\n",
      "5550it [00:00, 36461.01it/s]\n",
      "3626it [00:00, 16187.40it/s]\n",
      "772it [00:00, 6402.39it/s]\n",
      "711it [00:00, 12670.38it/s]\n",
      "664it [00:00, 8808.33it/s]\n",
      "5407it [00:00, 8225.07it/s] \n",
      "82470it [00:04, 18064.88it/s]\n",
      "13321it [00:00, 14976.14it/s]\n",
      "7363it [00:00, 15672.71it/s]\n",
      "3834it [00:00, 10517.46it/s]\n",
      "65it [00:00, 4732.66it/s]\n",
      "25073it [00:01, 14142.53it/s]\n",
      "290it [00:00, 8175.59it/s]\n",
      "11314it [00:00, 32566.89it/s]\n",
      "942it [00:00, 16999.11it/s]\n",
      "24096it [00:00, 239143.69it/s]\n",
      "15277it [00:00, 15840.58it/s]\n",
      "84it [00:00, 9036.67it/s]\n",
      "327it [00:00, 8113.35it/s]\n",
      "402it [00:00, 863.65it/s] \n"
     ]
    }
   ],
   "source": [
    "for f in online_articles:\n",
    "    with open(f) as fopen:\n",
    "        for l in tqdm(fopen):\n",
    "            try:\n",
    "                data = tokenizer.bos_token + json.loads(l) + tokenizer.eos_token\n",
    "                partitioned = partition(data)\n",
    "                for p in partitioned:\n",
    "                    data = {\n",
    "                        'text': p,\n",
    "                    }\n",
    "                    a.write(f'{json.dumps(data)}\\n')\n",
    "                    a.flush()\n",
    "            except:\n",
    "                pass"
   ]
  },
  {
   "cell_type": "code",
   "execution_count": 38,
   "id": "a8a53ef2",
   "metadata": {},
   "outputs": [
    {
     "name": "stdout",
     "output_type": "stream",
     "text": [
      "-rw-r--r-- 1 ubuntu ubuntu 32G Apr 19 03:38 combine-lm.jsonl\r\n"
     ]
    },
    {
     "name": "stderr",
     "output_type": "stream",
     "text": [
      "huggingface/tokenizers: The current process just got forked, after parallelism has already been used. Disabling parallelism to avoid deadlocks...\n",
      "To disable this warning, you can either:\n",
      "\t- Avoid using `tokenizers` before the fork if possible\n",
      "\t- Explicitly set the environment variable TOKENIZERS_PARALLELISM=(true | false)\n"
     ]
    }
   ],
   "source": [
    "!ls -lh combine-lm.jsonl"
   ]
  },
  {
   "cell_type": "code",
   "execution_count": 39,
   "id": "e17dbdf6",
   "metadata": {},
   "outputs": [
    {
     "name": "stderr",
     "output_type": "stream",
     "text": [
      "huggingface/tokenizers: The current process just got forked, after parallelism has already been used. Disabling parallelism to avoid deadlocks...\n",
      "To disable this warning, you can either:\n",
      "\t- Avoid using `tokenizers` before the fork if possible\n",
      "\t- Explicitly set the environment variable TOKENIZERS_PARALLELISM=(true | false)\n"
     ]
    },
    {
     "name": "stdout",
     "output_type": "stream",
     "text": [
      "24067009 combine-lm.jsonl\r\n"
     ]
    }
   ],
   "source": [
    "!wc -l combine-lm.jsonl"
   ]
  },
  {
   "cell_type": "code",
   "execution_count": null,
   "id": "8c8f2b35",
   "metadata": {},
   "outputs": [],
   "source": []
  }
 ],
 "metadata": {
  "kernelspec": {
   "display_name": "Python 3 (ipykernel)",
   "language": "python",
   "name": "python3"
  },
  "language_info": {
   "codemirror_mode": {
    "name": "ipython",
    "version": 3
   },
   "file_extension": ".py",
   "mimetype": "text/x-python",
   "name": "python",
   "nbconvert_exporter": "python",
   "pygments_lexer": "ipython3",
   "version": "3.10.12"
  }
 },
 "nbformat": 4,
 "nbformat_minor": 5
}
