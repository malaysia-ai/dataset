{
 "cells": [
  {
   "cell_type": "code",
   "execution_count": 1,
   "id": "e7d31a75",
   "metadata": {},
   "outputs": [],
   "source": [
    "from glob import glob\n",
    "from streaming import MDSWriter\n",
    "from streaming import LocalDataset, StreamingDataset\n",
    "from transformers import default_data_collator, DataCollatorForLanguageModeling\n",
    "from tqdm import tqdm\n",
    "import numpy as np"
   ]
  },
  {
   "cell_type": "code",
   "execution_count": 2,
   "id": "1aefad1a",
   "metadata": {},
   "outputs": [],
   "source": [
    "folders = sorted(glob('tokenized_indexes/tokenized-*'), key = lambda x: int(x.split('-')[-1]))"
   ]
  },
  {
   "cell_type": "code",
   "execution_count": 3,
   "id": "d3faf83f",
   "metadata": {},
   "outputs": [],
   "source": [
    "folders.extend(sorted(glob('tokenized_extra/tokenized-*'), key = lambda x: int(x.split('-')[-1])))"
   ]
  },
  {
   "cell_type": "code",
   "execution_count": 4,
   "id": "19d0ba94",
   "metadata": {},
   "outputs": [
    {
     "data": {
      "text/plain": [
       "['tokenized_indexes/tokenized-0',\n",
       " 'tokenized_indexes/tokenized-1',\n",
       " 'tokenized_indexes/tokenized-2',\n",
       " 'tokenized_indexes/tokenized-3',\n",
       " 'tokenized_indexes/tokenized-4',\n",
       " 'tokenized_indexes/tokenized-5',\n",
       " 'tokenized_indexes/tokenized-6',\n",
       " 'tokenized_indexes/tokenized-7',\n",
       " 'tokenized_indexes/tokenized-8',\n",
       " 'tokenized_indexes/tokenized-9',\n",
       " 'tokenized_indexes/tokenized-10',\n",
       " 'tokenized_indexes/tokenized-11',\n",
       " 'tokenized_indexes/tokenized-12',\n",
       " 'tokenized_indexes/tokenized-13',\n",
       " 'tokenized_indexes/tokenized-14',\n",
       " 'tokenized_indexes/tokenized-15',\n",
       " 'tokenized_indexes/tokenized-16',\n",
       " 'tokenized_indexes/tokenized-17',\n",
       " 'tokenized_indexes/tokenized-18',\n",
       " 'tokenized_indexes/tokenized-19',\n",
       " 'tokenized_indexes/tokenized-20',\n",
       " 'tokenized_indexes/tokenized-21',\n",
       " 'tokenized_indexes/tokenized-22',\n",
       " 'tokenized_indexes/tokenized-23',\n",
       " 'tokenized_indexes/tokenized-24',\n",
       " 'tokenized_indexes/tokenized-25',\n",
       " 'tokenized_indexes/tokenized-26',\n",
       " 'tokenized_indexes/tokenized-27',\n",
       " 'tokenized_indexes/tokenized-28',\n",
       " 'tokenized_indexes/tokenized-29',\n",
       " 'tokenized_indexes/tokenized-30',\n",
       " 'tokenized_indexes/tokenized-31',\n",
       " 'tokenized_indexes/tokenized-32',\n",
       " 'tokenized_indexes/tokenized-33',\n",
       " 'tokenized_indexes/tokenized-34',\n",
       " 'tokenized_indexes/tokenized-35',\n",
       " 'tokenized_indexes/tokenized-36',\n",
       " 'tokenized_indexes/tokenized-37',\n",
       " 'tokenized_indexes/tokenized-38',\n",
       " 'tokenized_indexes/tokenized-39',\n",
       " 'tokenized_indexes/tokenized-40',\n",
       " 'tokenized_indexes/tokenized-41',\n",
       " 'tokenized_indexes/tokenized-42',\n",
       " 'tokenized_indexes/tokenized-43',\n",
       " 'tokenized_indexes/tokenized-44',\n",
       " 'tokenized_indexes/tokenized-45',\n",
       " 'tokenized_indexes/tokenized-46',\n",
       " 'tokenized_indexes/tokenized-47',\n",
       " 'tokenized_indexes/tokenized-48',\n",
       " 'tokenized_extra/tokenized-0',\n",
       " 'tokenized_extra/tokenized-1',\n",
       " 'tokenized_extra/tokenized-2',\n",
       " 'tokenized_extra/tokenized-3',\n",
       " 'tokenized_extra/tokenized-4',\n",
       " 'tokenized_extra/tokenized-5',\n",
       " 'tokenized_extra/tokenized-6',\n",
       " 'tokenized_extra/tokenized-7',\n",
       " 'tokenized_extra/tokenized-8',\n",
       " 'tokenized_extra/tokenized-9',\n",
       " 'tokenized_extra/tokenized-10',\n",
       " 'tokenized_extra/tokenized-11',\n",
       " 'tokenized_extra/tokenized-12']"
      ]
     },
     "execution_count": 4,
     "metadata": {},
     "output_type": "execute_result"
    }
   ],
   "source": [
    "folders"
   ]
  },
  {
   "cell_type": "code",
   "execution_count": 5,
   "id": "1045f25d",
   "metadata": {},
   "outputs": [],
   "source": [
    "from streaming.base.format.mds.encodings import Encoding, _encodings\n",
    "\n",
    "class UInt32(Encoding):\n",
    "    def encode(self, obj) -> bytes:\n",
    "        return obj.tobytes()\n",
    "\n",
    "    def decode(self, data: bytes):\n",
    "        return np.frombuffer(data, np.uint32)\n",
    "\n",
    "_encodings['uint32'] = UInt32"
   ]
  },
  {
   "cell_type": "code",
   "execution_count": 6,
   "id": "c446bcaa",
   "metadata": {},
   "outputs": [],
   "source": [
    "columns = {\n",
    "    'input_ids': 'uint32',\n",
    "}\n",
    "\n",
    "compression = 'zstd'\n",
    "hashes = 'sha1', 'xxh64'"
   ]
  },
  {
   "cell_type": "code",
   "execution_count": 7,
   "id": "df19e976",
   "metadata": {},
   "outputs": [],
   "source": [
    "!rm -rf combine-all"
   ]
  },
  {
   "cell_type": "code",
   "execution_count": 8,
   "id": "74c5524e",
   "metadata": {
    "scrolled": true
   },
   "outputs": [
    {
     "name": "stderr",
     "output_type": "stream",
     "text": [
      "Because `predownload` was not specified, it will default to 8*batch_size if batch_size is not None, otherwise 64. Prior to Streaming v0.7.0, `predownload` defaulted to max(batch_size, 256 * batch_size // num_canonical_nodes).\n",
      "100%|██████████| 11787/11787 [00:01<00:00, 10289.32it/s]\n",
      "Because `predownload` was not specified, it will default to 8*batch_size if batch_size is not None, otherwise 64. Prior to Streaming v0.7.0, `predownload` defaulted to max(batch_size, 256 * batch_size // num_canonical_nodes).\n",
      "100%|██████████| 12557/12557 [00:01<00:00, 10118.58it/s]\n",
      "Because `predownload` was not specified, it will default to 8*batch_size if batch_size is not None, otherwise 64. Prior to Streaming v0.7.0, `predownload` defaulted to max(batch_size, 256 * batch_size // num_canonical_nodes).\n",
      "100%|██████████| 28925/28925 [00:03<00:00, 8495.45it/s] \n",
      "Because `predownload` was not specified, it will default to 8*batch_size if batch_size is not None, otherwise 64. Prior to Streaming v0.7.0, `predownload` defaulted to max(batch_size, 256 * batch_size // num_canonical_nodes).\n",
      "100%|██████████| 91347/91347 [00:11<00:00, 8234.33it/s] \n",
      "Because `predownload` was not specified, it will default to 8*batch_size if batch_size is not None, otherwise 64. Prior to Streaming v0.7.0, `predownload` defaulted to max(batch_size, 256 * batch_size // num_canonical_nodes).\n",
      "100%|██████████| 53601/53601 [00:07<00:00, 7242.52it/s]\n",
      "Because `predownload` was not specified, it will default to 8*batch_size if batch_size is not None, otherwise 64. Prior to Streaming v0.7.0, `predownload` defaulted to max(batch_size, 256 * batch_size // num_canonical_nodes).\n",
      "100%|██████████| 51611/51611 [00:07<00:00, 7316.96it/s]\n",
      "Because `predownload` was not specified, it will default to 8*batch_size if batch_size is not None, otherwise 64. Prior to Streaming v0.7.0, `predownload` defaulted to max(batch_size, 256 * batch_size // num_canonical_nodes).\n",
      "100%|██████████| 51283/51283 [00:06<00:00, 7389.18it/s]\n",
      "Because `predownload` was not specified, it will default to 8*batch_size if batch_size is not None, otherwise 64. Prior to Streaming v0.7.0, `predownload` defaulted to max(batch_size, 256 * batch_size // num_canonical_nodes).\n",
      "100%|██████████| 51691/51691 [00:06<00:00, 7416.19it/s]\n",
      "Because `predownload` was not specified, it will default to 8*batch_size if batch_size is not None, otherwise 64. Prior to Streaming v0.7.0, `predownload` defaulted to max(batch_size, 256 * batch_size // num_canonical_nodes).\n",
      "100%|██████████| 23930/23930 [00:03<00:00, 6489.76it/s]\n",
      "Because `predownload` was not specified, it will default to 8*batch_size if batch_size is not None, otherwise 64. Prior to Streaming v0.7.0, `predownload` defaulted to max(batch_size, 256 * batch_size // num_canonical_nodes).\n",
      "100%|██████████| 40054/40054 [00:05<00:00, 6880.29it/s]\n",
      "Because `predownload` was not specified, it will default to 8*batch_size if batch_size is not None, otherwise 64. Prior to Streaming v0.7.0, `predownload` defaulted to max(batch_size, 256 * batch_size // num_canonical_nodes).\n",
      "100%|██████████| 16880/16880 [00:02<00:00, 7665.92it/s]\n",
      "Because `predownload` was not specified, it will default to 8*batch_size if batch_size is not None, otherwise 64. Prior to Streaming v0.7.0, `predownload` defaulted to max(batch_size, 256 * batch_size // num_canonical_nodes).\n",
      "100%|██████████| 9108/9108 [00:01<00:00, 6944.47it/s]\n",
      "Because `predownload` was not specified, it will default to 8*batch_size if batch_size is not None, otherwise 64. Prior to Streaming v0.7.0, `predownload` defaulted to max(batch_size, 256 * batch_size // num_canonical_nodes).\n",
      "100%|██████████| 18157/18157 [00:02<00:00, 6593.12it/s]\n",
      "Because `predownload` was not specified, it will default to 8*batch_size if batch_size is not None, otherwise 64. Prior to Streaming v0.7.0, `predownload` defaulted to max(batch_size, 256 * batch_size // num_canonical_nodes).\n",
      "100%|██████████| 5690/5690 [00:00<00:00, 7800.14it/s]\n",
      "Because `predownload` was not specified, it will default to 8*batch_size if batch_size is not None, otherwise 64. Prior to Streaming v0.7.0, `predownload` defaulted to max(batch_size, 256 * batch_size // num_canonical_nodes).\n",
      "100%|██████████| 4460/4460 [00:00<00:00, 5709.17it/s]\n",
      "Because `predownload` was not specified, it will default to 8*batch_size if batch_size is not None, otherwise 64. Prior to Streaming v0.7.0, `predownload` defaulted to max(batch_size, 256 * batch_size // num_canonical_nodes).\n",
      "100%|██████████| 3666/3666 [00:00<00:00, 10455.07it/s]\n",
      "Because `predownload` was not specified, it will default to 8*batch_size if batch_size is not None, otherwise 64. Prior to Streaming v0.7.0, `predownload` defaulted to max(batch_size, 256 * batch_size // num_canonical_nodes).\n",
      "100%|██████████| 43522/43522 [00:06<00:00, 7158.69it/s]\n",
      "Because `predownload` was not specified, it will default to 8*batch_size if batch_size is not None, otherwise 64. Prior to Streaming v0.7.0, `predownload` defaulted to max(batch_size, 256 * batch_size // num_canonical_nodes).\n",
      "100%|██████████| 21353/21353 [00:02<00:00, 8387.58it/s]\n",
      "Because `predownload` was not specified, it will default to 8*batch_size if batch_size is not None, otherwise 64. Prior to Streaming v0.7.0, `predownload` defaulted to max(batch_size, 256 * batch_size // num_canonical_nodes).\n",
      "100%|██████████| 21333/21333 [00:03<00:00, 6779.59it/s]\n",
      "Because `predownload` was not specified, it will default to 8*batch_size if batch_size is not None, otherwise 64. Prior to Streaming v0.7.0, `predownload` defaulted to max(batch_size, 256 * batch_size // num_canonical_nodes).\n",
      "100%|██████████| 28017/28017 [00:03<00:00, 8791.00it/s]\n",
      "Because `predownload` was not specified, it will default to 8*batch_size if batch_size is not None, otherwise 64. Prior to Streaming v0.7.0, `predownload` defaulted to max(batch_size, 256 * batch_size // num_canonical_nodes).\n",
      "100%|██████████| 7104/7104 [00:00<00:00, 9113.98it/s]\n",
      "Because `predownload` was not specified, it will default to 8*batch_size if batch_size is not None, otherwise 64. Prior to Streaming v0.7.0, `predownload` defaulted to max(batch_size, 256 * batch_size // num_canonical_nodes).\n",
      "100%|██████████| 4779/4779 [00:00<00:00, 10861.29it/s]\n",
      "Because `predownload` was not specified, it will default to 8*batch_size if batch_size is not None, otherwise 64. Prior to Streaming v0.7.0, `predownload` defaulted to max(batch_size, 256 * batch_size // num_canonical_nodes).\n",
      "100%|██████████| 4766/4766 [00:00<00:00, 10825.86it/s]\n",
      "Because `predownload` was not specified, it will default to 8*batch_size if batch_size is not None, otherwise 64. Prior to Streaming v0.7.0, `predownload` defaulted to max(batch_size, 256 * batch_size // num_canonical_nodes).\n",
      "100%|██████████| 4780/4780 [00:00<00:00, 8330.86it/s]\n",
      "Because `predownload` was not specified, it will default to 8*batch_size if batch_size is not None, otherwise 64. Prior to Streaming v0.7.0, `predownload` defaulted to max(batch_size, 256 * batch_size // num_canonical_nodes).\n",
      "100%|██████████| 4784/4784 [00:00<00:00, 10700.06it/s]\n",
      "Because `predownload` was not specified, it will default to 8*batch_size if batch_size is not None, otherwise 64. Prior to Streaming v0.7.0, `predownload` defaulted to max(batch_size, 256 * batch_size // num_canonical_nodes).\n",
      "100%|██████████| 4783/4783 [00:00<00:00, 10826.98it/s]\n",
      "Because `predownload` was not specified, it will default to 8*batch_size if batch_size is not None, otherwise 64. Prior to Streaming v0.7.0, `predownload` defaulted to max(batch_size, 256 * batch_size // num_canonical_nodes).\n",
      "100%|██████████| 4772/4772 [00:00<00:00, 8588.76it/s]\n",
      "Because `predownload` was not specified, it will default to 8*batch_size if batch_size is not None, otherwise 64. Prior to Streaming v0.7.0, `predownload` defaulted to max(batch_size, 256 * batch_size // num_canonical_nodes).\n",
      "100%|██████████| 4784/4784 [00:00<00:00, 9938.51it/s]\n",
      "Because `predownload` was not specified, it will default to 8*batch_size if batch_size is not None, otherwise 64. Prior to Streaming v0.7.0, `predownload` defaulted to max(batch_size, 256 * batch_size // num_canonical_nodes).\n",
      "100%|██████████| 4782/4782 [00:00<00:00, 8258.96it/s]\n",
      "Because `predownload` was not specified, it will default to 8*batch_size if batch_size is not None, otherwise 64. Prior to Streaming v0.7.0, `predownload` defaulted to max(batch_size, 256 * batch_size // num_canonical_nodes).\n",
      "100%|██████████| 4780/4780 [00:00<00:00, 6184.34it/s]\n",
      "Because `predownload` was not specified, it will default to 8*batch_size if batch_size is not None, otherwise 64. Prior to Streaming v0.7.0, `predownload` defaulted to max(batch_size, 256 * batch_size // num_canonical_nodes).\n",
      "100%|██████████| 4762/4762 [00:00<00:00, 7849.57it/s]\n",
      "Because `predownload` was not specified, it will default to 8*batch_size if batch_size is not None, otherwise 64. Prior to Streaming v0.7.0, `predownload` defaulted to max(batch_size, 256 * batch_size // num_canonical_nodes).\n",
      "100%|██████████| 16909/16909 [00:02<00:00, 8290.21it/s]\n",
      "Because `predownload` was not specified, it will default to 8*batch_size if batch_size is not None, otherwise 64. Prior to Streaming v0.7.0, `predownload` defaulted to max(batch_size, 256 * batch_size // num_canonical_nodes).\n",
      "100%|██████████| 27113/27113 [00:03<00:00, 7119.48it/s]\n",
      "Because `predownload` was not specified, it will default to 8*batch_size if batch_size is not None, otherwise 64. Prior to Streaming v0.7.0, `predownload` defaulted to max(batch_size, 256 * batch_size // num_canonical_nodes).\n",
      "100%|██████████| 18620/18620 [00:02<00:00, 7681.00it/s]\n",
      "Because `predownload` was not specified, it will default to 8*batch_size if batch_size is not None, otherwise 64. Prior to Streaming v0.7.0, `predownload` defaulted to max(batch_size, 256 * batch_size // num_canonical_nodes).\n",
      "100%|██████████| 31574/31574 [00:04<00:00, 7550.02it/s]\n",
      "Because `predownload` was not specified, it will default to 8*batch_size if batch_size is not None, otherwise 64. Prior to Streaming v0.7.0, `predownload` defaulted to max(batch_size, 256 * batch_size // num_canonical_nodes).\n",
      "100%|██████████| 25843/25843 [00:03<00:00, 7878.30it/s]\n",
      "Because `predownload` was not specified, it will default to 8*batch_size if batch_size is not None, otherwise 64. Prior to Streaming v0.7.0, `predownload` defaulted to max(batch_size, 256 * batch_size // num_canonical_nodes).\n",
      "100%|██████████| 26415/26415 [00:03<00:00, 7228.45it/s]\n",
      "Because `predownload` was not specified, it will default to 8*batch_size if batch_size is not None, otherwise 64. Prior to Streaming v0.7.0, `predownload` defaulted to max(batch_size, 256 * batch_size // num_canonical_nodes).\n",
      "100%|██████████| 28894/28894 [00:03<00:00, 7490.98it/s]\n",
      "Because `predownload` was not specified, it will default to 8*batch_size if batch_size is not None, otherwise 64. Prior to Streaming v0.7.0, `predownload` defaulted to max(batch_size, 256 * batch_size // num_canonical_nodes).\n",
      "100%|██████████| 31012/31012 [00:04<00:00, 6923.82it/s]\n",
      "Because `predownload` was not specified, it will default to 8*batch_size if batch_size is not None, otherwise 64. Prior to Streaming v0.7.0, `predownload` defaulted to max(batch_size, 256 * batch_size // num_canonical_nodes).\n",
      "100%|██████████| 15992/15992 [00:01<00:00, 8561.86it/s]\n",
      "Because `predownload` was not specified, it will default to 8*batch_size if batch_size is not None, otherwise 64. Prior to Streaming v0.7.0, `predownload` defaulted to max(batch_size, 256 * batch_size // num_canonical_nodes).\n",
      "100%|██████████| 1876/1876 [00:00<00:00, 7951.92it/s]\n",
      "Because `predownload` was not specified, it will default to 8*batch_size if batch_size is not None, otherwise 64. Prior to Streaming v0.7.0, `predownload` defaulted to max(batch_size, 256 * batch_size // num_canonical_nodes).\n",
      "100%|██████████| 10741/10741 [00:01<00:00, 8195.05it/s]\n",
      "Because `predownload` was not specified, it will default to 8*batch_size if batch_size is not None, otherwise 64. Prior to Streaming v0.7.0, `predownload` defaulted to max(batch_size, 256 * batch_size // num_canonical_nodes).\n",
      "100%|██████████| 20789/20789 [00:02<00:00, 7163.03it/s]\n",
      "Because `predownload` was not specified, it will default to 8*batch_size if batch_size is not None, otherwise 64. Prior to Streaming v0.7.0, `predownload` defaulted to max(batch_size, 256 * batch_size // num_canonical_nodes).\n",
      "100%|██████████| 9700/9700 [00:02<00:00, 4720.73it/s]\n",
      "Because `predownload` was not specified, it will default to 8*batch_size if batch_size is not None, otherwise 64. Prior to Streaming v0.7.0, `predownload` defaulted to max(batch_size, 256 * batch_size // num_canonical_nodes).\n",
      "100%|██████████| 41164/41164 [00:05<00:00, 7983.86it/s]\n",
      "Because `predownload` was not specified, it will default to 8*batch_size if batch_size is not None, otherwise 64. Prior to Streaming v0.7.0, `predownload` defaulted to max(batch_size, 256 * batch_size // num_canonical_nodes).\n",
      "100%|██████████| 27475/27475 [00:03<00:00, 7443.49it/s]\n",
      "Because `predownload` was not specified, it will default to 8*batch_size if batch_size is not None, otherwise 64. Prior to Streaming v0.7.0, `predownload` defaulted to max(batch_size, 256 * batch_size // num_canonical_nodes).\n",
      "100%|██████████| 25720/25720 [00:03<00:00, 8315.68it/s]\n",
      "Because `predownload` was not specified, it will default to 8*batch_size if batch_size is not None, otherwise 64. Prior to Streaming v0.7.0, `predownload` defaulted to max(batch_size, 256 * batch_size // num_canonical_nodes).\n",
      "100%|██████████| 19459/19459 [00:02<00:00, 7391.33it/s]\n",
      "Because `predownload` was not specified, it will default to 8*batch_size if batch_size is not None, otherwise 64. Prior to Streaming v0.7.0, `predownload` defaulted to max(batch_size, 256 * batch_size // num_canonical_nodes).\n",
      "100%|██████████| 3971/3971 [00:00<00:00, 9464.45it/s]\n",
      "Because `predownload` was not specified, it will default to 8*batch_size if batch_size is not None, otherwise 64. Prior to Streaming v0.7.0, `predownload` defaulted to max(batch_size, 256 * batch_size // num_canonical_nodes).\n",
      "100%|██████████| 10355/10355 [00:01<00:00, 6431.02it/s]\n",
      "Because `predownload` was not specified, it will default to 8*batch_size if batch_size is not None, otherwise 64. Prior to Streaming v0.7.0, `predownload` defaulted to max(batch_size, 256 * batch_size // num_canonical_nodes).\n",
      "100%|██████████| 9966/9966 [00:02<00:00, 4572.47it/s]\n",
      "Because `predownload` was not specified, it will default to 8*batch_size if batch_size is not None, otherwise 64. Prior to Streaming v0.7.0, `predownload` defaulted to max(batch_size, 256 * batch_size // num_canonical_nodes).\n",
      "100%|██████████| 9931/9931 [00:02<00:00, 4247.84it/s]\n",
      "Because `predownload` was not specified, it will default to 8*batch_size if batch_size is not None, otherwise 64. Prior to Streaming v0.7.0, `predownload` defaulted to max(batch_size, 256 * batch_size // num_canonical_nodes).\n",
      "100%|██████████| 10002/10002 [00:01<00:00, 5671.31it/s]\n",
      "Because `predownload` was not specified, it will default to 8*batch_size if batch_size is not None, otherwise 64. Prior to Streaming v0.7.0, `predownload` defaulted to max(batch_size, 256 * batch_size // num_canonical_nodes).\n",
      "100%|██████████| 9942/9942 [00:02<00:00, 4616.13it/s]\n",
      "Because `predownload` was not specified, it will default to 8*batch_size if batch_size is not None, otherwise 64. Prior to Streaming v0.7.0, `predownload` defaulted to max(batch_size, 256 * batch_size // num_canonical_nodes).\n",
      "100%|██████████| 9958/9958 [00:02<00:00, 4105.94it/s]\n",
      "Because `predownload` was not specified, it will default to 8*batch_size if batch_size is not None, otherwise 64. Prior to Streaming v0.7.0, `predownload` defaulted to max(batch_size, 256 * batch_size // num_canonical_nodes).\n",
      "100%|██████████| 9956/9956 [00:01<00:00, 5408.85it/s]\n",
      "Because `predownload` was not specified, it will default to 8*batch_size if batch_size is not None, otherwise 64. Prior to Streaming v0.7.0, `predownload` defaulted to max(batch_size, 256 * batch_size // num_canonical_nodes).\n",
      "100%|██████████| 10093/10093 [00:01<00:00, 5812.61it/s]\n",
      "Because `predownload` was not specified, it will default to 8*batch_size if batch_size is not None, otherwise 64. Prior to Streaming v0.7.0, `predownload` defaulted to max(batch_size, 256 * batch_size // num_canonical_nodes).\n",
      "100%|██████████| 10034/10034 [00:02<00:00, 3423.07it/s]\n",
      "Because `predownload` was not specified, it will default to 8*batch_size if batch_size is not None, otherwise 64. Prior to Streaming v0.7.0, `predownload` defaulted to max(batch_size, 256 * batch_size // num_canonical_nodes).\n",
      "100%|██████████| 9942/9942 [00:01<00:00, 5386.09it/s]\n",
      "Because `predownload` was not specified, it will default to 8*batch_size if batch_size is not None, otherwise 64. Prior to Streaming v0.7.0, `predownload` defaulted to max(batch_size, 256 * batch_size // num_canonical_nodes).\n",
      "100%|██████████| 9999/9999 [00:02<00:00, 4431.79it/s]\n",
      "Because `predownload` was not specified, it will default to 8*batch_size if batch_size is not None, otherwise 64. Prior to Streaming v0.7.0, `predownload` defaulted to max(batch_size, 256 * batch_size // num_canonical_nodes).\n",
      "100%|██████████| 10978/10978 [00:02<00:00, 4762.12it/s]\n",
      "Because `predownload` was not specified, it will default to 8*batch_size if batch_size is not None, otherwise 64. Prior to Streaming v0.7.0, `predownload` defaulted to max(batch_size, 256 * batch_size // num_canonical_nodes).\n",
      "100%|██████████| 9922/9922 [00:01<00:00, 5362.43it/s]\n"
     ]
    }
   ],
   "source": [
    "with MDSWriter(out='combine-all', columns=columns, compression=None, hashes=hashes) as out:\n",
    "    for f in folders:\n",
    "        try:\n",
    "            dataset = StreamingDataset(local=f)\n",
    "            for i in tqdm(range(len(dataset))):\n",
    "                out.write(dataset[i])\n",
    "        except Exception as e:\n",
    "            print(e)\n",
    "            pass"
   ]
  },
  {
   "cell_type": "code",
   "execution_count": 9,
   "id": "4a992c8a",
   "metadata": {
    "scrolled": true
   },
   "outputs": [],
   "source": [
    "dataset = LocalDataset('combine-all')"
   ]
  },
  {
   "cell_type": "code",
   "execution_count": 10,
   "id": "c6466439",
   "metadata": {},
   "outputs": [
    {
     "data": {
      "text/plain": [
       "9.487917056"
      ]
     },
     "execution_count": 10,
     "metadata": {},
     "output_type": "execute_result"
    }
   ],
   "source": [
    "(len(dataset) * 8192) / 1e9"
   ]
  },
  {
   "cell_type": "code",
   "execution_count": 14,
   "id": "904f7527",
   "metadata": {
    "scrolled": true
   },
   "outputs": [
    {
     "name": "stderr",
     "output_type": "stream",
     "text": [
      "Special tokens have been added in the vocabulary, make sure the associated word embeddings are fine-tuned or trained.\n"
     ]
    }
   ],
   "source": [
    "from transformers import AutoTokenizer\n",
    "\n",
    "tokenizer = AutoTokenizer.from_pretrained('meta-llama/Meta-Llama-3-8B')"
   ]
  },
  {
   "cell_type": "code",
   "execution_count": 15,
   "id": "f44cf8a0",
   "metadata": {},
   "outputs": [
    {
     "data": {
      "text/plain": [
       "\" parking lot occupancy across various levels of analysis. The utilization of distribution or mapping maps notably simplifies the tracking of intricate data sets. Therefore, the formulation of distribution maps for parking lot occupancy proves imperative in addressing traffic congestion and related inconveniences. Taufiq et. al., Malaysian Journal of Computing, 8 (2): 1639-1651, 2023 1640 Employing a GIS-based approach to parking spot identification could also contribute insights into the realms of traffic congestion and pedestrian safety within urban settings. Keywords: Availability, Geographical Information System (GIS), Parking Spaces. Received for review: 02-10-2022; Accepted: 18-09-2023; Published: 10-10-2023 DOI: 10.24191/mjoc.v8i2.24075 1. Introduction According to a press release issued on April 16, 2014, by market research agency Nielsen, Malaysia has the third-highest rate of car ownership in the world, with 93 percent of households owning a car. That is to say, only 7 percent of Malaysianhouseholds do not own cars. Car parking is a major issue in both developed and developing countries' urban areas. Many cities are suffering from a lack of car parking areas as a result of the rapid increase in car ownership, with an imbalance between parking supply and demand, which can be considered the initial cause of metropolis parking problems. This imbalance is caused in part by ineffective land use planning and underestimation of space requirements during the early stages of planning. Parking space shortages, high parking fees, and traffic congestion caused by visitors looking for a parking spot are just a few examples of common parking issues. In recent years, planners and researchers have focused on parking to solve current traffic problems, particularly in congested urban areas. For the study area, Irbid-Jordan city, where curb parking is common, parking lots have recently been used to alleviate congestion, aid in the reduction of pedestrian accidents, and encourage pedestrians to change cultural behaviors by walking on streets rather than sidewalks (Riggs, 2014; Huang and Hsieh, 2022). Furthermore, because on-street parking is in short supply, drivers are willing to park in parking lots for safety reasons. The geographic information system (GIS) is a computer-based tool for visualizing, mapping, and analyzing earthly phenomena. GIS is a technological tool for analyzing spatial data. It is the science of spatial and attribute data analysis that makes GIS an effective tool for locating public parking locations (Watener et al., 2013; Yaacob et al., 2016 and Obaidat, 2018). As a result of GIS's usefulness, many private and government agencies in Malaysia are using and implementing it on a regular basis. The aim of this paper is to provide a methodology framework using GIS to provide information about parking space availability, especially in Central Business District (CBD) areas, in order to set an efficient parking solution or smart parking monitoring systems for sustainable transportation in the smart cities environment. The availability of parking areas data provided to the public at the locality can resolve the issue of traffic congestion, lost time and difficulties of finding parking spaces at CBD and thus can reduce carbon emission. The smart parking monitoring provided in the locality will achieve the quality of''citizen's life, which considers the aspects of planning, management, technology and environment (Khairuzzaman et al., 2020; Ahmad et al., 2014). The objectives of this paper are to extract the parking area from imagery sensing Google Earth, to gather data on the type of parking areas from the available database provided by local authorities and to produce the distribution map of parking availability by categories - area by units, hectares and types. 2. Literature Review 2.1 Parking The parking system is a branch of engineering that falls under the purview of Traffic Engineers. In order to determine whether current parking needs are met, a study of parking is crucial. Parking is defined as a location or storage area for stationary vehicles, as well as the act of Taufiq et. al., MalaysianJournal of Computing, 8 (2): 1639-1651, 2023 1641 stopping and disengaging a vehicle and leaving it unoccupied. It is convenient for motorists to park or store a vehicle in order to conduct their own business. The scarcity of space in urban areas has increased the demand for parking spaces, particularly in business districts. The lack of off-street parking in most urban areas, combined with inefficient traffic management, has resulted in parking issues, particularly in cities. The pattern of parking supply in our towns and cities has been evolving in recent years as parking demand has increased. This has been influenced from the start by the public and private organizations involved in providing parking infrastructure. It is important to remember the basic types of parking and the extent to which local governments have control over them. When considering parking supply, Rye and Kylin (2014) made the distinction between on-street and off-street parking, as shown in Table 1. Table 1. Parking type and sector controlling and supplying the parking area. Location On-Street Parking Off-Street Parking Use Public Private, Public Owned Public Private, Public Operated Public or Private Private, Public Type Free, Priced, Permit, Duration Control Free, Priced, Priced, Free, Priced 2.2 On-Street Parking In Europe, all on-street parking is publicly owned and provided by local governments, often under the general guidance and legal framework established by the central government. Local governments decide which restrictions should be imposed on specific streets within the framework of central government guidelines, taking into account national and local pressures for road safety, traffic flow, public transport provision and movement, the functioning of the local economy, residents' needs, and access to emergency services. 2.3 Off-Street Parking The majority of parking spaces will be located off-street in and around average medium- to large-sized cities. Most local authorities will require a certain amount of off-street parking to be built for the users of all new developments in their area. Additionally, all are likely to provide some public off-street parking, sometimes at a cost, for all users. However, the construction of a new off-street parking can be extremely expensive. 2.4 Availability of Parking Space and Management Parking management encompasses a wide range of policies and programs that result in more efficient use of parking resources while also providing significant economic, social, and environmental benefits. Although individual parking management strategies frequently have minor effects, their combined effects are significant. A cost-effective, integrated parking management program can frequently save money on parking requirements by 20-40% while improving user convenience and contributing to the achievement of additional planning goals. According to Glaab (2017), the best way to reduce driving is by charging people directly to drive and to cope with the price and demand. In this context, parking spaces should be considered real estate either in parking lots or as curb parking. The location of the parking area will determine the value. A space with many people, jobs, and amenities, such as a parking space in the heart of the city, is more valuablethan one with fewer people, jobs, and amenities, such as a street space in a small town or a city space in the middle of the night. As a result, if parking were priced like most commodities, its cost would vary depending on both time and Taufiq et. al., Malaysian Journal of Computing, 8 (2): 1639-1651, 2023 1642 location. It would be more expensive in large cities than in small towns, in business districts than in neighborhoods, and at midday rather than at midnight. If on-street parking is kept low enough to always be close to full, adding more off- street parking spaces will not necessarily reduce cruising for parking. If on-street parking is less expensive than off-street parking, there is always an incentive to cruise for street parking as long as the value of expected cruising time is less than the difference in parking prices. Parking on the street is typically underpriced, either because there is no fee or because the meter price is too low. Off-street parking facility owners are unlikely to set prices so low that customers are frequently turned away. According to Moura and de Silva (2019), predicting and analyzing parking space availability is a broad area of research with numerous opportunities to employ various technologies and methodologies. Over the last few years, there have been numerous scientific types of research and applications in this area. Existing practices, potential solutions and applications in the field of predicting parking space availability will emerge by Tuan Hassan and Masrom (2022). 2.5 Distribution of Parking Availability Area Shared parking is a good way to solve the parking problem. However, it is obvious that the scattered shared parking spaces in residential communities cannot provide enough parking spaces at any time. Due to the affordable price of small city cars and free or nominal charges for parking, most people prefer to travel by private cars rather than public transport. Nowadays, new parking development concepts like multi-level parking systems provide ample space as an off-street parking scheme with subsidized parking fees. Those areas generally have a higher demand for on-street parking due to a lack of off-street parking spaces. Cruising for parking occurs due to a lack of available parking spaces for parkers and a high demand for on-street parking in such areas. It has a negative impact on traffic in most major cities around the world, including India. According to Parmar et al., (2020), the average volume of traffic related to parking during peak hours can reach 30% to 50% of total traffic. People who own a vehicle need a space for parking. As the number of vehicles grows, the need for space will increase. Behrendt (1940) mentioned that due to this high growth rate, parking has become an integrated component of buildings as well as roadways. Hence, car parking is an issue of significance both at the local as well as at the strategic level of planning. The contribution towards traffic congestion and violations, accidents and injuries, and wastage oftime and money as well shows that parking problems arise mainly due to people wanting to park exactly in front of the door of their destination. On-street parking proves to be hazardous for through traffic and is also one of the most influencing factors for the delay. The high number of on-street parking spaces along the major roads in urban areas affects traffic operations, especially at every peak hour. In this case, many road users decide to park their cars at illegal parking spaces because of the tendency of people to park their cars near the destination regardless of legal or illegal parking. Illegal parking seems to be avoided as the number of vehicles increases. The distribution of parking availability areas is important to road users to produce effective road users in terms of using parking spaces. 3. Methodology 3.1 GIS Tools and System A geographic Information System (GIS) is a computerized information management system used for spatial and attribute information management, processing, analysis, and production. To manage information, GIS requires software, hardware, databases, procedures, and the skills of a person. The information is managed through a combination of information system Taufiq et. al., Malaysian Journal of Computing, 8 (2): 1639-1651, 2023 1643 operations that include planning, observation, data collection, management, and analysis to produce information that can be used in decision-making. GIS can be used in a variety of fields, including science, engineering, construction, local governments, social services, national defence, and the military. Students are increasingly interested in GIS courses offered at the undergraduate and graduate levels in universities and colleges. According to Lim (2022), the geographic information system (GIS) is a computer- based tool for visualizing, mapping, and analyzing earthly phenomena. GIS is a technological tool for analyzing spatial data. Geographic Information System (GIS), as a science of spatial and attribute data analysis, is an effective tool for locating the best location for public parking. Because GIS is such a useful tool, many private companies and government agencies in Malaysia have begun to use and implement it in their daily operations. The software of ArcGIS is a multipurpose GIS software programme created by ESRI. It is a large and well-integrated software platform that may be used to create functional GIS. There are four essential software components of ArcGIS, which is a geographic information model (GIM) that simulates aspects of the real world. These include components for storing and managing geographic data in files and databases, a set of pre-built applications for generating, editing, manipulating, mapping, analysing, and disseminating geographic data, and web services (data and functions) for networked software clients. Mobile devices, laptops, desktop computers, and servers can all run portions of the ArcGIS software system. ArcGIS Desktop is a fundamental component for GIS professionals to produce, examine, organise, and distribute geographic data so decision-makers can make well-informed choices. The ArcGIS Desktop can manage data, make maps, and conduct geographical analysis with it. To find spatial patterns, trends, and obscure correlations, ArcGIS Desktop can ingest data in avariety of formats and employ robust analytical tools and workflows. ArcGIS Pro, the powerful single desktop GIS application, is a feature-packed software developed with enhancements and ideas from the ArcGIS Pro user community. ArcGIS Pro supports data visualization; advanced analysis; and authoritative data maintenance in 2D, 3D, and 4D. It supports data sharing across a suite of ArcGIS products, such as ArcGIS Online and ArcGIS Enterprise, and enables users to work across the ArcGIS system through Web GIS. Discover the full spectrum of tools and capabilities within ArcGIS Pro today. This software can transform data into maps and actionable information. The software of ArcGIS Desktop has a multi-functional programme that can integrate data from multiple processes. The combination of data from various sources and formats can be supported by this software. Other than that, this software also can edit and analyse the data. 3.2 Intelligent transportation systems and parking management: Implementation potential in a Malaysian city A detailed map with accurate parking area positions and additional parking information, such as type of parking, cost or parking restrictions, is required to create an ITS for urban parking. This information is not currently available in any database above the level of individual municipalities. A highly scalable process that relies solely on existing and widely disseminated technologies rather than exhaustive manual data collection methods is required for quickly, cost-effective, and reliably mapping parking areas. Remote sensing imagery and query databases from GIS were identified as appropriate data sources. GIS data will be used to query the database and extract the aggregate parking area information from remote sensing imagery. According to Giannopoulous et al. (2017), the GIS database that is formed is capable of incorporating data that describes the existing situation and, furthermore, data that can be used to establish propositions for solving the identified problems. A substantial amount of primary and secondary geometric and descriptive information regarding the nature and characteristics of the area, which affect parking, was extremely valuable. More specifically, a unique card for every main building of the area was completed by a fieldwork survey, including a series of attributes that refer to the built environment and the existing floor and upper land Taufiq et. al., Malaysian Journal of Computing, 8 (2): 1639-1651, 2023 1644 use. Moreover, attributes regarding the street network and parking supply per block were added. The use of a comprehensive GIS environment not only contributes to improving the quality of research but also offers the possibility of continuously updated information and monitoring of the factors that influence the development of parkingâ\\x80\\x9d policiesâ\\x80\\x99 implementation. Figure 1 illustrates the parking distribution map digitiser that can be displayed using GIS (Giannopoulous et al., 2017). Figure 1. Illustration of parking distribution map digitizer. 3.3 Data Collection Data collection will be based on secondary data collected from the local authority. The procedure of collecting, measuring and analyzing accurate insights for research using standard validated techniques. The data requirement consists of secondary data. The data that has been collected is to profileall the parking distribution in the MBPJ area. The following variables were included in the availability of parking lots study: â\\x80¢ location of the parking area â\\x80¢ types of parking areas â\\x80¢ status of the parking area â\\x80¢ the total area of parking lots The profiling of parking space detection under Majlis Bandaraya Petaling Jaya using computerized information management system for information management, processing, analysis and production of information related to spatial and attribute, which is known as a Geographical Information System (GIS). The use of a comprehensive GIS environment not only contributes to improving the quality of research but also offers the possibility of continuously updated information and monitoring of the factors that influence development of parking â\\x80\\x9cpoliciesâ\\x80\\x99 implementation. 3.4 Methodological Concept Results The profiling of parking space detention under Majlis Bandaraya Petaling Jaya using computerized information management system for information management, processing, analysis and production of information related to spatial and attribute which is known as Geographical Information System (GIS). GIS requires software, hardware, databases, procedures and skills from a person to manage the information. GIS can be used for various applications including geospatial data. The information is controlled using a combination of information systems operations involving planning, observation, collection, management and analysis of data to produce information that can be used in the decision-making process. Taufiq et. al., Malaysian Journal of Computing, 8 (2): 1639-1651, 2023 1645 In this study, the mapping processes are divided into five major phases, which are interrelated from one phase to another. In order to clearly understand the mapping process for the availability of parking areas will describe all the phases in detail. The description of mapping process follows five (5) phases: â\\x80¢ Phase One: Imagery Sensing from Google Earth for Digitizing the availability of parking area. â\\x80¢ Phase Two: Identification of variable database inside the spatial and attribute table in GIS â\\x80¢ Phase Three: Extracting the parking database from the attribute table and reclassifying it into two categories. â\\x80¢ Phase Four: Export and Add the Query table for additional data. â\\x80¢ Phase Five: Processing the distribution of general suitable parking sites map - Availability of parking area. The overall mapping process in the methodology framework is illustrated in Figure 2. Figure 2. The overall mapping processes in the methodology framework. 3.5 GIS Layers Layers in ArcGIS are collections of geographic data. Layers point to a data source, and if the data is spatially interpreted by ArcGIS Pro, the dataâ\\x80\\x99s properties and attributes specify how the layer draws on a map, scene, or layout. A layerâ\\x80\\x99s data is represented by points, lines, shapes (polygons), or surfaces. The data is then visualized using symbols, text, graphics, and images. Most layers are one of the above types. Because GIS data varies in organization and complexity, there are many more types. For example, a group layer refers to a collection of layers. Some other common types of layers as provided in Table 2. In order to determine the number of existing parking lots in thestudy will be used spatial and attribute data to analyse the existing parking lots. The determination of the desired number of new parking lots can start with the modeling process. Taufiq et. al., Malaysian Journal of Computing, 8 (2): 1639-1651, 2023 1646 Table 2. Common Type of Layers. No Type of Layer Layer Justification 1 Query Layer Uses SQL queries to access and reference spatial and nonspatial database tables 2 Selection Layer References a subset of features from an existing layer 3 Subtype Layer Symbolized a subtype in a feature class or feature service as part of subtype group layer 4 Voxel Layer A type of 3D grid-based layer for displaying spatiotemporal data 5 Graphics Layer Represents geographic objects but does no reference a dataset 4. Results and Discussion The results are analysed and presented according to the five (5) mapping processes. Phase One: Imagery Sensing from Google Earth for Digitizing the availability of parking area. The purpose of the first phase is mainly to define the availability area for parking lots in the study area. In the first phase of mapping, the number of existing parking areas should be identified. The number of existing parking sites helps to reduce the size of the study area for potential parking sites. The process of this phase consists of several steps. The results of the first phase will produce the available area for parking lots and presented in form of the imagery sensing from google earth as depicted in Figure 3. Figure 3. Imagery Sensing from Google Earth process. Taufiq et. al., Malaysian Journal of Computing, 8 (2): 1639-1651, 2023 1647 Phase Two: Identification of variable database inside the spatial and attribute table in GIS The following GIS layers were developed in order to identify the attributes, entities and relationships of each variable, as tabulated in Table 3. Table 3 shows the collected database and the available parking spaces as a function from the selected data from the attribute table. Table 3. Developed GIS layers. Bil Variables Variable Justification 1 Lot ID The identification number of the lot for selected lot area 2 Guna Tanah 1 The identification of land use 1st classes according to their types from GIS guideline 3 Guna Tanah 2 The identification of land use 2nd classes according to their types from GIS guideline 4 Guna Tanah 3 The identification of land use 3rd classes according to their types from GIS guideline 5 Luas_h The area of parking lot in hectare 6 Daerah_ID The unique ID for district identification 7 PBT_ID The unique ID for local authority identification 8 Jenis_TLK Identification of category of parking area (On-street parking and Off-street parking) 9 Kategori_TLK Identification of parking status (In-Building or Off Building) Phase Three: Extracting the parking database from the attribute table and reclassifying it into two categories. In this phase, different criteria are considered in order to assess the future needs of parking facilities. This is due to different factors contributing to the need of the following twotypes of parking site (refer to Figure 4), either On-Street Parking or Off-Street Parking. Figure 4. Extracted of the parking database followed by their categories. Taufiq et. al., Malaysian Journal of Computing, 8 (2): 1639-1651, 2023 1648 Phase Four: Export and Add the Query table for additional data (class and category TLK). In Phase Four, the selected criteria for exporting process will be made by choosing the data from the attribute table. The process will include two selected criteria in attribute table with command of â\\x80\\x9cJenis_TLKâ\\x80\\x9d = â\\x80\\x98Off-Street â\\x80\\x9dParkingâ\\x80\\x99 as classified by the MBPJ_Parking Lot layer (as displayed in Figure 5). Figure 5. The selected criteria for exporting process. Phase Five: Processing the distribution of general, suitable parking sites map - Availability of parking area in Smart Cities Concept. In Phase Five, the process of understanding different types of land use will be done in order to improve the urban conditions. Land can be used to create parking facilities in a more appropriate manner as land dimensions play important role in determining the best location for parking facilities, considering the number of cars, the level of commuting, and parking along the route centers of generation. If the land size is less than the limit for creating and constructing a parking facility or if the parking capacity is insufficient in accommodating the target capacity, the intended location is removed from the list of possible locations. As shown in Figure 6, the distribution map shows the categories and types of parking lots available. As shown in Figure 6, the distribution map shows the categories and types of parking lots available. Smart parking monitoring systems provide car owners with information on available parking spaces. The management of the parking system has been improved for searching the available car parking spaces. The smart parking monitoring systems will indicate the available car park spaces using a monitor being placed at the entry point of the car park. Through image processing and CCTVs, this research detects the movement of cars in the parking system based on their registration numbers. Hence, the implementation of smart parking monitoring system using GIS is proposed, as the smart parking monitoring system can help to categorize and include the following types of parking: On-Street Parking Off-Street Parking Others Taufiq et. al., Malaysian Journal of Computing, 8 (2): 1639-1651, 2023 1649 Figure 6. Distribution Map of Parking Availability by Categories. 5. Discussion and Conclusion The issues pertaining to congestion that leads from dense population and higher number of registered vehicles at CBD may always become critical if no proper planning is taken by now. The issues can be tackled by ensuring comprehensive data is available for better planning. Congestion in the CBD, particularly when the public has difficulty finding the location to park their vehicles at their destination, becomes critical if they are not given advance information before starting their journey. In providing this information, comprehensive data is required by the Local Authority. Parking data should be readily available, including locations andtheir categories, occupancy (peak and off-peak times), etc. Detailed data can be very much easier to be monitored in the mapping or distribution maps. The definition of distribution maps for parking lot occupancy is critical in terms of convenience and traffic congestion. As a result of the developed GIS-based scheme for locating parking lots in urban areas, it might be possible to gain insight into traffic congestion issues as well as pedestrian safety issues. The maps created with this scheme could be updated and used for planning purposes and can be easily fit into smart parking monitoring systems dashboard. Similarly, the layout design of the needed parking facility produced by this process (Rashindra et al., 2023), can provide numerous benefits in terms of optimization of parking lot usage (occupancy vs time), safe cost and time, better planning for the city. To support smart parking monitoring systems, this study prepares the necessary platform and information using GIS tools. Taufiq et. al., Malaysian Journal of Computing, 8 (2): 1639-1651, 2023 1650 Acknowledgement The authors would like to thank the Malaysia Institute of Transport (MITRANS) for financial support for this paper submission. This paper is part of MSc study under MITRANS, UiTM and contributing to MBPJ Seed Fund 2022. Funding The author(s) received funding from MBPJ Grand SEED UITM 2022. Author Contribution Siti Nurzafira Binti Mohamad Taufik drafted the manuscript with the close supervision of the corresponding author, while the other authors provided critical feedback during revisions. In addition to providing input for the model, all authors provided input for the computational framework, as well as analyzing the data. Conflict of Interests The authors have no conflicts of interest to declare. References Arcgis.com. A quick tour of map layersâ\\x80\\x94Help | ArcGIS for Desktop. (2016). https://desktop.arcgis.com/en/arcmap/10.3/map/working-with-layers/a-quick-tour-of- map-layers.htm Ahmad, H., Hamzah, P., Yasin, Z. M., & Shariff, S. S. R. (2014, January). Location routing inventory problem with transshipment (LRIP-T). In Proceedings of the 2014 International Conference on Industrial Engineering and Operations Management (pp. 1595-1605). Behrendt, W. C. (1940). Off-street parking: A city planning problem. J. Land & Pub. Util. Econ., 16, 464. Giannopoulous, M., Vavatsikos, A. P., Lykostratis, K., & Roukouni, A. (2017). Using GIS to analyse parking attributes in urban areas. Plurimondi, (17). Glaab, J. (2017). Extracting Parking Areas from Remote Sensing Imagery and Spatiotemporal Traffic Data. DigitalCommons@URI. Available at: https://digitalcommons.uri.edu/theses/1056/ Huang, Y. H., & Hsieh, C. H. (2022). A decision support system for available parking slots on the roadsides in urban areas. Expert Systems with Applications, 205, 117668. Khairuzzaman, M. G., Othman, S., Adnan, R., & Ismail, N. (2020). Analyzing user behaviour and page views based on visitor traffic in kolej universiti poly-tech mara website using google analytic. Malaysian Journal of Computing (MJoC), 5(1), 446-455. Taufiq et. al., Malaysian Journal of Computing, 8 (2): 1639-1651, 2023 1651 Lim, A. (2022, June 13). More cars than people in Malaysia at present? Not likely, as 33 mil figure is total registrations since 1946. Paul 'Tanâ\\x80\\x99s Automotive News. https://paultan.org/2022/06/13/more-cars-than-people-in-malaysia-at-present-not- likely-as-33-mil-figure-is-total-registrations-since-1946/ Moura, F., & de Silva, J.D. A. (2019). Smart cities: Definitions, evolution of the concept and examples of initiatives. Industry, innovation and infrastructure. Encyclopedia of the UN Sustainable Development. Cham: Springer. Obaidat, M. T. (2008). GIS potential in parking Lots studies. ICCBT-E-(16), 193, 202. Parmar, J., Das, P., & Dave, S. M. (2020). Study on demand and characteristics of parking system in urban areas: A review. Journal of Traffic and Transportation Engineering (English Edition), 7(1), 111-124. Rashindra, A. D., Zulkarnaen, G. S., Pahala, Y., & Saidah, D. (2023). Application and design of production room layout with 5S-ARC method to reduce waste (case study on rubber industry production). Malaysian Journal of Computing (MJoC), 8(1), 1414-1426. Riggs, W. (2014). Dealing with parking issues on an urban campus: The case of UC Berkeley. Case Studies on Transport Policy, 2(3), 168-176. Rye, T., & Koglin, T. (2014). Parking management. In Parking issues and policies. Emerald Group Publishing Limited. Tuan Hassan, T. M. H., & Masrom, M. (2022). Determining optimal transportation allocation using linear programming methods. Malaysian Journal of Computing (MJoC), 7(2), 1082-1099. Watene, G., Musiega, D., & Ndegwa, C. (2013). A GIS Based Parking Management and Dissemination System. International Journal of Science and Research, 2, 2319â\\x80\\x937064. Yaâ\\x80\\x99acob, N., Azize, A. M., & Alam, N. M. R. N. Z. (2016). Parking system using Geographic Information System (GIS). 2016 IEEE Conference on Systems, Process and Control (ICSPC).<|end_of_text|><|begin_of_text|>url: https://mjoc.uitm.edu.my/main/images/journal/vol8-2-2023/14_THE_GRAPHICAL_USER_INTERFACE_FOR_BOUNDED_ADDITION_FUZZY_SPLICING.pdf title: authors: text: Malaysian Journal of Computing, 8 (2): 1652-1663, 2023 Copyright Â© UiTM Press eISSN: 2600-8238 This is an open access article under the CC BY-SA license (https://creativecommons.org/licenses/by-sa/3.0/). 1652 GRAPHICAL USER INTERFACE FOR BOUNDED-ADDITION FUZZY SPLICING SYSTEMS AND THEIR VARIANTS Mathuri Selvarajoo1*, Mohd Pawiro Santono2, Fong Wan Heng3, and Nor Haniza Sarmin4 1*,2College of Computing, Informatics and Mathematics, Universiti Teknologi MARA, 40450 Shah Alam, Selangor, Malaysia 3,4Department of Mathematical Sciences, Faculty of Science, Universiti Teknologi Malaysia, UTM, 81310 Johor Bahru, Johor, Malaysia 1*mathuri@tmsk.uitm.edu.my, 2pawirosantono98@gmail.com, 3fwh@utm.my and 4nhs@utm.my. ABSTRACT A splicing system is one of the early theoretical proposals of the DNA-based computation device. The splicing operation starts when two DNA molecules are cut at specific subsequences with the presence of restriction enzymes: the first part is then connected to the second part of the other molecule, or vice versa, to produce splicing languages. Fuzzy with bounded-addition operation has been introduced as a restriction in splicing systems to increase the generative power of the languages generated. In this research, a graphical user interface is developed to generate all the splicing languages generated by bounded-addition fuzzy splicing systems and their variants. An algorithm is developed using JAVA and Visual Studio Code software in order to replace the time-consuming manual computation of the languages generated by bounded-addition fuzzy DNA splicing systems and their variants. Keywords: Graphical User Interface, Fuzzy Bounded-Addition, Splicing Systems, Formal Language Theory. Received for review: 16-01-2023; Accepted: 02-10-2023; Published: 10-10-2023 DOI: 10.24191/mjoc.v8i2.20270 1. Introduction Each living entity has its own deoxyribonucleic acid (DNA). Watson and Crick (Yusof et al., 2011) proposed the double-helical structure of DNA for the first time in 1953. Nucleotides, which are monomers, are used to make DNA molecules. The structure of nucleotides is fairly simple, consisting of only three components: sugar, phosphate, and base (Amos et al., 2002). The sequence of their bases, Adenine, Guanine, Cytosine, and Thymine, abbreviated as A, G, C, and T, respectively, distinguished these DNA structures. Hydrogen bonds connect these bases utilizing base-complementary rules, in which A pairs with T, G pairs with C, and vice versa. These pairing rules can be expressed as a, g, c, and t (Yusof et al., 2011). Head (PÇ\\x8eun, 1996) in 1987 introduced splicing systems as a mathematical model of the recombinant behaviour of double-stranded DNA (dsDNA) and the enzymes that cut and paste dsDNA. Restriction enzymes, which can be found naturally in bacteria, can cut DNA Selvarajoo et. al., Malaysian Journal of Computing, 8 (2): 1652-1663, 2023 1653 fragments at certain sequences known as restriction sites, whereas ligases can re-join DNA fragments with complementary ends (Amos et al., 2002). The mathematical model introduced by Head is made up of a finite alphabet V, a finite set of initial strings over the alphabet A, and a finite number of rules R that act on the strings through iterative cutting and pasting that generate new strings (Yusof et al., 2011). This splicing mechanism generates a language called a splicing language. All splicing languageswith finite sets of axioms and rules have been proven to be regular which has the lowest generative power in Chomskyâ\\x80\\x99s Hierarchy (Kari & Kopecki, 2017). Several restrictions are imposed on splicing systems in order to increase the generative power of the languages generated by splicing systems (Hamzah et al., 2014). Restrictions on the use of rules, such as probability, group, weights and fuzzy have been introduced (Hamzah et al., 2014; Karimi et al., 2014; Nguyen et al., 2013; Santono et al. 2021; Turaev et al., 2012). Fuzzy is important in solving decision decision-making problems (Ahmad et al., 2020). These restrictions have one thing in common: they increase the languageâ\\x80\\x99s generative power up to context-sensitive languages. Restricted splicing systems can be considered as theoretical models for universally programmable DNA-based computers, which is significant in terms of DNA computing. However, obtaining languages with generative power equivalent to the Turing machine is still unsuccessful. In (Santono et al. 2022), he introduced the concept of bounded-addition fuzzy splicing systems; for each axiom, the truth values are associated with the string in a closed interval [0, 1], and the truth value of a string z is obtained by applying a bounded-addition fuzzy operation to the truth values of strings x and y (Santono et al. 2023). A threshold language is defined as a subset of the language generated based on some cut-points in [0, 1]. The purpose of this study is to develop a graphical user interface to generate all the splicing languages generated by bounded-addition fuzzy splicing systems and their variants. An algorithm is developed using JAVA language and an integrated development environment for JAVA using Visual Studio Code software to replace the time-consuming manual computation of the languages generated by bounded-addition fuzzy splicing systems and their variants. The following shows the breakdown of the paperâ\\x80\\x99s structure. Section 2 provides various key definitions and notations from formal language, splicing systems, and bounded- addition fuzzy splicing systems. Section 3 presents the algorithm for the graphical user interface. Section 4 provides the result and Section 5 concludes the research with a discussion on the overall findings. 2. Preliminaries In this section, some prerequisites were covered by outlining the basic concepts and notations of the formal language and the splicing system theories that will be used later. More details can be referred to (Hopcroft et al., 2000; Rozenberg & Salomaa, 1997; Sarmin et al., 2010). The following general notations are used throughout the paper. The term ï\\x83\\x8e denotes an elementâ\\x80\\x99s membership in a set, whereas ï\\x83\\x8f denotes the absence of set membership. The strictness of the inclusion is specified by ï\\x83\\x8c, while ï\\x83\\x8d stands for inclusion. The symbol ï\\x83\\x86 represents an empty set, while |X| represents the cardinality of a set X. The families of recursively enumerable, context-sensitive, context-free, linear, regular and finite languages were denoted by RE, CS, CF, LIN, REG and FIN respectively. For these language families, the next strict inclusions, named\""
      ]
     },
     "execution_count": 15,
     "metadata": {},
     "output_type": "execute_result"
    }
   ],
   "source": [
    "tokenizer.decode(dataset[-1]['input_ids'])"
   ]
  },
  {
   "cell_type": "code",
   "execution_count": 16,
   "id": "281a5769",
   "metadata": {},
   "outputs": [
    {
     "data": {
      "text/plain": [
       "8192"
      ]
     },
     "execution_count": 16,
     "metadata": {},
     "output_type": "execute_result"
    }
   ],
   "source": [
    "len(dataset[-1]['input_ids'])"
   ]
  }
 ],
 "metadata": {
  "kernelspec": {
   "display_name": "Python 3 (ipykernel)",
   "language": "python",
   "name": "python3"
  },
  "language_info": {
   "codemirror_mode": {
    "name": "ipython",
    "version": 3
   },
   "file_extension": ".py",
   "mimetype": "text/x-python",
   "name": "python",
   "nbconvert_exporter": "python",
   "pygments_lexer": "ipython3",
   "version": "3.10.12"
  }
 },
 "nbformat": 4,
 "nbformat_minor": 5
}
