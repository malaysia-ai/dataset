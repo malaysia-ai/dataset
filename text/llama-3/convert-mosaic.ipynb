{
 "cells": [
  {
   "cell_type": "code",
   "execution_count": 1,
   "id": "bd2dd899",
   "metadata": {},
   "outputs": [],
   "source": [
    "# !wget https://gist.githubusercontent.com/huseinzol05/98974ae8c6c7a65d4bc0af9f5003786a/raw/5aa5257608b61e8fcc828e99fbd070d5ca7358e3/mp.py\n",
    "\n",
    "from glob import glob\n",
    "from tqdm import tqdm\n",
    "import msgspec\n",
    "import mp\n",
    "import os\n",
    "import numpy as np\n",
    "from streaming import MDSWriter\n",
    "from transformers import AutoTokenizer"
   ]
  },
  {
   "cell_type": "code",
   "execution_count": 2,
   "id": "784a0e34",
   "metadata": {},
   "outputs": [],
   "source": [
    "train_file = 'combine-lm.jsonl'"
   ]
  },
  {
   "cell_type": "code",
   "execution_count": 3,
   "id": "033967d5",
   "metadata": {},
   "outputs": [],
   "source": [
    "split_by = 500000"
   ]
  },
  {
   "cell_type": "code",
   "execution_count": 4,
   "id": "38dc27e8",
   "metadata": {},
   "outputs": [],
   "source": [
    "!rm -rf partitions\n",
    "!mkdir partitions"
   ]
  },
  {
   "cell_type": "code",
   "execution_count": 5,
   "id": "415c87ba",
   "metadata": {},
   "outputs": [
    {
     "name": "stderr",
     "output_type": "stream",
     "text": [
      "24067009it [01:59, 201443.48it/s]\n"
     ]
    }
   ],
   "source": [
    "index = 0\n",
    "count = 0\n",
    "a = open(f'partitions/combined-lm-{index}.jsonl', 'w')\n",
    "\n",
    "with open('combine-lm.jsonl') as fopen:\n",
    "    for l in tqdm(fopen):\n",
    "        a.write(l)\n",
    "        a.flush()\n",
    "        count += 1\n",
    "        if count >= split_by:\n",
    "            a.close()\n",
    "            index += 1\n",
    "            count = 0\n",
    "            a = open(f'partitions/combined-lm-{index}.jsonl', 'w')\n",
    "            \n",
    "a.close()"
   ]
  },
  {
   "cell_type": "code",
   "execution_count": 7,
   "id": "8aad7b8f",
   "metadata": {},
   "outputs": [
    {
     "name": "stdout",
     "output_type": "stream",
     "text": [
      "combined-lm-0.jsonl   combined-lm-24.jsonl  combined-lm-4.jsonl\r\n",
      "combined-lm-1.jsonl   combined-lm-25.jsonl  combined-lm-40.jsonl\r\n",
      "combined-lm-10.jsonl  combined-lm-26.jsonl  combined-lm-41.jsonl\r\n",
      "combined-lm-11.jsonl  combined-lm-27.jsonl  combined-lm-42.jsonl\r\n",
      "combined-lm-12.jsonl  combined-lm-28.jsonl  combined-lm-43.jsonl\r\n",
      "combined-lm-13.jsonl  combined-lm-29.jsonl  combined-lm-44.jsonl\r\n",
      "combined-lm-14.jsonl  combined-lm-3.jsonl   combined-lm-45.jsonl\r\n",
      "combined-lm-15.jsonl  combined-lm-30.jsonl  combined-lm-46.jsonl\r\n",
      "combined-lm-16.jsonl  combined-lm-31.jsonl  combined-lm-47.jsonl\r\n",
      "combined-lm-17.jsonl  combined-lm-32.jsonl  combined-lm-48.jsonl\r\n",
      "combined-lm-18.jsonl  combined-lm-33.jsonl  combined-lm-5.jsonl\r\n",
      "combined-lm-19.jsonl  combined-lm-34.jsonl  combined-lm-6.jsonl\r\n",
      "combined-lm-2.jsonl   combined-lm-35.jsonl  combined-lm-7.jsonl\r\n",
      "combined-lm-20.jsonl  combined-lm-36.jsonl  combined-lm-8.jsonl\r\n",
      "combined-lm-21.jsonl  combined-lm-37.jsonl  combined-lm-9.jsonl\r\n",
      "combined-lm-22.jsonl  combined-lm-38.jsonl\r\n",
      "combined-lm-23.jsonl  combined-lm-39.jsonl\r\n"
     ]
    }
   ],
   "source": [
    "!ls partitions"
   ]
  },
  {
   "cell_type": "code",
   "execution_count": 8,
   "id": "52bbe383",
   "metadata": {},
   "outputs": [],
   "source": [
    "block_size = 8192\n",
    "def read_dataset(train_file, block_size = block_size):\n",
    "    \n",
    "    tokenizer = AutoTokenizer.from_pretrained(\n",
    "        'meta-llama/Meta-Llama-3-8B',\n",
    "    )\n",
    "    tokenizer.add_bos_token = False\n",
    "    tokenizer.add_eos_token = False\n",
    "    text_column_name = 'text'\n",
    "    temp = []\n",
    "    with open(train_file) as fopen:\n",
    "        for l in fopen:\n",
    "            l = msgspec.json.decode(l)\n",
    "            tokenized = tokenizer(l['text'])['input_ids']\n",
    "            temp.extend(tokenized)\n",
    "            while len(temp) >= block_size:\n",
    "                block = temp[:block_size]\n",
    "                temp = temp[block_size:]\n",
    "                if len(block) == block_size:\n",
    "                    yield np.array(block).astype(np.uint32)"
   ]
  },
  {
   "cell_type": "code",
   "execution_count": 9,
   "id": "cf86d558",
   "metadata": {},
   "outputs": [
    {
     "data": {
      "text/plain": [
       "['partitions/combined-lm-0.jsonl',\n",
       " 'partitions/combined-lm-1.jsonl',\n",
       " 'partitions/combined-lm-2.jsonl',\n",
       " 'partitions/combined-lm-3.jsonl',\n",
       " 'partitions/combined-lm-4.jsonl',\n",
       " 'partitions/combined-lm-5.jsonl',\n",
       " 'partitions/combined-lm-6.jsonl',\n",
       " 'partitions/combined-lm-7.jsonl',\n",
       " 'partitions/combined-lm-8.jsonl',\n",
       " 'partitions/combined-lm-9.jsonl',\n",
       " 'partitions/combined-lm-10.jsonl',\n",
       " 'partitions/combined-lm-11.jsonl',\n",
       " 'partitions/combined-lm-12.jsonl',\n",
       " 'partitions/combined-lm-13.jsonl',\n",
       " 'partitions/combined-lm-14.jsonl',\n",
       " 'partitions/combined-lm-15.jsonl',\n",
       " 'partitions/combined-lm-16.jsonl',\n",
       " 'partitions/combined-lm-17.jsonl',\n",
       " 'partitions/combined-lm-18.jsonl',\n",
       " 'partitions/combined-lm-19.jsonl',\n",
       " 'partitions/combined-lm-20.jsonl',\n",
       " 'partitions/combined-lm-21.jsonl',\n",
       " 'partitions/combined-lm-22.jsonl',\n",
       " 'partitions/combined-lm-23.jsonl',\n",
       " 'partitions/combined-lm-24.jsonl',\n",
       " 'partitions/combined-lm-25.jsonl',\n",
       " 'partitions/combined-lm-26.jsonl',\n",
       " 'partitions/combined-lm-27.jsonl',\n",
       " 'partitions/combined-lm-28.jsonl',\n",
       " 'partitions/combined-lm-29.jsonl',\n",
       " 'partitions/combined-lm-30.jsonl',\n",
       " 'partitions/combined-lm-31.jsonl',\n",
       " 'partitions/combined-lm-32.jsonl',\n",
       " 'partitions/combined-lm-33.jsonl',\n",
       " 'partitions/combined-lm-34.jsonl',\n",
       " 'partitions/combined-lm-35.jsonl',\n",
       " 'partitions/combined-lm-36.jsonl',\n",
       " 'partitions/combined-lm-37.jsonl',\n",
       " 'partitions/combined-lm-38.jsonl',\n",
       " 'partitions/combined-lm-39.jsonl',\n",
       " 'partitions/combined-lm-40.jsonl',\n",
       " 'partitions/combined-lm-41.jsonl',\n",
       " 'partitions/combined-lm-42.jsonl',\n",
       " 'partitions/combined-lm-43.jsonl',\n",
       " 'partitions/combined-lm-44.jsonl',\n",
       " 'partitions/combined-lm-45.jsonl',\n",
       " 'partitions/combined-lm-46.jsonl',\n",
       " 'partitions/combined-lm-47.jsonl',\n",
       " 'partitions/combined-lm-48.jsonl']"
      ]
     },
     "execution_count": 9,
     "metadata": {},
     "output_type": "execute_result"
    }
   ],
   "source": [
    "files = sorted(glob('partitions/combined-lm-*.jsonl'), key = lambda x: int(x.split('-')[-1].replace('.jsonl', '')))\n",
    "files"
   ]
  },
  {
   "cell_type": "code",
   "execution_count": 10,
   "id": "0021329a",
   "metadata": {},
   "outputs": [
    {
     "name": "stderr",
     "output_type": "stream",
     "text": [
      "Special tokens have been added in the vocabulary, make sure the associated word embeddings are fine-tuned or trained.\n"
     ]
    },
    {
     "data": {
      "text/plain": [
       "array([128000, 100022,  15790, ...,     64,    908,   9379], dtype=uint32)"
      ]
     },
     "execution_count": 10,
     "metadata": {},
     "output_type": "execute_result"
    }
   ],
   "source": [
    "next(read_dataset(files[0]))"
   ]
  },
  {
   "cell_type": "code",
   "execution_count": 11,
   "id": "c04e92d7",
   "metadata": {},
   "outputs": [],
   "source": [
    "from streaming.base.format.mds.encodings import Encoding, _encodings\n",
    "\n",
    "class UInt32(Encoding):\n",
    "    def encode(self, obj) -> bytes:\n",
    "        return obj.tobytes()\n",
    "\n",
    "    def decode(self, data: bytes):\n",
    "        return np.frombuffer(data, np.uint32)\n",
    "\n",
    "_encodings['uint32'] = UInt32"
   ]
  },
  {
   "cell_type": "code",
   "execution_count": 12,
   "id": "3aebad7f",
   "metadata": {},
   "outputs": [],
   "source": [
    "columns = {\n",
    "    'input_ids': 'uint32',\n",
    "}\n",
    "compression = 'zstd'\n",
    "hashes = 'sha1', 'xxh64'"
   ]
  },
  {
   "cell_type": "code",
   "execution_count": 13,
   "id": "650e2a0a",
   "metadata": {},
   "outputs": [
    {
     "name": "stderr",
     "output_type": "stream",
     "text": [
      "huggingface/tokenizers: The current process just got forked, after parallelism has already been used. Disabling parallelism to avoid deadlocks...\n",
      "To disable this warning, you can either:\n",
      "\t- Avoid using `tokenizers` before the fork if possible\n",
      "\t- Explicitly set the environment variable TOKENIZERS_PARALLELISM=(true | false)\n",
      "huggingface/tokenizers: The current process just got forked, after parallelism has already been used. Disabling parallelism to avoid deadlocks...\n",
      "To disable this warning, you can either:\n",
      "\t- Avoid using `tokenizers` before the fork if possible\n",
      "\t- Explicitly set the environment variable TOKENIZERS_PARALLELISM=(true | false)\n"
     ]
    }
   ],
   "source": [
    "!rm -rf tokenized_indexes\n",
    "!mkdir tokenized_indexes"
   ]
  },
  {
   "cell_type": "code",
   "execution_count": 14,
   "id": "5b372ab6",
   "metadata": {},
   "outputs": [],
   "source": [
    "def loop(files):\n",
    "    files, index = files\n",
    "    out_root = f'tokenized_indexes/tokenized-{index}'\n",
    "    os.system(f'rm -rf {out_root}')\n",
    "    with MDSWriter(out=out_root, columns=columns, compression=None, hashes=hashes) as out:\n",
    "        for f in files:\n",
    "            for block in tqdm(read_dataset(train_file = f)):\n",
    "                sample = {\n",
    "                    'input_ids': block\n",
    "                }\n",
    "                out.write(sample)"
   ]
  },
  {
   "cell_type": "code",
   "execution_count": 15,
   "id": "61f97a50",
   "metadata": {},
   "outputs": [
    {
     "name": "stderr",
     "output_type": "stream",
     "text": [
      "huggingface/tokenizers: The current process just got forked, after parallelism has already been used. Disabling parallelism to avoid deadlocks...\n",
      "To disable this warning, you can either:\n",
      "\t- Avoid using `tokenizers` before the fork if possible\n",
      "\t- Explicitly set the environment variable TOKENIZERS_PARALLELISM=(true | false)\n",
      "huggingface/tokenizers: The current process just got forked, after parallelism has already been used. Disabling parallelism to avoid deadlocks...\n",
      "To disable this warning, you can either:\n",
      "\t- Avoid using `tokenizers` before the fork if possible\n",
      "\t- Explicitly set the environment variable TOKENIZERS_PARALLELISM=(true | false)\n",
      "huggingface/tokenizers: The current process just got forked, after parallelism has already been used. Disabling parallelism to avoid deadlocks...\n",
      "To disable this warning, you can either:\n",
      "\t- Avoid using `tokenizers` before the fork if possible\n",
      "\t- Explicitly set the environment variable TOKENIZERS_PARALLELISM=(true | false)\n",
      "huggingface/tokenizers: The current process just got forked, after parallelism has already been used. Disabling parallelism to avoid deadlocks...\n",
      "To disable this warning, you can either:\n",
      "\t- Avoid using `tokenizers` before the fork if possible\n",
      "\t- Explicitly set the environment variable TOKENIZERS_PARALLELISM=(true | false)\n",
      "huggingface/tokenizers: The current process just got forked, after parallelism has already been used. Disabling parallelism to avoid deadlocks...\n",
      "To disable this warning, you can either:\n",
      "\t- Avoid using `tokenizers` before the fork if possible\n",
      "\t- Explicitly set the environment variable TOKENIZERS_PARALLELISM=(true | false)\n",
      "huggingface/tokenizers: The current process just got forked, after parallelism has already been used. Disabling parallelism to avoid deadlocks...\n",
      "To disable this warning, you can either:\n",
      "\t- Avoid using `tokenizers` before the fork if possible\n",
      "\t- Explicitly set the environment variable TOKENIZERS_PARALLELISM=(true | false)\n",
      "huggingface/tokenizers: The current process just got forked, after parallelism has already been used. Disabling parallelism to avoid deadlocks...\n",
      "To disable this warning, you can either:\n",
      "\t- Avoid using `tokenizers` before the fork if possible\n",
      "\t- Explicitly set the environment variable TOKENIZERS_PARALLELISM=(true | false)\n",
      "huggingface/tokenizers: The current process just got forked, after parallelism has already been used. Disabling parallelism to avoid deadlocks...\n",
      "To disable this warning, you can either:\n",
      "\t- Avoid using `tokenizers` before the fork if possible\n",
      "\t- Explicitly set the environment variable TOKENIZERS_PARALLELISM=(true | false)\n",
      "huggingface/tokenizers: The current process just got forked, after parallelism has already been used. Disabling parallelism to avoid deadlocks...\n",
      "To disable this warning, you can either:\n",
      "\t- Avoid using `tokenizers` before the fork if possible\n",
      "\t- Explicitly set the environment variable TOKENIZERS_PARALLELISM=(true | false)\n",
      "huggingface/tokenizers: The current process just got forked, after parallelism has already been used. Disabling parallelism to avoid deadlocks...\n",
      "To disable this warning, you can either:\n",
      "\t- Avoid using `tokenizers` before the fork if possible\n",
      "\t- Explicitly set the environment variable TOKENIZERS_PARALLELISM=(true | false)\n",
      "huggingface/tokenizers: The current process just got forked, after parallelism has already been used. Disabling parallelism to avoid deadlocks...\n",
      "To disable this warning, you can either:\n",
      "\t- Avoid using `tokenizers` before the fork if possible\n",
      "\t- Explicitly set the environment variable TOKENIZERS_PARALLELISM=(true | false)\n",
      "huggingface/tokenizers: The current process just got forked, after parallelism has already been used. Disabling parallelism to avoid deadlocks...\n",
      "To disable this warning, you can either:\n",
      "\t- Avoid using `tokenizers` before the fork if possible\n",
      "\t- Explicitly set the environment variable TOKENIZERS_PARALLELISM=(true | false)\n",
      "huggingface/tokenizers: The current process just got forked, after parallelism has already been used. Disabling parallelism to avoid deadlocks...\n",
      "To disable this warning, you can either:\n",
      "\t- Avoid using `tokenizers` before the fork if possible\n",
      "\t- Explicitly set the environment variable TOKENIZERS_PARALLELISM=(true | false)\n",
      "huggingface/tokenizers: The current process just got forked, after parallelism has already been used. Disabling parallelism to avoid deadlocks...\n",
      "To disable this warning, you can either:\n",
      "\t- Avoid using `tokenizers` before the fork if possible\n",
      "\t- Explicitly set the environment variable TOKENIZERS_PARALLELISM=(true | false)\n",
      "huggingface/tokenizers: The current process just got forked, after parallelism has already been used. Disabling parallelism to avoid deadlocks...\n",
      "To disable this warning, you can either:\n",
      "\t- Avoid using `tokenizers` before the fork if possible\n",
      "\t- Explicitly set the environment variable TOKENIZERS_PARALLELISM=(true | false)\n",
      "huggingface/tokenizers: The current process just got forked, after parallelism has already been used. Disabling parallelism to avoid deadlocks...\n",
      "To disable this warning, you can either:\n",
      "\t- Avoid using `tokenizers` before the fork if possible\n",
      "\t- Explicitly set the environment variable TOKENIZERS_PARALLELISM=(true | false)\n",
      "huggingface/tokenizers: The current process just got forked, after parallelism has already been used. Disabling parallelism to avoid deadlocks...\n",
      "To disable this warning, you can either:\n",
      "\t- Avoid using `tokenizers` before the fork if possible\n",
      "\t- Explicitly set the environment variable TOKENIZERS_PARALLELISM=(true | false)\n",
      "huggingface/tokenizers: The current process just got forked, after parallelism has already been used. Disabling parallelism to avoid deadlocks...\n",
      "To disable this warning, you can either:\n",
      "\t- Avoid using `tokenizers` before the fork if possible\n",
      "\t- Explicitly set the environment variable TOKENIZERS_PARALLELISM=(true | false)\n",
      "huggingface/tokenizers: The current process just got forked, after parallelism has already been used. Disabling parallelism to avoid deadlocks...\n",
      "To disable this warning, you can either:\n",
      "\t- Avoid using `tokenizers` before the fork if possible\n",
      "\t- Explicitly set the environment variable TOKENIZERS_PARALLELISM=(true | false)\n",
      "huggingface/tokenizers: The current process just got forked, after parallelism has already been used. Disabling parallelism to avoid deadlocks...\n",
      "To disable this warning, you can either:\n",
      "\t- Avoid using `tokenizers` before the fork if possible\n",
      "\t- Explicitly set the environment variable TOKENIZERS_PARALLELISM=(true | false)\n",
      "huggingface/tokenizers: The current process just got forked, after parallelism has already been used. Disabling parallelism to avoid deadlocks...\n",
      "To disable this warning, you can either:\n",
      "\t- Avoid using `tokenizers` before the fork if possible\n",
      "\t- Explicitly set the environment variable TOKENIZERS_PARALLELISM=(true | false)\n",
      "huggingface/tokenizers: The current process just got forked, after parallelism has already been used. Disabling parallelism to avoid deadlocks...\n",
      "To disable this warning, you can either:\n",
      "\t- Avoid using `tokenizers` before the fork if possible\n",
      "\t- Explicitly set the environment variable TOKENIZERS_PARALLELISM=(true | false)\n",
      "huggingface/tokenizers: The current process just got forked, after parallelism has already been used. Disabling parallelism to avoid deadlocks...\n",
      "To disable this warning, you can either:\n",
      "\t- Avoid using `tokenizers` before the fork if possible\n",
      "\t- Explicitly set the environment variable TOKENIZERS_PARALLELISM=(true | false)\n",
      "huggingface/tokenizers: The current process just got forked, after parallelism has already been used. Disabling parallelism to avoid deadlocks...\n",
      "To disable this warning, you can either:\n",
      "\t- Avoid using `tokenizers` before the fork if possible\n",
      "\t- Explicitly set the environment variable TOKENIZERS_PARALLELISM=(true | false)\n",
      "huggingface/tokenizers: The current process just got forked, after parallelism has already been used. Disabling parallelism to avoid deadlocks...\n",
      "To disable this warning, you can either:\n",
      "\t- Avoid using `tokenizers` before the fork if possible\n",
      "\t- Explicitly set the environment variable TOKENIZERS_PARALLELISM=(true | false)\n",
      "huggingface/tokenizers: The current process just got forked, after parallelism has already been used. Disabling parallelism to avoid deadlocks...\n",
      "To disable this warning, you can either:\n",
      "\t- Avoid using `tokenizers` before the fork if possible\n",
      "\t- Explicitly set the environment variable TOKENIZERS_PARALLELISM=(true | false)\n",
      "huggingface/tokenizers: The current process just got forked, after parallelism has already been used. Disabling parallelism to avoid deadlocks...\n",
      "To disable this warning, you can either:\n",
      "\t- Avoid using `tokenizers` before the fork if possible\n",
      "\t- Explicitly set the environment variable TOKENIZERS_PARALLELISM=(true | false)\n",
      "huggingface/tokenizers: The current process just got forked, after parallelism has already been used. Disabling parallelism to avoid deadlocks...\n",
      "To disable this warning, you can either:\n",
      "\t- Avoid using `tokenizers` before the fork if possible\n",
      "\t- Explicitly set the environment variable TOKENIZERS_PARALLELISM=(true | false)\n",
      "huggingface/tokenizers: The current process just got forked, after parallelism has already been used. Disabling parallelism to avoid deadlocks...\n",
      "To disable this warning, you can either:\n",
      "\t- Avoid using `tokenizers` before the fork if possible\n",
      "\t- Explicitly set the environment variable TOKENIZERS_PARALLELISM=(true | false)\n",
      "0it [00:00, ?it/s]huggingface/tokenizers: The current process just got forked, after parallelism has already been used. Disabling parallelism to avoid deadlocks...\n",
      "To disable this warning, you can either:\n",
      "\t- Avoid using `tokenizers` before the fork if possible\n",
      "\t- Explicitly set the environment variable TOKENIZERS_PARALLELISM=(true | false)\n",
      "0it [00:00, ?it/s]Special tokens have been added in the vocabulary, make sure the associated word embeddings are fine-tuned or trained.\n",
      "Special tokens have been added in the vocabulary, make sure the associated word embeddings are fine-tuned or trained.\n",
      "Special tokens have been added in the vocabulary, make sure the associated word embeddings are fine-tuned or trained.\n",
      "Special tokens have been added in the vocabulary, make sure the associated word embeddings are fine-tuned or trained.\n",
      "1it [00:00,  2.08it/s]Special tokens have been added in the vocabulary, make sure the associated word embeddings are fine-tuned or trained.\n",
      "Special tokens have been added in the vocabulary, make sure the associated word embeddings are fine-tuned or trained.\n",
      "Special tokens have been added in the vocabulary, make sure the associated word embeddings are fine-tuned or trained.\n",
      "Special tokens have been added in the vocabulary, make sure the associated word embeddings are fine-tuned or trained.\n",
      "Special tokens have been added in the vocabulary, make sure the associated word embeddings are fine-tuned or trained.\n",
      "Special tokens have been added in the vocabulary, make sure the associated word embeddings are fine-tuned or trained.\n",
      "1it [00:00,  2.09it/s]Special tokens have been added in the vocabulary, make sure the associated word embeddings are fine-tuned or trained.\n",
      "Special tokens have been added in the vocabulary, make sure the associated word embeddings are fine-tuned or trained.\n",
      "1it [00:00,  2.07it/s]Special tokens have been added in the vocabulary, make sure the associated word embeddings are fine-tuned or trained.\n",
      "1it [00:00,  1.98it/s]Special tokens have been added in the vocabulary, make sure the associated word embeddings are fine-tuned or trained.\n",
      "1it [00:00,  1.82it/s]Special tokens have been added in the vocabulary, make sure the associated word embeddings are fine-tuned or trained.\n",
      "1it [00:00,  1.91it/s]Special tokens have been added in the vocabulary, make sure the associated word embeddings are fine-tuned or trained.\n",
      "Special tokens have been added in the vocabulary, make sure the associated word embeddings are fine-tuned or trained.\n",
      "1it [00:00,  1.98it/s]Special tokens have been added in the vocabulary, make sure the associated word embeddings are fine-tuned or trained.\n",
      "1it [00:00,  2.00it/s]Special tokens have been added in the vocabulary, make sure the associated word embeddings are fine-tuned or trained.\n",
      "7it [00:00, 14.65it/s]Special tokens have been added in the vocabulary, make sure the associated word embeddings are fine-tuned or trained.\n",
      "Special tokens have been added in the vocabulary, make sure the associated word embeddings are fine-tuned or trained.\n",
      "6it [00:00, 12.54it/s]]Special tokens have been added in the vocabulary, make sure the associated word embeddings are fine-tuned or trained.\n",
      "4it [00:00,  8.14it/s]Special tokens have been added in the vocabulary, make sure the associated word embeddings are fine-tuned or trained.\n",
      "3it [00:00,  5.91it/s]Special tokens have been added in the vocabulary, make sure the associated word embeddings are fine-tuned or trained.\n",
      "1it [00:00,  1.76it/s]Special tokens have been added in the vocabulary, make sure the associated word embeddings are fine-tuned or trained.\n",
      "3it [00:00,  5.83it/s]Special tokens have been added in the vocabulary, make sure the associated word embeddings are fine-tuned or trained.\n",
      "9it [00:00, 17.82it/s]Special tokens have been added in the vocabulary, make sure the associated word embeddings are fine-tuned or trained.\n",
      "6it [00:00, 12.51it/s]]Special tokens have been added in the vocabulary, make sure the associated word embeddings are fine-tuned or trained.\n",
      "6it [00:00, 10.93it/s]]Special tokens have been added in the vocabulary, make sure the associated word embeddings are fine-tuned or trained.\n",
      "Special tokens have been added in the vocabulary, make sure the associated word embeddings are fine-tuned or trained.\n",
      "3666it [02:39, 22.97it/s]\n",
      "4799it [02:40, 36.27it/s]Special tokens have been added in the vocabulary, make sure the associated word embeddings are fine-tuned or trained.\n",
      "4460it [03:03, 24.27it/s]]\n",
      "5638it [03:04, 80.45it/s] Special tokens have been added in the vocabulary, make sure the associated word embeddings are fine-tuned or trained.\n",
      "5690it [03:45, 25.24it/s]\n",
      "4618it [03:45, 22.48it/s]Special tokens have been added in the vocabulary, make sure the associated word embeddings are fine-tuned or trained.\n",
      "4784it [03:53, 20.52it/s]\n",
      "4784it [03:53, 20.49it/s]\n",
      "167it [00:07, 24.93it/s]]Special tokens have been added in the vocabulary, make sure the associated word embeddings are fine-tuned or trained.\n",
      "6660it [03:54, 32.12it/s]Special tokens have been added in the vocabulary, make sure the associated word embeddings are fine-tuned or trained.\n",
      "4780it [03:54, 20.38it/s]\n",
      "8541it [03:54, 59.88it/s]Special tokens have been added in the vocabulary, make sure the associated word embeddings are fine-tuned or trained.\n",
      "4782it [03:55, 20.31it/s]\n",
      "6468it [03:55, 40.82it/s]Special tokens have been added in the vocabulary, make sure the associated word embeddings are fine-tuned or trained.\n",
      "4783it [03:55, 20.27it/s]\n",
      "4780it [03:56, 20.23it/s]\n",
      "8557it [03:56, 44.20it/s]Special tokens have been added in the vocabulary, make sure the associated word embeddings are fine-tuned or trained.\n",
      "4766it [03:56, 20.14it/s]\n",
      "4772it [03:56, 20.15it/s]Special tokens have been added in the vocabulary, make sure the associated word embeddings are fine-tuned or trained.\n",
      "\n",
      "7156it [03:57, 34.76it/s]Special tokens have been added in the vocabulary, make sure the associated word embeddings are fine-tuned or trained.\n",
      "8672it [03:57, 53.86it/s]Special tokens have been added in the vocabulary, make sure the associated word embeddings are fine-tuned or trained.\n",
      "4779it [04:00, 19.86it/s]\n",
      "1128it [00:57, 21.11it/s]Special tokens have been added in the vocabulary, make sure the associated word embeddings are fine-tuned or trained.\n",
      "1876it [01:57, 15.90it/s]]\n",
      "10178it [05:55, 11.63it/s]Special tokens have been added in the vocabulary, make sure the associated word embeddings are fine-tuned or trained.\n",
      "12557it [05:57, 35.13it/s]\n",
      "9917it [05:57, 49.18it/s]]Special tokens have been added in the vocabulary, make sure the associated word embeddings are fine-tuned or trained.\n",
      "7104it [05:58, 19.79it/s]]\n",
      "63it [00:02, 36.49it/s]s]]Special tokens have been added in the vocabulary, make sure the associated word embeddings are fine-tuned or trained.\n",
      "9108it [06:12, 24.43it/s]]\n",
      "10537it [06:13, 38.84it/s]Special tokens have been added in the vocabulary, make sure the associated word embeddings are fine-tuned or trained.\n",
      "4762it [03:52, 20.46it/s]]\n",
      "3728it [02:38, 17.60it/s]]Special tokens have been added in the vocabulary, make sure the associated word embeddings are fine-tuned or trained.\n",
      "11787it [06:52, 28.57it/s]\n",
      "6089it [02:59, 58.38it/s]]Special tokens have been added in the vocabulary, make sure the associated word embeddings are fine-tuned or trained.\n",
      "2901it [01:28, 31.84it/s]]IOPub message rate exceeded.\n",
      "The notebook server will temporarily stop sending output\n",
      "to the client in order to avoid crashing it.\n",
      "To change this limit, set the config variable\n",
      "`--NotebookApp.iopub_msg_rate_limit`.\n",
      "\n",
      "Current values:\n",
      "NotebookApp.iopub_msg_rate_limit=1000.0 (msgs/sec)\n",
      "NotebookApp.rate_limit_window=3.0 (secs)\n",
      "\n",
      "16880it [10:31, 26.73it/s]\n",
      "9476it [06:36, 32.94it/s]]Special tokens have been added in the vocabulary, make sure the associated word embeddings are fine-tuned or trained.\n",
      "18157it [10:46, 28.10it/s]\n",
      "10741it [07:22, 24.30it/s]\n",
      "21353it [12:18, 28.91it/s] \n",
      "21333it [12:31, 28.40it/s]\n",
      "18950it [12:33, 36.75it/s]IOPub message rate exceeded.\n",
      "The notebook server will temporarily stop sending output\n",
      "to the client in order to avoid crashing it.\n",
      "To change this limit, set the config variable\n",
      "`--NotebookApp.iopub_msg_rate_limit`.\n",
      "\n",
      "Current values:\n",
      "NotebookApp.iopub_msg_rate_limit=1000.0 (msgs/sec)\n",
      "NotebookApp.rate_limit_window=3.0 (secs)\n",
      "\n",
      "9700it [06:51, 23.60it/s]]\n",
      "3971it [02:23, 27.77it/s]]\n",
      "16909it [09:58, 28.24it/s]\n",
      "15992it [10:37, 25.09it/s] \n",
      "28017it [15:31, 30.07it/s] \n",
      "18620it [11:45, 26.40it/s] \n",
      "28925it [16:17, 29.59it/s] \n",
      "23930it [16:36, 24.02it/s]]\n",
      "20789it [10:56, 31.66it/s]]\n",
      "19459it [10:21, 31.31it/s] \n",
      "24618it [13:41, 66.27it/s] IOPub message rate exceeded.\n",
      "The notebook server will temporarily stop sending output\n",
      "to the client in order to avoid crashing it.\n",
      "To change this limit, set the config variable\n",
      "`--NotebookApp.iopub_msg_rate_limit`.\n",
      "\n",
      "Current values:\n",
      "NotebookApp.iopub_msg_rate_limit=1000.0 (msgs/sec)\n",
      "NotebookApp.rate_limit_window=3.0 (secs)\n",
      "\n",
      "27475it [16:28, 27.78it/s] \n",
      "41164it [17:37, 38.93it/s]]\n",
      "51283it [24:13, 35.27it/s] \n",
      "51691it [24:33, 35.08it/s]\n",
      "53601it [24:34, 36.36it/s]]\n",
      "51611it [25:09, 34.19it/s] \n",
      "91347it [28:16, 53.83it/s] \n"
     ]
    }
   ],
   "source": [
    "import mp\n",
    "mp.multiprocessing(files, loop, cores = min(len(files), 30), returned = False)"
   ]
  },
  {
   "cell_type": "code",
   "execution_count": 16,
   "id": "00146584",
   "metadata": {},
   "outputs": [
    {
     "name": "stdout",
     "output_type": "stream",
     "text": [
      "32G\ttokenized_indexes\r\n"
     ]
    },
    {
     "name": "stderr",
     "output_type": "stream",
     "text": [
      "huggingface/tokenizers: The current process just got forked, after parallelism has already been used. Disabling parallelism to avoid deadlocks...\n",
      "To disable this warning, you can either:\n",
      "\t- Avoid using `tokenizers` before the fork if possible\n",
      "\t- Explicitly set the environment variable TOKENIZERS_PARALLELISM=(true | false)\n"
     ]
    }
   ],
   "source": [
    "!du -hs tokenized_indexes"
   ]
  },
  {
   "cell_type": "code",
   "execution_count": 17,
   "id": "620796b7",
   "metadata": {},
   "outputs": [
    {
     "name": "stderr",
     "output_type": "stream",
     "text": [
      "Because `predownload` was not specified, it will default to 8*batch_size if batch_size is not None, otherwise 64. Prior to Streaming v0.7.0, `predownload` defaulted to max(batch_size, 256 * batch_size // num_canonical_nodes).\n"
     ]
    }
   ],
   "source": [
    "from streaming import StreamingDataset\n",
    "\n",
    "dataset = StreamingDataset(local = 'tokenized_indexes/tokenized-0')"
   ]
  },
  {
   "cell_type": "code",
   "execution_count": 21,
   "id": "43518c5c",
   "metadata": {},
   "outputs": [
    {
     "data": {
      "text/plain": [
       "11787"
      ]
     },
     "execution_count": 21,
     "metadata": {},
     "output_type": "execute_result"
    }
   ],
   "source": [
    "len(dataset)"
   ]
  },
  {
   "cell_type": "code",
   "execution_count": 22,
   "id": "293d8f88",
   "metadata": {},
   "outputs": [
    {
     "name": "stderr",
     "output_type": "stream",
     "text": [
      "Special tokens have been added in the vocabulary, make sure the associated word embeddings are fine-tuned or trained.\n"
     ]
    }
   ],
   "source": [
    "from transformers import AutoTokenizer\n",
    "\n",
    "tokenizer = AutoTokenizer.from_pretrained(\n",
    "    'meta-llama/Meta-Llama-3-8B',\n",
    ")"
   ]
  },
  {
   "cell_type": "code",
   "execution_count": 23,
   "id": "15ec6b4a",
   "metadata": {},
   "outputs": [
    {
     "data": {
      "text/plain": [
       "'<|begin_of_text|>Bahasa Melayu (Tulisan Jawi: بهاس ملايو; Rejang: ꤷꥁꤼ ꤸꥍꤾꤿꥈ) ialah salah satu daripada bahasa-bahasa Melayu-Polinesia di bawah keluarga bahasa Austronesia, yang merupakan bahasa rasmi di Brunei, Indonesia, Malaysia dan Singapura, serta dituturkan di Timor Leste dan sebahagian wilayah di Kemboja, Filipina dan Thailand. Jumlah penutur bahasa Melayu mencakupi lebih daripada 290 juta penutur (seramai 260 juta orang bertutur bahasa Indonesia) merentasi kawasan maritim Asia Tenggara. Sebagai salah satu daripada bahasa-bahasa yang paling luas digunakan di Asia Tenggara, bahasa Melayu mempunyai istilah perundangan yang berbeza di negara-negara terlibat bergantung pada sejarah dan budaya penggunaan bahasa Melayu di negara-negara tersebut. Di Malaysia, istilah \"bahasa Melayu\" ialah istilah \"de jure\" untuk pentakrifan rasmi bahasa kebangsaan negara Malaysia, manakala istilah \"bahasa Malaysia\" atau \"bahasa Melayu Malaysia\" seringkali digunakan mewakili perkara yang sama secara tidak formal di kalangan rakyat Malaysia. Di Singapura, Bahasa Melayu mempunyai status bahasa kebangsaan pada waktu yang sama merupakan salah satu daripada empat bahasa rasmi (tiga lagi bahasa rasmi lain ialah bahasa Inggeris, bahasa Cina, dan bahasa Tamil). Di Brunei, \"bahasa Melayu\" juga ditakrifkan sebagai bahasa rasmi negara dan bahasa Melayu diutamakan apabila berlakunya percanggahan dengan versi bahasa Inggeris teks undang-udang. Di Indonesia, bentuk piawai bahasa Melayu dikenali sebagai bahasa Indonesia yang berperanan sebagai bahasa pemersatu di negara Indonesia. Penggunaan istilah \"bahasa Melayu\" di Indonesia pula hanya terhad kepada bentuk-bentuk vernakular bahasa Melayu (yakni bahasa Melayu tempatan) yang dituturkan di kawasan asli Melayu terletak di zon tengah Sumatra (seperti Riau, Kepulauan Riau, Jambi dan lain-lain), Sumatra Selatan dan Kalimantan Barat Indonesia. Di Timor Leste, Bahasa Indonesia masih tetap dikekalkan sebagai bahasa rasmi utamanya sebagai \"bahasa bekerja\" walaupun telah merdeka daripada negara Indonesia. Di selatan Thailand, bahasa Melayu digunakan oleh orang-orang dari Kesultanan Melayu Patani (orang Melayu Pattani), tetapi tidak memperolehi sebarang pengiktirafan daripada kerajaan. Bahasa Melayu Klasik, secara spesifiknya \"bahasa istana\" (atau dikenali sebagai \"Court Malay\" dalam bahasa Inggeris), ialah bahasa piawai sastera bersusurgalur daripada kesultanan Melaka dan kesultanan Johor, disebabkan itulah bahasa ini juga dikenali sebagai bahasa Melayu Melaka, Johor atau Riau (atau pelbagai jenis gabungan nama yang berasaskan mana-mana dari tiga nama tempat ini) untuk membezakannya daripada bahasa-bahasa Melayik yang lain. Menurut \"Ethnologue\" 26, beberapa kelainan bahasa-bahasa Melayik disenaraikan sebagai bahasa-bahasa yang terpisah, termasuklah kelainan bahasa-bahasa Melayu Semenanjung yang dituturkan oleh Orang Asli, yang sangat rapat hubungannya dengan bahasa Melayu Baku yang boleh dianggap sebagai dialek-dialeknya. Terdapat beberapa bahasa dagang atau bahasa kreol Melayu yang berdasarkan satu bentuk \"lingua franca\" yang disusurgalurkan ke bahasa Melayu Klasik. Asal usul bahasa Melayu اصل اصول بهاس ملايو. Ahli-ahli linguistik bahasa Melayu bersetuju dengan kemungkinan bahawa asal usul bahasa Melayu terletak di barat pulau Borneo. Satu bentuk bahasa yang kini dikenali sebagai bahasa Melayu Purba (dari segi linguistik dikenali sebagai bahasa Melayik Purba) dituturkan di pulau Borneo sekurang-kurangnya pada 1000 tahun sebelum Masihi dan dianggap sebagai leluhur kepada kesemua bahasa di bawah kumpulan Melayik. Leluhur bahasa purba ini ialah bahasa Melayu-Polinesia Purba, yang merupakan turunan dari bahasa Austronesia Purba, mula bercambah sekurang-kurangnya pada 2000 tahun sebelum Masihi, yang mungkin hasil daripada penerokaanorang Austronesia dari pulau Taiwan ke arah kawasan yang terletak lebih selatan yakni kawasan maritim Asia Tenggara Sejarah Bahasa Melayu سجاره بهاس ملايو. Secara umumnya, garis perkembangan bahasa Melayu terbahagi kepada tiga fasa utama iaitu bahasa Melayu Kuno, bahasa Melayu Klasik dan bahasa Melayu Moden, dan terdapat fasa peralihan di antara fasa-fasa utama tersebut. Sesetengah pakar bahasa menganggap bahasa Melayu Kuno ialah bahasa leluhur bahasa Melayu Klasik, tetapi sesetengah ahli linguistik yang lain pula berpendapat bahawa hubungan leluhur antara dua fasa bahasa ini susah untuk ditentusahkan berikutan keganjilan dari segi morfologi dan sintaksis antara dua fasa ini, serta keserentakan penggunaan kedua-dua fasa bahasa ini pada abad ke-14. Bahasa Melayu Kuno dipengaruhi oleh bahasa Sanskrit yang merupakan bahasa klasik di India. Peminjaman kata-kata Sanskrit boleh didapati dalam perbendaharaan bahasa Melayu Kuno. Batu bersurat terawal dalam bahasa Melayu Kuno dijumpai di Sumatra, Indonesia, dan ditulis dalam huruf-huruf Grantha bervariasi Pallava dan tarikhnya ditentukan pada 1 Mei 683. Batu bersurat ini dikenali sebagai batu bersurat Kedukan Bukit yang dijumpai oleh orang Belanda yang bernama M. Batenburg pada 29 November 1920 di Sungai Musi, Kedukan Bukit, Sumatra Selatan. Ia merupakan batu kecil berukuran. Bukti lain ialah naskhah Undang-undang Tanjung Tanah dalam huruf-huruf pasca-Pallava. Teks perundangan pra-Islam pada abad ke-14 ini dihasilkan pada zaman pemerintahan Adityawarman (1345–1377) di kerajaan Dharmasraya, yang merupakan kerajaan Hindu-Buddha yang membangun setelah tamatnya kekuasaan Srivijaya di Sumatra. Undang-undang ini ditulis untuk orang Minangkabau yang masih tinggal di tanah tinggi di barat Sumatra, Indonesia. Batu bersurat Terengganu (Jawi: باتو برسورت ترڠݢانو) ialah pacakan batu granit dengan inskripsi tulisan Jawi dan dijumpai di Terengganu, Malaysia. Ia adalah bukti terawal kewujudan batu-batu bersurat bahasa Melayu Klasik. Batu bersurat yang bertarikh tahun 702 hijrah (bersamaan tahun 1303 masihi) merupakan bukti terawal tulisan Jawi di alam Melayu Asia Tenggara, dan juga merupakan salah satu daripada bukti terawal kepada kewujudan Islam sebagai agama negeri di rantau ini. Kandungan batu bersurat ini ialah pengisytiharan pemerintah di Terengganu yang dikenali sebagai Seri Padukan Tuan, yang menyuruh pengikutnya untuk mendukung agama Islam, serta memberikan 10 fasal asas undang-undang syariah bagi membimbing pengikutnya. Bahasa Melayu mendapat penggunaan yang semakin meluas dan kukuh sebagai bahasa perantaraan kawasan maritim Asia Tenggara sewaktu zaman Kesultanan Melayu Melaka (1402–1511). Zaman ini menyaksikan perkembangan bahasa Melayu yang pantas di bawah pengaruh kesusasteraan Islam. Perkembangan bahasa ini mengubah sifat bahasa ini melalui kemasukan perbendaharaan kata secara mendadak dari bahasa Arab, bahasa Tamil dan bahasa Sanskrit, sehingga membentuk kesusasteraan Melayu Klasik yang matang. Bahasa Melayu pada zaman Kesultanan Melayu Melaka ini berevolusi menjadi bentuk yang boleh dikenalpasti oleh penutur bahasa Melayu pada zaman moden. Apabila kerajaan ini berpindah dan mendirikan Kesultanan Johor Lama, ia terus digunapakai sebagai bahasa klasik serantau; sehingga ia amat berhubungkait dengan kerajaan Riau di bawah pengaruh Belanda dan kerajaan Johor di bawah pengaruh British sehingga bahasa Melayu Riau dianggap dekat dengan bahasa klasik itu. Namun, tiada hubungkait antara bahasa Melayu Melaka yang digunakan di istana Riau dan bahasa Riau vernakular yang digunapakai oleh penduduk tempatan Riau. Surat-surat dari Sultan Abu Hayat yangmemerintah Ternate dan Kepulauan Maluku (yang kini di dalam Indonesia) pada tahun 1521-1522 merupakan antara surat-surat tertua yang ditulis dalam bahasa Melayu. Teks surat ini ditulis kepada raja Portugal, selepas berhubung dengan peneroka Portugis bernama Francisco Serrão. Surat-surat ini menunjukkan tanda penggunaan bahasa yang bukan asli; kerana orang Ternate menggunapakai (dari dahulukala sehingga ke hari ini) bahasa Ternate sebagai bahasa ibunda mereka (yakni salah satu daripada bahasa-bahasa di Papua Barat). Bahasa Melayu adalah satu-satunya bahasa yang digunakan sebagai bahasa perantara (atau \"lingua franca\") untuk perhubungan antara pelbagai kaum. Pengelasan bahasa ڤڠلسن بهاس. Bahasa Melayu ialah salah satu ahli keluarga bahasa Austronesia yang meliputi bahasa-bahasa di kawasan Asia Tenggara dan Lautan Teduh, serta sebilangan kecil di benua Asia. Bahasa Malagasi, yakni bahasa tersisih dari segi geografi, yang dituturkan di Madagaskar terletak di barat Lautan India, juga merupakan ahli keluarga bahasa-bahasa Austronesia. Walaupun bahasa-bahasa ini tidak semestinya mempunyai kesalingfahaman yang jelas, persamaan yang terdapat pada bahasa-bahasa ini sebenarnya agak jelas. Dalam bahasa-bahasa yang lebih konservatif seperti bahasa Melayu, terdapat banyak kata-kata akar yang mengalami perubahan yang agak kecil dari bahasa leluhur mereka yakni bahasa Austronesia Purba. Terdapat banyak kata-kata kognat dalam perbendaharaan bahasa-bahasa ini dari segi hubungan pertalian, kesihatan, bahagian tubuh badan, dan nama-nama haiwan am. Persamaan dijumpai lebih ketara pada nombor-nombor yang ada pada keluarga bahasa ini. Di bawah keluarga bahasa Austronesia, bahasa Melayu terdiri daripada sekelompok gaya-gaya pertuturan yang rapat hubungkaitnya yang dikenali sebagai bahasa-bahasa Melayik yang tersebar merentasi Semenanjung Tanah Melayu dan kepulauan Indonesia oleh pedagang-pedagang Melayu dari Sumatra. Terdapat perbezaan pendapat mengenai kelainan-kelainan pertuturan yang manakah sepatutnya dikempok sebagai dialek-dialek bahasa Melayu, dan kelainan-kelainan yang manakah sepatutnya dianggap sebagai bahasa-bahasa Melayu yang terpisah. Bahasa vernakular di Brunei yakni bahasa Melayu Brunei misalnya tidak boleh disalingfaham dengan bahasa piawai, dan hal ini turut berlaku pada kelainan bahasa yang terdapat di Semenanjung Tanah Melayu seperti bahasa Melayu Kedah. Tetapi, bahasa Melayu Brunei dan bahasa Melayu Kedah pula mempunyai hubungan yang agak dekat. Sistem tulisan سيستم توليسن. Bahasa Melayu kini ditulis dalam tulisan Rumi di Brunei, Malaysia dan Singapura atau \"tulisan Latin\" di Indonesia, walaupun tulisan Arab yang dikenali sebagai \"tulisan Arab Melayu\" atau tulisan Jawi juga wujud. Tulisan Rumi merupakan tulisan rasmi di negara Malaysia, Singapura, dan Indonesia. Bahasa Melayu menggunakan sistem angka Arab. Kedua-dua tulisan Rumi dan tulisan Jawi adalah tulisan-tulisan rasmi hanya di Brunei. Nama-nama di institusi atau organisasi di Brunei perlu menggunakan kedua-dua jenis tulisan. Tulisan Jawi digunakan secara penuh di sekolah-sekolah agama yang pelajar-pelajar Muslim berumur 6-7 sehingga 12-14 tahun perlu hadiri pada waktu tengah hari. Beberapa usaha sedang diambil untuk memelihara tulisan Jawi di Malaysia, dan pelajar-pelajar yang mengambil peperiksaan dalam bahasa Melayu di Malaysia diberi pilihan untuk menjawab soalan-soalan dalam tulisan Jawi. Namun tulisan Rumi ialah tulisan yang paling kerap digunapakai di Brunei dan Malaysia untuk kegunaan rasmi mahupun tidak rasmi. Pada masa lampau, bahasa Melayu ditulis dalam pelbagai jenis tulisan lain. Sebelum pengenalan tulisan Arab di rantau kepulauan Melayu, bahasa Melayu ditulis dalam tulisan Pallava, tulisan Kawi dan tulisan Rencong; tulisan-tulisan tersebut kinisudah tidak digunakan lagi tetapi tulisan yang seakan contohnya seperti tulisan Cam masih digunapakai oleh orang Cam di Vietnam dan Kemboja. Bahasa Melayu Kuno ditulis dalam tulisan Pallava dan Kawi seperti pada bukti batu bersurat di kawasan rantau Melayu. Bermula dengan era Kerajaan Samudera-Pasai sehingga ke zaman kemuncak Kesultanan Melaka, tulisan Jawi sedikit demi sedikit menggantikan penggunaan tulisan-tulisan ini sebagai tulisan yang paling banyak digunapakai di alam Melayu. Bermula dengan abad ke-17, di bawah pengaruh Belanda dan British, Jawi sedikit demi sedikit digantikan dengan tulisan Rumi. Untuk mengetahui kaedah penggunaan abjad, penulisan huruf, penulisan kata, penulisan unsur serapan dan tanda baca umum yang dipraktikkan dalam bahasa Melayu, sila lihat: Laman arkib Pedoman Umum Ejaan Bahasa Melayu Sistem fonologi سيستم فونولوݢي. Salah satu faktor utama yang menjadikan Bahasa Melayu sebagai bahasa yang sangat mudah untuk dipelajari adalah disebabkan oleh sistem fonologi yang amat mudah. Boleh dikatakan hampir setiap huruf Rumi mewakili satu sebutan fonem. Bahasa Melayu, seperti kebanyakan bahasa lain di bawah keluarga Austronesia, bukanlah bahasa bernada. Bunyi-bunyi konsonan. Bunyi-bunyi konsonan bahasa Melayu Malaysia dan juga bahasa Indonesia ditunjukkan seperti berikut. Bunyi-bunyi konsonan yang bukan asli daripada kata-kata pinjaman bahasa Arab dan bahasa Inggeris ditunjukkan dalam tanda kurung. Fonem pinjaman dari bahasa Arab: Bunyi-bunyi vokal. Bahasa Melayu pada asalnya mempunyai 4 bunyi vokal, tetapi kebanyakan dialek-dialek yang wujud pada hari ini termasuk juga bahasa Melayu Baku mempunyai enam bunyi vokal dengan fonem terbelah menjadi dan fonem terbelah menjadi. Banyak perkataan disebut dengan bunyi yang berbeza sama ada berbunyi atau, dan tidak terlalu banyak perkataan asli Melayu yang menggunakan bunyi vokal tengah. Nota ortografi: Kedua-dua fonem dan ditulis dengan huruf. Penggunaan ortografi mewakili fonem agak kurang dalam perkataan jati Melayu, dan huruf biasanya mewakili bunyi. Tetapi terdapat juga pasangan homograf seperti \"perang\" digunakan untuk mewakili dua sebutan iaitu (kata kerja) dan (kata sifat melambang warna). Beberapa kajian menganggap sebagai diftong. Namun,, dan hanya boleh wujud dalam suku kata terbuka, contoh perkataan: \"cukai\", \"kerbau\" dan \"dodoi\". Perkataan yang dua huruf vokalnya disusun dalam suku kata tertutup, seperti \"baik\", \"laut\", \"kuat\", \"biak\", \"buih\" dan \"bius\" adalah terdiri daripada dua suku kata. Satu analisis alternatif menganggap diftong-diftong fonetik, dan sebagai jujukan monoftong dengan tambahan satu bunyi konsonan semi-vokal:, dan. Terdapat satu hukum keselarasan vokal: bunyi-bunyi vokal yang tidak luas seperti di perkataan yang mempunyai dua suku kata perlu ada keselarasan dari segi ketinggian vokalnya, contohnya \"hidung\" /hi.duŋ/ boleh disebut sebagai /hi.doŋ/ tetapi tidak boleh disebut sebagai /he.duŋ/. Satu kajian oleh Uri Tadmor yang diterbit pada tahun 2003 menunjukkan mutasi ⟨a⟩ di suku kata terbuka akhir perkataan ialah ciri-ciri berkawasan, secara spesifik merupakan ciri-ciri di kawasan barat Austronesia. Uri Tadmor mengklasifikasi ciri-ciri tersebut ke dalam empat kumpulan seperti berikut: Perbezaan antara Bahasa Melayu Piawai dan Bahasa Indonesia ڤربيذاءن انتارا بهاس ملايو ڤياواي دان بهاس ايندونيسيا. \"Untuk rencana lanjutan, lihat Perbezaan antara Bahasa Melayu Piawai dan Bahasa Indonesia atau Perbezaan sebutan Bahasa Melayu dan Bahasa Indonesia\" Perbezaan antara bahasa Melayu piawai dan bahasa Indonesia sebenarnya tidak terlalu jauhberbeza. Bahasa Indonesia sendiri pada dasarnya didasarkan kepada bahasa Melayu dialek Riau. Bahasa Melayu Riau yang juga dipakai di Malaysia sebagai bahasa standard atau lazim disebut dengan \"Bahasa Melayu Baku\". Namun, jika dibezakan dari segi sejarah, budaya, perlakuan tatabahasa masing-masing, dan lain-lain, jelas adalah perbezaan yang ketara antara kedua-dua bahasa. Penutur bahasa Melayu kebanyakan boleh memahami bahasa Indonesia, tetapi penutur bahasa Indonesia kebanyakan tidak boleh memahami bahasa Melayu sebab ada banyak perbezaan dari segi ejaan dan kosa kata. Bahasa Indonesia pun dimakna berbeza daripada bahasa Melayu yang lazim dituturkan di Malaysia kerana mempunyai banyak perkataan yang berasal dari bahasa Kawi, Jawa, Sunda, Betawi, Bali, Madura, Minangkabau, Belanda, dan lain-lain, walaupun sebenarnya bahasa Melayu yang dipakai di Malaysia pun banyak mempunyai kata pinjaman dari bahasa-bahasa daerah di Indonesia seperti bahasa Melayu Palembang, Minangkabau, Jawa, Lampung, Banjar, dan lain-lain. Pengaruh daripada bahasa asing ڤڠاروه درڤد بهاس اسيڠ. Bahasa Melayu banyak menyerap bahasa-bahasa asing seperti Sanskrit, Inggeris, Belanda, Jawa, Arab dan sebagainya. Pengaruh Bahasa Sanskrit. Bahasa Sanskrit, bahasa perantara agama Hindu dan Buddha, telah banyak mempengaruhi bahasa Melayu apabila bahasa Melayu berada di peringkat kuno, iaitu pada peringkat sebelum bahasa Melayu mencapai zaman klasik pada zaman Kesultanan Melayu Melaka yang mana bahasa Melayu telah mengalami zaman kuno antara abad ke-7 dan abad ke-13. Bukti pengaruh bahasa Sanskrit dalam bahasa kuno dapat dikesan dalam batu bersurat yang ditinggalkan oleh kerajaan Srivijaya. Mengenai bukti bahasa Melayu kuno, terdapat empat batu bersurat yang penting, iaitu yang dijumpai di: Selain itu sebagai faktor sampingan, faktor kemegahan juga faktor yang mendorong kepada peminjaman bahasa daripada bahasa Sanskrit. Peminjaman ini adalah kerana bahasa Sanskrit merupakan bahasa yang dianggap bahasa yang \"tinggi-tinggi\" pada zaman kuno. Penyerapan bahasa Sanskrit dalam bahasa seharian dijadikan satu cara perolehan kemegahan. Keadaan ini khususnya menyebabkan peminjaman perkataan yang sudah ada dalam bahasa Melayu asli, tetapi digantikan juga dengan bahasa Sanskrit, kerana barangkali dianggap lebih sesuai, lebih sedap bunyinya ataupun semata-mata kerana disangka lebih \"tinggi\" mutunya kerana bahasa Sanskrit merupakan bahasa sarjana. Dalam bahasa Melayu, terdapat 677 perkataan yang berasal daripada bahasa Sanskrit. Berikut disenaraikan beberapa contoh perkataan Sanskrit yang dipinjam ke dalam bahasa Melayu: Pengaruh Bahasa Jawa. Bahasa Jawa dan bahasa Melayu merupakan bahasa serumpun. Kedua-kedua bahasa tergolong kepada keluarga bahasa Indonesia. Terdapat dua faktor utama dalam penyebaran pengaruh bahasa Jawa ke Bahasa Melayu, iaitu: Cerita panji ialah sejenis cerita yang berasal dari Jawa. Isinya mengenai wira dan wirawati. Cerita ini terdapat banyak versi, dan boleh dikesan di seluruh nusantara sehingga di Kemboja. Migrasi orang Jawa ke Tanah Melayu telah berlaku semenjak zaman Kesultanan Melayu Melaka. Pertempatan orang Jawa sudah dapat dikesan di bandar Melaka pada zaman itu, iaitu Kampung Jawa dan Parit Jawa. Walau bagaimanapun, migrasi orang Jawa ke Tanah Melayu yang ketara berlaku bermula pada awal abad ke-19. Tumpuan migrasi Jawa adalah di negeri-negeri Selat dan juga negeri Selangor dan negeri Johor. Pertembungan orang tempatan yang menutur bahasa Melayu dengan pendatang Jawa yang menutur dalam bahasa Jawa telah menyebabkan unsur-unsur bahasa Jawa meresap ke dalam Bahasa Melayu. Walau bagaimanapun, perlu diketahui bahawa kata-katapinjaman Jawa meresap ke dalam Bahasa Melayu secara terpencil dan tidak tersebar luas. Ia dikatakan diserap ke dalam Bahasa Melayu kerana migrasi orang-orang Jawa yang masih mengekalkan bahasa mereka dan tidak menguasai perbendaharaan bahasa Melayu yang sebenar. Berikut disenaraikan beberapa kata-kata pinjaman Jawa dalam bahasa Melayu: Pengaruh Arab-Islam. Bahasa Arab dan agama Islam sangat mempengaruhi perkembangan bahasa Melayu. Status bahasa Melayu yang bertaraf lingua franca dan keunikannya telah menyebabkan agama Islam disebarkan dalam bahasa Melayu dan bukan dengan bahasa Arab. Walau bagaimanapun, bahasa Arab melalui kedatangan agama Islam telah mempengaruhi perkembangan bahasa Melayu dalam beberapa aspek, antaranya: 1- perbendaharaan kata 2- sebutan kata 3- tulisan Perbendaharaan Kata. Hampir sebahagian besar perbendaharaan bahasa Melayu meminjam perkataan bahasa Arab. Berikut disenaraikan beberapa contoh perkataan Arab yang dipinjam ke dalam bahasa Melayu: Sebutan Kata. Pengaruh Arab-Islam memberi kesan yang sangat besar kepada sebutan perkataan dalam bahasa Melayu. Bahasa Melayu mula dituturkan supaya menghampiri sebutan bahasa Arab, kerana masyarakat Melayu terdorong untuk membaca Al-Qur\\'an dengan betul. Sebutan dengan pengaruh Arab-Islam ini turut membezakan antara penutur asal bahasa Melayu (iaitu orang-orang Melayu) dengan penutur bukan asal (seperti kaum Cina, India, atau bangsa Eropah) kerana penutur bukan asal ini tidak dapat menyebut beberapa perkataan yang menerima pengaruh Arab. Contoh-contoh perkataan yang berbeza sebutan antara sebutan penutur Melayu dan penutur bukan Melayu: Tulisan. Kedatangan pengaruh Arab-Islam telah menyumbang kepada penulisan bahasa Melayu dalam tulisan Arab yang akhirnya disebut tulisan Jawi. Tulisan Jawi ini digunakan antara lain bagi memudahkan orang-orang Melayu yang rata-rata beragama Islam membaca Al-Quran. Hal ini dapat dilihat dengan jelas apabila sistem pendidikan Malaysia menukar tulisan Jawi kepada tulisan Rumi, ramai orang-orang Melayu mula tidak mampu membaca Al-Quran dengan baik. Ia dinamakan sindrom Buta Jawi atau Buta Al-Quran. Pengaruh Bahasa Cina. Dalam Kamus Dewan, terdapat kata-kata yang mempunyai etimologi berlabel \"C\". Perkataan ini merupakan kata-kata yang dipinjam daripada bahasa Cina. Tetapi bukan semua kata-kata yang berlabel \"C\" dalam Kamus Dewan Bahasa merupakan kata-kata yang dipinjam daripada bahasa Cina. Dalam kajian Kong 1993, telah disimpulkan bahawa lebih kurang 261 patah perkataan Bahasa Melayu telah dipinjam daripada bahasa Cina. Terdapat 10 pengelasan kata yang telah disimpulkan oleh Kong iaitu: Kajian ini juga dilakukan oleh Mashudi dan Yeong pada tahun 1989. Hasil kajian mereka mendapati terdapat lebih kurang 341 patah perkataan Bahasa Melayu dipinjam daripada bahasa Cina. Kajian melihat pada fonologi perkataan bahasa Melayu tersebut. Sistem fonologi kata asli bahasa Melayu tidak bertepatan dengan sistem fonologi kata bahasa Cina. Antara kata Bahasa Cina yang dipinjam dalam Kamus Dewan Bahasa ialah: Prilaku fonologi pinjaman kata Bahasa Cina adalah bertentangan dengan sistem fonologi bahasa Melayu. Pengaruh Portugis. Terdapat 131 perkataan yang berkemungkinan berasal daripada bahasa Portugis. Beberapa contoh perkataan Portugis yang diserap dalam bahasa Melayu ialah: Pengaruh Inggeris. Pengaruh bahasa Inggeris dalam bahasa Melayu merupakan pengaruh paling ketara dan paling meluas masa kini, dan lazimnya perkataan Inggeris dipinjam ke dalam bahasa Melayu apabila tiada perkataan tempatan untuk menggambarkan situasi baru yang memerlukan satu panggilan khusus untuk merujuk kepadanya. Contoh perkataan sebegini ialah \"konotasi\" (; \"connotation\"), \"kompromi\" (; \"compromise\") dan \"siri\"(; \"series\"). Tetapi kebingungan dan bantahan sering timbul apabila perkataan Inggeris yang diterima masuk ke dalam bahasa Melayu terlalu banyak sehinggakan ada yang bertindak sebagai pengganti perkataan yang telah wujud. Dewan Bahasa dan Pustaka telah terus membenarkan kemasukan perkataan sebegini dalam kosa kata bahasa Melayu dan tidak menghiraukan bantahan yang dikemukakan. Penggunaan perkataan sebegini yang meluas di media percetakan dalam bahasa Melayu di Malaysia seperti pada akhbar Utusan Malaysia telah mengeruhkan lagi permasalahan ini. Satu-satunya kenyataan bernada bimbang terhadap situasi ini pernah dilafazkan bekas perdana menteri Malaysia, Mahathir bin Mohamad meskipun beliau sendiri telah memperkenalkan suatu perkataan baru \"bajet\" () menggantikan perkataan \"belanjawan\" () semasa pembentangan belanjawannya yang terakhir, dengan alasan bahawa istilah belanjawan tidak tepat kerana anggaran kewangan kerajaan turut melibatkan hasil, dan bukan belanja semata-mata. Berikut merupakan beberapa perkataan yang telah diterima dalam bahasa Melayu secara rasmi dan digunakan secara meluas dan dianggap telah diterima. Beberapa tahun kebelakangan ini (sekitar 2003), stesen televisyen milik kerajaan Malaysia RTM 1 (dahulu dikenali sebagai TV 1) telah menukar tema salurannya kepada \"Saluran Infotainmen Anda\" (; daripada bahasa Inggeris \"Your Infotainment Channel\") dan ini menimbulkan kontroversi apabila Dewan Bahasa dan Pustaka (DBP) mendakwa perkataan \"Infortainmen\" merosakkan penggunaan bahasa Melayu. Alasan yang diberikan adalah bahawa \"-tain-\" yang harus disebut seakan perkataan Melayu \"main\", dan ini kedengaran agak janggal. Penukaran ejaan ke \"Infotenmen\" pula tidak diterima sebagai piawai DBP dan kerajaan disaran menggantikannya dengan perkataan lain seperti \"Infohibur\" tetapi Kementerian Penerangan yang mengendalikan stesen televisyen kerajaan Radio Televisyen Malaysia enggan menuruti saranan berkenaan. Pada tahun 2006 tema ini ditukarkan ke \"Saluran Inforia\" (). Definisi bahasa Melayu tinggi dan bahasa Melayu baku ديفينيسي بهاس ملايو تيڠݢي دان بهاس ملايو باکو. Konsep bahasa Melayu tinggi merujuk kepada penggunaan bahasa Melayu dalam konteks wacana ilmiah dan berkaitan dengan ketamadunan. Bahasa Melayu tinggi sering dirujuk sebagai wahana bagi melahirkan idea dan wawasan yang berkaitan dengan kesarjanaan dan kebudayaan. Bahasa Melayu tinggi lazimnya digunakan dalam seminar, persidangan atau kongres yang berkaitan dengan bahasa, budaya ataupun bidang ilmiah yang lain. Bahasa Melayu baku pula ialah bahasa Melayu yang sempurna dari segi penggunaan aspek bahasanya, iaitu ejaan, tatabahasa, istilah, penggunaan kata, laras bahasa dan sebutan. Frasa mudah dalam Bahasa Melayu فراسا موده دالم بهاس ملايو. Di Malaysia, biasanya masyarakat Melayu bertegur sapa sesama sendiri dengan ucapan salam, tetapi ucapan formal seperti \"Selamat pagi\" atau \"Selamat sejahtera\" turut digunakan bagi penutur bukan Islam. Ucapan \"Hai\" juga sering digunakan apabila bertegur sama sesama rakan-rakan, sebagaimana perkataan \"Bye-bye\" semasa meminta diri untuk beredar. Penggunaan tidak formal pada zaman kontemporari. Di keempat-empat negara yang menggunakan bahasa-bahasa Melayik yakni negara Indonesia, Malaysia, Singapura dan Brunei, penggunaan ragam bahasa Melayu yang tidak formal adalah sesuatu yang pasti berlaku dalam kehidupan harian kerana agak mustahil untuk setiap orang bertutur dalam ragam formal sepanjang masa. Penggunaan ragam tidak formal kebiasaannya berlaku melalui pemendekkan kata dari bahasa formal, peminjaman kosa kata dari dialek-dialek/bahasa-bahasa tempatan (seperti dialek Melayu Kelantan, bahasa Minangkabau atau bahasa Jawa) mahupun bahasa-bahasa negara berdekatan (seperti bahasa Thai, bahasa Cina dan bahasa India) serta penyerapan sebutan langsung darikosa kata bahasa asing khususnya bahasa Inggeris ekoran globalisasi. \"Untuk rencana berkaitan penggunaan bahasa Indonesia yang tidak formal, sila lihat Bahasa gaul Indonesia\" \"Untuk rencana berkaitan penggunaan bahasa Melayu Malaysia yang tidak formal, sila lihat'"
      ]
     },
     "execution_count": 23,
     "metadata": {},
     "output_type": "execute_result"
    }
   ],
   "source": [
    "tokenizer.decode(dataset[0]['input_ids'])"
   ]
  },
  {
   "cell_type": "code",
   "execution_count": null,
   "id": "91ae9599",
   "metadata": {},
   "outputs": [],
   "source": []
  }
 ],
 "metadata": {
  "kernelspec": {
   "display_name": "Python 3 (ipykernel)",
   "language": "python",
   "name": "python3"
  },
  "language_info": {
   "codemirror_mode": {
    "name": "ipython",
    "version": 3
   },
   "file_extension": ".py",
   "mimetype": "text/x-python",
   "name": "python",
   "nbconvert_exporter": "python",
   "pygments_lexer": "ipython3",
   "version": "3.10.12"
  }
 },
 "nbformat": 4,
 "nbformat_minor": 5
}
