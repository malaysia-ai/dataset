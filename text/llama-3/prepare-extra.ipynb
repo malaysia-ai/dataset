{
 "cells": [
  {
   "cell_type": "code",
   "execution_count": 8,
   "id": "cfc24e8f",
   "metadata": {
    "scrolled": true
   },
   "outputs": [],
   "source": [
    "# !wget https://huggingface.co/datasets/syafie-nzm/crawl-jurnaldbp/resolve/main/jurnaldbp.jsonl\n",
    "# !wget https://huggingface.co/datasets/mesolitica/crawl-my-website/resolve/main/mjpharm.org.jsonl\n",
    "# !wget https://huggingface.co/datasets/mesolitica/crawl-my-website/resolve/main/myjgeosc.com.jsonl\n",
    "# !wget https://huggingface.co/datasets/mesolitica/crawl-my-website/resolve/main/myjsustainagri.com.jsonl\n",
    "# !wget https://huggingface.co/datasets/mesolitica/crawl-my-website/resolve/main/akademisains.gov.my.jsonl\n",
    "# !wget https://huggingface.co/datasets/mesolitica/crawl-my-website/resolve/main/crossref-pdf.jsonl\n",
    "# !wget https://huggingface.co/datasets/mesolitica/crawl-my-website/resolve/main/Kamus_Dewan_Bahasa_Edisi_Keempat_pdf.pdf\n",
    "# !wget https://huggingface.co/datasets/mesolitica/crawl-my-website/resolve/main/melayu-pdf.jsonl\n",
    "# !wget https://huggingface.co/datasets/mesolitica/crawl-my-website/resolve/main/majcafe.com.jsonl\n",
    "# !wget https://huggingface.co/datasets/mesolitica/crawl-my-website/resolve/main/myjms.mohe.gov.my.jsonl\n",
    "# !wget https://huggingface.co/datasets/mesolitica/crawl-my-website/resolve/main/newera.edu.my.jsonl\n",
    "# !wget https://huggingface.co/datasets/hlmshkr/maljnutr-pdfs/blob/main/maljnutr-pdf-extracted.json -O maljnutr.json\n",
    "# !wget https://huggingface.co/datasets/mesolitica/crawl-my-website/resolve/main/nutriweb.org.my.jsonl\n",
    "# !wget https://huggingface.co/datasets/fattahharith/sejarah-stpm/raw/main/sejarahstpm-text-extracted.json\n",
    "# !wget https://huggingface.co/datasets/fattahharith/malaysian-journal-of-computing/resolve/main/mjoc_pdf_text_extracted.json"
   ]
  },
  {
   "cell_type": "code",
   "execution_count": 9,
   "id": "88c99b94",
   "metadata": {},
   "outputs": [],
   "source": [
    "from glob import glob\n",
    "from tqdm import tqdm\n",
    "import json\n",
    "import os\n",
    "import numpy as np\n",
    "from transformers import AutoTokenizer\n",
    "from streaming import MDSWriter\n",
    "from tqdm import tqdm\n",
    "import msgspec\n",
    "import json\n",
    "import re\n",
    "\n",
    "http_errors = [\n",
    "        \"400 Bad Request\", \"401 Unauthorized\", \"402 Payment Required\", \"403 Forbidden\", \"404 Not Found\",\n",
    "        \"405 Method Not Allowed\", \"406 Not Acceptable\", \"407 Proxy Authentication Required\", \"408 Request Timeout\",\n",
    "        \"409 Conflict\", \"410 Gone\", \"411 Length Required\", \"412 Precondition Failed\", \"413 Payload Too Large\",\n",
    "        \"414 URI Too Long\", \"415 Unsupported Media Type\", \"416 Range Not Satisfiable\", \"417 Expectation Failed\",\n",
    "        \"418 I'm a teapot\", \"421 Misdirected Request\", \"422 Unprocessable Entity\", \"423 Locked\", \"424 Failed Dependency\",\n",
    "        \"425 Too Early\", \"426 Upgrade Required\", \"428 Precondition Required\", \"429 Too Many Requests\",\n",
    "        \"431 Request Header Fields Too Large\", \"451 Unavailable For Legal Reasons\", \"500 Internal Server Error\",\n",
    "        \"501 Not Implemented\", \"502 Bad Gateway\", \"503 Service Unavailable\", \"504 Gateway Timeout\",\n",
    "        \"505 HTTP Version Not Supported\", \"506 Variant Also Negotiates\", \"507 Insufficient Storage\",\n",
    "        \"508 Loop Detected\", \"510 Not Extended\", \"511 Network Authentication Required\"\n",
    "    ]\n",
    "\n",
    "rejected = [\n",
    "    'Internal Server Error',\n",
    "    '__NOEDITSECTION__',\n",
    "    'enter your username and password',\n",
    "    'forgotten your password',\n",
    "    'cookies enabled',\n",
    "    'enable JavaScript in your browser.',\n",
    "    'The page cannot be displayed',\n",
    "    'site or edit the error_page',\n",
    "    'Request unsuccessful',\n",
    "]\n",
    "\n",
    "rejected.extend(http_errors)\n",
    "\n",
    "def replace_multiple(input_string, pattern =r\"\\s{6,}\", replace = '   '):\n",
    "    return re.sub(pattern, replace, input_string)\n",
    "\n",
    "def replace(string):\n",
    "    string = replace_multiple(string.replace('…', '.'))\n",
    "    string = replace_multiple(string, pattern = r\"\\.{6,}\", replace = '...')\n",
    "    return string\n",
    "\n",
    "def reject(string):\n",
    "    if any([r in string for r in rejected]):\n",
    "        return True\n",
    "    return False"
   ]
  },
  {
   "cell_type": "code",
   "execution_count": 10,
   "id": "5c2023b9",
   "metadata": {},
   "outputs": [],
   "source": [
    "from streaming.base.format.mds.encodings import Encoding, _encodings\n",
    "\n",
    "class UInt32(Encoding):\n",
    "    def encode(self, obj) -> bytes:\n",
    "        return obj.tobytes()\n",
    "\n",
    "    def decode(self, data: bytes):\n",
    "        return np.frombuffer(data, np.uint32)\n",
    "\n",
    "_encodings['uint32'] = UInt32"
   ]
  },
  {
   "cell_type": "code",
   "execution_count": 12,
   "id": "ae32055a",
   "metadata": {},
   "outputs": [
    {
     "name": "stdout",
     "output_type": "stream",
     "text": [
      "{\"url\": \"https://sejarahstpm.blogspot.com/2007/12/selamat-menyambut-tahun-2008.html\", \"title\": \"Selamat Menyambut Tahun 2008\", \"content\": \"Semoga  anda semua ceria selalu. Cuti dah habis. Jadi bersemangat kembali. Jom ke sekolah. Mula belajar untuk STPM 2008.\"}\r\n"
     ]
    }
   ],
   "source": [
    "!head -n 1 sejarahstpm-text-extracted.json"
   ]
  },
  {
   "cell_type": "code",
   "execution_count": 13,
   "id": "2f868397",
   "metadata": {},
   "outputs": [],
   "source": [
    "files = [\n",
    "    'jurnaldbp.jsonl',\n",
    "    'mjpharm.org.jsonl',\n",
    "    'myjgeosc.com.jsonl',\n",
    "    'myjsustainagri.com.jsonl',\n",
    "    'akademisains.gov.my.jsonl',\n",
    "    'crossref-pdf.jsonl',\n",
    "    'Kamus_Dewan_Bahasa_Edisi_Keempat_pdf.pdf',\n",
    "    'melayu-pdf.jsonl',\n",
    "    'majcafe.com.jsonl',\n",
    "    'myjms.mohe.gov.my.jsonl',\n",
    "    'newera.edu.my.jsonl',\n",
    "    'nutriweb.org.my.jsonl',\n",
    "]"
   ]
  },
  {
   "cell_type": "code",
   "execution_count": 14,
   "id": "86e7a7bc",
   "metadata": {},
   "outputs": [],
   "source": [
    "columns = {\n",
    "    'input_ids': 'uint32',\n",
    "}\n",
    "compression = 'zstd'\n",
    "hashes = 'sha1', 'xxh64'"
   ]
  },
  {
   "cell_type": "code",
   "execution_count": 15,
   "id": "f2bd52af",
   "metadata": {},
   "outputs": [],
   "source": [
    "def partition(text, size = 500):\n",
    "    splitted = text.split()\n",
    "    return [' '.join(splitted[i: i + size]) for i in range(0, len(splitted), size)]"
   ]
  },
  {
   "cell_type": "code",
   "execution_count": 16,
   "id": "5b94bbb0",
   "metadata": {},
   "outputs": [
    {
     "name": "stderr",
     "output_type": "stream",
     "text": [
      "Special tokens have been added in the vocabulary, make sure the associated word embeddings are fine-tuned or trained.\n"
     ]
    }
   ],
   "source": [
    "from transformers import AutoTokenizer\n",
    "\n",
    "tokenizer = AutoTokenizer.from_pretrained('meta-llama/Meta-Llama-3-8B')"
   ]
  },
  {
   "cell_type": "code",
   "execution_count": 32,
   "id": "6ecf42b8",
   "metadata": {},
   "outputs": [
    {
     "data": {
      "text/plain": [
       "128000"
      ]
     },
     "execution_count": 32,
     "metadata": {},
     "output_type": "execute_result"
    }
   ],
   "source": [
    "tokenizer.vocab_size"
   ]
  },
  {
   "cell_type": "code",
   "execution_count": 17,
   "id": "2b696862",
   "metadata": {},
   "outputs": [
    {
     "data": {
      "text/plain": [
       "'<|end_of_text|>'"
      ]
     },
     "execution_count": 17,
     "metadata": {},
     "output_type": "execute_result"
    }
   ],
   "source": [
    "tokenizer.eos_token"
   ]
  },
  {
   "cell_type": "code",
   "execution_count": 19,
   "id": "3f4cf6cf",
   "metadata": {},
   "outputs": [
    {
     "name": "stderr",
     "output_type": "stream",
     "text": [
      "930it [00:03, 303.10it/s]\n",
      "90it [00:00, 159.15it/s]\n",
      "100it [00:00, 387.51it/s]\n",
      "119it [00:00, 395.84it/s]\n",
      "811it [00:02, 373.74it/s]\n",
      "62149it [04:54, 211.08it/s]\n",
      "230240it [00:00, 659840.63it/s]\n",
      "1506it [00:05, 294.11it/s]\n",
      "490it [00:01, 378.33it/s]\n",
      "16419it [00:32, 507.56it/s]\n",
      "87it [00:00, 662.09it/s]\n",
      "1099it [00:02, 410.72it/s]\n"
     ]
    }
   ],
   "source": [
    "with open('extra.jsonl', 'w') as fopen_l:\n",
    "    for f in files:\n",
    "        with open(f, encoding = \"ISO-8859-1\") as fopen:\n",
    "            for l in tqdm(fopen):\n",
    "                try:\n",
    "                    l = msgspec.json.decode(l)\n",
    "                    if reject(l):\n",
    "                        continue\n",
    "\n",
    "                    l = replace(l.strip())\n",
    "                    if len(l) < 3:\n",
    "                        continue\n",
    "                        \n",
    "                    data = tokenizer.bos_token + l + tokenizer.eos_token\n",
    "                    partitioned = partition(data)\n",
    "                    for p in partitioned:\n",
    "                        data = {\n",
    "                            'text': p,\n",
    "                        }\n",
    "                        fopen_l.write(f'{json.dumps(data)}\\n')\n",
    "                        fopen_l.flush()\n",
    "                except Exception as e:\n",
    "                    pass"
   ]
  },
  {
   "cell_type": "code",
   "execution_count": 20,
   "id": "cefea879",
   "metadata": {},
   "outputs": [
    {
     "name": "stderr",
     "output_type": "stream",
     "text": [
      "106it [00:00, 5601.07it/s]\n",
      "136it [00:00, 1695.84it/s]\n"
     ]
    }
   ],
   "source": [
    "files = [\n",
    "    'sejarahstpm-text-extracted.json',\n",
    "    'mjoc_pdf_text_extracted.json'\n",
    "]\n",
    "with open('extra-v2.jsonl', 'w') as fopen_l:\n",
    "    for f in files:\n",
    "        with open(f, encoding = \"ISO-8859-1\") as fopen:\n",
    "            for l in tqdm(fopen):\n",
    "                try:\n",
    "                    l = msgspec.json.decode(l)\n",
    "                        \n",
    "                    t = []\n",
    "                    for k, v in l.items():\n",
    "                        if isinstance(v, list):\n",
    "                            v = '\\n'.join(v)\n",
    "                        t.append(f\"{k.replace('_', ' ')}: {v.strip()}\")\n",
    "                    l = '\\n'.join(t)\n",
    "                    data = tokenizer.bos_token + l + tokenizer.eos_token\n",
    "                    partitioned = partition(data)\n",
    "                    for p in partitioned:\n",
    "                        data = {\n",
    "                            'text': p,\n",
    "                        }\n",
    "                        fopen_l.write(f'{json.dumps(data)}\\n')\n",
    "                        fopen_l.flush()\n",
    "                    \n",
    "                except Exception as e:\n",
    "                    pass"
   ]
  },
  {
   "cell_type": "code",
   "execution_count": 23,
   "id": "5ba46e30",
   "metadata": {},
   "outputs": [],
   "source": [
    "split_by = 100000"
   ]
  },
  {
   "cell_type": "code",
   "execution_count": 24,
   "id": "eaf91a4b",
   "metadata": {},
   "outputs": [],
   "source": [
    "!rm -rf partitions-extra\n",
    "!mkdir partitions-extra"
   ]
  },
  {
   "cell_type": "code",
   "execution_count": 25,
   "id": "516d9cc2",
   "metadata": {},
   "outputs": [
    {
     "name": "stderr",
     "output_type": "stream",
     "text": [
      "1298317it [00:08, 144833.74it/s]\n",
      "1713it [00:00, 147900.18it/s]\n"
     ]
    }
   ],
   "source": [
    "index = 0\n",
    "count = 0\n",
    "a = open(f'partitions-extra/combined-lm-{index}.jsonl', 'w')\n",
    "\n",
    "with open('extra.jsonl') as fopen:\n",
    "    for l in tqdm(fopen):\n",
    "        a.write(l)\n",
    "        a.flush()\n",
    "        count += 1\n",
    "        if count >= split_by:\n",
    "            a.close()\n",
    "            index += 1\n",
    "            count = 0\n",
    "            a = open(f'partitions-extra/combined-lm-{index}.jsonl', 'w')\n",
    "            \n",
    "with open('extra-v2.jsonl') as fopen:\n",
    "    for l in tqdm(fopen):\n",
    "        a.write(l)\n",
    "        a.flush()\n",
    "            \n",
    "a.close()"
   ]
  },
  {
   "cell_type": "code",
   "execution_count": 26,
   "id": "d2c5a9bb",
   "metadata": {},
   "outputs": [],
   "source": [
    "block_size = 8192\n",
    "\n",
    "def read_dataset(train_file, block_size = block_size):\n",
    "    \n",
    "    tokenizer = AutoTokenizer.from_pretrained(\n",
    "        'meta-llama/Meta-Llama-3-8B',\n",
    "    )\n",
    "    tokenizer.add_bos_token = False\n",
    "    tokenizer.add_eos_token = False\n",
    "    text_column_name = 'text'\n",
    "    temp = []\n",
    "    with open(train_file) as fopen:\n",
    "        for l in fopen:\n",
    "            l = msgspec.json.decode(l)\n",
    "            tokenized = tokenizer(l['text'])['input_ids']\n",
    "            temp.extend(tokenized)\n",
    "            while len(temp) >= block_size:\n",
    "                block = temp[:block_size]\n",
    "                temp = temp[block_size:]\n",
    "                if len(block) == block_size:\n",
    "                    yield np.array(block).astype(np.uint32)"
   ]
  },
  {
   "cell_type": "code",
   "execution_count": 28,
   "id": "37217f12",
   "metadata": {
    "scrolled": true
   },
   "outputs": [
    {
     "data": {
      "text/plain": [
       "['partitions-extra/combined-lm-0.jsonl',\n",
       " 'partitions-extra/combined-lm-1.jsonl',\n",
       " 'partitions-extra/combined-lm-2.jsonl',\n",
       " 'partitions-extra/combined-lm-3.jsonl',\n",
       " 'partitions-extra/combined-lm-4.jsonl',\n",
       " 'partitions-extra/combined-lm-5.jsonl',\n",
       " 'partitions-extra/combined-lm-6.jsonl',\n",
       " 'partitions-extra/combined-lm-7.jsonl',\n",
       " 'partitions-extra/combined-lm-8.jsonl',\n",
       " 'partitions-extra/combined-lm-9.jsonl',\n",
       " 'partitions-extra/combined-lm-10.jsonl',\n",
       " 'partitions-extra/combined-lm-11.jsonl',\n",
       " 'partitions-extra/combined-lm-12.jsonl']"
      ]
     },
     "execution_count": 28,
     "metadata": {},
     "output_type": "execute_result"
    }
   ],
   "source": [
    "files = sorted(glob('partitions-extra/combined-lm-*.jsonl'), key = lambda x: int(x.split('-')[-1].replace('.jsonl', '')))\n",
    "files"
   ]
  },
  {
   "cell_type": "code",
   "execution_count": 29,
   "id": "dd49a09e",
   "metadata": {
    "scrolled": true
   },
   "outputs": [
    {
     "name": "stderr",
     "output_type": "stream",
     "text": [
      "Special tokens have been added in the vocabulary, make sure the associated word embeddings are fine-tuned or trained.\n"
     ]
    }
   ],
   "source": [
    "r = next(read_dataset(files[0]))"
   ]
  },
  {
   "cell_type": "code",
   "execution_count": 30,
   "id": "43e30c95",
   "metadata": {},
   "outputs": [
    {
     "data": {
      "text/plain": [
       "'<|begin_of_text|>288 KANUN [DISEMBER 2014][ULASAN BUKU]ULASAN BUKU Mohd Bakri IshakUndang-undang dan Pengurusan Sisa Industri di Malaysia dan Eropah, 2013.180 halaman, ISBN9789834610135Pengulas: Shamsuddin Suhor sudin@ukm.edu.myFakulti Undang-undang,Universiti Kebangsaan Malaysia,43650 Bangi, Selangor Darul Ehsan, MALAYSIA.Buku ini mengandungi 12 bab yang memperkatakan pelbagai perkara berkaitan dengan sisa industri. Setiap bab dilihat mampu berdiri dengan sendiri bagi menceritakan sesuatu yang berkaitan dengan sisa, sama ada sisa dari sudut falsafah seperti yang dijelaskan dalam Bab 2, atau sisa industri dari sudut perundangan yang melibatkan Bab 3, 4, 5 dan 6, atau pengurusan sisa industri melalui pendekatan bukan perundangan seperti dalam Bab 9, 10, dan 11. Seterusnya buku ini membincangkan kes yang menyentuh isu pencemaran alam sekitar secara umum dan/atau yang khusus mengenai sisa industri yang telah diputuskan oleh mahkamah di negara ini seperti yang dibincangkan dalam Bab 7 dan 8 buku ini. Penulis dalam Bab 12, membuat sedikit ulasan ringkas dan padat tentang peruntukan Dasar Alam Sekitar Negara yang telah diluluskan oleh kerajaan bagi menyokong keperluan dan kepentingan kewujudan perundangan alam sekitar di negara ini.Terdapat tiga perkara utama yang dibincangkan oleh penulis dalam buku ini, iaitu pertama, memahami falsafah alam sekitar secara umum; kedua, peruntukan undang-undang alam sekitar; dan ketiga, pengurusan persekitaran dan alam sekeliling. Ketiga-tiga perkara ini kemudiannya diarahkan kepada satu isu sahaja, iaitu sisa. Dalam pelbagai maksud sisa yang terdapat dalam peristilahan alam sekitar ini, sisa yang dimaksudkan dalam perbincangan buku ini ialah sisa industri. Penulis kemudiannya membawa pembaca untuk melihat perkembangan yang berlaku di luar negara dengan membuat perbandingan antara Malaysia dengan Eropah, iaitu cara atau kaedah sisa ini diuruskan dari sudut perundangan dan bukan perundangan. Tajuk buku ini Undang-undang dan Pengurusan Sisa Industri di Malaysia dan Eropah membawa maklumat yang berkisar tentang pengurusan sisa industri di Malaysia dan Eropah yang menyentuh dari sudut perundangan semata-mata.25 KANUN (2) 289Undang-undang dan Pengurusan Sisa Industri di Malaysia dan EropahShamsuddin SuhorBuku ini menyentuh erti alam sekitar dan falsafah di sebalik pentingnya perlindungan terhadap alam sekitar. Penerangan tentang aspek ini dibuat secara ringkas dengan membawa masuk soal nilai (instrumental, inheren dan intrinsik) dan soal etika (etika alam sekitar, antroposentrik, biosentrik dan ekosentrik). Cara ini memudahkan pembaca mendapat sedikit gambaran tentang falsafah alam sekitar tanpa merujuk tulisan asal bidang berkenaan oleh penulis seperti Edwin W.Tucker (1992), James Connelly dan Graham Smith (1995), Passmore (1974), Hargrove (1989) atau Van Dee Veer (1979). Semua pandangan penulis tersebut dimuatkan dalam Bab 2. Turut dimasukkan secara ringkas tiga tradisi moral alam sekitar, iaitu pengawasan (stewardship), utilitarianisme dan pemaknaan kehidupan atau penghormatan kepada kehidupan. Penerangan dalam bahagian ini terlalu ringkas dan ada kemungkinan menimbulkan tanda tanya kepada pembaca maksud yang cuba hendak disampaikan oleh penulis. Walau bagaimanapun Bab 2 bahagian falsafah alam sekitar ini membawa pembaca memahami kepentingan alam sekitar dari sudut falsafahnya secara umum.Topik tentang sisa, sisa buangan dan atau sisa industri terdapat dalam Bab 3. Penulis memberikan takrif umum dan spesifik kepada ungkapan tersebut berdasarkan peruntukan undang-undang bertulis yang terpakai di negara ini dan juga perundangan di luar negara di samping penjelasan yang dibuat oleh penulis buku bidang berkenaan seperti Neil Hawke(1995), Stuart Bell dan McGillivary (2001), dan John Garbut (1995). Penjelasan yang dibuat secara terperinci oleh penulis dengan merujuk buku-buku dan himpunan penulis luar yang ramai membolehkan pembaca memahami dan membezakan setiap satu ungkapan berkenaan. Hal ini sangat membantu pembaca untuk memahami erti sisa dalam erti kata yang luas.Sisa dan bukan sisa dikenal pasti melalui penjenisan atau pengkategorian yang dibuat melalui tafsiran undang-undang. Sisa atau buangan yang terhasil atau yang dijana oleh industri perlu diuruskan sebaik mungkin sama ada mengikut amalan biasa yang terbaik atau peruntukan undang-undang yang dibuat mengenai pengurusannya. Buku ini melalui Bab 3 menceritakan pengurusan sisa industri dilakukan berdasarkan lima garis panduan, iaitu pengelakan (prevention), kitar semula dan guna semula, pengoptimum dan pelupusan akhir, pengangkutan dan tindakan pemulihan. Salah satu sisa industri yang turut dibincangkan agak panjang lebar dalam buku ini adalah yang berkaitan dengan sisa peralatan elektrik dan elektronik. Perkara ini telah diketengahkan oleh penulis kerana sisa peralatan elektrik dan elektronik tidak disebut dalam perundangan di Malaysia secara khusus. Bab 10 buku ini telah memberikan suatu gambaran umum pengurusan sisa berkenaan apabila penulis menyentuh perbincangannya mengenai dasar Kesatuan Eropah (EC) berkaitan sisa berkenaan dalam Directive 2002/96 EC of the European Parliament and of the Council on Waste Electrical and 290 KANUN [DISEMBER 2014]Electronic Equipment (WEEE)(Brussels, 27 January 2003) sebagai suatu makluman penting kepada pembaca.Semua urusan pengendalian sisa sama ada sisa buangan atau sisa industri kini dibuat berdasarkan undang-undang sedia ada dan hal ini dijelaskan oleh penulis dengan melihat amalan di Malaysia yang dibincangkan dalam Bab 4 dan 5. Perundangan berkaitan dengan alam sekitar dan kawalan pencemaran disenaraikan oleh penulis dan dibuat ulasan mengenainya dengan jelas seperti Akta Kualiti Alam Sekeliling 1975, Akta Kerajaan Tempatan 1979 serta undang-undang kecil atau peraturan-peraturan yang dibuat di bawah Akta berkenaan. Beberapa buah industri turut dikenal pasti seperti kilang kelapa sawit dan kilang getah yang terlibat dalam pelepasan buangan mempunyai peruntukan undang-undangnya tersendiri yang terikat di bawah Akta Kualiti Alam Sekeliling 1975 yang mengawal setiap aktivitinya. Memandangkan buku ini bersifat perbandingan, penulis membawa masuk amalan pengurusan sisa industri di Eropah seperti United Kingdom dan Sepanyol, dan turut serta dimasukkan ialah Amerika Syarikat. Penulis juga merujuk undang-undang bertulis yang terdapat di negara berkenaan seperti Control of Pollution Act 1974 dan Environmental Protection Act 1990 (United Kingdom), The Comprehensive Environmental Response, Compensation and Liability Act 1980 (Amerika Syarikat) serta piawaian dan peraturan berkaitan pengurusan sisa industri dan persekitaran perindustrian di Eropah.Buku ini secara umumnya berupaya memberikan maklumat umum kepada pembaca mengenai cara bagaimana Malaysia menguruskan sisa industri negara dan dalam masa yang sama membuat kajian perbandingan dengan beberapa negara luar, seperti United Kingdom, Sepanyol dan Amerika Syarikat khususnya dari sudut perundangan dan pengurusan. Walau bagaimanapun, pembaca tidak boleh mengharapkan buku ini sebagai satu dokumen yang menggambarkan tentang pengurusan sisa yang lengkap dan terkini kerana pengurusan sisa merupakan satu bidang yang sangat rumit. Pengurusan sisa melibatkan banyak perkara. Dari sudut perundangan sahaja antaranya termasuklah masalah memberikan takrif kepada sisa itu sendiri, jenis sisa dan pengkelasan yang berbeza-beza, penjanaan, pengumpulan, penstoran, rawatan, pengangkutan, pelupusan, peruntukanperundangan, amalan terbaik menguruskan sisa dan sebagainya. Hal ini tidak termasuk sisa yang dapat dijadikan sebagai sumber ekonomi atau perkhidmatan yang mendatangkan keuntungan. Sisa sebagai satu tajuk penulisan adalah sangat luas dan buku ini hanya mengkhususkan kepada sisa industri sahaja. Selain itu, pembaca harus faham bahawa undang-undang merupakan sesuatu yang dinamik, sentiasa berubah-ubah mengikut perkembangan dan keperluan semasa. Apabila tiga isu, iaitu undang-undang, pengurusan dan teknologi digabungkan dalam satu buku, pembaca perlu peka terhadap perkembangan 25 KANUN (2) 291Undang-undang dan Pengurusan Sisa Industri di Malaysia dan EropahShamsuddin Suhorterkini sama ada dalam undang-undang itu sendiri atau cara pengurusan yang terbaik yang telah ditemui atau kemunculan ciptaan baharu atau teknologi terkini dalam menangani isu sisa ini. Sebagai contoh, Peraturan-Peraturan Kualiti Alam Sekeliling (Kumbahan dan Effluen Industri) 1979 telah disebut dan dibincangkan dalam buku ini, yang menyatakan tentang pengurusan kumbahan dan efluen industri. Peraturan 1979 ini sebetulnya telahpun dimansuhkan dan digantikan dengan Peraturan-Peraturan Kualiti Alam Sekeliling (Kumbahan) 2009 dan Peraturan-Peraturan Kualiti Alam Sekeliling (Efluen Perindustrian) 2009 yang telah diluluskan melalui Akta Pindaan A1441 pada 12 Januari 2013 (PU(B)429/2012). Sungguhpun demikian, tidaklah bermakna buku ini sudah terkebelakang atau sedikit ketinggalan sebaliknya apa-apa perubahan dalam perundangan adalah untuk tujuan penambahbaikan dan peningkatan perlindungan keselamatan persekitaran. Kesimpulan umum mengenai buku ini ialah maklumatnya tetap penting kerana sifatnya yang santai memulakan cerita tentang sejarah ringkas kemunculan sisa industri di negara ini dan penjanaan sisa berkenaan. Sisa berkenaan kemudiannya telah diperundangkan dan perundangan yang berkaitan telah disenaraikan dan dijelaskan oleh penulis bertujuan untuk memberikan tatacara terbaik bagaimana semua sisa berkenaan diuruskan. Pelanggaran terhadap perundangan sedia ada akan mengundang pendakwaan di mahkamah dan kes yang berkaitan dengan pencemaran dan pelanggaran statut juga telah dibincangkan dalam buku ini. Seterusnya buku ini membuat perbandingan dengan beberapa negara luar dari segi pengurusan sisa dan kemudiannya disesuaikan pula dengan beberapa konvensyen dan protokol yang berkaitan pengurusan sisa. Sebagai kesimpulannya penulis meletakkan pandangannya dalam bentuk cadangan dalam Bab 1 tentang pengurusan sisa industri di Malaysia dan bukannya pada bahagian akhir atau penutup buku ini. Cara penulis mengemukakan cadangan dalam Bab 1 merupakan suatu kelainan, yang jarang dilakukan yang mengundang pembaca untuk mengetahui sejauh manakah cadangannya itu dapat diterima pakai ketika membaca bab-bab seterusnya dalam buku ini. Satu perkara yang ketara ialah pertambahan buku dalam bahasa Melayu khususnya buku ini membolehkan masyarakat umum atau pihak tertentu yang terlibat dalam industri kecil dan sederhana atau berskala besar memahami ilmu perundangan berkenaan dalam bahasa Melayu.<|end_of_text|><|begin_of_text|>24 KANUN (2) 275Penyakit Berjangkit: Isu Kesihatan Awam dalam Aspek SekuritiNor Anita Abdullah dan Rohani Abdul Rahim[MAKALAH] PENYAKIT BERJANGKIT: ISU KESIHATAN AWAM DALAM ASPEK SEKURITINor Anita Abdullahnoranita_abdullah@yahoo.comKolej Undang-undang, Kerajaan dan Pengajian AntarabangsaUniversiti Utara MalaysiaRohani Abdul Rahimrar@ukm.myFakulti Undang-undangUniversiti Kebangsaan MalaysiaAbstrakUmum menganggap bahawa isu penyakit berjangkit hanya satu isu sosial yang melibatkan sebilangan kecil populasi manusia atau segelintir individu yang dijangkiti sahaja. Walau bagaimanapun, isu penyakit berjangkit yang dianggap remeh ini berkeupayaan menggugat tahap kesihatan sekali gus menjejaskan sekuriti negara. Dalam aspek ini, kemunculan penyakit berjangkit tidak mengenal batas sempadan dan geografi. Isu kesihatan menjadi satu isu global dan pada masa yang sama melibatkan isu sekuriti negara. Pelbagai konflik akan tercetus akibatnya masyarakat akan menyalahkan pihak yang bertanggungjawab dalam pengawalan dan pencegahan penyakit berjangkit. Persoalan yang akan dikupas ialah penyakit berjangkit yang melanda adakah boleh mengancam sekuriti negara, atau hanya dianggap sebagai isu sosial semata-mata. Adakah undang-undang dapat berperanan dalam melaksanakan perlindungan dan pengawalan terhadap penyakit berjangkit sekali gus menjaga sekuriti negara daripada ancaman penyakit berjangkit. Kata kunci: Penyakit berjangkit, kesihatan awam, sekuriti, bencana, undang-undang.AbstractPeoples always assumed that the issue of infectious disease was only a social issue which inflicted to a small number of people in the society or to those who were specially infected. Peoples will never deem to expect that the unimportant issue of infectious disease will able to disrupt the 7 Penyakit berjangkit 9 nov 2012 cs5.indd 275 11/27/12 4:30 PM276 KANUN [DISEMBER 2012]human health as well as affecting the national security. In this aspect, the emergence of infectious disease ignores geographical boundaries where most of the countries in the world will suffer the threats of infectious disease as a disaster. Health issue becomes a global issue and at the same time it involves the issue of national security. All sorts of conflicts will arise when people in the society will blame the responsible authority for the failure of controlling and preventing the infectious diseases. The questions to be analyzed: whether the recent existence of infectious disease could threaten the national security or just a social issue per se? If it is a need to protect the people, whether the law is responsible in performing the protection and control of infectious diseases and at the same time able to protect the national security from the threat of infectious diseases?Keywords: Infectious diseases, public health, security, disaster, lawsPENGENALANPelbagai bentuk ancaman sama ada yang berbentuk fizikal mahupun psikologi yang berlaku di dunia kini yang mencetuskan kebimbangan dalam masyarakat. Jika dahulu keganasan dianggap sebagai ancaman keselamatan, kini, masalah kesihatan juga memberikan ancaman yang sama. Penyakit berjangkit merupakan satu fenomena biososial.1 Kewujudannya tidak mengenal batas negara dan tempat. Penyakit berjangkit boleh merebak daripada manusia kepada manusia atau daripada haiwan kepada manusia. Adakalanya penyakit ini wujud dalam dua keadaan yang berbeza, iaitu yang bersifat epidemik dan endemik yang bukan hanya menjadi isu negara malahan turut menjadi isu global.2 Epidemik3 penyakit berjangkit tidak mempunyai sempadan sama ada pada peringkat kebangsaan atau antarabangsa. Malahan penyakit yang wujud tidak mengenal batas negara dan tempat. Kesemua negara didunia boleh mengalami masalah ini. Oleh itu, terdapat beberapa faktor utama yang perlu diberikan perhatian dalam konteks perlindungan kesihatan awam dalam aspek ancaman penyakit berjangkit. Kemunculan pelbagai jenis penyakit berjangkit yang serius dan berbahaya seperti Sindrom Pernafasan Akut yang Teruk (Severe Acute Respiratory System) atau SARS, virus Nipah, selesema burung, Japanese Enchephalitis 1 Fatin Hamamah, 2005, Kemunculan Penyakit Berjangkit dan Kesannya Terhadap Manusia di Malaysia, Laporan Penyelidikan, SARI 153-168, hlm 1.2 Muchtar Abdullah Baraniah, 2009, Mewaspadai Penyakit Berbahaya pada Hewan dan Ternak, Jakarta: Penebar Swadaya, hlm 13.3 “Epidemik” bermaksud wabak penyakit yang tercetus di satu tempat pada satu-satu masa. “Endemik” bermaksud penyakit yang wujud di daerah atau tempat tertentu. “Pandemik” bermaksud wabak penyakit yang telah merebak keseluruh dunia.7 Penyakit berjangkit 9 nov 2012 cs5.indd 276 11/27/12 4:30 PM24 KANUN (2) 277Penyakit Berjangkit: Isu Kesihatan Awam dalam Aspek SekuritiNor Anita Abdullah dan Rohani Abdul Rahim(JE) dan sebagainya menyebabkan kesihatan awam berada pada tahap yang membimbangkan. Ancaman penyakit berjangkit digeruni sebagaimana ancaman keganasan berbentuk fizikal seperti peperangan. Situasi ini memberi petanda bahawa manusia perlu sentiasa berada dalam keadaan bersiap sedia dalam menghadapi sebarang kemungkinan serangan penyakit berjangkit pada masa akan datang. Pertubuhan Kesihatan Sedunia menyatakan bahawa kebarangkalian penyakit baharu akan wujud hampir setiap tahun di seluruh dunia, dan Malaysia4 tidak terkecuali daripada masalah ini.PENGENALAN UNDANG-UNDANG KESIHATAN AWAM Pertubuhan Kesihatan Sedunia mendefinisikan kesihatan awam sebagai “keadaan fizikal, mental dan sosial yang sempurna, iaitu bukan sekadar ketiadaan penyakit dan ketidakupayaan semata-mata”.5 Dasar kesihatan awam ini diperkenalkan pada peringkat negara dan juga antarabangsa bagi menandakan bahawa tanggungjawab menjaga kesihatan awam merupakan tanggungjawab bersama, sama ada pada peringkat negara mahupun antarabangsa. Dalam hal ini, Artikel 25 Deklarasi Hak Kemanusiaan Sejagat menyatakan hak perlindungan kesihatan terhadap seseorang manusia, ialah:...semua orang mempunyai hak mendapatkan taraf kehidupan yang cukup untuk mendapatkan kesihatan dan kesejahteraan diri dan keluarganya, termasuk penjagaan makanan, pakaian, perumahan dan perubatan dan perkhidmatan sosial, dan berhak kepada keselamatan dalam sekiranya tidak mempunyai pekerjaan, kesakitan, ketidakupayaan, wanita yang ditinggalkan, orang tua atau lain-lain kekurangan dalam kehidupan yang berada di luar kawalan....6Hak terhadap kesihatan ialah hak seorang manusia. Maka, setiap manusia berhak mendapat perlindungan kesihatan. Pada tahun 1978, Pertubuhan Kesihatan Sedunia turut menambah elemen hak kemanusiaan dan cara untuk mendapatkan keadilan sosial dalam aspek kesihatan awam.7 Walaupun fokus utama kesihatan awam ialah populasi masyarakat awam, tetapi pada masa yang sama setiap manusia mempunyai hak yang sama dalam mendapatkan perkhidmatan kesihatan dan diberikan perlindungan kesihatan yang sempurna demi mencapai kehidupan yang sihat dan sempurna dalam masyarakat itu sendiri. 4 Abdullah Fahim, 2009. Ancaman Penyakit Berbahaya. Selangor: Kota Ilmiah, hlm 32.5 Laman Sesawang World Health Organization http://who.int/about/definition/en/print 6 Laman Sesawang Universal Declaration of Human Rights htp://un.org/en/documents/udhr 7 Anthony R. Kovner dan James R. Knickman, 2008. Health Delivery in the United States. New York: Springer Publishing Company, hlm 92.7 Penyakit berjangkit 9 nov 2012 cs5.indd 277 11/27/12 4:30 PM278 KANUN [DISEMBER 2012]Dari perspektif undang-undang pula, Institut Perubatan United Kingdom mendefinisikan undang-undang kesihatan awam sebagai:...menjadi tanggungjawab undang-undang kerajaan untuk memastikan keadaan kesihatan rakyat (contohnya; untuk mengenal pasti, mencegah, dan memperbaiksebarang risiko kesihatan terhadap penduduk) dan had kuasa kerajaan untuk menghalang kuasa autonomi, privasi, kebebasan atau apa-apa kepentingan individu yang dilindungi secara sah terhadap perlindungan atau promosi kesihatan dalam masyarakat....8 Penekanan diberikan terhadap aspek undang-undang dan tanggungjawab kerajaan yang memainkan peranan utama bagi memastikan agar kesihatan yang ideal diberikan kepada rakyatnya. Bagi perspektif Amerika Syarikat pula, undang-undang kesihatan awam menerangkan bahawa tanggungjawab mana-mana individu serta tugas pihak kerajaan untuk bertindak memastikan kesihatan terjamin dalam masyarakat sebagaimana pandangan Lawrence O. Gostin yang menyatakan bahawa:...undang-undang kesihatan awam tidak harus dilihat sebagai satu rahsia, peraturan yang tidak sistematik dan tidak teratur sebagaimana yang terkandung dalam undang-undang kesihatan negeri. Sebaliknya, undang-undang kesihatan awam harus dilihat secara meluas sebagai satu kuasa dan tanggungjawab kerajaan dalam memastikan keadaan kesihatan penduduk terjamin....9 Dalam aspek ini, undang-undang kesihatan meliputi konteks keseluruhan yang melibatkan pihak berkuasa yang mempunyai peranan dan bertanggungjawab untuk melaksanakan sebarang perancangan dan pelaksanaan kesihatan terhadap masyarakat.Jika dikaji kewujudan undang-undang dari perspektif kesihatan awam, sejarah membuktikan bahawa undang-undang antarabangsa berperanan dalam proses pengawalan dan pengawasan secara menyeluruh terhadap isu penyakit berjangkit. Penyatuan undang-undang pada peringkat global telah menyatukan beberapa kaedah tertentu dalam aspek kesihatan dalam menangani, mengawal dan mencegah penyakit berjangkit, seperti proses kuarantin dan pengawasan. Sebelum abad ke-19, isu penyakit berjangkit tidak melibatkan campur tangan pada peringkat antarabangsa apatah lagi kewujudan undang-undang antarabangsa dalam menangani masalah 8 Lawrence O. Gostin dan James G. Hodge, 2002, Turning Point: Colloborating For A New Century in Public Health: State Public Health Assessment Law Report, Washington: Public Health Statute Modernization National Excellent Colloborative, hlm 10. 9 David P. Fidler, “Gostin on Public Health Law” dlm. Yale Journal of Health Policy, Law and Ethics, 1, (303-318), hlm 306, 2001.7 Penyakit berjangkit 9 nov 2012 cs5.indd 278 11/27/12 4:30 PM24 KANUN (2) 279Penyakit Berjangkit: Isu Kesihatan Awam dalam Aspek SekuritiNor Anita Abdullah dan Rohani Abdul Rahimtersebut. Ketika itu pentadbiran pada peringkat negeri mempunyai polisi menguruskan ancaman penyakit berjangkit tanpa campur tangan atau kerjasama antarabangsa.10 Namun begitu, melalui peralihan dan perubahan zaman, kemunculan penyakit berjangkit berada pada tahap yang membimbangkan terutamanya kepantasan merebaknya penyakit berjangkit semakin tidak terkawal. Perhubungan antara negara melalui sistem pengangkutan turut menjadi punca utama merebaknya penyakit di dunia. Pada tahun 1851, undang-undang antarabangsa telah diperkenalkan sebagai penghubung antara peruntukan undang-undang dengan pengawalan dan pencegahan penyakit berjangkit dalam aspek kesihatan awam secara global. Persidangan pertama pengenalan undang-undang Antarabangsa diadakan di Perancis, iaitu Persidangan Kebersihan Antarabangsa yang dihadiri oleh 11 negara Eropah. Bermula dari tahun 1851 sehingga berakhir abad ke-19, sepuluh persidangan11 telah diadakan dan lapan daripadanya telah melalui proses rundingan yang melibatkan isu penyakit berjangkit yang merebak tanpa mengenal batas sempadan, seperti kolera (cholera), sampar (plague) dan demam kuning (yellow fever).12 Namun begitu, Konvensyen Kebersihan Antarabangsa yang diadakan pada tahun 1903 merupakan perintis kepada pertubuhan undang-undang antarabangsa yang pertama dalam aspek pengawalan penyakit berjangkit, menggantikan triti terdahulu yang dicapai pada abad ke-19. Terdapat tiga asas utama dalam undang-undang antarabangsa ini yang iaitu:1. tanggungjawab memaklumkan kepada negara lain akan kemunculan penyakit berjangkit tertentu;2. mengehadkan sistem perhubungan antaranegara luar dengan mana-mana negara yang berdepan dengan ancaman penyakit berjangkit; dan3. pelibatan organisasi antarabangsa berkaitan aspek kesihatan.1310 David P. Fidler, “Emerging Trends in International Law Concerning Global Infectious Disease Control” dlm. Emerging Infectious Disease 9:3, hlm 285, 2003.11 Persidangan tersebut di adakan pada tahun 1851, 1859, 1866, 1874, 1881, 1885, 1892, 1893, 1894 dan 1897 diadakan dan empat daripada kesepuluh triti tersebut (tahun 1892, 1893, 1894 dan 1897) berkenaan pengawalan penyakit berjangkit telah berjaya dicapai sebelum berakhirnya abad ke-19.12 Obijor Aginam, “International Law and Communicable Diseases” dlm. Bulletin of World Health Organization, 80:12), hlm 946, 2002. http://www.who.int/bulletin/archieve/80(12)946.pdf (28 April 2010).13 David P. Fidler, “The Role of International Law in the Control of Emerging Infectious Diseases” dlm. Bulletin of Institute Pastuer, 95 (57-72), hlm 59, (1997).7 Penyakit berjangkit 9 nov 2012 cs5.indd 279 11/27/12 4:30 PM280 KANUN [DISEMBER 2012]MEKANISME UNDANG-UNDANG ANTARABANGSA TERHADAP KESIHATAN AWAM DALAM KONTEKS PENYAKIT BERJANGKITMelalui pengenalan undang-undang antarabangsa, beberapa mekanisme perundangan berkenaan isu penyakit berjangkit diperuntukkan memandangkan isu ini merupakan isu global yang tidak mengenal batas sempadan. Jika dahulu, isu kesihatan awam hanya melibatkan pihak doktor dan para epidemiologi,14 namun pada abad ke-19 bermula peralihan apabila isu kesihatan awam menjadi isu antarabangsa. Oleh itu, undang-undang antarabangsa diperlukan bagi memastikan pelaksanaan setiap tindakan untuk melindungi kesihatan awam pada peringkat global dapat dilaksanakan. Penubuhan dan pengenalan Pertubuhan Kesihatan Sedunia dan Peraturan Kesihatan Antarabangsa dibuat bertujuan memastikan hal tersebut. Pertubuhan ini menjadi penyumbang utama dari sudut perundangan dan menjadi badan yang mengenal pasti risiko penyebaran jangkitan penyakit pada peringkat antarabangsa dan menjalinkan kerjasama secara global dan sistematik dengan negara luar.Pertubuhan Kesihatan Sedunia memainkan peranan penting dalam perancangan serta pelan tindakan terhadap pengawasan penyakit berjangkit pada peringkat global. Pengesahan letusan (outbreak verification)15 diperkenalkan oleh Pertubuhan Kesihatan Sedunia bertujuan untuk “bertindak”, “mengenal pasti” dan “memberikan respons” sebagai langkah persediaan sekiranya berlaku atau akan berlaku sebarang situasi kemunculan penyakit berjangkit dengan secepat mungkin ke peringkat global selaras dengan objektif dan matlamat Pertubuhan Kesihatan Sedunia, iaitu “kesihatan untuk semua”. Pelbagai organisasi di serata dunia telah ditubuhkan sebagai rangkaian global dan wakil beberapa negara turut dilantik bagi memastikan segala tindakan yang dijalankan oleh Pertubuhan Kesihatan Sedunia dapat dilaksanakan di seluruh dunia.16 Peraturan Kesihatan Antarabangsa pula merupakan mekanisme perundangan dalam menangani dan menghadapi masalah penularan penyakit berjangkit dan memastikan keselamatan masyarakat awam berada pada tahap yang paling selamat. Sekiranya berlaku atau tercetus apa-apa tanda epidemik penyakit berjangkit yang melibatkan tiga jenis17 jangkitan utama di negara anggota kepada Pertubuhan Kesihatan Sedunia (secara automatiknya wajib mematuhi peraturan dalam Peraturan Kesihatan Antarabangsa) dan perlu 14 Pakar kesihatan yang membuat kajian mengenai penyakit epidemik.15 Artikel 10, International Health Regulation (2005), WHO, Geneva, 2006.16 Jess T. Ford, “Global Health: Framework for Infectious Diseases Surveillance” dlm. G.A.O, National Security and International Affairs Division, United States General Accounting Office Washington, 2000, hlm 11.17 Pada awal penubuhannya, IHR hanya membatasi kepada enam jenis penyakit berjangkit sahaja iaitu Cholera, plague dan yellow fever, smallpox, relapsing fever dan typhus, tetapi selepas tahun 1969, dikurangkan kepada tiga jenis penyakit berjangkit sahaja, iaitu Cholera, plague dan yellow fever.7Penyakit berjangkit 9 nov 2012 cs5.indd 280 11/27/12 4:30 PM24 KANUN (2) 281Penyakit Berjangkit: Isu Kesihatan Awam dalam Aspek SekuritiNor Anita Abdullah dan Rohani Abdul Rahimmemaklumkan Pertubuhan Kesihatan Antarabangsa dengan kadar segera. Tindakan akan diambil berdasarkan maklumat tersebut dengan pemberitahuan kepada negara anggota yang lain sebagai langkah persediaan awal terhadap sebarang kebarangkalian penularan penyakit berjangkit tersebut.18 Pendekatan Peraturan Kesihatan Antarabangsa bagi menangani dan menghadapi situasi ini adalah dengan membuat semakan semula terhadap senarai penyakit berjangkit. Pada peringkat awal penubuhannya, hanya terdapat enam jenis penyakit berjangkit sahaja yang disenaraikan, iaitu kolera, sampar, demam kuning, cacar, demam berulang, dan tifus. Selepas tahun 1969, senarai ini dikurangkan kepada tiga jenis penyakit sahaja, iaitu kolera, sampar dan demam kuning. Oleh itu, negara yang mengalami penyakit berjangkit yang tidak tersenarai seperti influenza (SARS, H1N1 dan H5N1) tidak wajib melaporkannya kepada Pertubuhan Kesihatan Sedunia. Namun, semakan semula telah dibuat dan hasilnya dikenali sebagai Peraturan Kesihatan Antarabangsa 2005 dengan skop yang lebih luas dan responsif. Senarai penyakit tidak lagi menjadi rujukan'"
      ]
     },
     "execution_count": 30,
     "metadata": {},
     "output_type": "execute_result"
    }
   ],
   "source": [
    "tokenizer.decode(r)"
   ]
  },
  {
   "cell_type": "code",
   "execution_count": 33,
   "id": "dd93d7c6",
   "metadata": {},
   "outputs": [
    {
     "data": {
      "text/plain": [
       "array([128000,  15287,    735, ...,    436,   9832,  28824], dtype=uint32)"
      ]
     },
     "execution_count": 33,
     "metadata": {},
     "output_type": "execute_result"
    }
   ],
   "source": [
    "r"
   ]
  },
  {
   "cell_type": "code",
   "execution_count": 34,
   "id": "32f86445",
   "metadata": {},
   "outputs": [
    {
     "data": {
      "text/plain": [
       "'<|begin_of_text|>288 KANUN [DISEMBER 2014][ULASAN BUKU]ULASAN BUKU Mohd Bakri IshakUndang-undang dan Pengurusan Sisa Industri di Malaysia dan Eropah, 2013.180 halaman, ISBN9789834610135Pengulas: Shamsuddin Suhor sudin@ukm.edu.myFakulti Undang-undang,Universiti Kebangsaan Malaysia,43650 Bangi, Selangor Darul Ehsan, MALAYSIA.Buku ini mengandungi 12 bab yang memperkatakan pelbagai perkara berkaitan dengan sisa industri. Setiap bab dilihat mampu berdiri dengan sendiri bagi menceritakan sesuatu yang berkaitan dengan sisa, sama ada sisa dari sudut falsafah seperti yang dijelaskan dalam Bab 2, atau sisa industri dari sudut perundangan yang melibatkan Bab 3, 4, 5 dan 6, atau pengurusan sisa industri melalui pendekatan bukan perundangan seperti dalam Bab 9, 10, dan 11. Seterusnya buku ini membincangkan kes yang menyentuh isu pencemaran alam sekitar secara umum dan/atau yang khusus mengenai sisa industri yang telah diputuskan oleh mahkamah di negara ini seperti yang dibincangkan dalam Bab 7 dan 8 buku ini. Penulis dalam Bab 12, membuat sedikit ulasan ringkas dan padat tentang peruntukan Dasar Alam Sekitar Negara yang telah diluluskan oleh kerajaan bagi menyokong keperluan dan kepentingan kewujudan perundangan alam sekitar di negara ini.Terdapat tiga perkara utama yang dibincangkan oleh penulis dalam buku ini, iaitu pertama, memahami falsafah alam sekitar secara umum; kedua, peruntukan undang-undang alam sekitar; dan ketiga, pengurusan persekitaran dan alam sekeliling. Ketiga-tiga perkara ini kemudiannya diarahkan kepada satu isu sahaja, iaitu sisa. Dalam pelbagai maksud sisa yang terdapat dalam peristilahan alam sekitar ini, sisa yang dimaksudkan dalam perbincangan buku ini ialah sisa industri. Penulis kemudiannya membawa pembaca untuk melihat perkembangan yang berlaku di luar negara dengan membuat perbandingan antara Malaysia dengan Eropah, iaitu cara atau kaedah sisa ini diuruskan dari sudut perundangan dan bukan perundangan. Tajuk buku ini Undang-undang dan Pengurusan Sisa Industri di Malaysia dan Eropah membawa maklumat yang berkisar tentang pengurusan sisa industri di Malaysia dan Eropah yang menyentuh dari sudut perundangan semata-mata.25 KANUN (2) 289Undang-undang dan Pengurusan Sisa Industri di Malaysia dan EropahShamsuddin SuhorBuku ini menyentuh erti alam sekitar dan falsafah di sebalik pentingnya perlindungan terhadap alam sekitar. Penerangan tentang aspek ini dibuat secara ringkas dengan membawa masuk soal nilai (instrumental, inheren dan intrinsik) dan soal etika (etika alam sekitar, antroposentrik, biosentrik dan ekosentrik). Cara ini memudahkan pembaca mendapat sedikit gambaran tentang falsafah alam sekitar tanpa merujuk tulisan asal bidang berkenaan oleh penulis seperti Edwin W.Tucker (1992), James Connelly dan Graham Smith (1995), Passmore (1974), Hargrove (1989) atau Van Dee Veer (1979). Semua pandangan penulis tersebut dimuatkan dalam Bab 2. Turut dimasukkan secara ringkas tiga tradisi moral alam sekitar, iaitu pengawasan (stewardship), utilitarianisme dan pemaknaan kehidupan atau penghormatan kepada kehidupan. Penerangan dalam bahagian ini terlalu ringkas dan ada kemungkinan menimbulkan tanda tanya kepada pembaca maksud yang cuba hendak disampaikan oleh penulis. Walau bagaimanapun Bab 2 bahagian falsafah alam sekitar ini membawa pembaca memahami kepentingan alam sekitar dari sudut falsafahnya secara umum.Topik tentang sisa, sisa buangan dan atau sisa industri terdapat dalam Bab 3. Penulis memberikan takrif umum dan spesifik kepada ungkapan tersebut berdasarkan peruntukan undang-undang bertulis yang terpakai di negara ini dan juga perundangan di luar negara di samping penjelasan yang dibuat oleh penulis buku bidang berkenaan seperti Neil Hawke(1995), Stuart Bell dan McGillivary (2001), dan John Garbut (1995). Penjelasan yang dibuat secara terperinci oleh penulis dengan merujuk buku-buku dan himpunan penulis luar yang ramai membolehkan pembaca memahami dan membezakan setiap satu ungkapan berkenaan. Hal ini sangat membantu pembaca untuk memahami erti sisa dalam erti kata yang luas.Sisa dan bukan sisa dikenal pasti melalui penjenisan atau pengkategorian yang dibuat melalui tafsiran undang-undang. Sisa atau buangan yang terhasil atau yang dijana oleh industri perlu diuruskan sebaik mungkin sama ada mengikut amalan biasa yang terbaik atau peruntukan undang-undang yang dibuat mengenai pengurusannya. Buku ini melalui Bab 3 menceritakan pengurusan sisa industri dilakukan berdasarkan lima garis panduan, iaitu pengelakan (prevention), kitar semula dan guna semula, pengoptimum dan pelupusan akhir, pengangkutan dan tindakan pemulihan. Salah satu sisa industri yang turut dibincangkan agak panjang lebar dalam buku ini adalah yang berkaitan dengan sisa peralatan elektrik dan elektronik. Perkara ini telah diketengahkan oleh penulis kerana sisa peralatan elektrik dan elektronik tidak disebut dalam perundangan di Malaysia secara khusus. Bab 10 buku ini telah memberikan suatu gambaran umum pengurusan sisa berkenaan apabila penulis menyentuh perbincangannya mengenai dasar Kesatuan Eropah (EC) berkaitan sisa berkenaan dalam Directive 2002/96 EC of the European Parliament and of the Council on Waste Electrical and 290 KANUN [DISEMBER 2014]Electronic Equipment (WEEE)(Brussels, 27 January 2003) sebagai suatu makluman penting kepada pembaca.Semua urusan pengendalian sisa sama ada sisa buangan atau sisa industri kini dibuat berdasarkan undang-undang sedia ada dan hal ini dijelaskan oleh penulis dengan melihat amalan di Malaysia yang dibincangkan dalam Bab 4 dan 5. Perundangan berkaitan dengan alam sekitar dan kawalan pencemaran disenaraikan oleh penulis dan dibuat ulasan mengenainya dengan jelas seperti Akta Kualiti Alam Sekeliling 1975, Akta Kerajaan Tempatan 1979 serta undang-undang kecil atau peraturan-peraturan yang dibuat di bawah Akta berkenaan. Beberapa buah industri turut dikenal pasti seperti kilang kelapa sawit dan kilang getah yang terlibat dalam pelepasan buangan mempunyai peruntukan undang-undangnya tersendiri yang terikat di bawah Akta Kualiti Alam Sekeliling 1975 yang mengawal setiap aktivitinya. Memandangkan buku ini bersifat perbandingan, penulis membawa masuk amalan pengurusan sisa industri di Eropah seperti United Kingdom dan Sepanyol, dan turut serta dimasukkan ialah Amerika Syarikat. Penulis juga merujuk undang-undang bertulis yang terdapat di negara berkenaan seperti Control of Pollution Act 1974 dan Environmental Protection Act 1990 (United Kingdom), The Comprehensive Environmental Response, Compensation and Liability Act 1980 (Amerika Syarikat) serta piawaian dan peraturan berkaitan pengurusan sisa industri dan persekitaran perindustrian di Eropah.Buku ini secara umumnya berupaya memberikan maklumat umum kepada pembaca mengenai cara bagaimana Malaysia menguruskan sisa industri negara dan dalam masa yang sama membuat kajian perbandingan dengan beberapa negara luar, seperti United Kingdom, Sepanyol dan Amerika Syarikat khususnya dari sudut perundangan dan pengurusan. Walau bagaimanapun, pembaca tidak boleh mengharapkan buku ini sebagai satu dokumen yang menggambarkan tentang pengurusan sisa yang lengkap dan terkini kerana pengurusan sisa merupakan satu bidang yang sangat rumit. Pengurusan sisa melibatkan banyak perkara. Dari sudut perundangan sahaja antaranya termasuklah masalah memberikan takrif kepada sisa itu sendiri, jenis sisa dan pengkelasan yang berbeza-beza, penjanaan, pengumpulan, penstoran, rawatan, pengangkutan, pelupusan, peruntukanperundangan, amalan terbaik menguruskan sisa dan sebagainya. Hal ini tidak termasuk sisa yang dapat dijadikan sebagai sumber ekonomi atau perkhidmatan yang mendatangkan keuntungan. Sisa sebagai satu tajuk penulisan adalah sangat luas dan buku ini hanya mengkhususkan kepada sisa industri sahaja. Selain itu, pembaca harus faham bahawa undang-undang merupakan sesuatu yang dinamik, sentiasa berubah-ubah mengikut perkembangan dan keperluan semasa. Apabila tiga isu, iaitu undang-undang, pengurusan dan teknologi digabungkan dalam satu buku, pembaca perlu peka terhadap perkembangan 25 KANUN (2) 291Undang-undang dan Pengurusan Sisa Industri di Malaysia dan EropahShamsuddin Suhorterkini sama ada dalam undang-undang itu sendiri atau cara pengurusan yang terbaik yang telah ditemui atau kemunculan ciptaan baharu atau teknologi terkini dalam menangani isu sisa ini. Sebagai contoh, Peraturan-Peraturan Kualiti Alam Sekeliling (Kumbahan dan Effluen Industri) 1979 telah disebut dan dibincangkan dalam buku ini, yang menyatakan tentang pengurusan kumbahan dan efluen industri. Peraturan 1979 ini sebetulnya telahpun dimansuhkan dan digantikan dengan Peraturan-Peraturan Kualiti Alam Sekeliling (Kumbahan) 2009 dan Peraturan-Peraturan Kualiti Alam Sekeliling (Efluen Perindustrian) 2009 yang telah diluluskan melalui Akta Pindaan A1441 pada 12 Januari 2013 (PU(B)429/2012). Sungguhpun demikian, tidaklah bermakna buku ini sudah terkebelakang atau sedikit ketinggalan sebaliknya apa-apa perubahan dalam perundangan adalah untuk tujuan penambahbaikan dan peningkatan perlindungan keselamatan persekitaran. Kesimpulan umum mengenai buku ini ialah maklumatnya tetap penting kerana sifatnya yang santai memulakan cerita tentang sejarah ringkas kemunculan sisa industri di negara ini dan penjanaan sisa berkenaan. Sisa berkenaan kemudiannya telah diperundangkan dan perundangan yang berkaitan telah disenaraikan dan dijelaskan oleh penulis bertujuan untuk memberikan tatacara terbaik bagaimana semua sisa berkenaan diuruskan. Pelanggaran terhadap perundangan sedia ada akan mengundang pendakwaan di mahkamah dan kes yang berkaitan dengan pencemaran dan pelanggaran statut juga telah dibincangkan dalam buku ini. Seterusnya buku ini membuat perbandingan dengan beberapa negara luar dari segi pengurusan sisa dan kemudiannya disesuaikan pula dengan beberapa konvensyen dan protokol yang berkaitan pengurusan sisa. Sebagai kesimpulannya penulis meletakkan pandangannya dalam bentuk cadangan dalam Bab 1 tentang pengurusan sisa industri di Malaysia dan bukannya pada bahagian akhir atau penutup buku ini. Cara penulis mengemukakan cadangan dalam Bab 1 merupakan suatu kelainan, yang jarang dilakukan yang mengundang pembaca untuk mengetahui sejauh manakah cadangannya itu dapat diterima pakai ketika membaca bab-bab seterusnya dalam buku ini. Satu perkara yang ketara ialah pertambahan buku dalam bahasa Melayu khususnya buku ini membolehkan masyarakat umum atau pihak tertentu yang terlibat dalam industri kecil dan sederhana atau berskala besar memahami ilmu perundangan berkenaan dalam bahasa Melayu.<|end_of_text|><|begin_of_text|>24 KANUN (2) 275Penyakit Berjangkit: Isu Kesihatan Awam dalam Aspek SekuritiNor Anita Abdullah dan Rohani Abdul Rahim[MAKALAH] PENYAKIT BERJANGKIT: ISU KESIHATAN AWAM DALAM ASPEK SEKURITINor Anita Abdullahnoranita_abdullah@yahoo.comKolej Undang-undang, Kerajaan dan Pengajian AntarabangsaUniversiti Utara MalaysiaRohani Abdul Rahimrar@ukm.myFakulti Undang-undangUniversiti Kebangsaan MalaysiaAbstrakUmum menganggap bahawa isu penyakit berjangkit hanya satu isu sosial yang melibatkan sebilangan kecil populasi manusia atau segelintir individu yang dijangkiti sahaja. Walau bagaimanapun, isu penyakit berjangkit yang dianggap remeh ini berkeupayaan menggugat tahap kesihatan sekali gus menjejaskan sekuriti negara. Dalam aspek ini, kemunculan penyakit berjangkit tidak mengenal batas sempadan dan geografi. Isu kesihatan menjadi satu isu global dan pada masa yang sama melibatkan isu sekuriti negara. Pelbagai konflik akan tercetus akibatnya masyarakat akan menyalahkan pihak yang bertanggungjawab dalam pengawalan dan pencegahan penyakit berjangkit. Persoalan yang akan dikupas ialah penyakit berjangkit yang melanda adakah boleh mengancam sekuriti negara, atau hanya dianggap sebagai isu sosial semata-mata. Adakah undang-undang dapat berperanan dalam melaksanakan perlindungan dan pengawalan terhadap penyakit berjangkit sekali gus menjaga sekuriti negara daripada ancaman penyakit berjangkit. Kata kunci: Penyakit berjangkit, kesihatan awam, sekuriti, bencana, undang-undang.AbstractPeoples always assumed that the issue of infectious disease was only a social issue which inflicted to a small number of people in the society or to those who were specially infected. Peoples will never deem to expect that the unimportant issue of infectious disease will able to disrupt the 7 Penyakit berjangkit 9 nov 2012 cs5.indd 275 11/27/12 4:30 PM276 KANUN [DISEMBER 2012]human health as well as affecting the national security. In this aspect, the emergence of infectious disease ignores geographical boundaries where most of the countries in the world will suffer the threats of infectious disease as a disaster. Health issue becomes a global issue and at the same time it involves the issue of national security. All sorts of conflicts will arise when people in the society will blame the responsible authority for the failure of controlling and preventing the infectious diseases. The questions to be analyzed: whether the recent existence of infectious disease could threaten the national security or just a social issue per se? If it is a need to protect the people, whether the law is responsible in performing the protection and control of infectious diseases and at the same time able to protect the national security from the threat of infectious diseases?Keywords: Infectious diseases, public health, security, disaster, lawsPENGENALANPelbagai bentuk ancaman sama ada yang berbentuk fizikal mahupun psikologi yang berlaku di dunia kini yang mencetuskan kebimbangan dalam masyarakat. Jika dahulu keganasan dianggap sebagai ancaman keselamatan, kini, masalah kesihatan juga memberikan ancaman yang sama. Penyakit berjangkit merupakan satu fenomena biososial.1 Kewujudannya tidak mengenal batas negara dan tempat. Penyakit berjangkit boleh merebak daripada manusia kepada manusia atau daripada haiwan kepada manusia. Adakalanya penyakit ini wujud dalam dua keadaan yang berbeza, iaitu yang bersifat epidemik dan endemik yang bukan hanya menjadi isu negara malahan turut menjadi isu global.2 Epidemik3 penyakit berjangkit tidak mempunyai sempadan sama ada pada peringkat kebangsaan atau antarabangsa. Malahan penyakit yang wujud tidak mengenal batas negara dan tempat. Kesemua negara didunia boleh mengalami masalah ini. Oleh itu, terdapat beberapa faktor utama yang perlu diberikan perhatian dalam konteks perlindungan kesihatan awam dalam aspek ancaman penyakit berjangkit. Kemunculan pelbagai jenis penyakit berjangkit yang serius dan berbahaya seperti Sindrom Pernafasan Akut yang Teruk (Severe Acute Respiratory System) atau SARS, virus Nipah, selesema burung, Japanese Enchephalitis 1 Fatin Hamamah, 2005, Kemunculan Penyakit Berjangkit dan Kesannya Terhadap Manusia di Malaysia, Laporan Penyelidikan, SARI 153-168, hlm 1.2 Muchtar Abdullah Baraniah, 2009, Mewaspadai Penyakit Berbahaya pada Hewan dan Ternak, Jakarta: Penebar Swadaya, hlm 13.3 “Epidemik” bermaksud wabak penyakit yang tercetus di satu tempat pada satu-satu masa. “Endemik” bermaksud penyakit yang wujud di daerah atau tempat tertentu. “Pandemik” bermaksud wabak penyakit yang telah merebak keseluruh dunia.7 Penyakit berjangkit 9 nov 2012 cs5.indd 276 11/27/12 4:30 PM24 KANUN (2) 277Penyakit Berjangkit: Isu Kesihatan Awam dalam Aspek SekuritiNor Anita Abdullah dan Rohani Abdul Rahim(JE) dan sebagainya menyebabkan kesihatan awam berada pada tahap yang membimbangkan. Ancaman penyakit berjangkit digeruni sebagaimana ancaman keganasan berbentuk fizikal seperti peperangan. Situasi ini memberi petanda bahawa manusia perlu sentiasa berada dalam keadaan bersiap sedia dalam menghadapi sebarang kemungkinan serangan penyakit berjangkit pada masa akan datang. Pertubuhan Kesihatan Sedunia menyatakan bahawa kebarangkalian penyakit baharu akan wujud hampir setiap tahun di seluruh dunia, dan Malaysia4 tidak terkecuali daripada masalah ini.PENGENALAN UNDANG-UNDANG KESIHATAN AWAM Pertubuhan Kesihatan Sedunia mendefinisikan kesihatan awam sebagai “keadaan fizikal, mental dan sosial yang sempurna, iaitu bukan sekadar ketiadaan penyakit dan ketidakupayaan semata-mata”.5 Dasar kesihatan awam ini diperkenalkan pada peringkat negara dan juga antarabangsa bagi menandakan bahawa tanggungjawab menjaga kesihatan awam merupakan tanggungjawab bersama, sama ada pada peringkat negara mahupun antarabangsa. Dalam hal ini, Artikel 25 Deklarasi Hak Kemanusiaan Sejagat menyatakan hak perlindungan kesihatan terhadap seseorang manusia, ialah:...semua orang mempunyai hak mendapatkan taraf kehidupan yang cukup untuk mendapatkan kesihatan dan kesejahteraan diri dan keluarganya, termasuk penjagaan makanan, pakaian, perumahan dan perubatan dan perkhidmatan sosial, dan berhak kepada keselamatan dalam sekiranya tidak mempunyai pekerjaan, kesakitan, ketidakupayaan, wanita yang ditinggalkan, orang tua atau lain-lain kekurangan dalam kehidupan yang berada di luar kawalan....6Hak terhadap kesihatan ialah hak seorang manusia. Maka, setiap manusia berhak mendapat perlindungan kesihatan. Pada tahun 1978, Pertubuhan Kesihatan Sedunia turut menambah elemen hak kemanusiaan dan cara untuk mendapatkan keadilan sosial dalam aspek kesihatan awam.7 Walaupun fokus utama kesihatan awam ialah populasi masyarakat awam, tetapi pada masa yang sama setiap manusia mempunyai hak yang sama dalam mendapatkan perkhidmatan kesihatan dan diberikan perlindungan kesihatan yang sempurna demi mencapai kehidupan yang sihat dan sempurna dalam masyarakat itu sendiri. 4 Abdullah Fahim, 2009. Ancaman Penyakit Berbahaya. Selangor: Kota Ilmiah, hlm 32.5 Laman Sesawang World Health Organization http://who.int/about/definition/en/print 6 Laman Sesawang Universal Declaration of Human Rights htp://un.org/en/documents/udhr 7 Anthony R. Kovner dan James R. Knickman, 2008. Health Delivery in the United States. New York: Springer Publishing Company, hlm 92.7 Penyakit berjangkit 9 nov 2012 cs5.indd 277 11/27/12 4:30 PM278 KANUN [DISEMBER 2012]Dari perspektif undang-undang pula, Institut Perubatan United Kingdom mendefinisikan undang-undang kesihatan awam sebagai:...menjadi tanggungjawab undang-undang kerajaan untuk memastikan keadaan kesihatan rakyat (contohnya; untuk mengenal pasti, mencegah, dan memperbaiksebarang risiko kesihatan terhadap penduduk) dan had kuasa kerajaan untuk menghalang kuasa autonomi, privasi, kebebasan atau apa-apa kepentingan individu yang dilindungi secara sah terhadap perlindungan atau promosi kesihatan dalam masyarakat....8 Penekanan diberikan terhadap aspek undang-undang dan tanggungjawab kerajaan yang memainkan peranan utama bagi memastikan agar kesihatan yang ideal diberikan kepada rakyatnya. Bagi perspektif Amerika Syarikat pula, undang-undang kesihatan awam menerangkan bahawa tanggungjawab mana-mana individu serta tugas pihak kerajaan untuk bertindak memastikan kesihatan terjamin dalam masyarakat sebagaimana pandangan Lawrence O. Gostin yang menyatakan bahawa:...undang-undang kesihatan awam tidak harus dilihat sebagai satu rahsia, peraturan yang tidak sistematik dan tidak teratur sebagaimana yang terkandung dalam undang-undang kesihatan negeri. Sebaliknya, undang-undang kesihatan awam harus dilihat secara meluas sebagai satu kuasa dan tanggungjawab kerajaan dalam memastikan keadaan kesihatan penduduk terjamin....9 Dalam aspek ini, undang-undang kesihatan meliputi konteks keseluruhan yang melibatkan pihak berkuasa yang mempunyai peranan dan bertanggungjawab untuk melaksanakan sebarang perancangan dan pelaksanaan kesihatan terhadap masyarakat.Jika dikaji kewujudan undang-undang dari perspektif kesihatan awam, sejarah membuktikan bahawa undang-undang antarabangsa berperanan dalam proses pengawalan dan pengawasan secara menyeluruh terhadap isu penyakit berjangkit. Penyatuan undang-undang pada peringkat global telah menyatukan beberapa kaedah tertentu dalam aspek kesihatan dalam menangani, mengawal dan mencegah penyakit berjangkit, seperti proses kuarantin dan pengawasan. Sebelum abad ke-19, isu penyakit berjangkit tidak melibatkan campur tangan pada peringkat antarabangsa apatah lagi kewujudan undang-undang antarabangsa dalam menangani masalah 8 Lawrence O. Gostin dan James G. Hodge, 2002, Turning Point: Colloborating For A New Century in Public Health: State Public Health Assessment Law Report, Washington: Public Health Statute Modernization National Excellent Colloborative, hlm 10. 9 David P. Fidler, “Gostin on Public Health Law” dlm. Yale Journal of Health Policy, Law and Ethics, 1, (303-318), hlm 306, 2001.7 Penyakit berjangkit 9 nov 2012 cs5.indd 278 11/27/12 4:30 PM24 KANUN (2) 279Penyakit Berjangkit: Isu Kesihatan Awam dalam Aspek SekuritiNor Anita Abdullah dan Rohani Abdul Rahimtersebut. Ketika itu pentadbiran pada peringkat negeri mempunyai polisi menguruskan ancaman penyakit berjangkit tanpa campur tangan atau kerjasama antarabangsa.10 Namun begitu, melalui peralihan dan perubahan zaman, kemunculan penyakit berjangkit berada pada tahap yang membimbangkan terutamanya kepantasan merebaknya penyakit berjangkit semakin tidak terkawal. Perhubungan antara negara melalui sistem pengangkutan turut menjadi punca utama merebaknya penyakit di dunia. Pada tahun 1851, undang-undang antarabangsa telah diperkenalkan sebagai penghubung antara peruntukan undang-undang dengan pengawalan dan pencegahan penyakit berjangkit dalam aspek kesihatan awam secara global. Persidangan pertama pengenalan undang-undang Antarabangsa diadakan di Perancis, iaitu Persidangan Kebersihan Antarabangsa yang dihadiri oleh 11 negara Eropah. Bermula dari tahun 1851 sehingga berakhir abad ke-19, sepuluh persidangan11 telah diadakan dan lapan daripadanya telah melalui proses rundingan yang melibatkan isu penyakit berjangkit yang merebak tanpa mengenal batas sempadan, seperti kolera (cholera), sampar (plague) dan demam kuning (yellow fever).12 Namun begitu, Konvensyen Kebersihan Antarabangsa yang diadakan pada tahun 1903 merupakan perintis kepada pertubuhan undang-undang antarabangsa yang pertama dalam aspek pengawalan penyakit berjangkit, menggantikan triti terdahulu yang dicapai pada abad ke-19. Terdapat tiga asas utama dalam undang-undang antarabangsa ini yang iaitu:1. tanggungjawab memaklumkan kepada negara lain akan kemunculan penyakit berjangkit tertentu;2. mengehadkan sistem perhubungan antaranegara luar dengan mana-mana negara yang berdepan dengan ancaman penyakit berjangkit; dan3. pelibatan organisasi antarabangsa berkaitan aspek kesihatan.1310 David P. Fidler, “Emerging Trends in International Law Concerning Global Infectious Disease Control” dlm. Emerging Infectious Disease 9:3, hlm 285, 2003.11 Persidangan tersebut di adakan pada tahun 1851, 1859, 1866, 1874, 1881, 1885, 1892, 1893, 1894 dan 1897 diadakan dan empat daripada kesepuluh triti tersebut (tahun 1892, 1893, 1894 dan 1897) berkenaan pengawalan penyakit berjangkit telah berjaya dicapai sebelum berakhirnya abad ke-19.12 Obijor Aginam, “International Law and Communicable Diseases” dlm. Bulletin of World Health Organization, 80:12), hlm 946, 2002. http://www.who.int/bulletin/archieve/80(12)946.pdf (28 April 2010).13 David P. Fidler, “The Role of International Law in the Control of Emerging Infectious Diseases” dlm. Bulletin of Institute Pastuer, 95 (57-72), hlm 59, (1997).7 Penyakit berjangkit 9 nov 2012 cs5.indd 279 11/27/12 4:30 PM280 KANUN [DISEMBER 2012]MEKANISME UNDANG-UNDANG ANTARABANGSA TERHADAP KESIHATAN AWAM DALAM KONTEKS PENYAKIT BERJANGKITMelalui pengenalan undang-undang antarabangsa, beberapa mekanisme perundangan berkenaan isu penyakit berjangkit diperuntukkan memandangkan isu ini merupakan isu global yang tidak mengenal batas sempadan. Jika dahulu, isu kesihatan awam hanya melibatkan pihak doktor dan para epidemiologi,14 namun pada abad ke-19 bermula peralihan apabila isu kesihatan awam menjadi isu antarabangsa. Oleh itu, undang-undang antarabangsa diperlukan bagi memastikan pelaksanaan setiap tindakan untuk melindungi kesihatan awam pada peringkat global dapat dilaksanakan. Penubuhan dan pengenalan Pertubuhan Kesihatan Sedunia dan Peraturan Kesihatan Antarabangsa dibuat bertujuan memastikan hal tersebut. Pertubuhan ini menjadi penyumbang utama dari sudut perundangan dan menjadi badan yang mengenal pasti risiko penyebaran jangkitan penyakit pada peringkat antarabangsa dan menjalinkan kerjasama secara global dan sistematik dengan negara luar.Pertubuhan Kesihatan Sedunia memainkan peranan penting dalam perancangan serta pelan tindakan terhadap pengawasan penyakit berjangkit pada peringkat global. Pengesahan letusan (outbreak verification)15 diperkenalkan oleh Pertubuhan Kesihatan Sedunia bertujuan untuk “bertindak”, “mengenal pasti” dan “memberikan respons” sebagai langkah persediaan sekiranya berlaku atau akan berlaku sebarang situasi kemunculan penyakit berjangkit dengan secepat mungkin ke peringkat global selaras dengan objektif dan matlamat Pertubuhan Kesihatan Sedunia, iaitu “kesihatan untuk semua”. Pelbagai organisasi di serata dunia telah ditubuhkan sebagai rangkaian global dan wakil beberapa negara turut dilantik bagi memastikan segala tindakan yang dijalankan oleh Pertubuhan Kesihatan Sedunia dapat dilaksanakan di seluruh dunia.16 Peraturan Kesihatan Antarabangsa pula merupakan mekanisme perundangan dalam menangani dan menghadapi masalah penularan penyakit berjangkit dan memastikan keselamatan masyarakat awam berada pada tahap yang paling selamat. Sekiranya berlaku atau tercetus apa-apa tanda epidemik penyakit berjangkit yang melibatkan tiga jenis17 jangkitan utama di negara anggota kepada Pertubuhan Kesihatan Sedunia (secara automatiknya wajib mematuhi peraturan dalam Peraturan Kesihatan Antarabangsa) dan perlu 14 Pakar kesihatan yang membuat kajian mengenai penyakit epidemik.15 Artikel 10, International Health Regulation (2005), WHO, Geneva, 2006.16 Jess T. Ford, “Global Health: Framework for Infectious Diseases Surveillance” dlm. G.A.O, National Security and International Affairs Division, United States General Accounting Office Washington, 2000, hlm 11.17 Pada awal penubuhannya, IHR hanya membatasi kepada enam jenis penyakit berjangkit sahaja iaitu Cholera, plague dan yellow fever, smallpox, relapsing fever dan typhus, tetapi selepas tahun 1969, dikurangkan kepada tiga jenis penyakit berjangkit sahaja, iaitu Cholera, plague dan yellow fever.7Penyakit berjangkit 9 nov 2012 cs5.indd 280 11/27/12 4:30 PM24 KANUN (2) 281Penyakit Berjangkit: Isu Kesihatan Awam dalam Aspek SekuritiNor Anita Abdullah dan Rohani Abdul Rahimmemaklumkan Pertubuhan Kesihatan Antarabangsa dengan kadar segera. Tindakan akan diambil berdasarkan maklumat tersebut dengan pemberitahuan kepada negara anggota yang lain sebagai langkah persediaan awal terhadap sebarang kebarangkalian penularan penyakit berjangkit tersebut.18 Pendekatan Peraturan Kesihatan Antarabangsa bagi menangani dan menghadapi situasi ini adalah dengan membuat semakan semula terhadap senarai penyakit berjangkit. Pada peringkat awal penubuhannya, hanya terdapat enam jenis penyakit berjangkit sahaja yang disenaraikan, iaitu kolera, sampar, demam kuning, cacar, demam berulang, dan tifus. Selepas tahun 1969, senarai ini dikurangkan kepada tiga jenis penyakit sahaja, iaitu kolera, sampar dan demam kuning. Oleh itu, negara yang mengalami penyakit berjangkit yang tidak tersenarai seperti influenza (SARS, H1N1 dan H5N1) tidak wajib melaporkannya kepada Pertubuhan Kesihatan Sedunia. Namun, semakan semula telah dibuat dan hasilnya dikenali sebagai Peraturan Kesihatan Antarabangsa 2005 dengan skop yang lebih luas dan responsif. Senarai penyakit tidak lagi menjadi rujukan'"
      ]
     },
     "execution_count": 34,
     "metadata": {},
     "output_type": "execute_result"
    }
   ],
   "source": [
    "tokenizer.decode(r)"
   ]
  },
  {
   "cell_type": "code",
   "execution_count": 35,
   "id": "2a0205ab",
   "metadata": {},
   "outputs": [
    {
     "name": "stderr",
     "output_type": "stream",
     "text": [
      "huggingface/tokenizers: The current process just got forked, after parallelism has already been used. Disabling parallelism to avoid deadlocks...\n",
      "To disable this warning, you can either:\n",
      "\t- Avoid using `tokenizers` before the fork if possible\n",
      "\t- Explicitly set the environment variable TOKENIZERS_PARALLELISM=(true | false)\n",
      "huggingface/tokenizers: The current process just got forked, after parallelism has already been used. Disabling parallelism to avoid deadlocks...\n",
      "To disable this warning, you can either:\n",
      "\t- Avoid using `tokenizers` before the fork if possible\n",
      "\t- Explicitly set the environment variable TOKENIZERS_PARALLELISM=(true | false)\n"
     ]
    }
   ],
   "source": [
    "!rm -rf tokenized_extra\n",
    "!mkdir tokenized_extra"
   ]
  },
  {
   "cell_type": "code",
   "execution_count": 36,
   "id": "64d7e662",
   "metadata": {},
   "outputs": [],
   "source": [
    "def loop(files):\n",
    "    files, index = files\n",
    "    out_root = f'tokenized_extra/tokenized-{index}'\n",
    "    os.system(f'rm -rf {out_root}')\n",
    "    with MDSWriter(out=out_root, columns=columns, compression=compression, hashes=hashes) as out:\n",
    "        for f in files:\n",
    "            for block in tqdm(read_dataset(train_file = f)):\n",
    "                sample = {\n",
    "                    'input_ids': block\n",
    "                }\n",
    "                out.write(sample)"
   ]
  },
  {
   "cell_type": "code",
   "execution_count": 37,
   "id": "5f4d6b59",
   "metadata": {},
   "outputs": [],
   "source": [
    "# !wget https://gist.githubusercontent.com/huseinzol05/98974ae8c6c7a65d4bc0af9f5003786a/raw/5aa5257608b61e8fcc828e99fbd070d5ca7358e3/mp.py"
   ]
  },
  {
   "cell_type": "code",
   "execution_count": 38,
   "id": "e24711db",
   "metadata": {},
   "outputs": [
    {
     "name": "stderr",
     "output_type": "stream",
     "text": [
      "huggingface/tokenizers: The current process just got forked, after parallelism has already been used. Disabling parallelism to avoid deadlocks...\n",
      "To disable this warning, you can either:\n",
      "\t- Avoid using `tokenizers` before the fork if possible\n",
      "\t- Explicitly set the environment variable TOKENIZERS_PARALLELISM=(true | false)\n",
      "huggingface/tokenizers: The current process just got forked, after parallelism has already been used. Disabling parallelism to avoid deadlocks...\n",
      "To disable this warning, you can either:\n",
      "\t- Avoid using `tokenizers` before the fork if possible\n",
      "\t- Explicitly set the environment variable TOKENIZERS_PARALLELISM=(true | false)\n",
      "huggingface/tokenizers: The current process just got forked, after parallelism has already been used. Disabling parallelism to avoid deadlocks...\n",
      "To disable this warning, you can either:\n",
      "\t- Avoid using `tokenizers` before the fork if possible\n",
      "\t- Explicitly set the environment variable TOKENIZERS_PARALLELISM=(true | false)\n",
      "huggingface/tokenizers: The current process just got forked, after parallelism has already been used. Disabling parallelism to avoid deadlocks...\n",
      "To disable this warning, you can either:\n",
      "\t- Avoid using `tokenizers` before the fork if possible\n",
      "\t- Explicitly set the environment variable TOKENIZERS_PARALLELISM=(true | false)\n",
      "huggingface/tokenizers: The current process just got forked, after parallelism has already been used. Disabling parallelism to avoid deadlocks...\n",
      "To disable this warning, you can either:\n",
      "\t- Avoid using `tokenizers` before the fork if possible\n",
      "\t- Explicitly set the environment variable TOKENIZERS_PARALLELISM=(true | false)\n",
      "huggingface/tokenizers: The current process just got forked, after parallelism has already been used. Disabling parallelism to avoid deadlocks...\n",
      "To disable this warning, you can either:\n",
      "\t- Avoid using `tokenizers` before the fork if possible\n",
      "\t- Explicitly set the environment variable TOKENIZERS_PARALLELISM=(true | false)\n",
      "huggingface/tokenizers: The current process just got forked, after parallelism has already been used. Disabling parallelism to avoid deadlocks...\n",
      "To disable this warning, you can either:\n",
      "\t- Avoid using `tokenizers` before the fork if possible\n",
      "\t- Explicitly set the environment variable TOKENIZERS_PARALLELISM=(true | false)\n",
      "huggingface/tokenizers: The current process just got forked, after parallelism has already been used. Disabling parallelism to avoid deadlocks...\n",
      "To disable this warning, you can either:\n",
      "\t- Avoid using `tokenizers` before the fork if possible\n",
      "\t- Explicitly set the environment variable TOKENIZERS_PARALLELISM=(true | false)\n",
      "huggingface/tokenizers: The current process just got forked, after parallelism has already been used. Disabling parallelism to avoid deadlocks...\n",
      "To disable this warning, you can either:\n",
      "\t- Avoid using `tokenizers` before the fork if possible\n",
      "\t- Explicitly set the environment variable TOKENIZERS_PARALLELISM=(true | false)\n",
      "huggingface/tokenizers: The current process just got forked, after parallelism has already been used. Disabling parallelism to avoid deadlocks...\n",
      "To disable this warning, you can either:\n",
      "\t- Avoid using `tokenizers` before the fork if possible\n",
      "\t- Explicitly set the environment variable TOKENIZERS_PARALLELISM=(true | false)\n",
      "huggingface/tokenizers: The current process just got forked, after parallelism has already been used. Disabling parallelism to avoid deadlocks...\n",
      "To disable this warning, you can either:\n",
      "\t- Avoid using `tokenizers` before the fork if possible\n",
      "\t- Explicitly set the environment variable TOKENIZERS_PARALLELISM=(true | false)\n",
      "huggingface/tokenizers: The current process just got forked, after parallelism has already been used. Disabling parallelism to avoid deadlocks...\n",
      "To disable this warning, you can either:\n",
      "\t- Avoid using `tokenizers` before the fork if possible\n",
      "\t- Explicitly set the environment variable TOKENIZERS_PARALLELISM=(true | false)\n",
      "0it [00:00, ?it/s]huggingface/tokenizers: The current process just got forked, after parallelism has already been used. Disabling parallelism to avoid deadlocks...\n",
      "To disable this warning, you can either:\n",
      "\t- Avoid using `tokenizers` before the fork if possible\n",
      "\t- Explicitly set the environment variable TOKENIZERS_PARALLELISM=(true | false)\n",
      "Special tokens have been added in the vocabulary, make sure the associated word embeddings are fine-tuned or trained.\n",
      "1it [00:00,  2.39it/s]Special tokens have been added in the vocabulary, make sure the associated word embeddings are fine-tuned or trained.\n",
      "Special tokens have been added in the vocabulary, make sure the associated word embeddings are fine-tuned or trained.\n",
      "Special tokens have been added in the vocabulary, make sure the associated word embeddings are fine-tuned or trained.\n",
      "Special tokens have been added in the vocabulary, make sure the associated word embeddings are fine-tuned or trained.\n",
      "1it [00:00,  2.20it/s]Special tokens have been added in the vocabulary, make sure the associated word embeddings are fine-tuned or trained.\n",
      "1it [00:00,  2.26it/s]Special tokens have been added in the vocabulary, make sure the associated word embeddings are fine-tuned or trained.\n",
      "1it [00:00,  2.17it/s]Special tokens have been added in the vocabulary, make sure the associated word embeddings are fine-tuned or trained.\n",
      "Special tokens have been added in the vocabulary, make sure the associated word embeddings are fine-tuned or trained.\n",
      "Special tokens have been added in the vocabulary, make sure the associated word embeddings are fine-tuned or trained.\n",
      "1it [00:00,  2.12it/s]Special tokens have been added in the vocabulary, make sure the associated word embeddings are fine-tuned or trained.\n",
      "Special tokens have been added in the vocabulary, make sure the associated word embeddings are fine-tuned or trained.\n",
      "27it [00:00, 50.28it/s]Special tokens have been added in the vocabulary, make sure the associated word embeddings are fine-tuned or trained.\n",
      "9922it [03:54, 42.29it/s]\n",
      "9942it [03:57, 41.88it/s]\n",
      "10034it [04:00, 41.79it/s]\n",
      "9931it [04:00, 41.33it/s]]\n",
      "9966it [04:00, 41.46it/s]\n",
      "9956it [04:00, 41.35it/s]]\n",
      "10093it [04:02, 41.66it/s]\n",
      "9999it [04:03, 41.12it/s]]\n",
      "9942it [04:05, 40.54it/s]]\n",
      "10002it [04:05, 40.71it/s]\n",
      "9958it [04:08, 40.02it/s]]\n",
      "10978it [04:16, 42.85it/s]\n",
      "10355it [04:27, 38.72it/s]\n"
     ]
    }
   ],
   "source": [
    "import mp\n",
    "mp.multiprocessing(files, loop, cores = min(len(files), 20), returned = False)"
   ]
  },
  {
   "cell_type": "code",
   "execution_count": 39,
   "id": "97a3e824",
   "metadata": {},
   "outputs": [
    {
     "name": "stderr",
     "output_type": "stream",
     "text": [
      "Because `predownload` was not specified, it will default to 8*batch_size if batch_size is not None, otherwise 64. Prior to Streaming v0.7.0, `predownload` defaulted to max(batch_size, 256 * batch_size // num_canonical_nodes).\n"
     ]
    }
   ],
   "source": [
    "from streaming import StreamingDataset\n",
    "\n",
    "dataset = StreamingDataset(local = 'tokenized_extra/tokenized-0')"
   ]
  },
  {
   "cell_type": "code",
   "execution_count": 53,
   "id": "13717f89",
   "metadata": {},
   "outputs": [
    {
     "name": "stderr",
     "output_type": "stream",
     "text": [
      "Because `predownload` was not specified, it will default to 8*batch_size if batch_size is not None, otherwise 64. Prior to Streaming v0.7.0, `predownload` defaulted to max(batch_size, 256 * batch_size // num_canonical_nodes).\n",
      "Because `predownload` was not specified, it will default to 8*batch_size if batch_size is not None, otherwise 64. Prior to Streaming v0.7.0, `predownload` defaulted to max(batch_size, 256 * batch_size // num_canonical_nodes).\n",
      "Because `predownload` was not specified, it will default to 8*batch_size if batch_size is not None, otherwise 64. Prior to Streaming v0.7.0, `predownload` defaulted to max(batch_size, 256 * batch_size // num_canonical_nodes).\n",
      "Because `predownload` was not specified, it will default to 8*batch_size if batch_size is not None, otherwise 64. Prior to Streaming v0.7.0, `predownload` defaulted to max(batch_size, 256 * batch_size // num_canonical_nodes).\n",
      "Because `predownload` was not specified, it will default to 8*batch_size if batch_size is not None, otherwise 64. Prior to Streaming v0.7.0, `predownload` defaulted to max(batch_size, 256 * batch_size // num_canonical_nodes).\n",
      "Because `predownload` was not specified, it will default to 8*batch_size if batch_size is not None, otherwise 64. Prior to Streaming v0.7.0, `predownload` defaulted to max(batch_size, 256 * batch_size // num_canonical_nodes).\n",
      "Because `predownload` was not specified, it will default to 8*batch_size if batch_size is not None, otherwise 64. Prior to Streaming v0.7.0, `predownload` defaulted to max(batch_size, 256 * batch_size // num_canonical_nodes).\n",
      "Because `predownload` was not specified, it will default to 8*batch_size if batch_size is not None, otherwise 64. Prior to Streaming v0.7.0, `predownload` defaulted to max(batch_size, 256 * batch_size // num_canonical_nodes).\n",
      "Because `predownload` was not specified, it will default to 8*batch_size if batch_size is not None, otherwise 64. Prior to Streaming v0.7.0, `predownload` defaulted to max(batch_size, 256 * batch_size // num_canonical_nodes).\n",
      "Because `predownload` was not specified, it will default to 8*batch_size if batch_size is not None, otherwise 64. Prior to Streaming v0.7.0, `predownload` defaulted to max(batch_size, 256 * batch_size // num_canonical_nodes).\n",
      "Because `predownload` was not specified, it will default to 8*batch_size if batch_size is not None, otherwise 64. Prior to Streaming v0.7.0, `predownload` defaulted to max(batch_size, 256 * batch_size // num_canonical_nodes).\n",
      "Because `predownload` was not specified, it will default to 8*batch_size if batch_size is not None, otherwise 64. Prior to Streaming v0.7.0, `predownload` defaulted to max(batch_size, 256 * batch_size // num_canonical_nodes).\n",
      "Because `predownload` was not specified, it will default to 8*batch_size if batch_size is not None, otherwise 64. Prior to Streaming v0.7.0, `predownload` defaulted to max(batch_size, 256 * batch_size // num_canonical_nodes).\n"
     ]
    }
   ],
   "source": [
    "sums = sum([len(StreamingDataset(local = f)) for f in glob('tokenized_extra/tokenized-*')])"
   ]
  },
  {
   "cell_type": "code",
   "execution_count": 54,
   "id": "7551c675",
   "metadata": {},
   "outputs": [
    {
     "data": {
      "text/plain": [
       "1.073790976"
      ]
     },
     "execution_count": 54,
     "metadata": {},
     "output_type": "execute_result"
    }
   ],
   "source": [
    "(block_size * sums) / 1e9"
   ]
  }
 ],
 "metadata": {
  "kernelspec": {
   "display_name": "Python 3 (ipykernel)",
   "language": "python",
   "name": "python3"
  },
  "language_info": {
   "codemirror_mode": {
    "name": "ipython",
    "version": 3
   },
   "file_extension": ".py",
   "mimetype": "text/x-python",
   "name": "python",
   "nbconvert_exporter": "python",
   "pygments_lexer": "ipython3",
   "version": "3.10.12"
  }
 },
 "nbformat": 4,
 "nbformat_minor": 5
}
