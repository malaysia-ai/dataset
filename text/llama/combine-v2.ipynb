{
 "cells": [
  {
   "cell_type": "code",
   "execution_count": 1,
   "id": "5d83873f",
   "metadata": {},
   "outputs": [],
   "source": [
    "import json\n",
    "import os\n",
    "from glob import glob\n",
    "from tqdm import tqdm"
   ]
  },
  {
   "cell_type": "code",
   "execution_count": 2,
   "id": "65c2c943",
   "metadata": {},
   "outputs": [],
   "source": [
    "# !pip3 install fasttext"
   ]
  },
  {
   "cell_type": "code",
   "execution_count": 3,
   "id": "bb20dbcb",
   "metadata": {},
   "outputs": [],
   "source": [
    "# import fasttext\n",
    "# import malaya\n",
    "\n",
    "# language_detection = malaya.language_detection.fasttext(model = 'mesolitica/fasttext-language-detection-ms-id')"
   ]
  },
  {
   "cell_type": "code",
   "execution_count": 4,
   "id": "54ac101b",
   "metadata": {
    "scrolled": true
   },
   "outputs": [
    {
     "data": {
      "text/plain": [
       "174"
      ]
     },
     "execution_count": 4,
     "metadata": {},
     "output_type": "execute_result"
    }
   ],
   "source": [
    "files = glob('/home/ubuntu/dedup-text-dataset/*.jsonl')\n",
    "len(files)"
   ]
  },
  {
   "cell_type": "code",
   "execution_count": 5,
   "id": "017c6aed",
   "metadata": {},
   "outputs": [],
   "source": [
    "wiki = [\n",
    "    'wikipedia.jsonl',\n",
    "    'wikipedia-jawi.jsonl',\n",
    "]\n",
    "language_related = [\n",
    "    'dictionary.jsonl',\n",
    "    'dewanbahasa-jdbp.jsonl',\n",
    "    'dialect.jsonl',\n",
    "]\n",
    "gov_related = [\n",
    "    'hansard.jsonl',\n",
    "    'lom.agc.gov.my.jsonl',\n",
    "    'parlimen-gov.jsonl',\n",
    "    'data.gov.my.jsonl',\n",
    "    'mufti_wilayah_articles.jsonl',\n",
    "    'e-khutbah.jsonl',\n",
    "    'mufti_negeri_sem_artikel.jsonl',\n",
    "    'mufti_perlis_artikel.jsonl',\n",
    "    'mufti_negeri_sem_artikel.jsonl',\n",
    "]\n",
    "research_papers = [\n",
    "    'academia-edu.jsonl',\n",
    "    'eprints.jsonl',\n",
    "]\n",
    "social_media = [\n",
    "    'iium-confession.jsonl',\n",
    "    'b.cari.com.my.jsonl',\n",
    "    'semisupervised-whisper-large-v2.jsonl',\n",
    "    'lowyat.jsonl',\n",
    "    'malay-tweets.jsonl'\n",
    "]\n",
    "common_crawl = [\n",
    "    'common-crawl.jsonl',\n",
    "    'NLLB.jsonl',\n",
    "]"
   ]
  },
  {
   "cell_type": "code",
   "execution_count": 6,
   "id": "203a9ff3",
   "metadata": {},
   "outputs": [],
   "source": [
    "from transformers import AutoTokenizer\n",
    "tokenizer = AutoTokenizer.from_pretrained(\n",
    "    'meta-llama/Llama-2-7b-hf',\n",
    ")\n",
    "tokenizer.add_bos_token = False"
   ]
  },
  {
   "cell_type": "code",
   "execution_count": 7,
   "id": "29ba0979",
   "metadata": {},
   "outputs": [
    {
     "data": {
      "text/plain": [
       "'<s>'"
      ]
     },
     "execution_count": 7,
     "metadata": {},
     "output_type": "execute_result"
    }
   ],
   "source": [
    "tokenizer.bos_token"
   ]
  },
  {
   "cell_type": "code",
   "execution_count": 8,
   "id": "d050b10b",
   "metadata": {},
   "outputs": [
    {
     "data": {
      "text/plain": [
       "{'input_ids': [22172], 'attention_mask': [1]}"
      ]
     },
     "execution_count": 8,
     "metadata": {},
     "output_type": "execute_result"
    }
   ],
   "source": [
    "tokenizer('hello')"
   ]
  },
  {
   "cell_type": "code",
   "execution_count": 9,
   "id": "06da941a",
   "metadata": {},
   "outputs": [],
   "source": [
    "# lens = []\n",
    "# a = []\n",
    "# for f in ['hf-datasets/postprocessing/eprints.jsonl']:\n",
    "#     with open(f) as fopen:\n",
    "#         for l in tqdm(fopen):\n",
    "#             data = json.loads(l)\n",
    "#             l_data = len(data.split())\n",
    "#             if l_data > 50000:\n",
    "#                 continue\n",
    "#             data_lower = data.lower()\n",
    "#             if any([r in data_lower for r in rejected]):\n",
    "#                 continue\n",
    "#             lens.append(l_data)\n",
    "#             a.append(data)"
   ]
  },
  {
   "cell_type": "code",
   "execution_count": 10,
   "id": "de45cce3",
   "metadata": {},
   "outputs": [],
   "source": [
    "def partition(text, size = 500):\n",
    "    splitted = text.split()\n",
    "    return [' '.join(splitted[i: i + size]) for i in range(0, len(splitted), size)]"
   ]
  },
  {
   "cell_type": "code",
   "execution_count": 11,
   "id": "414d260e",
   "metadata": {},
   "outputs": [],
   "source": [
    "combine = set(wiki) | set(language_related) | set(gov_related) | set(research_papers) | set(social_media) | set(common_crawl)"
   ]
  },
  {
   "cell_type": "code",
   "execution_count": 12,
   "id": "b09eb0e6",
   "metadata": {},
   "outputs": [],
   "source": [
    "combine = {os.path.join('/home/ubuntu/dedup-text-dataset', f) for f in combine}"
   ]
  },
  {
   "cell_type": "code",
   "execution_count": 13,
   "id": "d0704225",
   "metadata": {},
   "outputs": [
    {
     "data": {
      "text/plain": [
       "152"
      ]
     },
     "execution_count": 13,
     "metadata": {},
     "output_type": "execute_result"
    }
   ],
   "source": [
    "online_articles = sorted(list(set(files) - combine))\n",
    "len(online_articles)"
   ]
  },
  {
   "cell_type": "code",
   "execution_count": 14,
   "id": "eb00a747",
   "metadata": {},
   "outputs": [],
   "source": [
    "a = open('combine-v2.jsonl', 'w')"
   ]
  },
  {
   "cell_type": "code",
   "execution_count": 15,
   "id": "42ba04e2",
   "metadata": {},
   "outputs": [
    {
     "name": "stderr",
     "output_type": "stream",
     "text": [
      "54712it [00:01, 41135.58it/s]\n",
      "4577it [00:00, 9643.47it/s] \n",
      "66it [00:00, 47646.14it/s]\n"
     ]
    }
   ],
   "source": [
    "for f in language_related:\n",
    "    f = os.path.join('/home/ubuntu/dedup-text-dataset', f)\n",
    "    with open(f) as fopen:\n",
    "        for l in tqdm(fopen):\n",
    "            try:\n",
    "                data = '<s>' + json.loads(l) + '</s>'\n",
    "                partitioned = partition(data)\n",
    "                for p in partitioned:\n",
    "                    data = {\n",
    "                        'text': p,\n",
    "                    }\n",
    "                    a.write(f'{json.dumps(data)}\\n')\n",
    "                    a.flush()\n",
    "            except:\n",
    "                pass"
   ]
  },
  {
   "cell_type": "code",
   "execution_count": 16,
   "id": "9cc362e9",
   "metadata": {
    "scrolled": true
   },
   "outputs": [
    {
     "name": "stderr",
     "output_type": "stream",
     "text": [
      "20763it [00:01, 12372.97it/s]\n",
      "640it [00:00, 9114.09it/s]\n",
      "1733it [00:00, 10150.41it/s]\n",
      "33730it [00:01, 19076.66it/s]\n",
      "87it [00:00, 9987.80it/s]\n",
      "47it [00:00, 7779.49it/s]\n",
      "1263it [00:00, 5403.56it/s]\n",
      "9672it [00:00, 10654.92it/s]\n",
      "5400it [00:00, 12386.00it/s]\n",
      "4425it [00:00, 14231.95it/s]\n",
      "3645it [00:00, 9204.46it/s]\n",
      "1589it [00:00, 7423.29it/s]\n",
      "385it [00:00, 8551.19it/s]\n",
      "17004it [00:02, 6280.18it/s]\n",
      "176it [00:00, 5805.95it/s]\n",
      "233it [00:00, 7681.21it/s]\n",
      "1427it [00:00, 6563.41it/s]\n",
      "341it [00:00, 3732.42it/s]\n",
      "46it [00:00, 9360.01it/s]\n",
      "140it [00:00, 12514.17it/s]\n",
      "11678it [00:01, 8214.69it/s]\n",
      "12326it [00:01, 10361.36it/s]\n",
      "24482it [00:02, 11702.80it/s]\n",
      "947it [00:00, 5188.42it/s]\n",
      "512it [00:00, 9056.07it/s]\n",
      "3506it [00:00, 7393.56it/s]\n",
      "1459it [00:00, 8277.44it/s]\n",
      "6285it [00:00, 12072.73it/s]\n",
      "53158it [00:03, 15805.34it/s]\n",
      "788it [00:00, 8864.67it/s]\n",
      "24411it [00:03, 7775.81it/s]\n",
      "1932it [00:00, 7776.46it/s]\n",
      "151it [00:00, 6377.27it/s]\n",
      "10229it [00:00, 16187.16it/s]\n",
      "6976it [00:02, 3468.16it/s]\n",
      "1160it [00:00, 9198.97it/s]\n",
      "937it [00:00, 8041.00it/s]\n",
      "16169it [00:01, 10132.15it/s]\n",
      "12914it [00:01, 9381.49it/s]\n",
      "1647it [00:00, 18985.74it/s]\n",
      "12it [00:00, 2229.53it/s]\n",
      "19992it [00:01, 11043.16it/s]\n",
      "5747it [00:00, 13186.54it/s]\n",
      "7072it [00:07, 984.84it/s] \n",
      "1252it [00:05, 248.59it/s]\n",
      "16605209it [05:05, 54411.13it/s]\n",
      "3888it [00:00, 37326.99it/s]\n",
      "223it [00:00, 6968.63it/s]\n",
      "6848it [00:00, 10142.70it/s]\n",
      "139it [00:00, 9698.38it/s]\n",
      "13145it [00:01, 9740.68it/s]\n",
      "13it [00:00, 3629.98it/s]\n",
      "42it [00:00, 10331.40it/s]\n",
      "8447it [00:01, 7691.89it/s]\n",
      "473it [00:00, 12870.30it/s]\n",
      "3502it [00:00, 5020.41it/s]\n",
      "1216it [00:00, 5241.96it/s]\n",
      "11076it [00:00, 13606.97it/s]\n",
      "391it [00:00, 7651.41it/s]\n",
      "8200it [00:00, 14135.76it/s]\n",
      "16443it [00:01, 10237.96it/s]\n",
      "58it [00:00, 7533.67it/s]\n",
      "100it [00:00, 6832.89it/s]\n",
      "13105it [00:01, 11110.65it/s]\n",
      "7226it [00:00, 13417.55it/s]\n",
      "18860it [00:01, 11257.69it/s]\n",
      "11236it [00:00, 12593.98it/s]\n",
      "5103it [00:00, 8345.89it/s]\n",
      "532it [00:00, 9015.34it/s]\n",
      "4921it [00:00, 11424.49it/s]\n",
      "3948it [00:00, 7793.92it/s]\n",
      "28986it [00:02, 11785.63it/s]\n",
      "6751it [00:00, 8621.35it/s]\n",
      "638it [00:00, 8889.37it/s]\n",
      "1884790it [00:33, 56142.82it/s]\n",
      "17918it [00:01, 14700.68it/s]\n",
      "1523it [00:00, 4949.26it/s]\n",
      "3442it [00:00, 13933.46it/s]\n",
      "10565it [00:01, 7464.88it/s]\n",
      "1473823it [01:35, 15443.81it/s]\n",
      "7106it [00:00, 9693.36it/s] \n",
      "49it [00:00, 9694.84it/s]\n",
      "40it [00:00, 9792.91it/s]\n",
      "16144it [00:03, 4957.92it/s] \n",
      "9221it [00:00, 10176.35it/s]\n",
      "68it [00:00, 16926.57it/s]\n",
      "1006it [00:00, 5415.53it/s]\n",
      "22491it [00:01, 13450.82it/s]\n",
      "5798716it [02:00, 48273.27it/s]\n",
      "6418it [00:00, 14525.92it/s]\n",
      "523it [00:00, 10574.37it/s]\n",
      "2368it [00:00, 12898.78it/s]\n",
      "4702it [00:00, 9592.66it/s]\n",
      "2839348it [04:11, 11292.79it/s]\n",
      "9359it [00:00, 10765.10it/s]\n",
      "1143it [00:00, 5709.70it/s]\n",
      "32085it [00:02, 11041.72it/s]\n",
      "9865it [00:00, 14391.49it/s]\n",
      "70it [00:00, 7270.24it/s]\n",
      "3819it [00:00, 7404.18it/s]\n",
      "2132it [00:00, 22912.71it/s]\n",
      "89it [00:00, 31235.30it/s]\n",
      "10483it [00:01, 5952.53it/s]\n",
      "20320it [00:01, 11227.48it/s]\n",
      "5714it [00:51, 109.92it/s]\n",
      "6204it [00:00, 8323.63it/s]\n",
      "14158it [00:01, 8970.04it/s]\n",
      "1619it [00:00, 83091.60it/s]\n",
      "298it [00:00, 3445.19it/s]\n",
      "240it [00:00, 3893.26it/s]\n",
      "276it [00:00, 8387.64it/s]\n",
      "153it [00:00, 6142.71it/s]\n",
      "1092497it [00:16, 65240.69it/s]\n",
      "1245it [00:00, 10365.50it/s]\n",
      "348it [00:00, 7788.03it/s]\n",
      "547it [00:00, 4420.96it/s]\n",
      "726it [00:00, 7973.11it/s]\n",
      "22818it [00:01, 15380.88it/s]\n",
      "1138it [00:00, 6303.36it/s]\n",
      "1045it [00:00, 10552.36it/s]\n",
      "230208it [00:05, 41654.68it/s]\n",
      "22542it [00:02, 8848.21it/s]\n",
      "6400it [00:00, 9436.67it/s]\n",
      "51302it [00:04, 12465.09it/s]\n",
      "286it [00:00, 9361.41it/s]\n",
      "3071it [00:00, 20118.09it/s]\n",
      "8504it [00:00, 8672.97it/s]\n",
      "629779it [00:19, 32576.52it/s]\n",
      "209173it [00:35, 5832.54it/s] \n",
      "216it [00:00, 9692.63it/s]\n",
      "1074it [00:00, 12756.95it/s]\n",
      "753it [00:00, 10403.76it/s]\n",
      "91it [00:00, 11880.40it/s]\n",
      "3578it [00:00, 13453.66it/s]\n",
      "4122it [00:00, 13804.59it/s]\n",
      "4591it [00:00, 8586.39it/s]\n",
      "300it [00:00, 8542.43it/s]\n",
      "48it [00:00, 8601.13it/s]\n",
      "25040it [00:01, 15226.72it/s]\n",
      "220it [00:00, 3401.27it/s]\n",
      "644it [00:00, 8497.09it/s]\n",
      "597it [00:00, 6884.49it/s]\n",
      "168it [00:00, 6808.87it/s]\n",
      "3626it [00:00, 12253.63it/s]\n",
      "772it [00:00, 5480.01it/s]\n",
      "711it [00:00, 10278.81it/s]\n",
      "5407it [00:00, 11763.79it/s]\n",
      "3834it [00:00, 10472.81it/s]\n",
      "25073it [00:02, 12089.47it/s]\n",
      "11314it [00:00, 32219.93it/s]\n",
      "15277it [00:01, 11997.55it/s]\n",
      "84it [00:00, 7137.79it/s]\n"
     ]
    }
   ],
   "source": [
    "for f in online_articles:\n",
    "    with open(f) as fopen:\n",
    "        for l in tqdm(fopen):\n",
    "            try:\n",
    "                data = '<s>' + json.loads(l) + '</s>'\n",
    "                partitioned = partition(data)\n",
    "                for p in partitioned:\n",
    "                    data = {\n",
    "                        'text': p,\n",
    "                    }\n",
    "                    a.write(f'{json.dumps(data)}\\n')\n",
    "                    a.flush()\n",
    "            except:\n",
    "                pass"
   ]
  },
  {
   "cell_type": "code",
   "execution_count": 17,
   "id": "59bd54b4",
   "metadata": {},
   "outputs": [
    {
     "name": "stderr",
     "output_type": "stream",
     "text": [
      "140932it [00:13, 10238.39it/s]\n",
      "1359it [00:00, 2404.59it/s]\n",
      "1687it [00:12, 135.49it/s]\n",
      "10889it [00:17, 640.48it/s]\n",
      "1712it [00:00, 4363.23it/s]\n",
      "809it [00:00, 2262.54it/s]\n",
      "112it [00:00, 10693.67it/s]\n",
      "144it [00:00, 11733.69it/s]\n",
      "112it [00:00, 17672.85it/s]\n"
     ]
    }
   ],
   "source": [
    "for f in gov_related:\n",
    "    f = os.path.join('/home/ubuntu/dedup-text-dataset', f)\n",
    "    with open(f) as fopen:\n",
    "        for l in tqdm(fopen):\n",
    "            try:\n",
    "                data = '<s>' + json.loads(l) + '</s>'\n",
    "                partitioned = partition(data)\n",
    "                for p in partitioned:\n",
    "                    data = {\n",
    "                        'text': p,\n",
    "                    }\n",
    "                    a.write(f'{json.dumps(data)}\\n')\n",
    "                    a.flush()\n",
    "            except:\n",
    "                pass"
   ]
  },
  {
   "cell_type": "code",
   "execution_count": 18,
   "id": "45a17bf6",
   "metadata": {},
   "outputs": [],
   "source": [
    "rejected = [\n",
    "    'markah untuk setiap satu',\n",
    "    'soalan mesti dijawab dalam',\n",
    "    '25 markah',\n",
    "    '50 markah'\n",
    "]"
   ]
  },
  {
   "cell_type": "code",
   "execution_count": 19,
   "id": "59bf4fbf",
   "metadata": {},
   "outputs": [
    {
     "name": "stderr",
     "output_type": "stream",
     "text": [
      "787it [00:05, 140.60it/s]\n",
      "189419it [02:29, 1263.72it/s]\n"
     ]
    }
   ],
   "source": [
    "for f in research_papers:\n",
    "    f = os.path.join('/home/ubuntu/dedup-text-dataset', f)\n",
    "    with open(f) as fopen:\n",
    "        for l in tqdm(fopen):\n",
    "            try:\n",
    "                data = '<s>' + json.loads(l) + '</s>'\n",
    "                    \n",
    "                data_lower = data.lower()\n",
    "                if any([r in data_lower for r in rejected]):\n",
    "                    continue\n",
    "                    \n",
    "                partitioned = partition(data)\n",
    "                for p in partitioned:\n",
    "                    data = {\n",
    "                        'text': p,\n",
    "                    }\n",
    "                    a.write(f'{json.dumps(data)}\\n')\n",
    "                    a.flush()\n",
    "            except:\n",
    "                pass"
   ]
  },
  {
   "cell_type": "code",
   "execution_count": 20,
   "id": "989d0ec9",
   "metadata": {},
   "outputs": [
    {
     "name": "stderr",
     "output_type": "stream",
     "text": [
      "338649it [00:11, 29681.73it/s]\n",
      "722837it [00:30, 23440.57it/s]\n"
     ]
    }
   ],
   "source": [
    "for f in wiki:\n",
    "    f = os.path.join('/home/ubuntu/dedup-text-dataset', f)\n",
    "    with open(f) as fopen:\n",
    "        for l in tqdm(fopen):\n",
    "            try:\n",
    "                data = '<s>' + json.loads(l) + '</s>'\n",
    "                partitioned = partition(data)\n",
    "                for p in partitioned:\n",
    "                    data = {\n",
    "                        'text': p,\n",
    "                    }\n",
    "                    a.write(f'{json.dumps(data)}\\n')\n",
    "                    a.flush()\n",
    "            except:\n",
    "                pass"
   ]
  },
  {
   "cell_type": "code",
   "execution_count": 21,
   "id": "59ed8dfc",
   "metadata": {
    "scrolled": true
   },
   "outputs": [],
   "source": [
    "# for f in common_crawl:\n",
    "#     with open(f) as fopen:\n",
    "#         for l in tqdm(fopen):\n",
    "#             try:\n",
    "#                 data = json.loads(l) + '</s>'\n",
    "#                 partitioned = partition(data)\n",
    "#                 for p in partitioned:\n",
    "#                     data = {\n",
    "#                         'text': p,\n",
    "#                     }\n",
    "#                     a.write(f'{json.dumps(data)}\\n')\n",
    "#                     a.flush()\n",
    "#             except:\n",
    "#                 pass"
   ]
  },
  {
   "cell_type": "code",
   "execution_count": 22,
   "id": "eec8e085",
   "metadata": {},
   "outputs": [],
   "source": [
    "# for f in social_media:\n",
    "#     with open(f) as fopen:\n",
    "#         for l in tqdm(fopen):\n",
    "#             try:\n",
    "#                 data = json.loads(l) + '</s>'\n",
    "#                 partitioned = partition(data)\n",
    "#                 for p in partitioned:\n",
    "#                     data = {\n",
    "#                         'text': p,\n",
    "#                     }\n",
    "#                     a.write(f'{json.dumps(data)}\\n')\n",
    "#                     a.flush()\n",
    "#             except:\n",
    "#                 pass"
   ]
  },
  {
   "cell_type": "code",
   "execution_count": 23,
   "id": "a523d8d8",
   "metadata": {},
   "outputs": [
    {
     "name": "stdout",
     "output_type": "stream",
     "text": [
      "huggingface/tokenizers: The current process just got forked, after parallelism has already been used. Disabling parallelism to avoid deadlocks...\n",
      "To disable this warning, you can either:\n",
      "\t- Avoid using `tokenizers` before the fork if possible\n",
      "\t- Explicitly set the environment variable TOKENIZERS_PARALLELISM=(true | false)\n",
      "27672303 combine.jsonl\n"
     ]
    }
   ],
   "source": [
    "!wc -l combine.jsonl"
   ]
  },
  {
   "cell_type": "code",
   "execution_count": 24,
   "id": "6588c4ea",
   "metadata": {
    "scrolled": false
   },
   "outputs": [
    {
     "name": "stdout",
     "output_type": "stream",
     "text": [
      "huggingface/tokenizers: The current process just got forked, after parallelism has already been used. Disabling parallelism to avoid deadlocks...\n",
      "To disable this warning, you can either:\n",
      "\t- Avoid using `tokenizers` before the fork if possible\n",
      "\t- Explicitly set the environment variable TOKENIZERS_PARALLELISM=(true | false)\n",
      "-rwxrwxrwx 1 ubuntu 472 27G Aug 23 03:05 combine.jsonl\n"
     ]
    }
   ],
   "source": [
    "!ls -lh combine.jsonl"
   ]
  },
  {
   "cell_type": "code",
   "execution_count": 25,
   "id": "ddbed9d3",
   "metadata": {},
   "outputs": [],
   "source": [
    "a.close()"
   ]
  }
 ],
 "metadata": {
  "kernelspec": {
   "display_name": "Python 3 (ipykernel)",
   "language": "python",
   "name": "python3"
  },
  "language_info": {
   "codemirror_mode": {
    "name": "ipython",
    "version": 3
   },
   "file_extension": ".py",
   "mimetype": "text/x-python",
   "name": "python",
   "nbconvert_exporter": "python",
   "pygments_lexer": "ipython3",
   "version": "3.10.12"
  }
 },
 "nbformat": 4,
 "nbformat_minor": 5
}
