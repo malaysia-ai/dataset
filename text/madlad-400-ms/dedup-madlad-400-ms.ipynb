{
 "cells": [
  {
   "cell_type": "code",
   "execution_count": 1,
   "id": "69b786dc",
   "metadata": {},
   "outputs": [],
   "source": [
    "import json\n",
    "import pandas as pd\n",
    "from tqdm import tqdm\n",
    "from datasets import Dataset\n",
    "from bs4 import BeautifulSoup"
   ]
  },
  {
   "cell_type": "code",
   "execution_count": null,
   "id": "19269eb1",
   "metadata": {},
   "outputs": [],
   "source": [
    "with open('madlad-400-ms.postprocessing.jsonl', 'w') as fopen_l:\n",
    "    with open('/home/ubuntu/madlad-400-ms.postprocessing.jsonl') as fopen:\n",
    "        for l in tqdm(fopen):\n",
    "            l = json.loads(l)\n",
    "            d = {\n",
    "                'text': l\n",
    "            }\n",
    "            fopen_l.write(f'{json.dumps(d)}\\n')"
   ]
  },
  {
   "cell_type": "code",
   "execution_count": null,
   "id": "91f9ef48",
   "metadata": {},
   "outputs": [],
   "source": [
    "!head -n 10000 madlad-400-ms.postprocessing.jsonl > test.jsonl"
   ]
  },
  {
   "cell_type": "code",
   "execution_count": null,
   "id": "eb166831",
   "metadata": {},
   "outputs": [],
   "source": [
    "from datasets import load_dataset\n",
    "dataset = load_dataset(\"json\", data_files=\"madlad-400-ms.postprocessing.jsonl\", split = 'train')"
   ]
  },
  {
   "cell_type": "code",
   "execution_count": null,
   "id": "b93732c2",
   "metadata": {},
   "outputs": [],
   "source": [
    "dataset.save_to_disk(f\"hf-datasets/raw-datasets/madlad-400-ms\")"
   ]
  },
  {
   "cell_type": "code",
   "execution_count": 2,
   "id": "f84f69d6",
   "metadata": {},
   "outputs": [
    {
     "data": {
      "text/plain": [
       "'python3 -m text_dedup.minhash   --path hf-datasets/raw-datasets/madlad-400-ms   --split train   --cache_dir ./cache   --output hf-datasets/dedupe-datasets/madlad-400-ms   --column text   --batch_size 1000   --threshold 0.95   --min_length 1   --local'"
      ]
     },
     "execution_count": 2,
     "metadata": {},
     "output_type": "execute_result"
    }
   ],
   "source": [
    "command = f\"python3 -m text_dedup.minhash \\\n",
    "  --path hf-datasets/raw-datasets/madlad-400-ms \\\n",
    "  --split train \\\n",
    "  --cache_dir ./cache \\\n",
    "  --output hf-datasets/dedupe-datasets/madlad-400-ms \\\n",
    "  --column text \\\n",
    "  --batch_size 1000 \\\n",
    "  --threshold 0.95 \\\n",
    "  --min_length 1 \\\n",
    "  --local\"\n",
    "\n",
    "command"
   ]
  },
  {
   "cell_type": "code",
   "execution_count": 5,
   "id": "4c337e35",
   "metadata": {},
   "outputs": [],
   "source": [
    "# import subprocess\n",
    "# subprocess.run(command, shell=True)"
   ]
  },
  {
   "cell_type": "code",
   "execution_count": 11,
   "id": "8b0099e9",
   "metadata": {},
   "outputs": [],
   "source": [
    "!rm -rf hf-datasets/dedupe-datasets/madlad-400-ms"
   ]
  },
  {
   "cell_type": "code",
   "execution_count": null,
   "id": "dc6a64ba",
   "metadata": {},
   "outputs": [],
   "source": []
  }
 ],
 "metadata": {
  "kernelspec": {
   "display_name": "Python 3 (ipykernel)",
   "language": "python",
   "name": "python3"
  },
  "language_info": {
   "codemirror_mode": {
    "name": "ipython",
    "version": 3
   },
   "file_extension": ".py",
   "mimetype": "text/x-python",
   "name": "python",
   "nbconvert_exporter": "python",
   "pygments_lexer": "ipython3",
   "version": "3.10.12"
  }
 },
 "nbformat": 4,
 "nbformat_minor": 5
}
