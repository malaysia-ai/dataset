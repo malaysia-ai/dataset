{
 "cells": [
  {
   "cell_type": "code",
   "execution_count": 1,
   "id": "94e853d3",
   "metadata": {},
   "outputs": [],
   "source": [
    "from transformers import (\n",
    "    AutoModelForCausalLM,\n",
    "    AutoTokenizer,\n",
    "    get_scheduler,\n",
    "    default_data_collator,\n",
    "    SchedulerType\n",
    ")\n",
    "import os\n",
    "import json\n",
    "from itertools import chain\n",
    "from datasets import load_dataset"
   ]
  },
  {
   "cell_type": "code",
   "execution_count": 2,
   "id": "0991658e",
   "metadata": {},
   "outputs": [
    {
     "name": "stderr",
     "output_type": "stream",
     "text": [
      "Special tokens have been added in the vocabulary, make sure the associated word embeddings are fine-tuned or trained.\n"
     ]
    }
   ],
   "source": [
    "train_file = 'combine-mistral.jsonl'\n",
    "tokenizer = AutoTokenizer.from_pretrained(\n",
    "    'mistralai/Mistral-7B-v0.1',\n",
    ")\n",
    "tokenizer.add_bos_token = False\n",
    "tokenizer.add_eos_token = False\n",
    "text_column_name = 'text'"
   ]
  },
  {
   "cell_type": "code",
   "execution_count": 3,
   "id": "b57b0f4e",
   "metadata": {},
   "outputs": [],
   "source": [
    "raw_datasets = load_dataset(\n",
    "    'json',\n",
    "    data_files=train_file,\n",
    "    split='train'\n",
    ")"
   ]
  },
  {
   "cell_type": "code",
   "execution_count": 4,
   "id": "4418b83d",
   "metadata": {},
   "outputs": [],
   "source": [
    "def tokenize_function(examples):\n",
    "    return tokenizer(examples[text_column_name])"
   ]
  },
  {
   "cell_type": "code",
   "execution_count": 5,
   "id": "9f627e70",
   "metadata": {},
   "outputs": [
    {
     "data": {
      "text/plain": [
       "Dataset({\n",
       "    features: ['input_ids', 'attention_mask'],\n",
       "    num_rows: 37117462\n",
       "})"
      ]
     },
     "execution_count": 5,
     "metadata": {},
     "output_type": "execute_result"
    }
   ],
   "source": [
    "filename = os.path.split(train_file)[1]\n",
    "column_names = raw_datasets.column_names\n",
    "tokenized_datasets = raw_datasets.map(\n",
    "    tokenize_function,\n",
    "    batched=True,\n",
    "    remove_columns=column_names,\n",
    "    load_from_cache_file=True,\n",
    "    cache_file_name=f'./{filename}-tokenized',\n",
    "    num_proc=20,\n",
    ")\n",
    "\n",
    "tokenized_datasets"
   ]
  },
  {
   "cell_type": "code",
   "execution_count": null,
   "id": "5cde86dd",
   "metadata": {},
   "outputs": [],
   "source": [
    "block_size = 4096\n",
    "\n",
    "def group_texts(examples):\n",
    "    concatenated_examples = {k: list(chain(*examples[k])) for k in examples.keys()}\n",
    "    total_length = len(concatenated_examples[list(examples.keys())[0]])\n",
    "    total_length = (total_length // block_size) * block_size\n",
    "    result = {\n",
    "        k: [t[i: i + block_size] for i in range(0, total_length, block_size)]\n",
    "        for k, t in concatenated_examples.items()\n",
    "    }\n",
    "    result[\"labels\"] = result[\"input_ids\"].copy()\n",
    "    return result\n",
    "\n",
    "lm_datasets = tokenized_datasets.map(\n",
    "    group_texts,\n",
    "    batched=True,\n",
    "    load_from_cache_file=True,\n",
    "    cache_file_name=f'./{filename}-grouped-{block_size}',\n",
    "    num_proc=20,\n",
    ")"
   ]
  },
  {
   "cell_type": "code",
   "execution_count": 8,
   "id": "548a923a",
   "metadata": {},
   "outputs": [
    {
     "data": {
      "text/plain": [
       "2521345"
      ]
     },
     "execution_count": 8,
     "metadata": {},
     "output_type": "execute_result"
    }
   ],
   "source": [
    "len(lm_datasets)"
   ]
  },
  {
   "cell_type": "code",
   "execution_count": 9,
   "id": "9a5e526d",
   "metadata": {},
   "outputs": [
    {
     "data": {
      "text/plain": [
       "'<s> [ke.pa.ya.han] | کڤايهنDefinisi : 1. perihal payah, kesukaran, ke\\xadsusahan: Wahab mendengar cerita-cerita tentang ~ penduduk pekan Tembeling akibat sekatan yg diadakan oleh kerajaan; 2. men\\xadderita payah (kesulitan, kekurangan): sedangkan hendak mendapat sesuap nasi ~, inikan pula hendak menziarahi tempat-tempat yg bersejarah; 3. kelelahan, keletihan: beberapa lamanya ia berdiam diri saja, terengah-engah spt orang ~. (Kamus Dewan Edisi Keempat) [ke.pa.ya.han] | کڤايهنDefinisi : hal atau keadaan payah; kesukaran; kesusahan: ~ penduduk kampung tsb berhubung dgn kawasan bandar telah mendapat perhatian drpd pihak kerajaan. (Kamus Pelajar Edisi Kedua) berpayah-payah memayahkan memperpayah kepayahan</s><s> Definisi : (ar-Razzaq) Ar Yang Maha Mem\\xadberi Rezeki (satu drpd 99 nama Allah). (Kamus Dewan Edisi Keempat)</s><s> [pen.dé.kla.ma.si] | ڤنديکلاماسيDefinisi : orang yg mendeklamasikan sajak, puisi dsb: beliau juga mendapat peng\\xadiktirafan sbg penulis dan ~ puisi tanah air. (Kamus Dewan Edisi Keempat) [pen.dé.kla.ma.si] | ڤنديکلاماسيDefinisi : orang yg mendeklamasikan sajak, puisi dsb. (Kamus Pelajar Edisi Kedua)</s><s> [ger.bang] | ݢربڠDefinisi : ; ~-gersul = ~-geresing Kl kusut tidak keruan; menggerbang terurai dan kusut (rambut): rambutnya ~ tidak terurus; menggerbangkan menyebabkan terurai (rambut), menjadikan menggerbang. (Kamus Dewan Edisi Keempat) [ger.bang] | ݢربڠDefinisi : 1. = pintu ~ pintu besar yg di sebelah atasnya kedapatan satu binaan melengkung, gapura; 2. ki alam: memasuki ~ perkahwinan; 3. (Komp) portal. (Kamus Dewan Edisi Keempat) [ger.bang] | ݢربڠDefinisi : , = menggerbang terurai dan kusut tidak keruan (ttg rambut). menggerbangkan membiarkan rambut menjadi kusut dan terurai; menjadikan menggerbang. (Kamus Pelajar Edisi Kedua) [ger.bang] | ݢربڠDefinisi : , = pintu ~ pintu besar di sesebuah kota dll. (Kamus Pelajar Edisi Kedua)</s><s> [ke.ré.wé.lan] | کريويلنDefinisi : perihal rewel (kerecokan, ke\\xadrusuhan, kesukaran). (Kamus Dewan Edisi Keempat) kerewelan</s><s> [ber.se.mé.méh] | برسميميهDefinisi : ber\\xadselekeh mulut (kerana terpalit kuih dll), cemuas, comot: solekan ~ apabila kita berpeluh. (Kamus Dewan Edisi Keempat)</s><s> [be.ru.rut.u.rut]/[ber.u.rut.u.rut] | براوروت-اوروتDefinisi : , berurut-urutan berturut-tu\\xadrut (nombor, bilangan, dll), beriring-iringan, beruntun-runtun; (Kamus Dewan Edisi Keempat)</s><s> [meng.ge.lo.dar] | مڠݢلودرDefinisi : menggelepar-gelepar hendak melepaskan diri, meronta-ronta. (Kamus Dewan Edisi Keempat)</s><s> [ke.qu.du.san] | کقدوسنDefinisi : kesucian, kebersihan (hati, batin, dll): dia akan jadi peruntuh pula, akan meruntuhkan kemanusiaan dan ~ manusia seluruhnya. (Kamus Dewan Edisi Keempat) kekudusan menguduskan</s><s> [me.ngéng.kol] | مڠيڠکولDefinisi : memutarkan engkol (utk menghidupkan enjin kereta dll). (Kamus Dewan Edisi Keempat) [me.ngéng.kol] | مڠيڠکولDefinisi : memutarkan engkol (utk menghidupkan enjin kereta). (Kamus Pelajar Edisi Kedua)</s><s> [kor.vét] | کورۏيتDefinisi : (korvét) sj kapal perang yg kecil dan laju: angkatan laut itu terdiri drpd berbagai-bagai jenis kapal perang termasuk beberapa buah ~. (Kamus Dewan Edisi Keempat)</s><s> [som.bong] | سومبوڠDefinisi : tinggi hati, angkuh, bongkak, cong\\xadkak, pongah: hanya orang yg ~ dan bong\\xadkak sahaja yg suka berkata begitu; hendak ~ berbini banyak, hendak megah berlawan lebih prb kerana hendak memperlihatkan ketinggian diri, maka hidup dlm kesukaran; menyombong berlaku sombong, membesar\\xadbesarkan diri: drpd gayanya yg ~ itu, nampak benarlah dia bukan orang dr kampung itu; menyombongkan berasa sombong kerana sesuatu, memegahkan, membanggakan: ja\\xadngan suka ~ ijazahmu; ~ diri memegahkan (meninggi-ninggikan) diri; kesombongan perihal (sifat dsb) sombong, keangkuhan: cukuplah ~ dan keangkuhanmu pd hari ini; penyombong orang yg sombong (suka me\\xadnyombong). (Kamus Dewan Edisi Keempat) [som.bong] | سومبوڠDefinisi : menghargai diri sendiri dgn berlebih-lebihan; tinggi hati; bong\\xadkak: Jangan berkawan dgn orang yg ~. menyombong berkelakuan atau ber\\xadlaku sombong: Jangan hendak ~ kpd aku. menyombongkan me\\xadnyombong ttg sesuatu; memegahkan: Janganlah engkau leka ~ kekayaanmu. ~ diri me\\xadninggi-ninggikan (memegahkan) diri. kesombongan sifat sombong; keangkuhan. penyombong orang yg sombong. (Kamus Pelajar Edisi Kedua) menyombong menyombongkan kesombongan</s><s> [kré.di.tor] | کريديتورDefinisi : (kréditor) pemiutang. (Kamus Dewan Edisi Keempat)</s><s> [ter.tim.bus] | ترتيمبوسDefinisi : ditimbus, tertimbun, terkambus: mereka menjumpai tulang gajah yg besar ini ~ di bawah tanah; (Kamus Dewan Edisi Keempat) [ter.tim.bus] | ترتيمبوسDefinisi : ter\\xad\\xadtutup oleh tanah dll; terkambus, tertimbun. (Kamus Pelajar Edisi Kedua) menimbus menimbusi tertimbus</s><s> [me.ma.lui]/[me.ma.lu.i] | ممالوءيDefinisi : ark 1. menaruh malu pd: dialah yg harus kaumalui; 2. menghormati, mena\\xadkuti, menyegani: pd ketika itu segala anak raja-raja Inderagiri tiada dimalui oleh segala anak tuan-tuan Melaka; (Kamus Dewan Edisi Keempat)</s><s> [men.cin.ta] | منچينتاDefinisi : 1. menaruh cinta atau kasih (kpd); 2. sl berdukacita (akan), bersedih hati, menyesal; (Kamus Dewan Edisi Keempat)</s><s> [a.lé.go.ri] | اليݢوريDefinisi : (alégori) sesuatu karya (cerita, puisi dsb) yg menggunakan watak, peristiwa dll sbg lambang utk menerangkan (menyampaikan) sesuatu yg lebih mendalam: Mantiq al-Tair merupakan sebuah ~ yg dipilih utk dibicara\\xadkan sbg satu pengenalan kpd karya sufi; mengalegorikan mengubah sesuatu karya (cerita dsb) menjadi alegori, mengubah sesuatu dlm bentuk alegori. (Kamus Dewan Edisi Keempat)</s><s> [ke.ne.ga.ra.an] | کنݢاراءنDefinisi : perihal negara: hidup kemasya\\xadrakatan dan hidup ~. (Kamus Dewan Edisi Keempat) [ke.ne.ga.ra.an] | کنݢاراءنDefinisi : segala yg berkaitan dgn negara. (Kamus Pelajar Edisi Kedua)</s><s> [ber.te.kap] | برتکڤDefinisi : bertudung dgn sesuatu yg pipih atau mungkum: mukanya ~ dgn sapu tangan; (Kamus Dewan Edisi Keempat) [ber.te.kap] | برتکڤDefinisi : bertudung atau bertutup dgn sesuatu yg pipih atau mungkum: ~ mulut menutup mulut dgn tapak tangan. (Kamus Pelajar Edisi Kedua)</s><s> [pem.fak.to.ran] | ڤمفکتورنDefinisi : 1. (Eko) kaedah mengambil alih risiko hutang yg belum dibayar dgn mengenakan bayaran perkhidmatan tertentu (biasanya oleh institusi kewangan); 2. (Mat) perbuatan mencari faktor kpd sesuatu nombor. (Kamus Dewan Edisi Keempat) [pem.fak.to.ran] | ڤمفکتورنDefinisi : ist perihal mencari faktor sesuatu nombor (rangkap dll). (Kamus Pelajar Edisi Kedua)</s><s> [di.dé.king] | دديکيڠDefinisi : 1. bp dihalangi, disekat; 2. di\\xadlindungi, dinaungi. (Kamus Dewan Edisi Keempat)</s><s> Definisi : (félcra) akronim bagi Federal Land Consolidation and Rehabilitation Authority (Lembaga Penyatuan dan Pemulihan Tanah Persekutuan). (Kamus Dewan Edisi Keempat)</s><s> [tén.jét] | تينجيتDefinisi : (ténjét); bertenjet-tenjet berdiri (berjalan) dgn hujung jari kaki, berjengket. (Kamus Dewan Edisi Keempat) [tén.jét] | تينجيتDefinisi : /ténjét/; bertenjet-tenjet ber\\xaddiri atau berjalan di atas hujung jari kaki; berjengket. (Kamus Pelajar Edisi Kedua)</s><s> [ber.kha.bar] | برخبرDefinisi : berkata-kata, bercerita, memberitahu: maka ~lah ia kpd anak-anak perahu mengatakan ada perahu lanun di Tanjung Tujuh; diamlah ia tiada mahu ~ lagi; ia berkhabarkan kpd kami di dlm mimpi akan rupa Puteri Bungsu itu; (Kamus Dewan Edisi Keempat) [ber.kha.bar] | برخبرDefinisi : bercerita; berkata-kata. (Kamus Pelajar Edisi Kedua) khabarnya berkhabar berkhabarkan mengkhabarkan terkhabar perkhabaran</s><s> [be.ba.lai] | ببالايDefinisi : Jw sj tempat duduk atau tempat tidur yg dibuat drpd buluh (kayu), amben. (Kamus Dewan Edisi Keempat)</s><s> [per.gam] | ڤرݢمDefinisi : sj burung merpati besar, Ducula aenea polia; ~ bukit sj burung merpati besar, Ducula b. badia. (Kamus Dewan Edisi Keempat)</s><s> Definisi : menjadikan (undang-undang dll) berkuat kuasa, melaksanakan (undang-undang, peraturan, dll): negeri itu ~ undang-undang melarang menuba ikan; perintah berkurung dikuatkuasakan dr pukul 8 malam hingga pukul 5 pagi; (Kamus Dewan Edisi Keempat) Definisi : menjadikan berkuatkuasa; melaksanakan: Perintah berkurung telah dikuatkuasakan di tempat itu. (Kamus Pelajar Edisi Kedua) berkuat kuasa menguatkuasakan penguatkuasaan penguat kuasa</s><s> [me.ra.wang] | مراوڠDefinisi : merambang, me\\xadrawak: janganlah kamu fikirkan perkara-perkara itu ~ saja; matanya liar ~ ke sana ke mari. (Kamus Dewan Edisi Keempat) [me.ra.wang] | مراوڠDefinisi : merambang, me\\xadrawak: janganlah kamu fikirkan perkara-perkara itu ~ saja; matanya liar ~ ke sana ke mari. (Kamus Dewan Edisi Keempat)</s><s> [pa.rit] | ڤاريتDefinisi : 1. alur (salur dll) utk mengalirkan air dll; 2. lubang yg panjang dlm tanah (sbg kubu dll); 3. alir, terusan air, tali air; 4. lubang tempat menggali bijih'"
      ]
     },
     "execution_count": 9,
     "metadata": {},
     "output_type": "execute_result"
    }
   ],
   "source": [
    "tokenizer.decode(lm_datasets[0]['input_ids'])"
   ]
  },
  {
   "cell_type": "code",
   "execution_count": null,
   "id": "00018db9",
   "metadata": {},
   "outputs": [],
   "source": []
  }
 ],
 "metadata": {
  "kernelspec": {
   "display_name": "Python 3 (ipykernel)",
   "language": "python",
   "name": "python3"
  },
  "language_info": {
   "codemirror_mode": {
    "name": "ipython",
    "version": 3
   },
   "file_extension": ".py",
   "mimetype": "text/x-python",
   "name": "python",
   "nbconvert_exporter": "python",
   "pygments_lexer": "ipython3",
   "version": "3.10.12"
  }
 },
 "nbformat": 4,
 "nbformat_minor": 5
}
