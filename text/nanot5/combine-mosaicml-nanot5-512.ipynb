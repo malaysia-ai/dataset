{
 "cells": [
  {
   "cell_type": "code",
   "execution_count": 3,
   "id": "73f41b8a",
   "metadata": {},
   "outputs": [],
   "source": [
    "from glob import glob\n",
    "from streaming import MDSWriter\n",
    "from streaming import StreamingDataset\n",
    "from transformers import default_data_collator\n",
    "from tqdm import tqdm\n",
    "import numpy as np"
   ]
  },
  {
   "cell_type": "code",
   "execution_count": 5,
   "id": "1f3d3587",
   "metadata": {},
   "outputs": [],
   "source": [
    "!rm -rf nanot5-512"
   ]
  },
  {
   "cell_type": "code",
   "execution_count": 6,
   "id": "23cce23d",
   "metadata": {},
   "outputs": [
    {
     "data": {
      "text/plain": [
       "['nanot5-0',\n",
       " 'nanot5-1',\n",
       " 'nanot5-2',\n",
       " 'nanot5-3',\n",
       " 'nanot5-4',\n",
       " 'nanot5-5',\n",
       " 'nanot5-6',\n",
       " 'nanot5-7',\n",
       " 'nanot5-8',\n",
       " 'nanot5-9',\n",
       " 'nanot5-10',\n",
       " 'nanot5-11',\n",
       " 'nanot5-12',\n",
       " 'nanot5-13',\n",
       " 'nanot5-14',\n",
       " 'nanot5-15',\n",
       " 'nanot5-16',\n",
       " 'nanot5-17',\n",
       " 'nanot5-18',\n",
       " 'nanot5-19',\n",
       " 'nanot5-20',\n",
       " 'nanot5-21',\n",
       " 'nanot5-22',\n",
       " 'nanot5-23',\n",
       " 'nanot5-24',\n",
       " 'nanot5-25',\n",
       " 'nanot5-26',\n",
       " 'nanot5-27',\n",
       " 'nanot5-28',\n",
       " 'nanot5-29']"
      ]
     },
     "execution_count": 6,
     "metadata": {},
     "output_type": "execute_result"
    }
   ],
   "source": [
    "folders = glob('nanot5-*')\n",
    "folders = sorted(folders, key = lambda x: int(x.split('-')[-1]))\n",
    "folders"
   ]
  },
  {
   "cell_type": "code",
   "execution_count": 7,
   "id": "9855b54d",
   "metadata": {},
   "outputs": [],
   "source": [
    "from streaming.base.format.mds.encodings import Encoding, _encodings\n",
    "\n",
    "class Int32(Encoding):\n",
    "    def encode(self, obj) -> bytes:\n",
    "        return obj.tobytes()\n",
    "\n",
    "    def decode(self, data: bytes):\n",
    "        return np.frombuffer(data, np.int32)\n",
    "\n",
    "_encodings['int32'] = Int32"
   ]
  },
  {
   "cell_type": "code",
   "execution_count": 8,
   "id": "d49f16b6",
   "metadata": {},
   "outputs": [],
   "source": [
    "columns = {\n",
    "    'input_ids': 'int32',\n",
    "}\n",
    "compression = 'zstd'\n",
    "hashes = 'sha1', 'xxh64'"
   ]
  },
  {
   "cell_type": "code",
   "execution_count": 9,
   "id": "05f8eeb5",
   "metadata": {},
   "outputs": [],
   "source": [
    "!rm -rf nanot5-512"
   ]
  },
  {
   "cell_type": "code",
   "execution_count": 10,
   "id": "777b7e95",
   "metadata": {},
   "outputs": [
    {
     "name": "stderr",
     "output_type": "stream",
     "text": [
      "100%|██████████| 4398060/4398060 [03:27<00:00, 21184.03it/s]\n",
      "100%|██████████| 635893/635893 [00:30<00:00, 20813.50it/s]\n",
      "100%|██████████| 855400/855400 [00:42<00:00, 20180.59it/s]\n",
      "100%|██████████| 804710/804710 [00:37<00:00, 21443.98it/s]\n",
      "100%|██████████| 805724/805724 [00:41<00:00, 19298.82it/s]\n",
      "100%|██████████| 661929/661929 [00:32<00:00, 20174.33it/s]\n",
      "100%|██████████| 629884/629884 [00:39<00:00, 15854.09it/s]\n",
      "100%|██████████| 622476/622476 [00:37<00:00, 16753.33it/s]\n",
      "100%|██████████| 406799/406799 [00:24<00:00, 16362.57it/s]\n",
      "100%|██████████| 303284/303284 [00:15<00:00, 19149.00it/s]\n",
      "100%|██████████| 306371/306371 [00:17<00:00, 17435.18it/s]\n",
      "100%|██████████| 307173/307173 [00:16<00:00, 18800.55it/s]\n",
      "100%|██████████| 310475/310475 [00:14<00:00, 20895.22it/s]\n",
      "100%|██████████| 312804/312804 [00:15<00:00, 20091.23it/s]\n",
      "100%|██████████| 314389/314389 [00:15<00:00, 20882.24it/s]\n",
      "100%|██████████| 313495/313495 [00:15<00:00, 20571.60it/s]\n",
      "100%|██████████| 2007768/2007768 [01:35<00:00, 20971.98it/s]\n",
      "100%|██████████| 670233/670233 [00:33<00:00, 19874.45it/s]\n",
      "100%|██████████| 666814/666814 [00:32<00:00, 20601.12it/s]\n",
      "100%|██████████| 952864/952864 [00:46<00:00, 20345.55it/s]\n",
      "100%|██████████| 748937/748937 [00:35<00:00, 21061.62it/s]\n",
      "100%|██████████| 888804/888804 [00:41<00:00, 21446.92it/s]\n",
      "100%|██████████| 848139/848139 [00:42<00:00, 20123.45it/s]\n",
      "100%|██████████| 790532/790532 [00:41<00:00, 18874.32it/s]\n",
      "100%|██████████| 249272/249272 [00:12<00:00, 19561.72it/s]\n",
      "100%|██████████| 249395/249395 [00:12<00:00, 19936.03it/s]\n",
      "100%|██████████| 1575448/1575448 [01:25<00:00, 18395.86it/s]\n",
      "100%|██████████| 1347509/1347509 [01:09<00:00, 19308.31it/s]\n",
      "100%|██████████| 3596442/3596442 [03:00<00:00, 19887.15it/s]\n",
      "100%|██████████| 3798276/3798276 [03:12<00:00, 19712.86it/s]\n"
     ]
    }
   ],
   "source": [
    "with MDSWriter(out='nanot5-512', columns=columns, compression=compression, hashes=hashes) as out:\n",
    "    for f in folders:\n",
    "        try:\n",
    "            dataset = StreamingDataset(local=f)\n",
    "            for i in tqdm(range(len(dataset))):\n",
    "                out.write(dataset[i])\n",
    "        except Exception as e:\n",
    "            print(e)\n",
    "            pass"
   ]
  },
  {
   "cell_type": "code",
   "execution_count": 11,
   "id": "7b45ec78",
   "metadata": {
    "scrolled": true
   },
   "outputs": [
    {
     "name": "stdout",
     "output_type": "stream",
     "text": [
      "CPU times: user 312 ms, sys: 96.7 ms, total: 409 ms\n",
      "Wall time: 406 ms\n"
     ]
    }
   ],
   "source": [
    "%%time\n",
    "dataset = StreamingDataset(local='nanot5-512')"
   ]
  },
  {
   "cell_type": "code",
   "execution_count": 13,
   "id": "fdebf2d5",
   "metadata": {},
   "outputs": [
    {
     "data": {
      "text/plain": [
       "(568,)"
      ]
     },
     "execution_count": 13,
     "metadata": {},
     "output_type": "execute_result"
    }
   ],
   "source": [
    "dataset[0]['input_ids'].shape"
   ]
  },
  {
   "cell_type": "code",
   "execution_count": null,
   "id": "78c7adbf",
   "metadata": {},
   "outputs": [],
   "source": []
  }
 ],
 "metadata": {
  "kernelspec": {
   "display_name": "Python 3 (ipykernel)",
   "language": "python",
   "name": "python3"
  },
  "language_info": {
   "codemirror_mode": {
    "name": "ipython",
    "version": 3
   },
   "file_extension": ".py",
   "mimetype": "text/x-python",
   "name": "python",
   "nbconvert_exporter": "python",
   "pygments_lexer": "ipython3",
   "version": "3.10.12"
  }
 },
 "nbformat": 4,
 "nbformat_minor": 5
}
