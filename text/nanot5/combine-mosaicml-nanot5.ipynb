{
 "cells": [
  {
   "cell_type": "code",
   "execution_count": 1,
   "id": "73f41b8a",
   "metadata": {},
   "outputs": [],
   "source": [
    "from glob import glob\n",
    "from streaming import MDSWriter\n",
    "from streaming import StreamingDataset\n",
    "from transformers import default_data_collator\n",
    "from tqdm import tqdm\n",
    "import numpy as np"
   ]
  },
  {
   "cell_type": "code",
   "execution_count": 2,
   "id": "54a5b832",
   "metadata": {},
   "outputs": [
    {
     "name": "stdout",
     "output_type": "stream",
     "text": [
      "410M\tnanot5-0\r\n",
      "213M\tnanot5-1\r\n",
      "265M\tnanot5-10\r\n",
      "2.6G\tnanot5-11\r\n",
      "533M\tnanot5-12\r\n",
      "527M\tnanot5-13\r\n",
      "1.1G\tnanot5-14\r\n",
      "679M\tnanot5-15\r\n",
      "542M\tnanot5-16\r\n",
      "407M\tnanot5-17\r\n",
      "527M\tnanot5-18\r\n",
      "279M\tnanot5-19\r\n",
      "346M\tnanot5-2\r\n",
      "562M\tnanot5-20\r\n",
      "279M\tnanot5-21\r\n",
      "860M\tnanot5-22\r\n",
      "563M\tnanot5-23\r\n",
      "523M\tnanot5-24\r\n",
      "556M\tnanot5-25\r\n",
      "765M\tnanot5-26\r\n",
      "2.8G\tnanot5-27\r\n",
      "2.7G\tnanot5-28\r\n",
      "277M\tnanot5-29\r\n",
      "850M\tnanot5-3\r\n",
      "715M\tnanot5-4\r\n",
      "274M\tnanot5-5\r\n",
      "213M\tnanot5-6\r\n",
      "270M\tnanot5-7\r\n",
      "269M\tnanot5-8\r\n",
      "678M\tnanot5-9\r\n"
     ]
    }
   ],
   "source": [
    "!du -hs nanot5-*"
   ]
  },
  {
   "cell_type": "code",
   "execution_count": 3,
   "id": "23cce23d",
   "metadata": {},
   "outputs": [
    {
     "data": {
      "text/plain": [
       "['nanot5-13',\n",
       " 'nanot5-5',\n",
       " 'nanot5-16',\n",
       " 'nanot5-24',\n",
       " 'nanot5-0',\n",
       " 'nanot5-10',\n",
       " 'nanot5-22',\n",
       " 'nanot5-1',\n",
       " 'nanot5-19',\n",
       " 'nanot5-23',\n",
       " 'nanot5-20',\n",
       " 'nanot5-8',\n",
       " 'nanot5-18',\n",
       " 'nanot5-12',\n",
       " 'nanot5-4',\n",
       " 'nanot5-14',\n",
       " 'nanot5-21',\n",
       " 'nanot5-29',\n",
       " 'nanot5-3',\n",
       " 'nanot5-27',\n",
       " 'nanot5-25',\n",
       " 'nanot5-11',\n",
       " 'nanot5-26',\n",
       " 'nanot5-15',\n",
       " 'nanot5-6',\n",
       " 'nanot5-7',\n",
       " 'nanot5-17',\n",
       " 'nanot5-2',\n",
       " 'nanot5-28',\n",
       " 'nanot5-9']"
      ]
     },
     "execution_count": 3,
     "metadata": {},
     "output_type": "execute_result"
    }
   ],
   "source": [
    "folders = glob('nanot5-*')\n",
    "folders"
   ]
  },
  {
   "cell_type": "code",
   "execution_count": 4,
   "id": "9855b54d",
   "metadata": {},
   "outputs": [],
   "source": [
    "from streaming.base.format.mds.encodings import Encoding, _encodings\n",
    "\n",
    "class Int32(Encoding):\n",
    "    def encode(self, obj) -> bytes:\n",
    "        return obj.tobytes()\n",
    "\n",
    "    def decode(self, data: bytes):\n",
    "        return np.frombuffer(data, np.int32)\n",
    "\n",
    "_encodings['int32'] = Int32"
   ]
  },
  {
   "cell_type": "code",
   "execution_count": 5,
   "id": "d49f16b6",
   "metadata": {},
   "outputs": [],
   "source": [
    "columns = {\n",
    "    'input_ids': 'int32',\n",
    "}\n",
    "compression = 'zstd'\n",
    "hashes = 'sha1', 'xxh64'"
   ]
  },
  {
   "cell_type": "code",
   "execution_count": 6,
   "id": "05f8eeb5",
   "metadata": {},
   "outputs": [],
   "source": [
    "!rm -rf nanot5"
   ]
  },
  {
   "cell_type": "code",
   "execution_count": 7,
   "id": "777b7e95",
   "metadata": {},
   "outputs": [
    {
     "name": "stderr",
     "output_type": "stream",
     "text": [
      "100%|██████████| 209998/209998 [00:14<00:00, 14336.32it/s]\n",
      "100%|██████████| 75700/75700 [00:05<00:00, 13102.24it/s]\n",
      "100%|██████████| 156996/156996 [00:11<00:00, 13155.62it/s]\n",
      "100%|██████████| 153555/153555 [00:13<00:00, 11083.23it/s]\n",
      "100%|██████████| 220153/220153 [00:16<00:00, 13347.62it/s]\n",
      "100%|██████████| 73893/73893 [00:08<00:00, 8566.84it/s] \n",
      "100%|██████████| 499635/499635 [00:47<00:00, 10575.34it/s]\n",
      "100%|██████████| 59934/59934 [00:11<00:00, 5332.73it/s] \n",
      "100%|██████████| 76641/76641 [00:09<00:00, 7777.42it/s] \n",
      "100%|██████████| 165516/165516 [00:12<00:00, 12737.18it/s]\n",
      "100%|██████████| 164680/164680 [00:13<00:00, 12370.63it/s]\n",
      "100%|██████████| 74595/74595 [00:06<00:00, 12408.88it/s]\n",
      "100%|██████████| 155490/155490 [00:13<00:00, 11952.55it/s]\n",
      "100%|██████████| 195517/195517 [00:16<00:00, 12096.84it/s]\n",
      "100%|██████████| 211778/211778 [00:19<00:00, 10638.00it/s]\n",
      "100%|██████████| 334717/334717 [00:26<00:00, 12473.51it/s]\n",
      "100%|██████████| 76422/76422 [00:07<00:00, 10302.24it/s]\n",
      "100%|██████████| 76285/76285 [00:05<00:00, 12925.63it/s]\n",
      "100%|██████████| 391555/391555 [00:34<00:00, 11272.15it/s]\n",
      "100%|██████████| 946894/946894 [01:19<00:00, 11903.29it/s]\n",
      "100%|██████████| 163491/163491 [00:14<00:00, 11407.26it/s]\n",
      "100%|██████████| 1096698/1096698 [01:25<00:00, 12838.12it/s]\n",
      "100%|██████████| 236166/236166 [00:20<00:00, 11479.97it/s]\n",
      "100%|██████████| 199416/199416 [00:15<00:00, 12718.87it/s]\n",
      "100%|██████████| 59940/59940 [00:05<00:00, 11361.08it/s]\n",
      "100%|██████████| 74827/74827 [00:07<00:00, 9824.07it/s] \n",
      "100%|██████████| 185187/185187 [00:13<00:00, 13915.66it/s]\n",
      "100%|██████████| 99742/99742 [00:08<00:00, 12090.38it/s]\n",
      "100%|██████████| 896443/896443 [01:15<00:00, 11803.47it/s]\n",
      "100%|██████████| 199137/199137 [00:19<00:00, 10301.36it/s]\n"
     ]
    }
   ],
   "source": [
    "with MDSWriter(out='nanot5', columns=columns, compression=compression, hashes=hashes) as out:\n",
    "    for f in folders:\n",
    "        try:\n",
    "            dataset = StreamingDataset(local=f)\n",
    "            for i in tqdm(range(len(dataset))):\n",
    "                out.write(dataset[i])\n",
    "        except Exception as e:\n",
    "            print(e)\n",
    "            pass"
   ]
  },
  {
   "cell_type": "code",
   "execution_count": 10,
   "id": "7b45ec78",
   "metadata": {},
   "outputs": [
    {
     "name": "stdout",
     "output_type": "stream",
     "text": [
      "CPU times: user 62.8 ms, sys: 12.4 ms, total: 75.2 ms\n",
      "Wall time: 74.1 ms\n"
     ]
    }
   ],
   "source": [
    "%%time\n",
    "dataset = StreamingDataset(local='nanot5')"
   ]
  },
  {
   "cell_type": "code",
   "execution_count": 14,
   "id": "63573392",
   "metadata": {},
   "outputs": [
    {
     "data": {
      "text/plain": [
       "{'input_ids': array([    1,   331, 11484, ...,  1515,    80,    17], dtype=int32)}"
      ]
     },
     "execution_count": 14,
     "metadata": {},
     "output_type": "execute_result"
    }
   ],
   "source": [
    "dataset[0]"
   ]
  },
  {
   "cell_type": "code",
   "execution_count": null,
   "id": "b7dcd8aa",
   "metadata": {},
   "outputs": [],
   "source": [
    "model(**padded)"
   ]
  }
 ],
 "metadata": {
  "kernelspec": {
   "display_name": "Python 3 (ipykernel)",
   "language": "python",
   "name": "python3"
  },
  "language_info": {
   "codemirror_mode": {
    "name": "ipython",
    "version": 3
   },
   "file_extension": ".py",
   "mimetype": "text/x-python",
   "name": "python",
   "nbconvert_exporter": "python",
   "pygments_lexer": "ipython3",
   "version": "3.10.12"
  }
 },
 "nbformat": 4,
 "nbformat_minor": 5
}
