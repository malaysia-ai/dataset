{
 "cells": [
  {
   "cell_type": "code",
   "execution_count": 1,
   "id": "d525a578",
   "metadata": {},
   "outputs": [],
   "source": [
    "import mp\n",
    "import os\n",
    "import pyarrow as pa\n",
    "import numpy as np\n",
    "from streaming import MDSWriter\n",
    "from tqdm import tqdm"
   ]
  },
  {
   "cell_type": "code",
   "execution_count": 2,
   "id": "7a4a478b",
   "metadata": {},
   "outputs": [],
   "source": [
    "from streaming.base.format.mds.encodings import Encoding, _encodings\n",
    "\n",
    "class Int32(Encoding):\n",
    "    def encode(self, obj) -> bytes:\n",
    "        return obj.tobytes()\n",
    "\n",
    "    def decode(self, data: bytes):\n",
    "        return np.frombuffer(data, np.int32)\n",
    "\n",
    "_encodings['int32'] = Int32"
   ]
  },
  {
   "cell_type": "code",
   "execution_count": 3,
   "id": "bf753e81",
   "metadata": {},
   "outputs": [],
   "source": [
    "columns = {\n",
    "    'input_ids': 'int32',\n",
    "}\n",
    "compression = 'zstd'\n",
    "hashes = 'sha1', 'xxh64'"
   ]
  },
  {
   "cell_type": "code",
   "execution_count": 6,
   "id": "543dea40",
   "metadata": {},
   "outputs": [
    {
     "data": {
      "text/plain": [
       "['combine-lm_00000_of_00030.jsonl-tokenized',\n",
       " 'combine-lm_00001_of_00030.jsonl-tokenized',\n",
       " 'combine-lm_00002_of_00030.jsonl-tokenized',\n",
       " 'combine-lm_00003_of_00030.jsonl-tokenized',\n",
       " 'combine-lm_00004_of_00030.jsonl-tokenized',\n",
       " 'combine-lm_00005_of_00030.jsonl-tokenized',\n",
       " 'combine-lm_00006_of_00030.jsonl-tokenized',\n",
       " 'combine-lm_00007_of_00030.jsonl-tokenized',\n",
       " 'combine-lm_00008_of_00030.jsonl-tokenized',\n",
       " 'combine-lm_00009_of_00030.jsonl-tokenized',\n",
       " 'combine-lm_00010_of_00030.jsonl-tokenized',\n",
       " 'combine-lm_00011_of_00030.jsonl-tokenized',\n",
       " 'combine-lm_00012_of_00030.jsonl-tokenized',\n",
       " 'combine-lm_00013_of_00030.jsonl-tokenized',\n",
       " 'combine-lm_00014_of_00030.jsonl-tokenized',\n",
       " 'combine-lm_00015_of_00030.jsonl-tokenized',\n",
       " 'combine-lm_00016_of_00030.jsonl-tokenized',\n",
       " 'combine-lm_00017_of_00030.jsonl-tokenized',\n",
       " 'combine-lm_00018_of_00030.jsonl-tokenized',\n",
       " 'combine-lm_00019_of_00030.jsonl-tokenized',\n",
       " 'combine-lm_00020_of_00030.jsonl-tokenized',\n",
       " 'combine-lm_00021_of_00030.jsonl-tokenized',\n",
       " 'combine-lm_00022_of_00030.jsonl-tokenized',\n",
       " 'combine-lm_00023_of_00030.jsonl-tokenized',\n",
       " 'combine-lm_00024_of_00030.jsonl-tokenized',\n",
       " 'combine-lm_00025_of_00030.jsonl-tokenized',\n",
       " 'combine-lm_00026_of_00030.jsonl-tokenized',\n",
       " 'combine-lm_00027_of_00030.jsonl-tokenized',\n",
       " 'combine-lm_00028_of_00030.jsonl-tokenized',\n",
       " 'combine-lm_00029_of_00030.jsonl-tokenized']"
      ]
     },
     "execution_count": 6,
     "metadata": {},
     "output_type": "execute_result"
    }
   ],
   "source": [
    "from glob import glob\n",
    "\n",
    "files = glob('combine-lm_*_of_00030.jsonl-tokenized')\n",
    "files = sorted(files)\n",
    "files"
   ]
  },
  {
   "cell_type": "code",
   "execution_count": 7,
   "id": "2ff4c8a8",
   "metadata": {},
   "outputs": [],
   "source": [
    "def loop(files):\n",
    "    files, index = files\n",
    "    out_root = f'nanot5-{index}'\n",
    "    os.system(f'rm -rf {out_root}')\n",
    "    with MDSWriter(out=out_root, columns=columns, compression=compression, hashes=hashes, \n",
    "                   size_limit = 67108864 * 2) as out:\n",
    "        for f in files:\n",
    "            memory_mapped_stream = pa.memory_map(f)\n",
    "            opened_stream = pa.ipc.open_stream(memory_mapped_stream)\n",
    "            for a in tqdm(opened_stream):\n",
    "                s = a.to_struct_array()\n",
    "                for i in range(len(s)):\n",
    "                    keys = list(s[i])\n",
    "                    a_ = {}\n",
    "                    for k in keys:\n",
    "                        a_[k] = np.array(s[i][k].as_py()).astype(np.int32)\n",
    "                    out.write(a_)"
   ]
  },
  {
   "cell_type": "code",
   "execution_count": 8,
   "id": "162d5d3a",
   "metadata": {},
   "outputs": [
    {
     "name": "stderr",
     "output_type": "stream",
     "text": [
      "4976it [00:57, 85.94it/s]\n",
      "4976it [00:58, 85.71it/s]\n",
      "4976it [01:10, 70.29it/s]\n",
      "4976it [01:11, 69.36it/s]\n",
      "4886it [01:11, 67.82it/s]\n",
      "4976it [01:12, 68.86it/s]\n",
      "4976it [01:12, 68.75it/s]\n",
      "447it [01:12,  5.30it/s]]\n",
      "2375it [01:13, 34.55it/s]\n",
      "2108it [01:36, 18.61it/s]\n",
      "4978it [02:25, 34.32it/s]\n",
      "4976it [02:25, 34.29it/s]\n",
      "4978it [02:26, 34.02it/s]\n",
      "4978it [02:31, 32.77it/s]\n",
      "4977it [02:32, 32.61it/s]\n",
      "4976it [02:33, 32.50it/s]\n",
      "4976it [02:49, 29.28it/s]\n",
      "5012it [03:00, 27.81it/s]\n",
      "4976it [03:03, 27.14it/s]\n",
      "4976it [03:04, 26.92it/s]\n",
      "4976it [03:12, 25.86it/s]\n",
      "5010it [03:15, 25.63it/s]\n",
      "4977it [03:21, 24.66it/s]\n",
      "5022it [03:36, 23.18it/s]\n",
      "5002it [05:05, 16.38it/s] \n",
      "5076it [05:54, 14.33it/s]\n",
      "6080it [07:31, 13.46it/s]\n",
      "6083it [13:22,  7.58it/s]\n",
      "5702it [14:09,  6.72it/s]\n",
      "7612it [16:25,  7.73it/s]\n"
     ]
    }
   ],
   "source": [
    "mp.multiprocessing(files, loop, cores = 30, returned = False)"
   ]
  }
 ],
 "metadata": {
  "kernelspec": {
   "display_name": "Python 3 (ipykernel)",
   "language": "python",
   "name": "python3"
  },
  "language_info": {
   "codemirror_mode": {
    "name": "ipython",
    "version": 3
   },
   "file_extension": ".py",
   "mimetype": "text/x-python",
   "name": "python",
   "nbconvert_exporter": "python",
   "pygments_lexer": "ipython3",
   "version": "3.10.12"
  }
 },
 "nbformat": 4,
 "nbformat_minor": 5
}
