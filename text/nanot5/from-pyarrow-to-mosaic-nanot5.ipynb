{
 "cells": [
  {
   "cell_type": "code",
   "execution_count": 1,
   "id": "d525a578",
   "metadata": {},
   "outputs": [],
   "source": [
    "import mp\n",
    "import os\n",
    "import pyarrow as pa\n",
    "import numpy as np\n",
    "from streaming import MDSWriter\n",
    "from tqdm import tqdm"
   ]
  },
  {
   "cell_type": "code",
   "execution_count": 2,
   "id": "7a4a478b",
   "metadata": {},
   "outputs": [],
   "source": [
    "from streaming.base.format.mds.encodings import Encoding, _encodings\n",
    "\n",
    "class Int32(Encoding):\n",
    "    def encode(self, obj) -> bytes:\n",
    "        return obj.tobytes()\n",
    "\n",
    "    def decode(self, data: bytes):\n",
    "        return np.frombuffer(data, np.int32)\n",
    "\n",
    "_encodings['int32'] = Int32"
   ]
  },
  {
   "cell_type": "code",
   "execution_count": 11,
   "id": "bf753e81",
   "metadata": {},
   "outputs": [],
   "source": [
    "columns = {\n",
    "    'input_ids': 'int32',\n",
    "}\n",
    "compression = 'zstd'\n",
    "hashes = 'sha1', 'xxh64'"
   ]
  },
  {
   "cell_type": "code",
   "execution_count": 4,
   "id": "543dea40",
   "metadata": {},
   "outputs": [
    {
     "data": {
      "text/plain": [
       "['combine-lm_00021_of_00030.jsonl-tokenized',\n",
       " 'combine-lm_00025_of_00030.jsonl-tokenized',\n",
       " 'combine-lm_00008_of_00030.jsonl-tokenized',\n",
       " 'combine-lm_00026_of_00030.jsonl-tokenized',\n",
       " 'combine-lm_00002_of_00030.jsonl-tokenized',\n",
       " 'combine-lm_00012_of_00030.jsonl-tokenized',\n",
       " 'combine-lm_00024_of_00030.jsonl-tokenized',\n",
       " 'combine-lm_00011_of_00030.jsonl-tokenized',\n",
       " 'combine-lm_00010_of_00030.jsonl-tokenized',\n",
       " 'combine-lm_00003_of_00030.jsonl-tokenized',\n",
       " 'combine-lm_00009_of_00030.jsonl-tokenized',\n",
       " 'combine-lm_00000_of_00030.jsonl-tokenized',\n",
       " 'combine-lm_00023_of_00030.jsonl-tokenized',\n",
       " 'combine-lm_00022_of_00030.jsonl-tokenized',\n",
       " 'combine-lm_00027_of_00030.jsonl-tokenized',\n",
       " 'combine-lm_00004_of_00030.jsonl-tokenized',\n",
       " 'combine-lm_00001_of_00030.jsonl-tokenized',\n",
       " 'combine-lm_00020_of_00030.jsonl-tokenized',\n",
       " 'combine-lm_00006_of_00030.jsonl-tokenized',\n",
       " 'combine-lm_00014_of_00030.jsonl-tokenized',\n",
       " 'combine-lm_00018_of_00030.jsonl-tokenized',\n",
       " 'combine-lm_00015_of_00030.jsonl-tokenized',\n",
       " 'combine-lm_00016_of_00030.jsonl-tokenized',\n",
       " 'combine-lm_00017_of_00030.jsonl-tokenized',\n",
       " 'combine-lm_00007_of_00030.jsonl-tokenized',\n",
       " 'combine-lm_00005_of_00030.jsonl-tokenized',\n",
       " 'combine-lm_00019_of_00030.jsonl-tokenized',\n",
       " 'combine-lm_00029_of_00030.jsonl-tokenized',\n",
       " 'combine-lm_00028_of_00030.jsonl-tokenized',\n",
       " 'combine-lm_00013_of_00030.jsonl-tokenized']"
      ]
     },
     "execution_count": 4,
     "metadata": {},
     "output_type": "execute_result"
    }
   ],
   "source": [
    "from glob import glob\n",
    "\n",
    "files = glob('combine-lm_*_of_00030.jsonl-tokenized')\n",
    "files"
   ]
  },
  {
   "cell_type": "code",
   "execution_count": 12,
   "id": "2ff4c8a8",
   "metadata": {},
   "outputs": [],
   "source": [
    "def loop(files):\n",
    "    files, index = files\n",
    "    out_root = f'nanot5-{index}'\n",
    "    os.system(f'rm -rf {out_root}')\n",
    "    with MDSWriter(out=out_root, columns=columns, compression=compression, hashes=hashes, \n",
    "                   size_limit = 67108864 * 2) as out:\n",
    "        for f in files:\n",
    "            memory_mapped_stream = pa.memory_map(f)\n",
    "            opened_stream = pa.ipc.open_stream(memory_mapped_stream)\n",
    "            for a in tqdm(opened_stream):\n",
    "                s = a.to_struct_array()\n",
    "                for i in range(len(s)):\n",
    "                    keys = list(s[i])\n",
    "                    a_ = {}\n",
    "                    for k in keys:\n",
    "                        a_[k] = np.array(s[i][k].as_py()).astype(np.int32)\n",
    "                    out.write(a_)"
   ]
  },
  {
   "cell_type": "code",
   "execution_count": 13,
   "id": "162d5d3a",
   "metadata": {},
   "outputs": [
    {
     "name": "stderr",
     "output_type": "stream",
     "text": [
      "4976it [00:48, 101.67it/s]\n",
      "4976it [00:49, 101.38it/s]\n",
      "4976it [01:01, 81.39it/s]\n",
      "4976it [01:02, 80.11it/s]\n",
      "4976it [01:02, 79.96it/s]\n",
      "4976it [01:02, 79.71it/s]\n",
      "4976it [01:02, 79.28it/s]\n",
      "4976it [01:03, 78.18it/s]\n",
      "4976it [01:04, 77.67it/s]\n",
      "4976it [01:20, 61.91it/s]\n",
      "4976it [02:13, 37.35it/s]\n",
      "4976it [02:14, 36.92it/s]\n",
      "4976it [02:15, 36.62it/s]\n",
      "4976it [02:22, 34.97it/s]\n",
      "4976it [02:23, 34.73it/s]\n",
      "4976it [02:23, 34.57it/s]\n",
      "4976it [02:41, 30.78it/s] \n",
      "4976it [02:44, 30.27it/s]\n",
      "4976it [02:44, 30.23it/s]\n",
      "4379it [02:44, 21.65it/s]IOPub message rate exceeded.\n",
      "The notebook server will temporarily stop sending output\n",
      "to the client in order to avoid crashing it.\n",
      "To change this limit, set the config variable\n",
      "`--NotebookApp.iopub_msg_rate_limit`.\n",
      "\n",
      "Current values:\n",
      "NotebookApp.iopub_msg_rate_limit=1000.0 (msgs/sec)\n",
      "NotebookApp.rate_limit_window=3.0 (secs)\n",
      "\n",
      "4976it [04:49, 17.20it/s] \n",
      "4976it [05:31, 15.00it/s]\n",
      "5194it [06:38, 13.03it/s]\n",
      "4976it [11:48,  7.03it/s] \n",
      "4977it [12:24,  6.68it/s]\n",
      "5025it [14:02,  5.97it/s]\n"
     ]
    }
   ],
   "source": [
    "mp.multiprocessing(files, loop, cores = 30, returned = False)"
   ]
  },
  {
   "cell_type": "code",
   "execution_count": null,
   "id": "dd9026f1",
   "metadata": {},
   "outputs": [],
   "source": []
  }
 ],
 "metadata": {
  "kernelspec": {
   "display_name": "Python 3 (ipykernel)",
   "language": "python",
   "name": "python3"
  },
  "language_info": {
   "codemirror_mode": {
    "name": "ipython",
    "version": 3
   },
   "file_extension": ".py",
   "mimetype": "text/x-python",
   "name": "python",
   "nbconvert_exporter": "python",
   "pygments_lexer": "ipython3",
   "version": "3.10.12"
  }
 },
 "nbformat": 4,
 "nbformat_minor": 5
}
