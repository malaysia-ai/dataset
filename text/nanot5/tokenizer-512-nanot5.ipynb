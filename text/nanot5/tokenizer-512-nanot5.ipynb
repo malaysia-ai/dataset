{
 "cells": [
  {
   "cell_type": "code",
   "execution_count": 1,
   "id": "ba147ee1",
   "metadata": {},
   "outputs": [],
   "source": [
    "from transformers import (\n",
    "    AutoModelForCausalLM,\n",
    "    AutoTokenizer,\n",
    "    get_scheduler,\n",
    "    default_data_collator,\n",
    "    SchedulerType\n",
    ")\n",
    "import os\n",
    "import json\n",
    "from itertools import chain\n",
    "from datasets import load_dataset"
   ]
  },
  {
   "cell_type": "code",
   "execution_count": 2,
   "id": "9a97e42a",
   "metadata": {},
   "outputs": [],
   "source": [
    "train_file = 'combine-lm.jsonl'\n",
    "tokenizer = AutoTokenizer.from_pretrained(\n",
    "    'malaysia-ai/bpe-tokenizer',\n",
    ")\n",
    "tokenizer.add_bos_token = False\n",
    "tokenizer.add_eos_token = False\n",
    "text_column_name = 'text'"
   ]
  },
  {
   "cell_type": "code",
   "execution_count": 3,
   "id": "901557e0",
   "metadata": {},
   "outputs": [
    {
     "data": {
      "text/plain": [
       "(568, 114)"
      ]
     },
     "execution_count": 3,
     "metadata": {},
     "output_type": "execute_result"
    }
   ],
   "source": [
    "def compute_input_and_target_lengths(inputs_length, noise_density, mean_noise_span_length):\n",
    "    \"\"\"This function is copy of `random_spans_helper <https://github.com/google-research/text-to-text-transfer-transformer/blob/84f8bcc14b5f2c03de51bd3587609ba8f6bbd1cd/t5/data/preprocessors.py#L2466>`__ .\n",
    "\n",
    "    [Copied from https://github.com/huggingface/transformers/blob/main/examples/flax/language-modeling/run_t5_mlm_flax.py]\n",
    "    Training parameters to avoid padding with random_spans_noise_mask.\n",
    "    When training a model with random_spans_noise_mask, we would like to set the other\n",
    "    training hyperparmeters in a way that avoids padding.\n",
    "    This function helps us compute these hyperparameters.\n",
    "    We assume that each noise span in the input is replaced by extra_tokens_per_span_inputs sentinel tokens,\n",
    "    and each non-noise span in the targets is replaced by extra_tokens_per_span_targets sentinel tokens.\n",
    "    This function tells us the required number of tokens in the raw example (for split_tokens())\n",
    "    as well as the length of the encoded targets. Note that this function assumes\n",
    "    the inputs and targets will have EOS appended and includes that in the reported length.\n",
    "\n",
    "    Args:\n",
    "        inputs_length: an integer - desired length of the tokenized inputs sequence\n",
    "        noise_density: a float\n",
    "        mean_noise_span_length: a float\n",
    "    Returns:\n",
    "        tokens_length: length of original text in tokens\n",
    "        targets_length: an integer - length in tokens of encoded targets sequence\n",
    "    \"\"\"\n",
    "\n",
    "    def _tokens_length_to_inputs_length_targets_length(tokens_length):\n",
    "        num_noise_tokens = int(round(tokens_length * noise_density))\n",
    "        num_nonnoise_tokens = tokens_length - num_noise_tokens\n",
    "        num_noise_spans = int(round(num_noise_tokens / mean_noise_span_length))\n",
    "        # inputs contain all nonnoise tokens, sentinels for all noise spans\n",
    "        # and one EOS token.\n",
    "        _input_length = num_nonnoise_tokens + num_noise_spans + 1\n",
    "        _output_length = num_noise_tokens + num_noise_spans + 1\n",
    "        return _input_length, _output_length\n",
    "\n",
    "    tokens_length = inputs_length\n",
    "\n",
    "    while _tokens_length_to_inputs_length_targets_length(tokens_length + 1)[0] <= inputs_length:\n",
    "        tokens_length += 1\n",
    "\n",
    "    inputs_length, targets_length = _tokens_length_to_inputs_length_targets_length(tokens_length)\n",
    "\n",
    "    # minor hack to get the targets length to be equal to inputs length\n",
    "    # which is more likely to have been set to a nice round number.\n",
    "    if noise_density == 0.5 and targets_length > inputs_length:\n",
    "        tokens_length -= 1\n",
    "        targets_length -= 1\n",
    "    return tokens_length, targets_length\n",
    "\n",
    "before_mask_input_length, target_length = compute_input_and_target_lengths(\n",
    "    inputs_length=512,\n",
    "    noise_density=0.15,\n",
    "    mean_noise_span_length=3.0,\n",
    ")\n",
    "before_mask_input_length, target_length"
   ]
  },
  {
   "cell_type": "code",
   "execution_count": 4,
   "id": "e9c298d6",
   "metadata": {},
   "outputs": [],
   "source": [
    "!rm -rf ~/.cache/huggingface/datasets/json"
   ]
  },
  {
   "cell_type": "code",
   "execution_count": 5,
   "id": "ea6e89c9",
   "metadata": {},
   "outputs": [
    {
     "data": {
      "application/vnd.jupyter.widget-view+json": {
       "model_id": "1525ee0b9998476fbe456f09d78fefb9",
       "version_major": 2,
       "version_minor": 0
      },
      "text/plain": [
       "Downloading data files:   0%|          | 0/1 [00:00<?, ?it/s]"
      ]
     },
     "metadata": {},
     "output_type": "display_data"
    },
    {
     "data": {
      "application/vnd.jupyter.widget-view+json": {
       "model_id": "ed261c0ccde54150929ba9c213e2c5f2",
       "version_major": 2,
       "version_minor": 0
      },
      "text/plain": [
       "Extracting data files:   0%|          | 0/1 [00:00<?, ?it/s]"
      ]
     },
     "metadata": {},
     "output_type": "display_data"
    },
    {
     "data": {
      "application/vnd.jupyter.widget-view+json": {
       "model_id": "9cb50442e596410a9f8c37f637439378",
       "version_major": 2,
       "version_minor": 0
      },
      "text/plain": [
       "Generating train split: 0 examples [00:00, ? examples/s]"
      ]
     },
     "metadata": {},
     "output_type": "display_data"
    }
   ],
   "source": [
    "raw_datasets = load_dataset(\n",
    "    'json',\n",
    "    data_files=train_file,\n",
    "    split='train',\n",
    ")"
   ]
  },
  {
   "cell_type": "code",
   "execution_count": 6,
   "id": "70b8c0fa",
   "metadata": {},
   "outputs": [],
   "source": [
    "import numpy as np\n",
    "\n",
    "def tokenize_function(examples, tokenizer, in_length):\n",
    "    tokenizer_out = tokenizer(\n",
    "        text=examples[\"text\"],\n",
    "        return_attention_mask=False,\n",
    "    )\n",
    "\n",
    "    input_ids = tokenizer_out[\"input_ids\"]\n",
    "\n",
    "    concatenated_ids = np.concatenate(input_ids)\n",
    "\n",
    "    total_length = concatenated_ids.shape[0]\n",
    "    total_length = (total_length // in_length) * in_length\n",
    "\n",
    "    concatenated_ids = concatenated_ids[:total_length].reshape(-1, in_length)\n",
    "    result = {\"input_ids\": concatenated_ids}\n",
    "\n",
    "    return result"
   ]
  },
  {
   "cell_type": "code",
   "execution_count": 7,
   "id": "447c7e7e",
   "metadata": {
    "scrolled": true
   },
   "outputs": [
    {
     "data": {
      "text/plain": [
       "149263340"
      ]
     },
     "execution_count": 7,
     "metadata": {},
     "output_type": "execute_result"
    }
   ],
   "source": [
    "len(raw_datasets)"
   ]
  },
  {
   "cell_type": "code",
   "execution_count": 8,
   "id": "7f09f0d9",
   "metadata": {},
   "outputs": [
    {
     "data": {
      "application/vnd.jupyter.widget-view+json": {
       "model_id": "4e8f418a1de240dc9b466f01e62dd23b",
       "version_major": 2,
       "version_minor": 0
      },
      "text/plain": [
       "Map (num_proc=30):   0%|          | 0/149263340 [00:00<?, ? examples/s]"
      ]
     },
     "metadata": {},
     "output_type": "display_data"
    }
   ],
   "source": [
    "dataset = raw_datasets.map(\n",
    "    tokenize_function,\n",
    "    batched=True,\n",
    "    fn_kwargs={\n",
    "        'tokenizer': tokenizer,\n",
    "        'in_length': before_mask_input_length,\n",
    "    },\n",
    "    remove_columns=['text'],\n",
    "    load_from_cache_file=True,\n",
    "    cache_file_name=f'{train_file}-tokenized',\n",
    "    num_proc=30,\n",
    ")"
   ]
  },
  {
   "cell_type": "code",
   "execution_count": null,
   "id": "d5ef3ce0",
   "metadata": {},
   "outputs": [],
   "source": []
  }
 ],
 "metadata": {
  "kernelspec": {
   "display_name": "Python 3 (ipykernel)",
   "language": "python",
   "name": "python3"
  },
  "language_info": {
   "codemirror_mode": {
    "name": "ipython",
    "version": 3
   },
   "file_extension": ".py",
   "mimetype": "text/x-python",
   "name": "python",
   "nbconvert_exporter": "python",
   "pygments_lexer": "ipython3",
   "version": "3.10.12"
  }
 },
 "nbformat": 4,
 "nbformat_minor": 5
}
