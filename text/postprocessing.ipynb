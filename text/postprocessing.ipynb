{
 "cells": [
  {
   "cell_type": "code",
   "execution_count": 1,
   "id": "88316bbe",
   "metadata": {},
   "outputs": [],
   "source": [
    "import json\n",
    "import re\n",
    "\n",
    "http_errors = [\n",
    "        \"400 Bad Request\", \"401 Unauthorized\", \"402 Payment Required\", \"403 Forbidden\", \"404 Not Found\",\n",
    "        \"405 Method Not Allowed\", \"406 Not Acceptable\", \"407 Proxy Authentication Required\", \"408 Request Timeout\",\n",
    "        \"409 Conflict\", \"410 Gone\", \"411 Length Required\", \"412 Precondition Failed\", \"413 Payload Too Large\",\n",
    "        \"414 URI Too Long\", \"415 Unsupported Media Type\", \"416 Range Not Satisfiable\", \"417 Expectation Failed\",\n",
    "        \"418 I'm a teapot\", \"421 Misdirected Request\", \"422 Unprocessable Entity\", \"423 Locked\", \"424 Failed Dependency\",\n",
    "        \"425 Too Early\", \"426 Upgrade Required\", \"428 Precondition Required\", \"429 Too Many Requests\",\n",
    "        \"431 Request Header Fields Too Large\", \"451 Unavailable For Legal Reasons\", \"500 Internal Server Error\",\n",
    "        \"501 Not Implemented\", \"502 Bad Gateway\", \"503 Service Unavailable\", \"504 Gateway Timeout\",\n",
    "        \"505 HTTP Version Not Supported\", \"506 Variant Also Negotiates\", \"507 Insufficient Storage\",\n",
    "        \"508 Loop Detected\", \"510 Not Extended\", \"511 Network Authentication Required\"\n",
    "    ]\n",
    "\n",
    "rejected = [\n",
    "    'Internal Server Error',\n",
    "    '__NOEDITSECTION__',\n",
    "    'enter your username and password',\n",
    "    'forgotten your password',\n",
    "    'cookies enabled',\n",
    "    'enable JavaScript in your browser.',\n",
    "    'The page cannot be displayed',\n",
    "    'site or edit the error_page',\n",
    "    'Request unsuccessful',\n",
    "]\n",
    "\n",
    "rejected.extend(http_errors)\n",
    "\n",
    "def replace_multiple(input_string, pattern =r\"\\s{6,}\", replace = '   '):\n",
    "    return re.sub(pattern, replace, input_string)\n",
    "\n",
    "def replace(string):\n",
    "    string = replace_multiple(string.replace('…', '.'))\n",
    "    string = replace_multiple(string, pattern = r\"\\.{6,}\", replace = '...')\n",
    "    return string\n",
    "\n",
    "def reject(string):\n",
    "    if any([r in string for r in rejected]):\n",
    "        return True\n",
    "    return False"
   ]
  },
  {
   "cell_type": "code",
   "execution_count": 9,
   "id": "a038070c",
   "metadata": {},
   "outputs": [
    {
     "name": "stdout",
     "output_type": "stream",
     "text": [
      "mkdir: cannot create directory ‘hf-datasets/postprocessing’: File exists\r\n"
     ]
    }
   ],
   "source": [
    "directory = 'hf-datasets/postprocessing'\n",
    "!mkdir {directory}\n",
    "\n",
    "done_directory = 'hf-datasets/postprocessing-done'\n",
    "!mkdir {done_directory}"
   ]
  },
  {
   "cell_type": "code",
   "execution_count": 3,
   "id": "54251854",
   "metadata": {},
   "outputs": [
    {
     "data": {
      "text/plain": [
       "61"
      ]
     },
     "execution_count": 3,
     "metadata": {},
     "output_type": "execute_result"
    }
   ],
   "source": [
    "from glob import glob\n",
    "\n",
    "files = glob('hf-datasets/dedupe-datasets/*.jsonl')\n",
    "len(files)"
   ]
  },
  {
   "cell_type": "code",
   "execution_count": 4,
   "id": "658f1440",
   "metadata": {},
   "outputs": [],
   "source": [
    "import mp\n",
    "import os\n",
    "from tqdm import tqdm"
   ]
  },
  {
   "cell_type": "code",
   "execution_count": 10,
   "id": "7b565f92",
   "metadata": {},
   "outputs": [],
   "source": [
    "def loop(files):\n",
    "    files, _ = files\n",
    "    for f in files:\n",
    "        new_f = f.replace('dedupe-datasets/', 'postprocessing/')\n",
    "        new_f_done = f.replace('dedupe-datasets/', 'postprocessing-done/')\n",
    "        print(new_f, new_f_done)\n",
    "        if os.path.exists(new_f_done):\n",
    "            continue\n",
    "        with open(new_f, 'w') as fopen_l:\n",
    "            with open(f) as fopen:\n",
    "                for l in tqdm(fopen):\n",
    "                    data = json.loads(l)\n",
    "                    \n",
    "                    if reject(data['text']):\n",
    "                        continue\n",
    "\n",
    "                    data = replace(data['text'].strip())\n",
    "                    \n",
    "                    if len(data) < 3:\n",
    "                        continue\n",
    "                        \n",
    "                    fopen_l.write(f'{json.dumps(data)}\\n')\n",
    "                    fopen_l.flush()\n",
    "        \n",
    "        with open(new_f_done, 'w') as fopen:\n",
    "            fopen.write('done')"
   ]
  },
  {
   "cell_type": "code",
   "execution_count": 12,
   "id": "e44e6d60",
   "metadata": {},
   "outputs": [],
   "source": [
    "# loop((files[:1], 0))"
   ]
  },
  {
   "cell_type": "code",
   "execution_count": 13,
   "id": "b1e6a7be",
   "metadata": {},
   "outputs": [
    {
     "name": "stdout",
     "output_type": "stream",
     "text": [
      "hf-datasets/postprocessing/majalah-com.jsonlhf-datasets/postprocessing/wikipedia.jsonlhf-datasets/postprocessing/bidadari.jsonlhf-datasets/postprocessing/blogmalaysia-com.jsonlhf-datasets/postprocessing/reddit.jsonlhf-datasets/postprocessing/autobuzz.jsonlhf-datasets/postprocessing/ajar.jsonlhf-datasets/postprocessing/carlist-my.jsonlhf-datasets/postprocessing/iium-confession.jsonlhf-datasets/postprocessing/worldofbuzz.jsonlhf-datasets/postprocessing/makanbola.jsonlhf-datasets/postprocessing/nona.jsonlhf-datasets/postprocessing/denaihati.jsonl  hf-datasets/postprocessing/hijabista.jsonl   hf-datasets/postprocessing/iluminasi.jsonl  hf-datasets/postprocessing/keluarga.jsonl     hf-datasets/postprocessing-done/majalah-com.jsonlhf-datasets/postprocessing-done/wikipedia.jsonlhf-datasets/postprocessing-done/bidadari.jsonl hf-datasets/postprocessing-done/blogmalaysia-com.jsonlhf-datasets/postprocessing-done/reddit.jsonlhf-datasets/postprocessing-done/autobuzz.jsonl  hf-datasets/postprocessing-done/ajar.jsonlhf-datasets/postprocessing-done/carlist-my.jsonlhf-datasets/postprocessing-done/iium-confession.jsonl hf-datasets/postprocessing-done/worldofbuzz.jsonlhf-datasets/postprocessing-done/makanbola.jsonlhf-datasets/postprocessing-done/nona.jsonl\n",
      "\n",
      "\n",
      "hf-datasets/postprocessing-done/hijabista.jsonl\n",
      "\n",
      "\n",
      "hf-datasets/postprocessing-done/iluminasi.jsonlhf-datasets/postprocessing-done/denaihati.jsonl\n",
      "\n",
      "hf-datasets/postprocessing-done/keluarga.jsonl\n",
      "\n",
      "\n",
      "\n",
      "\n",
      "\n",
      "\n",
      "\n"
     ]
    },
    {
     "name": "stderr",
     "output_type": "stream",
     "text": [
      "0it [00:00, ?it/s]"
     ]
    },
    {
     "name": "stdout",
     "output_type": "stream",
     "text": [
      "hf-datasets/postprocessing/hansard.jsonl hf-datasets/postprocessing/blog.malaysia-asia.jsonlhf-datasets/postprocessing-done/hansard.jsonl \n",
      "hf-datasets/postprocessing-done/blog.malaysia-asia.jsonl\n"
     ]
    },
    {
     "name": "stderr",
     "output_type": "stream",
     "text": [
      "176it [00:00, 2598.90it/s]s]\n"
     ]
    },
    {
     "name": "stdout",
     "output_type": "stream",
     "text": [
      "hf-datasets/postprocessing/carsifu-my.jsonl hf-datasets/postprocessing-done/carsifu-my.jsonl\n"
     ]
    },
    {
     "name": "stderr",
     "output_type": "stream",
     "text": [
      "640it [00:00, 4115.23it/s]\n",
      "0it [00:00, ?it/s]"
     ]
    },
    {
     "name": "stdout",
     "output_type": "stream",
     "text": [
      "hf-datasets/postprocessing/dsf-my.jsonl hf-datasets/postprocessing-done/dsf-my.jsonl\n"
     ]
    },
    {
     "name": "stderr",
     "output_type": "stream",
     "text": [
      "3443it [00:00, 9335.35it/s]]]\n"
     ]
    },
    {
     "name": "stdout",
     "output_type": "stream",
     "text": [
      "hf-datasets/postprocessing/malay-tweets.jsonl hf-datasets/postprocessing-done/malay-tweets.jsonl"
     ]
    },
    {
     "name": "stderr",
     "output_type": "stream",
     "text": [
      "1639it [00:00, 5399.62it/s]"
     ]
    },
    {
     "name": "stdout",
     "output_type": "stream",
     "text": [
      "\n"
     ]
    },
    {
     "name": "stderr",
     "output_type": "stream",
     "text": [
      "1467it [00:00, 3035.36it/s]s]\n"
     ]
    },
    {
     "name": "stdout",
     "output_type": "stream",
     "text": [
      "hf-datasets/postprocessing/patriots.jsonl hf-datasets/postprocessing-done/patriots.jsonl\n"
     ]
    },
    {
     "name": "stderr",
     "output_type": "stream",
     "text": [
      "3645it [00:00, 4207.10it/s]s]\n",
      "25546it [00:00, 64422.87it/s]"
     ]
    },
    {
     "name": "stdout",
     "output_type": "stream",
     "text": [
      "hf-datasets/postprocessing/tryandreview-parsed.jsonl hf-datasets/postprocessing-done/tryandreview-parsed.jsonl\n"
     ]
    },
    {
     "name": "stderr",
     "output_type": "stream",
     "text": [
      "3507it [00:01, 3498.92it/s]s]\n",
      "4970it [00:00, 5353.11it/s]"
     ]
    },
    {
     "name": "stdout",
     "output_type": "stream",
     "text": [
      "hf-datasets/postprocessing/mycarforum.jsonl hf-datasets/postprocessing-done/mycarforum.jsonl\n"
     ]
    },
    {
     "name": "stderr",
     "output_type": "stream",
     "text": [
      "5547it [00:00, 27397.68it/s]]\n"
     ]
    },
    {
     "name": "stdout",
     "output_type": "stream",
     "text": [
      "hf-datasets/postprocessing/siakapkeli.jsonl hf-datasets/postprocessing-done/siakapkeli.jsonl\n"
     ]
    },
    {
     "name": "stderr",
     "output_type": "stream",
     "text": [
      "6850it [00:01, 5242.18it/s]s]\n"
     ]
    },
    {
     "name": "stdout",
     "output_type": "stream",
     "text": [
      "hf-datasets/postprocessing/lowyat.jsonl "
     ]
    },
    {
     "name": "stderr",
     "output_type": "stream",
     "text": [
      "6604it [00:01, 5393.88it/s]"
     ]
    },
    {
     "name": "stdout",
     "output_type": "stream",
     "text": [
      "hf-datasets/postprocessing-done/lowyat.jsonl\n"
     ]
    },
    {
     "name": "stderr",
     "output_type": "stream",
     "text": [
      "9672it [00:01, 6164.83it/s]s]\n",
      "71589it [00:01, 64905.32it/s]"
     ]
    },
    {
     "name": "stdout",
     "output_type": "stream",
     "text": [
      "hf-datasets/postprocessing/sinar-syok.jsonl hf-datasets/postprocessing-done/sinar-syok.jsonl\n"
     ]
    },
    {
     "name": "stderr",
     "output_type": "stream",
     "text": [
      "9360it [00:01, 5562.82it/s]]]\n",
      "8916it [00:01, 5405.77it/s]]"
     ]
    },
    {
     "name": "stdout",
     "output_type": "stream",
     "text": [
      "hf-datasets/postprocessing/siraplimau.com.jsonl"
     ]
    },
    {
     "name": "stderr",
     "output_type": "stream",
     "text": [
      "16352it [00:00, 32420.01it/s]"
     ]
    },
    {
     "name": "stdout",
     "output_type": "stream",
     "text": [
      " hf-datasets/postprocessing-done/siraplimau.com.jsonl\n"
     ]
    },
    {
     "name": "stderr",
     "output_type": "stream",
     "text": [
      "3071it [00:00, 13591.43it/s]]\n"
     ]
    },
    {
     "name": "stdout",
     "output_type": "stream",
     "text": [
      "hf-datasets/postprocessing/ering.jsonl hf-datasets/postprocessing-done/ering.jsonl\n"
     ]
    },
    {
     "name": "stderr",
     "output_type": "stream",
     "text": [
      "15278it [00:02, 7367.88it/s]s]\n",
      "12182it [00:01, 6369.39it/s]"
     ]
    },
    {
     "name": "stdout",
     "output_type": "stream",
     "text": [
      "hf-datasets/postprocessing/mingguanwanita.jsonl hf-datasets/postprocessing-done/mingguanwanita.jsonl\n"
     ]
    },
    {
     "name": "stderr",
     "output_type": "stream",
     "text": [
      "13106it [00:02, 6297.28it/s]s]\n"
     ]
    },
    {
     "name": "stdout",
     "output_type": "stream",
     "text": [
      "hf-datasets/postprocessing/sukanz.jsonl "
     ]
    },
    {
     "name": "stderr",
     "output_type": "stream",
     "text": [
      "7414it [00:02, 3886.08it/s]"
     ]
    },
    {
     "name": "stdout",
     "output_type": "stream",
     "text": [
      "hf-datasets/postprocessing-done/sukanz.jsonl\n"
     ]
    },
    {
     "name": "stderr",
     "output_type": "stream",
     "text": [
      "12326it [00:02, 5465.14it/s]s]\n"
     ]
    },
    {
     "name": "stdout",
     "output_type": "stream",
     "text": [
      "hf-datasets/postprocessing/buro247.jsonl hf-datasets/postprocessing-done/buro247.jsonl\n"
     ]
    },
    {
     "name": "stderr",
     "output_type": "stream",
     "text": [
      "8447it [00:02, 3572.53it/s]s]\n",
      "14667it [00:02, 6092.61it/s]"
     ]
    },
    {
     "name": "stdout",
     "output_type": "stream",
     "text": [
      "hf-datasets/postprocessing/common-crawl.jsonl hf-datasets/postprocessing-done/common-crawl.jsonl"
     ]
    },
    {
     "name": "stderr",
     "output_type": "stream",
     "text": [
      "4758it [00:01, 2513.25it/s]"
     ]
    },
    {
     "name": "stdout",
     "output_type": "stream",
     "text": [
      "\n"
     ]
    },
    {
     "name": "stderr",
     "output_type": "stream",
     "text": [
      "3578it [00:00, 9038.49it/s]]s]\n"
     ]
    },
    {
     "name": "stdout",
     "output_type": "stream",
     "text": [
      "hf-datasets/postprocessing/skyscrapercity.com.jsonl hf-datasets/postprocessing-done/skyscrapercity.com.jsonl\n"
     ]
    },
    {
     "name": "stderr",
     "output_type": "stream",
     "text": [
      "10230it [00:01, 9612.78it/s]]]\n",
      "18625it [00:02, 7411.03it/s]"
     ]
    },
    {
     "name": "stdout",
     "output_type": "stream",
     "text": [
      "hf-datasets/postprocessing/b.cari.com.my.jsonl "
     ]
    },
    {
     "name": "stderr",
     "output_type": "stream",
     "text": [
      "6079it [00:02, 2562.58it/s]"
     ]
    },
    {
     "name": "stdout",
     "output_type": "stream",
     "text": [
      "hf-datasets/postprocessing-done/b.cari.com.my.jsonl"
     ]
    },
    {
     "name": "stderr",
     "output_type": "stream",
     "text": [
      "156475it [00:02, 64717.44it/s]"
     ]
    },
    {
     "name": "stdout",
     "output_type": "stream",
     "text": [
      "\n"
     ]
    },
    {
     "name": "stderr",
     "output_type": "stream",
     "text": [
      "8504it [00:01, 4694.70it/s]/s]\n"
     ]
    },
    {
     "name": "stdout",
     "output_type": "stream",
     "text": [
      "hf-datasets/postprocessing/data.gov.my.jsonl"
     ]
    },
    {
     "name": "stderr",
     "output_type": "stream",
     "text": [
      "74766it [00:02, 32044.54it/s]"
     ]
    },
    {
     "name": "stdout",
     "output_type": "stream",
     "text": [
      " hf-datasets/postprocessing-done/data.gov.my.jsonl"
     ]
    },
    {
     "name": "stderr",
     "output_type": "stream",
     "text": [
      "23196it [00:03, 7541.36it/s]]"
     ]
    },
    {
     "name": "stdout",
     "output_type": "stream",
     "text": [
      "\n"
     ]
    },
    {
     "name": "stderr",
     "output_type": "stream",
     "text": [
      "9222it [00:01, 5421.12it/s]]s]\n"
     ]
    },
    {
     "name": "stdout",
     "output_type": "stream",
     "text": [
      "hf-datasets/postprocessing/discoverkl.jsonl hf-datasets/postprocessing-done/discoverkl.jsonl\n"
     ]
    },
    {
     "name": "stderr",
     "output_type": "stream",
     "text": [
      "24483it [00:03, 6250.45it/s]]]\n",
      "86995it [00:04, 24096.86it/s]"
     ]
    },
    {
     "name": "stdout",
     "output_type": "stream",
     "text": [
      "hf-datasets/postprocessing/diva-my.jsonl hf-datasets/postprocessing-done/diva-my.jsonl\n"
     ]
    },
    {
     "name": "stderr",
     "output_type": "stream",
     "text": [
      "1459it [00:00, 4365.54it/s]]]]\n"
     ]
    },
    {
     "name": "stdout",
     "output_type": "stream",
     "text": [
      "hf-datasets/postprocessing/doctoroncall.jsonl"
     ]
    },
    {
     "name": "stderr",
     "output_type": "stream",
     "text": [
      "37257it [00:01, 33320.98it/s]"
     ]
    },
    {
     "name": "stdout",
     "output_type": "stream",
     "text": [
      " hf-datasets/postprocessing-done/doctoroncall.jsonl\n"
     ]
    },
    {
     "name": "stderr",
     "output_type": "stream",
     "text": [
      "10483it [00:04, 2588.73it/s]]]\n"
     ]
    },
    {
     "name": "stdout",
     "output_type": "stream",
     "text": [
      "hf-datasets/postprocessing/news.jsonl hf-datasets/postprocessing-done/news.jsonl\n"
     ]
    },
    {
     "name": "stderr",
     "output_type": "stream",
     "text": [
      "6285it [00:00, 6601.08it/s]/s]\n",
      "274574it [00:04, 55252.09it/s]"
     ]
    },
    {
     "name": "stdout",
     "output_type": "stream",
     "text": [
      "hf-datasets/postprocessing/umpan.jsonl hf-datasets/postprocessing-done/umpan.jsonl\n"
     ]
    },
    {
     "name": "stderr",
     "output_type": "stream",
     "text": [
      "11678it [00:02, 4023.97it/s]]]\n",
      "1294it [00:00, 6425.21it/s]s]"
     ]
    },
    {
     "name": "stdout",
     "output_type": "stream",
     "text": [
      "hf-datasets/postprocessing/gamersantai.com.jsonl hf-datasets/postprocessing-done/gamersantai.com.jsonl\n"
     ]
    },
    {
     "name": "stderr",
     "output_type": "stream",
     "text": [
      "5408it [00:00, 6330.45it/s]/s]\n",
      "24411it [00:06, 3974.21it/s]s]\n",
      "6180it [00:01, 5201.36it/s]"
     ]
    },
    {
     "name": "stdout",
     "output_type": "stream",
     "text": [
      "hf-datasets/postprocessing/lom.agc.gov.my.jsonl hf-datasets/postprocessing-done/lom.agc.gov.my.jsonl\n"
     ]
    },
    {
     "name": "stderr",
     "output_type": "stream",
     "text": [
      "28181it [00:07, 3835.72it/s]s]\n",
      "12276it [00:02, 6158.45it/s]"
     ]
    },
    {
     "name": "stdout",
     "output_type": "stream",
     "text": [
      "hf-datasets/postprocessing/relevan.jsonl hf-datasets/postprocessing-done/relevan.jsonl\n"
     ]
    },
    {
     "name": "stderr",
     "output_type": "stream",
     "text": [
      "1245it [00:00, 5251.76it/s]/s]\n",
      "156323it [00:04, 33968.89it/s]"
     ]
    },
    {
     "name": "stdout",
     "output_type": "stream",
     "text": [
      "hf-datasets/postprocessing/maskulin.jsonl hf-datasets/postprocessing-done/maskulin.jsonl\n"
     ]
    },
    {
     "name": "stderr",
     "output_type": "stream",
     "text": [
      "1360it [00:01, 958.50it/s]t/s]\n",
      "12914it [00:02, 4694.05it/s]s]\n",
      "51303it [00:06, 7343.53it/s]s]\n",
      "7107it [00:01, 6355.55it/s]/s]\n",
      "53158it [00:05, 9542.24it/s]s]\n",
      "533803it [00:09, 53227.97it/s]"
     ]
    },
    {
     "name": "stdout",
     "output_type": "stream",
     "text": [
      "hf-datasets/postprocessing/pdfdrive.jsonl hf-datasets/postprocessing-done/pdfdrive.jsonl\n"
     ]
    },
    {
     "name": "stderr",
     "output_type": "stream",
     "text": [
      "338667it [00:18, 18258.33it/s]]\n",
      "378511it [00:16, 23522.51it/s]]"
     ]
    },
    {
     "name": "stdout",
     "output_type": "stream",
     "text": [
      "hf-datasets/postprocessing/snapshot.jsonl hf-datasets/postprocessing-done/snapshot.jsonl\n"
     ]
    },
    {
     "name": "stderr",
     "output_type": "stream",
     "text": [
      "1092497it [00:20, 54228.90it/s]\n",
      "1434977it [00:22, 65456.15it/s]"
     ]
    },
    {
     "name": "stdout",
     "output_type": "stream",
     "text": [
      "hf-datasets/postprocessing/NLLB.jsonl hf-datasets/postprocessing-done/NLLB.jsonl\n"
     ]
    },
    {
     "name": "stderr",
     "output_type": "stream",
     "text": [
      "140932it [00:26, 5289.19it/s]]]\n",
      "843332it [00:26, 32648.98it/s]]"
     ]
    },
    {
     "name": "stdout",
     "output_type": "stream",
     "text": [
      "hf-datasets/postprocessing/aliffchannel.jsonl"
     ]
    },
    {
     "name": "stderr",
     "output_type": "stream",
     "text": [
      "788619it [00:27, 41391.12it/s]"
     ]
    },
    {
     "name": "stdout",
     "output_type": "stream",
     "text": [
      " hf-datasets/postprocessing-done/aliffchannel.jsonl\n"
     ]
    },
    {
     "name": "stderr",
     "output_type": "stream",
     "text": [
      "1733it [00:00, 4804.70it/s]/s]]\n"
     ]
    },
    {
     "name": "stdout",
     "output_type": "stream",
     "text": [
      "hf-datasets/postprocessing/dewanbahasa-jdb.jsonl hf-datasets/postprocessing-done/dewanbahasa-jdb.jsonl\n"
     ]
    },
    {
     "name": "stderr",
     "output_type": "stream",
     "text": [
      "629858it [00:27, 22741.92it/s]]\n",
      "11678it [00:02, 4028.83it/s]s]]\n",
      "10897it [00:41, 261.79it/s]]/s]\n",
      "1884794it [00:57, 32872.66it/s]\n",
      "2266it [00:51, 43.93it/s]3it/s]"
     ]
    },
    {
     "name": "stdout",
     "output_type": "stream",
     "text": [
      "hf-datasets/postprocessing/thekapital.jsonl hf-datasets/postprocessing-done/thekapital.jsonl\n"
     ]
    },
    {
     "name": "stderr",
     "output_type": "stream",
     "text": [
      "597it [00:01, 326.80it/s]9it/s]\n"
     ]
    },
    {
     "name": "stdout",
     "output_type": "stream",
     "text": [
      "hf-datasets/postprocessing/salary-sg.jsonl hf-datasets/postprocessing-done/salary-sg.jsonl\n"
     ]
    },
    {
     "name": "stderr",
     "output_type": "stream",
     "text": [
      "230210it [00:09, 24788.50it/s]]\n",
      "209177it [01:19, 2646.04it/s]s]\n",
      "253343it [01:43, 2723.96it/s]s]"
     ]
    },
    {
     "name": "stdout",
     "output_type": "stream",
     "text": [
      "hf-datasets/postprocessing/academia-edu.jsonl hf-datasets/postprocessing-done/academia-edu.jsonl\n"
     ]
    },
    {
     "name": "stderr",
     "output_type": "stream",
     "text": [
      "787it [00:14, 53.08it/s]27it/s]\n",
      "4307187it [02:23, 29994.23it/s]\n",
      "4621705it [02:24, 38059.99it/s]"
     ]
    },
    {
     "name": "stdout",
     "output_type": "stream",
     "text": [
      "hf-datasets/postprocessing/beautifulnara.jsonl hf-datasets/postprocessing-done/beautifulnara.jsonl\n"
     ]
    },
    {
     "name": "stderr",
     "output_type": "stream",
     "text": [
      "4425it [00:00, 9236.82it/s]/s]]\n"
     ]
    },
    {
     "name": "stdout",
     "output_type": "stream",
     "text": [
      "hf-datasets/postprocessing/majalahsains.jsonl hf-datasets/postprocessing-done/majalahsains.jsonl\n"
     ]
    },
    {
     "name": "stderr",
     "output_type": "stream",
     "text": [
      "1524it [00:00, 2210.44it/s]s]]]\n",
      "5720it [02:22, 40.27it/s]0it/s]\n",
      "350397it [02:29, 2648.59it/s]s]"
     ]
    },
    {
     "name": "stdout",
     "output_type": "stream",
     "text": [
      "hf-datasets/postprocessing/carsome-my.jsonl hf-datasets/postprocessing-done/carsome-my.jsonl\n"
     ]
    },
    {
     "name": "stderr",
     "output_type": "stream",
     "text": [
      "947it [00:00, 2211.67it/s]it/s]\n",
      "362248it [02:38, 2279.72it/s]s]\n",
      "9983942it [02:41, 66451.42it/s]"
     ]
    },
    {
     "name": "stdout",
     "output_type": "stream",
     "text": [
      "hf-datasets/postprocessing/inreallife.jsonl hf-datasets/postprocessing-done/inreallife.jsonl\n"
     ]
    },
    {
     "name": "stderr",
     "output_type": "stream",
     "text": [
      "1216it [00:00, 2625.91it/s]t/s]]\n",
      "11987372it [03:11, 62529.91it/s]\n",
      "5544975it [03:11, 32506.13it/s]]"
     ]
    },
    {
     "name": "stdout",
     "output_type": "stream",
     "text": [
      "hf-datasets/postprocessing/amanz.jsonl hf-datasets/postprocessing-done/amanz.jsonl\n"
     ]
    },
    {
     "name": "stderr",
     "output_type": "stream",
     "text": [
      "33731it [00:02, 12200.43it/s]/s]\n",
      "5798878it [03:21, 28802.52it/s]]\n"
     ]
    },
    {
     "name": "stdout",
     "output_type": "stream",
     "text": [
      "hf-datasets/postprocessing/gempak.com.jsonl hf-datasets/postprocessing-done/gempak.com.jsonl\n"
     ]
    },
    {
     "name": "stderr",
     "output_type": "stream",
     "text": [
      "19993it [00:03, 6457.28it/s]s]]]\n",
      "2839355it [07:21, 6425.72it/s]s]\n",
      "31505787it [07:40, 68450.94it/s]\n",
      "15911754it [08:01, 28061.98it/s]"
     ]
    },
    {
     "name": "stdout",
     "output_type": "stream",
     "text": [
      "hf-datasets/postprocessing/parlimen-gov.jsonl hf-datasets/postprocessing-done/parlimen-gov.jsonl\n"
     ]
    },
    {
     "name": "stderr",
     "output_type": "stream",
     "text": [
      "1688it [00:24, 69.27it/s]19it/s]\n",
      "17098395it [08:45, 32553.08it/s]\n"
     ]
    },
    {
     "name": "stdout",
     "output_type": "stream",
     "text": [
      "hf-datasets/postprocessing/rotikaya.jsonl hf-datasets/postprocessing-done/rotikaya.jsonl\n"
     ]
    },
    {
     "name": "stderr",
     "output_type": "stream",
     "text": [
      "22819it [00:02, 10699.91it/s]\n"
     ]
    }
   ],
   "source": [
    "mp.multiprocessing(files, loop, cores = 18, returned = False)"
   ]
  },
  {
   "cell_type": "code",
   "execution_count": null,
   "id": "b88a1e31",
   "metadata": {},
   "outputs": [],
   "source": []
  }
 ],
 "metadata": {
  "kernelspec": {
   "display_name": "Python 3 (ipykernel)",
   "language": "python",
   "name": "python3"
  },
  "language_info": {
   "codemirror_mode": {
    "name": "ipython",
    "version": 3
   },
   "file_extension": ".py",
   "mimetype": "text/x-python",
   "name": "python",
   "nbconvert_exporter": "python",
   "pygments_lexer": "ipython3",
   "version": "3.10.12"
  }
 },
 "nbformat": 4,
 "nbformat_minor": 5
}
