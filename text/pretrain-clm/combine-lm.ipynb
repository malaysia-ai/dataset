{
 "cells": [
  {
   "cell_type": "code",
   "execution_count": 1,
   "id": "4b5fc200",
   "metadata": {},
   "outputs": [],
   "source": [
    "import json\n",
    "import os\n",
    "from glob import glob\n",
    "from tqdm import tqdm"
   ]
  },
  {
   "cell_type": "code",
   "execution_count": 2,
   "id": "09932af6",
   "metadata": {},
   "outputs": [
    {
     "data": {
      "text/plain": [
       "243"
      ]
     },
     "execution_count": 2,
     "metadata": {},
     "output_type": "execute_result"
    }
   ],
   "source": [
    "files = glob('/home/ubuntu/dedup-text-dataset/*.jsonl')\n",
    "len(files)"
   ]
  },
  {
   "cell_type": "code",
   "execution_count": 3,
   "id": "158671b0",
   "metadata": {},
   "outputs": [],
   "source": [
    "def partition(text, size = 500):\n",
    "    splitted = text.split()\n",
    "    return [' '.join(splitted[i: i + size]) for i in range(0, len(splitted), size)]"
   ]
  },
  {
   "cell_type": "code",
   "execution_count": 4,
   "id": "de82a150",
   "metadata": {},
   "outputs": [],
   "source": [
    "wiki = [\n",
    "    'wikipedia-2023-10-01.jsonl',\n",
    "    'wikipedia-jawi.jsonl',\n",
    "]\n",
    "language_related = [\n",
    "    'dictionary.jsonl',\n",
    "    'dewanbahasa-jdbp.jsonl',\n",
    "    'dialect.jsonl',\n",
    "    'kamusbm.jsonl',\n",
    "]\n",
    "gov_related = [\n",
    "    'hansard.jsonl',\n",
    "    'lom.agc.gov.my.jsonl',\n",
    "    'parlimen-gov.jsonl',\n",
    "    'data.gov.my.jsonl',\n",
    "    'mufti_wilayah_articles.jsonl',\n",
    "    'e-khutbah.jsonl',\n",
    "    'mufti_negeri_sem_artikel.jsonl',\n",
    "    'mufti_perlis_artikel.jsonl',\n",
    "    'mufti_negeri_sem_artikel.jsonl',\n",
    "    'gov.my.jsonl',\n",
    "    'edu.my.jsonl',\n",
    "]\n",
    "research_papers = [\n",
    "    'academia-edu.jsonl',\n",
    "    'eprints.jsonl',\n",
    "]\n",
    "social_media = [\n",
    "    'iium-confession.jsonl',\n",
    "    'b.cari.com.my.jsonl',\n",
    "    'semisupervised-whisper-large-v2.jsonl',\n",
    "    'lowyat.jsonl',\n",
    "    'malay-tweets.jsonl'\n",
    "]\n",
    "common_crawl = [\n",
    "    'common-crawl.jsonl',\n",
    "    'NLLB.jsonl',\n",
    "]\n",
    "buku_teks = [\n",
    "    'buku-teks.jsonl',\n",
    "    'bumigemilang.com.jsonl',\n",
    "    'tcer.my.jsonl',\n",
    "    'mysoalan.com.jsonl'\n",
    "]"
   ]
  },
  {
   "cell_type": "code",
   "execution_count": 5,
   "id": "3c58a872",
   "metadata": {},
   "outputs": [],
   "source": [
    "combine = set(wiki) | set(language_related) | set(gov_related) | set(research_papers) | set(common_crawl) | set(buku_teks)"
   ]
  },
  {
   "cell_type": "code",
   "execution_count": 6,
   "id": "7a1985bd",
   "metadata": {},
   "outputs": [],
   "source": [
    "combine = {os.path.join('/home/ubuntu/dedup-text-dataset', f) for f in combine}"
   ]
  },
  {
   "cell_type": "code",
   "execution_count": 7,
   "id": "df6770f3",
   "metadata": {},
   "outputs": [
    {
     "data": {
      "text/plain": [
       "219"
      ]
     },
     "execution_count": 7,
     "metadata": {},
     "output_type": "execute_result"
    }
   ],
   "source": [
    "online_articles = sorted(list(set(files) - combine))\n",
    "len(online_articles)"
   ]
  },
  {
   "cell_type": "code",
   "execution_count": 8,
   "id": "8a9d3d8b",
   "metadata": {},
   "outputs": [],
   "source": [
    "a = open('combine-lm.jsonl', 'w')"
   ]
  },
  {
   "cell_type": "code",
   "execution_count": 9,
   "id": "717429fb",
   "metadata": {},
   "outputs": [
    {
     "name": "stderr",
     "output_type": "stream",
     "text": [
      "438316it [00:01, 242214.18it/s]\n",
      "722837it [00:23, 30409.45it/s]\n"
     ]
    }
   ],
   "source": [
    "for f in wiki:\n",
    "    f = os.path.join('/home/ubuntu/dedup-text-dataset', f)\n",
    "    with open(f) as fopen:\n",
    "        for l in tqdm(fopen):\n",
    "            try:\n",
    "                data = '<s>' + json.loads(l) + '</s>'\n",
    "                partitioned = partition(data)\n",
    "                for p in partitioned:\n",
    "                    data = {\n",
    "                        'text': p,\n",
    "                    }\n",
    "                    a.write(f'{json.dumps(data)}\\n')\n",
    "                    a.flush()\n",
    "            except:\n",
    "                pass"
   ]
  },
  {
   "cell_type": "code",
   "execution_count": 10,
   "id": "f084fea2",
   "metadata": {},
   "outputs": [
    {
     "name": "stderr",
     "output_type": "stream",
     "text": [
      "54712it [00:01, 47221.46it/s]\n",
      "4577it [00:00, 11497.84it/s]\n",
      "66it [00:00, 50877.42it/s]\n",
      "34192it [00:00, 71939.05it/s]\n"
     ]
    }
   ],
   "source": [
    "for f in language_related:\n",
    "    f = os.path.join('/home/ubuntu/dedup-text-dataset', f)\n",
    "    with open(f) as fopen:\n",
    "        for l in tqdm(fopen):\n",
    "            try:\n",
    "                data = '<s>' + json.loads(l) + '</s>'\n",
    "                partitioned = partition(data)\n",
    "                for p in partitioned:\n",
    "                    data = {\n",
    "                        'text': p,\n",
    "                    }\n",
    "                    a.write(f'{json.dumps(data)}\\n')\n",
    "                    a.flush()\n",
    "            except:\n",
    "                pass"
   ]
  },
  {
   "cell_type": "code",
   "execution_count": 11,
   "id": "5d091a24",
   "metadata": {},
   "outputs": [
    {
     "name": "stderr",
     "output_type": "stream",
     "text": [
      "183it [00:00, 272.17it/s]\n",
      "16120it [00:06, 2584.59it/s]\n",
      "3625it [00:00, 4959.24it/s]\n",
      "900it [00:00, 4491.31it/s]\n"
     ]
    }
   ],
   "source": [
    "for f in buku_teks:\n",
    "    f = os.path.join('/home/ubuntu/dedup-text-dataset', f)\n",
    "    with open(f) as fopen:\n",
    "        for l in tqdm(fopen):\n",
    "            try:\n",
    "                data = '<s>' + json.loads(l) + '</s>'\n",
    "                partitioned = partition(data)\n",
    "                for p in partitioned:\n",
    "                    data = {\n",
    "                        'text': p,\n",
    "                    }\n",
    "                    a.write(f'{json.dumps(data)}\\n')\n",
    "                    a.flush()\n",
    "            except:\n",
    "                pass"
   ]
  },
  {
   "cell_type": "code",
   "execution_count": 12,
   "id": "bd347a92",
   "metadata": {},
   "outputs": [
    {
     "name": "stderr",
     "output_type": "stream",
     "text": [
      "140932it [00:11, 11979.35it/s]\n",
      "1359it [00:00, 2768.80it/s]\n",
      "1687it [00:09, 178.78it/s]\n",
      "10889it [00:12, 899.68it/s]\n",
      "1712it [00:00, 5081.95it/s]\n",
      "809it [00:00, 2623.37it/s]\n",
      "112it [00:00, 17942.86it/s]\n",
      "144it [00:00, 14951.10it/s]\n",
      "112it [00:00, 18241.06it/s]\n",
      "30055it [00:13, 2179.53it/s]\n",
      "21590it [00:10, 1969.79it/s]\n"
     ]
    }
   ],
   "source": [
    "for f in gov_related:\n",
    "    f = os.path.join('/home/ubuntu/dedup-text-dataset', f)\n",
    "    with open(f) as fopen:\n",
    "        for l in tqdm(fopen):\n",
    "            try:\n",
    "                data = '<s>' + json.loads(l) + '</s>'\n",
    "                partitioned = partition(data)\n",
    "                for p in partitioned:\n",
    "                    data = {\n",
    "                        'text': p,\n",
    "                    }\n",
    "                    a.write(f'{json.dumps(data)}\\n')\n",
    "                    a.flush()\n",
    "            except:\n",
    "                pass"
   ]
  },
  {
   "cell_type": "code",
   "execution_count": 13,
   "id": "96e42d89",
   "metadata": {},
   "outputs": [],
   "source": [
    "rejected = [\n",
    "    'markah untuk setiap satu',\n",
    "    'soalan mesti dijawab dalam',\n",
    "    '25 markah',\n",
    "    '50 markah'\n",
    "]"
   ]
  },
  {
   "cell_type": "code",
   "execution_count": 14,
   "id": "8324e1de",
   "metadata": {},
   "outputs": [
    {
     "name": "stderr",
     "output_type": "stream",
     "text": [
      "787it [00:04, 162.83it/s]\n",
      "189419it [02:05, 1507.11it/s]\n"
     ]
    }
   ],
   "source": [
    "for f in research_papers:\n",
    "    f = os.path.join('/home/ubuntu/dedup-text-dataset', f)\n",
    "    with open(f) as fopen:\n",
    "        for l in tqdm(fopen):\n",
    "            try:\n",
    "                data = '<s>' + json.loads(l) + '</s>'\n",
    "                    \n",
    "                data_lower = data.lower()\n",
    "                if any([r in data_lower for r in rejected]):\n",
    "                    continue\n",
    "                    \n",
    "                partitioned = partition(data)\n",
    "                for p in partitioned:\n",
    "                    data = {\n",
    "                        'text': p,\n",
    "                    }\n",
    "                    a.write(f'{json.dumps(data)}\\n')\n",
    "                    a.flush()\n",
    "            except:\n",
    "                pass"
   ]
  },
  {
   "cell_type": "code",
   "execution_count": 15,
   "id": "91ee6243",
   "metadata": {},
   "outputs": [
    {
     "name": "stderr",
     "output_type": "stream",
     "text": [
      "99962it [00:02, 43938.53it/s]\n",
      "99972it [00:02, 44775.88it/s]\n",
      "99959it [00:02, 43885.63it/s]\n",
      "99967it [00:02, 44148.51it/s]\n",
      "99968it [00:02, 43195.93it/s]\n",
      "99966it [00:02, 41638.38it/s]\n",
      "99968it [00:02, 43391.15it/s]\n",
      "99971it [00:02, 44769.23it/s]\n",
      "99968it [00:02, 39893.82it/s]\n",
      "99966it [00:02, 43645.40it/s]\n",
      "99971it [00:02, 44648.95it/s]\n",
      "99962it [00:02, 34770.63it/s]\n",
      "99958it [00:03, 31859.67it/s]\n",
      "99968it [00:02, 46226.30it/s]\n",
      "99972it [00:02, 45353.37it/s]\n",
      "99967it [00:02, 45223.32it/s]\n",
      "99959it [00:01, 63727.12it/s]\n",
      "99960it [00:01, 63502.28it/s]\n",
      "99963it [00:01, 62840.67it/s]\n",
      "99966it [00:01, 62764.90it/s]\n",
      "99972it [00:01, 64068.62it/s]\n",
      "99965it [00:01, 63937.62it/s]\n",
      "99968it [00:01, 60914.43it/s]\n",
      "99966it [00:01, 62707.05it/s]\n",
      "99965it [00:01, 63163.17it/s]\n",
      "99968it [00:01, 62583.65it/s]\n",
      "99969it [00:01, 54085.98it/s]\n",
      "99981it [00:01, 62499.44it/s]\n",
      "99974it [00:01, 63360.97it/s]\n",
      "99967it [00:01, 59449.06it/s]\n",
      "99970it [00:02, 40010.29it/s]\n",
      "99972it [00:01, 59275.16it/s]\n",
      "99969it [00:01, 65039.13it/s]\n"
     ]
    }
   ],
   "source": [
    "google_translate = glob('google-translate-*/*.requested')\n",
    "for f in google_translate:\n",
    "    with open(f) as fopen:\n",
    "        for l in tqdm(fopen):\n",
    "            try:\n",
    "                data = '<s>' + json.loads(l)['r']['result'] + '</s>'\n",
    "                partitioned = partition(data)\n",
    "                for p in partitioned:\n",
    "                    data = {\n",
    "                        'text': p,\n",
    "                    }\n",
    "                    a.write(f'{json.dumps(data)}\\n')\n",
    "                    a.flush()\n",
    "            except:\n",
    "                pass"
   ]
  },
  {
   "cell_type": "code",
   "execution_count": 16,
   "id": "8f76a7b1",
   "metadata": {},
   "outputs": [
    {
     "name": "stderr",
     "output_type": "stream",
     "text": [
      "14954it [00:00, 22492.22it/s]\n",
      "20763it [00:01, 14932.98it/s]\n",
      "640it [00:00, 10236.29it/s]\n",
      "74it [00:00, 3843.41it/s]\n",
      "1733it [00:00, 11571.59it/s]\n",
      "33730it [00:01, 24776.45it/s]\n",
      "87it [00:00, 11716.69it/s]\n",
      "47it [00:00, 9134.95it/s]\n",
      "1263it [00:00, 6502.62it/s]\n",
      "9672it [00:00, 13227.83it/s]\n",
      "5400it [00:00, 15399.32it/s]\n",
      "4307116it [01:24, 51216.28it/s]\n",
      "4425it [00:00, 18768.99it/s]\n",
      "269it [00:00, 10215.10it/s]\n",
      "3645it [00:00, 11097.71it/s]\n",
      "1589it [00:00, 8320.77it/s]\n",
      "385it [00:00, 9429.64it/s]\n",
      "17004it [00:02, 7203.14it/s]\n",
      "176it [00:00, 6025.66it/s]\n",
      "233it [00:00, 9475.30it/s]\n",
      "1427it [00:00, 7472.67it/s]\n",
      "341it [00:00, 4139.14it/s]\n",
      "1546it [00:00, 8472.54it/s]\n",
      "46it [00:00, 12869.40it/s]\n",
      "140it [00:00, 15839.94it/s]\n",
      "11678it [00:02, 4499.72it/s]\n",
      "14354834it [04:19, 55248.35it/s]\n",
      "15257673it [04:20, 58658.94it/s]\n",
      "12326it [00:01, 11831.63it/s]\n",
      "24482it [00:01, 13598.82it/s]\n",
      "947it [00:04, 215.04it/s] \n",
      "39678991it [08:50, 74759.31it/s]\n",
      "62863it [01:01, 1018.32it/s]\n",
      "512it [00:00, 10542.49it/s]\n",
      "3506it [00:00, 8793.02it/s]\n",
      "1459it [00:00, 10076.55it/s]\n",
      "6285it [00:00, 15198.33it/s]\n",
      "53158it [00:02, 22439.54it/s]\n",
      "95it [00:00, 3052.44it/s]\n",
      "788it [00:00, 11253.44it/s]\n",
      "24411it [00:02, 8928.89it/s]\n",
      "1932it [00:00, 10168.09it/s]\n",
      "151it [00:00, 8227.33it/s]\n",
      "12000it [00:00, 58216.49it/s]\n",
      "37it [00:00, 7633.51it/s]\n",
      "10229it [00:00, 22152.93it/s]\n",
      "191248it [00:01, 97798.60it/s] \n",
      "6976it [00:01, 4051.72it/s]\n",
      "1160it [00:00, 10394.41it/s]\n",
      "937it [00:00, 9679.22it/s]\n",
      "16169it [00:01, 11865.78it/s]\n",
      "12914it [00:01, 10954.30it/s]\n",
      "1647it [00:00, 22165.81it/s]\n",
      "12it [00:00, 2543.03it/s]\n",
      "19992it [00:01, 10739.15it/s]\n",
      "56661it [00:03, 14552.63it/s]\n",
      "5747it [00:05, 1122.65it/s]\n",
      "7072it [00:17, 393.79it/s] \n",
      "1252it [00:02, 531.99it/s]\n",
      "45326it [00:03, 14697.49it/s]\n",
      "16605209it [04:42, 58707.74it/s]\n",
      "3888it [00:00, 43435.12it/s]\n",
      "223it [00:00, 8442.44it/s]\n",
      "6848it [00:00, 12203.42it/s]\n",
      "139it [00:00, 12527.84it/s]\n",
      "13145it [00:01, 11717.44it/s]\n",
      "13it [00:00, 4462.76it/s]\n",
      "42it [00:00, 12995.04it/s]\n",
      "28180it [00:03, 9195.13it/s]\n",
      "27178it [00:01, 14105.20it/s]\n",
      "8447it [00:00, 9061.34it/s]\n",
      "473it [00:00, 15773.58it/s]\n",
      "3502it [00:00, 5847.03it/s]\n",
      "70it [00:00, 14138.56it/s]\n",
      "1216it [00:00, 5993.12it/s]\n",
      "11076it [00:00, 16845.19it/s]\n",
      "391it [00:00, 9249.13it/s]\n",
      "65it [00:00, 4370.89it/s]\n",
      "791574it [00:16, 48995.29it/s]\n",
      "8200it [00:01, 6796.57it/s] \n",
      "16443it [00:01, 11812.80it/s]\n",
      "58it [00:00, 8928.31it/s]\n",
      "100it [00:00, 6775.50it/s]\n",
      "2530it [00:00, 8020.48it/s]\n",
      "13105it [00:01, 13043.61it/s]\n",
      "7226it [00:00, 15885.69it/s]\n",
      "18860it [00:01, 13169.66it/s]\n",
      "11236it [00:00, 15113.20it/s]\n",
      "5103it [00:00, 9543.97it/s]\n",
      "51691it [00:02, 17461.79it/s]\n",
      "532it [00:00, 9764.18it/s]\n",
      "4921it [00:00, 12778.85it/s]\n",
      "3948it [00:00, 8811.91it/s] \n",
      "28986it [00:02, 13425.41it/s]\n",
      "17097584it [05:07, 55611.27it/s]\n",
      "1627it [00:00, 30801.36it/s]\n",
      "6751it [00:00, 9419.07it/s] \n",
      "638it [00:00, 4852.43it/s]\n",
      "1884790it [00:29, 63261.90it/s]\n",
      "17918it [00:00, 20225.47it/s]\n",
      "1523it [00:00, 6315.76it/s]\n",
      "3442it [00:00, 18146.82it/s]\n",
      "23826it [00:02, 11298.48it/s]\n",
      "8593it [00:00, 96016.60it/s]\n",
      "3365it [00:00, 3765.50it/s]\n",
      "11987371it [02:17, 87155.32it/s]\n",
      "10565it [00:01, 9298.72it/s]\n",
      "130494it [00:07, 17494.03it/s]\n",
      "45577it [00:04, 9221.06it/s]\n",
      "1473823it [01:15, 19546.36it/s]\n",
      "43it [00:00, 9276.09it/s]\n",
      "7106it [00:00, 13450.02it/s]\n",
      "49it [00:00, 58469.67it/s]\n",
      "40it [00:00, 12006.88it/s]\n",
      "16144it [00:01, 13243.21it/s]\n",
      "13202it [00:00, 16531.43it/s]\n",
      "9221it [00:00, 9457.36it/s] \n",
      "572it [00:00, 16722.37it/s]\n",
      "68it [00:00, 24727.99it/s]\n",
      "13529it [00:00, 16394.86it/s]\n",
      "1006it [00:00, 6344.08it/s]\n",
      "22491it [00:01, 20010.71it/s]\n",
      "5798716it [01:51, 52172.54it/s]\n",
      "6418it [00:00, 19936.55it/s]\n",
      "523it [00:00, 14143.18it/s]\n",
      "66212it [00:05, 12361.28it/s]\n",
      "2368it [00:00, 17896.76it/s]\n",
      "17893it [00:01, 13081.58it/s]\n",
      "5561it [00:00, 11175.43it/s]\n",
      "4702it [00:00, 11581.68it/s]\n",
      "2839348it [03:25, 13801.19it/s]\n",
      "3664it [00:01, 2048.29it/s] \n",
      "9359it [00:00, 12757.13it/s]\n",
      "1143it [00:00, 6982.04it/s]\n",
      "32085it [00:02, 13149.30it/s]\n",
      "9865it [00:00, 17776.20it/s]\n",
      "70it [00:00, 9196.59it/s]\n",
      "3819it [00:00, 8671.73it/s]\n",
      "440752it [00:33, 13287.63it/s]\n",
      "2132it [00:00, 27717.70it/s]\n",
      "89it [00:00, 45529.10it/s]\n",
      "10483it [00:01, 6951.15it/s]\n",
      "20320it [00:01, 13999.01it/s]\n",
      "5714it [00:44, 127.48it/s]\n",
      "6204it [00:00, 10370.43it/s]\n",
      "14158it [00:01, 11598.50it/s]\n",
      "1619it [00:00, 88768.05it/s]\n",
      "2877it [00:00, 7210.63it/s]\n",
      "298it [00:00, 4104.66it/s]\n",
      "240it [00:00, 4921.76it/s]\n",
      "276it [00:00, 11412.62it/s]\n",
      "153it [00:00, 8363.14it/s]\n",
      "1092497it [00:13, 83228.69it/s]\n",
      "1245it [00:00, 13418.31it/s]\n",
      "348it [00:00, 9563.05it/s]\n",
      "547it [00:00, 4931.65it/s]\n",
      "726it [00:00, 8706.85it/s]\n",
      "36449it [00:02, 16283.32it/s]\n",
      "22818it [00:01, 21149.13it/s]\n",
      "42143it [00:01, 22167.33it/s]\n",
      "1138it [00:00, 7694.58it/s]\n",
      "12172it [00:00, 16866.96it/s]\n",
      "1045it [00:00, 11838.20it/s]\n",
      "230208it [00:05, 38570.95it/s]\n",
      "22542it [00:02, 7801.83it/s] \n",
      "446589it [00:22, 20176.62it/s]\n",
      "48401it [00:02, 19764.22it/s]\n",
      "31050it [00:02, 13592.28it/s]\n",
      "76290it [00:19, 3841.77it/s]\n",
      "6400it [00:00, 11717.18it/s]\n",
      "297it [00:00, 11411.35it/s]\n",
      "51302it [00:03, 15845.07it/s]\n",
      "286it [00:00, 10397.33it/s]\n",
      "3071it [00:00, 26604.95it/s]\n",
      "13101it [00:00, 17402.43it/s]\n",
      "1171628it [01:05, 17775.54it/s]\n",
      "8504it [00:00, 10785.97it/s]\n",
      "629779it [00:16, 38903.64it/s]\n",
      "209173it [00:29, 7127.85it/s] \n",
      "216it [00:00, 11088.84it/s]\n",
      "1074it [00:00, 14592.33it/s]\n",
      "1578it [00:00, 83180.78it/s]\n",
      "984it [00:00, 12965.92it/s]\n",
      "753it [00:00, 12297.23it/s]\n",
      "101it [00:00, 4080.02it/s]\n",
      "91it [00:00, 14483.97it/s]\n",
      "3578it [00:00, 16003.86it/s]\n",
      "4122it [00:00, 16301.60it/s]\n",
      "1333it [00:00, 9012.46it/s]\n",
      "64241it [00:05, 11113.78it/s]\n",
      "416it [00:00, 4741.86it/s]\n",
      "4591it [00:00, 10106.95it/s]\n",
      "300it [00:00, 10122.04it/s]\n",
      "48it [00:00, 9555.13it/s]\n",
      "25040it [00:01, 17627.43it/s]\n",
      "220it [00:00, 3546.82it/s]\n",
      "644it [00:00, 9326.47it/s]\n",
      "371844it [00:30, 12165.93it/s]\n",
      "373694it [00:28, 12914.45it/s]\n",
      "597it [00:00, 8052.30it/s]\n",
      "281536it [00:08, 34637.18it/s]\n",
      "11439it [00:01, 10874.64it/s]\n",
      "168it [00:00, 7914.49it/s]\n",
      "839it [00:00, 6433.70it/s]\n",
      "5550it [00:00, 38384.36it/s]\n",
      "3626it [00:00, 14615.76it/s]\n",
      "772it [00:00, 6335.37it/s]\n",
      "711it [00:00, 11872.56it/s]\n",
      "5407it [00:00, 14764.41it/s]\n",
      "82470it [00:04, 17208.81it/s]\n",
      "13321it [00:00, 13468.20it/s]\n",
      "7363it [00:00, 13711.73it/s]\n",
      "3834it [00:00, 12257.82it/s]\n",
      "25073it [00:01, 13958.63it/s]\n",
      "11314it [00:00, 35998.87it/s]\n",
      "24096it [00:00, 259752.21it/s]\n",
      "15277it [00:01, 14300.66it/s]\n",
      "84it [00:00, 8532.65it/s]\n",
      "327it [00:00, 7938.24it/s]\n"
     ]
    }
   ],
   "source": [
    "for f in online_articles:\n",
    "    with open(f) as fopen:\n",
    "        for l in tqdm(fopen):\n",
    "            try:\n",
    "                data = '<s>' + json.loads(l) + '</s>'\n",
    "                partitioned = partition(data)\n",
    "                for p in partitioned:\n",
    "                    data = {\n",
    "                        'text': p,\n",
    "                    }\n",
    "                    a.write(f'{json.dumps(data)}\\n')\n",
    "                    a.flush()\n",
    "            except:\n",
    "                pass"
   ]
  },
  {
   "cell_type": "code",
   "execution_count": 1,
   "id": "28987902",
   "metadata": {},
   "outputs": [],
   "source": [
    "from transformers import AutoTokenizer"
   ]
  },
  {
   "cell_type": "code",
   "execution_count": 2,
   "id": "92bf124e",
   "metadata": {},
   "outputs": [
    {
     "data": {
      "application/vnd.jupyter.widget-view+json": {
       "model_id": "35ef9383afd74b41898d32cbfb82a6da",
       "version_major": 2,
       "version_minor": 0
      },
      "text/plain": [
       "Downloading (…)okenizer_config.json:   0%|          | 0.00/725 [00:00<?, ?B/s]"
      ]
     },
     "metadata": {},
     "output_type": "display_data"
    },
    {
     "data": {
      "application/vnd.jupyter.widget-view+json": {
       "model_id": "d1ee8f7ad414494387f3f1765cebd763",
       "version_major": 2,
       "version_minor": 0
      },
      "text/plain": [
       "Downloading tokenizer.model:   0%|          | 0.00/500k [00:00<?, ?B/s]"
      ]
     },
     "metadata": {},
     "output_type": "display_data"
    },
    {
     "data": {
      "application/vnd.jupyter.widget-view+json": {
       "model_id": "975d49b52db44f98affa794daa6f0c97",
       "version_major": 2,
       "version_minor": 0
      },
      "text/plain": [
       "Downloading (…)/main/tokenizer.json:   0%|          | 0.00/1.84M [00:00<?, ?B/s]"
      ]
     },
     "metadata": {},
     "output_type": "display_data"
    },
    {
     "data": {
      "application/vnd.jupyter.widget-view+json": {
       "model_id": "1a6cc0a7078845928cc49c93b62e4581",
       "version_major": 2,
       "version_minor": 0
      },
      "text/plain": [
       "Downloading (…)cial_tokens_map.json:   0%|          | 0.00/414 [00:00<?, ?B/s]"
      ]
     },
     "metadata": {},
     "output_type": "display_data"
    }
   ],
   "source": [
    "tokenizer = AutoTokenizer.from_pretrained('mesolitica/llama-600m-hf-32768-fpf')"
   ]
  },
  {
   "cell_type": "code",
   "execution_count": 4,
   "id": "b01596b5",
   "metadata": {},
   "outputs": [
    {
     "data": {
      "text/plain": [
       "'\\n\\n\\n'"
      ]
     },
     "execution_count": 4,
     "metadata": {},
     "output_type": "execute_result"
    }
   ],
   "source": [
    "tokenizer.decode([13, 13,13])"
   ]
  },
  {
   "cell_type": "code",
   "execution_count": null,
   "id": "ef545cc1",
   "metadata": {},
   "outputs": [],
   "source": []
  }
 ],
 "metadata": {
  "kernelspec": {
   "display_name": "Python 3 (ipykernel)",
   "language": "python",
   "name": "python3"
  },
  "language_info": {
   "codemirror_mode": {
    "name": "ipython",
    "version": 3
   },
   "file_extension": ".py",
   "mimetype": "text/x-python",
   "name": "python",
   "nbconvert_exporter": "python",
   "pygments_lexer": "ipython3",
   "version": "3.10.12"
  }
 },
 "nbformat": 4,
 "nbformat_minor": 5
}
