{
 "cells": [
  {
   "cell_type": "code",
   "execution_count": 13,
   "id": "73f41b8a",
   "metadata": {},
   "outputs": [],
   "source": [
    "from glob import glob\n",
    "from streaming import MDSWriter\n",
    "from streaming import StreamingDataset\n",
    "from transformers import default_data_collator\n",
    "from tqdm import tqdm\n",
    "import numpy as np"
   ]
  },
  {
   "cell_type": "code",
   "execution_count": 3,
   "id": "54a5b832",
   "metadata": {},
   "outputs": [
    {
     "name": "stdout",
     "output_type": "stream",
     "text": [
      "1.1G\ttokenized-0\r\n",
      "635M\ttokenized-1\r\n",
      "2.7G\ttokenized-10\r\n",
      "1.1G\ttokenized-11\r\n",
      "4.3G\ttokenized-12\r\n",
      "4.3G\ttokenized-13\r\n",
      "1.1G\ttokenized-14\r\n",
      "939M\ttokenized-15\r\n",
      "844M\ttokenized-16\r\n",
      "827M\ttokenized-17\r\n",
      "3.0G\ttokenized-18\r\n",
      "917M\ttokenized-19\r\n",
      "4.2G\ttokenized-2\r\n",
      "890M\ttokenized-3\r\n",
      "4.2G\ttokenized-4\r\n",
      "734M\ttokenized-5\r\n",
      "4.1G\ttokenized-6\r\n",
      "951M\ttokenized-7\r\n",
      "3.4G\ttokenized-8\r\n",
      "893M\ttokenized-9\r\n"
     ]
    }
   ],
   "source": [
    "!du -hs tokenized-*"
   ]
  },
  {
   "cell_type": "code",
   "execution_count": 4,
   "id": "23cce23d",
   "metadata": {},
   "outputs": [
    {
     "data": {
      "text/plain": [
       "['tokenized-1',\n",
       " 'tokenized-16',\n",
       " 'tokenized-4',\n",
       " 'tokenized-2',\n",
       " 'tokenized-19',\n",
       " 'tokenized-9',\n",
       " 'tokenized-18',\n",
       " 'tokenized-8',\n",
       " 'tokenized-6',\n",
       " 'tokenized-12',\n",
       " 'tokenized-10',\n",
       " 'tokenized-3',\n",
       " 'tokenized-7',\n",
       " 'tokenized-15',\n",
       " 'tokenized-13',\n",
       " 'tokenized-11',\n",
       " 'tokenized-5',\n",
       " 'tokenized-17',\n",
       " 'tokenized-14',\n",
       " 'tokenized-0']"
      ]
     },
     "execution_count": 4,
     "metadata": {},
     "output_type": "execute_result"
    }
   ],
   "source": [
    "folders = glob('tokenized-*')\n",
    "folders"
   ]
  },
  {
   "cell_type": "code",
   "execution_count": 5,
   "id": "9855b54d",
   "metadata": {},
   "outputs": [],
   "source": [
    "from streaming.base.format.mds.encodings import Encoding, _encodings\n",
    "\n",
    "class Int32(Encoding):\n",
    "    def encode(self, obj) -> bytes:\n",
    "        return obj.tobytes()\n",
    "\n",
    "    def decode(self, data: bytes):\n",
    "        return np.frombuffer(data, np.int32)\n",
    "\n",
    "_encodings['int32'] = Int32"
   ]
  },
  {
   "cell_type": "code",
   "execution_count": 6,
   "id": "d49f16b6",
   "metadata": {},
   "outputs": [],
   "source": [
    "columns = {\n",
    "    'input_ids': 'int32',\n",
    "    'token_type_ids': 'int32',\n",
    "    'attention_mask': 'int32',\n",
    "    'labels': 'int32',\n",
    "}\n",
    "compression = 'zstd'\n",
    "hashes = 'sha1', 'xxh64'"
   ]
  },
  {
   "cell_type": "code",
   "execution_count": 7,
   "id": "05f8eeb5",
   "metadata": {},
   "outputs": [],
   "source": [
    "!rm -rf tokenized"
   ]
  },
  {
   "cell_type": "code",
   "execution_count": 8,
   "id": "777b7e95",
   "metadata": {},
   "outputs": [
    {
     "name": "stderr",
     "output_type": "stream",
     "text": [
      "100%|██████████| 96298/96298 [00:30<00:00, 3112.38it/s]\n",
      "100%|██████████| 168260/168260 [01:12<00:00, 2329.09it/s]\n",
      "100%|██████████| 60663/60663 [00:19<00:00, 3106.63it/s]\n",
      "100%|██████████| 61414/61414 [00:19<00:00, 3182.67it/s]\n",
      "100%|██████████| 271845/271845 [01:44<00:00, 2604.84it/s]\n",
      "100%|██████████| 136592/136592 [00:50<00:00, 2701.86it/s]\n",
      "100%|██████████| 644092/644092 [04:12<00:00, 2555.48it/s]\n",
      "100%|██████████| 48943/48943 [00:13<00:00, 3601.56it/s]\n",
      "100%|██████████| 60098/60098 [00:24<00:00, 2481.63it/s]\n",
      "100%|██████████| 62076/62076 [00:17<00:00, 3588.53it/s]\n",
      "100%|██████████| 452002/452002 [02:52<00:00, 2625.16it/s]\n",
      "100%|██████████| 135520/135520 [01:03<00:00, 2136.21it/s]\n",
      "100%|██████████| 186496/186496 [01:15<00:00, 2468.61it/s]\n",
      "100%|██████████| 144360/144360 [00:48<00:00, 2991.19it/s]\n",
      "100%|██████████| 753896/753896 [06:09<00:00, 2040.98it/s]\n",
      "100%|██████████| 164342/164342 [01:06<00:00, 2466.80it/s]\n",
      "100%|██████████| 175792/175792 [01:08<00:00, 2582.57it/s]\n",
      "100%|██████████| 127292/127292 [00:55<00:00, 2312.02it/s]\n",
      "100%|██████████| 166251/166251 [00:57<00:00, 2883.62it/s]\n",
      "100%|██████████| 232752/232752 [01:19<00:00, 2911.67it/s]\n"
     ]
    }
   ],
   "source": [
    "with MDSWriter(out='tokenized', columns=columns, compression=compression, hashes=hashes) as out:\n",
    "    for f in folders:\n",
    "        try:\n",
    "            dataset = StreamingDataset(local=f)\n",
    "            for i in tqdm(range(len(dataset))):\n",
    "                out.write(dataset[i])\n",
    "        except Exception as e:\n",
    "            print(e)\n",
    "            pass"
   ]
  },
  {
   "cell_type": "code",
   "execution_count": 10,
   "id": "061ffe77",
   "metadata": {},
   "outputs": [
    {
     "name": "stdout",
     "output_type": "stream",
     "text": [
      "23G\ttokenized\r\n"
     ]
    }
   ],
   "source": [
    "!du -hs tokenized"
   ]
  },
  {
   "cell_type": "code",
   "execution_count": 20,
   "id": "7b45ec78",
   "metadata": {},
   "outputs": [
    {
     "name": "stdout",
     "output_type": "stream",
     "text": [
      "CPU times: user 299 ms, sys: 54.2 ms, total: 353 ms\n",
      "Wall time: 353 ms\n"
     ]
    }
   ],
   "source": [
    "%%time\n",
    "dataset = StreamingDataset(local='tokenized')"
   ]
  },
  {
   "cell_type": "code",
   "execution_count": 21,
   "id": "e927bc30",
   "metadata": {},
   "outputs": [
    {
     "name": "stdout",
     "output_type": "stream",
     "text": [
      "CPU times: user 3.26 ms, sys: 0 ns, total: 3.26 ms\n",
      "Wall time: 2.66 ms\n"
     ]
    }
   ],
   "source": [
    "%%time\n",
    "\n",
    "batch = [dataset[i] for i in range(10)]"
   ]
  },
  {
   "cell_type": "code",
   "execution_count": 18,
   "id": "b45c19c1",
   "metadata": {
    "scrolled": true
   },
   "outputs": [
    {
     "data": {
      "text/plain": [
       "16994238464"
      ]
     },
     "execution_count": 18,
     "metadata": {},
     "output_type": "execute_result"
    }
   ],
   "source": [
    "len(dataset) * 4096"
   ]
  },
  {
   "cell_type": "code",
   "execution_count": 15,
   "id": "db4de563",
   "metadata": {},
   "outputs": [],
   "source": [
    "padded = default_data_collator(batch)"
   ]
  },
  {
   "cell_type": "code",
   "execution_count": null,
   "id": "0c44dac0",
   "metadata": {},
   "outputs": [],
   "source": [
    "from transformers import AutoModelForCausalLM, AutoTokenizer"
   ]
  },
  {
   "cell_type": "code",
   "execution_count": null,
   "id": "ce143f43",
   "metadata": {},
   "outputs": [],
   "source": [
    "model = AutoModelForCausalLM.from_pretrained('./mistral-191M')"
   ]
  },
  {
   "cell_type": "code",
   "execution_count": null,
   "id": "b7dcd8aa",
   "metadata": {},
   "outputs": [],
   "source": [
    "model(**padded)"
   ]
  }
 ],
 "metadata": {
  "kernelspec": {
   "display_name": "Python 3 (ipykernel)",
   "language": "python",
   "name": "python3"
  },
  "language_info": {
   "codemirror_mode": {
    "name": "ipython",
    "version": 3
   },
   "file_extension": ".py",
   "mimetype": "text/x-python",
   "name": "python",
   "nbconvert_exporter": "python",
   "pygments_lexer": "ipython3",
   "version": "3.10.12"
  }
 },
 "nbformat": 4,
 "nbformat_minor": 5
}
