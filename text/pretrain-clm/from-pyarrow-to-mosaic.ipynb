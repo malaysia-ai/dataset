{
 "cells": [
  {
   "cell_type": "code",
   "execution_count": 15,
   "id": "4b7592f7",
   "metadata": {},
   "outputs": [],
   "source": [
    "import mp\n",
    "import os\n",
    "import pyarrow as pa\n",
    "import numpy as np\n",
    "from streaming import MDSWriter\n",
    "from tqdm import tqdm"
   ]
  },
  {
   "cell_type": "code",
   "execution_count": 6,
   "id": "e0391f83",
   "metadata": {},
   "outputs": [],
   "source": [
    "from streaming.base.format.mds.encodings import Encoding, _encodings\n",
    "\n",
    "class Int32(Encoding):\n",
    "    def encode(self, obj) -> bytes:\n",
    "        return obj.tobytes()\n",
    "\n",
    "    def decode(self, data: bytes):\n",
    "        return np.frombuffer(data, np.int32)\n",
    "\n",
    "_encodings['int32'] = Int32"
   ]
  },
  {
   "cell_type": "code",
   "execution_count": 7,
   "id": "62ddb05a",
   "metadata": {},
   "outputs": [],
   "source": [
    "columns = {\n",
    "    'input_ids': 'int32',\n",
    "    'token_type_ids': 'int32',\n",
    "    'attention_mask': 'int32',\n",
    "    'labels': 'int32',\n",
    "}\n",
    "compression = 'zstd'\n",
    "hashes = 'sha1', 'xxh64'"
   ]
  },
  {
   "cell_type": "code",
   "execution_count": 8,
   "id": "e817fcc5",
   "metadata": {},
   "outputs": [
    {
     "data": {
      "text/plain": [
       "['combine-lm_00017_of_00020.jsonl-grouped-4096',\n",
       " 'combine-lm_00005_of_00020.jsonl-grouped-4096',\n",
       " 'combine-lm_00008_of_00020.jsonl-grouped-4096',\n",
       " 'combine-lm_00012_of_00020.jsonl-grouped-4096',\n",
       " 'combine-lm_00007_of_00020.jsonl-grouped-4096',\n",
       " 'combine-lm_00014_of_00020.jsonl-grouped-4096',\n",
       " 'combine-lm_00006_of_00020.jsonl-grouped-4096',\n",
       " 'combine-lm_00013_of_00020.jsonl-grouped-4096',\n",
       " 'combine-lm_00016_of_00020.jsonl-grouped-4096',\n",
       " 'combine-lm_00011_of_00020.jsonl-grouped-4096',\n",
       " 'combine-lm_00018_of_00020.jsonl-grouped-4096',\n",
       " 'combine-lm_00002_of_00020.jsonl-grouped-4096',\n",
       " 'combine-lm_00009_of_00020.jsonl-grouped-4096',\n",
       " 'combine-lm_00019_of_00020.jsonl-grouped-4096',\n",
       " 'combine-lm_00001_of_00020.jsonl-grouped-4096',\n",
       " 'combine-lm_00003_of_00020.jsonl-grouped-4096',\n",
       " 'combine-lm_00015_of_00020.jsonl-grouped-4096',\n",
       " 'combine-lm_00004_of_00020.jsonl-grouped-4096',\n",
       " 'combine-lm_00000_of_00020.jsonl-grouped-4096',\n",
       " 'combine-lm_00010_of_00020.jsonl-grouped-4096']"
      ]
     },
     "execution_count": 8,
     "metadata": {},
     "output_type": "execute_result"
    }
   ],
   "source": [
    "from glob import glob\n",
    "\n",
    "files = glob('combine-lm_*_of_00020.jsonl-grouped-4096')\n",
    "files"
   ]
  },
  {
   "cell_type": "code",
   "execution_count": 16,
   "id": "8a3e0890",
   "metadata": {},
   "outputs": [],
   "source": [
    "def loop(files):\n",
    "    files, index = files\n",
    "    out_root = f'tokenized-{index}'\n",
    "    os.system(f'rm -rf {out_root}')\n",
    "    with MDSWriter(out=out_root, columns=columns, compression=compression, hashes=hashes, \n",
    "                   size_limit = 67108864 * 2) as out:\n",
    "        for f in files:\n",
    "            memory_mapped_stream = pa.memory_map(f)\n",
    "            opened_stream = pa.ipc.open_stream(memory_mapped_stream)\n",
    "            for a in tqdm(opened_stream):\n",
    "                s = a.to_struct_array()\n",
    "                for i in range(len(s)):\n",
    "                    keys = list(s[i])\n",
    "                    a_ = {}\n",
    "                    for k in keys:\n",
    "                        a_[k] = np.array(s[i][k].as_py()).astype(np.int32)\n",
    "                    out.write(a_)"
   ]
  },
  {
   "cell_type": "code",
   "execution_count": null,
   "id": "876289e4",
   "metadata": {},
   "outputs": [
    {
     "name": "stderr",
     "output_type": "stream",
     "text": [
      "2570it [05:50,  7.30it/s]\n",
      "7464it [06:35, 18.87it/s]\n",
      "7464it [07:57, 15.62it/s]\n",
      "7464it [08:06, 15.36it/s]\n",
      "7464it [08:11, 15.20it/s]\n",
      "7464it [12:20, 10.08it/s]\n",
      "5816it [13:12,  7.64it/s]"
     ]
    }
   ],
   "source": [
    "mp.multiprocessing(files, loop, cores = 20, returned = False)"
   ]
  },
  {
   "cell_type": "code",
   "execution_count": null,
   "id": "c9aba12a",
   "metadata": {},
   "outputs": [],
   "source": []
  }
 ],
 "metadata": {
  "kernelspec": {
   "display_name": "Python 3 (ipykernel)",
   "language": "python",
   "name": "python3"
  },
  "language_info": {
   "codemirror_mode": {
    "name": "ipython",
    "version": 3
   },
   "file_extension": ".py",
   "mimetype": "text/x-python",
   "name": "python",
   "nbconvert_exporter": "python",
   "pygments_lexer": "ipython3",
   "version": "3.10.12"
  }
 },
 "nbformat": 4,
 "nbformat_minor": 5
}
