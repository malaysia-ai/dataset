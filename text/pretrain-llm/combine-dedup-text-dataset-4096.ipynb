{
 "cells": [
  {
   "cell_type": "code",
   "execution_count": 1,
   "id": "d245e882",
   "metadata": {
    "scrolled": true
   },
   "outputs": [],
   "source": [
    "from glob import glob\n",
    "from streaming import MDSWriter\n",
    "from streaming import StreamingDataset, LocalDataset\n",
    "from transformers import default_data_collator, DataCollatorForLanguageModeling\n",
    "from tqdm import tqdm\n",
    "import numpy as np"
   ]
  },
  {
   "cell_type": "code",
   "execution_count": 2,
   "id": "b08f29a2",
   "metadata": {},
   "outputs": [],
   "source": [
    "folders = sorted(glob('tokenized_indexes/tokenized-*'), key = lambda x: int(x.split('-')[-1]))"
   ]
  },
  {
   "cell_type": "code",
   "execution_count": 3,
   "id": "28b8493a",
   "metadata": {},
   "outputs": [
    {
     "data": {
      "text/plain": [
       "['tokenized_indexes/tokenized-0',\n",
       " 'tokenized_indexes/tokenized-1',\n",
       " 'tokenized_indexes/tokenized-2',\n",
       " 'tokenized_indexes/tokenized-3',\n",
       " 'tokenized_indexes/tokenized-4',\n",
       " 'tokenized_indexes/tokenized-5',\n",
       " 'tokenized_indexes/tokenized-6',\n",
       " 'tokenized_indexes/tokenized-7',\n",
       " 'tokenized_indexes/tokenized-8',\n",
       " 'tokenized_indexes/tokenized-9',\n",
       " 'tokenized_indexes/tokenized-10',\n",
       " 'tokenized_indexes/tokenized-11',\n",
       " 'tokenized_indexes/tokenized-12',\n",
       " 'tokenized_indexes/tokenized-13',\n",
       " 'tokenized_indexes/tokenized-14',\n",
       " 'tokenized_indexes/tokenized-15',\n",
       " 'tokenized_indexes/tokenized-16',\n",
       " 'tokenized_indexes/tokenized-17',\n",
       " 'tokenized_indexes/tokenized-18',\n",
       " 'tokenized_indexes/tokenized-19',\n",
       " 'tokenized_indexes/tokenized-20',\n",
       " 'tokenized_indexes/tokenized-21',\n",
       " 'tokenized_indexes/tokenized-22',\n",
       " 'tokenized_indexes/tokenized-23',\n",
       " 'tokenized_indexes/tokenized-24',\n",
       " 'tokenized_indexes/tokenized-25',\n",
       " 'tokenized_indexes/tokenized-26',\n",
       " 'tokenized_indexes/tokenized-27',\n",
       " 'tokenized_indexes/tokenized-28',\n",
       " 'tokenized_indexes/tokenized-29',\n",
       " 'tokenized_indexes/tokenized-30',\n",
       " 'tokenized_indexes/tokenized-31',\n",
       " 'tokenized_indexes/tokenized-32',\n",
       " 'tokenized_indexes/tokenized-33',\n",
       " 'tokenized_indexes/tokenized-34',\n",
       " 'tokenized_indexes/tokenized-35',\n",
       " 'tokenized_indexes/tokenized-36',\n",
       " 'tokenized_indexes/tokenized-37',\n",
       " 'tokenized_indexes/tokenized-38']"
      ]
     },
     "execution_count": 3,
     "metadata": {},
     "output_type": "execute_result"
    }
   ],
   "source": [
    "folders"
   ]
  },
  {
   "cell_type": "code",
   "execution_count": 4,
   "id": "c037eea9",
   "metadata": {},
   "outputs": [],
   "source": [
    "from streaming.base.format.mds.encodings import Encoding, _encodings\n",
    "\n",
    "class UInt16(Encoding):\n",
    "    def encode(self, obj) -> bytes:\n",
    "        return obj.tobytes()\n",
    "\n",
    "    def decode(self, data: bytes):\n",
    "        return np.frombuffer(data, np.uint16)\n",
    "\n",
    "_encodings['uint16'] = UInt16"
   ]
  },
  {
   "cell_type": "code",
   "execution_count": 5,
   "id": "fd10cc7b",
   "metadata": {},
   "outputs": [],
   "source": [
    "columns = {\n",
    "    'input_ids': 'uint16',\n",
    "}\n",
    "\n",
    "compression = 'zstd'\n",
    "hashes = 'sha1', 'xxh64'"
   ]
  },
  {
   "cell_type": "code",
   "execution_count": 6,
   "id": "25d1aa0e",
   "metadata": {},
   "outputs": [],
   "source": [
    "!rm -rf combine-dedup-text-dataset"
   ]
  },
  {
   "cell_type": "code",
   "execution_count": null,
   "id": "271963fd",
   "metadata": {},
   "outputs": [
    {
     "name": "stdout",
     "output_type": "stream",
     "text": [
      "0\n"
     ]
    },
    {
     "name": "stderr",
     "output_type": "stream",
     "text": [
      "100%|██████████| 40915/40915 [00:18<00:00, 2213.48it/s]\n"
     ]
    },
    {
     "name": "stdout",
     "output_type": "stream",
     "text": [
      "1\n"
     ]
    },
    {
     "name": "stderr",
     "output_type": "stream",
     "text": [
      "100%|██████████| 112590/112590 [00:55<00:00, 2023.18it/s]\n"
     ]
    },
    {
     "name": "stdout",
     "output_type": "stream",
     "text": [
      "2\n"
     ]
    },
    {
     "name": "stderr",
     "output_type": "stream",
     "text": [
      "100%|██████████| 57281/57281 [00:28<00:00, 2021.16it/s]\n"
     ]
    },
    {
     "name": "stdout",
     "output_type": "stream",
     "text": [
      "3\n"
     ]
    },
    {
     "name": "stderr",
     "output_type": "stream",
     "text": [
      "100%|██████████| 285698/285698 [01:48<00:00, 2640.82it/s]\n"
     ]
    },
    {
     "name": "stdout",
     "output_type": "stream",
     "text": [
      "4\n"
     ]
    },
    {
     "name": "stderr",
     "output_type": "stream",
     "text": [
      "100%|██████████| 1078723/1078723 [05:47<00:00, 3103.53it/s]\n"
     ]
    },
    {
     "name": "stdout",
     "output_type": "stream",
     "text": [
      "5\n"
     ]
    },
    {
     "name": "stderr",
     "output_type": "stream",
     "text": [
      " 53%|█████▎    | 400303/759025 [01:57<01:18, 4589.37it/s]"
     ]
    }
   ],
   "source": [
    "with MDSWriter(out='combine-dedup-text-dataset', columns=columns, compression=None, hashes=hashes) as out:\n",
    "    for no, f in enumerate(folders):\n",
    "        print(no)\n",
    "        try:\n",
    "            dataset = StreamingDataset(local=f)\n",
    "            for i in tqdm(range(len(dataset))):\n",
    "                out.write(dataset[i])\n",
    "        except Exception as e:\n",
    "            print(e)\n",
    "            pass"
   ]
  },
  {
   "cell_type": "code",
   "execution_count": null,
   "id": "5e8a0aba",
   "metadata": {},
   "outputs": [],
   "source": [
    "dataset = LocalDataset('combine-dedup-text-dataset')"
   ]
  },
  {
   "cell_type": "code",
   "execution_count": null,
   "id": "afd8e8d1",
   "metadata": {},
   "outputs": [],
   "source": [
    "for i in tqdm(range(len(dataset))):\n",
    "    dataset[i]"
   ]
  },
  {
   "cell_type": "code",
   "execution_count": null,
   "id": "5402a0af",
   "metadata": {},
   "outputs": [],
   "source": []
  }
 ],
 "metadata": {
  "kernelspec": {
   "display_name": "Python 3 (ipykernel)",
   "language": "python",
   "name": "python3"
  },
  "language_info": {
   "codemirror_mode": {
    "name": "ipython",
    "version": 3
   },
   "file_extension": ".py",
   "mimetype": "text/x-python",
   "name": "python",
   "nbconvert_exporter": "python",
   "pygments_lexer": "ipython3",
   "version": "3.10.12"
  }
 },
 "nbformat": 4,
 "nbformat_minor": 5
}
