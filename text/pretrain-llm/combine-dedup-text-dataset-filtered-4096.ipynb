{
 "cells": [
  {
   "cell_type": "code",
   "execution_count": 1,
   "id": "d245e882",
   "metadata": {
    "scrolled": true
   },
   "outputs": [],
   "source": [
    "from glob import glob\n",
    "from streaming import MDSWriter\n",
    "from streaming import StreamingDataset, LocalDataset\n",
    "from transformers import default_data_collator, DataCollatorForLanguageModeling\n",
    "from tqdm import tqdm\n",
    "import numpy as np"
   ]
  },
  {
   "cell_type": "code",
   "execution_count": 2,
   "id": "b08f29a2",
   "metadata": {},
   "outputs": [],
   "source": [
    "folders = sorted(glob('tokenized_indexes-filtered/tokenized-*'), key = lambda x: int(x.split('-')[-1]))"
   ]
  },
  {
   "cell_type": "code",
   "execution_count": 3,
   "id": "07de103c",
   "metadata": {},
   "outputs": [
    {
     "data": {
      "text/plain": [
       "['tokenized_indexes-filtered/tokenized-0',\n",
       " 'tokenized_indexes-filtered/tokenized-1',\n",
       " 'tokenized_indexes-filtered/tokenized-2',\n",
       " 'tokenized_indexes-filtered/tokenized-3',\n",
       " 'tokenized_indexes-filtered/tokenized-4',\n",
       " 'tokenized_indexes-filtered/tokenized-5']"
      ]
     },
     "execution_count": 3,
     "metadata": {},
     "output_type": "execute_result"
    }
   ],
   "source": [
    "folders"
   ]
  },
  {
   "cell_type": "code",
   "execution_count": 4,
   "id": "c037eea9",
   "metadata": {},
   "outputs": [],
   "source": [
    "from streaming.base.format.mds.encodings import Encoding, _encodings\n",
    "\n",
    "class UInt16(Encoding):\n",
    "    def encode(self, obj) -> bytes:\n",
    "        return obj.tobytes()\n",
    "\n",
    "    def decode(self, data: bytes):\n",
    "        return np.frombuffer(data, np.uint16)\n",
    "\n",
    "_encodings['uint16'] = UInt16"
   ]
  },
  {
   "cell_type": "code",
   "execution_count": 5,
   "id": "fd10cc7b",
   "metadata": {},
   "outputs": [],
   "source": [
    "columns = {\n",
    "    'input_ids': 'uint16',\n",
    "}\n",
    "\n",
    "compression = 'zstd'\n",
    "hashes = 'sha1', 'xxh64'"
   ]
  },
  {
   "cell_type": "code",
   "execution_count": 6,
   "id": "25d1aa0e",
   "metadata": {},
   "outputs": [],
   "source": [
    "!rm -rf combine-dedup-text-dataset-filtered"
   ]
  },
  {
   "cell_type": "code",
   "execution_count": 7,
   "id": "271963fd",
   "metadata": {},
   "outputs": [
    {
     "name": "stdout",
     "output_type": "stream",
     "text": [
      "0\n"
     ]
    },
    {
     "name": "stderr",
     "output_type": "stream",
     "text": [
      "100%|██████████| 747558/747558 [03:30<00:00, 3550.29it/s]\n"
     ]
    },
    {
     "name": "stdout",
     "output_type": "stream",
     "text": [
      "1\n"
     ]
    },
    {
     "name": "stderr",
     "output_type": "stream",
     "text": [
      "100%|██████████| 303050/303050 [01:26<00:00, 3522.33it/s]\n"
     ]
    },
    {
     "name": "stdout",
     "output_type": "stream",
     "text": [
      "2\n"
     ]
    },
    {
     "name": "stderr",
     "output_type": "stream",
     "text": [
      "100%|██████████| 1452124/1452124 [06:25<00:00, 3764.68it/s]\n"
     ]
    },
    {
     "name": "stdout",
     "output_type": "stream",
     "text": [
      "3\n"
     ]
    },
    {
     "name": "stderr",
     "output_type": "stream",
     "text": [
      "100%|██████████| 1021877/1021877 [04:36<00:00, 3689.94it/s]\n"
     ]
    },
    {
     "name": "stdout",
     "output_type": "stream",
     "text": [
      "4\n"
     ]
    },
    {
     "name": "stderr",
     "output_type": "stream",
     "text": [
      "100%|██████████| 660256/660256 [03:01<00:00, 3629.32it/s]\n"
     ]
    },
    {
     "name": "stdout",
     "output_type": "stream",
     "text": [
      "5\n"
     ]
    },
    {
     "name": "stderr",
     "output_type": "stream",
     "text": [
      "100%|██████████| 357323/357323 [01:37<00:00, 3677.88it/s]\n"
     ]
    }
   ],
   "source": [
    "with MDSWriter(out='combine-dedup-text-dataset-filtered', columns=columns, compression=None, hashes=hashes) as out:\n",
    "    for no, f in enumerate(folders):\n",
    "        print(no)\n",
    "        try:\n",
    "            dataset = StreamingDataset(local=f)\n",
    "            for i in tqdm(range(len(dataset))):\n",
    "                out.write(dataset[i])\n",
    "        except Exception as e:\n",
    "            print(e)\n",
    "            pass"
   ]
  },
  {
   "cell_type": "code",
   "execution_count": 8,
   "id": "5e8a0aba",
   "metadata": {},
   "outputs": [],
   "source": [
    "dataset = LocalDataset('combine-dedup-text-dataset-filtered')"
   ]
  },
  {
   "cell_type": "code",
   "execution_count": 9,
   "id": "0beb7849",
   "metadata": {},
   "outputs": [
    {
     "data": {
      "text/plain": [
       "18604802048"
      ]
     },
     "execution_count": 9,
     "metadata": {},
     "output_type": "execute_result"
    }
   ],
   "source": [
    "len(dataset) * 4096"
   ]
  }
 ],
 "metadata": {
  "kernelspec": {
   "display_name": "Python 3 (ipykernel)",
   "language": "python",
   "name": "python3"
  },
  "language_info": {
   "codemirror_mode": {
    "name": "ipython",
    "version": 3
   },
   "file_extension": ".py",
   "mimetype": "text/x-python",
   "name": "python",
   "nbconvert_exporter": "python",
   "pygments_lexer": "ipython3",
   "version": "3.10.12"
  }
 },
 "nbformat": 4,
 "nbformat_minor": 5
}
