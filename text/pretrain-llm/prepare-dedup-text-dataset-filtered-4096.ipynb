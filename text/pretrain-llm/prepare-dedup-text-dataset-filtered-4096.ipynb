{
 "cells": [
  {
   "cell_type": "code",
   "execution_count": 1,
   "id": "b079a4e0",
   "metadata": {},
   "outputs": [],
   "source": [
    "# !wget https://gist.githubusercontent.com/huseinzol05/98974ae8c6c7a65d4bc0af9f5003786a/raw/5aa5257608b61e8fcc828e99fbd070d5ca7358e3/mp.py"
   ]
  },
  {
   "cell_type": "code",
   "execution_count": 4,
   "id": "3635db40",
   "metadata": {},
   "outputs": [],
   "source": [
    "from glob import glob\n",
    "from tqdm import tqdm\n",
    "import json\n",
    "import os\n",
    "import numpy as np\n",
    "from transformers import AutoTokenizer\n",
    "from streaming import MDSWriter\n",
    "from tqdm import tqdm\n",
    "import msgspec"
   ]
  },
  {
   "cell_type": "code",
   "execution_count": 5,
   "id": "c69d3a8b",
   "metadata": {},
   "outputs": [],
   "source": [
    "from streaming.base.format.mds.encodings import Encoding, _encodings\n",
    "\n",
    "class UInt16(Encoding):\n",
    "    def encode(self, obj) -> bytes:\n",
    "        return obj.tobytes()\n",
    "\n",
    "    def decode(self, data: bytes):\n",
    "        return np.frombuffer(data, np.uint16)\n",
    "\n",
    "_encodings['uint16'] = UInt16"
   ]
  },
  {
   "cell_type": "code",
   "execution_count": 6,
   "id": "0266effe",
   "metadata": {},
   "outputs": [],
   "source": [
    "columns = {\n",
    "    'input_ids': 'uint16',\n",
    "}\n",
    "compression = 'zstd'\n",
    "hashes = 'sha1', 'xxh64'"
   ]
  },
  {
   "cell_type": "code",
   "execution_count": 7,
   "id": "ad2d7751",
   "metadata": {},
   "outputs": [],
   "source": [
    "split_by = 5000000"
   ]
  },
  {
   "cell_type": "code",
   "execution_count": 8,
   "id": "a9933671",
   "metadata": {},
   "outputs": [],
   "source": [
    "!mkdir partitions-filtered"
   ]
  },
  {
   "cell_type": "code",
   "execution_count": 9,
   "id": "d322f481",
   "metadata": {},
   "outputs": [
    {
     "name": "stderr",
     "output_type": "stream",
     "text": [
      "179327699it [23:33, 126847.98it/s]\n"
     ]
    }
   ],
   "source": [
    "index = 0\n",
    "count = 0\n",
    "a = open(f'partitions-filtered/combined-lm-{index}.jsonl', 'w')\n",
    "\n",
    "with open('prepare-dedup-text-dataset-filtered.jsonl') as fopen:\n",
    "    for l in tqdm(fopen):\n",
    "        a.write(l)\n",
    "        a.flush()\n",
    "        count += 1\n",
    "        if count >= split_by:\n",
    "            a.close()\n",
    "            index += 1\n",
    "            count = 0\n",
    "            a = open(f'partitions-filtered/combined-lm-{index}.jsonl', 'w')\n",
    "            \n",
    "a.close()"
   ]
  },
  {
   "cell_type": "code",
   "execution_count": 10,
   "id": "48509174",
   "metadata": {},
   "outputs": [],
   "source": [
    "block_size = 4096\n",
    "\n",
    "def read_dataset(train_file, block_size = block_size):\n",
    "    \n",
    "    tokenizer = AutoTokenizer.from_pretrained(\n",
    "        'malaysia-ai/bpe-tokenizer',\n",
    "    )\n",
    "    tokenizer.add_bos_token = False\n",
    "    tokenizer.add_eos_token = False\n",
    "    text_column_name = 'text'\n",
    "    temp = []\n",
    "    with open(train_file) as fopen:\n",
    "        for l in fopen:\n",
    "            l = msgspec.json.decode(l)\n",
    "            tokenized = tokenizer(l['text'])['input_ids']\n",
    "            temp.extend(tokenized)\n",
    "            while len(temp) >= block_size:\n",
    "                block = temp[:block_size]\n",
    "                temp = temp[block_size:]\n",
    "                if len(block) == block_size:\n",
    "                    yield np.array(block).astype(np.uint16)"
   ]
  },
  {
   "cell_type": "code",
   "execution_count": 11,
   "id": "68beaba0",
   "metadata": {},
   "outputs": [
    {
     "data": {
      "text/plain": [
       "['partitions-filtered/combined-lm-0.jsonl',\n",
       " 'partitions-filtered/combined-lm-1.jsonl',\n",
       " 'partitions-filtered/combined-lm-2.jsonl',\n",
       " 'partitions-filtered/combined-lm-3.jsonl',\n",
       " 'partitions-filtered/combined-lm-4.jsonl',\n",
       " 'partitions-filtered/combined-lm-5.jsonl',\n",
       " 'partitions-filtered/combined-lm-6.jsonl',\n",
       " 'partitions-filtered/combined-lm-7.jsonl',\n",
       " 'partitions-filtered/combined-lm-8.jsonl',\n",
       " 'partitions-filtered/combined-lm-9.jsonl',\n",
       " 'partitions-filtered/combined-lm-10.jsonl',\n",
       " 'partitions-filtered/combined-lm-11.jsonl',\n",
       " 'partitions-filtered/combined-lm-12.jsonl',\n",
       " 'partitions-filtered/combined-lm-13.jsonl',\n",
       " 'partitions-filtered/combined-lm-14.jsonl',\n",
       " 'partitions-filtered/combined-lm-15.jsonl',\n",
       " 'partitions-filtered/combined-lm-16.jsonl',\n",
       " 'partitions-filtered/combined-lm-17.jsonl',\n",
       " 'partitions-filtered/combined-lm-18.jsonl',\n",
       " 'partitions-filtered/combined-lm-19.jsonl',\n",
       " 'partitions-filtered/combined-lm-20.jsonl',\n",
       " 'partitions-filtered/combined-lm-21.jsonl',\n",
       " 'partitions-filtered/combined-lm-22.jsonl',\n",
       " 'partitions-filtered/combined-lm-23.jsonl',\n",
       " 'partitions-filtered/combined-lm-24.jsonl',\n",
       " 'partitions-filtered/combined-lm-25.jsonl',\n",
       " 'partitions-filtered/combined-lm-26.jsonl',\n",
       " 'partitions-filtered/combined-lm-27.jsonl',\n",
       " 'partitions-filtered/combined-lm-28.jsonl',\n",
       " 'partitions-filtered/combined-lm-29.jsonl',\n",
       " 'partitions-filtered/combined-lm-30.jsonl',\n",
       " 'partitions-filtered/combined-lm-31.jsonl',\n",
       " 'partitions-filtered/combined-lm-32.jsonl',\n",
       " 'partitions-filtered/combined-lm-33.jsonl',\n",
       " 'partitions-filtered/combined-lm-34.jsonl',\n",
       " 'partitions-filtered/combined-lm-35.jsonl']"
      ]
     },
     "execution_count": 11,
     "metadata": {},
     "output_type": "execute_result"
    }
   ],
   "source": [
    "files = sorted(glob('partitions-filtered/combined-lm-*.jsonl'), key = lambda x: int(x.split('-')[-1].replace('.jsonl', '')))\n",
    "files"
   ]
  },
  {
   "cell_type": "code",
   "execution_count": 12,
   "id": "2dc22a3b",
   "metadata": {},
   "outputs": [
    {
     "data": {
      "application/vnd.jupyter.widget-view+json": {
       "model_id": "ef550142e20d4b468a1e5b8daebb8a80",
       "version_major": 2,
       "version_minor": 0
      },
      "text/plain": [
       "tokenizer_config.json:   0%|          | 0.00/1.02k [00:00<?, ?B/s]"
      ]
     },
     "metadata": {},
     "output_type": "display_data"
    },
    {
     "data": {
      "application/vnd.jupyter.widget-view+json": {
       "model_id": "82c38272e33c44b98c0207bac49e2453",
       "version_major": 2,
       "version_minor": 0
      },
      "text/plain": [
       "tokenizer.json:   0%|          | 0.00/1.34M [00:00<?, ?B/s]"
      ]
     },
     "metadata": {},
     "output_type": "display_data"
    },
    {
     "data": {
      "application/vnd.jupyter.widget-view+json": {
       "model_id": "37debc82d90d444582eb7b5b59368fb4",
       "version_major": 2,
       "version_minor": 0
      },
      "text/plain": [
       "special_tokens_map.json:   0%|          | 0.00/182 [00:00<?, ?B/s]"
      ]
     },
     "metadata": {},
     "output_type": "display_data"
    },
    {
     "data": {
      "text/plain": [
       "array([    1,   224, 22783, ..., 17580,  1156,   235], dtype=uint16)"
      ]
     },
     "execution_count": 12,
     "metadata": {},
     "output_type": "execute_result"
    }
   ],
   "source": [
    "next(read_dataset(files[1]))"
   ]
  },
  {
   "cell_type": "code",
   "execution_count": 13,
   "id": "8373661c",
   "metadata": {},
   "outputs": [
    {
     "name": "stderr",
     "output_type": "stream",
     "text": [
      "huggingface/tokenizers: The current process just got forked, after parallelism has already been used. Disabling parallelism to avoid deadlocks...\n",
      "To disable this warning, you can either:\n",
      "\t- Avoid using `tokenizers` before the fork if possible\n",
      "\t- Explicitly set the environment variable TOKENIZERS_PARALLELISM=(true | false)\n",
      "huggingface/tokenizers: The current process just got forked, after parallelism has already been used. Disabling parallelism to avoid deadlocks...\n",
      "To disable this warning, you can either:\n",
      "\t- Avoid using `tokenizers` before the fork if possible\n",
      "\t- Explicitly set the environment variable TOKENIZERS_PARALLELISM=(true | false)\n"
     ]
    }
   ],
   "source": [
    "!rm -rf tokenized_indexes-filtered\n",
    "!mkdir tokenized_indexes-filtered"
   ]
  },
  {
   "cell_type": "code",
   "execution_count": 14,
   "id": "6fb99ab0",
   "metadata": {},
   "outputs": [],
   "source": [
    "def loop(files):\n",
    "    files, index = files\n",
    "    out_root = f'tokenized_indexes-filtered/tokenized-{index}'\n",
    "    os.system(f'rm -rf {out_root}')\n",
    "    with MDSWriter(out=out_root, columns=columns, compression=compression, hashes=hashes) as out:\n",
    "        for f in files:\n",
    "            for block in tqdm(read_dataset(train_file = f)):\n",
    "                sample = {\n",
    "                    'input_ids': block\n",
    "                }\n",
    "                out.write(sample)"
   ]
  },
  {
   "cell_type": "code",
   "execution_count": 15,
   "id": "7911d21c",
   "metadata": {},
   "outputs": [
    {
     "name": "stderr",
     "output_type": "stream",
     "text": [
      "huggingface/tokenizers: The current process just got forked, after parallelism has already been used. Disabling parallelism to avoid deadlocks...\n",
      "To disable this warning, you can either:\n",
      "\t- Avoid using `tokenizers` before the fork if possible\n",
      "\t- Explicitly set the environment variable TOKENIZERS_PARALLELISM=(true | false)\n",
      "huggingface/tokenizers: The current process just got forked, after parallelism has already been used. Disabling parallelism to avoid deadlocks...\n",
      "To disable this warning, you can either:\n",
      "\t- Avoid using `tokenizers` before the fork if possible\n",
      "\t- Explicitly set the environment variable TOKENIZERS_PARALLELISM=(true | false)\n",
      "huggingface/tokenizers: The current process just got forked, after parallelism has already been used. Disabling parallelism to avoid deadlocks...\n",
      "To disable this warning, you can either:\n",
      "\t- Avoid using `tokenizers` before the fork if possible\n",
      "\t- Explicitly set the environment variable TOKENIZERS_PARALLELISM=(true | false)\n",
      "huggingface/tokenizers: The current process just got forked, after parallelism has already been used. Disabling parallelism to avoid deadlocks...\n",
      "To disable this warning, you can either:\n",
      "\t- Avoid using `tokenizers` before the fork if possible\n",
      "\t- Explicitly set the environment variable TOKENIZERS_PARALLELISM=(true | false)\n",
      "0it [00:00, ?it/s]huggingface/tokenizers: The current process just got forked, after parallelism has already been used. Disabling parallelism to avoid deadlocks...\n",
      "To disable this warning, you can either:\n",
      "\t- Avoid using `tokenizers` before the fork if possible\n",
      "\t- Explicitly set the environment variable TOKENIZERS_PARALLELISM=(true | false)\n",
      "13173it [11:47, 18.24it/s]IOPub message rate exceeded.\n",
      "The notebook server will temporarily stop sending output\n",
      "to the client in order to avoid crashing it.\n",
      "To change this limit, set the config variable\n",
      "`--NotebookApp.iopub_msg_rate_limit`.\n",
      "\n",
      "Current values:\n",
      "NotebookApp.iopub_msg_rate_limit=1000.0 (msgs/sec)\n",
      "NotebookApp.rate_limit_window=3.0 (secs)\n",
      "\n",
      "9276it [08:08, 17.59it/s]]/s]IOPub message rate exceeded.\n",
      "The notebook server will temporarily stop sending output\n",
      "to the client in order to avoid crashing it.\n",
      "To change this limit, set the config variable\n",
      "`--NotebookApp.iopub_msg_rate_limit`.\n",
      "\n",
      "Current values:\n",
      "NotebookApp.iopub_msg_rate_limit=1000.0 (msgs/sec)\n",
      "NotebookApp.rate_limit_window=3.0 (secs)\n",
      "\n"
     ]
    }
   ],
   "source": [
    "import mp\n",
    "mp.multiprocessing(files, loop, cores = 5, returned = False)"
   ]
  },
  {
   "cell_type": "code",
   "execution_count": 18,
   "id": "03d02711",
   "metadata": {},
   "outputs": [
    {
     "data": {
      "text/plain": [
       "18604802048"
      ]
     },
     "execution_count": 18,
     "metadata": {},
     "output_type": "execute_result"
    }
   ],
   "source": [
    "from streaming import StreamingDataset\n",
    "\n",
    "total = 0\n",
    "for f in glob('tokenized_indexes-filtered/tokenized-*'):\n",
    "    dataset = StreamingDataset(local = f)\n",
    "    total += len(dataset)\n",
    "total * block_size"
   ]
  },
  {
   "cell_type": "code",
   "execution_count": null,
   "id": "241769db",
   "metadata": {},
   "outputs": [],
   "source": []
  }
 ],
 "metadata": {
  "kernelspec": {
   "display_name": "Python 3 (ipykernel)",
   "language": "python",
   "name": "python3"
  },
  "language_info": {
   "codemirror_mode": {
    "name": "ipython",
    "version": 3
   },
   "file_extension": ".py",
   "mimetype": "text/x-python",
   "name": "python",
   "nbconvert_exporter": "python",
   "pygments_lexer": "ipython3",
   "version": "3.10.12"
  }
 },
 "nbformat": 4,
 "nbformat_minor": 5
}
