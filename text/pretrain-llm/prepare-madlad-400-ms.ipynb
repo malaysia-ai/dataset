{
 "cells": [
  {
   "cell_type": "code",
   "execution_count": 1,
   "id": "86d80b05",
   "metadata": {},
   "outputs": [],
   "source": [
    "# !git lfs clone https://huggingface.co/datasets/malaysia-ai/madlad-400-ms"
   ]
  },
  {
   "cell_type": "code",
   "execution_count": 3,
   "id": "54ca47c5",
   "metadata": {},
   "outputs": [],
   "source": [
    "import json\n",
    "import os\n",
    "from glob import glob\n",
    "from tqdm import tqdm"
   ]
  },
  {
   "cell_type": "code",
   "execution_count": 4,
   "id": "e92d6668",
   "metadata": {},
   "outputs": [],
   "source": [
    "def partition(text, size = 500):\n",
    "    splitted = text.split()\n",
    "    return [' '.join(splitted[i: i + size]) for i in range(0, len(splitted), size)]"
   ]
  },
  {
   "cell_type": "code",
   "execution_count": 2,
   "id": "f1b7e4f9",
   "metadata": {},
   "outputs": [
    {
     "name": "stdout",
     "output_type": "stream",
     "text": [
      "madlad-400-ms.jsonl00.splitted\tmadlad-400-ms.jsonl02.splitted\r\n",
      "madlad-400-ms.jsonl01.splitted\r\n"
     ]
    }
   ],
   "source": [
    "!ls madlad-400-ms"
   ]
  },
  {
   "cell_type": "code",
   "execution_count": 5,
   "id": "485c6a71",
   "metadata": {},
   "outputs": [],
   "source": [
    "a = open('prepare-madlad-400-ms.jsonl', 'w')"
   ]
  },
  {
   "cell_type": "code",
   "execution_count": 6,
   "id": "6aacc1a4",
   "metadata": {},
   "outputs": [
    {
     "name": "stderr",
     "output_type": "stream",
     "text": [
      "4081851it [18:57, 3587.17it/s]\n",
      "5000000it [23:02, 3615.70it/s]\n",
      "5000000it [34:34, 2410.40it/s]\n"
     ]
    }
   ],
   "source": [
    "madlad_ms = glob('madlad-400-ms/*.splitted')\n",
    "for f in madlad_ms:\n",
    "    with open(f) as fopen:\n",
    "        for l in tqdm(fopen):\n",
    "            try:\n",
    "                data = '<s>' + json.loads(l)['text'] + '</s>'\n",
    "                partitioned = partition(data)\n",
    "                for p in partitioned:\n",
    "                    data = {\n",
    "                        'text': p,\n",
    "                    }\n",
    "                    a.write(f'{json.dumps(data)}\\n')\n",
    "                    a.flush()\n",
    "            except:\n",
    "                pass"
   ]
  }
 ],
 "metadata": {
  "kernelspec": {
   "display_name": "Python 3 (ipykernel)",
   "language": "python",
   "name": "python3"
  },
  "language_info": {
   "codemirror_mode": {
    "name": "ipython",
    "version": 3
   },
   "file_extension": ".py",
   "mimetype": "text/x-python",
   "name": "python",
   "nbconvert_exporter": "python",
   "pygments_lexer": "ipython3",
   "version": "3.10.12"
  }
 },
 "nbformat": 4,
 "nbformat_minor": 5
}
