{
 "cells": [
  {
   "cell_type": "code",
   "execution_count": 1,
   "id": "453a2552",
   "metadata": {},
   "outputs": [],
   "source": [
    "import json\n",
    "import os\n",
    "from glob import glob\n",
    "from tqdm import tqdm"
   ]
  },
  {
   "cell_type": "code",
   "execution_count": 2,
   "id": "36e657c0",
   "metadata": {},
   "outputs": [],
   "source": [
    "def partition(text, size = 500):\n",
    "    splitted = text.split()\n",
    "    return [' '.join(splitted[i: i + size]) for i in range(0, len(splitted), size)]"
   ]
  },
  {
   "cell_type": "code",
   "execution_count": 3,
   "id": "cab2dbd7",
   "metadata": {},
   "outputs": [],
   "source": [
    "a = open('prepare-starcoder.jsonl', 'w')"
   ]
  },
  {
   "cell_type": "code",
   "execution_count": 4,
   "id": "06167a66",
   "metadata": {},
   "outputs": [
    {
     "data": {
      "text/plain": [
       "['starcoder/starcoder/c.jsonl',\n",
       " 'starcoder/starcoder/cpp.jsonl',\n",
       " 'starcoder/starcoder/css.jsonl',\n",
       " 'starcoder/starcoder/go.jsonl',\n",
       " 'starcoder/starcoder/html.jsonl',\n",
       " 'starcoder/starcoder/java.jsonl',\n",
       " 'starcoder/starcoder/javascript.jsonl',\n",
       " 'starcoder/starcoder/julia.jsonl',\n",
       " 'starcoder/starcoder/markdown.jsonl',\n",
       " 'starcoder/starcoder/python.jsonl',\n",
       " 'starcoder/starcoder/r.jsonl',\n",
       " 'starcoder/starcoder/rust.jsonl',\n",
       " 'starcoder/starcoder/sql.jsonl']"
      ]
     },
     "execution_count": 4,
     "metadata": {},
     "output_type": "execute_result"
    }
   ],
   "source": [
    "glob('starcoder/starcoder/*.jsonl')"
   ]
  },
  {
   "cell_type": "code",
   "execution_count": 5,
   "id": "23d113a4",
   "metadata": {},
   "outputs": [
    {
     "name": "stderr",
     "output_type": "stream",
     "text": [
      "1610858it [06:54, 3884.72it/s]\n",
      "1314195it [06:08, 3567.05it/s]\n",
      "2293654it [06:23, 5987.63it/s]\n",
      "1928334it [06:33, 4901.64it/s]\n",
      "60451it [00:19, 2792.18it/s]IOPub message rate exceeded.\n",
      "The notebook server will temporarily stop sending output\n",
      "to the client in order to avoid crashing it.\n",
      "To change this limit, set the config variable\n",
      "`--NotebookApp.iopub_msg_rate_limit`.\n",
      "\n",
      "Current values:\n",
      "NotebookApp.iopub_msg_rate_limit=1000.0 (msgs/sec)\n",
      "NotebookApp.rate_limit_window=3.0 (secs)\n",
      "\n"
     ]
    }
   ],
   "source": [
    "files = glob('starcoder/starcoder/*.jsonl')\n",
    "for f in files:\n",
    "    with open(f) as fopen:\n",
    "        for l in tqdm(fopen):\n",
    "            try:\n",
    "                data = '<s>' + json.loads(l) + '</s>'\n",
    "                partitioned = partition(data)\n",
    "                for p in partitioned:\n",
    "                    data = {\n",
    "                        'text': p,\n",
    "                    }\n",
    "                    a.write(f'{json.dumps(data)}\\n')\n",
    "                    a.flush()\n",
    "            except Exception as e:\n",
    "                print(e)\n",
    "                pass"
   ]
  },
  {
   "cell_type": "code",
   "execution_count": null,
   "id": "0c1a228e",
   "metadata": {},
   "outputs": [],
   "source": []
  }
 ],
 "metadata": {
  "kernelspec": {
   "display_name": "Python 3 (ipykernel)",
   "language": "python",
   "name": "python3"
  },
  "language_info": {
   "codemirror_mode": {
    "name": "ipython",
    "version": 3
   },
   "file_extension": ".py",
   "mimetype": "text/x-python",
   "name": "python",
   "nbconvert_exporter": "python",
   "pygments_lexer": "ipython3",
   "version": "3.10.12"
  }
 },
 "nbformat": 4,
 "nbformat_minor": 5
}
