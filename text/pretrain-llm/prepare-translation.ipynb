{
 "cells": [
  {
   "cell_type": "code",
   "execution_count": null,
   "id": "e6328ada",
   "metadata": {},
   "outputs": [],
   "source": [
    "# !git lfs clone https://huggingface.co/datasets/mesolitica/google-translate-ms-pa\n",
    "# !git lfs clone https://huggingface.co/datasets/mesolitica/google-translate-ms-zh-CN\n",
    "# !git lfs clone https://huggingface.co/datasets/mesolitica/google-translate-ms-ta"
   ]
  },
  {
   "cell_type": "code",
   "execution_count": 1,
   "id": "c6bfd5aa",
   "metadata": {},
   "outputs": [],
   "source": [
    "import json\n",
    "import os\n",
    "from glob import glob\n",
    "from tqdm import tqdm"
   ]
  },
  {
   "cell_type": "code",
   "execution_count": 2,
   "id": "1e6d9ca8",
   "metadata": {},
   "outputs": [],
   "source": [
    "def partition(text, size = 500):\n",
    "    splitted = text.split()\n",
    "    return [' '.join(splitted[i: i + size]) for i in range(0, len(splitted), size)]"
   ]
  },
  {
   "cell_type": "code",
   "execution_count": 3,
   "id": "c2e1d2bc",
   "metadata": {},
   "outputs": [],
   "source": [
    "a = open('prepare-translation.jsonl', 'w')"
   ]
  },
  {
   "cell_type": "code",
   "execution_count": 4,
   "id": "15ff7cfe",
   "metadata": {},
   "outputs": [
    {
     "name": "stderr",
     "output_type": "stream",
     "text": [
      "99967it [00:53, 1868.55it/s]\n",
      "99971it [01:00, 1646.85it/s]\n",
      "99968it [01:08, 1460.54it/s]\n",
      "99966it [00:58, 1719.68it/s]\n",
      "99962it [00:56, 1755.14it/s]\n",
      "99968it [00:19, 5100.54it/s] \n",
      "99959it [00:20, 4887.07it/s] \n",
      "99972it [00:15, 6252.46it/s] \n",
      "99960it [00:11, 8494.27it/s] \n",
      "99974it [00:08, 11529.00it/s]\n",
      "99968it [00:14, 6672.96it/s] \n",
      "99965it [00:09, 10661.73it/s]\n",
      "99965it [00:09, 10525.04it/s]\n",
      "99959it [00:15, 6443.56it/s] \n",
      "99972it [00:08, 11661.01it/s]\n",
      "99966it [00:14, 6786.12it/s] \n",
      "99969it [00:22, 4412.35it/s] \n",
      "99972it [00:14, 6883.69it/s] \n",
      "99963it [00:06, 15602.76it/s]\n",
      "99966it [00:16, 6097.17it/s] \n",
      "99967it [00:11, 8717.47it/s] \n",
      "99970it [00:07, 13489.12it/s]\n",
      "99969it [00:18, 5358.87it/s] \n",
      "99981it [00:09, 10109.43it/s]\n",
      "99968it [00:07, 13383.50it/s]\n",
      "99966it [00:14, 7052.85it/s] \n",
      "99968it [00:23, 4322.65it/s] \n",
      "99968it [00:37, 2634.95it/s]\n",
      "99972it [00:36, 2704.90it/s]\n",
      "99958it [00:40, 2471.35it/s]\n",
      "99967it [00:42, 2371.77it/s]\n",
      "99971it [00:44, 2221.78it/s]\n",
      "99962it [00:39, 2532.83it/s]\n"
     ]
    }
   ],
   "source": [
    "google_translate = glob('google-translate-*/*.requested')\n",
    "for f in google_translate:\n",
    "    with open(f) as fopen:\n",
    "        for l in tqdm(fopen):\n",
    "            try:\n",
    "                data = '<s>' + json.loads(l)['r']['result'] + '</s>'\n",
    "                partitioned = partition(data)\n",
    "                for p in partitioned:\n",
    "                    data = {\n",
    "                        'text': p,\n",
    "                    }\n",
    "                    a.write(f'{json.dumps(data)}\\n')\n",
    "                    a.flush()\n",
    "            except:\n",
    "                pass"
   ]
  },
  {
   "cell_type": "code",
   "execution_count": null,
   "id": "ee6d3d66",
   "metadata": {},
   "outputs": [],
   "source": []
  }
 ],
 "metadata": {
  "kernelspec": {
   "display_name": "Python 3 (ipykernel)",
   "language": "python",
   "name": "python3"
  },
  "language_info": {
   "codemirror_mode": {
    "name": "ipython",
    "version": 3
   },
   "file_extension": ".py",
   "mimetype": "text/x-python",
   "name": "python",
   "nbconvert_exporter": "python",
   "pygments_lexer": "ipython3",
   "version": "3.10.12"
  }
 },
 "nbformat": 4,
 "nbformat_minor": 5
}
