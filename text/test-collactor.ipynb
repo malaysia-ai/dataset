{
 "cells": [
  {
   "cell_type": "code",
   "execution_count": 3,
   "id": "dae55925",
   "metadata": {},
   "outputs": [],
   "source": [
    "from torch.utils.data import DataLoader\n",
    "from transformers import AutoTokenizer, default_data_collator\n",
    "from datasets import load_dataset\n",
    "from itertools import chain\n",
    "import json"
   ]
  },
  {
   "cell_type": "code",
   "execution_count": 4,
   "id": "e323eca5",
   "metadata": {},
   "outputs": [],
   "source": [
    "tokenizer = AutoTokenizer.from_pretrained('meta-llama/Llama-2-7b-hf', trust_remote_code=True)\n",
    "tokenizer.add_eos_token = True"
   ]
  },
  {
   "cell_type": "code",
   "execution_count": 5,
   "id": "3c5bcbb5",
   "metadata": {},
   "outputs": [],
   "source": [
    "!head -n 1000 hf-datasets/dedupe-datasets/news.jsonl > test.jsonl"
   ]
  },
  {
   "cell_type": "code",
   "execution_count": 10,
   "id": "0149a065",
   "metadata": {},
   "outputs": [
    {
     "name": "stdout",
     "output_type": "stream",
     "text": [
      "Downloading and preparing dataset json/default to /home/ubuntu/.cache/huggingface/datasets/json/default-6d91dd6cf4394a3b/0.0.0/e347ab1c932092252e717ff3f949105a4dd28b27e842dd53157d2f72e276c2e4...\n"
     ]
    },
    {
     "data": {
      "application/vnd.jupyter.widget-view+json": {
       "model_id": "9def65fde2644fbc91ca09ff4f6bbba0",
       "version_major": 2,
       "version_minor": 0
      },
      "text/plain": [
       "Downloading data files:   0%|          | 0/1 [00:00<?, ?it/s]"
      ]
     },
     "metadata": {},
     "output_type": "display_data"
    },
    {
     "data": {
      "application/vnd.jupyter.widget-view+json": {
       "model_id": "950afa0d14f5467d972fab55584020ea",
       "version_major": 2,
       "version_minor": 0
      },
      "text/plain": [
       "Extracting data files:   0%|          | 0/1 [00:00<?, ?it/s]"
      ]
     },
     "metadata": {},
     "output_type": "display_data"
    },
    {
     "data": {
      "application/vnd.jupyter.widget-view+json": {
       "model_id": "",
       "version_major": 2,
       "version_minor": 0
      },
      "text/plain": [
       "Generating train split: 0 examples [00:00, ? examples/s]"
      ]
     },
     "metadata": {},
     "output_type": "display_data"
    },
    {
     "name": "stdout",
     "output_type": "stream",
     "text": [
      "Dataset json downloaded and prepared to /home/ubuntu/.cache/huggingface/datasets/json/default-6d91dd6cf4394a3b/0.0.0/e347ab1c932092252e717ff3f949105a4dd28b27e842dd53157d2f72e276c2e4. Subsequent calls will reuse this data.\n"
     ]
    }
   ],
   "source": [
    "raw_datasets = load_dataset('json', data_files='test.jsonl', split = 'train')"
   ]
  },
  {
   "cell_type": "code",
   "execution_count": 11,
   "id": "56c7fe88",
   "metadata": {
    "scrolled": true
   },
   "outputs": [
    {
     "data": {
      "text/plain": [
       "\"\\nSubscribe to our Telegram channel for the latest stories and updates.\\n\\nIn yet another baffling Tweet, Elon Musk has claimed that he will buy the Manchester United Football Club.\\n\\nAlso, I’m buying Manchester United ur welcome— Elon Musk (@elonmusk) August 17, 2022 \\nThis comes after the fiasco of him wanting to buy the Twitter social media platform for $44 billion (around RM195 billion) and pulling out midway through the deal. Both parties have filed lawsuits against each other.\\nThe Tesla Motors CEO has a habit of tweeting funny (and oftentimes odd) thoughts and jokes, so much so that even his loyal fan base is no longer clear if he is serious or not.\\nHow far has it come that even us tesla fans dont know whether hes trolling or not 💀— Werran Buffet (@Yeeeeeeeeeeet11) August 17, 2022 \\nHowever, fans of Manchester United took the chance to criticise their team’s abysmal performance in their recent games.\\nIf they keep playing like they have been you'll get a discount.— Cal (@CalElcombe) August 17, 2022 \\nManchester United recently lost 2 games in a row at the start of the season, to their fans’ great dismay.\\nIn fact, fans were so unhappy at the team, which had struggled to reach their glory days in recent years, that they staged a protest against its American owners at Old Trafford, Manchester.\\nAs of yet, no one is particularly sure if Elon Musk will follow through and really buy the football club. Still, perhaps the change of ownership wouldn’t upset Manchester United fans that much anymore.\\n\\nShare your thoughts with us via TRP’s Facebook, Twitter, and Instagram.\\n\\n\""
      ]
     },
     "execution_count": 11,
     "metadata": {},
     "output_type": "execute_result"
    }
   ],
   "source": [
    "raw_datasets['text'][0]"
   ]
  },
  {
   "cell_type": "code",
   "execution_count": 12,
   "id": "dc15a4b8",
   "metadata": {},
   "outputs": [],
   "source": [
    "text_column_name = 'text'\n",
    "def tokenize_function(examples):\n",
    "    return tokenizer(examples[text_column_name])"
   ]
  },
  {
   "cell_type": "code",
   "execution_count": 13,
   "id": "e83e6042",
   "metadata": {},
   "outputs": [
    {
     "data": {
      "application/vnd.jupyter.widget-view+json": {
       "model_id": "",
       "version_major": 2,
       "version_minor": 0
      },
      "text/plain": [
       "Running tokenizer on dataset:   0%|          | 0/1000 [00:00<?, ? examples/s]"
      ]
     },
     "metadata": {},
     "output_type": "display_data"
    }
   ],
   "source": [
    "column_names = raw_datasets.column_names\n",
    "tokenized_datasets = raw_datasets.map(\n",
    "    tokenize_function,\n",
    "    batched=True,\n",
    "    remove_columns=column_names,\n",
    "    desc=\"Running tokenizer on dataset\",\n",
    ")"
   ]
  },
  {
   "cell_type": "code",
   "execution_count": 14,
   "id": "716aca10",
   "metadata": {},
   "outputs": [],
   "source": [
    "block_size = 1024\n",
    "def group_texts(examples):\n",
    "    concatenated_examples = {k: list(chain(*examples[k])) for k in examples.keys()}\n",
    "    total_length = len(concatenated_examples[list(examples.keys())[0]])\n",
    "    total_length = (total_length // block_size) * block_size\n",
    "    result = {\n",
    "        k: [t[i: i + block_size] for i in range(0, total_length, block_size)]\n",
    "        for k, t in concatenated_examples.items()\n",
    "    }\n",
    "    result[\"labels\"] = result[\"input_ids\"].copy()\n",
    "    return result"
   ]
  },
  {
   "cell_type": "code",
   "execution_count": 15,
   "id": "4691ccc0",
   "metadata": {},
   "outputs": [
    {
     "data": {
      "application/vnd.jupyter.widget-view+json": {
       "model_id": "",
       "version_major": 2,
       "version_minor": 0
      },
      "text/plain": [
       "Grouping texts in chunks of 1024:   0%|          | 0/1000 [00:00<?, ? examples/s]"
      ]
     },
     "metadata": {},
     "output_type": "display_data"
    }
   ],
   "source": [
    "lm_datasets = tokenized_datasets.map(\n",
    "    group_texts,\n",
    "    batched=True,\n",
    "    desc=f\"Grouping texts in chunks of {block_size}\",\n",
    ")"
   ]
  },
  {
   "cell_type": "code",
   "execution_count": 17,
   "id": "f80f4e9f",
   "metadata": {},
   "outputs": [],
   "source": [
    "train_dataloader = DataLoader(\n",
    "    lm_datasets,\n",
    "    shuffle=True,\n",
    "    collate_fn=default_data_collator,\n",
    "    batch_size=3)"
   ]
  },
  {
   "cell_type": "code",
   "execution_count": 18,
   "id": "d5152398",
   "metadata": {},
   "outputs": [
    {
     "data": {
      "text/plain": [
       "264"
      ]
     },
     "execution_count": 18,
     "metadata": {},
     "output_type": "execute_result"
    }
   ],
   "source": [
    "len(train_dataloader)"
   ]
  },
  {
   "cell_type": "code",
   "execution_count": 52,
   "id": "962eb3bd",
   "metadata": {},
   "outputs": [],
   "source": [
    "i = iter(train_dataloader)"
   ]
  },
  {
   "cell_type": "code",
   "execution_count": 56,
   "id": "1ec34495",
   "metadata": {},
   "outputs": [
    {
     "data": {
      "text/plain": [
       "{'input_ids': tensor([[  423, 30010, 29879,  ..., 15145,   465,  1943],\n",
       "         [29906, 29896, 29899,  ...,  8724,   508,   679],\n",
       "         [ 3935,  4982,   408,  ...,   278,  6121,   325]]),\n",
       " 'attention_mask': tensor([[1, 1, 1,  ..., 1, 1, 1],\n",
       "         [1, 1, 1,  ..., 1, 1, 1],\n",
       "         [1, 1, 1,  ..., 1, 1, 1]]),\n",
       " 'labels': tensor([[  423, 30010, 29879,  ..., 15145,   465,  1943],\n",
       "         [29906, 29896, 29899,  ...,  8724,   508,   679],\n",
       "         [ 3935,  4982,   408,  ...,   278,  6121,   325]])}"
      ]
     },
     "execution_count": 56,
     "metadata": {},
     "output_type": "execute_result"
    }
   ],
   "source": [
    "next(i)"
   ]
  },
  {
   "cell_type": "code",
   "execution_count": null,
   "id": "2d57ceee",
   "metadata": {},
   "outputs": [],
   "source": []
  }
 ],
 "metadata": {
  "kernelspec": {
   "display_name": "Python 3 (ipykernel)",
   "language": "python",
   "name": "python3"
  },
  "language_info": {
   "codemirror_mode": {
    "name": "ipython",
    "version": 3
   },
   "file_extension": ".py",
   "mimetype": "text/x-python",
   "name": "python",
   "nbconvert_exporter": "python",
   "pygments_lexer": "ipython3",
   "version": "3.10.12"
  }
 },
 "nbformat": 4,
 "nbformat_minor": 5
}
