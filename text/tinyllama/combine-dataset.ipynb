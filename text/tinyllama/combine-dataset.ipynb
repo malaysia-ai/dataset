{
 "cells": [
  {
   "cell_type": "code",
   "execution_count": 1,
   "id": "3c2f5f86",
   "metadata": {},
   "outputs": [],
   "source": [
    "import json\n",
    "import os\n",
    "from glob import glob\n",
    "from tqdm import tqdm"
   ]
  },
  {
   "cell_type": "code",
   "execution_count": 2,
   "id": "33c4df6e",
   "metadata": {},
   "outputs": [
    {
     "data": {
      "text/plain": [
       "274"
      ]
     },
     "execution_count": 2,
     "metadata": {},
     "output_type": "execute_result"
    }
   ],
   "source": [
    "files = glob('/home/ubuntu/dedup-text-dataset/*.jsonl')\n",
    "len(files)"
   ]
  },
  {
   "cell_type": "code",
   "execution_count": 12,
   "id": "f9f45632",
   "metadata": {},
   "outputs": [
    {
     "data": {
      "application/vnd.jupyter.widget-view+json": {
       "model_id": "22c33902ee1f459ea893cd2b8aaf5995",
       "version_major": 2,
       "version_minor": 0
      },
      "text/plain": [
       "Downloading tokenizer_config.json:   0%|          | 0.00/776 [00:00<?, ?B/s]"
      ]
     },
     "metadata": {},
     "output_type": "display_data"
    },
    {
     "data": {
      "application/vnd.jupyter.widget-view+json": {
       "model_id": "17c421f897f3448c968092b4ac2e86a3",
       "version_major": 2,
       "version_minor": 0
      },
      "text/plain": [
       "Downloading tokenizer.model:   0%|          | 0.00/500k [00:00<?, ?B/s]"
      ]
     },
     "metadata": {},
     "output_type": "display_data"
    },
    {
     "data": {
      "application/vnd.jupyter.widget-view+json": {
       "model_id": "6c3eb36a849e4f569c4194731d5e1c96",
       "version_major": 2,
       "version_minor": 0
      },
      "text/plain": [
       "Downloading tokenizer.json:   0%|          | 0.00/1.84M [00:00<?, ?B/s]"
      ]
     },
     "metadata": {},
     "output_type": "display_data"
    },
    {
     "data": {
      "application/vnd.jupyter.widget-view+json": {
       "model_id": "adeb0e731e6c4eddaf85d942e6b607a8",
       "version_major": 2,
       "version_minor": 0
      },
      "text/plain": [
       "Downloading (…)cial_tokens_map.json:   0%|          | 0.00/414 [00:00<?, ?B/s]"
      ]
     },
     "metadata": {},
     "output_type": "display_data"
    }
   ],
   "source": [
    "from transformers import AutoTokenizer\n",
    "\n",
    "tokenizer = AutoTokenizer.from_pretrained('TinyLlama/TinyLlama-1.1B-intermediate-step-955k-token-2T')"
   ]
  },
  {
   "cell_type": "code",
   "execution_count": 3,
   "id": "3d73256b",
   "metadata": {},
   "outputs": [],
   "source": [
    "def partition(text, size = 500):\n",
    "    splitted = text.split()\n",
    "    return [' '.join(splitted[i: i + size]) for i in range(0, len(splitted), size)]"
   ]
  },
  {
   "cell_type": "code",
   "execution_count": 4,
   "id": "5a7a7a08",
   "metadata": {},
   "outputs": [],
   "source": [
    "wiki = [\n",
    "    'wikipedia-2023-10-01.jsonl',\n",
    "    'wikipedia-jawi.jsonl',\n",
    "]\n",
    "language_related = [\n",
    "    'dictionary.jsonl',\n",
    "    'dewanbahasa-jdbp.jsonl',\n",
    "    'dialect.jsonl',\n",
    "    'kamusbm.jsonl',\n",
    "]\n",
    "gov_related = [\n",
    "    'hansard.jsonl',\n",
    "    'lom.agc.gov.my.jsonl',\n",
    "    'parlimen-gov.jsonl',\n",
    "    'data.gov.my.jsonl',\n",
    "    'mufti_wilayah_articles.jsonl',\n",
    "    'e-khutbah.jsonl',\n",
    "    'mufti_negeri_sem_artikel.jsonl',\n",
    "    'mufti_perlis_artikel.jsonl',\n",
    "    'mufti_negeri_sem_artikel.jsonl',\n",
    "    'gov.my.jsonl',\n",
    "    'edu.my.jsonl',\n",
    "]\n",
    "research_papers = [\n",
    "    'academia-edu.jsonl',\n",
    "    'eprints.jsonl',\n",
    "]\n",
    "social_media = [\n",
    "    'iium-confession.jsonl',\n",
    "    'b.cari.com.my.jsonl',\n",
    "    'semisupervised-whisper-large-v2.jsonl',\n",
    "    'lowyat.jsonl',\n",
    "    'malay-tweets.jsonl',\n",
    "    'c.cari.com.my.jsonl',\n",
    "    'cn.cari.com.my.jsonl',\n",
    "    'carigold.jsonl'\n",
    "]\n",
    "common_crawl = [\n",
    "    'common-crawl.jsonl',\n",
    "    'NLLB.jsonl',\n",
    "]\n",
    "buku_teks = [\n",
    "    'buku-teks.jsonl',\n",
    "    'bumigemilang.com.jsonl',\n",
    "    'tcer.my.jsonl',\n",
    "    'mysoalan.com.jsonl'\n",
    "]"
   ]
  },
  {
   "cell_type": "code",
   "execution_count": 5,
   "id": "8d244d9d",
   "metadata": {},
   "outputs": [],
   "source": [
    "combine = set(wiki) | set(language_related) | set(gov_related) | set(research_papers) | set(common_crawl) | set(buku_teks)"
   ]
  },
  {
   "cell_type": "code",
   "execution_count": 6,
   "id": "8b4cfba8",
   "metadata": {},
   "outputs": [],
   "source": [
    "combine = {os.path.join('/home/ubuntu/dedup-text-dataset', f) for f in combine}"
   ]
  },
  {
   "cell_type": "code",
   "execution_count": 7,
   "id": "c22df438",
   "metadata": {},
   "outputs": [
    {
     "data": {
      "text/plain": [
       "250"
      ]
     },
     "execution_count": 7,
     "metadata": {},
     "output_type": "execute_result"
    }
   ],
   "source": [
    "online_articles = sorted(list(set(files) - combine))\n",
    "len(online_articles)"
   ]
  },
  {
   "cell_type": "code",
   "execution_count": 8,
   "id": "1583387e",
   "metadata": {},
   "outputs": [],
   "source": [
    "rejected = social_media + common_crawl + [\n",
    "    'pdfdrive.jsonl',\n",
    "    'seehua.jsonl',\n",
    "    'hardwarezone-sg.jsonl',\n",
    "    'sinchew.com.my.jsonl',\n",
    "    'orientaldaily.com.my.jsonl'\n",
    "]"
   ]
  },
  {
   "cell_type": "code",
   "execution_count": 9,
   "id": "9006c97e",
   "metadata": {},
   "outputs": [],
   "source": [
    "online_articles = [x for x in online_articles if 'c4-filtered' not in x and 'the-pile' not in x and 'c.cari.com.my' not in x]"
   ]
  },
  {
   "cell_type": "code",
   "execution_count": 10,
   "id": "edc3fcd1",
   "metadata": {},
   "outputs": [
    {
     "data": {
      "text/plain": [
       "235"
      ]
     },
     "execution_count": 10,
     "metadata": {},
     "output_type": "execute_result"
    }
   ],
   "source": [
    "online_articles = [x for x in online_articles if all([r not in x for r in rejected])]\n",
    "len(online_articles)"
   ]
  },
  {
   "cell_type": "code",
   "execution_count": 11,
   "id": "301fd3fa",
   "metadata": {},
   "outputs": [],
   "source": [
    "a = open('combine-lm.jsonl', 'w')"
   ]
  },
  {
   "cell_type": "code",
   "execution_count": 14,
   "id": "6ca92646",
   "metadata": {},
   "outputs": [
    {
     "name": "stderr",
     "output_type": "stream",
     "text": [
      "438316it [00:11, 38763.25it/s]\n",
      "722837it [00:24, 29056.52it/s]\n"
     ]
    }
   ],
   "source": [
    "for f in wiki:\n",
    "    f = os.path.join('/home/ubuntu/dedup-text-dataset', f)\n",
    "    with open(f) as fopen:\n",
    "        for l in tqdm(fopen):\n",
    "            try:\n",
    "                data = '<s>' + json.loads(l) + '</s>'\n",
    "                partitioned = partition(data)\n",
    "                for p in partitioned:\n",
    "                    data = {\n",
    "                        'text': p,\n",
    "                    }\n",
    "                    a.write(f'{json.dumps(data)}\\n')\n",
    "                    a.flush()\n",
    "            except:\n",
    "                pass"
   ]
  },
  {
   "cell_type": "code",
   "execution_count": 15,
   "id": "656c89eb",
   "metadata": {},
   "outputs": [
    {
     "name": "stderr",
     "output_type": "stream",
     "text": [
      "54712it [00:01, 35170.51it/s]\n",
      "4577it [00:00, 10573.12it/s]\n",
      "66it [00:00, 38581.75it/s]\n",
      "34192it [00:00, 66805.22it/s]\n"
     ]
    }
   ],
   "source": [
    "for f in language_related:\n",
    "    f = os.path.join('/home/ubuntu/dedup-text-dataset', f)\n",
    "    with open(f) as fopen:\n",
    "        for l in tqdm(fopen):\n",
    "            try:\n",
    "                data = '<s>' + json.loads(l) + '</s>'\n",
    "                partitioned = partition(data)\n",
    "                for p in partitioned:\n",
    "                    data = {\n",
    "                        'text': p,\n",
    "                    }\n",
    "                    a.write(f'{json.dumps(data)}\\n')\n",
    "                    a.flush()\n",
    "            except:\n",
    "                pass"
   ]
  },
  {
   "cell_type": "code",
   "execution_count": 16,
   "id": "4ffe4fd7",
   "metadata": {},
   "outputs": [
    {
     "name": "stderr",
     "output_type": "stream",
     "text": [
      "183it [00:05, 35.59it/s] \n",
      "16120it [00:10, 1570.56it/s]\n",
      "3625it [00:00, 4788.09it/s]\n",
      "900it [00:00, 4059.16it/s]\n"
     ]
    }
   ],
   "source": [
    "for f in buku_teks:\n",
    "    f = os.path.join('/home/ubuntu/dedup-text-dataset', f)\n",
    "    with open(f) as fopen:\n",
    "        for l in tqdm(fopen):\n",
    "            try:\n",
    "                data = '<s>' + json.loads(l) + '</s>'\n",
    "                partitioned = partition(data)\n",
    "                for p in partitioned:\n",
    "                    data = {\n",
    "                        'text': p,\n",
    "                    }\n",
    "                    a.write(f'{json.dumps(data)}\\n')\n",
    "                    a.flush()\n",
    "            except:\n",
    "                pass\n"
   ]
  },
  {
   "cell_type": "code",
   "execution_count": 17,
   "id": "cf10701e",
   "metadata": {},
   "outputs": [
    {
     "name": "stderr",
     "output_type": "stream",
     "text": [
      "140932it [00:18, 7506.65it/s] \n",
      "1359it [00:00, 2502.77it/s]\n",
      "1687it [00:17, 94.42it/s] \n",
      "10889it [00:33, 327.95it/s]\n",
      "1712it [00:00, 4488.22it/s]\n",
      "809it [00:00, 2420.69it/s]\n",
      "112it [00:00, 18020.64it/s]\n",
      "144it [00:00, 15066.72it/s]\n",
      "112it [00:00, 19968.63it/s]\n",
      "30055it [00:18, 1630.20it/s]\n",
      "21590it [00:18, 1149.06it/s]\n"
     ]
    }
   ],
   "source": [
    "for f in gov_related:\n",
    "    f = os.path.join('/home/ubuntu/dedup-text-dataset', f)\n",
    "    with open(f) as fopen:\n",
    "        for l in tqdm(fopen):\n",
    "            try:\n",
    "                data = '<s>' + json.loads(l) + '</s>'\n",
    "                partitioned = partition(data)\n",
    "                for p in partitioned:\n",
    "                    data = {\n",
    "                        'text': p,\n",
    "                    }\n",
    "                    a.write(f'{json.dumps(data)}\\n')\n",
    "                    a.flush()\n",
    "            except:\n",
    "                pass"
   ]
  },
  {
   "cell_type": "code",
   "execution_count": 18,
   "id": "2ace7be7",
   "metadata": {},
   "outputs": [],
   "source": [
    "rejected = [\n",
    "    'markah untuk setiap satu',\n",
    "    'soalan mesti dijawab dalam',\n",
    "    '25 markah',\n",
    "    '50 markah'\n",
    "]"
   ]
  },
  {
   "cell_type": "code",
   "execution_count": 19,
   "id": "baa33545",
   "metadata": {},
   "outputs": [
    {
     "name": "stderr",
     "output_type": "stream",
     "text": [
      "787it [00:11, 69.17it/s] \n",
      "189419it [03:21, 937.88it/s] \n"
     ]
    }
   ],
   "source": [
    "for f in research_papers:\n",
    "    f = os.path.join('/home/ubuntu/dedup-text-dataset', f)\n",
    "    with open(f) as fopen:\n",
    "        for l in tqdm(fopen):\n",
    "            try:\n",
    "                data = '<s>' + json.loads(l) + '</s>'\n",
    "                    \n",
    "                data_lower = data.lower()\n",
    "                if any([r in data_lower for r in rejected]):\n",
    "                    continue\n",
    "                    \n",
    "                partitioned = partition(data)\n",
    "                for p in partitioned:\n",
    "                    data = {\n",
    "                        'text': p,\n",
    "                    }\n",
    "                    a.write(f'{json.dumps(data)}\\n')\n",
    "                    a.flush()\n",
    "            except:\n",
    "                pass"
   ]
  },
  {
   "cell_type": "code",
   "execution_count": 20,
   "id": "ac01ea74",
   "metadata": {},
   "outputs": [
    {
     "name": "stderr",
     "output_type": "stream",
     "text": [
      "14954it [00:00, 26596.62it/s]\n",
      "752it [00:00, 5173.44it/s]\n",
      "172it [00:00, 21097.86it/s]\n",
      "20763it [00:01, 15136.84it/s]\n",
      "640it [00:00, 10217.16it/s]\n",
      "74it [00:00, 3622.57it/s]\n",
      "10604it [00:05, 2083.53it/s]\n",
      "1733it [00:00, 8832.22it/s]\n",
      "33730it [00:01, 27926.00it/s]\n",
      "144it [00:00, 7263.91it/s]\n",
      "359it [00:00, 7618.37it/s]\n",
      "87it [00:00, 11080.54it/s]\n",
      "47it [00:00, 6861.07it/s]\n",
      "1263it [00:00, 5838.91it/s]\n",
      "9672it [00:00, 12799.40it/s]\n",
      "5400it [00:03, 1482.92it/s]\n",
      "4425it [00:00, 19778.11it/s]\n",
      "269it [00:00, 9281.27it/s]\n",
      "3645it [00:00, 10471.55it/s]\n",
      "1589it [00:00, 7973.39it/s]\n",
      "385it [00:00, 9406.52it/s]\n",
      "17004it [00:09, 1785.65it/s]\n",
      "176it [00:00, 6979.60it/s]\n",
      "233it [00:00, 10064.81it/s]\n",
      "48it [00:00, 8489.42it/s]\n",
      "1427it [00:00, 8115.08it/s]\n",
      "341it [00:00, 4144.17it/s]\n",
      "1546it [00:00, 8975.51it/s]\n",
      "46it [00:00, 12641.72it/s]\n",
      "140it [00:00, 16995.24it/s]\n",
      "11678it [00:04, 2602.81it/s]\n",
      "12326it [00:04, 2558.34it/s]\n",
      "24482it [00:07, 3158.51it/s] \n",
      "947it [00:00, 5592.69it/s]\n",
      "39678991it [09:06, 72652.82it/s]\n",
      "512it [00:00, 10160.02it/s]\n",
      "800it [00:00, 26519.79it/s]\n",
      "3506it [00:00, 8352.04it/s]\n",
      "1459it [00:00, 9603.09it/s]\n",
      "6285it [00:00, 14166.94it/s]\n",
      "53158it [00:02, 23149.24it/s]\n",
      "95it [00:00, 2670.65it/s]\n",
      "788it [00:00, 10528.72it/s]\n",
      "24411it [00:02, 9254.16it/s]\n",
      "158it [00:00, 402.38it/s]\n",
      "1932it [00:00, 9948.42it/s] \n",
      "151it [00:00, 7977.18it/s]\n",
      "12000it [00:00, 58150.64it/s]\n",
      "37it [00:00, 8489.10it/s]\n",
      "10229it [00:00, 23088.74it/s]\n",
      "191248it [00:01, 100185.53it/s]\n",
      "6976it [00:01, 3947.90it/s]\n",
      "1160it [00:00, 11666.68it/s]\n",
      "1132it [00:01, 1038.49it/s]\n",
      "937it [00:00, 10118.54it/s]\n",
      "8457it [00:00, 16915.73it/s]\n",
      "16169it [00:01, 12403.10it/s]\n",
      "12914it [00:01, 10717.82it/s]\n",
      "1647it [00:00, 28654.58it/s]\n",
      "12it [00:00, 2357.34it/s]\n",
      "19992it [00:01, 12551.26it/s]\n",
      "8033it [00:00, 13129.27it/s]IOPub message rate exceeded.\n",
      "The notebook server will temporarily stop sending output\n",
      "to the client in order to avoid crashing it.\n",
      "To change this limit, set the config variable\n",
      "`--NotebookApp.iopub_msg_rate_limit`.\n",
      "\n",
      "Current values:\n",
      "NotebookApp.iopub_msg_rate_limit=1000.0 (msgs/sec)\n",
      "NotebookApp.rate_limit_window=3.0 (secs)\n",
      "\n",
      "1252it [00:02, 511.92it/s]\n",
      "45326it [00:02, 15314.57it/s]\n",
      "3888it [00:00, 47408.28it/s]\n",
      "223it [00:00, 8707.71it/s]\n",
      "36468it [00:06, 5925.83it/s]\n",
      "6848it [00:00, 12908.03it/s]\n",
      "139it [00:00, 12362.87it/s]\n",
      "13145it [00:01, 12190.98it/s]\n",
      "13it [00:00, 4629.47it/s]\n",
      "42it [00:00, 14264.03it/s]\n",
      "3370it [00:00, 9482.70it/s]\n",
      "27178it [00:01, 13750.88it/s]\n",
      "8447it [00:01, 7320.85it/s]\n",
      "473it [00:00, 16920.16it/s]\n",
      "3502it [00:00, 5640.93it/s]\n",
      "70it [00:00, 14676.39it/s]\n",
      "1216it [00:00, 5885.42it/s]\n",
      "11076it [00:00, 18615.08it/s]\n",
      "391it [00:00, 9133.13it/s]\n",
      "22581it [00:01, 16395.19it/s]\n",
      "65it [00:00, 3921.21it/s]\n",
      "791574it [00:22, 35377.30it/s]\n",
      "8200it [00:00, 19543.55it/s]\n",
      "1938it [00:00, 20543.79it/s]\n",
      "8732it [00:00, 14476.20it/s]\n",
      "16443it [00:01, 12813.02it/s]\n",
      "58it [00:00, 9691.25it/s]\n",
      "100it [00:00, 8699.89it/s]\n",
      "2530it [00:00, 8482.36it/s]\n",
      "13105it [00:00, 14321.01it/s]\n",
      "7226it [00:00, 17833.20it/s]\n",
      "18860it [00:01, 13647.56it/s]\n",
      "11236it [00:00, 15835.83it/s]\n",
      "5103it [00:00, 9760.65it/s]\n",
      "51691it [00:02, 18908.79it/s]\n",
      "532it [00:00, 10065.63it/s]\n",
      "4921it [00:00, 14172.42it/s]\n",
      "3948it [00:00, 9586.30it/s] \n",
      "28986it [00:01, 14946.30it/s]\n",
      "1627it [00:00, 37730.32it/s]\n",
      "6751it [00:00, 10450.25it/s]\n",
      "638it [00:00, 11266.80it/s]\n",
      "1884790it [00:34, 55013.90it/s]\n",
      "17918it [00:00, 22629.29it/s]\n",
      "1523it [00:00, 5854.10it/s]\n",
      "3442it [00:00, 18137.04it/s]\n",
      "23826it [00:03, 7820.68it/s] \n",
      "8593it [00:00, 97543.27it/s]\n",
      "3365it [00:00, 5739.67it/s]\n",
      "10565it [00:01, 8942.16it/s]\n",
      "130494it [00:11, 11148.29it/s]\n",
      "45577it [00:04, 9597.37it/s]\n",
      "1473823it [01:14, 19838.03it/s]\n",
      "43it [00:00, 9213.07it/s]\n",
      "7106it [00:00, 14307.93it/s]\n",
      "49it [00:00, 58686.72it/s]\n",
      "40it [00:00, 13714.72it/s]\n",
      "871it [00:00, 2508.97it/s]\n",
      "16144it [00:01, 14569.49it/s]\n",
      "28201it [00:04, 6998.55it/s]\n",
      "13202it [00:00, 19394.34it/s]\n",
      "9221it [00:00, 12722.62it/s]\n",
      "572it [00:00, 17120.22it/s]\n",
      "68it [00:00, 27586.10it/s]\n",
      "13529it [00:00, 17912.98it/s]\n",
      "1006it [00:00, 6525.70it/s]\n",
      "22491it [00:01, 22287.33it/s]\n",
      "5798716it [01:50, 52542.98it/s]\n",
      "6418it [00:00, 20193.54it/s]\n",
      "523it [00:00, 13129.40it/s]\n",
      "66212it [00:09, 7198.61it/s] \n",
      "2368it [00:00, 11265.89it/s]\n",
      "17893it [00:01, 11821.94it/s]\n",
      "5561it [00:00, 11637.90it/s]\n",
      "4702it [00:00, 11501.47it/s]\n",
      "2839348it [03:41, 12810.00it/s]\n",
      "3664it [00:00, 13347.17it/s]\n",
      "9359it [00:00, 12719.97it/s]\n",
      "1143it [00:00, 6861.12it/s]\n",
      "32085it [00:07, 4123.04it/s] \n",
      "9865it [00:00, 19880.84it/s]\n",
      "70it [00:00, 9167.02it/s]\n",
      "3819it [00:00, 9636.09it/s] \n",
      "6641it [00:04, 1457.96it/s]\n",
      "2132it [00:00, 29999.01it/s]\n",
      "89it [00:00, 45989.04it/s]\n",
      "10483it [00:01, 7079.77it/s]\n",
      "20320it [00:01, 15097.44it/s]\n",
      "367it [00:00, 906.94it/s] \n",
      "6204it [00:00, 10458.98it/s]\n",
      "14158it [00:01, 11766.09it/s]\n",
      "1619it [00:00, 85628.26it/s]\n",
      "2877it [00:00, 7132.34it/s]\n",
      "298it [00:00, 4132.73it/s]\n",
      "240it [00:00, 5423.58it/s]\n",
      "276it [00:00, 11607.74it/s]\n",
      "153it [00:00, 8468.42it/s]\n",
      "1092497it [00:12, 84262.14it/s]\n",
      "1245it [00:00, 12499.99it/s]\n",
      "348it [00:00, 8259.31it/s]\n",
      "547it [00:00, 4687.52it/s]\n",
      "726it [00:00, 9376.76it/s]\n",
      "36449it [00:02, 17794.09it/s]\n",
      "1140it [00:00, 7231.62it/s]\n",
      "22818it [00:00, 22986.58it/s]\n",
      "42143it [00:01, 24573.73it/s]\n",
      "1138it [00:00, 6930.90it/s]\n",
      "12172it [00:00, 17679.74it/s]\n",
      "1045it [00:00, 12165.06it/s]\n",
      "230208it [00:08, 26994.98it/s]\n",
      "22542it [00:01, 11519.73it/s]\n",
      "48401it [00:01, 24676.22it/s]\n",
      "31050it [00:02, 15204.05it/s]\n",
      "2it [00:00, 1494.23it/s]\n",
      "6400it [00:00, 12246.90it/s]\n",
      "297it [00:00, 12914.25it/s]\n",
      "51302it [00:02, 17366.82it/s]\n",
      "286it [00:00, 11756.35it/s]\n",
      "3071it [00:00, 32903.69it/s]\n",
      "13101it [00:00, 19832.83it/s]\n",
      "8504it [00:00, 11653.81it/s]\n",
      "629779it [00:13, 45297.04it/s]\n",
      "75680it [00:17, 3158.73it/s] "
     ]
    }
   ],
   "source": [
    "for f in online_articles:\n",
    "    with open(f) as fopen:\n",
    "        for l in tqdm(fopen):\n",
    "            try:\n",
    "                data = '<s>' + json.loads(l) + '</s>'\n",
    "                partitioned = partition(data)\n",
    "                for p in partitioned:\n",
    "                    data = {\n",
    "                        'text': p,\n",
    "                    }\n",
    "                    a.write(f'{json.dumps(data)}\\n')\n",
    "                    a.flush()\n",
    "            except:\n",
    "                pass"
   ]
  },
  {
   "cell_type": "code",
   "execution_count": null,
   "id": "602af88d",
   "metadata": {},
   "outputs": [],
   "source": []
  }
 ],
 "metadata": {
  "kernelspec": {
   "display_name": "Python 3 (ipykernel)",
   "language": "python",
   "name": "python3"
  },
  "language_info": {
   "codemirror_mode": {
    "name": "ipython",
    "version": 3
   },
   "file_extension": ".py",
   "mimetype": "text/x-python",
   "name": "python",
   "nbconvert_exporter": "python",
   "pygments_lexer": "ipython3",
   "version": "3.10.12"
  }
 },
 "nbformat": 4,
 "nbformat_minor": 5
}
