{
 "cells": [
  {
   "cell_type": "code",
   "execution_count": 9,
   "id": "95489052",
   "metadata": {},
   "outputs": [],
   "source": [
    "from glob import glob\n",
    "from streaming import MDSWriter\n",
    "from streaming import LocalDataset, StreamingDataset\n",
    "from transformers import default_data_collator, DataCollatorForLanguageModeling\n",
    "from tqdm import tqdm\n",
    "import numpy as np"
   ]
  },
  {
   "cell_type": "code",
   "execution_count": 2,
   "id": "0173b08e",
   "metadata": {},
   "outputs": [],
   "source": [
    "folders = sorted(glob('tokenized_indexes/tokenized-*'), key = lambda x: int(x.split('-')[-1]))"
   ]
  },
  {
   "cell_type": "code",
   "execution_count": 3,
   "id": "94eb7615",
   "metadata": {},
   "outputs": [],
   "source": [
    "folders.extend(sorted(glob('tokenized_extra/tokenized-*'), key = lambda x: int(x.split('-')[-1])))"
   ]
  },
  {
   "cell_type": "code",
   "execution_count": 5,
   "id": "ac67fcbf",
   "metadata": {},
   "outputs": [],
   "source": [
    "from streaming.base.format.mds.encodings import Encoding, _encodings\n",
    "\n",
    "class UInt16(Encoding):\n",
    "    def encode(self, obj) -> bytes:\n",
    "        return obj.tobytes()\n",
    "\n",
    "    def decode(self, data: bytes):\n",
    "        return np.frombuffer(data, np.uint16)\n",
    "\n",
    "_encodings['uint16'] = UInt16"
   ]
  },
  {
   "cell_type": "code",
   "execution_count": 6,
   "id": "7243231b",
   "metadata": {},
   "outputs": [],
   "source": [
    "columns = {\n",
    "    'input_ids': 'uint16',\n",
    "}\n",
    "\n",
    "compression = 'zstd'\n",
    "hashes = 'sha1', 'xxh64'"
   ]
  },
  {
   "cell_type": "code",
   "execution_count": 10,
   "id": "69d27835",
   "metadata": {},
   "outputs": [],
   "source": [
    "!rm -rf combine-all"
   ]
  },
  {
   "cell_type": "code",
   "execution_count": 11,
   "id": "b55ad43c",
   "metadata": {},
   "outputs": [
    {
     "name": "stderr",
     "output_type": "stream",
     "text": [
      "100%|██████████| 923825/923825 [00:46<00:00, 19667.13it/s]\n",
      "100%|██████████| 76835/76835 [00:07<00:00, 10425.98it/s]\n",
      "100%|██████████| 77612/77612 [00:03<00:00, 20657.35it/s]\n",
      "100%|██████████| 77634/77634 [00:03<00:00, 20489.35it/s]\n",
      "100%|██████████| 77766/77766 [00:03<00:00, 21671.17it/s]\n",
      "100%|██████████| 77714/77714 [00:03<00:00, 21079.42it/s]\n",
      "100%|██████████| 77674/77674 [00:03<00:00, 21183.28it/s]\n",
      "100%|██████████| 77401/77401 [00:07<00:00, 10778.78it/s]\n",
      "100%|██████████| 236271/236271 [00:17<00:00, 13560.57it/s]\n",
      "100%|██████████| 401254/401254 [00:30<00:00, 13273.08it/s]\n",
      "100%|██████████| 108914/108914 [00:08<00:00, 13158.79it/s]\n",
      "100%|██████████| 544131/544131 [00:48<00:00, 11157.76it/s]\n",
      "100%|██████████| 426205/426205 [00:36<00:00, 11690.56it/s]\n",
      "100%|██████████| 25582/25582 [00:14<00:00, 1825.25it/s]\n",
      "100%|██████████| 24501/24501 [00:09<00:00, 2490.48it/s]\n",
      "100%|██████████| 24503/24503 [00:11<00:00, 2137.81it/s]\n",
      "100%|██████████| 24575/24575 [00:12<00:00, 1998.45it/s]\n",
      "100%|██████████| 24384/24384 [00:11<00:00, 2046.92it/s]\n",
      "100%|██████████| 24429/24429 [00:09<00:00, 2487.79it/s]\n",
      "100%|██████████| 24434/24434 [00:04<00:00, 5469.97it/s] \n",
      "100%|██████████| 24834/24834 [00:06<00:00, 3626.25it/s]\n",
      "100%|██████████| 24660/24660 [00:10<00:00, 2420.75it/s]\n",
      "100%|██████████| 24463/24463 [00:09<00:00, 2668.57it/s]\n",
      "100%|██████████| 24531/24531 [00:07<00:00, 3317.46it/s]\n",
      "100%|██████████| 27671/27671 [00:09<00:00, 2844.35it/s]\n",
      "100%|██████████| 21451/21451 [00:05<00:00, 4069.49it/s]\n"
     ]
    }
   ],
   "source": [
    "with MDSWriter(out='combine-all', columns=columns, compression=None, hashes=hashes) as out:\n",
    "    for f in folders:\n",
    "        try:\n",
    "            dataset = StreamingDataset(local=f)\n",
    "            for i in tqdm(range(len(dataset))):\n",
    "                out.write(dataset[i])\n",
    "        except Exception as e:\n",
    "            print(e)\n",
    "            pass"
   ]
  },
  {
   "cell_type": "code",
   "execution_count": 12,
   "id": "b0b32a47",
   "metadata": {},
   "outputs": [],
   "source": [
    "dataset = LocalDataset(local='combine-all')"
   ]
  },
  {
   "cell_type": "code",
   "execution_count": 13,
   "id": "83580917",
   "metadata": {},
   "outputs": [
    {
     "data": {
      "text/plain": [
       "14349328384"
      ]
     },
     "execution_count": 13,
     "metadata": {},
     "output_type": "execute_result"
    }
   ],
   "source": [
    "len(dataset) * 4096"
   ]
  },
  {
   "cell_type": "code",
   "execution_count": 14,
   "id": "6b6d4124",
   "metadata": {},
   "outputs": [
    {
     "name": "stdout",
     "output_type": "stream",
     "text": [
      "27G\tcombine-all\r\n"
     ]
    }
   ],
   "source": [
    "!du -hs combine-all"
   ]
  },
  {
   "cell_type": "code",
   "execution_count": 15,
   "id": "fc019bd8",
   "metadata": {},
   "outputs": [
    {
     "data": {
      "text/plain": [
       "3503254"
      ]
     },
     "execution_count": 15,
     "metadata": {},
     "output_type": "execute_result"
    }
   ],
   "source": [
    "len(dataset)"
   ]
  }
 ],
 "metadata": {
  "kernelspec": {
   "display_name": "Python 3 (ipykernel)",
   "language": "python",
   "name": "python3"
  },
  "language_info": {
   "codemirror_mode": {
    "name": "ipython",
    "version": 3
   },
   "file_extension": ".py",
   "mimetype": "text/x-python",
   "name": "python",
   "nbconvert_exporter": "python",
   "pygments_lexer": "ipython3",
   "version": "3.10.12"
  }
 },
 "nbformat": 4,
 "nbformat_minor": 5
}
