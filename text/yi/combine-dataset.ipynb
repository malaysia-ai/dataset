{
 "cells": [
  {
   "cell_type": "code",
   "execution_count": 1,
   "id": "89ef6d1f",
   "metadata": {},
   "outputs": [],
   "source": [
    "import json\n",
    "import os\n",
    "from glob import glob\n",
    "from tqdm import tqdm"
   ]
  },
  {
   "cell_type": "code",
   "execution_count": 2,
   "id": "deea1adb",
   "metadata": {},
   "outputs": [
    {
     "data": {
      "text/plain": [
       "274"
      ]
     },
     "execution_count": 2,
     "metadata": {},
     "output_type": "execute_result"
    }
   ],
   "source": [
    "files = glob('/home/ubuntu/dedup-text-dataset/*.jsonl')\n",
    "len(files)"
   ]
  },
  {
   "cell_type": "code",
   "execution_count": 3,
   "id": "d928b86a",
   "metadata": {},
   "outputs": [],
   "source": [
    "def partition(text, size = 500):\n",
    "    splitted = text.split()\n",
    "    return [' '.join(splitted[i: i + size]) for i in range(0, len(splitted), size)]"
   ]
  },
  {
   "cell_type": "code",
   "execution_count": 4,
   "id": "2b2d2941",
   "metadata": {},
   "outputs": [],
   "source": [
    "wiki = [\n",
    "    'wikipedia-2023-10-01.jsonl',\n",
    "    'wikipedia-jawi.jsonl',\n",
    "]\n",
    "language_related = [\n",
    "    'dictionary.jsonl',\n",
    "    'dewanbahasa-jdbp.jsonl',\n",
    "    'dialect.jsonl',\n",
    "    'kamusbm.jsonl',\n",
    "]\n",
    "gov_related = [\n",
    "    'hansard.jsonl',\n",
    "    'lom.agc.gov.my.jsonl',\n",
    "    'parlimen-gov.jsonl',\n",
    "    'data.gov.my.jsonl',\n",
    "    'mufti_wilayah_articles.jsonl',\n",
    "    'e-khutbah.jsonl',\n",
    "    'mufti_negeri_sem_artikel.jsonl',\n",
    "    'mufti_perlis_artikel.jsonl',\n",
    "    'mufti_negeri_sem_artikel.jsonl',\n",
    "    'gov.my.jsonl',\n",
    "    'edu.my.jsonl',\n",
    "]\n",
    "research_papers = [\n",
    "    'academia-edu.jsonl',\n",
    "    'eprints.jsonl',\n",
    "]\n",
    "social_media = [\n",
    "    'iium-confession.jsonl',\n",
    "    'b.cari.com.my.jsonl',\n",
    "    'semisupervised-whisper-large-v2.jsonl',\n",
    "    'lowyat.jsonl',\n",
    "    'malay-tweets.jsonl',\n",
    "    'c.cari.com.my.jsonl',\n",
    "    'cn.cari.com.my.jsonl',\n",
    "    'carigold.jsonl'\n",
    "]\n",
    "common_crawl = [\n",
    "    'common-crawl.jsonl',\n",
    "    'NLLB.jsonl',\n",
    "]\n",
    "buku_teks = [\n",
    "    'buku-teks.jsonl',\n",
    "    'bumigemilang.com.jsonl',\n",
    "    'tcer.my.jsonl',\n",
    "    'mysoalan.com.jsonl'\n",
    "]"
   ]
  },
  {
   "cell_type": "code",
   "execution_count": 5,
   "id": "74e679cb",
   "metadata": {},
   "outputs": [],
   "source": [
    "combine = set(wiki) | set(language_related) | set(gov_related) | set(research_papers) | set(common_crawl) | set(buku_teks)"
   ]
  },
  {
   "cell_type": "code",
   "execution_count": 6,
   "id": "d58d2c75",
   "metadata": {},
   "outputs": [],
   "source": [
    "combine = {os.path.join('/home/ubuntu/dedup-text-dataset', f) for f in combine}"
   ]
  },
  {
   "cell_type": "code",
   "execution_count": 7,
   "id": "012aea9d",
   "metadata": {},
   "outputs": [
    {
     "data": {
      "text/plain": [
       "250"
      ]
     },
     "execution_count": 7,
     "metadata": {},
     "output_type": "execute_result"
    }
   ],
   "source": [
    "online_articles = sorted(list(set(files) - combine))\n",
    "len(online_articles)"
   ]
  },
  {
   "cell_type": "code",
   "execution_count": 8,
   "id": "59f3edf6",
   "metadata": {},
   "outputs": [],
   "source": [
    "rejected = social_media + common_crawl + [\n",
    "    'pdfdrive.jsonl',\n",
    "    'seehua.jsonl',\n",
    "    'hardwarezone-sg.jsonl',\n",
    "    'sinchew.com.my.jsonl',\n",
    "    'orientaldaily.com.my.jsonl'\n",
    "]"
   ]
  },
  {
   "cell_type": "code",
   "execution_count": 9,
   "id": "fc5174b9",
   "metadata": {},
   "outputs": [],
   "source": [
    "online_articles = [x for x in online_articles if 'c4-filtered' not in x and 'the-pile' not in x and 'c.cari.com.my' not in x]"
   ]
  },
  {
   "cell_type": "code",
   "execution_count": 10,
   "id": "7c604d79",
   "metadata": {
    "scrolled": true
   },
   "outputs": [
    {
     "data": {
      "text/plain": [
       "235"
      ]
     },
     "execution_count": 10,
     "metadata": {},
     "output_type": "execute_result"
    }
   ],
   "source": [
    "online_articles = [x for x in online_articles if all([r not in x for r in rejected])]\n",
    "len(online_articles)"
   ]
  },
  {
   "cell_type": "code",
   "execution_count": 11,
   "id": "8990ad98",
   "metadata": {},
   "outputs": [],
   "source": [
    "a = open('combine-lm.jsonl', 'w')"
   ]
  },
  {
   "cell_type": "code",
   "execution_count": 12,
   "id": "f15da06c",
   "metadata": {},
   "outputs": [
    {
     "name": "stderr",
     "output_type": "stream",
     "text": [
      "438316it [00:12, 35905.36it/s]\n",
      "722837it [00:22, 32795.12it/s]\n"
     ]
    }
   ],
   "source": [
    "for f in wiki:\n",
    "    f = os.path.join('/home/ubuntu/dedup-text-dataset', f)\n",
    "    with open(f) as fopen:\n",
    "        for l in tqdm(fopen):\n",
    "            try:\n",
    "                data = '<|startoftext|>' + json.loads(l) + '<|endoftext|>'\n",
    "                partitioned = partition(data)\n",
    "                for p in partitioned:\n",
    "                    data = {\n",
    "                        'text': p,\n",
    "                    }\n",
    "                    a.write(f'{json.dumps(data)}\\n')\n",
    "                    a.flush()\n",
    "            except:\n",
    "                pass"
   ]
  },
  {
   "cell_type": "code",
   "execution_count": 13,
   "id": "f3d740e3",
   "metadata": {},
   "outputs": [
    {
     "name": "stderr",
     "output_type": "stream",
     "text": [
      "54712it [00:01, 44474.44it/s]\n",
      "4577it [00:00, 11086.60it/s]\n",
      "66it [00:00, 49869.22it/s]\n",
      "34192it [00:00, 68289.14it/s]\n"
     ]
    }
   ],
   "source": [
    "for f in language_related:\n",
    "    f = os.path.join('/home/ubuntu/dedup-text-dataset', f)\n",
    "    with open(f) as fopen:\n",
    "        for l in tqdm(fopen):\n",
    "            try:\n",
    "                data = '<|startoftext|>' + json.loads(l) + '<|endoftext|>'\n",
    "                partitioned = partition(data)\n",
    "                for p in partitioned:\n",
    "                    data = {\n",
    "                        'text': p,\n",
    "                    }\n",
    "                    a.write(f'{json.dumps(data)}\\n')\n",
    "                    a.flush()\n",
    "            except:\n",
    "                pass"
   ]
  },
  {
   "cell_type": "code",
   "execution_count": 14,
   "id": "6da3e09d",
   "metadata": {},
   "outputs": [
    {
     "name": "stderr",
     "output_type": "stream",
     "text": [
      "183it [00:00, 256.05it/s]\n",
      "16120it [00:13, 1174.26it/s]\n",
      "3625it [00:00, 5161.87it/s]\n",
      "900it [00:00, 4345.99it/s]\n"
     ]
    }
   ],
   "source": [
    "for f in buku_teks:\n",
    "    f = os.path.join('/home/ubuntu/dedup-text-dataset', f)\n",
    "    with open(f) as fopen:\n",
    "        for l in tqdm(fopen):\n",
    "            try:\n",
    "                data = '<|startoftext|>' + json.loads(l) + '<|endoftext|>'\n",
    "                partitioned = partition(data)\n",
    "                for p in partitioned:\n",
    "                    data = {\n",
    "                        'text': p,\n",
    "                    }\n",
    "                    a.write(f'{json.dumps(data)}\\n')\n",
    "                    a.flush()\n",
    "            except:\n",
    "                pass\n"
   ]
  },
  {
   "cell_type": "code",
   "execution_count": 15,
   "id": "fdd141ed",
   "metadata": {},
   "outputs": [
    {
     "name": "stderr",
     "output_type": "stream",
     "text": [
      "140932it [00:10, 13398.15it/s]\n",
      "1359it [00:00, 2799.44it/s]\n",
      "1687it [00:07, 222.66it/s]\n",
      "10889it [00:20, 526.45it/s]\n",
      "1712it [00:00, 4995.75it/s]\n",
      "809it [00:00, 2632.48it/s]\n",
      "112it [00:00, 19430.12it/s]\n",
      "144it [00:00, 16332.61it/s]\n",
      "112it [00:00, 20092.47it/s]\n",
      "30055it [00:16, 1817.05it/s]\n",
      "21590it [00:11, 1927.29it/s]\n"
     ]
    }
   ],
   "source": [
    "for f in gov_related:\n",
    "    f = os.path.join('/home/ubuntu/dedup-text-dataset', f)\n",
    "    with open(f) as fopen:\n",
    "        for l in tqdm(fopen):\n",
    "            try:\n",
    "                data = '<|startoftext|>' + json.loads(l) + '<|endoftext|>'\n",
    "                partitioned = partition(data)\n",
    "                for p in partitioned:\n",
    "                    data = {\n",
    "                        'text': p,\n",
    "                    }\n",
    "                    a.write(f'{json.dumps(data)}\\n')\n",
    "                    a.flush()\n",
    "            except:\n",
    "                pass"
   ]
  },
  {
   "cell_type": "code",
   "execution_count": 16,
   "id": "364397ef",
   "metadata": {},
   "outputs": [],
   "source": [
    "rejected = [\n",
    "    'markah untuk setiap satu',\n",
    "    'soalan mesti dijawab dalam',\n",
    "    '25 markah',\n",
    "    '50 markah'\n",
    "]"
   ]
  },
  {
   "cell_type": "code",
   "execution_count": 17,
   "id": "3395c50f",
   "metadata": {},
   "outputs": [
    {
     "name": "stderr",
     "output_type": "stream",
     "text": [
      "787it [00:07, 99.25it/s] \n",
      "189419it [02:25, 1300.60it/s]\n"
     ]
    }
   ],
   "source": [
    "for f in research_papers:\n",
    "    f = os.path.join('/home/ubuntu/dedup-text-dataset', f)\n",
    "    with open(f) as fopen:\n",
    "        for l in tqdm(fopen):\n",
    "            try:\n",
    "                data = '<|startoftext|>' + json.loads(l) + '<|endoftext|>'\n",
    "                    \n",
    "                data_lower = data.lower()\n",
    "                if any([r in data_lower for r in rejected]):\n",
    "                    continue\n",
    "                    \n",
    "                partitioned = partition(data)\n",
    "                for p in partitioned:\n",
    "                    data = {\n",
    "                        'text': p,\n",
    "                    }\n",
    "                    a.write(f'{json.dumps(data)}\\n')\n",
    "                    a.flush()\n",
    "            except:\n",
    "                pass"
   ]
  },
  {
   "cell_type": "code",
   "execution_count": 18,
   "id": "0fe9c6c2",
   "metadata": {
    "scrolled": true
   },
   "outputs": [
    {
     "name": "stderr",
     "output_type": "stream",
     "text": [
      "14954it [00:00, 24378.38it/s]\n",
      "752it [00:00, 5463.55it/s]\n",
      "172it [00:00, 21948.35it/s]\n",
      "20763it [00:08, 2578.58it/s]\n",
      "640it [00:00, 9759.55it/s]\n",
      "74it [00:00, 3783.72it/s]\n",
      "10604it [00:00, 18672.23it/s]\n",
      "1733it [00:00, 11446.28it/s]\n",
      "33730it [00:01, 26525.94it/s]\n",
      "144it [00:00, 8595.62it/s]\n",
      "359it [00:00, 7475.22it/s]\n",
      "87it [00:00, 11790.13it/s]\n",
      "47it [00:00, 9619.96it/s]\n",
      "1263it [00:00, 6218.81it/s]\n",
      "9672it [00:00, 13026.96it/s]\n",
      "5400it [00:00, 15265.43it/s]\n",
      "4425it [00:00, 19013.85it/s]\n",
      "269it [00:00, 9150.52it/s]\n",
      "3645it [00:00, 10714.69it/s]\n",
      "1589it [00:00, 8549.60it/s]\n",
      "385it [00:00, 9354.80it/s]\n",
      "17004it [00:03, 4920.29it/s]\n",
      "176it [00:00, 2476.90it/s]\n",
      "233it [00:00, 4172.39it/s]\n",
      "48it [00:00, 7017.80it/s]\n",
      "1427it [00:00, 3406.78it/s]\n",
      "341it [00:00, 4165.40it/s]\n",
      "1546it [00:00, 8577.37it/s]\n",
      "46it [00:00, 13211.31it/s]\n",
      "140it [00:00, 15957.46it/s]\n",
      "11678it [00:01, 9516.72it/s]\n",
      "12326it [00:00, 12431.75it/s]\n",
      "24482it [00:01, 14510.01it/s]\n",
      "947it [00:00, 5892.67it/s]\n",
      "39678991it [08:43, 75747.80it/s]\n",
      "512it [00:00, 10883.36it/s]\n",
      "800it [00:00, 24121.14it/s]\n",
      "3506it [00:00, 4608.84it/s]\n",
      "1459it [00:00, 2814.85it/s]\n",
      "6285it [00:01, 5031.64it/s]\n",
      "53158it [00:02, 21434.59it/s]\n",
      "95it [00:00, 2981.61it/s]\n",
      "788it [00:00, 10685.16it/s]\n",
      "24411it [00:02, 9046.48it/s]\n",
      "158it [00:00, 426.24it/s]\n",
      "1932it [00:00, 9903.60it/s]\n",
      "151it [00:00, 7941.37it/s]\n",
      "12000it [00:00, 55962.05it/s]\n",
      "37it [00:00, 9161.11it/s]\n",
      "10229it [00:00, 21560.40it/s]\n",
      "191248it [00:01, 97050.80it/s]\n",
      "6976it [00:01, 4244.50it/s]\n",
      "1160it [00:00, 11240.42it/s]\n",
      "1132it [00:00, 1222.23it/s]\n",
      "937it [00:00, 10482.82it/s]\n",
      "8457it [00:00, 16633.82it/s]\n",
      "16169it [00:01, 12365.46it/s]\n",
      "12914it [00:01, 11279.31it/s]\n",
      "1647it [00:00, 25514.38it/s]\n",
      "12it [00:00, 2588.41it/s]\n",
      "19992it [00:01, 13625.24it/s]\n",
      "56661it [00:03, 15513.50it/s]\n",
      "5747it [00:00, 17762.95it/s]\n",
      "7072it [00:04, 1707.58it/s]\n",
      "1252it [00:02, 580.42it/s]\n",
      "45326it [00:03, 14445.57it/s]\n",
      "3888it [00:00, 44025.18it/s]\n",
      "223it [00:00, 8460.77it/s]\n",
      "36468it [00:15, 2399.83it/s]\n",
      "6848it [00:00, 12247.59it/s]\n",
      "139it [00:00, 12591.70it/s]\n",
      "13145it [00:01, 12096.71it/s]\n",
      "13it [00:00, 4702.54it/s]\n",
      "42it [00:00, 14146.05it/s]\n",
      "3370it [00:00, 9757.37it/s]\n",
      "27178it [00:01, 14768.30it/s]\n",
      "8447it [00:00, 9639.30it/s]\n",
      "473it [00:00, 16907.33it/s]\n",
      "3502it [00:00, 6090.20it/s]\n",
      "70it [00:00, 15451.89it/s]\n",
      "1216it [00:00, 6261.07it/s]\n",
      "11076it [00:00, 18643.09it/s]\n",
      "391it [00:00, 9769.59it/s]\n",
      "22581it [00:01, 17087.95it/s]\n",
      "65it [00:00, 4103.21it/s]\n",
      "791574it [00:13, 57279.90it/s]\n",
      "8200it [00:00, 18083.48it/s]\n",
      "1938it [00:00, 18427.56it/s]\n",
      "8732it [00:00, 13397.66it/s]\n",
      "16443it [00:01, 12222.84it/s]\n",
      "58it [00:00, 9218.95it/s]\n",
      "100it [00:00, 8407.95it/s]\n",
      "2530it [00:00, 8088.47it/s]\n",
      "13105it [00:00, 13459.26it/s]\n",
      "7226it [00:00, 16568.75it/s]\n",
      "18860it [00:01, 13558.80it/s]\n",
      "11236it [00:00, 15344.24it/s]\n",
      "5103it [00:01, 3626.29it/s]\n",
      "51691it [00:02, 17489.07it/s]\n",
      "532it [00:00, 9975.14it/s]\n",
      "4921it [00:00, 6906.57it/s] \n",
      "3948it [00:04, 817.28it/s] \n",
      "28986it [00:03, 8794.63it/s] \n",
      "1627it [00:00, 32970.97it/s]\n",
      "6751it [00:00, 9907.91it/s] \n",
      "638it [00:00, 10180.97it/s]\n",
      "1884790it [00:28, 66576.13it/s]\n",
      "17918it [00:00, 19277.30it/s]\n",
      "1523it [00:00, 5875.97it/s]\n",
      "3442it [00:00, 17745.52it/s]\n",
      "23826it [00:03, 6058.61it/s] \n",
      "8593it [00:00, 88780.86it/s]\n",
      "3365it [00:00, 5354.51it/s]\n",
      "10565it [00:02, 3894.02it/s]\n",
      "130494it [00:07, 16879.88it/s]\n",
      "45577it [00:04, 9875.96it/s] \n",
      "1473823it [01:23, 17670.95it/s]\n",
      "43it [00:00, 10654.25it/s]\n",
      "7106it [00:00, 14828.79it/s]\n",
      "49it [00:00, 54688.90it/s]\n",
      "40it [00:00, 13335.36it/s]\n",
      "871it [00:00, 2634.74it/s]\n",
      "16144it [00:01, 14614.33it/s]\n",
      "28201it [00:04, 6309.11it/s]\n",
      "13202it [00:00, 17500.13it/s]\n",
      "9221it [00:00, 12231.27it/s]\n",
      "572it [00:00, 16276.73it/s]\n",
      "68it [00:00, 28632.94it/s]\n",
      "13529it [00:05, 2574.45it/s] \n",
      "1006it [00:00, 6235.93it/s]\n",
      "22491it [00:01, 13475.92it/s]\n",
      "5798716it [01:55, 50203.48it/s]\n",
      "6418it [00:00, 19051.57it/s]\n",
      "523it [00:00, 13016.82it/s]\n",
      "66212it [00:05, 12901.78it/s]\n",
      "2368it [00:00, 16863.38it/s]\n",
      "17893it [00:01, 13474.98it/s]\n",
      "5561it [00:00, 11716.22it/s]\n",
      "4702it [00:00, 11822.70it/s]\n",
      "2839348it [03:50, 12308.01it/s]\n",
      "3664it [00:00, 13496.62it/s]\n",
      "9359it [00:00, 12737.86it/s]\n",
      "1143it [00:00, 7418.66it/s]\n",
      "32085it [00:02, 13395.07it/s]\n",
      "9865it [00:00, 18014.42it/s]\n",
      "70it [00:00, 9258.66it/s]\n",
      "3819it [00:00, 8802.50it/s]\n",
      "6641it [00:04, 1452.38it/s]\n",
      "2132it [00:00, 27414.34it/s]\n",
      "89it [00:00, 45802.83it/s]\n",
      "10483it [00:01, 6831.44it/s]\n",
      "20320it [00:02, 7615.60it/s]\n",
      "367it [00:00, 837.41it/s]\n",
      "6204it [00:00, 9986.45it/s] \n",
      "14158it [00:01, 11214.73it/s]\n",
      "1619it [00:00, 88261.54it/s]\n",
      "2877it [00:00, 7087.13it/s]\n",
      "298it [00:00, 4038.03it/s]\n",
      "240it [00:00, 5246.71it/s]\n",
      "276it [00:00, 11330.08it/s]\n",
      "153it [00:00, 8374.92it/s]\n",
      "1092497it [00:13, 82864.27it/s]\n",
      "1245it [00:00, 12053.27it/s]\n",
      "348it [00:00, 8505.49it/s]\n",
      "547it [00:00, 4894.67it/s]\n",
      "726it [00:00, 9027.42it/s]\n",
      "36449it [00:08, 4529.76it/s] \n",
      "1140it [00:00, 7019.28it/s]\n",
      "22818it [00:01, 20085.33it/s]\n",
      "42143it [00:01, 22363.13it/s]\n",
      "1138it [00:00, 7455.03it/s]\n",
      "12172it [00:00, 17131.73it/s]\n",
      "1045it [00:00, 12191.32it/s]\n",
      "230208it [00:04, 46182.60it/s]\n",
      "22542it [00:03, 6473.61it/s]\n",
      "48401it [00:02, 21069.32it/s]\n",
      "31050it [00:02, 14483.42it/s]\n",
      "2it [00:00, 1660.78it/s]\n",
      "6400it [00:00, 12660.61it/s]\n",
      "297it [00:00, 10806.69it/s]\n",
      "51302it [00:03, 16949.04it/s]\n",
      "286it [00:00, 11099.23it/s]\n",
      "3071it [00:00, 28689.08it/s]\n",
      "13101it [00:00, 18365.17it/s]\n",
      "8504it [00:00, 11594.84it/s]\n",
      "629779it [00:21, 28809.98it/s]\n",
      "209173it [00:32, 6493.79it/s] \n",
      "216it [00:00, 11137.37it/s]\n",
      "1074it [00:02, 376.31it/s]\n",
      "1578it [00:00, 82488.27it/s]\n",
      "984it [00:00, 13216.84it/s]\n",
      "753it [00:00, 12309.70it/s]\n",
      "101it [00:00, 4275.88it/s]\n",
      "91it [00:00, 15502.91it/s]\n",
      "3578it [00:00, 17974.31it/s]\n",
      "4122it [00:00, 16963.06it/s]\n",
      "114it [00:00, 3684.46it/s]\n",
      "24it [00:00, 7968.91it/s]\n",
      "1333it [00:00, 11654.22it/s]\n",
      "64241it [00:04, 14898.93it/s]\n",
      "416it [00:00, 4523.15it/s]\n",
      "4591it [00:00, 9898.65it/s]\n",
      "300it [00:00, 10007.72it/s]\n",
      "48it [00:00, 9837.61it/s]\n",
      "25040it [00:01, 12900.55it/s]\n",
      "220it [00:00, 1515.41it/s]\n",
      "644it [00:00, 8748.49it/s]\n",
      "371844it [00:35, 10445.64it/s]\n",
      "404it [00:00, 3851.39it/s]\n",
      "373694it [00:35, 10447.36it/s]\n",
      "597it [00:00, 8071.72it/s]\n",
      "281536it [00:08, 34474.02it/s]\n",
      "11439it [00:00, 11641.01it/s]\n",
      "168it [00:00, 8248.96it/s]\n",
      "839it [00:00, 7085.37it/s]\n",
      "5550it [00:00, 45001.96it/s]\n",
      "3626it [00:00, 16529.48it/s]\n",
      "772it [00:00, 6838.95it/s]\n",
      "711it [00:00, 13507.71it/s]\n",
      "5407it [00:00, 15104.30it/s]\n",
      "82470it [00:04, 18574.23it/s]\n",
      "13321it [00:00, 15187.29it/s]\n",
      "7363it [00:00, 15962.94it/s]\n",
      "3834it [00:00, 13488.56it/s]\n",
      "65it [00:00, 6561.49it/s]\n",
      "25073it [00:01, 15411.68it/s]\n",
      "290it [00:00, 8366.74it/s]\n",
      "11314it [00:00, 42169.58it/s]\n",
      "942it [00:00, 17104.27it/s]\n",
      "56459it [00:13, 4116.78it/s]\n",
      "24096it [00:00, 279433.95it/s]\n",
      "15277it [00:03, 4891.74it/s]\n",
      "84it [00:00, 8514.30it/s]\n",
      "327it [00:00, 8566.11it/s]\n",
      "402it [00:00, 943.36it/s] \n"
     ]
    }
   ],
   "source": [
    "for f in online_articles:\n",
    "    with open(f) as fopen:\n",
    "        for l in tqdm(fopen):\n",
    "            try:\n",
    "                data = '<|startoftext|>' + json.loads(l) + '<|endoftext|>'\n",
    "                partitioned = partition(data)\n",
    "                for p in partitioned:\n",
    "                    data = {\n",
    "                        'text': p,\n",
    "                    }\n",
    "                    a.write(f'{json.dumps(data)}\\n')\n",
    "                    a.flush()\n",
    "            except:\n",
    "                pass"
   ]
  }
 ],
 "metadata": {
  "kernelspec": {
   "display_name": "Python 3 (ipykernel)",
   "language": "python",
   "name": "python3"
  },
  "language_info": {
   "codemirror_mode": {
    "name": "ipython",
    "version": 3
   },
   "file_extension": ".py",
   "mimetype": "text/x-python",
   "name": "python",
   "nbconvert_exporter": "python",
   "pygments_lexer": "ipython3",
   "version": "3.10.12"
  }
 },
 "nbformat": 4,
 "nbformat_minor": 5
}
