{
 "cells": [
  {
   "cell_type": "code",
   "execution_count": 1,
   "id": "d96b483b",
   "metadata": {},
   "outputs": [],
   "source": [
    "from glob import glob\n",
    "from streaming import MDSWriter\n",
    "from streaming import LocalDataset\n",
    "from transformers import default_data_collator, DataCollatorForLanguageModeling\n",
    "from tqdm import tqdm\n",
    "import numpy as np"
   ]
  },
  {
   "cell_type": "code",
   "execution_count": 2,
   "id": "4d99e5c2",
   "metadata": {},
   "outputs": [],
   "source": [
    "folders = sorted(glob('tokenized_indexes/tokenized-*'), key = lambda x: int(x.split('-')[-1]))"
   ]
  },
  {
   "cell_type": "code",
   "execution_count": 3,
   "id": "2170dc3b",
   "metadata": {},
   "outputs": [],
   "source": [
    "folders.extend(sorted(glob('tokenized_extra/tokenized-*'), key = lambda x: int(x.split('-')[-1])))"
   ]
  },
  {
   "cell_type": "code",
   "execution_count": 4,
   "id": "f7c7030c",
   "metadata": {},
   "outputs": [
    {
     "data": {
      "text/plain": [
       "['tokenized_indexes/tokenized-0',\n",
       " 'tokenized_indexes/tokenized-1',\n",
       " 'tokenized_indexes/tokenized-2',\n",
       " 'tokenized_indexes/tokenized-3',\n",
       " 'tokenized_indexes/tokenized-4',\n",
       " 'tokenized_indexes/tokenized-5',\n",
       " 'tokenized_indexes/tokenized-6',\n",
       " 'tokenized_indexes/tokenized-7',\n",
       " 'tokenized_indexes/tokenized-8',\n",
       " 'tokenized_indexes/tokenized-9',\n",
       " 'tokenized_indexes/tokenized-10',\n",
       " 'tokenized_indexes/tokenized-11',\n",
       " 'tokenized_indexes/tokenized-12',\n",
       " 'tokenized_extra/tokenized-0',\n",
       " 'tokenized_extra/tokenized-1',\n",
       " 'tokenized_extra/tokenized-2',\n",
       " 'tokenized_extra/tokenized-3',\n",
       " 'tokenized_extra/tokenized-4',\n",
       " 'tokenized_extra/tokenized-5',\n",
       " 'tokenized_extra/tokenized-6',\n",
       " 'tokenized_extra/tokenized-7',\n",
       " 'tokenized_extra/tokenized-8',\n",
       " 'tokenized_extra/tokenized-9',\n",
       " 'tokenized_extra/tokenized-10',\n",
       " 'tokenized_extra/tokenized-11',\n",
       " 'tokenized_extra/tokenized-12']"
      ]
     },
     "execution_count": 4,
     "metadata": {},
     "output_type": "execute_result"
    }
   ],
   "source": [
    "folders"
   ]
  },
  {
   "cell_type": "code",
   "execution_count": 4,
   "id": "5befb4ac",
   "metadata": {},
   "outputs": [],
   "source": [
    "from streaming.base.format.mds.encodings import Encoding, _encodings\n",
    "\n",
    "class UInt16(Encoding):\n",
    "    def encode(self, obj) -> bytes:\n",
    "        return obj.tobytes()\n",
    "\n",
    "    def decode(self, data: bytes):\n",
    "        return np.frombuffer(data, np.uint16)\n",
    "\n",
    "_encodings['uint16'] = UInt16"
   ]
  },
  {
   "cell_type": "code",
   "execution_count": 5,
   "id": "022ec356",
   "metadata": {},
   "outputs": [],
   "source": [
    "columns = {\n",
    "    'input_ids': 'uint16',\n",
    "}\n",
    "\n",
    "compression = 'zstd'\n",
    "hashes = 'sha1', 'xxh64'"
   ]
  },
  {
   "cell_type": "code",
   "execution_count": 6,
   "id": "8e48d7c1",
   "metadata": {},
   "outputs": [],
   "source": [
    "!rm -rf combine-all"
   ]
  },
  {
   "cell_type": "code",
   "execution_count": 7,
   "id": "a7705aec",
   "metadata": {},
   "outputs": [],
   "source": [
    "dataset = LocalDataset(local=folders[0])"
   ]
  },
  {
   "cell_type": "code",
   "execution_count": 8,
   "id": "fee57eaa",
   "metadata": {},
   "outputs": [
    {
     "name": "stderr",
     "output_type": "stream",
     "text": [
      "100%|██████████| 910600/910600 [00:44<00:00, 20382.38it/s]\n",
      "100%|██████████| 78209/78209 [00:08<00:00, 9061.67it/s] \n",
      "100%|██████████| 79160/79160 [00:03<00:00, 23297.82it/s]\n",
      "100%|██████████| 79268/79268 [00:10<00:00, 7812.87it/s] \n",
      "100%|██████████| 79486/79486 [00:03<00:00, 24253.02it/s]\n",
      "100%|██████████| 79563/79563 [00:11<00:00, 7141.72it/s] \n",
      "100%|██████████| 79588/79588 [00:04<00:00, 17337.33it/s]\n",
      "100%|██████████| 79360/79360 [00:11<00:00, 6888.19it/s] \n",
      "100%|██████████| 212948/212948 [00:15<00:00, 13356.01it/s]\n",
      "100%|██████████| 426352/426352 [00:37<00:00, 11468.45it/s]\n",
      "100%|██████████| 105709/105709 [00:06<00:00, 17269.23it/s]\n",
      "100%|██████████| 527994/527994 [00:34<00:00, 15209.52it/s]\n",
      "100%|██████████| 400576/400576 [00:34<00:00, 11623.75it/s]\n",
      "100%|██████████| 24698/24698 [00:02<00:00, 8606.91it/s] \n",
      "100%|██████████| 23515/23515 [00:01<00:00, 23097.02it/s]\n",
      "100%|██████████| 23345/23345 [00:03<00:00, 6131.03it/s] \n",
      "100%|██████████| 23544/23544 [00:01<00:00, 23340.43it/s]\n",
      "100%|██████████| 23196/23196 [00:01<00:00, 23062.50it/s]\n",
      "100%|██████████| 23386/23386 [00:00<00:00, 26357.11it/s]\n",
      "100%|██████████| 23588/23588 [00:01<00:00, 23500.16it/s]\n",
      "100%|██████████| 23687/23687 [00:06<00:00, 3559.75it/s]\n",
      "100%|██████████| 23504/23504 [00:01<00:00, 23321.84it/s]\n",
      "100%|██████████| 23404/23404 [00:04<00:00, 5541.95it/s] \n",
      "100%|██████████| 23537/23537 [00:02<00:00, 9690.31it/s] \n",
      "100%|██████████| 27175/27175 [00:01<00:00, 24257.31it/s]\n",
      "100%|██████████| 20637/20637 [00:00<00:00, 22289.75it/s]\n"
     ]
    }
   ],
   "source": [
    "with MDSWriter(out='combine-all', columns=columns, compression=None, hashes=hashes) as out:\n",
    "    for f in folders:\n",
    "        try:\n",
    "            dataset = LocalDataset(local=f)\n",
    "            for i in tqdm(range(len(dataset))):\n",
    "                out.write(dataset[i])\n",
    "        except Exception as e:\n",
    "            print(e)\n",
    "            pass"
   ]
  },
  {
   "cell_type": "code",
   "execution_count": 12,
   "id": "769f3d3c",
   "metadata": {},
   "outputs": [],
   "source": [
    "dataset = LocalDataset(local='combine-all')"
   ]
  },
  {
   "cell_type": "code",
   "execution_count": 13,
   "id": "605db1d5",
   "metadata": {
    "scrolled": true
   },
   "outputs": [
    {
     "data": {
      "text/plain": [
       "14114934784"
      ]
     },
     "execution_count": 13,
     "metadata": {},
     "output_type": "execute_result"
    }
   ],
   "source": [
    "len(dataset) * 4096"
   ]
  }
 ],
 "metadata": {
  "kernelspec": {
   "display_name": "Python 3 (ipykernel)",
   "language": "python",
   "name": "python3"
  },
  "language_info": {
   "codemirror_mode": {
    "name": "ipython",
    "version": 3
   },
   "file_extension": ".py",
   "mimetype": "text/x-python",
   "name": "python",
   "nbconvert_exporter": "python",
   "pygments_lexer": "ipython3",
   "version": "3.10.12"
  }
 },
 "nbformat": 4,
 "nbformat_minor": 5
}
